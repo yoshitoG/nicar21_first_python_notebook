{
  "nbformat": 4,
  "nbformat_minor": 0,
  "metadata": {
    "colab": {
      "name": "【課外補講0710】ワクチン接種と新規感染者数の関係を見たい.ipynb",
      "provenance": [],
      "collapsed_sections": [],
      "authorship_tag": "ABX9TyNDsz7SY66gQjiUL5oIHzGn",
      "include_colab_link": true
    },
    "kernelspec": {
      "name": "ir",
      "display_name": "R"
    },
    "language_info": {
      "name": "R"
    }
  },
  "cells": [
    {
      "cell_type": "markdown",
      "metadata": {
        "id": "view-in-github",
        "colab_type": "text"
      },
      "source": [
        "<a href=\"https://colab.research.google.com/github/yoshitoG/nicar21_first_python_notebook/blob/main/%E3%80%90%E8%AA%B2%E5%A4%96%E8%A3%9C%E8%AC%9B0710%E3%80%91%E3%83%AF%E3%82%AF%E3%83%81%E3%83%B3%E6%8E%A5%E7%A8%AE%E3%81%A8%E6%96%B0%E8%A6%8F%E6%84%9F%E6%9F%93%E8%80%85%E6%95%B0%E3%81%AE%E9%96%A2%E4%BF%82%E3%82%92%E8%A6%8B%E3%81%9F%E3%81%84.ipynb\" target=\"_parent\"><img src=\"https://colab.research.google.com/assets/colab-badge.svg\" alt=\"Open In Colab\"/></a>"
      ]
    },
    {
      "cell_type": "markdown",
      "metadata": {
        "id": "akhZOL3DSEcy"
      },
      "source": [
        "# 新型コロナワクチン接種と、感染者数の関係を見たい\n",
        "### Google Colab で「R」を試す\n",
        "\n",
        "小宮山さんや山本さんの講義の補足。終了後にゆっくり目を通していただければ十分です。Slackのinformationチャンネルに松波さんが投稿している、tidyverseの基本の[解説](https://jnpcitseminar.slack.com/files/UGX4CGHNZ/F026EJU680M/memo_for_r_beginners.rmd)へのつなぎ、だと思って下さい。\n",
        "\n",
        "このノートのコードは、PythonではなくRです。なお、Google Colabolatory で実行環境をRにしたノートを新規作成するには、[こちらのリンク](https://colab.research.google.com/notebook#create=true&language=r)を使うのが手っ取り早い方法です。\n",
        "\n",
        "Colabで見ていただいている方は、上のメニュー欄の「ファイル」から「ドライブにコピーを保存」を選んだ後、ご自身の環境で実際に動かして試してみて下さい。\n",
        "\n",
        "お急ぎの方は、２の「その前に」は飛ばして、３の「使い始めの設定」から実行して下さい。コードはローカルでも動きます。"
      ]
    },
    {
      "cell_type": "markdown",
      "metadata": {
        "id": "DspTqHrITESY"
      },
      "source": [
        "## 1.何をやるか"
      ]
    },
    {
      "cell_type": "markdown",
      "metadata": {
        "id": "XdZUY4rMUIft"
      },
      "source": [
        "### 1.1. 時系列で可視化したい\n",
        "\n",
        "[政府CIOポータル](https://cio.go.jp/c19vaccine_dashboard)から、COVID-19のワクチン接種状況のデータを取ってくるところまでは、同じです。さらに、別の場所から、感染状況のデータを取ってきて、両者の関係を見てみることにします。感染状況は、[内閣官房「新型コロナウイルス感染症対策」](https://corona.go.jp/dashboard/)のデータのページにまとまっています。\n",
        "\n",
        "ざっと作っただけですが、[こちら](https://bit.ly/JNPC210710)のように、時間の経過でどう変化しているかを可視化する、という想定で、データを加工していきましょう。接種のほうは件数の累計が、感染者数のほうは新規の移動平均が、最終的にほしいデータです。\n",
        "\n",
        "なお、可視化に使ったのは、[Flourish](https://flourish.studio/)です。Flourishについては説明しません。"
      ]
    },
    {
      "cell_type": "markdown",
      "metadata": {
        "id": "7wWO3YHlToA1"
      },
      "source": [
        "### 1.2. 気になる点\n",
        "\n",
        "データの概要を見てみましょう。接種状況のほうは、**その日その日の件数**です。都道府県別になっています。\n",
        "\n",
        "一方、感染状況は、**累積の感染者数**ですね。こちらも都道府県別になっている（全国計のデータは別になっている）のですが、**自治体名ではなくて数字**が並んでいます。\n",
        "\n",
        "ちなみに、接種完了の人のstatusは単に「2」とされていて、2回必要なうち2回目まで受けたのか、1回だけでよいワクチンなのかが、区別できません。ワクチンの効果を今後、検証していくためには、「1回で完了」「2回目中の1回目＝途中」「2回目中の2回目＝完了」の区別がつくよう、「1-1」「2-1」「2-2」のような区分にしておいてほしかったところです。もしかしたら、変更になるかもしれませんけれど。\n",
        "\n",
        "<font color=\"gray\">\n",
        "現状では1回完了型は日本では接種できないと思います（違っていたらごめんなさい）が、仕様を見ると、1回完了型の場合もstatusは2とするようです。\n",
        "</font>\n",
        "\n",
        "ワクチンの製造元別に数字が分かれば、なおよいですよね。\n",
        "\n",
        "データをもらいっぱなしにするのではなく、使う側として、声を上げていかなくてはいけない部分だと思います。"
      ]
    },
    {
      "cell_type": "markdown",
      "metadata": {
        "id": "HVOleZYrVJG3"
      },
      "source": [
        "## 2.その前に"
      ]
    },
    {
      "cell_type": "markdown",
      "metadata": {
        "id": "NVJbsEoDVLq3"
      },
      "source": [
        "\n",
        "### 2.1. わざわざプログラムを書く理由\n",
        "\n",
        "ExcelやGoogleスプレッドシートがあるのに、どうしてプログラムを書くのか。一番の理由は、プログラムに書いておけば、**繰り返し使えて、再現可能性が高い**から、です。\n",
        "\n",
        "Excelに代表される表計算ソフトは、優れた発明です。試行錯誤しながら処理していくのにも、向いています。しかし、たとえて言うなら「食材」（データ）と「レシピ」（処理）が渾然一体となっているという欠点があります。自分が作ったものでも、どこにどんな式を入れたのだったか、分からなくなってしまうことが、よくあります。\n",
        "\n",
        "RやPythonのプログラムであれば、データと処理が分離されています。その分、見通しがよく、何をやろうとしているかが分かる、ということになります。なので、必要な手直しもしやすいし、データが更新されても同じ処理が適用できると分かれば、同じプログラムを再度走らせて、最新の結果を得ることもできます。"
      ]
    },
    {
      "cell_type": "markdown",
      "metadata": {
        "id": "CJ4MiG3kWNJB"
      },
      "source": [
        "### 2.2. プログラムは人生ゲーム\n",
        "\n",
        "暗号のように見えるプログラムですが、一部分を取り出して見てみれば、やっていることはシンプルです。「人生ゲーム」のように、道に枝分かれのある双六みたいなものです。\n",
        "\n",
        "* 変数と計算　　　手持ち資金や、車に乗っている人数など、今の状態を記憶させおく「変数（入れ物）」を使って、計算をする\n",
        "* 条件判定と分岐　分かれ道。何かを調べて、処理方法を変える。ルーレットを回すように、乱数でランダムに決めることも（サンプリングなど）\n",
        "* 繰り返し　　　　必要なだけ反復処理する。PCは疲れません\n",
        "\n",
        "途中の道順やスピードはさまざまでも、最終目的地にたどり着けるなら、プログラムとしては役に立ちます。手直しのしやすさや、効率に差はあるにしても。\n",
        "\n",
        "傾向として、Rは書く人によって、プログラムが大きく異なります。選べる道が多いのはよいけれど、その分、迷いやすい。Pythonは、誰が書いても、似たプログラムになります。主要道があらかじめ整備されているかわり、そこしか通れない（抜け道はあまりない）感じで、これは大きなメリットです。"
      ]
    },
    {
      "cell_type": "markdown",
      "metadata": {
        "id": "9Z77lDh_WwyV"
      },
      "source": [
        "### 2.3. プログラムのお約束\n",
        "\n",
        "変数に何かを入れて、覚えておいてもらうことを、代入といいます。これに使う記号が、歴史的経緯で「=」なのです（Rでは「<-」も使えます）。分かりにくいのですが、イコールではなく、**右辺のものを左辺の変数に入れる**、という指示になります。"
      ]
    },
    {
      "cell_type": "code",
      "metadata": {
        "colab": {
          "base_uri": "https://localhost:8080/"
        },
        "id": "JQ2BQAfZW-jZ",
        "outputId": "f6a54c80-f656-431b-8b79-349f93fa89fa"
      },
      "source": [
        "born = 1984         # 1984年生まれの人が\n",
        "age  = 37           # 誕生日を迎えて37歳だとすると\n",
        "now  = born + age   # 今は何年？\n",
        "print(now)"
      ],
      "execution_count": 1,
      "outputs": [
        {
          "output_type": "stream",
          "text": [
            "[1] 2021\n"
          ],
          "name": "stdout"
        }
      ]
    },
    {
      "cell_type": "markdown",
      "metadata": {
        "id": "d0aLcWv9Xxyn"
      },
      "source": [
        "変数やデータには型があって、引用符で囲んでないものは数値または変数の中身、引用符に囲まれているものは「そのままの文字列（リテラル）」です。1984は数値、\"1984\"は文字列です。"
      ]
    },
    {
      "cell_type": "code",
      "metadata": {
        "id": "fTQH0iRmX5o8"
      },
      "source": [
        "born2 = \"1984\"\n",
        "age2  = \"37\"\n",
        "\n",
        "# エラーで止まらないようにしたければ、次のセルの冒頭に「#」を入れる。\n",
        "# print(born2 + age2)\n",
        "# のように、注釈にすること"
      ],
      "execution_count": 2,
      "outputs": []
    },
    {
      "cell_type": "code",
      "metadata": {
        "id": "zY9pbVGRYA6Q"
      },
      "source": [
        "# print(born2 + age2)"
      ],
      "execution_count": 3,
      "outputs": []
    },
    {
      "cell_type": "markdown",
      "metadata": {
        "id": "FU7yN35HYJSG"
      },
      "source": [
        "Rは「文字列の足し算はできません」と、エラーメッセージで教えてくれました。このあたりの挙動は、言語の設計によって違います。エラーしないで、計算結果が\"198437\"という文字列になるプログラム言語もあります。"
      ]
    },
    {
      "cell_type": "code",
      "metadata": {
        "colab": {
          "base_uri": "https://localhost:8080/"
        },
        "id": "qVjY-JbbYnsJ",
        "outputId": "7fae6338-5d8a-408f-9110-0af9744e6b1e"
      },
      "source": [
        "# ある変数を最初に0にしておき\n",
        "counter = 0\n",
        "print(counter)\n",
        "# 繰り返し処理をするごとに1を足すなら\n",
        "counter = counter + 1\n",
        "print(counter)\n",
        "# カウンターとして使える"
      ],
      "execution_count": 4,
      "outputs": [
        {
          "output_type": "stream",
          "text": [
            "[1] 0\n",
            "[1] 1\n"
          ],
          "name": "stdout"
        }
      ]
    },
    {
      "cell_type": "markdown",
      "metadata": {
        "id": "SeFDOfSYYRZA"
      },
      "source": [
        "このコードのしていること、想像がつきますか？　ある数「counter」に１を足したら自分自身に等しくなる、という**不能方程式ではありません**。これは、行番号5のところで、指を折るようにして回数を記録していく「カウンター」です。\n",
        "\n",
        "では、「イコール」の意味のときはどう書くか。「==」と重ねて使います。"
      ]
    },
    {
      "cell_type": "code",
      "metadata": {
        "colab": {
          "base_uri": "https://localhost:8080/",
          "height": 35
        },
        "id": "HM4D6R_hY9PU",
        "outputId": "5dd1748c-37af-4334-c6fd-6f66d06f728a"
      },
      "source": [
        "born == age"
      ],
      "execution_count": 5,
      "outputs": [
        {
          "output_type": "display_data",
          "data": {
            "text/plain": [
              "[1] FALSE"
            ],
            "text/latex": "FALSE",
            "text/markdown": "FALSE",
            "text/html": [
              "FALSE"
            ]
          },
          "metadata": {
            "tags": []
          }
        }
      ]
    },
    {
      "cell_type": "markdown",
      "metadata": {
        "id": "zseSrGC3ZDUC"
      },
      "source": [
        "1985と37は等しくありませんよね。\n",
        "\n",
        "ここでうっかり、等号ひとつだけを使ってしまうと、どうなるでしょう？"
      ]
    },
    {
      "cell_type": "code",
      "metadata": {
        "colab": {
          "base_uri": "https://localhost:8080/"
        },
        "id": "jXFT-lzmZRjz",
        "outputId": "4a7f0ec8-995b-4ec7-84b8-cbddd7a399f5"
      },
      "source": [
        "born = age\n",
        "print(born)"
      ],
      "execution_count": 6,
      "outputs": [
        {
          "output_type": "stream",
          "text": [
            "[1] 37\n"
          ],
          "name": "stdout"
        }
      ]
    },
    {
      "cell_type": "markdown",
      "metadata": {
        "id": "cCNS_q6IZZB1"
      },
      "source": [
        "変数bornに、変数ageの中身である37が代入されてしまいました。\n",
        "\n",
        "では、これはどうなるでしょう？"
      ]
    },
    {
      "cell_type": "code",
      "metadata": {
        "colab": {
          "base_uri": "https://localhost:8080/",
          "height": 71
        },
        "id": "0puXBm5hZdmY",
        "outputId": "62b355d5-0576-4052-9501-133335ce2d7d"
      },
      "source": [
        "print(age)  # こちらは数値。\n",
        "print(age2) # 引用符がついているのは、数値でなく文字列だから。\n",
        "age == age2"
      ],
      "execution_count": 7,
      "outputs": [
        {
          "output_type": "stream",
          "text": [
            "[1] 37\n",
            "[1] \"37\"\n"
          ],
          "name": "stdout"
        },
        {
          "output_type": "display_data",
          "data": {
            "text/plain": [
              "[1] TRUE"
            ],
            "text/latex": "TRUE",
            "text/markdown": "TRUE",
            "text/html": [
              "TRUE"
            ]
          },
          "metadata": {
            "tags": []
          }
        }
      ]
    },
    {
      "cell_type": "markdown",
      "metadata": {
        "id": "EIZIZ3nPZl5Z"
      },
      "source": [
        "片方は数値、片方は文字列なのに、「等しい」と判定されました。これは、Rの仕様のようですが、善し悪しですね。\n",
        "\n",
        "見た目は一緒でも、型が違えば「等しくない」と厳密に判定する記号「===」が使える言語もあります。気を利かせて型を変換してしまう言語もあります。"
      ]
    },
    {
      "cell_type": "markdown",
      "metadata": {
        "id": "KVHJqUXeaXMX"
      },
      "source": [
        "### 2.4. ファンクション（関数）とは\n",
        "\n",
        "関数、という名前がものものしく、数学を連想させるせいで身構えてしまいますが、要するに「ファンクション」とは機能のことです。パソコンについている「F1」キーを「関数キー」だと思う人はいませんよね。ヘルプを表示する、という働きをひとまとめにして、このキーに対応させているだけです。ある「働き」とか「機能」「処理」だと考えて下さい。\n",
        "\n",
        "<font color = 'gray'>\n",
        "※函数や関数も名訳だし、プログラムに当てはめても、別におかしくはありませんので、アレルギーのない方は無視して下さい。\n",
        "</font>\n",
        "\n",
        "さて、Mというデータを、まずAという処理をして、次にBする場合、数学的あるいはExcel的な書き方では、こうなります。中から外へ、処理が実行されます。\n",
        "\n",
        "```\n",
        "B(A(M))\n",
        "```\n",
        "\n",
        "PythonやRでは、上の書き方も使えますが、Rで標準的なのは\n",
        "\n",
        "```\n",
        "M %>% A() %>% B()\n",
        "```\n",
        "\n",
        "です。()の中に、一つ前の結果を入れていくわけです。左から右へ読んでいけば、そのまま処理の順番になりますね。見慣れない記号は、「パイプ」といいます。RStudioを使っていれば、簡単に入力できます。\n",
        "\n",
        "```\n",
        "M %>%\n",
        "A() %>%\n",
        "B()\n",
        "```\n",
        "\n",
        "のように改行して書いてあっても、その間に注釈（人間用のメモ。PCは実行せずに飛ばします）が書いてあっても、同じように動きます。\n",
        "\n",
        "Rの場合、これまでも出てきているように、「#」から行末までが注釈として扱われます。"
      ]
    },
    {
      "cell_type": "markdown",
      "metadata": {
        "id": "VqUHa1u1bMb1"
      },
      "source": [
        "### 2.5. 拡張パッケージ\n",
        "\n",
        "本日、RやPythonを使うときに、「tidyverse」とか「pandas」という拡張パッケージを入れていました。私も、わざわざどうして？と、初めてRに触ったときは不思議でした。\n",
        "\n",
        "理由は後から分かってきたのですが、いまやこのどちらも、スプレッドシートやデータベース的なこと（データ処理や科学技術計算）をやるときには、必需品だから、です。\n",
        "\n",
        "乱暴に言えば、素のままのRやPythonを、表形式のデータを一貫した覚えやすいコードで扱えるよう、チューニングしている、ということです。今から勉強する人は、わざわざ旧式の、分かりにくい処理を覚える必要はありませんから、この２つに慣れて下さい。素のままでなくて、こちらのほうが、デファクトスタンダードです。"
      ]
    },
    {
      "cell_type": "markdown",
      "metadata": {
        "id": "8Zo8s1d4bT-X"
      },
      "source": [
        "## 3.使い始めの設定\n",
        "\n",
        "素のままのRに入っていない拡張パッケージを入れます。一度だけ`install.packages`でインストールし、あとは`library`または`require`で呼び込むのが普通の書き方です。\n",
        "\n",
        "ただし今は、Google Colab上なので、何度も読み込みが発生しないよう、ちょっと工夫しました。\n",
        "\n",
        "JSONデータの読み込みのほか、移動平均を計算したり、日付を扱ったりするためのパッケージ追加しています。"
      ]
    },
    {
      "cell_type": "code",
      "metadata": {
        "colab": {
          "base_uri": "https://localhost:8080/"
        },
        "id": "Z8DgddqybSnj",
        "outputId": "743c8f7f-6c78-4edf-876f-0fdcd8c3bfcf"
      },
      "source": [
        "# 毎回、全パッケージをインストールすると時間がかかる上、プログラムも長くなるので、工夫した書き方がこちら。特殊なので、覚える必要はない。\n",
        "# ローカルなら、インストールは一度だけ。オンラインでも、セッションが継続していたら、不要。なので……\n",
        "# pacmanパッケージが入ってなかったら、まずそれだけ入れる。この下、行番号4のコードは、「p_boot」を実行して、クリップボードから貼り付けられる。\n",
        "if (!require(\"pacman\")) install.packages(\"pacman\")\n",
        "# あとはpacmanにやらせる。ちなみに、名前は「パッケージマネージャー」の意。これを入れてもゲームはできない。\n",
        "pacman::p_load(tidyverse, jsonlite, ndjson, lubridate, RcppRoll)"
      ],
      "execution_count": 8,
      "outputs": [
        {
          "output_type": "stream",
          "text": [
            "Loading required package: pacman\n",
            "\n",
            "Warning message in library(package, lib.loc = lib.loc, character.only = TRUE, logical.return = TRUE, :\n",
            "“there is no package called ‘pacman’”\n",
            "Installing package into ‘/usr/local/lib/R/site-library’\n",
            "(as ‘lib’ is unspecified)\n",
            "\n",
            "Installing package into ‘/usr/local/lib/R/site-library’\n",
            "(as ‘lib’ is unspecified)\n",
            "\n",
            "\n",
            "ndjson installed\n",
            "\n",
            "Installing package into ‘/usr/local/lib/R/site-library’\n",
            "(as ‘lib’ is unspecified)\n",
            "\n",
            "\n",
            "RcppRoll installed\n",
            "\n"
          ],
          "name": "stderr"
        }
      ]
    },
    {
      "cell_type": "markdown",
      "metadata": {
        "id": "qQDahEPQcyvq"
      },
      "source": [
        "## 4.接種状況"
      ]
    },
    {
      "cell_type": "markdown",
      "metadata": {
        "id": "-Op4gGCzc0l5"
      },
      "source": [
        "### 4.1. データを読み込む\n",
        "\n",
        "ワクチン接種状況のデータを読み込みます。ここは、小宮山さんの講義の通りのやり方です。"
      ]
    },
    {
      "cell_type": "code",
      "metadata": {
        "colab": {
          "base_uri": "https://localhost:8080/",
          "height": 412
        },
        "id": "PoHQxojedOcy",
        "outputId": "60984c75-408b-4855-8073-da8a0907e630"
      },
      "source": [
        "# データのありかは以下。\n",
        "target_url_cio <- \"https://vrs-data.cio.go.jp/vaccination/opendata/latest/prefecture.ndjson\"\n",
        "# 有効なndjson形式かを確かめる。ここで使うvalidateは、ndjsonパッケージのほう。\n",
        "# 読み込みに使うjsonliteにも同名の「validate」があり、衝突するので、パッケージ名を明示する。\n",
        "ndjson::validate(target_url_cio, verbose = TRUE)\n",
        "# それを読み込む。\n",
        "cio_stream <- jsonlite::stream_in(gzcon(url(target_url_cio)))\n",
        "# 冒頭を表示して確かめる。\n",
        "head(cio_stream)"
      ],
      "execution_count": 9,
      "outputs": [
        {
          "output_type": "stream",
          "text": [
            "File: https://vrs-data.cio.go.jp/vaccination/opendata/latest/prefecture.ndjson\n"
          ],
          "name": "stdout"
        },
        {
          "output_type": "display_data",
          "data": {
            "text/plain": [
              "[1] TRUE"
            ],
            "text/latex": "TRUE",
            "text/markdown": "TRUE",
            "text/html": [
              "TRUE"
            ]
          },
          "metadata": {
            "tags": []
          }
        },
        {
          "output_type": "stream",
          "text": [
            "opening gzcon input connection.\n",
            "\n"
          ],
          "name": "stderr"
        },
        {
          "output_type": "stream",
          "text": [
            "\r Found 500 records...\r Found 1000 records...\r Found 1500 records...\r Found 2000 records...\r Found 2500 records...\r Found 3000 records...\r Found 3500 records...\r Found 4000 records...\r Found 4500 records...\r Found 5000 records...\r Found 5500 records...\r Found 6000 records...\r Found 6500 records...\r Found 7000 records...\r Found 7500 records...\r Found 8000 records...\r Found 8500 records...\r Found 9000 records...\r Found 9500 records...\r Found 10000 records...\r Found 10500 records...\r Found 11000 records...\r Found 11500 records...\r Found 12000 records...\r Found 12500 records...\r Found 13000 records...\r Found 13500 records...\r Found 14000 records...\r Found 14500 records...\r Found 15000 records...\r Found 15500 records...\r Found 16000 records...\r Found 16500 records...\r Found 17000 records...\r Found 17500 records...\r Found 18000 records...\r Found 18500 records...\r Found 19000 records...\r Found 19500 records...\r Found 20000 records...\r Found 20500 records...\r Found 21000 records...\r Found 21500 records...\r Found 22000 records...\r Found 22500 records...\r Found 23000 records...\r Found 23500 records...\r Found 24000 records...\r Found 24500 records...\r Found 25000 records...\r Found 25500 records...\r Found 26000 records...\r Found 26500 records...\r Found 27000 records...\r Found 27500 records...\r Found 28000 records...\r Found 28500 records...\r Found 29000 records...\r Found 29500 records...\r Found 30000 records...\r Found 30500 records...\r Found 31000 records...\r Found 31500 records...\r Found 32000 records...\r Found 32500 records...\r Found 33000 records...\r Found 33500 records...\r Found 34000 records...\r Found 34500 records...\r Found 35000 records...\r Found 35263 records...\r Imported 35263 records. Simplifying...\n"
          ],
          "name": "stdout"
        },
        {
          "output_type": "stream",
          "text": [
            "closing gzcon input connection.\n",
            "\n"
          ],
          "name": "stderr"
        },
        {
          "output_type": "display_data",
          "data": {
            "text/plain": [
              "  date       prefecture gender age medical_worker status count\n",
              "1 2021-04-12 01         F      -64 FALSE          1      113  \n",
              "2 2021-04-12 01         F      65- FALSE          1       88  \n",
              "3 2021-04-12 01         M      -64 FALSE          1       39  \n",
              "4 2021-04-12 01         M      65- FALSE          1       26  \n",
              "5 2021-04-12 01         U      -64 FALSE          1       12  \n",
              "6 2021-04-12 01         U      UNK FALSE          1        1  "
            ],
            "text/latex": "A data.frame: 6 × 7\n\\begin{tabular}{r|lllllll}\n  & date & prefecture & gender & age & medical\\_worker & status & count\\\\\n  & <chr> & <chr> & <chr> & <chr> & <lgl> & <int> & <int>\\\\\n\\hline\n\t1 & 2021-04-12 & 01 & F & -64 & FALSE & 1 & 113\\\\\n\t2 & 2021-04-12 & 01 & F & 65- & FALSE & 1 &  88\\\\\n\t3 & 2021-04-12 & 01 & M & -64 & FALSE & 1 &  39\\\\\n\t4 & 2021-04-12 & 01 & M & 65- & FALSE & 1 &  26\\\\\n\t5 & 2021-04-12 & 01 & U & -64 & FALSE & 1 &  12\\\\\n\t6 & 2021-04-12 & 01 & U & UNK & FALSE & 1 &   1\\\\\n\\end{tabular}\n",
            "text/markdown": "\nA data.frame: 6 × 7\n\n| <!--/--> | date &lt;chr&gt; | prefecture &lt;chr&gt; | gender &lt;chr&gt; | age &lt;chr&gt; | medical_worker &lt;lgl&gt; | status &lt;int&gt; | count &lt;int&gt; |\n|---|---|---|---|---|---|---|---|\n| 1 | 2021-04-12 | 01 | F | -64 | FALSE | 1 | 113 |\n| 2 | 2021-04-12 | 01 | F | 65- | FALSE | 1 |  88 |\n| 3 | 2021-04-12 | 01 | M | -64 | FALSE | 1 |  39 |\n| 4 | 2021-04-12 | 01 | M | 65- | FALSE | 1 |  26 |\n| 5 | 2021-04-12 | 01 | U | -64 | FALSE | 1 |  12 |\n| 6 | 2021-04-12 | 01 | U | UNK | FALSE | 1 |   1 |\n\n",
            "text/html": [
              "<table class=\"dataframe\">\n",
              "<caption>A data.frame: 6 × 7</caption>\n",
              "<thead>\n",
              "\t<tr><th></th><th scope=col>date</th><th scope=col>prefecture</th><th scope=col>gender</th><th scope=col>age</th><th scope=col>medical_worker</th><th scope=col>status</th><th scope=col>count</th></tr>\n",
              "\t<tr><th></th><th scope=col>&lt;chr&gt;</th><th scope=col>&lt;chr&gt;</th><th scope=col>&lt;chr&gt;</th><th scope=col>&lt;chr&gt;</th><th scope=col>&lt;lgl&gt;</th><th scope=col>&lt;int&gt;</th><th scope=col>&lt;int&gt;</th></tr>\n",
              "</thead>\n",
              "<tbody>\n",
              "\t<tr><th scope=row>1</th><td>2021-04-12</td><td>01</td><td>F</td><td>-64</td><td>FALSE</td><td>1</td><td>113</td></tr>\n",
              "\t<tr><th scope=row>2</th><td>2021-04-12</td><td>01</td><td>F</td><td>65-</td><td>FALSE</td><td>1</td><td> 88</td></tr>\n",
              "\t<tr><th scope=row>3</th><td>2021-04-12</td><td>01</td><td>M</td><td>-64</td><td>FALSE</td><td>1</td><td> 39</td></tr>\n",
              "\t<tr><th scope=row>4</th><td>2021-04-12</td><td>01</td><td>M</td><td>65-</td><td>FALSE</td><td>1</td><td> 26</td></tr>\n",
              "\t<tr><th scope=row>5</th><td>2021-04-12</td><td>01</td><td>U</td><td>-64</td><td>FALSE</td><td>1</td><td> 12</td></tr>\n",
              "\t<tr><th scope=row>6</th><td>2021-04-12</td><td>01</td><td>U</td><td>UNK</td><td>FALSE</td><td>1</td><td>  1</td></tr>\n",
              "</tbody>\n",
              "</table>\n"
            ]
          },
          "metadata": {
            "tags": []
          }
        }
      ]
    },
    {
      "cell_type": "markdown",
      "metadata": {
        "id": "N8O_rn-wddcV"
      },
      "source": [
        "### 4.2. 型を変換する\n",
        "\n",
        "スプレッドシートと同様の二次元の表形式。Rにはこれが2種類あります。従来型の「data.frame」になっているので、現在の主流で使いやすい「tibble」に直します。\n",
        "\n",
        "tibbleやfata.frameには、縦のカラムは、異なる型のデータが混在してはいけない（１列全部、同じデータ型でないといけない）、という大事な制約があります。\n",
        "\n",
        "縦と横は、表計算ソフトではあまり気にしない点かもしれません。しかし、RやPythonでデータ処理をする際には、縦には型が揃っている、という点はとても重要です。対して、横に見ていくならば、ある１つのモノ・コトについてのさまざまな側面が分かる、という構造です。\n",
        "\n",
        "<font color = 'gray'>\n",
        "※底流には、タイプライター以来の横書きのカルチャーがありそうです。\n",
        "</font>\n",
        "\n",
        "型は、この上の表の見出し部分、カラム名の下に表示されています。例えば、＜CHR＞は文字列型、＜lgl＞は真と偽の二値を取る論理型です。\n",
        "\n",
        "dateのカラムは、日付型に直しましょう。このデータではたまたま、年と月と日の判別ができますが、そうでないときもあるので、lubridateパッケージのymdで「年月日の順だよ」と指定しています。\n",
        "\n",
        "あと、好みの問題もありますが、何種類かの決まった値しか出てこないはずのデータは、「カテゴリー型（因子型）」にしておくと、おかしな値が入っていた場合に気づきやすくなります。「島取」や「鳥根」が紛れ込んでいた場合を考えてみて下さい。\n",
        "\n",
        "サイトにあったデータの仕様表によれば、genderやageは、今のところ3種類に分類するために使っているようです。\n",
        "\n",
        "都道府県コードも、0から始まっていますし、厳密に言えば数値（比率尺度・間隔尺度のデータ）ではありません。並び順、という意味合いはありますが、04の宮城が02の青森の2倍、ということはありません。背番号みたいなものですね。\n",
        "\n",
        "カテゴリー型は、文字列のように見えますが、Rの内部では「数字」＋「名札」です。「山田さん」という人名の文字列を、「出席番号××番」という番号と、「××番の人は山田さん」という対照表にしているのです。データに出てくるのはあるクラスの人に限られる、という状況だと、このほうが設計しやすいことがあります。\n",
        "\n",
        "見た目では文字列と区別しにくいのでご注意。Rの画面では、引用符付きの「\"山田\"」なら文字列、引用符に囲まれない「山田」ならカテゴリー型、と区別して表示されます。"
      ]
    },
    {
      "cell_type": "code",
      "metadata": {
        "colab": {
          "base_uri": "https://localhost:8080/",
          "height": 1000
        },
        "id": "A8C5oT3VeWHJ",
        "outputId": "99b7ce54-59f3-4f9a-d1e5-15c9b61ca0b2"
      },
      "source": [
        "# 実は二次元の表にも２種類ある。\n",
        "# 標準はdata.frameという表形式。でも、tibbleという形式のほうが何かと扱いやすいので、これに変換する。\n",
        "cio_data <- cio_stream %>%\n",
        "    as_tibble()\n",
        "# ここでいったん、結果を表示。冒頭のみ。\n",
        "head(cio_data)\n",
        "\n",
        "# 日付型に直したいカラム\n",
        "columns_to_date <- \"date\"\n",
        "# 因子型（カテゴリー型）に直したいカラム。直さずに文字列型でも、まあいい。\n",
        "columns_to_factor <- c(\"gender\", \"age\")\n",
        "# genderは（男尊女卑でなく並べ替えの練習として）、よくある男・女・不明の順にする指定を入れることも可能\n",
        "gender_levels <- c(\"M\", \"F\" ,\"U\")\n",
        "# ワクチン接種回数は整数型\n",
        "columns_to_integer <- \"count\"\n",
        "# 変な値があったら気がつくようにしたい。readrを使う。\n",
        "cio_data <- cio_data %>% \n",
        "    mutate(\n",
        "# lubridateのymdを使ったのは、とくに月と日の順番を明示的に指定するため。年は4桁になっているが、07-10が7月10日と10月7日のどちらを意味するか、を指示したほうが安全。\n",
        "    across(all_of(columns_to_date), lubridate::ymd),\n",
        "    across(all_of(columns_to_factor), as_factor),\n",
        "    across(all_of(columns_to_integer), as.integer)\n",
        "    )\n",
        "cio_data$gender <- cio_data$gender %>%\n",
        "    fct_relevel(gender_levels)\n",
        "\n",
        "# もう一度、処理結果を表示。北海道と青森の全カテゴリーを見たいので、表示を増やした。\n",
        "head(cio_data, n = 15)\n",
        "# 北海道の4月12日は合計してみると279件のようだ。青森は203。\n",
        "# 沖縄の直近のデータも見てみる。\n",
        "tail(cio_data, n = 15)\n",
        "str(cio_data)\n",
        "summary(cio_data)\n",
        "# 不要になった元データは消す\n",
        "# cio_data %>% is.na() %>% sum()\n",
        "rm(cio_stream)"
      ],
      "execution_count": 10,
      "outputs": [
        {
          "output_type": "display_data",
          "data": {
            "text/plain": [
              "  date       prefecture gender age medical_worker status count\n",
              "1 2021-04-12 01         F      -64 FALSE          1      113  \n",
              "2 2021-04-12 01         F      65- FALSE          1       88  \n",
              "3 2021-04-12 01         M      -64 FALSE          1       39  \n",
              "4 2021-04-12 01         M      65- FALSE          1       26  \n",
              "5 2021-04-12 01         U      -64 FALSE          1       12  \n",
              "6 2021-04-12 01         U      UNK FALSE          1        1  "
            ],
            "text/latex": "A tibble: 6 × 7\n\\begin{tabular}{lllllll}\n date & prefecture & gender & age & medical\\_worker & status & count\\\\\n <chr> & <chr> & <chr> & <chr> & <lgl> & <int> & <int>\\\\\n\\hline\n\t 2021-04-12 & 01 & F & -64 & FALSE & 1 & 113\\\\\n\t 2021-04-12 & 01 & F & 65- & FALSE & 1 &  88\\\\\n\t 2021-04-12 & 01 & M & -64 & FALSE & 1 &  39\\\\\n\t 2021-04-12 & 01 & M & 65- & FALSE & 1 &  26\\\\\n\t 2021-04-12 & 01 & U & -64 & FALSE & 1 &  12\\\\\n\t 2021-04-12 & 01 & U & UNK & FALSE & 1 &   1\\\\\n\\end{tabular}\n",
            "text/markdown": "\nA tibble: 6 × 7\n\n| date &lt;chr&gt; | prefecture &lt;chr&gt; | gender &lt;chr&gt; | age &lt;chr&gt; | medical_worker &lt;lgl&gt; | status &lt;int&gt; | count &lt;int&gt; |\n|---|---|---|---|---|---|---|\n| 2021-04-12 | 01 | F | -64 | FALSE | 1 | 113 |\n| 2021-04-12 | 01 | F | 65- | FALSE | 1 |  88 |\n| 2021-04-12 | 01 | M | -64 | FALSE | 1 |  39 |\n| 2021-04-12 | 01 | M | 65- | FALSE | 1 |  26 |\n| 2021-04-12 | 01 | U | -64 | FALSE | 1 |  12 |\n| 2021-04-12 | 01 | U | UNK | FALSE | 1 |   1 |\n\n",
            "text/html": [
              "<table class=\"dataframe\">\n",
              "<caption>A tibble: 6 × 7</caption>\n",
              "<thead>\n",
              "\t<tr><th scope=col>date</th><th scope=col>prefecture</th><th scope=col>gender</th><th scope=col>age</th><th scope=col>medical_worker</th><th scope=col>status</th><th scope=col>count</th></tr>\n",
              "\t<tr><th scope=col>&lt;chr&gt;</th><th scope=col>&lt;chr&gt;</th><th scope=col>&lt;chr&gt;</th><th scope=col>&lt;chr&gt;</th><th scope=col>&lt;lgl&gt;</th><th scope=col>&lt;int&gt;</th><th scope=col>&lt;int&gt;</th></tr>\n",
              "</thead>\n",
              "<tbody>\n",
              "\t<tr><td>2021-04-12</td><td>01</td><td>F</td><td>-64</td><td>FALSE</td><td>1</td><td>113</td></tr>\n",
              "\t<tr><td>2021-04-12</td><td>01</td><td>F</td><td>65-</td><td>FALSE</td><td>1</td><td> 88</td></tr>\n",
              "\t<tr><td>2021-04-12</td><td>01</td><td>M</td><td>-64</td><td>FALSE</td><td>1</td><td> 39</td></tr>\n",
              "\t<tr><td>2021-04-12</td><td>01</td><td>M</td><td>65-</td><td>FALSE</td><td>1</td><td> 26</td></tr>\n",
              "\t<tr><td>2021-04-12</td><td>01</td><td>U</td><td>-64</td><td>FALSE</td><td>1</td><td> 12</td></tr>\n",
              "\t<tr><td>2021-04-12</td><td>01</td><td>U</td><td>UNK</td><td>FALSE</td><td>1</td><td>  1</td></tr>\n",
              "</tbody>\n",
              "</table>\n"
            ]
          },
          "metadata": {
            "tags": []
          }
        },
        {
          "output_type": "display_data",
          "data": {
            "text/plain": [
              "   date       prefecture gender age medical_worker status count\n",
              "1  2021-04-12 01         F      -64 FALSE          1      113  \n",
              "2  2021-04-12 01         F      65- FALSE          1       88  \n",
              "3  2021-04-12 01         M      -64 FALSE          1       39  \n",
              "4  2021-04-12 01         M      65- FALSE          1       26  \n",
              "5  2021-04-12 01         U      -64 FALSE          1       12  \n",
              "6  2021-04-12 01         U      UNK FALSE          1        1  \n",
              "7  2021-04-12 02         F      -64 FALSE          1        3  \n",
              "8  2021-04-12 02         F      65- FALSE          1      137  \n",
              "9  2021-04-12 02         M      -64 FALSE          1        2  \n",
              "10 2021-04-12 02         M      65- FALSE          1       54  \n",
              "11 2021-04-12 02         U      UNK FALSE          1        7  \n",
              "12 2021-04-12 03         F      65- FALSE          1       23  \n",
              "13 2021-04-12 03         M      65- FALSE          1       27  \n",
              "14 2021-04-12 04         F      -64 FALSE          1        1  \n",
              "15 2021-04-12 05         F      -64 FALSE          1       13  "
            ],
            "text/latex": "A tibble: 15 × 7\n\\begin{tabular}{lllllll}\n date & prefecture & gender & age & medical\\_worker & status & count\\\\\n <date> & <chr> & <fct> & <fct> & <lgl> & <int> & <int>\\\\\n\\hline\n\t 2021-04-12 & 01 & F & -64 & FALSE & 1 & 113\\\\\n\t 2021-04-12 & 01 & F & 65- & FALSE & 1 &  88\\\\\n\t 2021-04-12 & 01 & M & -64 & FALSE & 1 &  39\\\\\n\t 2021-04-12 & 01 & M & 65- & FALSE & 1 &  26\\\\\n\t 2021-04-12 & 01 & U & -64 & FALSE & 1 &  12\\\\\n\t 2021-04-12 & 01 & U & UNK & FALSE & 1 &   1\\\\\n\t 2021-04-12 & 02 & F & -64 & FALSE & 1 &   3\\\\\n\t 2021-04-12 & 02 & F & 65- & FALSE & 1 & 137\\\\\n\t 2021-04-12 & 02 & M & -64 & FALSE & 1 &   2\\\\\n\t 2021-04-12 & 02 & M & 65- & FALSE & 1 &  54\\\\\n\t 2021-04-12 & 02 & U & UNK & FALSE & 1 &   7\\\\\n\t 2021-04-12 & 03 & F & 65- & FALSE & 1 &  23\\\\\n\t 2021-04-12 & 03 & M & 65- & FALSE & 1 &  27\\\\\n\t 2021-04-12 & 04 & F & -64 & FALSE & 1 &   1\\\\\n\t 2021-04-12 & 05 & F & -64 & FALSE & 1 &  13\\\\\n\\end{tabular}\n",
            "text/markdown": "\nA tibble: 15 × 7\n\n| date &lt;date&gt; | prefecture &lt;chr&gt; | gender &lt;fct&gt; | age &lt;fct&gt; | medical_worker &lt;lgl&gt; | status &lt;int&gt; | count &lt;int&gt; |\n|---|---|---|---|---|---|---|\n| 2021-04-12 | 01 | F | -64 | FALSE | 1 | 113 |\n| 2021-04-12 | 01 | F | 65- | FALSE | 1 |  88 |\n| 2021-04-12 | 01 | M | -64 | FALSE | 1 |  39 |\n| 2021-04-12 | 01 | M | 65- | FALSE | 1 |  26 |\n| 2021-04-12 | 01 | U | -64 | FALSE | 1 |  12 |\n| 2021-04-12 | 01 | U | UNK | FALSE | 1 |   1 |\n| 2021-04-12 | 02 | F | -64 | FALSE | 1 |   3 |\n| 2021-04-12 | 02 | F | 65- | FALSE | 1 | 137 |\n| 2021-04-12 | 02 | M | -64 | FALSE | 1 |   2 |\n| 2021-04-12 | 02 | M | 65- | FALSE | 1 |  54 |\n| 2021-04-12 | 02 | U | UNK | FALSE | 1 |   7 |\n| 2021-04-12 | 03 | F | 65- | FALSE | 1 |  23 |\n| 2021-04-12 | 03 | M | 65- | FALSE | 1 |  27 |\n| 2021-04-12 | 04 | F | -64 | FALSE | 1 |   1 |\n| 2021-04-12 | 05 | F | -64 | FALSE | 1 |  13 |\n\n",
            "text/html": [
              "<table class=\"dataframe\">\n",
              "<caption>A tibble: 15 × 7</caption>\n",
              "<thead>\n",
              "\t<tr><th scope=col>date</th><th scope=col>prefecture</th><th scope=col>gender</th><th scope=col>age</th><th scope=col>medical_worker</th><th scope=col>status</th><th scope=col>count</th></tr>\n",
              "\t<tr><th scope=col>&lt;date&gt;</th><th scope=col>&lt;chr&gt;</th><th scope=col>&lt;fct&gt;</th><th scope=col>&lt;fct&gt;</th><th scope=col>&lt;lgl&gt;</th><th scope=col>&lt;int&gt;</th><th scope=col>&lt;int&gt;</th></tr>\n",
              "</thead>\n",
              "<tbody>\n",
              "\t<tr><td>2021-04-12</td><td>01</td><td>F</td><td>-64</td><td>FALSE</td><td>1</td><td>113</td></tr>\n",
              "\t<tr><td>2021-04-12</td><td>01</td><td>F</td><td>65-</td><td>FALSE</td><td>1</td><td> 88</td></tr>\n",
              "\t<tr><td>2021-04-12</td><td>01</td><td>M</td><td>-64</td><td>FALSE</td><td>1</td><td> 39</td></tr>\n",
              "\t<tr><td>2021-04-12</td><td>01</td><td>M</td><td>65-</td><td>FALSE</td><td>1</td><td> 26</td></tr>\n",
              "\t<tr><td>2021-04-12</td><td>01</td><td>U</td><td>-64</td><td>FALSE</td><td>1</td><td> 12</td></tr>\n",
              "\t<tr><td>2021-04-12</td><td>01</td><td>U</td><td>UNK</td><td>FALSE</td><td>1</td><td>  1</td></tr>\n",
              "\t<tr><td>2021-04-12</td><td>02</td><td>F</td><td>-64</td><td>FALSE</td><td>1</td><td>  3</td></tr>\n",
              "\t<tr><td>2021-04-12</td><td>02</td><td>F</td><td>65-</td><td>FALSE</td><td>1</td><td>137</td></tr>\n",
              "\t<tr><td>2021-04-12</td><td>02</td><td>M</td><td>-64</td><td>FALSE</td><td>1</td><td>  2</td></tr>\n",
              "\t<tr><td>2021-04-12</td><td>02</td><td>M</td><td>65-</td><td>FALSE</td><td>1</td><td> 54</td></tr>\n",
              "\t<tr><td>2021-04-12</td><td>02</td><td>U</td><td>UNK</td><td>FALSE</td><td>1</td><td>  7</td></tr>\n",
              "\t<tr><td>2021-04-12</td><td>03</td><td>F</td><td>65-</td><td>FALSE</td><td>1</td><td> 23</td></tr>\n",
              "\t<tr><td>2021-04-12</td><td>03</td><td>M</td><td>65-</td><td>FALSE</td><td>1</td><td> 27</td></tr>\n",
              "\t<tr><td>2021-04-12</td><td>04</td><td>F</td><td>-64</td><td>FALSE</td><td>1</td><td>  1</td></tr>\n",
              "\t<tr><td>2021-04-12</td><td>05</td><td>F</td><td>-64</td><td>FALSE</td><td>1</td><td> 13</td></tr>\n",
              "</tbody>\n",
              "</table>\n"
            ]
          },
          "metadata": {
            "tags": []
          }
        },
        {
          "output_type": "display_data",
          "data": {
            "text/plain": [
              "   date       prefecture gender age medical_worker status count\n",
              "1  2021-07-09 46         M      -64 FALSE          2        97 \n",
              "2  2021-07-09 46         M      65- FALSE          1      1211 \n",
              "3  2021-07-09 46         M      65- FALSE          2      1571 \n",
              "4  2021-07-09 46         U      UNK FALSE          1         5 \n",
              "5  2021-07-09 46         U      UNK FALSE          2         1 \n",
              "6  2021-07-09 47         F      -64 FALSE          1       599 \n",
              "7  2021-07-09 47         F      -64 FALSE          2       341 \n",
              "8  2021-07-09 47         F      65- FALSE          1       719 \n",
              "9  2021-07-09 47         F      65- FALSE          2      1776 \n",
              "10 2021-07-09 47         M      -64 FALSE          1       588 \n",
              "11 2021-07-09 47         M      -64 FALSE          2       295 \n",
              "12 2021-07-09 47         M      65- FALSE          1       616 \n",
              "13 2021-07-09 47         M      65- FALSE          2      1362 \n",
              "14 2021-07-09 47         U      UNK FALSE          1        49 \n",
              "15 2021-07-09 47         U      UNK FALSE          2        12 "
            ],
            "text/latex": "A tibble: 15 × 7\n\\begin{tabular}{lllllll}\n date & prefecture & gender & age & medical\\_worker & status & count\\\\\n <date> & <chr> & <fct> & <fct> & <lgl> & <int> & <int>\\\\\n\\hline\n\t 2021-07-09 & 46 & M & -64 & FALSE & 2 &   97\\\\\n\t 2021-07-09 & 46 & M & 65- & FALSE & 1 & 1211\\\\\n\t 2021-07-09 & 46 & M & 65- & FALSE & 2 & 1571\\\\\n\t 2021-07-09 & 46 & U & UNK & FALSE & 1 &    5\\\\\n\t 2021-07-09 & 46 & U & UNK & FALSE & 2 &    1\\\\\n\t 2021-07-09 & 47 & F & -64 & FALSE & 1 &  599\\\\\n\t 2021-07-09 & 47 & F & -64 & FALSE & 2 &  341\\\\\n\t 2021-07-09 & 47 & F & 65- & FALSE & 1 &  719\\\\\n\t 2021-07-09 & 47 & F & 65- & FALSE & 2 & 1776\\\\\n\t 2021-07-09 & 47 & M & -64 & FALSE & 1 &  588\\\\\n\t 2021-07-09 & 47 & M & -64 & FALSE & 2 &  295\\\\\n\t 2021-07-09 & 47 & M & 65- & FALSE & 1 &  616\\\\\n\t 2021-07-09 & 47 & M & 65- & FALSE & 2 & 1362\\\\\n\t 2021-07-09 & 47 & U & UNK & FALSE & 1 &   49\\\\\n\t 2021-07-09 & 47 & U & UNK & FALSE & 2 &   12\\\\\n\\end{tabular}\n",
            "text/markdown": "\nA tibble: 15 × 7\n\n| date &lt;date&gt; | prefecture &lt;chr&gt; | gender &lt;fct&gt; | age &lt;fct&gt; | medical_worker &lt;lgl&gt; | status &lt;int&gt; | count &lt;int&gt; |\n|---|---|---|---|---|---|---|\n| 2021-07-09 | 46 | M | -64 | FALSE | 2 |   97 |\n| 2021-07-09 | 46 | M | 65- | FALSE | 1 | 1211 |\n| 2021-07-09 | 46 | M | 65- | FALSE | 2 | 1571 |\n| 2021-07-09 | 46 | U | UNK | FALSE | 1 |    5 |\n| 2021-07-09 | 46 | U | UNK | FALSE | 2 |    1 |\n| 2021-07-09 | 47 | F | -64 | FALSE | 1 |  599 |\n| 2021-07-09 | 47 | F | -64 | FALSE | 2 |  341 |\n| 2021-07-09 | 47 | F | 65- | FALSE | 1 |  719 |\n| 2021-07-09 | 47 | F | 65- | FALSE | 2 | 1776 |\n| 2021-07-09 | 47 | M | -64 | FALSE | 1 |  588 |\n| 2021-07-09 | 47 | M | -64 | FALSE | 2 |  295 |\n| 2021-07-09 | 47 | M | 65- | FALSE | 1 |  616 |\n| 2021-07-09 | 47 | M | 65- | FALSE | 2 | 1362 |\n| 2021-07-09 | 47 | U | UNK | FALSE | 1 |   49 |\n| 2021-07-09 | 47 | U | UNK | FALSE | 2 |   12 |\n\n",
            "text/html": [
              "<table class=\"dataframe\">\n",
              "<caption>A tibble: 15 × 7</caption>\n",
              "<thead>\n",
              "\t<tr><th scope=col>date</th><th scope=col>prefecture</th><th scope=col>gender</th><th scope=col>age</th><th scope=col>medical_worker</th><th scope=col>status</th><th scope=col>count</th></tr>\n",
              "\t<tr><th scope=col>&lt;date&gt;</th><th scope=col>&lt;chr&gt;</th><th scope=col>&lt;fct&gt;</th><th scope=col>&lt;fct&gt;</th><th scope=col>&lt;lgl&gt;</th><th scope=col>&lt;int&gt;</th><th scope=col>&lt;int&gt;</th></tr>\n",
              "</thead>\n",
              "<tbody>\n",
              "\t<tr><td>2021-07-09</td><td>46</td><td>M</td><td>-64</td><td>FALSE</td><td>2</td><td>  97</td></tr>\n",
              "\t<tr><td>2021-07-09</td><td>46</td><td>M</td><td>65-</td><td>FALSE</td><td>1</td><td>1211</td></tr>\n",
              "\t<tr><td>2021-07-09</td><td>46</td><td>M</td><td>65-</td><td>FALSE</td><td>2</td><td>1571</td></tr>\n",
              "\t<tr><td>2021-07-09</td><td>46</td><td>U</td><td>UNK</td><td>FALSE</td><td>1</td><td>   5</td></tr>\n",
              "\t<tr><td>2021-07-09</td><td>46</td><td>U</td><td>UNK</td><td>FALSE</td><td>2</td><td>   1</td></tr>\n",
              "\t<tr><td>2021-07-09</td><td>47</td><td>F</td><td>-64</td><td>FALSE</td><td>1</td><td> 599</td></tr>\n",
              "\t<tr><td>2021-07-09</td><td>47</td><td>F</td><td>-64</td><td>FALSE</td><td>2</td><td> 341</td></tr>\n",
              "\t<tr><td>2021-07-09</td><td>47</td><td>F</td><td>65-</td><td>FALSE</td><td>1</td><td> 719</td></tr>\n",
              "\t<tr><td>2021-07-09</td><td>47</td><td>F</td><td>65-</td><td>FALSE</td><td>2</td><td>1776</td></tr>\n",
              "\t<tr><td>2021-07-09</td><td>47</td><td>M</td><td>-64</td><td>FALSE</td><td>1</td><td> 588</td></tr>\n",
              "\t<tr><td>2021-07-09</td><td>47</td><td>M</td><td>-64</td><td>FALSE</td><td>2</td><td> 295</td></tr>\n",
              "\t<tr><td>2021-07-09</td><td>47</td><td>M</td><td>65-</td><td>FALSE</td><td>1</td><td> 616</td></tr>\n",
              "\t<tr><td>2021-07-09</td><td>47</td><td>M</td><td>65-</td><td>FALSE</td><td>2</td><td>1362</td></tr>\n",
              "\t<tr><td>2021-07-09</td><td>47</td><td>U</td><td>UNK</td><td>FALSE</td><td>1</td><td>  49</td></tr>\n",
              "\t<tr><td>2021-07-09</td><td>47</td><td>U</td><td>UNK</td><td>FALSE</td><td>2</td><td>  12</td></tr>\n",
              "</tbody>\n",
              "</table>\n"
            ]
          },
          "metadata": {
            "tags": []
          }
        },
        {
          "output_type": "stream",
          "text": [
            "tibble [35,263 × 7] (S3: tbl_df/tbl/data.frame)\n",
            " $ date          : Date[1:35263], format: \"2021-04-12\" \"2021-04-12\" ...\n",
            " $ prefecture    : chr [1:35263] \"01\" \"01\" \"01\" \"01\" ...\n",
            " $ gender        : Factor w/ 3 levels \"M\",\"F\",\"U\": 2 2 1 1 3 3 2 2 1 1 ...\n",
            " $ age           : Factor w/ 3 levels \"-64\",\"65-\",\"UNK\": 1 2 1 2 1 3 1 2 1 2 ...\n",
            " $ medical_worker: logi [1:35263] FALSE FALSE FALSE FALSE FALSE FALSE ...\n",
            " $ status        : int [1:35263] 1 1 1 1 1 1 1 1 1 1 ...\n",
            " $ count         : int [1:35263] 113 88 39 26 12 1 3 137 2 54 ...\n"
          ],
          "name": "stdout"
        },
        {
          "output_type": "display_data",
          "data": {
            "text/plain": [
              "      date             prefecture        gender     age        medical_worker \n",
              " Min.   :2021-04-12   Length:35263       M:14112   -64:14114   Mode :logical  \n",
              " 1st Qu.:2021-05-14   Class :character   F:14227   65-:14671   FALSE:35263    \n",
              " Median :2021-06-02   Mode  :character   U: 6924   UNK: 6478                  \n",
              " Mean   :2021-06-01                                                           \n",
              " 3rd Qu.:2021-06-21                                                           \n",
              " Max.   :2021-07-09                                                           \n",
              "     status          count      \n",
              " Min.   :1.000   Min.   :    1  \n",
              " 1st Qu.:1.000   1st Qu.:   25  \n",
              " Median :1.000   Median :  145  \n",
              " Mean   :1.421   Mean   : 1338  \n",
              " 3rd Qu.:2.000   3rd Qu.: 1108  \n",
              " Max.   :2.000   Max.   :36359  "
            ]
          },
          "metadata": {
            "tags": []
          }
        }
      ]
    },
    {
      "cell_type": "markdown",
      "metadata": {
        "id": "LpW6oCFglhfQ"
      },
      "source": [
        "### 4.3. カテゴリー別の数字を合算する\n",
        "ワクチン接種状況の数字は、その日その日のカテゴリー別です。年齢・性別・医療従事者かどうかに関わらず、合算することにしましょう。\n",
        "\n",
        "現時点では、医療従事者フラグは準備されているだけです。でも、将来的には入手可能になることも見越したデータ構造にしてくれているのが、嬉しいですね。製造元の欄も確保されていれば、なおよいのだけれどなあ。\n",
        "\n",
        "さて、合算は、このままではやりにくいので、縦長の表から横長の表にいったん変換します。ある県のある日の分が横に並ぶようにして、その合計を計算したカラムを新しく作ります。さらに後ほど、その日までの累計も計算します。\n",
        "\n",
        "縦横変換しなくても、やり方次第で、県ごとにある日の分を合計することは可能です。ただ、将来的にstatusや医療従事者フラグによって重み付けを変えて計算したい場合には、横持ちの表にしておいたほうが対応しやすそうなので、この方法を選択しました。"
      ]
    },
    {
      "cell_type": "code",
      "metadata": {
        "colab": {
          "base_uri": "https://localhost:8080/",
          "height": 1000
        },
        "id": "9rntAHkGmhxg",
        "outputId": "934f1285-19a7-4eb4-fe1a-1e89dcf22eff"
      },
      "source": [
        "cio_wide <- cio_data %>%\n",
        "# 属性別の接種回数をひとつにまとめる準備。\n",
        "    select(date, prefecture, status, everything()) %>% \n",
        "# 縦持ちから、横持ちに変形する。\n",
        "    pivot_wider(\n",
        "        names_from = status:medical_worker,\n",
        "        values_from = count\n",
        "    )\n",
        "# こんな表になった\n",
        "head(cio_wide)\n",
        "\n",
        "# ある県の１日あたりの接種を合算。１回目か２回目か、１回で完了かは区別せずに単純合算。\n",
        "vaccinations <- cio_wide %>% \n",
        "    transmute(\n",
        "# date,prefectureのカラムはそのまま残す。\n",
        "        date,\n",
        "        prefecture,\n",
        "# 各カテゴリーの接種回数を合算したカラムを作る。\n",
        "        n_vaccinations  = select(., contains(\"_\")) %>%\n",
        "        rowSums(na.rm = TRUE)\n",
        "    )\n",
        "\n",
        "# ここで結果を見てみる。初日の北海道は279件、青森県は203件。\n",
        "head(vaccinations)\n",
        "# 沖縄の直近の日付も合っているようだ。\n",
        "tail(vaccinations)\n",
        "summary(vaccinations)\n",
        "\n",
        "# 不要なデータを消す。\n",
        "rm(cio_data, cio_wide)"
      ],
      "execution_count": 11,
      "outputs": [
        {
          "output_type": "display_data",
          "data": {
            "text/plain": [
              "  date       prefecture 1_F_-64_FALSE 1_F_65-_FALSE 1_M_-64_FALSE 1_M_65-_FALSE\n",
              "1 2021-04-12 01         113            88           39            26           \n",
              "2 2021-04-12 02           3           137            2            54           \n",
              "3 2021-04-12 03          NA            23           NA            27           \n",
              "4 2021-04-12 04           1            NA           NA            NA           \n",
              "5 2021-04-12 05          13             4            3            NA           \n",
              "6 2021-04-12 06          10            23            3            17           \n",
              "  1_U_-64_FALSE 1_U_UNK_FALSE 1_U_65-_FALSE 1_F_UNK_FALSE 2_F_65-_FALSE\n",
              "1 12             1            NA            NA            NA           \n",
              "2 NA             7            NA            NA            NA           \n",
              "3 NA            NA            NA            NA            NA           \n",
              "4 NA            NA            NA            NA            NA           \n",
              "5 NA            NA            NA            NA            NA           \n",
              "6 NA             1            NA            NA            NA           \n",
              "  2_M_65-_FALSE 2_F_-64_FALSE 2_M_-64_FALSE 2_U_UNK_FALSE 2_U_65-_FALSE\n",
              "1 NA            NA            NA            NA            NA           \n",
              "2 NA            NA            NA            NA            NA           \n",
              "3 NA            NA            NA            NA            NA           \n",
              "4 NA            NA            NA            NA            NA           \n",
              "5 NA            NA            NA            NA            NA           \n",
              "6 NA            NA            NA            NA            NA           \n",
              "  2_U_-64_FALSE 2_F_UNK_FALSE 1_M_UNK_FALSE 2_M_UNK_FALSE\n",
              "1 NA            NA            NA            NA           \n",
              "2 NA            NA            NA            NA           \n",
              "3 NA            NA            NA            NA           \n",
              "4 NA            NA            NA            NA           \n",
              "5 NA            NA            NA            NA           \n",
              "6 NA            NA            NA            NA           "
            ],
            "text/latex": "A tibble: 6 × 20\n\\begin{tabular}{llllllllllllllllllll}\n date & prefecture & 1\\_F\\_-64\\_FALSE & 1\\_F\\_65-\\_FALSE & 1\\_M\\_-64\\_FALSE & 1\\_M\\_65-\\_FALSE & 1\\_U\\_-64\\_FALSE & 1\\_U\\_UNK\\_FALSE & 1\\_U\\_65-\\_FALSE & 1\\_F\\_UNK\\_FALSE & 2\\_F\\_65-\\_FALSE & 2\\_M\\_65-\\_FALSE & 2\\_F\\_-64\\_FALSE & 2\\_M\\_-64\\_FALSE & 2\\_U\\_UNK\\_FALSE & 2\\_U\\_65-\\_FALSE & 2\\_U\\_-64\\_FALSE & 2\\_F\\_UNK\\_FALSE & 1\\_M\\_UNK\\_FALSE & 2\\_M\\_UNK\\_FALSE\\\\\n <date> & <chr> & <int> & <int> & <int> & <int> & <int> & <int> & <int> & <int> & <int> & <int> & <int> & <int> & <int> & <int> & <int> & <int> & <int> & <int>\\\\\n\\hline\n\t 2021-04-12 & 01 & 113 &  88 & 39 & 26 & 12 &  1 & NA & NA & NA & NA & NA & NA & NA & NA & NA & NA & NA & NA\\\\\n\t 2021-04-12 & 02 &   3 & 137 &  2 & 54 & NA &  7 & NA & NA & NA & NA & NA & NA & NA & NA & NA & NA & NA & NA\\\\\n\t 2021-04-12 & 03 &  NA &  23 & NA & 27 & NA & NA & NA & NA & NA & NA & NA & NA & NA & NA & NA & NA & NA & NA\\\\\n\t 2021-04-12 & 04 &   1 &  NA & NA & NA & NA & NA & NA & NA & NA & NA & NA & NA & NA & NA & NA & NA & NA & NA\\\\\n\t 2021-04-12 & 05 &  13 &   4 &  3 & NA & NA & NA & NA & NA & NA & NA & NA & NA & NA & NA & NA & NA & NA & NA\\\\\n\t 2021-04-12 & 06 &  10 &  23 &  3 & 17 & NA &  1 & NA & NA & NA & NA & NA & NA & NA & NA & NA & NA & NA & NA\\\\\n\\end{tabular}\n",
            "text/markdown": "\nA tibble: 6 × 20\n\n| date &lt;date&gt; | prefecture &lt;chr&gt; | 1_F_-64_FALSE &lt;int&gt; | 1_F_65-_FALSE &lt;int&gt; | 1_M_-64_FALSE &lt;int&gt; | 1_M_65-_FALSE &lt;int&gt; | 1_U_-64_FALSE &lt;int&gt; | 1_U_UNK_FALSE &lt;int&gt; | 1_U_65-_FALSE &lt;int&gt; | 1_F_UNK_FALSE &lt;int&gt; | 2_F_65-_FALSE &lt;int&gt; | 2_M_65-_FALSE &lt;int&gt; | 2_F_-64_FALSE &lt;int&gt; | 2_M_-64_FALSE &lt;int&gt; | 2_U_UNK_FALSE &lt;int&gt; | 2_U_65-_FALSE &lt;int&gt; | 2_U_-64_FALSE &lt;int&gt; | 2_F_UNK_FALSE &lt;int&gt; | 1_M_UNK_FALSE &lt;int&gt; | 2_M_UNK_FALSE &lt;int&gt; |\n|---|---|---|---|---|---|---|---|---|---|---|---|---|---|---|---|---|---|---|---|\n| 2021-04-12 | 01 | 113 |  88 | 39 | 26 | 12 |  1 | NA | NA | NA | NA | NA | NA | NA | NA | NA | NA | NA | NA |\n| 2021-04-12 | 02 |   3 | 137 |  2 | 54 | NA |  7 | NA | NA | NA | NA | NA | NA | NA | NA | NA | NA | NA | NA |\n| 2021-04-12 | 03 |  NA |  23 | NA | 27 | NA | NA | NA | NA | NA | NA | NA | NA | NA | NA | NA | NA | NA | NA |\n| 2021-04-12 | 04 |   1 |  NA | NA | NA | NA | NA | NA | NA | NA | NA | NA | NA | NA | NA | NA | NA | NA | NA |\n| 2021-04-12 | 05 |  13 |   4 |  3 | NA | NA | NA | NA | NA | NA | NA | NA | NA | NA | NA | NA | NA | NA | NA |\n| 2021-04-12 | 06 |  10 |  23 |  3 | 17 | NA |  1 | NA | NA | NA | NA | NA | NA | NA | NA | NA | NA | NA | NA |\n\n",
            "text/html": [
              "<table class=\"dataframe\">\n",
              "<caption>A tibble: 6 × 20</caption>\n",
              "<thead>\n",
              "\t<tr><th scope=col>date</th><th scope=col>prefecture</th><th scope=col>1_F_-64_FALSE</th><th scope=col>1_F_65-_FALSE</th><th scope=col>1_M_-64_FALSE</th><th scope=col>1_M_65-_FALSE</th><th scope=col>1_U_-64_FALSE</th><th scope=col>1_U_UNK_FALSE</th><th scope=col>1_U_65-_FALSE</th><th scope=col>1_F_UNK_FALSE</th><th scope=col>2_F_65-_FALSE</th><th scope=col>2_M_65-_FALSE</th><th scope=col>2_F_-64_FALSE</th><th scope=col>2_M_-64_FALSE</th><th scope=col>2_U_UNK_FALSE</th><th scope=col>2_U_65-_FALSE</th><th scope=col>2_U_-64_FALSE</th><th scope=col>2_F_UNK_FALSE</th><th scope=col>1_M_UNK_FALSE</th><th scope=col>2_M_UNK_FALSE</th></tr>\n",
              "\t<tr><th scope=col>&lt;date&gt;</th><th scope=col>&lt;chr&gt;</th><th scope=col>&lt;int&gt;</th><th scope=col>&lt;int&gt;</th><th scope=col>&lt;int&gt;</th><th scope=col>&lt;int&gt;</th><th scope=col>&lt;int&gt;</th><th scope=col>&lt;int&gt;</th><th scope=col>&lt;int&gt;</th><th scope=col>&lt;int&gt;</th><th scope=col>&lt;int&gt;</th><th scope=col>&lt;int&gt;</th><th scope=col>&lt;int&gt;</th><th scope=col>&lt;int&gt;</th><th scope=col>&lt;int&gt;</th><th scope=col>&lt;int&gt;</th><th scope=col>&lt;int&gt;</th><th scope=col>&lt;int&gt;</th><th scope=col>&lt;int&gt;</th><th scope=col>&lt;int&gt;</th></tr>\n",
              "</thead>\n",
              "<tbody>\n",
              "\t<tr><td>2021-04-12</td><td>01</td><td>113</td><td> 88</td><td>39</td><td>26</td><td>12</td><td> 1</td><td>NA</td><td>NA</td><td>NA</td><td>NA</td><td>NA</td><td>NA</td><td>NA</td><td>NA</td><td>NA</td><td>NA</td><td>NA</td><td>NA</td></tr>\n",
              "\t<tr><td>2021-04-12</td><td>02</td><td>  3</td><td>137</td><td> 2</td><td>54</td><td>NA</td><td> 7</td><td>NA</td><td>NA</td><td>NA</td><td>NA</td><td>NA</td><td>NA</td><td>NA</td><td>NA</td><td>NA</td><td>NA</td><td>NA</td><td>NA</td></tr>\n",
              "\t<tr><td>2021-04-12</td><td>03</td><td> NA</td><td> 23</td><td>NA</td><td>27</td><td>NA</td><td>NA</td><td>NA</td><td>NA</td><td>NA</td><td>NA</td><td>NA</td><td>NA</td><td>NA</td><td>NA</td><td>NA</td><td>NA</td><td>NA</td><td>NA</td></tr>\n",
              "\t<tr><td>2021-04-12</td><td>04</td><td>  1</td><td> NA</td><td>NA</td><td>NA</td><td>NA</td><td>NA</td><td>NA</td><td>NA</td><td>NA</td><td>NA</td><td>NA</td><td>NA</td><td>NA</td><td>NA</td><td>NA</td><td>NA</td><td>NA</td><td>NA</td></tr>\n",
              "\t<tr><td>2021-04-12</td><td>05</td><td> 13</td><td>  4</td><td> 3</td><td>NA</td><td>NA</td><td>NA</td><td>NA</td><td>NA</td><td>NA</td><td>NA</td><td>NA</td><td>NA</td><td>NA</td><td>NA</td><td>NA</td><td>NA</td><td>NA</td><td>NA</td></tr>\n",
              "\t<tr><td>2021-04-12</td><td>06</td><td> 10</td><td> 23</td><td> 3</td><td>17</td><td>NA</td><td> 1</td><td>NA</td><td>NA</td><td>NA</td><td>NA</td><td>NA</td><td>NA</td><td>NA</td><td>NA</td><td>NA</td><td>NA</td><td>NA</td><td>NA</td></tr>\n",
              "</tbody>\n",
              "</table>\n"
            ]
          },
          "metadata": {
            "tags": []
          }
        },
        {
          "output_type": "display_data",
          "data": {
            "text/plain": [
              "  date       prefecture n_vaccinations\n",
              "1 2021-04-12 01         279           \n",
              "2 2021-04-12 02         203           \n",
              "3 2021-04-12 03          50           \n",
              "4 2021-04-12 04           1           \n",
              "5 2021-04-12 05          20           \n",
              "6 2021-04-12 06          54           "
            ],
            "text/latex": "A tibble: 6 × 3\n\\begin{tabular}{lll}\n date & prefecture & n\\_vaccinations\\\\\n <date> & <chr> & <dbl>\\\\\n\\hline\n\t 2021-04-12 & 01 & 279\\\\\n\t 2021-04-12 & 02 & 203\\\\\n\t 2021-04-12 & 03 &  50\\\\\n\t 2021-04-12 & 04 &   1\\\\\n\t 2021-04-12 & 05 &  20\\\\\n\t 2021-04-12 & 06 &  54\\\\\n\\end{tabular}\n",
            "text/markdown": "\nA tibble: 6 × 3\n\n| date &lt;date&gt; | prefecture &lt;chr&gt; | n_vaccinations &lt;dbl&gt; |\n|---|---|---|\n| 2021-04-12 | 01 | 279 |\n| 2021-04-12 | 02 | 203 |\n| 2021-04-12 | 03 |  50 |\n| 2021-04-12 | 04 |   1 |\n| 2021-04-12 | 05 |  20 |\n| 2021-04-12 | 06 |  54 |\n\n",
            "text/html": [
              "<table class=\"dataframe\">\n",
              "<caption>A tibble: 6 × 3</caption>\n",
              "<thead>\n",
              "\t<tr><th scope=col>date</th><th scope=col>prefecture</th><th scope=col>n_vaccinations</th></tr>\n",
              "\t<tr><th scope=col>&lt;date&gt;</th><th scope=col>&lt;chr&gt;</th><th scope=col>&lt;dbl&gt;</th></tr>\n",
              "</thead>\n",
              "<tbody>\n",
              "\t<tr><td>2021-04-12</td><td>01</td><td>279</td></tr>\n",
              "\t<tr><td>2021-04-12</td><td>02</td><td>203</td></tr>\n",
              "\t<tr><td>2021-04-12</td><td>03</td><td> 50</td></tr>\n",
              "\t<tr><td>2021-04-12</td><td>04</td><td>  1</td></tr>\n",
              "\t<tr><td>2021-04-12</td><td>05</td><td> 20</td></tr>\n",
              "\t<tr><td>2021-04-12</td><td>06</td><td> 54</td></tr>\n",
              "</tbody>\n",
              "</table>\n"
            ]
          },
          "metadata": {
            "tags": []
          }
        },
        {
          "output_type": "display_data",
          "data": {
            "text/plain": [
              "  date       prefecture n_vaccinations\n",
              "1 2021-07-09 42          5754         \n",
              "2 2021-07-09 43         10146         \n",
              "3 2021-07-09 44          4865         \n",
              "4 2021-07-09 45          7357         \n",
              "5 2021-07-09 46          8151         \n",
              "6 2021-07-09 47          6357         "
            ],
            "text/latex": "A tibble: 6 × 3\n\\begin{tabular}{lll}\n date & prefecture & n\\_vaccinations\\\\\n <date> & <chr> & <dbl>\\\\\n\\hline\n\t 2021-07-09 & 42 &  5754\\\\\n\t 2021-07-09 & 43 & 10146\\\\\n\t 2021-07-09 & 44 &  4865\\\\\n\t 2021-07-09 & 45 &  7357\\\\\n\t 2021-07-09 & 46 &  8151\\\\\n\t 2021-07-09 & 47 &  6357\\\\\n\\end{tabular}\n",
            "text/markdown": "\nA tibble: 6 × 3\n\n| date &lt;date&gt; | prefecture &lt;chr&gt; | n_vaccinations &lt;dbl&gt; |\n|---|---|---|\n| 2021-07-09 | 42 |  5754 |\n| 2021-07-09 | 43 | 10146 |\n| 2021-07-09 | 44 |  4865 |\n| 2021-07-09 | 45 |  7357 |\n| 2021-07-09 | 46 |  8151 |\n| 2021-07-09 | 47 |  6357 |\n\n",
            "text/html": [
              "<table class=\"dataframe\">\n",
              "<caption>A tibble: 6 × 3</caption>\n",
              "<thead>\n",
              "\t<tr><th scope=col>date</th><th scope=col>prefecture</th><th scope=col>n_vaccinations</th></tr>\n",
              "\t<tr><th scope=col>&lt;date&gt;</th><th scope=col>&lt;chr&gt;</th><th scope=col>&lt;dbl&gt;</th></tr>\n",
              "</thead>\n",
              "<tbody>\n",
              "\t<tr><td>2021-07-09</td><td>42</td><td> 5754</td></tr>\n",
              "\t<tr><td>2021-07-09</td><td>43</td><td>10146</td></tr>\n",
              "\t<tr><td>2021-07-09</td><td>44</td><td> 4865</td></tr>\n",
              "\t<tr><td>2021-07-09</td><td>45</td><td> 7357</td></tr>\n",
              "\t<tr><td>2021-07-09</td><td>46</td><td> 8151</td></tr>\n",
              "\t<tr><td>2021-07-09</td><td>47</td><td> 6357</td></tr>\n",
              "</tbody>\n",
              "</table>\n"
            ]
          },
          "metadata": {
            "tags": []
          }
        },
        {
          "output_type": "display_data",
          "data": {
            "text/plain": [
              "      date             prefecture        n_vaccinations  \n",
              " Min.   :2021-04-12   Length:4148        Min.   :     1  \n",
              " 1st Qu.:2021-05-04   Class :character   1st Qu.:  1100  \n",
              " Median :2021-05-26   Mode  :character   Median :  6039  \n",
              " Mean   :2021-05-26                      Mean   : 11378  \n",
              " 3rd Qu.:2021-06-17                      3rd Qu.: 13712  \n",
              " Max.   :2021-07-09                      Max.   :119822  "
            ]
          },
          "metadata": {
            "tags": []
          }
        }
      ]
    },
    {
      "cell_type": "markdown",
      "metadata": {
        "id": "JzfsOaAVncOt"
      },
      "source": [
        "### 4.4. 全国計を計算する\n",
        "全国計は、接種件数の場合は別にデータがあるわけではなく、各都道府県の数字を合算すればよさそうです。感染者数とは違い、客船のようなケースはないからでしょうか。\n",
        "\n",
        "<font color = \"gray\">\n",
        "大規模接種の場合も、きちんんと居住地に振り分けられているのかどうか、要確認ですね。\n",
        "</font>\n",
        "\n",
        "なお、全国計も、縦のまま計算することは可能です。"
      ]
    },
    {
      "cell_type": "code",
      "metadata": {
        "colab": {
          "base_uri": "https://localhost:8080/",
          "height": 949
        },
        "id": "2NQmsYFan39c",
        "outputId": "2d16809f-16ee-48a3-c5d0-33d83bb30a84"
      },
      "source": [
        "# いったん横持ちの表にする。\n",
        "vaccinations <- vaccinations %>%\n",
        "    pivot_wider(\n",
        "        names_from = prefecture,\n",
        "        values_from = n_vaccinations\n",
        "    ) %>% \n",
        "# 全国計のカラム\"TOTAL/AVE\"を作り、他の列の合計を入れる。\n",
        "    mutate(\n",
        "        \"TOTAL/AVE\" = select(., -date) %>%\n",
        "        rowSums(na.rm = TRUE)\n",
        "    ) \n",
        "# こんな表になった\n",
        "head(vaccinations)\n",
        "\n",
        "vaccinations <- vaccinations %>% \n",
        "# 縦持ちの表に戻す。\n",
        "    pivot_longer(\n",
        "        cols = -date,\n",
        "        names_to = \"prefecture\",\n",
        "        values_to = \"n_vaccinations\",\n",
        "        values_drop_na = TRUE\n",
        "    )\n",
        "\n",
        "# 結果を確認する。\n",
        "summary(vaccinations)\n",
        "head(vaccinations)\n",
        "tail(vaccinations)"
      ],
      "execution_count": 12,
      "outputs": [
        {
          "output_type": "display_data",
          "data": {
            "text/plain": [
              "  date       01  02  03 04 05  06  07  08  09 ⋯ 43  44  45  46  47  17  34 19 \n",
              "1 2021-04-12 279 203 50  1  20  54 201  61 10 ⋯  55   5  54  22  13  NA NA  NA\n",
              "2 2021-04-13 301 380 35 15  27  31 159  54 15 ⋯  71  13  48  18   5  70 16  NA\n",
              "3 2021-04-14 261 150 95  3 232  62 272  57 11 ⋯  34  11  33  26  52  NA 11   2\n",
              "4 2021-04-15 740 315 99 44 326 133 201 217 15 ⋯  71 154 135  18 167  99 18 122\n",
              "5 2021-04-16 919 283 84 42 131 147 173 597 14 ⋯  79  70 126 123  35  29 64  42\n",
              "6 2021-04-17 311 118 72 19 135   1  NA 174 43 ⋯ 135  41  19 196  31 235 98 126\n",
              "  31 TOTAL/AVE\n",
              "1 NA 4737     \n",
              "2 NA 4112     \n",
              "3  1 4794     \n",
              "4 59 8492     \n",
              "5 20 9796     \n",
              "6 77 7652     "
            ],
            "text/latex": "A tibble: 6 × 49\n\\begin{tabular}{lllllllllllllllllllll}\n date & 01 & 02 & 03 & 04 & 05 & 06 & 07 & 08 & 09 & ⋯ & 43 & 44 & 45 & 46 & 47 & 17 & 34 & 19 & 31 & TOTAL/AVE\\\\\n <date> & <dbl> & <dbl> & <dbl> & <dbl> & <dbl> & <dbl> & <dbl> & <dbl> & <dbl> & ⋯ & <dbl> & <dbl> & <dbl> & <dbl> & <dbl> & <dbl> & <dbl> & <dbl> & <dbl> & <dbl>\\\\\n\\hline\n\t 2021-04-12 & 279 & 203 & 50 &  1 &  20 &  54 & 201 &  61 & 10 & ⋯ &  55 &   5 &  54 &  22 &  13 &  NA & NA &  NA & NA & 4737\\\\\n\t 2021-04-13 & 301 & 380 & 35 & 15 &  27 &  31 & 159 &  54 & 15 & ⋯ &  71 &  13 &  48 &  18 &   5 &  70 & 16 &  NA & NA & 4112\\\\\n\t 2021-04-14 & 261 & 150 & 95 &  3 & 232 &  62 & 272 &  57 & 11 & ⋯ &  34 &  11 &  33 &  26 &  52 &  NA & 11 &   2 &  1 & 4794\\\\\n\t 2021-04-15 & 740 & 315 & 99 & 44 & 326 & 133 & 201 & 217 & 15 & ⋯ &  71 & 154 & 135 &  18 & 167 &  99 & 18 & 122 & 59 & 8492\\\\\n\t 2021-04-16 & 919 & 283 & 84 & 42 & 131 & 147 & 173 & 597 & 14 & ⋯ &  79 &  70 & 126 & 123 &  35 &  29 & 64 &  42 & 20 & 9796\\\\\n\t 2021-04-17 & 311 & 118 & 72 & 19 & 135 &   1 &  NA & 174 & 43 & ⋯ & 135 &  41 &  19 & 196 &  31 & 235 & 98 & 126 & 77 & 7652\\\\\n\\end{tabular}\n",
            "text/markdown": "\nA tibble: 6 × 49\n\n| date &lt;date&gt; | 01 &lt;dbl&gt; | 02 &lt;dbl&gt; | 03 &lt;dbl&gt; | 04 &lt;dbl&gt; | 05 &lt;dbl&gt; | 06 &lt;dbl&gt; | 07 &lt;dbl&gt; | 08 &lt;dbl&gt; | 09 &lt;dbl&gt; | ⋯ ⋯ | 43 &lt;dbl&gt; | 44 &lt;dbl&gt; | 45 &lt;dbl&gt; | 46 &lt;dbl&gt; | 47 &lt;dbl&gt; | 17 &lt;dbl&gt; | 34 &lt;dbl&gt; | 19 &lt;dbl&gt; | 31 &lt;dbl&gt; | TOTAL/AVE &lt;dbl&gt; |\n|---|---|---|---|---|---|---|---|---|---|---|---|---|---|---|---|---|---|---|---|---|\n| 2021-04-12 | 279 | 203 | 50 |  1 |  20 |  54 | 201 |  61 | 10 | ⋯ |  55 |   5 |  54 |  22 |  13 |  NA | NA |  NA | NA | 4737 |\n| 2021-04-13 | 301 | 380 | 35 | 15 |  27 |  31 | 159 |  54 | 15 | ⋯ |  71 |  13 |  48 |  18 |   5 |  70 | 16 |  NA | NA | 4112 |\n| 2021-04-14 | 261 | 150 | 95 |  3 | 232 |  62 | 272 |  57 | 11 | ⋯ |  34 |  11 |  33 |  26 |  52 |  NA | 11 |   2 |  1 | 4794 |\n| 2021-04-15 | 740 | 315 | 99 | 44 | 326 | 133 | 201 | 217 | 15 | ⋯ |  71 | 154 | 135 |  18 | 167 |  99 | 18 | 122 | 59 | 8492 |\n| 2021-04-16 | 919 | 283 | 84 | 42 | 131 | 147 | 173 | 597 | 14 | ⋯ |  79 |  70 | 126 | 123 |  35 |  29 | 64 |  42 | 20 | 9796 |\n| 2021-04-17 | 311 | 118 | 72 | 19 | 135 |   1 |  NA | 174 | 43 | ⋯ | 135 |  41 |  19 | 196 |  31 | 235 | 98 | 126 | 77 | 7652 |\n\n",
            "text/html": [
              "<table class=\"dataframe\">\n",
              "<caption>A tibble: 6 × 49</caption>\n",
              "<thead>\n",
              "\t<tr><th scope=col>date</th><th scope=col>01</th><th scope=col>02</th><th scope=col>03</th><th scope=col>04</th><th scope=col>05</th><th scope=col>06</th><th scope=col>07</th><th scope=col>08</th><th scope=col>09</th><th scope=col>⋯</th><th scope=col>43</th><th scope=col>44</th><th scope=col>45</th><th scope=col>46</th><th scope=col>47</th><th scope=col>17</th><th scope=col>34</th><th scope=col>19</th><th scope=col>31</th><th scope=col>TOTAL/AVE</th></tr>\n",
              "\t<tr><th scope=col>&lt;date&gt;</th><th scope=col>&lt;dbl&gt;</th><th scope=col>&lt;dbl&gt;</th><th scope=col>&lt;dbl&gt;</th><th scope=col>&lt;dbl&gt;</th><th scope=col>&lt;dbl&gt;</th><th scope=col>&lt;dbl&gt;</th><th scope=col>&lt;dbl&gt;</th><th scope=col>&lt;dbl&gt;</th><th scope=col>&lt;dbl&gt;</th><th scope=col>⋯</th><th scope=col>&lt;dbl&gt;</th><th scope=col>&lt;dbl&gt;</th><th scope=col>&lt;dbl&gt;</th><th scope=col>&lt;dbl&gt;</th><th scope=col>&lt;dbl&gt;</th><th scope=col>&lt;dbl&gt;</th><th scope=col>&lt;dbl&gt;</th><th scope=col>&lt;dbl&gt;</th><th scope=col>&lt;dbl&gt;</th><th scope=col>&lt;dbl&gt;</th></tr>\n",
              "</thead>\n",
              "<tbody>\n",
              "\t<tr><td>2021-04-12</td><td>279</td><td>203</td><td>50</td><td> 1</td><td> 20</td><td> 54</td><td>201</td><td> 61</td><td>10</td><td>⋯</td><td> 55</td><td>  5</td><td> 54</td><td> 22</td><td> 13</td><td> NA</td><td>NA</td><td> NA</td><td>NA</td><td>4737</td></tr>\n",
              "\t<tr><td>2021-04-13</td><td>301</td><td>380</td><td>35</td><td>15</td><td> 27</td><td> 31</td><td>159</td><td> 54</td><td>15</td><td>⋯</td><td> 71</td><td> 13</td><td> 48</td><td> 18</td><td>  5</td><td> 70</td><td>16</td><td> NA</td><td>NA</td><td>4112</td></tr>\n",
              "\t<tr><td>2021-04-14</td><td>261</td><td>150</td><td>95</td><td> 3</td><td>232</td><td> 62</td><td>272</td><td> 57</td><td>11</td><td>⋯</td><td> 34</td><td> 11</td><td> 33</td><td> 26</td><td> 52</td><td> NA</td><td>11</td><td>  2</td><td> 1</td><td>4794</td></tr>\n",
              "\t<tr><td>2021-04-15</td><td>740</td><td>315</td><td>99</td><td>44</td><td>326</td><td>133</td><td>201</td><td>217</td><td>15</td><td>⋯</td><td> 71</td><td>154</td><td>135</td><td> 18</td><td>167</td><td> 99</td><td>18</td><td>122</td><td>59</td><td>8492</td></tr>\n",
              "\t<tr><td>2021-04-16</td><td>919</td><td>283</td><td>84</td><td>42</td><td>131</td><td>147</td><td>173</td><td>597</td><td>14</td><td>⋯</td><td> 79</td><td> 70</td><td>126</td><td>123</td><td> 35</td><td> 29</td><td>64</td><td> 42</td><td>20</td><td>9796</td></tr>\n",
              "\t<tr><td>2021-04-17</td><td>311</td><td>118</td><td>72</td><td>19</td><td>135</td><td>  1</td><td> NA</td><td>174</td><td>43</td><td>⋯</td><td>135</td><td> 41</td><td> 19</td><td>196</td><td> 31</td><td>235</td><td>98</td><td>126</td><td>77</td><td>7652</td></tr>\n",
              "</tbody>\n",
              "</table>\n"
            ]
          },
          "metadata": {
            "tags": []
          }
        },
        {
          "output_type": "display_data",
          "data": {
            "text/plain": [
              "      date             prefecture        n_vaccinations   \n",
              " Min.   :2021-04-12   Length:4237        Min.   :      1  \n",
              " 1st Qu.:2021-05-04   Class :character   1st Qu.:   1146  \n",
              " Median :2021-05-26   Mode  :character   Median :   6293  \n",
              " Mean   :2021-05-26                      Mean   :  22279  \n",
              " 3rd Qu.:2021-06-17                      3rd Qu.:  14418  \n",
              " Max.   :2021-07-09                      Max.   :1214755  "
            ]
          },
          "metadata": {
            "tags": []
          }
        },
        {
          "output_type": "display_data",
          "data": {
            "text/plain": [
              "  date       prefecture n_vaccinations\n",
              "1 2021-04-12 01         279           \n",
              "2 2021-04-12 02         203           \n",
              "3 2021-04-12 03          50           \n",
              "4 2021-04-12 04           1           \n",
              "5 2021-04-12 05          20           \n",
              "6 2021-04-12 06          54           "
            ],
            "text/latex": "A tibble: 6 × 3\n\\begin{tabular}{lll}\n date & prefecture & n\\_vaccinations\\\\\n <date> & <chr> & <dbl>\\\\\n\\hline\n\t 2021-04-12 & 01 & 279\\\\\n\t 2021-04-12 & 02 & 203\\\\\n\t 2021-04-12 & 03 &  50\\\\\n\t 2021-04-12 & 04 &   1\\\\\n\t 2021-04-12 & 05 &  20\\\\\n\t 2021-04-12 & 06 &  54\\\\\n\\end{tabular}\n",
            "text/markdown": "\nA tibble: 6 × 3\n\n| date &lt;date&gt; | prefecture &lt;chr&gt; | n_vaccinations &lt;dbl&gt; |\n|---|---|---|\n| 2021-04-12 | 01 | 279 |\n| 2021-04-12 | 02 | 203 |\n| 2021-04-12 | 03 |  50 |\n| 2021-04-12 | 04 |   1 |\n| 2021-04-12 | 05 |  20 |\n| 2021-04-12 | 06 |  54 |\n\n",
            "text/html": [
              "<table class=\"dataframe\">\n",
              "<caption>A tibble: 6 × 3</caption>\n",
              "<thead>\n",
              "\t<tr><th scope=col>date</th><th scope=col>prefecture</th><th scope=col>n_vaccinations</th></tr>\n",
              "\t<tr><th scope=col>&lt;date&gt;</th><th scope=col>&lt;chr&gt;</th><th scope=col>&lt;dbl&gt;</th></tr>\n",
              "</thead>\n",
              "<tbody>\n",
              "\t<tr><td>2021-04-12</td><td>01</td><td>279</td></tr>\n",
              "\t<tr><td>2021-04-12</td><td>02</td><td>203</td></tr>\n",
              "\t<tr><td>2021-04-12</td><td>03</td><td> 50</td></tr>\n",
              "\t<tr><td>2021-04-12</td><td>04</td><td>  1</td></tr>\n",
              "\t<tr><td>2021-04-12</td><td>05</td><td> 20</td></tr>\n",
              "\t<tr><td>2021-04-12</td><td>06</td><td> 54</td></tr>\n",
              "</tbody>\n",
              "</table>\n"
            ]
          },
          "metadata": {
            "tags": []
          }
        },
        {
          "output_type": "display_data",
          "data": {
            "text/plain": [
              "  date       prefecture n_vaccinations\n",
              "1 2021-07-09 47           6357        \n",
              "2 2021-07-09 17           8304        \n",
              "3 2021-07-09 34          20903        \n",
              "4 2021-07-09 19           4166        \n",
              "5 2021-07-09 31           3989        \n",
              "6 2021-07-09 TOTAL/AVE  724128        "
            ],
            "text/latex": "A tibble: 6 × 3\n\\begin{tabular}{lll}\n date & prefecture & n\\_vaccinations\\\\\n <date> & <chr> & <dbl>\\\\\n\\hline\n\t 2021-07-09 & 47        &   6357\\\\\n\t 2021-07-09 & 17        &   8304\\\\\n\t 2021-07-09 & 34        &  20903\\\\\n\t 2021-07-09 & 19        &   4166\\\\\n\t 2021-07-09 & 31        &   3989\\\\\n\t 2021-07-09 & TOTAL/AVE & 724128\\\\\n\\end{tabular}\n",
            "text/markdown": "\nA tibble: 6 × 3\n\n| date &lt;date&gt; | prefecture &lt;chr&gt; | n_vaccinations &lt;dbl&gt; |\n|---|---|---|\n| 2021-07-09 | 47        |   6357 |\n| 2021-07-09 | 17        |   8304 |\n| 2021-07-09 | 34        |  20903 |\n| 2021-07-09 | 19        |   4166 |\n| 2021-07-09 | 31        |   3989 |\n| 2021-07-09 | TOTAL/AVE | 724128 |\n\n",
            "text/html": [
              "<table class=\"dataframe\">\n",
              "<caption>A tibble: 6 × 3</caption>\n",
              "<thead>\n",
              "\t<tr><th scope=col>date</th><th scope=col>prefecture</th><th scope=col>n_vaccinations</th></tr>\n",
              "\t<tr><th scope=col>&lt;date&gt;</th><th scope=col>&lt;chr&gt;</th><th scope=col>&lt;dbl&gt;</th></tr>\n",
              "</thead>\n",
              "<tbody>\n",
              "\t<tr><td>2021-07-09</td><td>47       </td><td>  6357</td></tr>\n",
              "\t<tr><td>2021-07-09</td><td>17       </td><td>  8304</td></tr>\n",
              "\t<tr><td>2021-07-09</td><td>34       </td><td> 20903</td></tr>\n",
              "\t<tr><td>2021-07-09</td><td>19       </td><td>  4166</td></tr>\n",
              "\t<tr><td>2021-07-09</td><td>31       </td><td>  3989</td></tr>\n",
              "\t<tr><td>2021-07-09</td><td>TOTAL/AVE</td><td>724128</td></tr>\n",
              "</tbody>\n",
              "</table>\n"
            ]
          },
          "metadata": {
            "tags": []
          }
        }
      ]
    },
    {
      "cell_type": "markdown",
      "metadata": {
        "id": "qzUUBsPrv2tO"
      },
      "source": [
        "### 4.5. 累計を計算する\n",
        "\n",
        "ワクチンが行き渡ることの効果は、その日の接種分ではなく、それまでの積み重ねによるものでしょうから、累計の数字を計算しましょう。特定の都道府県に注目して、その県で接種が始まった日からの件数を足していく、ということになります。\n",
        "\n",
        "ある県だけに注目したら、こういう処理をしたらいいね、という部分を、即席のファンクションにしています。この部分は、informationチャンネルの[解説「Memo_for_R_beginners.Rmd」](https://jnpcitseminar.slack.com/files/UGX4CGHNZ/F026EJU680M/memo_for_r_beginners.rmd)を参考にして下さい。\n",
        "\n",
        "もともとは、当日分を含む累計しか計算していなかったのですが、積み上げ棒グラフにするなら、前日までの累計が必要だな、と考えて後からその部分を追加しました。ファンクションとして、切り出してまとめていたから、手直しが楽でした。\n",
        "\n",
        "本当は、所定回数を完了したのかまだ途中かを区別し、接種の効果に応じてカウントの重みを変えたいところです。しかし、１回完了型が接種可能になった際、いま入手できるデータでは対応しきれないため、単純に合算しています。「2回中の1回」（statusが1）は判別できるのですが、statusが2の場合、1だった人が2回目接種を終えたのか、1回だけでＯＫのワクチンの接種を受けたのかが、区別できないためです。\n",
        "\n",
        "製造元がどこか（Johnson & Johonson とか）の情報があれば、補えます。流通の目詰まりを追うためにも、データがほしいところです。"
      ]
    },
    {
      "cell_type": "code",
      "metadata": {
        "colab": {
          "base_uri": "https://localhost:8080/",
          "height": 663
        },
        "id": "cif-qWfpxBTM",
        "outputId": "e817acc0-1826-4947-d2b7-c2cbfe60d2ec"
      },
      "source": [
        "# 都道府県ごとに小分けした想定で、累計を計算する即席のファンクションを作った。\n",
        "calc_sum = function(df){\n",
        "    return(\n",
        "        df %>% arrange(date) %>% \n",
        "            mutate(\n",
        "# total_vaccinationsは当日分も含む。\n",
        "                total_vaccinations = cumsum(n_vaccinations),\n",
        "# 当日分と積み上げグラフにする場合も考えて、前日分まではcum_vaccinationsカラムに入れることにした。\n",
        "                cum_vaccinations   = total_vaccinations - n_vaccinations\n",
        "            ) %>% \n",
        "        arrange(desc(date))\n",
        "    )\n",
        "}\n",
        "\n",
        "# 都道府県ごとにnest（下の階層に畳む）する。\n",
        "vaccinations <- vaccinations %>%\n",
        "# コード順にソートしておく。\n",
        "    arrange(prefecture) %>%\n",
        "# prefecture以外は畳む。\n",
        "    nest(data_by_pref = -prefecture) %>%\n",
        "# さっき作ったファンクションを、県単位で当てはめていく。\n",
        "    mutate(data_by_pref = map(data_by_pref, calc_sum)) %>% \n",
        "# 計算が終わったので、nestを解除する。\n",
        "    unnest(cols = data_by_pref)\n",
        "\n",
        "# 表示する。\n",
        "head(vaccinations)\n",
        "tail(vaccinations)\n",
        "str(vaccinations)"
      ],
      "execution_count": 13,
      "outputs": [
        {
          "output_type": "display_data",
          "data": {
            "text/plain": [
              "  prefecture date       n_vaccinations total_vaccinations cum_vaccinations\n",
              "1 01         2021-07-09 20416          1901266            1880850         \n",
              "2 01         2021-07-08 33336          1880850            1847514         \n",
              "3 01         2021-07-07 36208          1847514            1811306         \n",
              "4 01         2021-07-06 40353          1811306            1770953         \n",
              "5 01         2021-07-05 44455          1770953            1726498         \n",
              "6 01         2021-07-04 37891          1726498            1688607         "
            ],
            "text/latex": "A tibble: 6 × 5\n\\begin{tabular}{lllll}\n prefecture & date & n\\_vaccinations & total\\_vaccinations & cum\\_vaccinations\\\\\n <chr> & <date> & <dbl> & <dbl> & <dbl>\\\\\n\\hline\n\t 01 & 2021-07-09 & 20416 & 1901266 & 1880850\\\\\n\t 01 & 2021-07-08 & 33336 & 1880850 & 1847514\\\\\n\t 01 & 2021-07-07 & 36208 & 1847514 & 1811306\\\\\n\t 01 & 2021-07-06 & 40353 & 1811306 & 1770953\\\\\n\t 01 & 2021-07-05 & 44455 & 1770953 & 1726498\\\\\n\t 01 & 2021-07-04 & 37891 & 1726498 & 1688607\\\\\n\\end{tabular}\n",
            "text/markdown": "\nA tibble: 6 × 5\n\n| prefecture &lt;chr&gt; | date &lt;date&gt; | n_vaccinations &lt;dbl&gt; | total_vaccinations &lt;dbl&gt; | cum_vaccinations &lt;dbl&gt; |\n|---|---|---|---|---|\n| 01 | 2021-07-09 | 20416 | 1901266 | 1880850 |\n| 01 | 2021-07-08 | 33336 | 1880850 | 1847514 |\n| 01 | 2021-07-07 | 36208 | 1847514 | 1811306 |\n| 01 | 2021-07-06 | 40353 | 1811306 | 1770953 |\n| 01 | 2021-07-05 | 44455 | 1770953 | 1726498 |\n| 01 | 2021-07-04 | 37891 | 1726498 | 1688607 |\n\n",
            "text/html": [
              "<table class=\"dataframe\">\n",
              "<caption>A tibble: 6 × 5</caption>\n",
              "<thead>\n",
              "\t<tr><th scope=col>prefecture</th><th scope=col>date</th><th scope=col>n_vaccinations</th><th scope=col>total_vaccinations</th><th scope=col>cum_vaccinations</th></tr>\n",
              "\t<tr><th scope=col>&lt;chr&gt;</th><th scope=col>&lt;date&gt;</th><th scope=col>&lt;dbl&gt;</th><th scope=col>&lt;dbl&gt;</th><th scope=col>&lt;dbl&gt;</th></tr>\n",
              "</thead>\n",
              "<tbody>\n",
              "\t<tr><td>01</td><td>2021-07-09</td><td>20416</td><td>1901266</td><td>1880850</td></tr>\n",
              "\t<tr><td>01</td><td>2021-07-08</td><td>33336</td><td>1880850</td><td>1847514</td></tr>\n",
              "\t<tr><td>01</td><td>2021-07-07</td><td>36208</td><td>1847514</td><td>1811306</td></tr>\n",
              "\t<tr><td>01</td><td>2021-07-06</td><td>40353</td><td>1811306</td><td>1770953</td></tr>\n",
              "\t<tr><td>01</td><td>2021-07-05</td><td>44455</td><td>1770953</td><td>1726498</td></tr>\n",
              "\t<tr><td>01</td><td>2021-07-04</td><td>37891</td><td>1726498</td><td>1688607</td></tr>\n",
              "</tbody>\n",
              "</table>\n"
            ]
          },
          "metadata": {
            "tags": []
          }
        },
        {
          "output_type": "display_data",
          "data": {
            "text/plain": [
              "  prefecture date       n_vaccinations total_vaccinations cum_vaccinations\n",
              "1 TOTAL/AVE  2021-04-17 7652           39583              31931           \n",
              "2 TOTAL/AVE  2021-04-16 9796           31931              22135           \n",
              "3 TOTAL/AVE  2021-04-15 8492           22135              13643           \n",
              "4 TOTAL/AVE  2021-04-14 4794           13643               8849           \n",
              "5 TOTAL/AVE  2021-04-13 4112            8849               4737           \n",
              "6 TOTAL/AVE  2021-04-12 4737            4737                  0           "
            ],
            "text/latex": "A tibble: 6 × 5\n\\begin{tabular}{lllll}\n prefecture & date & n\\_vaccinations & total\\_vaccinations & cum\\_vaccinations\\\\\n <chr> & <date> & <dbl> & <dbl> & <dbl>\\\\\n\\hline\n\t TOTAL/AVE & 2021-04-17 & 7652 & 39583 & 31931\\\\\n\t TOTAL/AVE & 2021-04-16 & 9796 & 31931 & 22135\\\\\n\t TOTAL/AVE & 2021-04-15 & 8492 & 22135 & 13643\\\\\n\t TOTAL/AVE & 2021-04-14 & 4794 & 13643 &  8849\\\\\n\t TOTAL/AVE & 2021-04-13 & 4112 &  8849 &  4737\\\\\n\t TOTAL/AVE & 2021-04-12 & 4737 &  4737 &     0\\\\\n\\end{tabular}\n",
            "text/markdown": "\nA tibble: 6 × 5\n\n| prefecture &lt;chr&gt; | date &lt;date&gt; | n_vaccinations &lt;dbl&gt; | total_vaccinations &lt;dbl&gt; | cum_vaccinations &lt;dbl&gt; |\n|---|---|---|---|---|\n| TOTAL/AVE | 2021-04-17 | 7652 | 39583 | 31931 |\n| TOTAL/AVE | 2021-04-16 | 9796 | 31931 | 22135 |\n| TOTAL/AVE | 2021-04-15 | 8492 | 22135 | 13643 |\n| TOTAL/AVE | 2021-04-14 | 4794 | 13643 |  8849 |\n| TOTAL/AVE | 2021-04-13 | 4112 |  8849 |  4737 |\n| TOTAL/AVE | 2021-04-12 | 4737 |  4737 |     0 |\n\n",
            "text/html": [
              "<table class=\"dataframe\">\n",
              "<caption>A tibble: 6 × 5</caption>\n",
              "<thead>\n",
              "\t<tr><th scope=col>prefecture</th><th scope=col>date</th><th scope=col>n_vaccinations</th><th scope=col>total_vaccinations</th><th scope=col>cum_vaccinations</th></tr>\n",
              "\t<tr><th scope=col>&lt;chr&gt;</th><th scope=col>&lt;date&gt;</th><th scope=col>&lt;dbl&gt;</th><th scope=col>&lt;dbl&gt;</th><th scope=col>&lt;dbl&gt;</th></tr>\n",
              "</thead>\n",
              "<tbody>\n",
              "\t<tr><td>TOTAL/AVE</td><td>2021-04-17</td><td>7652</td><td>39583</td><td>31931</td></tr>\n",
              "\t<tr><td>TOTAL/AVE</td><td>2021-04-16</td><td>9796</td><td>31931</td><td>22135</td></tr>\n",
              "\t<tr><td>TOTAL/AVE</td><td>2021-04-15</td><td>8492</td><td>22135</td><td>13643</td></tr>\n",
              "\t<tr><td>TOTAL/AVE</td><td>2021-04-14</td><td>4794</td><td>13643</td><td> 8849</td></tr>\n",
              "\t<tr><td>TOTAL/AVE</td><td>2021-04-13</td><td>4112</td><td> 8849</td><td> 4737</td></tr>\n",
              "\t<tr><td>TOTAL/AVE</td><td>2021-04-12</td><td>4737</td><td> 4737</td><td>    0</td></tr>\n",
              "</tbody>\n",
              "</table>\n"
            ]
          },
          "metadata": {
            "tags": []
          }
        },
        {
          "output_type": "stream",
          "text": [
            "tibble [4,237 × 5] (S3: tbl_df/tbl/data.frame)\n",
            " $ prefecture        : chr [1:4237] \"01\" \"01\" \"01\" \"01\" ...\n",
            " $ date              : Date[1:4237], format: \"2021-07-09\" \"2021-07-08\" ...\n",
            " $ n_vaccinations    : num [1:4237] 20416 33336 36208 40353 44455 ...\n",
            " $ total_vaccinations: num [1:4237] 1901266 1880850 1847514 1811306 1770953 ...\n",
            " $ cum_vaccinations  : num [1:4237] 1880850 1847514 1811306 1770953 1726498 ...\n"
          ],
          "name": "stdout"
        }
      ]
    },
    {
      "cell_type": "markdown",
      "metadata": {
        "id": "dQacc8Awy08f"
      },
      "source": [
        "## 5.データの橋渡し"
      ]
    },
    {
      "cell_type": "markdown",
      "metadata": {
        "id": "o6M6fyrGy2sD"
      },
      "source": [
        "### 5.1. 何が足りない\n",
        "\n",
        "冒頭1.2.の「気になる点」で触れた通り、\n",
        "ワクチン接種と感染状況のデータの作りは、似ているようで違っています。関係を見るためには、両方のデータを、同じ日付・同じ都道府県、でドッキングさせたい。となると、都道府県コードと都道府県名との対照表が必要になります。\n",
        "\n",
        "01と北海道は同じもの、02と青森または青森県も同じもの……と、重ならず抜け漏れもなく対応させるためです。"
      ]
    },
    {
      "cell_type": "markdown",
      "metadata": {
        "id": "28K0aXhWzDVN"
      },
      "source": [
        "### 5.2. ネ申（ねもうす）Excel問題\n",
        "\n",
        "仕様のところに、JIS規格へのリンクも張ってあるのですが、ご覧になった方はいるでしょうか？　印刷したときに紙1枚に納まるよう、人間にやさしく作ってありました。が、PCに処理させるには不向きです。\n",
        "参考になる、三重大・奥村先生の資料は[こちら](https://oku.edu.mie-u.ac.jp/~okumura/SSS2013slide.pdf)。山本さんの資料にも、参考になるリンクが紹介されていました。\n",
        "\n",
        "仕方がないので、Rで扱いやすいよう、都道府県コードだけで1カラム、県名だけで1カラム、になったデータを手元で作りました（表計算ソフトで作ったあと、読み込ませたもの）。\n",
        "\n",
        "あと、生数字ではなく、人口比で見るようにしたいので、2021年時点の推計人口（単位・千人）のデータも用意しました。出所は[こちら](https://www.stat.go.jp/data/nihon/zuhyou/n210200300.xlsx)。\n",
        "\n",
        "<font color = \"gray\">\n",
        "※山本さんがお使いのデータと違い、65歳で分けていません。悪しからず。\n",
        "</font>\n",
        "\n",
        "都道府県名から「都府県」を外して短くしたものと、複数の県を地方別にまとめたグループ（異論があるかもしれませんが、お許しを）も作っています。Flourishで可視化する際に見やすくしたかったからです。"
      ]
    },
    {
      "cell_type": "code",
      "metadata": {
        "colab": {
          "base_uri": "https://localhost:8080/",
          "height": 685
        },
        "id": "p_z5horczCbs",
        "outputId": "834ece20-3021-479c-b11d-00486ba9a002"
      },
      "source": [
        "# 都道府県コードと人口データ、ネ申状態でない、よいものが見つからなかった。\n",
        "# JIS X 0401を整形したものと、\"https://www.soumu.go.jp/main_content/000701580.xls\"の人口データで作った。\n",
        "# コード順の都道府県名（末尾に都道府県をつけずに短くした形）＋全国。\n",
        "levels_prefecture_short <- c(\n",
        "  \"北海道\", \"青森\",   \"岩手\",   \"宮城\",   \"秋田\",   \"山形\",  \n",
        "  \"福島\",   \"茨城\",   \"栃木\",   \"群馬\",   \"埼玉\",   \"千葉\",  \n",
        "  \"東京\",   \"神奈川\", \"新潟\",   \"富山\",   \"石川\",   \"福井\",  \n",
        "  \"山梨\",   \"長野\",   \"岐阜\",   \"静岡\",   \"愛知\",   \"三重\",  \n",
        "  \"滋賀\",   \"京都\",   \"大阪\",   \"兵庫\",   \"奈良\",   \"和歌山\",\n",
        "  \"鳥取\",   \"島根\",   \"岡山\",   \"広島\",   \"山口\",   \"徳島\",  \n",
        "  \"香川\",   \"愛媛\",   \"高知\",   \"福岡\",   \"佐賀\",   \"長崎\",  \n",
        "  \"熊本\",   \"大分\",   \"宮崎\",   \"鹿児島\", \"沖縄\",   \"全国\" \n",
        ")\n",
        "\n",
        "# 2020年1月1日時点の都道府県別人口。出典は上記。\n",
        "population_2020 <- c(\n",
        "   5267762, 1275783, 1235517, 2292385,  985416, 1082296,\n",
        "   1881981, 2921436, 1965516, 1969439, 7390054, 6319772,\n",
        "  13834925, 9209442, 2236042, 1055999, 1139612,  780053,\n",
        "    826579, 2087307, 2032490, 3708556, 7575530, 1813859,\n",
        "   1420948, 2545899, 8849635, 5549568, 1353837,  954258,\n",
        "    561175,  679324, 1903627, 2826858, 1369882,  742505,\n",
        "    981280, 1369131,  709230, 5129841, 823810,  1350769,\n",
        "   1769880, 1151229, 1095903, 1630146, 1481547, 127138033\n",
        ")\n",
        "\n",
        "# 都道府県コードを作る。頭に0がつく文字列型。\n",
        "JISX0401 <- 1:47 %>%\n",
        "    str_pad(2, pad = 0)\n",
        "JISX0401[48] <- \"TOTAL/AVE\"\n",
        "\n",
        "# 都・府・県がついていないと、突合に困りそうなので、それも作る。\n",
        "levels_prefecture <- levels_prefecture_short[1:48] %>% \n",
        "    paste0(\"県\")\n",
        "levels_prefecture[ 1] <- \"北海道\"\n",
        "levels_prefecture[13] <- \"東京都\"\n",
        "levels_prefecture[26] <- \"京都府\"\n",
        "levels_prefecture[27] <- \"大阪府\"\n",
        "levels_prefecture[48] <- \"全国\"\n",
        "\n",
        "# この４つをまとめてtibbleにする。\n",
        "pref_pop <- tibble(\n",
        "    code                = JISX0401, \n",
        "    prefecture          = levels_prefecture,\n",
        "    prefecture_short    = levels_prefecture_short,\n",
        "    population          = population_2020\n",
        ")\n",
        "\n",
        "# 辞書順ではなく、出現順通りのfactor にしてみた。\n",
        "columns_to_integer <- 'population'\n",
        "columns_to_factor2 <- c('code', 'prefecture', 'prefecture_short')\n",
        "pref_pop <- pref_pop %>% \n",
        "    mutate(\n",
        "        across(all_of(columns_to_integer), as.integer),\n",
        "        across(all_of(columns_to_factor2), fct_inorder)\n",
        "    )\n",
        "\n",
        "# 地方別にくくれるようにする。中点があるものは、エラーしないようにバックティックで囲む。\n",
        "pref_pop <- pref_pop %>% \n",
        "    mutate(block = prefecture_short)\n",
        "pref_pop <- pref_pop %>% \n",
        "    mutate(block = fct_collapse(block,\n",
        "  `北海道・東北` = c(\"北海道\", \"青森\",   \"岩手\",   \"宮城\",   \"秋田\",   \"山形\",   \"福島\"),\n",
        "  関東           = c(\"茨城\",   \"栃木\",   \"群馬\",   \"埼玉\",   \"千葉\",   \"東京\",   \"神奈川\"),\n",
        "  甲信越         = c(\"新潟\",   \"富山\",   \"石川\",   \"福井\",   \"山梨\",   \"長野\"),\n",
        "  東海           = c(\"岐阜\",   \"静岡\",   \"愛知\",   \"三重\"),  \n",
        "  近畿           = c(\"滋賀\",   \"京都\",   \"大阪\",   \"兵庫\",   \"奈良\",   \"和歌山\"),\n",
        "  中国           = c(\"鳥取\",   \"島根\",   \"岡山\",   \"広島\",   \"山口\"),\n",
        "  四国           = c(\"徳島\",   \"香川\",   \"愛媛\",   \"高知\"),\n",
        "  `九州・沖縄`   = c(\"福岡\",   \"佐賀\",   \"長崎\",   \"熊本\",   \"大分\",   \"宮崎\",   \"鹿児島\", \"沖縄\"),\n",
        "  全国           = \"全国\" \n",
        "    )\n",
        ")\n",
        "\n",
        "head(pref_pop)\n",
        "summary(pref_pop)\n",
        "str(pref_pop)"
      ],
      "execution_count": 14,
      "outputs": [
        {
          "output_type": "display_data",
          "data": {
            "text/plain": [
              "  code prefecture prefecture_short population block       \n",
              "1 01   北海道     北海道           5267762    北海道・東北\n",
              "2 02   青森県     青森             1275783    北海道・東北\n",
              "3 03   岩手県     岩手             1235517    北海道・東北\n",
              "4 04   宮城県     宮城             2292385    北海道・東北\n",
              "5 05   秋田県     秋田              985416    北海道・東北\n",
              "6 06   山形県     山形             1082296    北海道・東北"
            ],
            "text/latex": "A tibble: 6 × 5\n\\begin{tabular}{lllll}\n code & prefecture & prefecture\\_short & population & block\\\\\n <fct> & <fct> & <fct> & <int> & <fct>\\\\\n\\hline\n\t 01 & 北海道 & 北海道 & 5267762 & 北海道・東北\\\\\n\t 02 & 青森県 & 青森   & 1275783 & 北海道・東北\\\\\n\t 03 & 岩手県 & 岩手   & 1235517 & 北海道・東北\\\\\n\t 04 & 宮城県 & 宮城   & 2292385 & 北海道・東北\\\\\n\t 05 & 秋田県 & 秋田   &  985416 & 北海道・東北\\\\\n\t 06 & 山形県 & 山形   & 1082296 & 北海道・東北\\\\\n\\end{tabular}\n",
            "text/markdown": "\nA tibble: 6 × 5\n\n| code &lt;fct&gt; | prefecture &lt;fct&gt; | prefecture_short &lt;fct&gt; | population &lt;int&gt; | block &lt;fct&gt; |\n|---|---|---|---|---|\n| 01 | 北海道 | 北海道 | 5267762 | 北海道・東北 |\n| 02 | 青森県 | 青森   | 1275783 | 北海道・東北 |\n| 03 | 岩手県 | 岩手   | 1235517 | 北海道・東北 |\n| 04 | 宮城県 | 宮城   | 2292385 | 北海道・東北 |\n| 05 | 秋田県 | 秋田   |  985416 | 北海道・東北 |\n| 06 | 山形県 | 山形   | 1082296 | 北海道・東北 |\n\n",
            "text/html": [
              "<table class=\"dataframe\">\n",
              "<caption>A tibble: 6 × 5</caption>\n",
              "<thead>\n",
              "\t<tr><th scope=col>code</th><th scope=col>prefecture</th><th scope=col>prefecture_short</th><th scope=col>population</th><th scope=col>block</th></tr>\n",
              "\t<tr><th scope=col>&lt;fct&gt;</th><th scope=col>&lt;fct&gt;</th><th scope=col>&lt;fct&gt;</th><th scope=col>&lt;int&gt;</th><th scope=col>&lt;fct&gt;</th></tr>\n",
              "</thead>\n",
              "<tbody>\n",
              "\t<tr><td>01</td><td>北海道</td><td>北海道</td><td>5267762</td><td>北海道・東北</td></tr>\n",
              "\t<tr><td>02</td><td>青森県</td><td>青森  </td><td>1275783</td><td>北海道・東北</td></tr>\n",
              "\t<tr><td>03</td><td>岩手県</td><td>岩手  </td><td>1235517</td><td>北海道・東北</td></tr>\n",
              "\t<tr><td>04</td><td>宮城県</td><td>宮城  </td><td>2292385</td><td>北海道・東北</td></tr>\n",
              "\t<tr><td>05</td><td>秋田県</td><td>秋田  </td><td> 985416</td><td>北海道・東北</td></tr>\n",
              "\t<tr><td>06</td><td>山形県</td><td>山形  </td><td>1082296</td><td>北海道・東北</td></tr>\n",
              "</tbody>\n",
              "</table>\n"
            ]
          },
          "metadata": {
            "tags": []
          }
        },
        {
          "output_type": "display_data",
          "data": {
            "text/plain": [
              "      code      prefecture prefecture_short   population       \n",
              " 01     : 1   北海道 : 1   北海道 : 1       Min.   :   561175  \n",
              " 02     : 1   青森県 : 1   青森   : 1       1st Qu.:  1092501  \n",
              " 03     : 1   岩手県 : 1   岩手   : 1       Median :  1700013  \n",
              " 04     : 1   宮城県 : 1   宮城   : 1       Mean   :  5297418  \n",
              " 05     : 1   秋田県 : 1   秋田   : 1       3rd Qu.:  2850502  \n",
              " 06     : 1   山形県 : 1   山形   : 1       Max.   :127138033  \n",
              " (Other):42   (Other):42   (Other):42                          \n",
              "          block  \n",
              " 九州・沖縄  :8  \n",
              " 北海道・東北:7  \n",
              " 関東        :7  \n",
              " 甲信越      :6  \n",
              " 近畿        :6  \n",
              " 中国        :5  \n",
              " (Other)     :9  "
            ]
          },
          "metadata": {
            "tags": []
          }
        },
        {
          "output_type": "stream",
          "text": [
            "tibble [48 × 5] (S3: tbl_df/tbl/data.frame)\n",
            " $ code            : Factor w/ 48 levels \"01\",\"02\",\"03\",..: 1 2 3 4 5 6 7 8 9 10 ...\n",
            " $ prefecture      : Factor w/ 48 levels \"北海道\",\"青森県\",..: 1 2 3 4 5 6 7 8 9 10 ...\n",
            " $ prefecture_short: Factor w/ 48 levels \"北海道\",\"青森\",..: 1 2 3 4 5 6 7 8 9 10 ...\n",
            " $ population      : int [1:48] 5267762 1275783 1235517 2292385 985416 1082296 1881981 2921436 1965516 1969439 ...\n",
            " $ block           : Factor w/ 9 levels \"北海道・東北\",..: 1 1 1 1 1 1 1 2 2 2 ...\n"
          ],
          "name": "stdout"
        }
      ]
    },
    {
      "cell_type": "markdown",
      "metadata": {
        "id": "7HTcZJap0tKW"
      },
      "source": [
        "## 6.感染状況"
      ]
    },
    {
      "cell_type": "markdown",
      "metadata": {
        "id": "MB6ImCTC0vjD"
      },
      "source": [
        "### 6.1. データを読み込む\n",
        "\n",
        "感染状況のデータを読み込みます。都道府県ごとに取ってくることもできます。いまは、全国分をまとめて取ってきましょう。\n",
        "\n",
        "なお、JSON形式ではありますが、接種状況とは違い、改行区切りにはなっていないので、NDJSON形式ではありません。圧縮もかかっていません。\n",
        "\n",
        "なので、先ほどとは、読み込みの仕方がちょっと違います。"
      ]
    },
    {
      "cell_type": "code",
      "metadata": {
        "colab": {
          "base_uri": "https://localhost:8080/",
          "height": 485
        },
        "id": "PMYZxvY71BcK",
        "outputId": "bed70698-329d-42e1-f6c3-6a37d2d40430"
      },
      "source": [
        "# 内閣官房のページにある、都道府県別の感染者数データ。\n",
        "# ダウンロードの仕方はちょっと異なる。\n",
        "target_url_opendata <- \"https://opendata.corona.go.jp/api/Covid19JapanAll\"\n",
        "ndjson::validate(target_url_opendata, verbose = TRUE)\n",
        "opendata_json <- jsonlite::fromJSON(target_url_opendata)\n",
        "# エラーは出ていないようだ。必要な部分だけを取り出す。\n",
        "str(opendata_json)\n",
        "cum_patients <- opendata_json[[\"itemList\"]] %>%\n",
        "# data.frameなのでtibbleに変換する。\n",
        "    as_tibble()\n",
        "head(cum_patients)\n",
        "# 不要になった元データは消す。\n",
        "rm(opendata_json)"
      ],
      "execution_count": 15,
      "outputs": [
        {
          "output_type": "stream",
          "text": [
            "File: https://opendata.corona.go.jp/api/Covid19JapanAll\n"
          ],
          "name": "stdout"
        },
        {
          "output_type": "display_data",
          "data": {
            "text/plain": [
              "[1] TRUE"
            ],
            "text/latex": "TRUE",
            "text/markdown": "TRUE",
            "text/html": [
              "TRUE"
            ]
          },
          "metadata": {
            "tags": []
          }
        },
        {
          "output_type": "stream",
          "text": [
            "List of 2\n",
            " $ errorInfo:List of 3\n",
            "  ..$ errorFlag   : chr \"0\"\n",
            "  ..$ errorCode   : NULL\n",
            "  ..$ errorMessage: NULL\n",
            " $ itemList :'data.frame':\t20774 obs. of  3 variables:\n",
            "  ..$ date     : chr [1:20774] \"2021-07-07\" \"2021-07-07\" \"2021-07-07\" \"2021-07-07\" ...\n",
            "  ..$ name_jp  : chr [1:20774] \"北海道\" \"青森県\" \"岩手県\" \"宮城県\" ...\n",
            "  ..$ npatients: chr [1:20774] \"41596\" \"2531\" \"1746\" \"9222\" ...\n"
          ],
          "name": "stdout"
        },
        {
          "output_type": "display_data",
          "data": {
            "text/plain": [
              "  date       name_jp npatients\n",
              "1 2021-07-07 北海道  41596    \n",
              "2 2021-07-07 青森県  2531     \n",
              "3 2021-07-07 岩手県  1746     \n",
              "4 2021-07-07 宮城県  9222     \n",
              "5 2021-07-07 秋田県  918      \n",
              "6 2021-07-07 山形県  2030     "
            ],
            "text/latex": "A tibble: 6 × 3\n\\begin{tabular}{lll}\n date & name\\_jp & npatients\\\\\n <chr> & <chr> & <chr>\\\\\n\\hline\n\t 2021-07-07 & 北海道 & 41596\\\\\n\t 2021-07-07 & 青森県 & 2531 \\\\\n\t 2021-07-07 & 岩手県 & 1746 \\\\\n\t 2021-07-07 & 宮城県 & 9222 \\\\\n\t 2021-07-07 & 秋田県 & 918  \\\\\n\t 2021-07-07 & 山形県 & 2030 \\\\\n\\end{tabular}\n",
            "text/markdown": "\nA tibble: 6 × 3\n\n| date &lt;chr&gt; | name_jp &lt;chr&gt; | npatients &lt;chr&gt; |\n|---|---|---|\n| 2021-07-07 | 北海道 | 41596 |\n| 2021-07-07 | 青森県 | 2531  |\n| 2021-07-07 | 岩手県 | 1746  |\n| 2021-07-07 | 宮城県 | 9222  |\n| 2021-07-07 | 秋田県 | 918   |\n| 2021-07-07 | 山形県 | 2030  |\n\n",
            "text/html": [
              "<table class=\"dataframe\">\n",
              "<caption>A tibble: 6 × 3</caption>\n",
              "<thead>\n",
              "\t<tr><th scope=col>date</th><th scope=col>name_jp</th><th scope=col>npatients</th></tr>\n",
              "\t<tr><th scope=col>&lt;chr&gt;</th><th scope=col>&lt;chr&gt;</th><th scope=col>&lt;chr&gt;</th></tr>\n",
              "</thead>\n",
              "<tbody>\n",
              "\t<tr><td>2021-07-07</td><td>北海道</td><td>41596</td></tr>\n",
              "\t<tr><td>2021-07-07</td><td>青森県</td><td>2531 </td></tr>\n",
              "\t<tr><td>2021-07-07</td><td>岩手県</td><td>1746 </td></tr>\n",
              "\t<tr><td>2021-07-07</td><td>宮城県</td><td>9222 </td></tr>\n",
              "\t<tr><td>2021-07-07</td><td>秋田県</td><td>918  </td></tr>\n",
              "\t<tr><td>2021-07-07</td><td>山形県</td><td>2030 </td></tr>\n",
              "</tbody>\n",
              "</table>\n"
            ]
          },
          "metadata": {
            "tags": []
          }
        }
      ]
    },
    {
      "cell_type": "markdown",
      "metadata": {
        "id": "cocqMQoA11LS"
      },
      "source": [
        "しかし、全国計のデータはまた、別に用意されています。単純に、各県の合算とはいかないからでしょう。"
      ]
    },
    {
      "cell_type": "code",
      "metadata": {
        "colab": {
          "base_uri": "https://localhost:8080/",
          "height": 394
        },
        "id": "HkVu11ng1e32",
        "outputId": "000bc7c3-3775-4844-8e60-6ac1e13606ba"
      },
      "source": [
        "# 同じく内閣官房のページにある、全国計の感染者数データ。\n",
        "# 手元で計算してみると、上で読み込んだ各都道府県の合算より多い。\n",
        "target_url_opendata_jpn <-\n",
        "    \"https://data.corona.go.jp/converted-json/covid19japan-npatients.json\"\n",
        "ndjson::validate(target_url_opendata_jpn, verbose = TRUE)\n",
        "opendata_jpn <- jsonlite::fromJSON(target_url_opendata_jpn)\n",
        "# データの仕様がよく分からない。もったいない。\n",
        "# サイトのグラフと見比べると、新規感染者数はadpatientsカラムの数字のようだ。\n",
        "str(opendata_jpn)\n",
        "cum_patients_jpn <- opendata_jpn %>% \n",
        "    transmute(\n",
        "        date         = date %>% parse_date(),\n",
        "        prefecture   = levels_prefecture[48],\n",
        "        npatients    = npatients %>% as.integer(),\n",
        "        new_patients = adpatients %>% as.integer()\n",
        "# tibbleにする。\n",
        "    ) %>% as_tibble()\n",
        "head(cum_patients_jpn)\n",
        "\n",
        "# 不要になった元データは消す。\n",
        "rm(opendata_jpn)"
      ],
      "execution_count": 16,
      "outputs": [
        {
          "output_type": "stream",
          "text": [
            "File: https://data.corona.go.jp/converted-json/covid19japan-npatients.json\n"
          ],
          "name": "stdout"
        },
        {
          "output_type": "display_data",
          "data": {
            "text/plain": [
              "[1] TRUE"
            ],
            "text/latex": "TRUE",
            "text/markdown": "TRUE",
            "text/html": [
              "TRUE"
            ]
          },
          "metadata": {
            "tags": []
          }
        },
        {
          "output_type": "stream",
          "text": [
            "'data.frame':\t444 obs. of  3 variables:\n",
            " $ date      : chr  \"2020-04-21\" \"2020-04-22\" \"2020-04-23\" \"2020-04-24\" ...\n",
            " $ npatients : int  11350 11772 12240 12681 13031 13232 13422 13695 13929 14120 ...\n",
            " $ adpatients: int  370 420 434 423 346 199 183 272 214 187 ...\n"
          ],
          "name": "stdout"
        },
        {
          "output_type": "display_data",
          "data": {
            "text/plain": [
              "  date       prefecture npatients new_patients\n",
              "1 2020-04-21 全国       11350     370         \n",
              "2 2020-04-22 全国       11772     420         \n",
              "3 2020-04-23 全国       12240     434         \n",
              "4 2020-04-24 全国       12681     423         \n",
              "5 2020-04-25 全国       13031     346         \n",
              "6 2020-04-26 全国       13232     199         "
            ],
            "text/latex": "A tibble: 6 × 4\n\\begin{tabular}{llll}\n date & prefecture & npatients & new\\_patients\\\\\n <date> & <chr> & <int> & <int>\\\\\n\\hline\n\t 2020-04-21 & 全国 & 11350 & 370\\\\\n\t 2020-04-22 & 全国 & 11772 & 420\\\\\n\t 2020-04-23 & 全国 & 12240 & 434\\\\\n\t 2020-04-24 & 全国 & 12681 & 423\\\\\n\t 2020-04-25 & 全国 & 13031 & 346\\\\\n\t 2020-04-26 & 全国 & 13232 & 199\\\\\n\\end{tabular}\n",
            "text/markdown": "\nA tibble: 6 × 4\n\n| date &lt;date&gt; | prefecture &lt;chr&gt; | npatients &lt;int&gt; | new_patients &lt;int&gt; |\n|---|---|---|---|\n| 2020-04-21 | 全国 | 11350 | 370 |\n| 2020-04-22 | 全国 | 11772 | 420 |\n| 2020-04-23 | 全国 | 12240 | 434 |\n| 2020-04-24 | 全国 | 12681 | 423 |\n| 2020-04-25 | 全国 | 13031 | 346 |\n| 2020-04-26 | 全国 | 13232 | 199 |\n\n",
            "text/html": [
              "<table class=\"dataframe\">\n",
              "<caption>A tibble: 6 × 4</caption>\n",
              "<thead>\n",
              "\t<tr><th scope=col>date</th><th scope=col>prefecture</th><th scope=col>npatients</th><th scope=col>new_patients</th></tr>\n",
              "\t<tr><th scope=col>&lt;date&gt;</th><th scope=col>&lt;chr&gt;</th><th scope=col>&lt;int&gt;</th><th scope=col>&lt;int&gt;</th></tr>\n",
              "</thead>\n",
              "<tbody>\n",
              "\t<tr><td>2020-04-21</td><td>全国</td><td>11350</td><td>370</td></tr>\n",
              "\t<tr><td>2020-04-22</td><td>全国</td><td>11772</td><td>420</td></tr>\n",
              "\t<tr><td>2020-04-23</td><td>全国</td><td>12240</td><td>434</td></tr>\n",
              "\t<tr><td>2020-04-24</td><td>全国</td><td>12681</td><td>423</td></tr>\n",
              "\t<tr><td>2020-04-25</td><td>全国</td><td>13031</td><td>346</td></tr>\n",
              "\t<tr><td>2020-04-26</td><td>全国</td><td>13232</td><td>199</td></tr>\n",
              "</tbody>\n",
              "</table>\n"
            ]
          },
          "metadata": {
            "tags": []
          }
        }
      ]
    },
    {
      "cell_type": "markdown",
      "metadata": {
        "id": "cLxmGcHE2YoE"
      },
      "source": [
        "### 6.2. 型を変換する\n",
        "\n",
        "3カラムとも文字列型なので、日付・カテゴリー・整数、にそれぞれ変換します。\n",
        "\n",
        "全国分のほうは、dateカラムは正しく日付型に、感染者数は両カラムとも整数型になっています。"
      ]
    },
    {
      "cell_type": "code",
      "metadata": {
        "colab": {
          "base_uri": "https://localhost:8080/",
          "height": 485
        },
        "id": "4aj-qZQO2w3a",
        "outputId": "ba2cb267-008d-4453-a0e2-8afc7a1fd31e"
      },
      "source": [
        "# 日付型と整数型に変換が必要なカラムを処理。さっきとは別の、シンプルな書き方にしてみた。\n",
        "cum_patients <- cum_patients %>% \n",
        "# transmuteはmutateの変種で、名挙げしないカラムは消してしまう。\n",
        "    transmute(\n",
        "        date        = date %>% ymd(),\n",
        "        prefecture  = name_jp,\n",
        "        npatients   = npatients %>% parse_integer()\n",
        "    )\n",
        "str(cum_patients)\n",
        "head(cum_patients)\n",
        "summary(cum_patients)"
      ],
      "execution_count": 17,
      "outputs": [
        {
          "output_type": "stream",
          "text": [
            "tibble [20,774 × 3] (S3: tbl_df/tbl/data.frame)\n",
            " $ date      : Date[1:20774], format: \"2021-07-07\" \"2021-07-07\" ...\n",
            " $ prefecture: chr [1:20774] \"北海道\" \"青森県\" \"岩手県\" \"宮城県\" ...\n",
            " $ npatients : int [1:20774] 41596 2531 1746 9222 918 2030 5012 10704 7173 8060 ...\n"
          ],
          "name": "stdout"
        },
        {
          "output_type": "display_data",
          "data": {
            "text/plain": [
              "  date       prefecture npatients\n",
              "1 2021-07-07 北海道     41596    \n",
              "2 2021-07-07 青森県      2531    \n",
              "3 2021-07-07 岩手県      1746    \n",
              "4 2021-07-07 宮城県      9222    \n",
              "5 2021-07-07 秋田県       918    \n",
              "6 2021-07-07 山形県      2030    "
            ],
            "text/latex": "A tibble: 6 × 3\n\\begin{tabular}{lll}\n date & prefecture & npatients\\\\\n <date> & <chr> & <int>\\\\\n\\hline\n\t 2021-07-07 & 北海道 & 41596\\\\\n\t 2021-07-07 & 青森県 &  2531\\\\\n\t 2021-07-07 & 岩手県 &  1746\\\\\n\t 2021-07-07 & 宮城県 &  9222\\\\\n\t 2021-07-07 & 秋田県 &   918\\\\\n\t 2021-07-07 & 山形県 &  2030\\\\\n\\end{tabular}\n",
            "text/markdown": "\nA tibble: 6 × 3\n\n| date &lt;date&gt; | prefecture &lt;chr&gt; | npatients &lt;int&gt; |\n|---|---|---|\n| 2021-07-07 | 北海道 | 41596 |\n| 2021-07-07 | 青森県 |  2531 |\n| 2021-07-07 | 岩手県 |  1746 |\n| 2021-07-07 | 宮城県 |  9222 |\n| 2021-07-07 | 秋田県 |   918 |\n| 2021-07-07 | 山形県 |  2030 |\n\n",
            "text/html": [
              "<table class=\"dataframe\">\n",
              "<caption>A tibble: 6 × 3</caption>\n",
              "<thead>\n",
              "\t<tr><th scope=col>date</th><th scope=col>prefecture</th><th scope=col>npatients</th></tr>\n",
              "\t<tr><th scope=col>&lt;date&gt;</th><th scope=col>&lt;chr&gt;</th><th scope=col>&lt;int&gt;</th></tr>\n",
              "</thead>\n",
              "<tbody>\n",
              "\t<tr><td>2021-07-07</td><td>北海道</td><td>41596</td></tr>\n",
              "\t<tr><td>2021-07-07</td><td>青森県</td><td> 2531</td></tr>\n",
              "\t<tr><td>2021-07-07</td><td>岩手県</td><td> 1746</td></tr>\n",
              "\t<tr><td>2021-07-07</td><td>宮城県</td><td> 9222</td></tr>\n",
              "\t<tr><td>2021-07-07</td><td>秋田県</td><td>  918</td></tr>\n",
              "\t<tr><td>2021-07-07</td><td>山形県</td><td> 2030</td></tr>\n",
              "</tbody>\n",
              "</table>\n"
            ]
          },
          "metadata": {
            "tags": []
          }
        },
        {
          "output_type": "display_data",
          "data": {
            "text/plain": [
              "      date             prefecture          npatients     \n",
              " Min.   :2020-04-22   Length:20774       Min.   :     0  \n",
              " 1st Qu.:2020-08-10   Class :character   1st Qu.:   178  \n",
              " Median :2020-11-28   Mode  :character   Median :   843  \n",
              " Mean   :2020-11-28                      Mean   :  5719  \n",
              " 3rd Qu.:2021-03-19                      3rd Qu.:  3482  \n",
              " Max.   :2021-07-07                      Max.   :178356  "
            ]
          },
          "metadata": {
            "tags": []
          }
        }
      ]
    },
    {
      "cell_type": "markdown",
      "metadata": {
        "id": "_6nodqYM3F6E"
      },
      "source": [
        "### 6.3. 新規感染者数と移動平均を計算する\n",
        "\n",
        "感染者数は、その日までの累計です。これをもとに、その日に増えた分＝新規感染者数を計算したいのですが、どうすればよいでしょう？\n",
        "\n",
        "日付順になっているので、まず都道府県別、その中で日付順、というふうに直します。それから、npatientsのカラムの、当日の数字から、前日の数字を引き算したものを、新しいカラムを作って保存します。さらに、曜日要因を取り除くため、7日移動平均も計算します。\n",
        "\n",
        "いよいよ、松波さんの資料を参考にして下さい。\n",
        "\n",
        "7日移動平均は、前後でなく過去1週間分を計算しています。最新の日付が上に来るようにしているので、lagではなくleadを使いました。\n",
        "\n",
        "1列が1日分で、途中の抜けがないかどうか。新規感染者については、数字に変化がない場合はデータなし、という構造だったとしても動作しますが、移動平均のほうはNGです。仮に途中に抜けがある場合は、行ではなく日付（時系列データ）をちゃんと見て処理しないといけません。深入りしませんが、マイナーなパッケージを使うと解決できる場合もあります。[こちら](https://rstudio-pubs-static.s3.amazonaws.com/640203_28880d5e47b44029b9279d8e24385fba.html)を参考にして下さい。"
      ]
    },
    {
      "cell_type": "code",
      "metadata": {
        "colab": {
          "base_uri": "https://localhost:8080/",
          "height": 685
        },
        "id": "aLLSpRoP6xEN",
        "outputId": "393ecdf2-023c-4e04-9cdc-a9c8c3cf60e4"
      },
      "source": [
        "# 都道府県別に小分けした表を対象に、新規感染者と移動平均を計算する準備。即席のファンクションを作った。\n",
        "calc_diff <- function(nested_df){\n",
        "    return(\n",
        "        nested_df %>%\n",
        "        arrange(desc(date)) %>% \n",
        "        mutate(\n",
        "            new_patients = npatients - dplyr::lead(npatients),\n",
        "            patients_ma7 = roll_meanl(new_patients, 7, )\n",
        "        )\n",
        "    )\n",
        "}\n",
        "\n",
        "# 都道府県ごとにnest（下の階層に畳む）する。\n",
        "patients <- cum_patients %>%\n",
        "    nest(data_by_pref = c(date, npatients)) %>%\n",
        "# さっき作ったファンクションを、県単位で当てはめていく\n",
        "    mutate(data_by_pref = map(data_by_pref, calc_diff)) %>% \n",
        "# 計算が終わったので、nestを解除する。\n",
        "    unnest(cols = data_by_pref)\n",
        "# 不要なデータを消す。\n",
        "rm(cum_patients)\n",
        "\n",
        "# 結果を見てみる。\n",
        "head(patients)\n",
        "str(patients)\n",
        "summary(patients)"
      ],
      "execution_count": 18,
      "outputs": [
        {
          "output_type": "display_data",
          "data": {
            "text/plain": [
              "  prefecture date       npatients new_patients patients_ma7\n",
              "1 北海道     2021-07-07 41596     67           37.71429    \n",
              "2 北海道     2021-07-06 41529     34           33.57143    \n",
              "3 北海道     2021-07-05 41495     29           32.00000    \n",
              "4 北海道     2021-07-04 41466     39           31.71429    \n",
              "5 北海道     2021-07-03 41427     30           30.14286    \n",
              "6 北海道     2021-07-02 41397     26           32.57143    "
            ],
            "text/latex": "A tibble: 6 × 5\n\\begin{tabular}{lllll}\n prefecture & date & npatients & new\\_patients & patients\\_ma7\\\\\n <chr> & <date> & <int> & <int> & <dbl>\\\\\n\\hline\n\t 北海道 & 2021-07-07 & 41596 & 67 & 37.71429\\\\\n\t 北海道 & 2021-07-06 & 41529 & 34 & 33.57143\\\\\n\t 北海道 & 2021-07-05 & 41495 & 29 & 32.00000\\\\\n\t 北海道 & 2021-07-04 & 41466 & 39 & 31.71429\\\\\n\t 北海道 & 2021-07-03 & 41427 & 30 & 30.14286\\\\\n\t 北海道 & 2021-07-02 & 41397 & 26 & 32.57143\\\\\n\\end{tabular}\n",
            "text/markdown": "\nA tibble: 6 × 5\n\n| prefecture &lt;chr&gt; | date &lt;date&gt; | npatients &lt;int&gt; | new_patients &lt;int&gt; | patients_ma7 &lt;dbl&gt; |\n|---|---|---|---|---|\n| 北海道 | 2021-07-07 | 41596 | 67 | 37.71429 |\n| 北海道 | 2021-07-06 | 41529 | 34 | 33.57143 |\n| 北海道 | 2021-07-05 | 41495 | 29 | 32.00000 |\n| 北海道 | 2021-07-04 | 41466 | 39 | 31.71429 |\n| 北海道 | 2021-07-03 | 41427 | 30 | 30.14286 |\n| 北海道 | 2021-07-02 | 41397 | 26 | 32.57143 |\n\n",
            "text/html": [
              "<table class=\"dataframe\">\n",
              "<caption>A tibble: 6 × 5</caption>\n",
              "<thead>\n",
              "\t<tr><th scope=col>prefecture</th><th scope=col>date</th><th scope=col>npatients</th><th scope=col>new_patients</th><th scope=col>patients_ma7</th></tr>\n",
              "\t<tr><th scope=col>&lt;chr&gt;</th><th scope=col>&lt;date&gt;</th><th scope=col>&lt;int&gt;</th><th scope=col>&lt;int&gt;</th><th scope=col>&lt;dbl&gt;</th></tr>\n",
              "</thead>\n",
              "<tbody>\n",
              "\t<tr><td>北海道</td><td>2021-07-07</td><td>41596</td><td>67</td><td>37.71429</td></tr>\n",
              "\t<tr><td>北海道</td><td>2021-07-06</td><td>41529</td><td>34</td><td>33.57143</td></tr>\n",
              "\t<tr><td>北海道</td><td>2021-07-05</td><td>41495</td><td>29</td><td>32.00000</td></tr>\n",
              "\t<tr><td>北海道</td><td>2021-07-04</td><td>41466</td><td>39</td><td>31.71429</td></tr>\n",
              "\t<tr><td>北海道</td><td>2021-07-03</td><td>41427</td><td>30</td><td>30.14286</td></tr>\n",
              "\t<tr><td>北海道</td><td>2021-07-02</td><td>41397</td><td>26</td><td>32.57143</td></tr>\n",
              "</tbody>\n",
              "</table>\n"
            ]
          },
          "metadata": {
            "tags": []
          }
        },
        {
          "output_type": "stream",
          "text": [
            "tibble [20,774 × 5] (S3: tbl_df/tbl/data.frame)\n",
            " $ prefecture  : chr [1:20774] \"北海道\" \"北海道\" \"北海道\" \"北海道\" ...\n",
            " $ date        : Date[1:20774], format: \"2021-07-07\" \"2021-07-06\" ...\n",
            " $ npatients   : int [1:20774] 41596 41529 41495 41466 41427 41397 41371 41332 41294 41271 ...\n",
            " $ new_patients: int [1:20774] 67 34 29 39 30 26 39 38 23 27 ...\n",
            " $ patients_ma7: num [1:20774] 37.7 33.6 32 31.7 30.1 ...\n"
          ],
          "name": "stdout"
        },
        {
          "output_type": "display_data",
          "data": {
            "text/plain": [
              "  prefecture             date              npatients       new_patients    \n",
              " Length:20774       Min.   :2020-04-22   Min.   :     0   Min.   :-989.00  \n",
              " Class :character   1st Qu.:2020-08-10   1st Qu.:   178   1st Qu.:   0.00  \n",
              " Mode  :character   Median :2020-11-28   Median :   843   Median :   4.00  \n",
              "                    Mean   :2020-11-28   Mean   :  5719   Mean   :  38.43  \n",
              "                    3rd Qu.:2021-03-19   3rd Qu.:  3482   3rd Qu.:  25.00  \n",
              "                    Max.   :2021-07-07   Max.   :178356   Max.   :2447.00  \n",
              "                                                          NA's   :47       \n",
              "  patients_ma7      \n",
              " Min.   : -94.2857  \n",
              " 1st Qu.:   0.5714  \n",
              " Median :   5.7143  \n",
              " Mean   :  38.6683  \n",
              " 3rd Qu.:  26.8571  \n",
              " Max.   :1812.7143  \n",
              " NA's   :329        "
            ]
          },
          "metadata": {
            "tags": []
          }
        }
      ]
    },
    {
      "cell_type": "markdown",
      "metadata": {
        "id": "A6ShEZEJ7Ddv"
      },
      "source": [
        "前日との差が「マイナス」になっている箇所もあります。抽出してみましょう。"
      ]
    },
    {
      "cell_type": "code",
      "metadata": {
        "colab": {
          "base_uri": "https://localhost:8080/",
          "height": 1000
        },
        "id": "KFyTeTqs7OoM",
        "outputId": "027cee35-9426-4047-912c-d50aa3b9147a"
      },
      "source": [
        "patients %>% filter(\n",
        "    new_patients < 0\n",
        ")"
      ],
      "execution_count": 19,
      "outputs": [
        {
          "output_type": "display_data",
          "data": {
            "text/plain": [
              "   prefecture date       npatients new_patients patients_ma7\n",
              "1  福島県     2021-04-06 2654      -258          25.0000000 \n",
              "2  栃木県     2020-10-12  444        -1           0.8571429 \n",
              "3  栃木県     2020-04-25   52        -1                  NA \n",
              "4  埼玉県     2020-05-30 1003        -1           0.5714286 \n",
              "5  千葉県     2020-06-05  904        -3          -0.2857143 \n",
              "6  千葉県     2020-06-02  906        -3           0.2857143 \n",
              "7  神奈川県   2020-09-23 5452      -989         -94.2857143 \n",
              "8  神奈川県   2020-05-10 1150        -8           7.0000000 \n",
              "9  新潟県     2020-09-07  145        -1           0.2857143 \n",
              "10 富山県     2021-03-29  933        -1           1.7142857 \n",
              "11 富山県     2020-10-19  422        -1           0.0000000 \n",
              "12 富山県     2020-09-10  407        -2           1.0000000 \n",
              "13 富山県     2020-05-09  216        -6           1.0000000 \n",
              "14 富山県     2020-05-01  201        -1           5.4285714 \n",
              "15 長野県     2020-04-25   66        -1                  NA \n",
              "16 岐阜県     2020-07-08  160        -3           0.4285714 \n",
              "17 静岡県     2020-06-05   75        -1          -0.1428571 \n",
              "18 愛知県     2020-05-09  491        -7           0.0000000 \n",
              "19 三重県     2021-02-25 2501       -73           8.7142857 \n",
              "20 滋賀県     2020-05-09   97        -1           0.1428571 \n",
              "21 京都府     2020-05-09  347        -1           2.7142857 \n",
              "22 兵庫県     2020-05-19  699        -1           0.7142857 \n",
              "23 鳥取県     2020-10-21   35        -1          -0.1428571 \n",
              "24 島根県     2020-12-31  207        -1           2.5714286 \n",
              "25 広島県     2020-10-13  641        -1           5.1428571 \n",
              "26 広島県     2020-06-02  167        -1           0.0000000 \n",
              "27 山口県     2020-10-01  201        -1           0.8571429 \n",
              "28 佐賀県     2021-03-15 1142        -1           6.8571429 \n",
              "29 佐賀県     2020-09-20  244        -1           0.0000000 \n",
              "30 鹿児島県   2021-02-08 1665        -4           4.7142857 \n",
              "31 鹿児島県   2020-05-14   10        -1           0.0000000 "
            ],
            "text/latex": "A tibble: 31 × 5\n\\begin{tabular}{lllll}\n prefecture & date & npatients & new\\_patients & patients\\_ma7\\\\\n <chr> & <date> & <int> & <int> & <dbl>\\\\\n\\hline\n\t 福島県   & 2021-04-06 & 2654 & -258 &  25.0000000\\\\\n\t 栃木県   & 2020-10-12 &  444 &   -1 &   0.8571429\\\\\n\t 栃木県   & 2020-04-25 &   52 &   -1 &          NA\\\\\n\t 埼玉県   & 2020-05-30 & 1003 &   -1 &   0.5714286\\\\\n\t 千葉県   & 2020-06-05 &  904 &   -3 &  -0.2857143\\\\\n\t 千葉県   & 2020-06-02 &  906 &   -3 &   0.2857143\\\\\n\t 神奈川県 & 2020-09-23 & 5452 & -989 & -94.2857143\\\\\n\t 神奈川県 & 2020-05-10 & 1150 &   -8 &   7.0000000\\\\\n\t 新潟県   & 2020-09-07 &  145 &   -1 &   0.2857143\\\\\n\t 富山県   & 2021-03-29 &  933 &   -1 &   1.7142857\\\\\n\t 富山県   & 2020-10-19 &  422 &   -1 &   0.0000000\\\\\n\t 富山県   & 2020-09-10 &  407 &   -2 &   1.0000000\\\\\n\t 富山県   & 2020-05-09 &  216 &   -6 &   1.0000000\\\\\n\t 富山県   & 2020-05-01 &  201 &   -1 &   5.4285714\\\\\n\t 長野県   & 2020-04-25 &   66 &   -1 &          NA\\\\\n\t 岐阜県   & 2020-07-08 &  160 &   -3 &   0.4285714\\\\\n\t 静岡県   & 2020-06-05 &   75 &   -1 &  -0.1428571\\\\\n\t 愛知県   & 2020-05-09 &  491 &   -7 &   0.0000000\\\\\n\t 三重県   & 2021-02-25 & 2501 &  -73 &   8.7142857\\\\\n\t 滋賀県   & 2020-05-09 &   97 &   -1 &   0.1428571\\\\\n\t 京都府   & 2020-05-09 &  347 &   -1 &   2.7142857\\\\\n\t 兵庫県   & 2020-05-19 &  699 &   -1 &   0.7142857\\\\\n\t 鳥取県   & 2020-10-21 &   35 &   -1 &  -0.1428571\\\\\n\t 島根県   & 2020-12-31 &  207 &   -1 &   2.5714286\\\\\n\t 広島県   & 2020-10-13 &  641 &   -1 &   5.1428571\\\\\n\t 広島県   & 2020-06-02 &  167 &   -1 &   0.0000000\\\\\n\t 山口県   & 2020-10-01 &  201 &   -1 &   0.8571429\\\\\n\t 佐賀県   & 2021-03-15 & 1142 &   -1 &   6.8571429\\\\\n\t 佐賀県   & 2020-09-20 &  244 &   -1 &   0.0000000\\\\\n\t 鹿児島県 & 2021-02-08 & 1665 &   -4 &   4.7142857\\\\\n\t 鹿児島県 & 2020-05-14 &   10 &   -1 &   0.0000000\\\\\n\\end{tabular}\n",
            "text/markdown": "\nA tibble: 31 × 5\n\n| prefecture &lt;chr&gt; | date &lt;date&gt; | npatients &lt;int&gt; | new_patients &lt;int&gt; | patients_ma7 &lt;dbl&gt; |\n|---|---|---|---|---|\n| 福島県   | 2021-04-06 | 2654 | -258 |  25.0000000 |\n| 栃木県   | 2020-10-12 |  444 |   -1 |   0.8571429 |\n| 栃木県   | 2020-04-25 |   52 |   -1 |          NA |\n| 埼玉県   | 2020-05-30 | 1003 |   -1 |   0.5714286 |\n| 千葉県   | 2020-06-05 |  904 |   -3 |  -0.2857143 |\n| 千葉県   | 2020-06-02 |  906 |   -3 |   0.2857143 |\n| 神奈川県 | 2020-09-23 | 5452 | -989 | -94.2857143 |\n| 神奈川県 | 2020-05-10 | 1150 |   -8 |   7.0000000 |\n| 新潟県   | 2020-09-07 |  145 |   -1 |   0.2857143 |\n| 富山県   | 2021-03-29 |  933 |   -1 |   1.7142857 |\n| 富山県   | 2020-10-19 |  422 |   -1 |   0.0000000 |\n| 富山県   | 2020-09-10 |  407 |   -2 |   1.0000000 |\n| 富山県   | 2020-05-09 |  216 |   -6 |   1.0000000 |\n| 富山県   | 2020-05-01 |  201 |   -1 |   5.4285714 |\n| 長野県   | 2020-04-25 |   66 |   -1 |          NA |\n| 岐阜県   | 2020-07-08 |  160 |   -3 |   0.4285714 |\n| 静岡県   | 2020-06-05 |   75 |   -1 |  -0.1428571 |\n| 愛知県   | 2020-05-09 |  491 |   -7 |   0.0000000 |\n| 三重県   | 2021-02-25 | 2501 |  -73 |   8.7142857 |\n| 滋賀県   | 2020-05-09 |   97 |   -1 |   0.1428571 |\n| 京都府   | 2020-05-09 |  347 |   -1 |   2.7142857 |\n| 兵庫県   | 2020-05-19 |  699 |   -1 |   0.7142857 |\n| 鳥取県   | 2020-10-21 |   35 |   -1 |  -0.1428571 |\n| 島根県   | 2020-12-31 |  207 |   -1 |   2.5714286 |\n| 広島県   | 2020-10-13 |  641 |   -1 |   5.1428571 |\n| 広島県   | 2020-06-02 |  167 |   -1 |   0.0000000 |\n| 山口県   | 2020-10-01 |  201 |   -1 |   0.8571429 |\n| 佐賀県   | 2021-03-15 | 1142 |   -1 |   6.8571429 |\n| 佐賀県   | 2020-09-20 |  244 |   -1 |   0.0000000 |\n| 鹿児島県 | 2021-02-08 | 1665 |   -4 |   4.7142857 |\n| 鹿児島県 | 2020-05-14 |   10 |   -1 |   0.0000000 |\n\n",
            "text/html": [
              "<table class=\"dataframe\">\n",
              "<caption>A tibble: 31 × 5</caption>\n",
              "<thead>\n",
              "\t<tr><th scope=col>prefecture</th><th scope=col>date</th><th scope=col>npatients</th><th scope=col>new_patients</th><th scope=col>patients_ma7</th></tr>\n",
              "\t<tr><th scope=col>&lt;chr&gt;</th><th scope=col>&lt;date&gt;</th><th scope=col>&lt;int&gt;</th><th scope=col>&lt;int&gt;</th><th scope=col>&lt;dbl&gt;</th></tr>\n",
              "</thead>\n",
              "<tbody>\n",
              "\t<tr><td>福島県  </td><td>2021-04-06</td><td>2654</td><td>-258</td><td> 25.0000000</td></tr>\n",
              "\t<tr><td>栃木県  </td><td>2020-10-12</td><td> 444</td><td>  -1</td><td>  0.8571429</td></tr>\n",
              "\t<tr><td>栃木県  </td><td>2020-04-25</td><td>  52</td><td>  -1</td><td>         NA</td></tr>\n",
              "\t<tr><td>埼玉県  </td><td>2020-05-30</td><td>1003</td><td>  -1</td><td>  0.5714286</td></tr>\n",
              "\t<tr><td>千葉県  </td><td>2020-06-05</td><td> 904</td><td>  -3</td><td> -0.2857143</td></tr>\n",
              "\t<tr><td>千葉県  </td><td>2020-06-02</td><td> 906</td><td>  -3</td><td>  0.2857143</td></tr>\n",
              "\t<tr><td>神奈川県</td><td>2020-09-23</td><td>5452</td><td>-989</td><td>-94.2857143</td></tr>\n",
              "\t<tr><td>神奈川県</td><td>2020-05-10</td><td>1150</td><td>  -8</td><td>  7.0000000</td></tr>\n",
              "\t<tr><td>新潟県  </td><td>2020-09-07</td><td> 145</td><td>  -1</td><td>  0.2857143</td></tr>\n",
              "\t<tr><td>富山県  </td><td>2021-03-29</td><td> 933</td><td>  -1</td><td>  1.7142857</td></tr>\n",
              "\t<tr><td>富山県  </td><td>2020-10-19</td><td> 422</td><td>  -1</td><td>  0.0000000</td></tr>\n",
              "\t<tr><td>富山県  </td><td>2020-09-10</td><td> 407</td><td>  -2</td><td>  1.0000000</td></tr>\n",
              "\t<tr><td>富山県  </td><td>2020-05-09</td><td> 216</td><td>  -6</td><td>  1.0000000</td></tr>\n",
              "\t<tr><td>富山県  </td><td>2020-05-01</td><td> 201</td><td>  -1</td><td>  5.4285714</td></tr>\n",
              "\t<tr><td>長野県  </td><td>2020-04-25</td><td>  66</td><td>  -1</td><td>         NA</td></tr>\n",
              "\t<tr><td>岐阜県  </td><td>2020-07-08</td><td> 160</td><td>  -3</td><td>  0.4285714</td></tr>\n",
              "\t<tr><td>静岡県  </td><td>2020-06-05</td><td>  75</td><td>  -1</td><td> -0.1428571</td></tr>\n",
              "\t<tr><td>愛知県  </td><td>2020-05-09</td><td> 491</td><td>  -7</td><td>  0.0000000</td></tr>\n",
              "\t<tr><td>三重県  </td><td>2021-02-25</td><td>2501</td><td> -73</td><td>  8.7142857</td></tr>\n",
              "\t<tr><td>滋賀県  </td><td>2020-05-09</td><td>  97</td><td>  -1</td><td>  0.1428571</td></tr>\n",
              "\t<tr><td>京都府  </td><td>2020-05-09</td><td> 347</td><td>  -1</td><td>  2.7142857</td></tr>\n",
              "\t<tr><td>兵庫県  </td><td>2020-05-19</td><td> 699</td><td>  -1</td><td>  0.7142857</td></tr>\n",
              "\t<tr><td>鳥取県  </td><td>2020-10-21</td><td>  35</td><td>  -1</td><td> -0.1428571</td></tr>\n",
              "\t<tr><td>島根県  </td><td>2020-12-31</td><td> 207</td><td>  -1</td><td>  2.5714286</td></tr>\n",
              "\t<tr><td>広島県  </td><td>2020-10-13</td><td> 641</td><td>  -1</td><td>  5.1428571</td></tr>\n",
              "\t<tr><td>広島県  </td><td>2020-06-02</td><td> 167</td><td>  -1</td><td>  0.0000000</td></tr>\n",
              "\t<tr><td>山口県  </td><td>2020-10-01</td><td> 201</td><td>  -1</td><td>  0.8571429</td></tr>\n",
              "\t<tr><td>佐賀県  </td><td>2021-03-15</td><td>1142</td><td>  -1</td><td>  6.8571429</td></tr>\n",
              "\t<tr><td>佐賀県  </td><td>2020-09-20</td><td> 244</td><td>  -1</td><td>  0.0000000</td></tr>\n",
              "\t<tr><td>鹿児島県</td><td>2021-02-08</td><td>1665</td><td>  -4</td><td>  4.7142857</td></tr>\n",
              "\t<tr><td>鹿児島県</td><td>2020-05-14</td><td>  10</td><td>  -1</td><td>  0.0000000</td></tr>\n",
              "</tbody>\n",
              "</table>\n"
            ]
          },
          "metadata": {
            "tags": []
          }
        }
      ]
    },
    {
      "cell_type": "markdown",
      "metadata": {
        "id": "Vi6cYzDU8OnL"
      },
      "source": [
        "感染者数の全国分は、もともと新規のデータがあるので、差分の計算は不要（計算しても、合いません）。7日移動平均のみ計算します。\n",
        "\n",
        "その上で、各都道府県の感染者数のデータとまとめて、一つの表にします。"
      ]
    },
    {
      "cell_type": "code",
      "metadata": {
        "colab": {
          "base_uri": "https://localhost:8080/",
          "height": 663
        },
        "id": "D2fMN-yn8Wtl",
        "outputId": "2c7e06f4-bdb2-4cf1-e69b-3e419451c705"
      },
      "source": [
        "# 全国の感染者数については、新規は計算不要。移動平均のみ計算する。\n",
        "cum_patients_jpn <- cum_patients_jpn %>%\n",
        "    arrange(desc(date)) %>% \n",
        "    mutate(\n",
        "        patients_ma7 = roll_meanl(new_patients, 7, )\n",
        "    )\n",
        "# 先ほどの各都道府県分の表と結合する。\n",
        "patients <- patients %>%\n",
        "    bind_rows(cum_patients_jpn)\n",
        "\n",
        "# 累計のカラムの名前をワクチン接種の表に合わせて直しておく。\n",
        "patients <- patients %>%\n",
        "    rename(\"sum_patients\" = npatients)\n",
        "# 辞書順ではなく、コード順に都道府県をソート可能にしたいので、カテゴリー型に。\n",
        "patients$prefecture <- parse_factor(patients$prefecture, levels = levels_prefecture)\n",
        "\n",
        "# 結果を見る。\n",
        "head(patients)\n",
        "tail(patients)\n",
        "str(patients)\n",
        "\n",
        "# 不要になったデータは消す\n",
        "rm(cum_patients_jpn)"
      ],
      "execution_count": 20,
      "outputs": [
        {
          "output_type": "display_data",
          "data": {
            "text/plain": [
              "  prefecture date       sum_patients new_patients patients_ma7\n",
              "1 北海道     2021-07-07 41596        67           37.71429    \n",
              "2 北海道     2021-07-06 41529        34           33.57143    \n",
              "3 北海道     2021-07-05 41495        29           32.00000    \n",
              "4 北海道     2021-07-04 41466        39           31.71429    \n",
              "5 北海道     2021-07-03 41427        30           30.14286    \n",
              "6 北海道     2021-07-02 41397        26           32.57143    "
            ],
            "text/latex": "A tibble: 6 × 5\n\\begin{tabular}{lllll}\n prefecture & date & sum\\_patients & new\\_patients & patients\\_ma7\\\\\n <fct> & <date> & <int> & <int> & <dbl>\\\\\n\\hline\n\t 北海道 & 2021-07-07 & 41596 & 67 & 37.71429\\\\\n\t 北海道 & 2021-07-06 & 41529 & 34 & 33.57143\\\\\n\t 北海道 & 2021-07-05 & 41495 & 29 & 32.00000\\\\\n\t 北海道 & 2021-07-04 & 41466 & 39 & 31.71429\\\\\n\t 北海道 & 2021-07-03 & 41427 & 30 & 30.14286\\\\\n\t 北海道 & 2021-07-02 & 41397 & 26 & 32.57143\\\\\n\\end{tabular}\n",
            "text/markdown": "\nA tibble: 6 × 5\n\n| prefecture &lt;fct&gt; | date &lt;date&gt; | sum_patients &lt;int&gt; | new_patients &lt;int&gt; | patients_ma7 &lt;dbl&gt; |\n|---|---|---|---|---|\n| 北海道 | 2021-07-07 | 41596 | 67 | 37.71429 |\n| 北海道 | 2021-07-06 | 41529 | 34 | 33.57143 |\n| 北海道 | 2021-07-05 | 41495 | 29 | 32.00000 |\n| 北海道 | 2021-07-04 | 41466 | 39 | 31.71429 |\n| 北海道 | 2021-07-03 | 41427 | 30 | 30.14286 |\n| 北海道 | 2021-07-02 | 41397 | 26 | 32.57143 |\n\n",
            "text/html": [
              "<table class=\"dataframe\">\n",
              "<caption>A tibble: 6 × 5</caption>\n",
              "<thead>\n",
              "\t<tr><th scope=col>prefecture</th><th scope=col>date</th><th scope=col>sum_patients</th><th scope=col>new_patients</th><th scope=col>patients_ma7</th></tr>\n",
              "\t<tr><th scope=col>&lt;fct&gt;</th><th scope=col>&lt;date&gt;</th><th scope=col>&lt;int&gt;</th><th scope=col>&lt;int&gt;</th><th scope=col>&lt;dbl&gt;</th></tr>\n",
              "</thead>\n",
              "<tbody>\n",
              "\t<tr><td>北海道</td><td>2021-07-07</td><td>41596</td><td>67</td><td>37.71429</td></tr>\n",
              "\t<tr><td>北海道</td><td>2021-07-06</td><td>41529</td><td>34</td><td>33.57143</td></tr>\n",
              "\t<tr><td>北海道</td><td>2021-07-05</td><td>41495</td><td>29</td><td>32.00000</td></tr>\n",
              "\t<tr><td>北海道</td><td>2021-07-04</td><td>41466</td><td>39</td><td>31.71429</td></tr>\n",
              "\t<tr><td>北海道</td><td>2021-07-03</td><td>41427</td><td>30</td><td>30.14286</td></tr>\n",
              "\t<tr><td>北海道</td><td>2021-07-02</td><td>41397</td><td>26</td><td>32.57143</td></tr>\n",
              "</tbody>\n",
              "</table>\n"
            ]
          },
          "metadata": {
            "tags": []
          }
        },
        {
          "output_type": "display_data",
          "data": {
            "text/plain": [
              "  prefecture date       sum_patients new_patients patients_ma7\n",
              "1 全国       2020-04-26 13232        199          NA          \n",
              "2 全国       2020-04-25 13031        346          NA          \n",
              "3 全国       2020-04-24 12681        423          NA          \n",
              "4 全国       2020-04-23 12240        434          NA          \n",
              "5 全国       2020-04-22 11772        420          NA          \n",
              "6 全国       2020-04-21 11350        370          NA          "
            ],
            "text/latex": "A tibble: 6 × 5\n\\begin{tabular}{lllll}\n prefecture & date & sum\\_patients & new\\_patients & patients\\_ma7\\\\\n <fct> & <date> & <int> & <int> & <dbl>\\\\\n\\hline\n\t 全国 & 2020-04-26 & 13232 & 199 & NA\\\\\n\t 全国 & 2020-04-25 & 13031 & 346 & NA\\\\\n\t 全国 & 2020-04-24 & 12681 & 423 & NA\\\\\n\t 全国 & 2020-04-23 & 12240 & 434 & NA\\\\\n\t 全国 & 2020-04-22 & 11772 & 420 & NA\\\\\n\t 全国 & 2020-04-21 & 11350 & 370 & NA\\\\\n\\end{tabular}\n",
            "text/markdown": "\nA tibble: 6 × 5\n\n| prefecture &lt;fct&gt; | date &lt;date&gt; | sum_patients &lt;int&gt; | new_patients &lt;int&gt; | patients_ma7 &lt;dbl&gt; |\n|---|---|---|---|---|\n| 全国 | 2020-04-26 | 13232 | 199 | NA |\n| 全国 | 2020-04-25 | 13031 | 346 | NA |\n| 全国 | 2020-04-24 | 12681 | 423 | NA |\n| 全国 | 2020-04-23 | 12240 | 434 | NA |\n| 全国 | 2020-04-22 | 11772 | 420 | NA |\n| 全国 | 2020-04-21 | 11350 | 370 | NA |\n\n",
            "text/html": [
              "<table class=\"dataframe\">\n",
              "<caption>A tibble: 6 × 5</caption>\n",
              "<thead>\n",
              "\t<tr><th scope=col>prefecture</th><th scope=col>date</th><th scope=col>sum_patients</th><th scope=col>new_patients</th><th scope=col>patients_ma7</th></tr>\n",
              "\t<tr><th scope=col>&lt;fct&gt;</th><th scope=col>&lt;date&gt;</th><th scope=col>&lt;int&gt;</th><th scope=col>&lt;int&gt;</th><th scope=col>&lt;dbl&gt;</th></tr>\n",
              "</thead>\n",
              "<tbody>\n",
              "\t<tr><td>全国</td><td>2020-04-26</td><td>13232</td><td>199</td><td>NA</td></tr>\n",
              "\t<tr><td>全国</td><td>2020-04-25</td><td>13031</td><td>346</td><td>NA</td></tr>\n",
              "\t<tr><td>全国</td><td>2020-04-24</td><td>12681</td><td>423</td><td>NA</td></tr>\n",
              "\t<tr><td>全国</td><td>2020-04-23</td><td>12240</td><td>434</td><td>NA</td></tr>\n",
              "\t<tr><td>全国</td><td>2020-04-22</td><td>11772</td><td>420</td><td>NA</td></tr>\n",
              "\t<tr><td>全国</td><td>2020-04-21</td><td>11350</td><td>370</td><td>NA</td></tr>\n",
              "</tbody>\n",
              "</table>\n"
            ]
          },
          "metadata": {
            "tags": []
          }
        },
        {
          "output_type": "stream",
          "text": [
            "tibble [21,218 × 5] (S3: tbl_df/tbl/data.frame)\n",
            " $ prefecture  : Factor w/ 48 levels \"北海道\",\"青森県\",..: 1 1 1 1 1 1 1 1 1 1 ...\n",
            " $ date        : Date[1:21218], format: \"2021-07-07\" \"2021-07-06\" ...\n",
            " $ sum_patients: int [1:21218] 41596 41529 41495 41466 41427 41397 41371 41332 41294 41271 ...\n",
            " $ new_patients: int [1:21218] 67 34 29 39 30 26 39 38 23 27 ...\n",
            " $ patients_ma7: num [1:21218] 37.7 33.6 32 31.7 30.1 ...\n"
          ],
          "name": "stdout"
        }
      ]
    },
    {
      "cell_type": "markdown",
      "metadata": {
        "id": "wMKiSLOWa7z0"
      },
      "source": [
        "## 7.接種状況と感染状況をドッキング"
      ]
    },
    {
      "cell_type": "markdown",
      "metadata": {
        "id": "trYjVLeYbOLU"
      },
      "source": [
        "### 7.1. 何をキーに使うか\n",
        "\n",
        "最初に処理したワクチン接種のデータと、後から処理した感染者数のデータを、ドッキングします。同じ都道府県どうし、同じ日付のものを間違いなく、対応させなくてはなりません。\n",
        "\n",
        "ポイントは、それぞれのデータで、一意のキーとなるものはどれか、です。それを使って、突き合わせしていきます。\n",
        "\n",
        "もう一回、vaccinationsとpatientsを見ておきましょう。"
      ]
    },
    {
      "cell_type": "code",
      "metadata": {
        "colab": {
          "base_uri": "https://localhost:8080/",
          "height": 554
        },
        "id": "bmC2ZNRWb56Z",
        "outputId": "e2361d07-db4d-4702-ac97-e9ac35028c71"
      },
      "source": [
        "head(vaccinations)\n",
        "tail(vaccinations)"
      ],
      "execution_count": 21,
      "outputs": [
        {
          "output_type": "display_data",
          "data": {
            "text/plain": [
              "  prefecture date       n_vaccinations total_vaccinations cum_vaccinations\n",
              "1 01         2021-07-09 20416          1901266            1880850         \n",
              "2 01         2021-07-08 33336          1880850            1847514         \n",
              "3 01         2021-07-07 36208          1847514            1811306         \n",
              "4 01         2021-07-06 40353          1811306            1770953         \n",
              "5 01         2021-07-05 44455          1770953            1726498         \n",
              "6 01         2021-07-04 37891          1726498            1688607         "
            ],
            "text/latex": "A tibble: 6 × 5\n\\begin{tabular}{lllll}\n prefecture & date & n\\_vaccinations & total\\_vaccinations & cum\\_vaccinations\\\\\n <chr> & <date> & <dbl> & <dbl> & <dbl>\\\\\n\\hline\n\t 01 & 2021-07-09 & 20416 & 1901266 & 1880850\\\\\n\t 01 & 2021-07-08 & 33336 & 1880850 & 1847514\\\\\n\t 01 & 2021-07-07 & 36208 & 1847514 & 1811306\\\\\n\t 01 & 2021-07-06 & 40353 & 1811306 & 1770953\\\\\n\t 01 & 2021-07-05 & 44455 & 1770953 & 1726498\\\\\n\t 01 & 2021-07-04 & 37891 & 1726498 & 1688607\\\\\n\\end{tabular}\n",
            "text/markdown": "\nA tibble: 6 × 5\n\n| prefecture &lt;chr&gt; | date &lt;date&gt; | n_vaccinations &lt;dbl&gt; | total_vaccinations &lt;dbl&gt; | cum_vaccinations &lt;dbl&gt; |\n|---|---|---|---|---|\n| 01 | 2021-07-09 | 20416 | 1901266 | 1880850 |\n| 01 | 2021-07-08 | 33336 | 1880850 | 1847514 |\n| 01 | 2021-07-07 | 36208 | 1847514 | 1811306 |\n| 01 | 2021-07-06 | 40353 | 1811306 | 1770953 |\n| 01 | 2021-07-05 | 44455 | 1770953 | 1726498 |\n| 01 | 2021-07-04 | 37891 | 1726498 | 1688607 |\n\n",
            "text/html": [
              "<table class=\"dataframe\">\n",
              "<caption>A tibble: 6 × 5</caption>\n",
              "<thead>\n",
              "\t<tr><th scope=col>prefecture</th><th scope=col>date</th><th scope=col>n_vaccinations</th><th scope=col>total_vaccinations</th><th scope=col>cum_vaccinations</th></tr>\n",
              "\t<tr><th scope=col>&lt;chr&gt;</th><th scope=col>&lt;date&gt;</th><th scope=col>&lt;dbl&gt;</th><th scope=col>&lt;dbl&gt;</th><th scope=col>&lt;dbl&gt;</th></tr>\n",
              "</thead>\n",
              "<tbody>\n",
              "\t<tr><td>01</td><td>2021-07-09</td><td>20416</td><td>1901266</td><td>1880850</td></tr>\n",
              "\t<tr><td>01</td><td>2021-07-08</td><td>33336</td><td>1880850</td><td>1847514</td></tr>\n",
              "\t<tr><td>01</td><td>2021-07-07</td><td>36208</td><td>1847514</td><td>1811306</td></tr>\n",
              "\t<tr><td>01</td><td>2021-07-06</td><td>40353</td><td>1811306</td><td>1770953</td></tr>\n",
              "\t<tr><td>01</td><td>2021-07-05</td><td>44455</td><td>1770953</td><td>1726498</td></tr>\n",
              "\t<tr><td>01</td><td>2021-07-04</td><td>37891</td><td>1726498</td><td>1688607</td></tr>\n",
              "</tbody>\n",
              "</table>\n"
            ]
          },
          "metadata": {
            "tags": []
          }
        },
        {
          "output_type": "display_data",
          "data": {
            "text/plain": [
              "  prefecture date       n_vaccinations total_vaccinations cum_vaccinations\n",
              "1 TOTAL/AVE  2021-04-17 7652           39583              31931           \n",
              "2 TOTAL/AVE  2021-04-16 9796           31931              22135           \n",
              "3 TOTAL/AVE  2021-04-15 8492           22135              13643           \n",
              "4 TOTAL/AVE  2021-04-14 4794           13643               8849           \n",
              "5 TOTAL/AVE  2021-04-13 4112            8849               4737           \n",
              "6 TOTAL/AVE  2021-04-12 4737            4737                  0           "
            ],
            "text/latex": "A tibble: 6 × 5\n\\begin{tabular}{lllll}\n prefecture & date & n\\_vaccinations & total\\_vaccinations & cum\\_vaccinations\\\\\n <chr> & <date> & <dbl> & <dbl> & <dbl>\\\\\n\\hline\n\t TOTAL/AVE & 2021-04-17 & 7652 & 39583 & 31931\\\\\n\t TOTAL/AVE & 2021-04-16 & 9796 & 31931 & 22135\\\\\n\t TOTAL/AVE & 2021-04-15 & 8492 & 22135 & 13643\\\\\n\t TOTAL/AVE & 2021-04-14 & 4794 & 13643 &  8849\\\\\n\t TOTAL/AVE & 2021-04-13 & 4112 &  8849 &  4737\\\\\n\t TOTAL/AVE & 2021-04-12 & 4737 &  4737 &     0\\\\\n\\end{tabular}\n",
            "text/markdown": "\nA tibble: 6 × 5\n\n| prefecture &lt;chr&gt; | date &lt;date&gt; | n_vaccinations &lt;dbl&gt; | total_vaccinations &lt;dbl&gt; | cum_vaccinations &lt;dbl&gt; |\n|---|---|---|---|---|\n| TOTAL/AVE | 2021-04-17 | 7652 | 39583 | 31931 |\n| TOTAL/AVE | 2021-04-16 | 9796 | 31931 | 22135 |\n| TOTAL/AVE | 2021-04-15 | 8492 | 22135 | 13643 |\n| TOTAL/AVE | 2021-04-14 | 4794 | 13643 |  8849 |\n| TOTAL/AVE | 2021-04-13 | 4112 |  8849 |  4737 |\n| TOTAL/AVE | 2021-04-12 | 4737 |  4737 |     0 |\n\n",
            "text/html": [
              "<table class=\"dataframe\">\n",
              "<caption>A tibble: 6 × 5</caption>\n",
              "<thead>\n",
              "\t<tr><th scope=col>prefecture</th><th scope=col>date</th><th scope=col>n_vaccinations</th><th scope=col>total_vaccinations</th><th scope=col>cum_vaccinations</th></tr>\n",
              "\t<tr><th scope=col>&lt;chr&gt;</th><th scope=col>&lt;date&gt;</th><th scope=col>&lt;dbl&gt;</th><th scope=col>&lt;dbl&gt;</th><th scope=col>&lt;dbl&gt;</th></tr>\n",
              "</thead>\n",
              "<tbody>\n",
              "\t<tr><td>TOTAL/AVE</td><td>2021-04-17</td><td>7652</td><td>39583</td><td>31931</td></tr>\n",
              "\t<tr><td>TOTAL/AVE</td><td>2021-04-16</td><td>9796</td><td>31931</td><td>22135</td></tr>\n",
              "\t<tr><td>TOTAL/AVE</td><td>2021-04-15</td><td>8492</td><td>22135</td><td>13643</td></tr>\n",
              "\t<tr><td>TOTAL/AVE</td><td>2021-04-14</td><td>4794</td><td>13643</td><td> 8849</td></tr>\n",
              "\t<tr><td>TOTAL/AVE</td><td>2021-04-13</td><td>4112</td><td> 8849</td><td> 4737</td></tr>\n",
              "\t<tr><td>TOTAL/AVE</td><td>2021-04-12</td><td>4737</td><td> 4737</td><td>    0</td></tr>\n",
              "</tbody>\n",
              "</table>\n"
            ]
          },
          "metadata": {
            "tags": []
          }
        }
      ]
    },
    {
      "cell_type": "code",
      "metadata": {
        "colab": {
          "base_uri": "https://localhost:8080/",
          "height": 554
        },
        "id": "BNvOQ4SScCMx",
        "outputId": "d3ef8e4b-ed19-4360-b7f7-e1a957cc893f"
      },
      "source": [
        "head(patients)\n",
        "tail(patients)"
      ],
      "execution_count": 22,
      "outputs": [
        {
          "output_type": "display_data",
          "data": {
            "text/plain": [
              "  prefecture date       sum_patients new_patients patients_ma7\n",
              "1 北海道     2021-07-07 41596        67           37.71429    \n",
              "2 北海道     2021-07-06 41529        34           33.57143    \n",
              "3 北海道     2021-07-05 41495        29           32.00000    \n",
              "4 北海道     2021-07-04 41466        39           31.71429    \n",
              "5 北海道     2021-07-03 41427        30           30.14286    \n",
              "6 北海道     2021-07-02 41397        26           32.57143    "
            ],
            "text/latex": "A tibble: 6 × 5\n\\begin{tabular}{lllll}\n prefecture & date & sum\\_patients & new\\_patients & patients\\_ma7\\\\\n <fct> & <date> & <int> & <int> & <dbl>\\\\\n\\hline\n\t 北海道 & 2021-07-07 & 41596 & 67 & 37.71429\\\\\n\t 北海道 & 2021-07-06 & 41529 & 34 & 33.57143\\\\\n\t 北海道 & 2021-07-05 & 41495 & 29 & 32.00000\\\\\n\t 北海道 & 2021-07-04 & 41466 & 39 & 31.71429\\\\\n\t 北海道 & 2021-07-03 & 41427 & 30 & 30.14286\\\\\n\t 北海道 & 2021-07-02 & 41397 & 26 & 32.57143\\\\\n\\end{tabular}\n",
            "text/markdown": "\nA tibble: 6 × 5\n\n| prefecture &lt;fct&gt; | date &lt;date&gt; | sum_patients &lt;int&gt; | new_patients &lt;int&gt; | patients_ma7 &lt;dbl&gt; |\n|---|---|---|---|---|\n| 北海道 | 2021-07-07 | 41596 | 67 | 37.71429 |\n| 北海道 | 2021-07-06 | 41529 | 34 | 33.57143 |\n| 北海道 | 2021-07-05 | 41495 | 29 | 32.00000 |\n| 北海道 | 2021-07-04 | 41466 | 39 | 31.71429 |\n| 北海道 | 2021-07-03 | 41427 | 30 | 30.14286 |\n| 北海道 | 2021-07-02 | 41397 | 26 | 32.57143 |\n\n",
            "text/html": [
              "<table class=\"dataframe\">\n",
              "<caption>A tibble: 6 × 5</caption>\n",
              "<thead>\n",
              "\t<tr><th scope=col>prefecture</th><th scope=col>date</th><th scope=col>sum_patients</th><th scope=col>new_patients</th><th scope=col>patients_ma7</th></tr>\n",
              "\t<tr><th scope=col>&lt;fct&gt;</th><th scope=col>&lt;date&gt;</th><th scope=col>&lt;int&gt;</th><th scope=col>&lt;int&gt;</th><th scope=col>&lt;dbl&gt;</th></tr>\n",
              "</thead>\n",
              "<tbody>\n",
              "\t<tr><td>北海道</td><td>2021-07-07</td><td>41596</td><td>67</td><td>37.71429</td></tr>\n",
              "\t<tr><td>北海道</td><td>2021-07-06</td><td>41529</td><td>34</td><td>33.57143</td></tr>\n",
              "\t<tr><td>北海道</td><td>2021-07-05</td><td>41495</td><td>29</td><td>32.00000</td></tr>\n",
              "\t<tr><td>北海道</td><td>2021-07-04</td><td>41466</td><td>39</td><td>31.71429</td></tr>\n",
              "\t<tr><td>北海道</td><td>2021-07-03</td><td>41427</td><td>30</td><td>30.14286</td></tr>\n",
              "\t<tr><td>北海道</td><td>2021-07-02</td><td>41397</td><td>26</td><td>32.57143</td></tr>\n",
              "</tbody>\n",
              "</table>\n"
            ]
          },
          "metadata": {
            "tags": []
          }
        },
        {
          "output_type": "display_data",
          "data": {
            "text/plain": [
              "  prefecture date       sum_patients new_patients patients_ma7\n",
              "1 全国       2020-04-26 13232        199          NA          \n",
              "2 全国       2020-04-25 13031        346          NA          \n",
              "3 全国       2020-04-24 12681        423          NA          \n",
              "4 全国       2020-04-23 12240        434          NA          \n",
              "5 全国       2020-04-22 11772        420          NA          \n",
              "6 全国       2020-04-21 11350        370          NA          "
            ],
            "text/latex": "A tibble: 6 × 5\n\\begin{tabular}{lllll}\n prefecture & date & sum\\_patients & new\\_patients & patients\\_ma7\\\\\n <fct> & <date> & <int> & <int> & <dbl>\\\\\n\\hline\n\t 全国 & 2020-04-26 & 13232 & 199 & NA\\\\\n\t 全国 & 2020-04-25 & 13031 & 346 & NA\\\\\n\t 全国 & 2020-04-24 & 12681 & 423 & NA\\\\\n\t 全国 & 2020-04-23 & 12240 & 434 & NA\\\\\n\t 全国 & 2020-04-22 & 11772 & 420 & NA\\\\\n\t 全国 & 2020-04-21 & 11350 & 370 & NA\\\\\n\\end{tabular}\n",
            "text/markdown": "\nA tibble: 6 × 5\n\n| prefecture &lt;fct&gt; | date &lt;date&gt; | sum_patients &lt;int&gt; | new_patients &lt;int&gt; | patients_ma7 &lt;dbl&gt; |\n|---|---|---|---|---|\n| 全国 | 2020-04-26 | 13232 | 199 | NA |\n| 全国 | 2020-04-25 | 13031 | 346 | NA |\n| 全国 | 2020-04-24 | 12681 | 423 | NA |\n| 全国 | 2020-04-23 | 12240 | 434 | NA |\n| 全国 | 2020-04-22 | 11772 | 420 | NA |\n| 全国 | 2020-04-21 | 11350 | 370 | NA |\n\n",
            "text/html": [
              "<table class=\"dataframe\">\n",
              "<caption>A tibble: 6 × 5</caption>\n",
              "<thead>\n",
              "\t<tr><th scope=col>prefecture</th><th scope=col>date</th><th scope=col>sum_patients</th><th scope=col>new_patients</th><th scope=col>patients_ma7</th></tr>\n",
              "\t<tr><th scope=col>&lt;fct&gt;</th><th scope=col>&lt;date&gt;</th><th scope=col>&lt;int&gt;</th><th scope=col>&lt;int&gt;</th><th scope=col>&lt;dbl&gt;</th></tr>\n",
              "</thead>\n",
              "<tbody>\n",
              "\t<tr><td>全国</td><td>2020-04-26</td><td>13232</td><td>199</td><td>NA</td></tr>\n",
              "\t<tr><td>全国</td><td>2020-04-25</td><td>13031</td><td>346</td><td>NA</td></tr>\n",
              "\t<tr><td>全国</td><td>2020-04-24</td><td>12681</td><td>423</td><td>NA</td></tr>\n",
              "\t<tr><td>全国</td><td>2020-04-23</td><td>12240</td><td>434</td><td>NA</td></tr>\n",
              "\t<tr><td>全国</td><td>2020-04-22</td><td>11772</td><td>420</td><td>NA</td></tr>\n",
              "\t<tr><td>全国</td><td>2020-04-21</td><td>11350</td><td>370</td><td>NA</td></tr>\n",
              "</tbody>\n",
              "</table>\n"
            ]
          },
          "metadata": {
            "tags": []
          }
        }
      ]
    },
    {
      "cell_type": "markdown",
      "metadata": {
        "id": "k-eSwRecc86O"
      },
      "source": [
        "「prefectureカラムとdateカラムのペア」をひとまとめにしたものが、どちらの表でも、それぞれの行に固有なキーになっていますね。これを生かして、××県の△△日のデータ、と指定すれば、狙ったものが選び出せるわけです。\n",
        "\n",
        "でも、同じprefectureカラムでも、一方は都道府県コードで、もう一方は都道府県名です。それで、対照表を用意していたのでした。なので、まずは対照表とドッキングさせます。ほかの手順も考えられますが、ここでは、両方の表を対照表とドッキングさせます。\n"
      ]
    },
    {
      "cell_type": "markdown",
      "metadata": {
        "id": "_EMabB302tsV"
      },
      "source": [
        "### 7.2. 対照表とjoinする\n",
        "\n",
        "2つのtibbleを付き合わせて結合するには、joinを使います。\n",
        "\n",
        "いくつか種類があります。突合できないデータがあったときに、残すか、捨てるか、が違います。きょうは深入りしませんので、ご自身で使う際に調べて下さい。NA値を「どれも同じもの」と見なすか否か、伝統的なデータベースとRでは、デフォルトの挙動が違ったりします。\n",
        "\n",
        "patientsには、県名のカラムprefectureがあります。これをキーにして、5.2.で作った対照表pref_popとjoinします。対照表にもprefectureカラムがあり、やはり一意のキーになっています。\n"
      ]
    },
    {
      "cell_type": "code",
      "metadata": {
        "id": "VFBMcjJ8a8Qd",
        "colab": {
          "base_uri": "https://localhost:8080/",
          "height": 554
        },
        "outputId": "43953c34-bee8-488e-c6d1-102dd672d609"
      },
      "source": [
        "# patientsとvaccinationsを結合する。\n",
        "# そのために、この２つの表の「都道府県」の対照表を使う。\n",
        "# patientsには都道府県名のカラムがあるので、それをキーに対照表と結合。\n",
        "patients <- patients %>%\n",
        "# prefecture以外は畳む。\n",
        "    nest(data = -prefecture) %>%\n",
        "# prefectureカラムをキーにして突合する。\n",
        "    left_join(pref_pop, by = \"prefecture\") %>% \n",
        "# ネストを戻す。\n",
        "unnest(cols = data)\n",
        "\n",
        "# こうなった\n",
        "head(patients)\n",
        "tail(patients)"
      ],
      "execution_count": 23,
      "outputs": [
        {
          "output_type": "display_data",
          "data": {
            "text/plain": [
              "  prefecture date       sum_patients new_patients patients_ma7 code\n",
              "1 北海道     2021-07-07 41596        67           37.71429     01  \n",
              "2 北海道     2021-07-06 41529        34           33.57143     01  \n",
              "3 北海道     2021-07-05 41495        29           32.00000     01  \n",
              "4 北海道     2021-07-04 41466        39           31.71429     01  \n",
              "5 北海道     2021-07-03 41427        30           30.14286     01  \n",
              "6 北海道     2021-07-02 41397        26           32.57143     01  \n",
              "  prefecture_short population block       \n",
              "1 北海道           5267762    北海道・東北\n",
              "2 北海道           5267762    北海道・東北\n",
              "3 北海道           5267762    北海道・東北\n",
              "4 北海道           5267762    北海道・東北\n",
              "5 北海道           5267762    北海道・東北\n",
              "6 北海道           5267762    北海道・東北"
            ],
            "text/latex": "A tibble: 6 × 9\n\\begin{tabular}{lllllllll}\n prefecture & date & sum\\_patients & new\\_patients & patients\\_ma7 & code & prefecture\\_short & population & block\\\\\n <fct> & <date> & <int> & <int> & <dbl> & <fct> & <fct> & <int> & <fct>\\\\\n\\hline\n\t 北海道 & 2021-07-07 & 41596 & 67 & 37.71429 & 01 & 北海道 & 5267762 & 北海道・東北\\\\\n\t 北海道 & 2021-07-06 & 41529 & 34 & 33.57143 & 01 & 北海道 & 5267762 & 北海道・東北\\\\\n\t 北海道 & 2021-07-05 & 41495 & 29 & 32.00000 & 01 & 北海道 & 5267762 & 北海道・東北\\\\\n\t 北海道 & 2021-07-04 & 41466 & 39 & 31.71429 & 01 & 北海道 & 5267762 & 北海道・東北\\\\\n\t 北海道 & 2021-07-03 & 41427 & 30 & 30.14286 & 01 & 北海道 & 5267762 & 北海道・東北\\\\\n\t 北海道 & 2021-07-02 & 41397 & 26 & 32.57143 & 01 & 北海道 & 5267762 & 北海道・東北\\\\\n\\end{tabular}\n",
            "text/markdown": "\nA tibble: 6 × 9\n\n| prefecture &lt;fct&gt; | date &lt;date&gt; | sum_patients &lt;int&gt; | new_patients &lt;int&gt; | patients_ma7 &lt;dbl&gt; | code &lt;fct&gt; | prefecture_short &lt;fct&gt; | population &lt;int&gt; | block &lt;fct&gt; |\n|---|---|---|---|---|---|---|---|---|\n| 北海道 | 2021-07-07 | 41596 | 67 | 37.71429 | 01 | 北海道 | 5267762 | 北海道・東北 |\n| 北海道 | 2021-07-06 | 41529 | 34 | 33.57143 | 01 | 北海道 | 5267762 | 北海道・東北 |\n| 北海道 | 2021-07-05 | 41495 | 29 | 32.00000 | 01 | 北海道 | 5267762 | 北海道・東北 |\n| 北海道 | 2021-07-04 | 41466 | 39 | 31.71429 | 01 | 北海道 | 5267762 | 北海道・東北 |\n| 北海道 | 2021-07-03 | 41427 | 30 | 30.14286 | 01 | 北海道 | 5267762 | 北海道・東北 |\n| 北海道 | 2021-07-02 | 41397 | 26 | 32.57143 | 01 | 北海道 | 5267762 | 北海道・東北 |\n\n",
            "text/html": [
              "<table class=\"dataframe\">\n",
              "<caption>A tibble: 6 × 9</caption>\n",
              "<thead>\n",
              "\t<tr><th scope=col>prefecture</th><th scope=col>date</th><th scope=col>sum_patients</th><th scope=col>new_patients</th><th scope=col>patients_ma7</th><th scope=col>code</th><th scope=col>prefecture_short</th><th scope=col>population</th><th scope=col>block</th></tr>\n",
              "\t<tr><th scope=col>&lt;fct&gt;</th><th scope=col>&lt;date&gt;</th><th scope=col>&lt;int&gt;</th><th scope=col>&lt;int&gt;</th><th scope=col>&lt;dbl&gt;</th><th scope=col>&lt;fct&gt;</th><th scope=col>&lt;fct&gt;</th><th scope=col>&lt;int&gt;</th><th scope=col>&lt;fct&gt;</th></tr>\n",
              "</thead>\n",
              "<tbody>\n",
              "\t<tr><td>北海道</td><td>2021-07-07</td><td>41596</td><td>67</td><td>37.71429</td><td>01</td><td>北海道</td><td>5267762</td><td>北海道・東北</td></tr>\n",
              "\t<tr><td>北海道</td><td>2021-07-06</td><td>41529</td><td>34</td><td>33.57143</td><td>01</td><td>北海道</td><td>5267762</td><td>北海道・東北</td></tr>\n",
              "\t<tr><td>北海道</td><td>2021-07-05</td><td>41495</td><td>29</td><td>32.00000</td><td>01</td><td>北海道</td><td>5267762</td><td>北海道・東北</td></tr>\n",
              "\t<tr><td>北海道</td><td>2021-07-04</td><td>41466</td><td>39</td><td>31.71429</td><td>01</td><td>北海道</td><td>5267762</td><td>北海道・東北</td></tr>\n",
              "\t<tr><td>北海道</td><td>2021-07-03</td><td>41427</td><td>30</td><td>30.14286</td><td>01</td><td>北海道</td><td>5267762</td><td>北海道・東北</td></tr>\n",
              "\t<tr><td>北海道</td><td>2021-07-02</td><td>41397</td><td>26</td><td>32.57143</td><td>01</td><td>北海道</td><td>5267762</td><td>北海道・東北</td></tr>\n",
              "</tbody>\n",
              "</table>\n"
            ]
          },
          "metadata": {
            "tags": []
          }
        },
        {
          "output_type": "display_data",
          "data": {
            "text/plain": [
              "  prefecture date       sum_patients new_patients patients_ma7 code     \n",
              "1 全国       2020-04-26 13232        199          NA           TOTAL/AVE\n",
              "2 全国       2020-04-25 13031        346          NA           TOTAL/AVE\n",
              "3 全国       2020-04-24 12681        423          NA           TOTAL/AVE\n",
              "4 全国       2020-04-23 12240        434          NA           TOTAL/AVE\n",
              "5 全国       2020-04-22 11772        420          NA           TOTAL/AVE\n",
              "6 全国       2020-04-21 11350        370          NA           TOTAL/AVE\n",
              "  prefecture_short population block\n",
              "1 全国             127138033  全国 \n",
              "2 全国             127138033  全国 \n",
              "3 全国             127138033  全国 \n",
              "4 全国             127138033  全国 \n",
              "5 全国             127138033  全国 \n",
              "6 全国             127138033  全国 "
            ],
            "text/latex": "A tibble: 6 × 9\n\\begin{tabular}{lllllllll}\n prefecture & date & sum\\_patients & new\\_patients & patients\\_ma7 & code & prefecture\\_short & population & block\\\\\n <fct> & <date> & <int> & <int> & <dbl> & <fct> & <fct> & <int> & <fct>\\\\\n\\hline\n\t 全国 & 2020-04-26 & 13232 & 199 & NA & TOTAL/AVE & 全国 & 127138033 & 全国\\\\\n\t 全国 & 2020-04-25 & 13031 & 346 & NA & TOTAL/AVE & 全国 & 127138033 & 全国\\\\\n\t 全国 & 2020-04-24 & 12681 & 423 & NA & TOTAL/AVE & 全国 & 127138033 & 全国\\\\\n\t 全国 & 2020-04-23 & 12240 & 434 & NA & TOTAL/AVE & 全国 & 127138033 & 全国\\\\\n\t 全国 & 2020-04-22 & 11772 & 420 & NA & TOTAL/AVE & 全国 & 127138033 & 全国\\\\\n\t 全国 & 2020-04-21 & 11350 & 370 & NA & TOTAL/AVE & 全国 & 127138033 & 全国\\\\\n\\end{tabular}\n",
            "text/markdown": "\nA tibble: 6 × 9\n\n| prefecture &lt;fct&gt; | date &lt;date&gt; | sum_patients &lt;int&gt; | new_patients &lt;int&gt; | patients_ma7 &lt;dbl&gt; | code &lt;fct&gt; | prefecture_short &lt;fct&gt; | population &lt;int&gt; | block &lt;fct&gt; |\n|---|---|---|---|---|---|---|---|---|\n| 全国 | 2020-04-26 | 13232 | 199 | NA | TOTAL/AVE | 全国 | 127138033 | 全国 |\n| 全国 | 2020-04-25 | 13031 | 346 | NA | TOTAL/AVE | 全国 | 127138033 | 全国 |\n| 全国 | 2020-04-24 | 12681 | 423 | NA | TOTAL/AVE | 全国 | 127138033 | 全国 |\n| 全国 | 2020-04-23 | 12240 | 434 | NA | TOTAL/AVE | 全国 | 127138033 | 全国 |\n| 全国 | 2020-04-22 | 11772 | 420 | NA | TOTAL/AVE | 全国 | 127138033 | 全国 |\n| 全国 | 2020-04-21 | 11350 | 370 | NA | TOTAL/AVE | 全国 | 127138033 | 全国 |\n\n",
            "text/html": [
              "<table class=\"dataframe\">\n",
              "<caption>A tibble: 6 × 9</caption>\n",
              "<thead>\n",
              "\t<tr><th scope=col>prefecture</th><th scope=col>date</th><th scope=col>sum_patients</th><th scope=col>new_patients</th><th scope=col>patients_ma7</th><th scope=col>code</th><th scope=col>prefecture_short</th><th scope=col>population</th><th scope=col>block</th></tr>\n",
              "\t<tr><th scope=col>&lt;fct&gt;</th><th scope=col>&lt;date&gt;</th><th scope=col>&lt;int&gt;</th><th scope=col>&lt;int&gt;</th><th scope=col>&lt;dbl&gt;</th><th scope=col>&lt;fct&gt;</th><th scope=col>&lt;fct&gt;</th><th scope=col>&lt;int&gt;</th><th scope=col>&lt;fct&gt;</th></tr>\n",
              "</thead>\n",
              "<tbody>\n",
              "\t<tr><td>全国</td><td>2020-04-26</td><td>13232</td><td>199</td><td>NA</td><td>TOTAL/AVE</td><td>全国</td><td>127138033</td><td>全国</td></tr>\n",
              "\t<tr><td>全国</td><td>2020-04-25</td><td>13031</td><td>346</td><td>NA</td><td>TOTAL/AVE</td><td>全国</td><td>127138033</td><td>全国</td></tr>\n",
              "\t<tr><td>全国</td><td>2020-04-24</td><td>12681</td><td>423</td><td>NA</td><td>TOTAL/AVE</td><td>全国</td><td>127138033</td><td>全国</td></tr>\n",
              "\t<tr><td>全国</td><td>2020-04-23</td><td>12240</td><td>434</td><td>NA</td><td>TOTAL/AVE</td><td>全国</td><td>127138033</td><td>全国</td></tr>\n",
              "\t<tr><td>全国</td><td>2020-04-22</td><td>11772</td><td>420</td><td>NA</td><td>TOTAL/AVE</td><td>全国</td><td>127138033</td><td>全国</td></tr>\n",
              "\t<tr><td>全国</td><td>2020-04-21</td><td>11350</td><td>370</td><td>NA</td><td>TOTAL/AVE</td><td>全国</td><td>127138033</td><td>全国</td></tr>\n",
              "</tbody>\n",
              "</table>\n"
            ]
          },
          "metadata": {
            "tags": []
          }
        }
      ]
    },
    {
      "cell_type": "markdown",
      "metadata": {
        "id": "xb4tmFHy6t5X"
      },
      "source": [
        "vaccinationsにも、prefectureというカラムはあるのですが、中身は県名ではなく、都道府県コードです。これをキーにjoinします。相手のpref_popに合わせて、カラム名はあらかじめcodeに直しておきます。pref_popのcodeカラムも、一意のキーになっています。"
      ]
    },
    {
      "cell_type": "code",
      "metadata": {
        "id": "Z1umubs2ojwt",
        "colab": {
          "base_uri": "https://localhost:8080/",
          "height": 554
        },
        "outputId": "33fc0103-782c-44c3-9aff-0c5ad59baf2e"
      },
      "source": [
        "# vaccinationsはコードをキーに対照表と結合する。\n",
        "vaccinations <- vaccinations %>% \n",
        "# カラム名を揃えてからjoin。ここでカテゴリー型に直しておく。\n",
        "    mutate(\n",
        "        \"code\" = parse_factor(prefecture, levels = JISX0401)\n",
        "    ) %>%\n",
        "    select(-prefecture) %>%\n",
        "# code以外は畳む\n",
        "    nest(data = -code) %>%\n",
        "# codeカラムをキーにして突合する。\n",
        "    left_join(pref_pop, by = \"code\") %>%\n",
        "# ネストを戻す。\n",
        "    unnest(cols = data)\n",
        "\n",
        "# こうなった\n",
        "head(vaccinations)\n",
        "tail(vaccinations)"
      ],
      "execution_count": 24,
      "outputs": [
        {
          "output_type": "display_data",
          "data": {
            "text/plain": [
              "  code date       n_vaccinations total_vaccinations cum_vaccinations prefecture\n",
              "1 01   2021-07-09 20416          1901266            1880850          北海道    \n",
              "2 01   2021-07-08 33336          1880850            1847514          北海道    \n",
              "3 01   2021-07-07 36208          1847514            1811306          北海道    \n",
              "4 01   2021-07-06 40353          1811306            1770953          北海道    \n",
              "5 01   2021-07-05 44455          1770953            1726498          北海道    \n",
              "6 01   2021-07-04 37891          1726498            1688607          北海道    \n",
              "  prefecture_short population block       \n",
              "1 北海道           5267762    北海道・東北\n",
              "2 北海道           5267762    北海道・東北\n",
              "3 北海道           5267762    北海道・東北\n",
              "4 北海道           5267762    北海道・東北\n",
              "5 北海道           5267762    北海道・東北\n",
              "6 北海道           5267762    北海道・東北"
            ],
            "text/latex": "A tibble: 6 × 9\n\\begin{tabular}{lllllllll}\n code & date & n\\_vaccinations & total\\_vaccinations & cum\\_vaccinations & prefecture & prefecture\\_short & population & block\\\\\n <fct> & <date> & <dbl> & <dbl> & <dbl> & <fct> & <fct> & <int> & <fct>\\\\\n\\hline\n\t 01 & 2021-07-09 & 20416 & 1901266 & 1880850 & 北海道 & 北海道 & 5267762 & 北海道・東北\\\\\n\t 01 & 2021-07-08 & 33336 & 1880850 & 1847514 & 北海道 & 北海道 & 5267762 & 北海道・東北\\\\\n\t 01 & 2021-07-07 & 36208 & 1847514 & 1811306 & 北海道 & 北海道 & 5267762 & 北海道・東北\\\\\n\t 01 & 2021-07-06 & 40353 & 1811306 & 1770953 & 北海道 & 北海道 & 5267762 & 北海道・東北\\\\\n\t 01 & 2021-07-05 & 44455 & 1770953 & 1726498 & 北海道 & 北海道 & 5267762 & 北海道・東北\\\\\n\t 01 & 2021-07-04 & 37891 & 1726498 & 1688607 & 北海道 & 北海道 & 5267762 & 北海道・東北\\\\\n\\end{tabular}\n",
            "text/markdown": "\nA tibble: 6 × 9\n\n| code &lt;fct&gt; | date &lt;date&gt; | n_vaccinations &lt;dbl&gt; | total_vaccinations &lt;dbl&gt; | cum_vaccinations &lt;dbl&gt; | prefecture &lt;fct&gt; | prefecture_short &lt;fct&gt; | population &lt;int&gt; | block &lt;fct&gt; |\n|---|---|---|---|---|---|---|---|---|\n| 01 | 2021-07-09 | 20416 | 1901266 | 1880850 | 北海道 | 北海道 | 5267762 | 北海道・東北 |\n| 01 | 2021-07-08 | 33336 | 1880850 | 1847514 | 北海道 | 北海道 | 5267762 | 北海道・東北 |\n| 01 | 2021-07-07 | 36208 | 1847514 | 1811306 | 北海道 | 北海道 | 5267762 | 北海道・東北 |\n| 01 | 2021-07-06 | 40353 | 1811306 | 1770953 | 北海道 | 北海道 | 5267762 | 北海道・東北 |\n| 01 | 2021-07-05 | 44455 | 1770953 | 1726498 | 北海道 | 北海道 | 5267762 | 北海道・東北 |\n| 01 | 2021-07-04 | 37891 | 1726498 | 1688607 | 北海道 | 北海道 | 5267762 | 北海道・東北 |\n\n",
            "text/html": [
              "<table class=\"dataframe\">\n",
              "<caption>A tibble: 6 × 9</caption>\n",
              "<thead>\n",
              "\t<tr><th scope=col>code</th><th scope=col>date</th><th scope=col>n_vaccinations</th><th scope=col>total_vaccinations</th><th scope=col>cum_vaccinations</th><th scope=col>prefecture</th><th scope=col>prefecture_short</th><th scope=col>population</th><th scope=col>block</th></tr>\n",
              "\t<tr><th scope=col>&lt;fct&gt;</th><th scope=col>&lt;date&gt;</th><th scope=col>&lt;dbl&gt;</th><th scope=col>&lt;dbl&gt;</th><th scope=col>&lt;dbl&gt;</th><th scope=col>&lt;fct&gt;</th><th scope=col>&lt;fct&gt;</th><th scope=col>&lt;int&gt;</th><th scope=col>&lt;fct&gt;</th></tr>\n",
              "</thead>\n",
              "<tbody>\n",
              "\t<tr><td>01</td><td>2021-07-09</td><td>20416</td><td>1901266</td><td>1880850</td><td>北海道</td><td>北海道</td><td>5267762</td><td>北海道・東北</td></tr>\n",
              "\t<tr><td>01</td><td>2021-07-08</td><td>33336</td><td>1880850</td><td>1847514</td><td>北海道</td><td>北海道</td><td>5267762</td><td>北海道・東北</td></tr>\n",
              "\t<tr><td>01</td><td>2021-07-07</td><td>36208</td><td>1847514</td><td>1811306</td><td>北海道</td><td>北海道</td><td>5267762</td><td>北海道・東北</td></tr>\n",
              "\t<tr><td>01</td><td>2021-07-06</td><td>40353</td><td>1811306</td><td>1770953</td><td>北海道</td><td>北海道</td><td>5267762</td><td>北海道・東北</td></tr>\n",
              "\t<tr><td>01</td><td>2021-07-05</td><td>44455</td><td>1770953</td><td>1726498</td><td>北海道</td><td>北海道</td><td>5267762</td><td>北海道・東北</td></tr>\n",
              "\t<tr><td>01</td><td>2021-07-04</td><td>37891</td><td>1726498</td><td>1688607</td><td>北海道</td><td>北海道</td><td>5267762</td><td>北海道・東北</td></tr>\n",
              "</tbody>\n",
              "</table>\n"
            ]
          },
          "metadata": {
            "tags": []
          }
        },
        {
          "output_type": "display_data",
          "data": {
            "text/plain": [
              "  code      date       n_vaccinations total_vaccinations cum_vaccinations\n",
              "1 TOTAL/AVE 2021-04-17 7652           39583              31931           \n",
              "2 TOTAL/AVE 2021-04-16 9796           31931              22135           \n",
              "3 TOTAL/AVE 2021-04-15 8492           22135              13643           \n",
              "4 TOTAL/AVE 2021-04-14 4794           13643               8849           \n",
              "5 TOTAL/AVE 2021-04-13 4112            8849               4737           \n",
              "6 TOTAL/AVE 2021-04-12 4737            4737                  0           \n",
              "  prefecture prefecture_short population block\n",
              "1 全国       全国             127138033  全国 \n",
              "2 全国       全国             127138033  全国 \n",
              "3 全国       全国             127138033  全国 \n",
              "4 全国       全国             127138033  全国 \n",
              "5 全国       全国             127138033  全国 \n",
              "6 全国       全国             127138033  全国 "
            ],
            "text/latex": "A tibble: 6 × 9\n\\begin{tabular}{lllllllll}\n code & date & n\\_vaccinations & total\\_vaccinations & cum\\_vaccinations & prefecture & prefecture\\_short & population & block\\\\\n <fct> & <date> & <dbl> & <dbl> & <dbl> & <fct> & <fct> & <int> & <fct>\\\\\n\\hline\n\t TOTAL/AVE & 2021-04-17 & 7652 & 39583 & 31931 & 全国 & 全国 & 127138033 & 全国\\\\\n\t TOTAL/AVE & 2021-04-16 & 9796 & 31931 & 22135 & 全国 & 全国 & 127138033 & 全国\\\\\n\t TOTAL/AVE & 2021-04-15 & 8492 & 22135 & 13643 & 全国 & 全国 & 127138033 & 全国\\\\\n\t TOTAL/AVE & 2021-04-14 & 4794 & 13643 &  8849 & 全国 & 全国 & 127138033 & 全国\\\\\n\t TOTAL/AVE & 2021-04-13 & 4112 &  8849 &  4737 & 全国 & 全国 & 127138033 & 全国\\\\\n\t TOTAL/AVE & 2021-04-12 & 4737 &  4737 &     0 & 全国 & 全国 & 127138033 & 全国\\\\\n\\end{tabular}\n",
            "text/markdown": "\nA tibble: 6 × 9\n\n| code &lt;fct&gt; | date &lt;date&gt; | n_vaccinations &lt;dbl&gt; | total_vaccinations &lt;dbl&gt; | cum_vaccinations &lt;dbl&gt; | prefecture &lt;fct&gt; | prefecture_short &lt;fct&gt; | population &lt;int&gt; | block &lt;fct&gt; |\n|---|---|---|---|---|---|---|---|---|\n| TOTAL/AVE | 2021-04-17 | 7652 | 39583 | 31931 | 全国 | 全国 | 127138033 | 全国 |\n| TOTAL/AVE | 2021-04-16 | 9796 | 31931 | 22135 | 全国 | 全国 | 127138033 | 全国 |\n| TOTAL/AVE | 2021-04-15 | 8492 | 22135 | 13643 | 全国 | 全国 | 127138033 | 全国 |\n| TOTAL/AVE | 2021-04-14 | 4794 | 13643 |  8849 | 全国 | 全国 | 127138033 | 全国 |\n| TOTAL/AVE | 2021-04-13 | 4112 |  8849 |  4737 | 全国 | 全国 | 127138033 | 全国 |\n| TOTAL/AVE | 2021-04-12 | 4737 |  4737 |     0 | 全国 | 全国 | 127138033 | 全国 |\n\n",
            "text/html": [
              "<table class=\"dataframe\">\n",
              "<caption>A tibble: 6 × 9</caption>\n",
              "<thead>\n",
              "\t<tr><th scope=col>code</th><th scope=col>date</th><th scope=col>n_vaccinations</th><th scope=col>total_vaccinations</th><th scope=col>cum_vaccinations</th><th scope=col>prefecture</th><th scope=col>prefecture_short</th><th scope=col>population</th><th scope=col>block</th></tr>\n",
              "\t<tr><th scope=col>&lt;fct&gt;</th><th scope=col>&lt;date&gt;</th><th scope=col>&lt;dbl&gt;</th><th scope=col>&lt;dbl&gt;</th><th scope=col>&lt;dbl&gt;</th><th scope=col>&lt;fct&gt;</th><th scope=col>&lt;fct&gt;</th><th scope=col>&lt;int&gt;</th><th scope=col>&lt;fct&gt;</th></tr>\n",
              "</thead>\n",
              "<tbody>\n",
              "\t<tr><td>TOTAL/AVE</td><td>2021-04-17</td><td>7652</td><td>39583</td><td>31931</td><td>全国</td><td>全国</td><td>127138033</td><td>全国</td></tr>\n",
              "\t<tr><td>TOTAL/AVE</td><td>2021-04-16</td><td>9796</td><td>31931</td><td>22135</td><td>全国</td><td>全国</td><td>127138033</td><td>全国</td></tr>\n",
              "\t<tr><td>TOTAL/AVE</td><td>2021-04-15</td><td>8492</td><td>22135</td><td>13643</td><td>全国</td><td>全国</td><td>127138033</td><td>全国</td></tr>\n",
              "\t<tr><td>TOTAL/AVE</td><td>2021-04-14</td><td>4794</td><td>13643</td><td> 8849</td><td>全国</td><td>全国</td><td>127138033</td><td>全国</td></tr>\n",
              "\t<tr><td>TOTAL/AVE</td><td>2021-04-13</td><td>4112</td><td> 8849</td><td> 4737</td><td>全国</td><td>全国</td><td>127138033</td><td>全国</td></tr>\n",
              "\t<tr><td>TOTAL/AVE</td><td>2021-04-12</td><td>4737</td><td> 4737</td><td>    0</td><td>全国</td><td>全国</td><td>127138033</td><td>全国</td></tr>\n",
              "</tbody>\n",
              "</table>\n"
            ]
          },
          "metadata": {
            "tags": []
          }
        }
      ]
    },
    {
      "cell_type": "markdown",
      "metadata": {
        "id": "0xv-qXyp27i_"
      },
      "source": [
        "### 7.3. 接種状況と感染者数をJOINする"
      ]
    },
    {
      "cell_type": "markdown",
      "metadata": {
        "id": "tH1n3mUJAp4a"
      },
      "source": [
        "これで、接種状況と感染者数をドッキングさせる準備が整いました。都道府県だけ、日付だけ、では一意のキーになりませんが、都道府県と日付のペアで見れば、両方を結びつける際のキーになります。\n",
        "\n",
        "なお、ほかにも共通のカラムはありますが、これは、同じpref_popとそれぞれの表を先ほどjoinしたからです。長短の県名・県コード・日付のほかに地域もキーにして突合しています、とメッセージが出ていますが、差し支えありません。今回は、キーを指定しないでjoinを指示したので、両方に同じカラム名のデータがあれば、それをキーに使おうとしてくれているわけです。\n"
      ]
    },
    {
      "cell_type": "code",
      "metadata": {
        "id": "Er6WsVCSm3hF",
        "colab": {
          "base_uri": "https://localhost:8080/",
          "height": 1000
        },
        "outputId": "9e1c4c75-59f5-473f-ce13-502995066fa0"
      },
      "source": [
        "# vaccinationとpatientsを付き合わせる。\n",
        "# left_joinは、左のデータにあるものは、右に突合相手がいなくても残す。\n",
        "# なので、これはワクチン接種が始まる前の感染者データも保存する。\n",
        "joined_data <- left_join(patients, vaccinations) %>%\n",
        "# カラムを並べ替えて見やすくする\n",
        "    relocate(date, code, prefecture, prefecture_short, block, population)\n",
        "# こうなった。\n",
        "head(joined_data)\n",
        "tail(joined_data)\n",
        "summary(joined_data)\n",
        "str(joined_data)"
      ],
      "execution_count": 25,
      "outputs": [
        {
          "output_type": "stream",
          "text": [
            "Joining, by = c(\"prefecture\", \"date\", \"code\", \"prefecture_short\", \"population\", \"block\")\n",
            "\n"
          ],
          "name": "stderr"
        },
        {
          "output_type": "display_data",
          "data": {
            "text/plain": [
              "  date       code prefecture prefecture_short block        population\n",
              "1 2021-07-07 01   北海道     北海道           北海道・東北 5267762   \n",
              "2 2021-07-06 01   北海道     北海道           北海道・東北 5267762   \n",
              "3 2021-07-05 01   北海道     北海道           北海道・東北 5267762   \n",
              "4 2021-07-04 01   北海道     北海道           北海道・東北 5267762   \n",
              "5 2021-07-03 01   北海道     北海道           北海道・東北 5267762   \n",
              "6 2021-07-02 01   北海道     北海道           北海道・東北 5267762   \n",
              "  sum_patients new_patients patients_ma7 n_vaccinations total_vaccinations\n",
              "1 41596        67           37.71429     36208          1847514           \n",
              "2 41529        34           33.57143     40353          1811306           \n",
              "3 41495        29           32.00000     44455          1770953           \n",
              "4 41466        39           31.71429     37891          1726498           \n",
              "5 41427        30           30.14286     36366          1688607           \n",
              "6 41397        26           32.57143     33505          1652241           \n",
              "  cum_vaccinations\n",
              "1 1811306         \n",
              "2 1770953         \n",
              "3 1726498         \n",
              "4 1688607         \n",
              "5 1652241         \n",
              "6 1618736         "
            ],
            "text/latex": "A tibble: 6 × 12\n\\begin{tabular}{llllllllllll}\n date & code & prefecture & prefecture\\_short & block & population & sum\\_patients & new\\_patients & patients\\_ma7 & n\\_vaccinations & total\\_vaccinations & cum\\_vaccinations\\\\\n <date> & <fct> & <fct> & <fct> & <fct> & <int> & <int> & <int> & <dbl> & <dbl> & <dbl> & <dbl>\\\\\n\\hline\n\t 2021-07-07 & 01 & 北海道 & 北海道 & 北海道・東北 & 5267762 & 41596 & 67 & 37.71429 & 36208 & 1847514 & 1811306\\\\\n\t 2021-07-06 & 01 & 北海道 & 北海道 & 北海道・東北 & 5267762 & 41529 & 34 & 33.57143 & 40353 & 1811306 & 1770953\\\\\n\t 2021-07-05 & 01 & 北海道 & 北海道 & 北海道・東北 & 5267762 & 41495 & 29 & 32.00000 & 44455 & 1770953 & 1726498\\\\\n\t 2021-07-04 & 01 & 北海道 & 北海道 & 北海道・東北 & 5267762 & 41466 & 39 & 31.71429 & 37891 & 1726498 & 1688607\\\\\n\t 2021-07-03 & 01 & 北海道 & 北海道 & 北海道・東北 & 5267762 & 41427 & 30 & 30.14286 & 36366 & 1688607 & 1652241\\\\\n\t 2021-07-02 & 01 & 北海道 & 北海道 & 北海道・東北 & 5267762 & 41397 & 26 & 32.57143 & 33505 & 1652241 & 1618736\\\\\n\\end{tabular}\n",
            "text/markdown": "\nA tibble: 6 × 12\n\n| date &lt;date&gt; | code &lt;fct&gt; | prefecture &lt;fct&gt; | prefecture_short &lt;fct&gt; | block &lt;fct&gt; | population &lt;int&gt; | sum_patients &lt;int&gt; | new_patients &lt;int&gt; | patients_ma7 &lt;dbl&gt; | n_vaccinations &lt;dbl&gt; | total_vaccinations &lt;dbl&gt; | cum_vaccinations &lt;dbl&gt; |\n|---|---|---|---|---|---|---|---|---|---|---|---|\n| 2021-07-07 | 01 | 北海道 | 北海道 | 北海道・東北 | 5267762 | 41596 | 67 | 37.71429 | 36208 | 1847514 | 1811306 |\n| 2021-07-06 | 01 | 北海道 | 北海道 | 北海道・東北 | 5267762 | 41529 | 34 | 33.57143 | 40353 | 1811306 | 1770953 |\n| 2021-07-05 | 01 | 北海道 | 北海道 | 北海道・東北 | 5267762 | 41495 | 29 | 32.00000 | 44455 | 1770953 | 1726498 |\n| 2021-07-04 | 01 | 北海道 | 北海道 | 北海道・東北 | 5267762 | 41466 | 39 | 31.71429 | 37891 | 1726498 | 1688607 |\n| 2021-07-03 | 01 | 北海道 | 北海道 | 北海道・東北 | 5267762 | 41427 | 30 | 30.14286 | 36366 | 1688607 | 1652241 |\n| 2021-07-02 | 01 | 北海道 | 北海道 | 北海道・東北 | 5267762 | 41397 | 26 | 32.57143 | 33505 | 1652241 | 1618736 |\n\n",
            "text/html": [
              "<table class=\"dataframe\">\n",
              "<caption>A tibble: 6 × 12</caption>\n",
              "<thead>\n",
              "\t<tr><th scope=col>date</th><th scope=col>code</th><th scope=col>prefecture</th><th scope=col>prefecture_short</th><th scope=col>block</th><th scope=col>population</th><th scope=col>sum_patients</th><th scope=col>new_patients</th><th scope=col>patients_ma7</th><th scope=col>n_vaccinations</th><th scope=col>total_vaccinations</th><th scope=col>cum_vaccinations</th></tr>\n",
              "\t<tr><th scope=col>&lt;date&gt;</th><th scope=col>&lt;fct&gt;</th><th scope=col>&lt;fct&gt;</th><th scope=col>&lt;fct&gt;</th><th scope=col>&lt;fct&gt;</th><th scope=col>&lt;int&gt;</th><th scope=col>&lt;int&gt;</th><th scope=col>&lt;int&gt;</th><th scope=col>&lt;dbl&gt;</th><th scope=col>&lt;dbl&gt;</th><th scope=col>&lt;dbl&gt;</th><th scope=col>&lt;dbl&gt;</th></tr>\n",
              "</thead>\n",
              "<tbody>\n",
              "\t<tr><td>2021-07-07</td><td>01</td><td>北海道</td><td>北海道</td><td>北海道・東北</td><td>5267762</td><td>41596</td><td>67</td><td>37.71429</td><td>36208</td><td>1847514</td><td>1811306</td></tr>\n",
              "\t<tr><td>2021-07-06</td><td>01</td><td>北海道</td><td>北海道</td><td>北海道・東北</td><td>5267762</td><td>41529</td><td>34</td><td>33.57143</td><td>40353</td><td>1811306</td><td>1770953</td></tr>\n",
              "\t<tr><td>2021-07-05</td><td>01</td><td>北海道</td><td>北海道</td><td>北海道・東北</td><td>5267762</td><td>41495</td><td>29</td><td>32.00000</td><td>44455</td><td>1770953</td><td>1726498</td></tr>\n",
              "\t<tr><td>2021-07-04</td><td>01</td><td>北海道</td><td>北海道</td><td>北海道・東北</td><td>5267762</td><td>41466</td><td>39</td><td>31.71429</td><td>37891</td><td>1726498</td><td>1688607</td></tr>\n",
              "\t<tr><td>2021-07-03</td><td>01</td><td>北海道</td><td>北海道</td><td>北海道・東北</td><td>5267762</td><td>41427</td><td>30</td><td>30.14286</td><td>36366</td><td>1688607</td><td>1652241</td></tr>\n",
              "\t<tr><td>2021-07-02</td><td>01</td><td>北海道</td><td>北海道</td><td>北海道・東北</td><td>5267762</td><td>41397</td><td>26</td><td>32.57143</td><td>33505</td><td>1652241</td><td>1618736</td></tr>\n",
              "</tbody>\n",
              "</table>\n"
            ]
          },
          "metadata": {
            "tags": []
          }
        },
        {
          "output_type": "display_data",
          "data": {
            "text/plain": [
              "  date       code      prefecture prefecture_short block population\n",
              "1 2020-04-26 TOTAL/AVE 全国       全国             全国  127138033 \n",
              "2 2020-04-25 TOTAL/AVE 全国       全国             全国  127138033 \n",
              "3 2020-04-24 TOTAL/AVE 全国       全国             全国  127138033 \n",
              "4 2020-04-23 TOTAL/AVE 全国       全国             全国  127138033 \n",
              "5 2020-04-22 TOTAL/AVE 全国       全国             全国  127138033 \n",
              "6 2020-04-21 TOTAL/AVE 全国       全国             全国  127138033 \n",
              "  sum_patients new_patients patients_ma7 n_vaccinations total_vaccinations\n",
              "1 13232        199          NA           NA             NA                \n",
              "2 13031        346          NA           NA             NA                \n",
              "3 12681        423          NA           NA             NA                \n",
              "4 12240        434          NA           NA             NA                \n",
              "5 11772        420          NA           NA             NA                \n",
              "6 11350        370          NA           NA             NA                \n",
              "  cum_vaccinations\n",
              "1 NA              \n",
              "2 NA              \n",
              "3 NA              \n",
              "4 NA              \n",
              "5 NA              \n",
              "6 NA              "
            ],
            "text/latex": "A tibble: 6 × 12\n\\begin{tabular}{llllllllllll}\n date & code & prefecture & prefecture\\_short & block & population & sum\\_patients & new\\_patients & patients\\_ma7 & n\\_vaccinations & total\\_vaccinations & cum\\_vaccinations\\\\\n <date> & <fct> & <fct> & <fct> & <fct> & <int> & <int> & <int> & <dbl> & <dbl> & <dbl> & <dbl>\\\\\n\\hline\n\t 2020-04-26 & TOTAL/AVE & 全国 & 全国 & 全国 & 127138033 & 13232 & 199 & NA & NA & NA & NA\\\\\n\t 2020-04-25 & TOTAL/AVE & 全国 & 全国 & 全国 & 127138033 & 13031 & 346 & NA & NA & NA & NA\\\\\n\t 2020-04-24 & TOTAL/AVE & 全国 & 全国 & 全国 & 127138033 & 12681 & 423 & NA & NA & NA & NA\\\\\n\t 2020-04-23 & TOTAL/AVE & 全国 & 全国 & 全国 & 127138033 & 12240 & 434 & NA & NA & NA & NA\\\\\n\t 2020-04-22 & TOTAL/AVE & 全国 & 全国 & 全国 & 127138033 & 11772 & 420 & NA & NA & NA & NA\\\\\n\t 2020-04-21 & TOTAL/AVE & 全国 & 全国 & 全国 & 127138033 & 11350 & 370 & NA & NA & NA & NA\\\\\n\\end{tabular}\n",
            "text/markdown": "\nA tibble: 6 × 12\n\n| date &lt;date&gt; | code &lt;fct&gt; | prefecture &lt;fct&gt; | prefecture_short &lt;fct&gt; | block &lt;fct&gt; | population &lt;int&gt; | sum_patients &lt;int&gt; | new_patients &lt;int&gt; | patients_ma7 &lt;dbl&gt; | n_vaccinations &lt;dbl&gt; | total_vaccinations &lt;dbl&gt; | cum_vaccinations &lt;dbl&gt; |\n|---|---|---|---|---|---|---|---|---|---|---|---|\n| 2020-04-26 | TOTAL/AVE | 全国 | 全国 | 全国 | 127138033 | 13232 | 199 | NA | NA | NA | NA |\n| 2020-04-25 | TOTAL/AVE | 全国 | 全国 | 全国 | 127138033 | 13031 | 346 | NA | NA | NA | NA |\n| 2020-04-24 | TOTAL/AVE | 全国 | 全国 | 全国 | 127138033 | 12681 | 423 | NA | NA | NA | NA |\n| 2020-04-23 | TOTAL/AVE | 全国 | 全国 | 全国 | 127138033 | 12240 | 434 | NA | NA | NA | NA |\n| 2020-04-22 | TOTAL/AVE | 全国 | 全国 | 全国 | 127138033 | 11772 | 420 | NA | NA | NA | NA |\n| 2020-04-21 | TOTAL/AVE | 全国 | 全国 | 全国 | 127138033 | 11350 | 370 | NA | NA | NA | NA |\n\n",
            "text/html": [
              "<table class=\"dataframe\">\n",
              "<caption>A tibble: 6 × 12</caption>\n",
              "<thead>\n",
              "\t<tr><th scope=col>date</th><th scope=col>code</th><th scope=col>prefecture</th><th scope=col>prefecture_short</th><th scope=col>block</th><th scope=col>population</th><th scope=col>sum_patients</th><th scope=col>new_patients</th><th scope=col>patients_ma7</th><th scope=col>n_vaccinations</th><th scope=col>total_vaccinations</th><th scope=col>cum_vaccinations</th></tr>\n",
              "\t<tr><th scope=col>&lt;date&gt;</th><th scope=col>&lt;fct&gt;</th><th scope=col>&lt;fct&gt;</th><th scope=col>&lt;fct&gt;</th><th scope=col>&lt;fct&gt;</th><th scope=col>&lt;int&gt;</th><th scope=col>&lt;int&gt;</th><th scope=col>&lt;int&gt;</th><th scope=col>&lt;dbl&gt;</th><th scope=col>&lt;dbl&gt;</th><th scope=col>&lt;dbl&gt;</th><th scope=col>&lt;dbl&gt;</th></tr>\n",
              "</thead>\n",
              "<tbody>\n",
              "\t<tr><td>2020-04-26</td><td>TOTAL/AVE</td><td>全国</td><td>全国</td><td>全国</td><td>127138033</td><td>13232</td><td>199</td><td>NA</td><td>NA</td><td>NA</td><td>NA</td></tr>\n",
              "\t<tr><td>2020-04-25</td><td>TOTAL/AVE</td><td>全国</td><td>全国</td><td>全国</td><td>127138033</td><td>13031</td><td>346</td><td>NA</td><td>NA</td><td>NA</td><td>NA</td></tr>\n",
              "\t<tr><td>2020-04-24</td><td>TOTAL/AVE</td><td>全国</td><td>全国</td><td>全国</td><td>127138033</td><td>12681</td><td>423</td><td>NA</td><td>NA</td><td>NA</td><td>NA</td></tr>\n",
              "\t<tr><td>2020-04-23</td><td>TOTAL/AVE</td><td>全国</td><td>全国</td><td>全国</td><td>127138033</td><td>12240</td><td>434</td><td>NA</td><td>NA</td><td>NA</td><td>NA</td></tr>\n",
              "\t<tr><td>2020-04-22</td><td>TOTAL/AVE</td><td>全国</td><td>全国</td><td>全国</td><td>127138033</td><td>11772</td><td>420</td><td>NA</td><td>NA</td><td>NA</td><td>NA</td></tr>\n",
              "\t<tr><td>2020-04-21</td><td>TOTAL/AVE</td><td>全国</td><td>全国</td><td>全国</td><td>127138033</td><td>11350</td><td>370</td><td>NA</td><td>NA</td><td>NA</td><td>NA</td></tr>\n",
              "</tbody>\n",
              "</table>\n"
            ]
          },
          "metadata": {
            "tags": []
          }
        },
        {
          "output_type": "display_data",
          "data": {
            "text/plain": [
              "      date                   code         prefecture    prefecture_short\n",
              " Min.   :2020-04-21   TOTAL/AVE:  444   全国   :  444   全国   :  444   \n",
              " 1st Qu.:2020-08-10   01       :  442   北海道 :  442   北海道 :  442   \n",
              " Median :2020-11-28   02       :  442   青森県 :  442   青森   :  442   \n",
              " Mean   :2020-11-28   03       :  442   岩手県 :  442   岩手   :  442   \n",
              " 3rd Qu.:2021-03-19   04       :  442   宮城県 :  442   宮城   :  442   \n",
              " Max.   :2021-07-08   05       :  442   秋田県 :  442   秋田   :  442   \n",
              "                      (Other)  :18564   (Other):18564   (Other):18564   \n",
              "          block        population         sum_patients     new_patients    \n",
              " 九州・沖縄  :3536   Min.   :   561175   Min.   :     0   Min.   :-989.00  \n",
              " 北海道・東北:3094   1st Qu.:  1095903   1st Qu.:   184   1st Qu.:   0.00  \n",
              " 関東        :3094   Median :  1769880   Median :   893   Median :   5.00  \n",
              " 甲信越      :2652   Mean   :  5308903   Mean   : 11240   Mean   :  75.17  \n",
              " 近畿        :2652   3rd Qu.:  2921436   3rd Qu.:  3905   3rd Qu.:  28.00  \n",
              " 中国        :2210   Max.   :127138033   Max.   :810756   Max.   :7844.00  \n",
              " (Other)     :3980                                        NA's   :47       \n",
              "  patients_ma7      n_vaccinations    total_vaccinations cum_vaccinations  \n",
              " Min.   : -94.286   Min.   :      1   Min.   :       1   Min.   :       0  \n",
              " 1st Qu.:   0.714   1st Qu.:   1097   1st Qu.:   12968   1st Qu.:   12156  \n",
              " Median :   6.143   Median :   6130   Median :   93190   Median :   85422  \n",
              " Mean   :  75.592   Mean   :  22211   Mean   :  525903   Mean   :  503692  \n",
              " 3rd Qu.:  29.429   3rd Qu.:  14278   3rd Qu.:  340487   3rd Qu.:  325924  \n",
              " Max.   :6369.143   Max.   :1214755   Max.   :46473773   Max.   :45523818  \n",
              " NA's   :335        NA's   :17076     NA's   :17076      NA's   :17076     "
            ]
          },
          "metadata": {
            "tags": []
          }
        },
        {
          "output_type": "stream",
          "text": [
            "tibble [21,218 × 12] (S3: tbl_df/tbl/data.frame)\n",
            " $ date              : Date[1:21218], format: \"2021-07-07\" \"2021-07-06\" ...\n",
            " $ code              : Factor w/ 48 levels \"01\",\"02\",\"03\",..: 1 1 1 1 1 1 1 1 1 1 ...\n",
            " $ prefecture        : Factor w/ 48 levels \"北海道\",\"青森県\",..: 1 1 1 1 1 1 1 1 1 1 ...\n",
            " $ prefecture_short  : Factor w/ 48 levels \"北海道\",\"青森\",..: 1 1 1 1 1 1 1 1 1 1 ...\n",
            " $ block             : Factor w/ 9 levels \"北海道・東北\",..: 1 1 1 1 1 1 1 1 1 1 ...\n",
            " $ population        : int [1:21218] 5267762 5267762 5267762 5267762 5267762 5267762 5267762 5267762 5267762 5267762 ...\n",
            " $ sum_patients      : int [1:21218] 41596 41529 41495 41466 41427 41397 41371 41332 41294 41271 ...\n",
            " $ new_patients      : int [1:21218] 67 34 29 39 30 26 39 38 23 27 ...\n",
            " $ patients_ma7      : num [1:21218] 37.7 33.6 32 31.7 30.1 ...\n",
            " $ n_vaccinations    : num [1:21218] 36208 40353 44455 37891 36366 ...\n",
            " $ total_vaccinations: num [1:21218] 1847514 1811306 1770953 1726498 1688607 ...\n",
            " $ cum_vaccinations  : num [1:21218] 1811306 1770953 1726498 1688607 1652241 ...\n"
          ],
          "name": "stdout"
        }
      ]
    },
    {
      "cell_type": "markdown",
      "metadata": {
        "id": "VnJvCZ1LE0qw"
      },
      "source": [
        "\n",
        "感染者数のデータは2020年からありますが、ワクチン接種のほうは2021年4月12日以降の分しかありません（県によっては、さらに欠けています）。なので、両方が揃っている期間だけに絞りましょう。"
      ]
    },
    {
      "cell_type": "code",
      "metadata": {
        "colab": {
          "base_uri": "https://localhost:8080/",
          "height": 825
        },
        "id": "Y9UAB4_PE6_X",
        "outputId": "cb7fbae9-341b-495f-a67f-776df1d939e0"
      },
      "source": [
        "joined_data <- joined_data %>%\n",
        "    filter(date >= ymd(\"2021-4-12\"))\n",
        "tail(joined_data)\n",
        "summary(joined_data)"
      ],
      "execution_count": 26,
      "outputs": [
        {
          "output_type": "display_data",
          "data": {
            "text/plain": [
              "  date       code      prefecture prefecture_short block population\n",
              "1 2021-04-17 TOTAL/AVE 全国       全国             全国  127138033 \n",
              "2 2021-04-16 TOTAL/AVE 全国       全国             全国  127138033 \n",
              "3 2021-04-15 TOTAL/AVE 全国       全国             全国  127138033 \n",
              "4 2021-04-14 TOTAL/AVE 全国       全国             全国  127138033 \n",
              "5 2021-04-13 TOTAL/AVE 全国       全国             全国  127138033 \n",
              "6 2021-04-12 TOTAL/AVE 全国       全国             全国  127138033 \n",
              "  sum_patients new_patients patients_ma7 n_vaccinations total_vaccinations\n",
              "1 527247       4722         3772.714     7652           39583             \n",
              "2 522647       4519         3616.714     9796           31931             \n",
              "3 518187       4570         3466.429     8492           22135             \n",
              "4 513569       4302         3300.000     4794           13643             \n",
              "5 509627       3444         3179.143     4112            8849             \n",
              "6 506272       2094         3063.571     4737            4737             \n",
              "  cum_vaccinations\n",
              "1 31931           \n",
              "2 22135           \n",
              "3 13643           \n",
              "4  8849           \n",
              "5  4737           \n",
              "6     0           "
            ],
            "text/latex": "A tibble: 6 × 12\n\\begin{tabular}{llllllllllll}\n date & code & prefecture & prefecture\\_short & block & population & sum\\_patients & new\\_patients & patients\\_ma7 & n\\_vaccinations & total\\_vaccinations & cum\\_vaccinations\\\\\n <date> & <fct> & <fct> & <fct> & <fct> & <int> & <int> & <int> & <dbl> & <dbl> & <dbl> & <dbl>\\\\\n\\hline\n\t 2021-04-17 & TOTAL/AVE & 全国 & 全国 & 全国 & 127138033 & 527247 & 4722 & 3772.714 & 7652 & 39583 & 31931\\\\\n\t 2021-04-16 & TOTAL/AVE & 全国 & 全国 & 全国 & 127138033 & 522647 & 4519 & 3616.714 & 9796 & 31931 & 22135\\\\\n\t 2021-04-15 & TOTAL/AVE & 全国 & 全国 & 全国 & 127138033 & 518187 & 4570 & 3466.429 & 8492 & 22135 & 13643\\\\\n\t 2021-04-14 & TOTAL/AVE & 全国 & 全国 & 全国 & 127138033 & 513569 & 4302 & 3300.000 & 4794 & 13643 &  8849\\\\\n\t 2021-04-13 & TOTAL/AVE & 全国 & 全国 & 全国 & 127138033 & 509627 & 3444 & 3179.143 & 4112 &  8849 &  4737\\\\\n\t 2021-04-12 & TOTAL/AVE & 全国 & 全国 & 全国 & 127138033 & 506272 & 2094 & 3063.571 & 4737 &  4737 &     0\\\\\n\\end{tabular}\n",
            "text/markdown": "\nA tibble: 6 × 12\n\n| date &lt;date&gt; | code &lt;fct&gt; | prefecture &lt;fct&gt; | prefecture_short &lt;fct&gt; | block &lt;fct&gt; | population &lt;int&gt; | sum_patients &lt;int&gt; | new_patients &lt;int&gt; | patients_ma7 &lt;dbl&gt; | n_vaccinations &lt;dbl&gt; | total_vaccinations &lt;dbl&gt; | cum_vaccinations &lt;dbl&gt; |\n|---|---|---|---|---|---|---|---|---|---|---|---|\n| 2021-04-17 | TOTAL/AVE | 全国 | 全国 | 全国 | 127138033 | 527247 | 4722 | 3772.714 | 7652 | 39583 | 31931 |\n| 2021-04-16 | TOTAL/AVE | 全国 | 全国 | 全国 | 127138033 | 522647 | 4519 | 3616.714 | 9796 | 31931 | 22135 |\n| 2021-04-15 | TOTAL/AVE | 全国 | 全国 | 全国 | 127138033 | 518187 | 4570 | 3466.429 | 8492 | 22135 | 13643 |\n| 2021-04-14 | TOTAL/AVE | 全国 | 全国 | 全国 | 127138033 | 513569 | 4302 | 3300.000 | 4794 | 13643 |  8849 |\n| 2021-04-13 | TOTAL/AVE | 全国 | 全国 | 全国 | 127138033 | 509627 | 3444 | 3179.143 | 4112 |  8849 |  4737 |\n| 2021-04-12 | TOTAL/AVE | 全国 | 全国 | 全国 | 127138033 | 506272 | 2094 | 3063.571 | 4737 |  4737 |     0 |\n\n",
            "text/html": [
              "<table class=\"dataframe\">\n",
              "<caption>A tibble: 6 × 12</caption>\n",
              "<thead>\n",
              "\t<tr><th scope=col>date</th><th scope=col>code</th><th scope=col>prefecture</th><th scope=col>prefecture_short</th><th scope=col>block</th><th scope=col>population</th><th scope=col>sum_patients</th><th scope=col>new_patients</th><th scope=col>patients_ma7</th><th scope=col>n_vaccinations</th><th scope=col>total_vaccinations</th><th scope=col>cum_vaccinations</th></tr>\n",
              "\t<tr><th scope=col>&lt;date&gt;</th><th scope=col>&lt;fct&gt;</th><th scope=col>&lt;fct&gt;</th><th scope=col>&lt;fct&gt;</th><th scope=col>&lt;fct&gt;</th><th scope=col>&lt;int&gt;</th><th scope=col>&lt;int&gt;</th><th scope=col>&lt;int&gt;</th><th scope=col>&lt;dbl&gt;</th><th scope=col>&lt;dbl&gt;</th><th scope=col>&lt;dbl&gt;</th><th scope=col>&lt;dbl&gt;</th></tr>\n",
              "</thead>\n",
              "<tbody>\n",
              "\t<tr><td>2021-04-17</td><td>TOTAL/AVE</td><td>全国</td><td>全国</td><td>全国</td><td>127138033</td><td>527247</td><td>4722</td><td>3772.714</td><td>7652</td><td>39583</td><td>31931</td></tr>\n",
              "\t<tr><td>2021-04-16</td><td>TOTAL/AVE</td><td>全国</td><td>全国</td><td>全国</td><td>127138033</td><td>522647</td><td>4519</td><td>3616.714</td><td>9796</td><td>31931</td><td>22135</td></tr>\n",
              "\t<tr><td>2021-04-15</td><td>TOTAL/AVE</td><td>全国</td><td>全国</td><td>全国</td><td>127138033</td><td>518187</td><td>4570</td><td>3466.429</td><td>8492</td><td>22135</td><td>13643</td></tr>\n",
              "\t<tr><td>2021-04-14</td><td>TOTAL/AVE</td><td>全国</td><td>全国</td><td>全国</td><td>127138033</td><td>513569</td><td>4302</td><td>3300.000</td><td>4794</td><td>13643</td><td> 8849</td></tr>\n",
              "\t<tr><td>2021-04-13</td><td>TOTAL/AVE</td><td>全国</td><td>全国</td><td>全国</td><td>127138033</td><td>509627</td><td>3444</td><td>3179.143</td><td>4112</td><td> 8849</td><td> 4737</td></tr>\n",
              "\t<tr><td>2021-04-12</td><td>TOTAL/AVE</td><td>全国</td><td>全国</td><td>全国</td><td>127138033</td><td>506272</td><td>2094</td><td>3063.571</td><td>4737</td><td> 4737</td><td>    0</td></tr>\n",
              "</tbody>\n",
              "</table>\n"
            ]
          },
          "metadata": {
            "tags": []
          }
        },
        {
          "output_type": "display_data",
          "data": {
            "text/plain": [
              "      date                   code        prefecture   prefecture_short\n",
              " Min.   :2021-04-12   TOTAL/AVE:  88   全国   :  88   全国   :  88    \n",
              " 1st Qu.:2021-05-03   01       :  87   北海道 :  87   北海道 :  87    \n",
              " Median :2021-05-25   02       :  87   青森県 :  87   青森   :  87    \n",
              " Mean   :2021-05-25   03       :  87   岩手県 :  87   岩手   :  87    \n",
              " 3rd Qu.:2021-06-16   04       :  87   宮城県 :  87   宮城   :  87    \n",
              " Max.   :2021-07-08   05       :  87   秋田県 :  87   秋田   :  87    \n",
              "                      (Other)  :3654   (Other):3654   (Other):3654    \n",
              "          block       population         sum_patients     new_patients   \n",
              " 九州・沖縄  :696   Min.   :   561175   Min.   :   292   Min.   :   0.0  \n",
              " 北海道・東北:609   1st Qu.:  1095903   1st Qu.:  2017   1st Qu.:   6.0  \n",
              " 関東        :609   Median :  1769880   Median :  4288   Median :  22.0  \n",
              " 甲信越      :522   Mean   :  5326587   Mean   : 28993   Mean   : 145.8  \n",
              " 近畿        :522   3rd Qu.:  2921436   3rd Qu.: 11397   3rd Qu.:  67.0  \n",
              " 中国        :435   Max.   :127138033   Max.   :810756   Max.   :7057.0  \n",
              " (Other)     :784                                                        \n",
              "  patients_ma7      n_vaccinations    total_vaccinations cum_vaccinations  \n",
              " Min.   : -13.571   Min.   :      1   Min.   :       1   Min.   :       0  \n",
              " 1st Qu.:   8.286   1st Qu.:   1097   1st Qu.:   12968   1st Qu.:   12156  \n",
              " Median :  25.000   Median :   6130   Median :   93190   Median :   85422  \n",
              " Mean   : 147.953   Mean   :  22211   Mean   :  525903   Mean   :  503692  \n",
              " 3rd Qu.:  71.429   3rd Qu.:  14278   3rd Qu.:  340487   3rd Qu.:  325924  \n",
              " Max.   :6369.143   Max.   :1214755   Max.   :46473773   Max.   :45523818  \n",
              "                    NA's   :35        NA's   :35         NA's   :35        "
            ]
          },
          "metadata": {
            "tags": []
          }
        }
      ]
    },
    {
      "cell_type": "markdown",
      "metadata": {
        "id": "C_KKK5h0KLmk"
      },
      "source": [
        "### 7.4. このNA値は何か"
      ]
    },
    {
      "cell_type": "markdown",
      "metadata": {
        "id": "ijoxKW66F1sC"
      },
      "source": [
        "この期間に絞っても、NA（Not Available）値がまだ残っています。これは、データが欠けていた部分です。\n",
        "もともとがJSON、取り込んだ後も縦持ち形式だったので、気づきにくいですよね。でも、横持ちに変換したときに、気になった方もいたはずです。\n",
        "\n",
        "これが、当該の県ではその日に接種がなかった、ということを意味するのであれば（要確認）、0に置き換えてよいわけです。"
      ]
    },
    {
      "cell_type": "code",
      "metadata": {
        "colab": {
          "base_uri": "https://localhost:8080/",
          "height": 1000
        },
        "id": "8gS1NIcEFUbw",
        "outputId": "24dc20b6-5e70-4a51-a9b1-2905d289b6a2"
      },
      "source": [
        "# 全カラムのデータが揃っていない行だけを抽出する。\n",
        "rows_w_na <- !complete.cases(joined_data)\n",
        "joined_data[rows_w_na, ]"
      ],
      "execution_count": 27,
      "outputs": [
        {
          "output_type": "display_data",
          "data": {
            "text/plain": [
              "   date       code prefecture prefecture_short block        population\n",
              "1  2021-04-18 02   青森県     青森             北海道・東北 1275783   \n",
              "2  2021-04-18 03   岩手県     岩手             北海道・東北 1235517   \n",
              "3  2021-04-18 04   宮城県     宮城             北海道・東北 2292385   \n",
              "4  2021-05-05 05   秋田県     秋田             北海道・東北  985416   \n",
              "5  2021-05-04 05   秋田県     秋田             北海道・東北  985416   \n",
              "6  2021-05-03 05   秋田県     秋田             北海道・東北  985416   \n",
              "7  2021-04-18 07   福島県     福島             北海道・東北 1881981   \n",
              "8  2021-04-17 07   福島県     福島             北海道・東北 1881981   \n",
              "9  2021-04-18 09   栃木県     栃木             関東         1965516   \n",
              "10 2021-05-05 17   石川県     石川             甲信越       1139612   \n",
              "11 2021-04-14 17   石川県     石川             甲信越       1139612   \n",
              "12 2021-04-12 17   石川県     石川             甲信越       1139612   \n",
              "13 2021-05-05 18   福井県     福井             甲信越        780053   \n",
              "14 2021-04-13 19   山梨県     山梨             甲信越        826579   \n",
              "15 2021-04-12 19   山梨県     山梨             甲信越        826579   \n",
              "16 2021-05-05 31   鳥取県     鳥取             中国          561175   \n",
              "17 2021-05-04 31   鳥取県     鳥取             中国          561175   \n",
              "18 2021-05-03 31   鳥取県     鳥取             中国          561175   \n",
              "19 2021-04-13 31   鳥取県     鳥取             中国          561175   \n",
              "20 2021-04-12 31   鳥取県     鳥取             中国          561175   \n",
              "21 2021-05-09 32   島根県     島根             中国          679324   \n",
              "22 2021-05-04 32   島根県     島根             中国          679324   \n",
              "23 2021-04-17 32   島根県     島根             中国          679324   \n",
              "24 2021-05-05 34   広島県     広島             中国         2826858   \n",
              "25 2021-04-12 34   広島県     広島             中国         2826858   \n",
              "26 2021-05-05 35   山口県     山口             中国         1369882   \n",
              "27 2021-05-04 35   山口県     山口             中国         1369882   \n",
              "28 2021-04-18 35   山口県     山口             中国         1369882   \n",
              "29 2021-04-18 36   徳島県     徳島             四国          742505   \n",
              "30 2021-05-03 39   高知県     高知             四国          709230   \n",
              "31 2021-04-13 39   高知県     高知             四国          709230   \n",
              "32 2021-05-03 42   長崎県     長崎             九州・沖縄   1350769   \n",
              "33 2021-04-25 44   大分県     大分             九州・沖縄   1151229   \n",
              "34 2021-04-18 44   大分県     大分             九州・沖縄   1151229   \n",
              "35 2021-05-04 45   宮崎県     宮崎             九州・沖縄   1095903   \n",
              "   sum_patients new_patients patients_ma7 n_vaccinations total_vaccinations\n",
              "1  1305          6           20.2857143   NA             NA                \n",
              "2   779          3            3.8571429   NA             NA                \n",
              "3  7580         28           59.4285714   NA             NA                \n",
              "4   536         19           15.1428571   NA             NA                \n",
              "5   517         11           13.1428571   NA             NA                \n",
              "6   506         14           12.7142857   NA             NA                \n",
              "7  2985         37           25.5714286   NA             NA                \n",
              "8  2948         21           22.4285714   NA             NA                \n",
              "9  5068         11           20.1428571   NA             NA                \n",
              "10 2639         21           30.1428571   NA             NA                \n",
              "11 2094         21           15.2857143   NA             NA                \n",
              "12 2060         12           14.7142857   NA             NA                \n",
              "13  915          5            9.4285714   NA             NA                \n",
              "14 1029          1            5.2857143   NA             NA                \n",
              "15 1028         16            5.5714286   NA             NA                \n",
              "16  377          0            1.7142857   NA             NA                \n",
              "17  377          3            1.8571429   NA             NA                \n",
              "18  374          0            1.7142857   NA             NA                \n",
              "19  308          6            4.1428571   NA             NA                \n",
              "20  302         11            3.5714286   NA             NA                \n",
              "21  375          2            2.7142857   NA             NA                \n",
              "22  362          5            3.4285714   NA             NA                \n",
              "23  297          1            0.8571429   NA             NA                \n",
              "24 6297         75           74.1428571   NA             NA                \n",
              "25 5285         11           10.8571429   NA             NA                \n",
              "26 1925         12           19.2857143   NA             NA                \n",
              "27 1913         12           21.2857143   NA             NA                \n",
              "28 1553         13           13.1428571   NA             NA                \n",
              "29  903         38           30.0000000   NA             NA                \n",
              "30 1077         10           11.5714286   NA             NA                \n",
              "31  946          0            1.2857143   NA             NA                \n",
              "32 2165         24           28.2857143   NA             NA                \n",
              "33 1641         63           37.5714286   NA             NA                \n",
              "34 1378          5            4.8571429   NA             NA                \n",
              "35 2246          0           13.0000000   NA             NA                \n",
              "   cum_vaccinations\n",
              "1  NA              \n",
              "2  NA              \n",
              "3  NA              \n",
              "4  NA              \n",
              "5  NA              \n",
              "6  NA              \n",
              "7  NA              \n",
              "8  NA              \n",
              "9  NA              \n",
              "10 NA              \n",
              "11 NA              \n",
              "12 NA              \n",
              "13 NA              \n",
              "14 NA              \n",
              "15 NA              \n",
              "16 NA              \n",
              "17 NA              \n",
              "18 NA              \n",
              "19 NA              \n",
              "20 NA              \n",
              "21 NA              \n",
              "22 NA              \n",
              "23 NA              \n",
              "24 NA              \n",
              "25 NA              \n",
              "26 NA              \n",
              "27 NA              \n",
              "28 NA              \n",
              "29 NA              \n",
              "30 NA              \n",
              "31 NA              \n",
              "32 NA              \n",
              "33 NA              \n",
              "34 NA              \n",
              "35 NA              "
            ],
            "text/latex": "A tibble: 35 × 12\n\\begin{tabular}{llllllllllll}\n date & code & prefecture & prefecture\\_short & block & population & sum\\_patients & new\\_patients & patients\\_ma7 & n\\_vaccinations & total\\_vaccinations & cum\\_vaccinations\\\\\n <date> & <fct> & <fct> & <fct> & <fct> & <int> & <int> & <int> & <dbl> & <dbl> & <dbl> & <dbl>\\\\\n\\hline\n\t 2021-04-18 & 02 & 青森県 & 青森 & 北海道・東北 & 1275783 & 1305 &  6 & 20.2857143 & NA & NA & NA\\\\\n\t 2021-04-18 & 03 & 岩手県 & 岩手 & 北海道・東北 & 1235517 &  779 &  3 &  3.8571429 & NA & NA & NA\\\\\n\t 2021-04-18 & 04 & 宮城県 & 宮城 & 北海道・東北 & 2292385 & 7580 & 28 & 59.4285714 & NA & NA & NA\\\\\n\t 2021-05-05 & 05 & 秋田県 & 秋田 & 北海道・東北 &  985416 &  536 & 19 & 15.1428571 & NA & NA & NA\\\\\n\t 2021-05-04 & 05 & 秋田県 & 秋田 & 北海道・東北 &  985416 &  517 & 11 & 13.1428571 & NA & NA & NA\\\\\n\t 2021-05-03 & 05 & 秋田県 & 秋田 & 北海道・東北 &  985416 &  506 & 14 & 12.7142857 & NA & NA & NA\\\\\n\t 2021-04-18 & 07 & 福島県 & 福島 & 北海道・東北 & 1881981 & 2985 & 37 & 25.5714286 & NA & NA & NA\\\\\n\t 2021-04-17 & 07 & 福島県 & 福島 & 北海道・東北 & 1881981 & 2948 & 21 & 22.4285714 & NA & NA & NA\\\\\n\t 2021-04-18 & 09 & 栃木県 & 栃木 & 関東         & 1965516 & 5068 & 11 & 20.1428571 & NA & NA & NA\\\\\n\t 2021-05-05 & 17 & 石川県 & 石川 & 甲信越       & 1139612 & 2639 & 21 & 30.1428571 & NA & NA & NA\\\\\n\t 2021-04-14 & 17 & 石川県 & 石川 & 甲信越       & 1139612 & 2094 & 21 & 15.2857143 & NA & NA & NA\\\\\n\t 2021-04-12 & 17 & 石川県 & 石川 & 甲信越       & 1139612 & 2060 & 12 & 14.7142857 & NA & NA & NA\\\\\n\t 2021-05-05 & 18 & 福井県 & 福井 & 甲信越       &  780053 &  915 &  5 &  9.4285714 & NA & NA & NA\\\\\n\t 2021-04-13 & 19 & 山梨県 & 山梨 & 甲信越       &  826579 & 1029 &  1 &  5.2857143 & NA & NA & NA\\\\\n\t 2021-04-12 & 19 & 山梨県 & 山梨 & 甲信越       &  826579 & 1028 & 16 &  5.5714286 & NA & NA & NA\\\\\n\t 2021-05-05 & 31 & 鳥取県 & 鳥取 & 中国         &  561175 &  377 &  0 &  1.7142857 & NA & NA & NA\\\\\n\t 2021-05-04 & 31 & 鳥取県 & 鳥取 & 中国         &  561175 &  377 &  3 &  1.8571429 & NA & NA & NA\\\\\n\t 2021-05-03 & 31 & 鳥取県 & 鳥取 & 中国         &  561175 &  374 &  0 &  1.7142857 & NA & NA & NA\\\\\n\t 2021-04-13 & 31 & 鳥取県 & 鳥取 & 中国         &  561175 &  308 &  6 &  4.1428571 & NA & NA & NA\\\\\n\t 2021-04-12 & 31 & 鳥取県 & 鳥取 & 中国         &  561175 &  302 & 11 &  3.5714286 & NA & NA & NA\\\\\n\t 2021-05-09 & 32 & 島根県 & 島根 & 中国         &  679324 &  375 &  2 &  2.7142857 & NA & NA & NA\\\\\n\t 2021-05-04 & 32 & 島根県 & 島根 & 中国         &  679324 &  362 &  5 &  3.4285714 & NA & NA & NA\\\\\n\t 2021-04-17 & 32 & 島根県 & 島根 & 中国         &  679324 &  297 &  1 &  0.8571429 & NA & NA & NA\\\\\n\t 2021-05-05 & 34 & 広島県 & 広島 & 中国         & 2826858 & 6297 & 75 & 74.1428571 & NA & NA & NA\\\\\n\t 2021-04-12 & 34 & 広島県 & 広島 & 中国         & 2826858 & 5285 & 11 & 10.8571429 & NA & NA & NA\\\\\n\t 2021-05-05 & 35 & 山口県 & 山口 & 中国         & 1369882 & 1925 & 12 & 19.2857143 & NA & NA & NA\\\\\n\t 2021-05-04 & 35 & 山口県 & 山口 & 中国         & 1369882 & 1913 & 12 & 21.2857143 & NA & NA & NA\\\\\n\t 2021-04-18 & 35 & 山口県 & 山口 & 中国         & 1369882 & 1553 & 13 & 13.1428571 & NA & NA & NA\\\\\n\t 2021-04-18 & 36 & 徳島県 & 徳島 & 四国         &  742505 &  903 & 38 & 30.0000000 & NA & NA & NA\\\\\n\t 2021-05-03 & 39 & 高知県 & 高知 & 四国         &  709230 & 1077 & 10 & 11.5714286 & NA & NA & NA\\\\\n\t 2021-04-13 & 39 & 高知県 & 高知 & 四国         &  709230 &  946 &  0 &  1.2857143 & NA & NA & NA\\\\\n\t 2021-05-03 & 42 & 長崎県 & 長崎 & 九州・沖縄   & 1350769 & 2165 & 24 & 28.2857143 & NA & NA & NA\\\\\n\t 2021-04-25 & 44 & 大分県 & 大分 & 九州・沖縄   & 1151229 & 1641 & 63 & 37.5714286 & NA & NA & NA\\\\\n\t 2021-04-18 & 44 & 大分県 & 大分 & 九州・沖縄   & 1151229 & 1378 &  5 &  4.8571429 & NA & NA & NA\\\\\n\t 2021-05-04 & 45 & 宮崎県 & 宮崎 & 九州・沖縄   & 1095903 & 2246 &  0 & 13.0000000 & NA & NA & NA\\\\\n\\end{tabular}\n",
            "text/markdown": "\nA tibble: 35 × 12\n\n| date &lt;date&gt; | code &lt;fct&gt; | prefecture &lt;fct&gt; | prefecture_short &lt;fct&gt; | block &lt;fct&gt; | population &lt;int&gt; | sum_patients &lt;int&gt; | new_patients &lt;int&gt; | patients_ma7 &lt;dbl&gt; | n_vaccinations &lt;dbl&gt; | total_vaccinations &lt;dbl&gt; | cum_vaccinations &lt;dbl&gt; |\n|---|---|---|---|---|---|---|---|---|---|---|---|\n| 2021-04-18 | 02 | 青森県 | 青森 | 北海道・東北 | 1275783 | 1305 |  6 | 20.2857143 | NA | NA | NA |\n| 2021-04-18 | 03 | 岩手県 | 岩手 | 北海道・東北 | 1235517 |  779 |  3 |  3.8571429 | NA | NA | NA |\n| 2021-04-18 | 04 | 宮城県 | 宮城 | 北海道・東北 | 2292385 | 7580 | 28 | 59.4285714 | NA | NA | NA |\n| 2021-05-05 | 05 | 秋田県 | 秋田 | 北海道・東北 |  985416 |  536 | 19 | 15.1428571 | NA | NA | NA |\n| 2021-05-04 | 05 | 秋田県 | 秋田 | 北海道・東北 |  985416 |  517 | 11 | 13.1428571 | NA | NA | NA |\n| 2021-05-03 | 05 | 秋田県 | 秋田 | 北海道・東北 |  985416 |  506 | 14 | 12.7142857 | NA | NA | NA |\n| 2021-04-18 | 07 | 福島県 | 福島 | 北海道・東北 | 1881981 | 2985 | 37 | 25.5714286 | NA | NA | NA |\n| 2021-04-17 | 07 | 福島県 | 福島 | 北海道・東北 | 1881981 | 2948 | 21 | 22.4285714 | NA | NA | NA |\n| 2021-04-18 | 09 | 栃木県 | 栃木 | 関東         | 1965516 | 5068 | 11 | 20.1428571 | NA | NA | NA |\n| 2021-05-05 | 17 | 石川県 | 石川 | 甲信越       | 1139612 | 2639 | 21 | 30.1428571 | NA | NA | NA |\n| 2021-04-14 | 17 | 石川県 | 石川 | 甲信越       | 1139612 | 2094 | 21 | 15.2857143 | NA | NA | NA |\n| 2021-04-12 | 17 | 石川県 | 石川 | 甲信越       | 1139612 | 2060 | 12 | 14.7142857 | NA | NA | NA |\n| 2021-05-05 | 18 | 福井県 | 福井 | 甲信越       |  780053 |  915 |  5 |  9.4285714 | NA | NA | NA |\n| 2021-04-13 | 19 | 山梨県 | 山梨 | 甲信越       |  826579 | 1029 |  1 |  5.2857143 | NA | NA | NA |\n| 2021-04-12 | 19 | 山梨県 | 山梨 | 甲信越       |  826579 | 1028 | 16 |  5.5714286 | NA | NA | NA |\n| 2021-05-05 | 31 | 鳥取県 | 鳥取 | 中国         |  561175 |  377 |  0 |  1.7142857 | NA | NA | NA |\n| 2021-05-04 | 31 | 鳥取県 | 鳥取 | 中国         |  561175 |  377 |  3 |  1.8571429 | NA | NA | NA |\n| 2021-05-03 | 31 | 鳥取県 | 鳥取 | 中国         |  561175 |  374 |  0 |  1.7142857 | NA | NA | NA |\n| 2021-04-13 | 31 | 鳥取県 | 鳥取 | 中国         |  561175 |  308 |  6 |  4.1428571 | NA | NA | NA |\n| 2021-04-12 | 31 | 鳥取県 | 鳥取 | 中国         |  561175 |  302 | 11 |  3.5714286 | NA | NA | NA |\n| 2021-05-09 | 32 | 島根県 | 島根 | 中国         |  679324 |  375 |  2 |  2.7142857 | NA | NA | NA |\n| 2021-05-04 | 32 | 島根県 | 島根 | 中国         |  679324 |  362 |  5 |  3.4285714 | NA | NA | NA |\n| 2021-04-17 | 32 | 島根県 | 島根 | 中国         |  679324 |  297 |  1 |  0.8571429 | NA | NA | NA |\n| 2021-05-05 | 34 | 広島県 | 広島 | 中国         | 2826858 | 6297 | 75 | 74.1428571 | NA | NA | NA |\n| 2021-04-12 | 34 | 広島県 | 広島 | 中国         | 2826858 | 5285 | 11 | 10.8571429 | NA | NA | NA |\n| 2021-05-05 | 35 | 山口県 | 山口 | 中国         | 1369882 | 1925 | 12 | 19.2857143 | NA | NA | NA |\n| 2021-05-04 | 35 | 山口県 | 山口 | 中国         | 1369882 | 1913 | 12 | 21.2857143 | NA | NA | NA |\n| 2021-04-18 | 35 | 山口県 | 山口 | 中国         | 1369882 | 1553 | 13 | 13.1428571 | NA | NA | NA |\n| 2021-04-18 | 36 | 徳島県 | 徳島 | 四国         |  742505 |  903 | 38 | 30.0000000 | NA | NA | NA |\n| 2021-05-03 | 39 | 高知県 | 高知 | 四国         |  709230 | 1077 | 10 | 11.5714286 | NA | NA | NA |\n| 2021-04-13 | 39 | 高知県 | 高知 | 四国         |  709230 |  946 |  0 |  1.2857143 | NA | NA | NA |\n| 2021-05-03 | 42 | 長崎県 | 長崎 | 九州・沖縄   | 1350769 | 2165 | 24 | 28.2857143 | NA | NA | NA |\n| 2021-04-25 | 44 | 大分県 | 大分 | 九州・沖縄   | 1151229 | 1641 | 63 | 37.5714286 | NA | NA | NA |\n| 2021-04-18 | 44 | 大分県 | 大分 | 九州・沖縄   | 1151229 | 1378 |  5 |  4.8571429 | NA | NA | NA |\n| 2021-05-04 | 45 | 宮崎県 | 宮崎 | 九州・沖縄   | 1095903 | 2246 |  0 | 13.0000000 | NA | NA | NA |\n\n",
            "text/html": [
              "<table class=\"dataframe\">\n",
              "<caption>A tibble: 35 × 12</caption>\n",
              "<thead>\n",
              "\t<tr><th scope=col>date</th><th scope=col>code</th><th scope=col>prefecture</th><th scope=col>prefecture_short</th><th scope=col>block</th><th scope=col>population</th><th scope=col>sum_patients</th><th scope=col>new_patients</th><th scope=col>patients_ma7</th><th scope=col>n_vaccinations</th><th scope=col>total_vaccinations</th><th scope=col>cum_vaccinations</th></tr>\n",
              "\t<tr><th scope=col>&lt;date&gt;</th><th scope=col>&lt;fct&gt;</th><th scope=col>&lt;fct&gt;</th><th scope=col>&lt;fct&gt;</th><th scope=col>&lt;fct&gt;</th><th scope=col>&lt;int&gt;</th><th scope=col>&lt;int&gt;</th><th scope=col>&lt;int&gt;</th><th scope=col>&lt;dbl&gt;</th><th scope=col>&lt;dbl&gt;</th><th scope=col>&lt;dbl&gt;</th><th scope=col>&lt;dbl&gt;</th></tr>\n",
              "</thead>\n",
              "<tbody>\n",
              "\t<tr><td>2021-04-18</td><td>02</td><td>青森県</td><td>青森</td><td>北海道・東北</td><td>1275783</td><td>1305</td><td> 6</td><td>20.2857143</td><td>NA</td><td>NA</td><td>NA</td></tr>\n",
              "\t<tr><td>2021-04-18</td><td>03</td><td>岩手県</td><td>岩手</td><td>北海道・東北</td><td>1235517</td><td> 779</td><td> 3</td><td> 3.8571429</td><td>NA</td><td>NA</td><td>NA</td></tr>\n",
              "\t<tr><td>2021-04-18</td><td>04</td><td>宮城県</td><td>宮城</td><td>北海道・東北</td><td>2292385</td><td>7580</td><td>28</td><td>59.4285714</td><td>NA</td><td>NA</td><td>NA</td></tr>\n",
              "\t<tr><td>2021-05-05</td><td>05</td><td>秋田県</td><td>秋田</td><td>北海道・東北</td><td> 985416</td><td> 536</td><td>19</td><td>15.1428571</td><td>NA</td><td>NA</td><td>NA</td></tr>\n",
              "\t<tr><td>2021-05-04</td><td>05</td><td>秋田県</td><td>秋田</td><td>北海道・東北</td><td> 985416</td><td> 517</td><td>11</td><td>13.1428571</td><td>NA</td><td>NA</td><td>NA</td></tr>\n",
              "\t<tr><td>2021-05-03</td><td>05</td><td>秋田県</td><td>秋田</td><td>北海道・東北</td><td> 985416</td><td> 506</td><td>14</td><td>12.7142857</td><td>NA</td><td>NA</td><td>NA</td></tr>\n",
              "\t<tr><td>2021-04-18</td><td>07</td><td>福島県</td><td>福島</td><td>北海道・東北</td><td>1881981</td><td>2985</td><td>37</td><td>25.5714286</td><td>NA</td><td>NA</td><td>NA</td></tr>\n",
              "\t<tr><td>2021-04-17</td><td>07</td><td>福島県</td><td>福島</td><td>北海道・東北</td><td>1881981</td><td>2948</td><td>21</td><td>22.4285714</td><td>NA</td><td>NA</td><td>NA</td></tr>\n",
              "\t<tr><td>2021-04-18</td><td>09</td><td>栃木県</td><td>栃木</td><td>関東        </td><td>1965516</td><td>5068</td><td>11</td><td>20.1428571</td><td>NA</td><td>NA</td><td>NA</td></tr>\n",
              "\t<tr><td>2021-05-05</td><td>17</td><td>石川県</td><td>石川</td><td>甲信越      </td><td>1139612</td><td>2639</td><td>21</td><td>30.1428571</td><td>NA</td><td>NA</td><td>NA</td></tr>\n",
              "\t<tr><td>2021-04-14</td><td>17</td><td>石川県</td><td>石川</td><td>甲信越      </td><td>1139612</td><td>2094</td><td>21</td><td>15.2857143</td><td>NA</td><td>NA</td><td>NA</td></tr>\n",
              "\t<tr><td>2021-04-12</td><td>17</td><td>石川県</td><td>石川</td><td>甲信越      </td><td>1139612</td><td>2060</td><td>12</td><td>14.7142857</td><td>NA</td><td>NA</td><td>NA</td></tr>\n",
              "\t<tr><td>2021-05-05</td><td>18</td><td>福井県</td><td>福井</td><td>甲信越      </td><td> 780053</td><td> 915</td><td> 5</td><td> 9.4285714</td><td>NA</td><td>NA</td><td>NA</td></tr>\n",
              "\t<tr><td>2021-04-13</td><td>19</td><td>山梨県</td><td>山梨</td><td>甲信越      </td><td> 826579</td><td>1029</td><td> 1</td><td> 5.2857143</td><td>NA</td><td>NA</td><td>NA</td></tr>\n",
              "\t<tr><td>2021-04-12</td><td>19</td><td>山梨県</td><td>山梨</td><td>甲信越      </td><td> 826579</td><td>1028</td><td>16</td><td> 5.5714286</td><td>NA</td><td>NA</td><td>NA</td></tr>\n",
              "\t<tr><td>2021-05-05</td><td>31</td><td>鳥取県</td><td>鳥取</td><td>中国        </td><td> 561175</td><td> 377</td><td> 0</td><td> 1.7142857</td><td>NA</td><td>NA</td><td>NA</td></tr>\n",
              "\t<tr><td>2021-05-04</td><td>31</td><td>鳥取県</td><td>鳥取</td><td>中国        </td><td> 561175</td><td> 377</td><td> 3</td><td> 1.8571429</td><td>NA</td><td>NA</td><td>NA</td></tr>\n",
              "\t<tr><td>2021-05-03</td><td>31</td><td>鳥取県</td><td>鳥取</td><td>中国        </td><td> 561175</td><td> 374</td><td> 0</td><td> 1.7142857</td><td>NA</td><td>NA</td><td>NA</td></tr>\n",
              "\t<tr><td>2021-04-13</td><td>31</td><td>鳥取県</td><td>鳥取</td><td>中国        </td><td> 561175</td><td> 308</td><td> 6</td><td> 4.1428571</td><td>NA</td><td>NA</td><td>NA</td></tr>\n",
              "\t<tr><td>2021-04-12</td><td>31</td><td>鳥取県</td><td>鳥取</td><td>中国        </td><td> 561175</td><td> 302</td><td>11</td><td> 3.5714286</td><td>NA</td><td>NA</td><td>NA</td></tr>\n",
              "\t<tr><td>2021-05-09</td><td>32</td><td>島根県</td><td>島根</td><td>中国        </td><td> 679324</td><td> 375</td><td> 2</td><td> 2.7142857</td><td>NA</td><td>NA</td><td>NA</td></tr>\n",
              "\t<tr><td>2021-05-04</td><td>32</td><td>島根県</td><td>島根</td><td>中国        </td><td> 679324</td><td> 362</td><td> 5</td><td> 3.4285714</td><td>NA</td><td>NA</td><td>NA</td></tr>\n",
              "\t<tr><td>2021-04-17</td><td>32</td><td>島根県</td><td>島根</td><td>中国        </td><td> 679324</td><td> 297</td><td> 1</td><td> 0.8571429</td><td>NA</td><td>NA</td><td>NA</td></tr>\n",
              "\t<tr><td>2021-05-05</td><td>34</td><td>広島県</td><td>広島</td><td>中国        </td><td>2826858</td><td>6297</td><td>75</td><td>74.1428571</td><td>NA</td><td>NA</td><td>NA</td></tr>\n",
              "\t<tr><td>2021-04-12</td><td>34</td><td>広島県</td><td>広島</td><td>中国        </td><td>2826858</td><td>5285</td><td>11</td><td>10.8571429</td><td>NA</td><td>NA</td><td>NA</td></tr>\n",
              "\t<tr><td>2021-05-05</td><td>35</td><td>山口県</td><td>山口</td><td>中国        </td><td>1369882</td><td>1925</td><td>12</td><td>19.2857143</td><td>NA</td><td>NA</td><td>NA</td></tr>\n",
              "\t<tr><td>2021-05-04</td><td>35</td><td>山口県</td><td>山口</td><td>中国        </td><td>1369882</td><td>1913</td><td>12</td><td>21.2857143</td><td>NA</td><td>NA</td><td>NA</td></tr>\n",
              "\t<tr><td>2021-04-18</td><td>35</td><td>山口県</td><td>山口</td><td>中国        </td><td>1369882</td><td>1553</td><td>13</td><td>13.1428571</td><td>NA</td><td>NA</td><td>NA</td></tr>\n",
              "\t<tr><td>2021-04-18</td><td>36</td><td>徳島県</td><td>徳島</td><td>四国        </td><td> 742505</td><td> 903</td><td>38</td><td>30.0000000</td><td>NA</td><td>NA</td><td>NA</td></tr>\n",
              "\t<tr><td>2021-05-03</td><td>39</td><td>高知県</td><td>高知</td><td>四国        </td><td> 709230</td><td>1077</td><td>10</td><td>11.5714286</td><td>NA</td><td>NA</td><td>NA</td></tr>\n",
              "\t<tr><td>2021-04-13</td><td>39</td><td>高知県</td><td>高知</td><td>四国        </td><td> 709230</td><td> 946</td><td> 0</td><td> 1.2857143</td><td>NA</td><td>NA</td><td>NA</td></tr>\n",
              "\t<tr><td>2021-05-03</td><td>42</td><td>長崎県</td><td>長崎</td><td>九州・沖縄  </td><td>1350769</td><td>2165</td><td>24</td><td>28.2857143</td><td>NA</td><td>NA</td><td>NA</td></tr>\n",
              "\t<tr><td>2021-04-25</td><td>44</td><td>大分県</td><td>大分</td><td>九州・沖縄  </td><td>1151229</td><td>1641</td><td>63</td><td>37.5714286</td><td>NA</td><td>NA</td><td>NA</td></tr>\n",
              "\t<tr><td>2021-04-18</td><td>44</td><td>大分県</td><td>大分</td><td>九州・沖縄  </td><td>1151229</td><td>1378</td><td> 5</td><td> 4.8571429</td><td>NA</td><td>NA</td><td>NA</td></tr>\n",
              "\t<tr><td>2021-05-04</td><td>45</td><td>宮崎県</td><td>宮崎</td><td>九州・沖縄  </td><td>1095903</td><td>2246</td><td> 0</td><td>13.0000000</td><td>NA</td><td>NA</td><td>NA</td></tr>\n",
              "</tbody>\n",
              "</table>\n"
            ]
          },
          "metadata": {
            "tags": []
          }
        }
      ]
    },
    {
      "cell_type": "code",
      "metadata": {
        "colab": {
          "base_uri": "https://localhost:8080/",
          "height": 1000
        },
        "id": "NpTEZjn1HxUc",
        "outputId": "a521a393-2e13-4f5c-acc3-c7523438f0a8"
      },
      "source": [
        "# NAは貴重な情報なので、インプレイスで置換せずに、残しておく。\n",
        "joined_data_w0 <- joined_data\n",
        "# こちらで、0に置き換えたものを作る。\n",
        "joined_data_w0[is.na(joined_data)] <- 0\n",
        "# 上と同じ行だけを表示する。\n",
        "joined_data_w0[rows_w_na, ]"
      ],
      "execution_count": 28,
      "outputs": [
        {
          "output_type": "display_data",
          "data": {
            "text/plain": [
              "   date       code prefecture prefecture_short block        population\n",
              "1  2021-04-18 02   青森県     青森             北海道・東北 1275783   \n",
              "2  2021-04-18 03   岩手県     岩手             北海道・東北 1235517   \n",
              "3  2021-04-18 04   宮城県     宮城             北海道・東北 2292385   \n",
              "4  2021-05-05 05   秋田県     秋田             北海道・東北  985416   \n",
              "5  2021-05-04 05   秋田県     秋田             北海道・東北  985416   \n",
              "6  2021-05-03 05   秋田県     秋田             北海道・東北  985416   \n",
              "7  2021-04-18 07   福島県     福島             北海道・東北 1881981   \n",
              "8  2021-04-17 07   福島県     福島             北海道・東北 1881981   \n",
              "9  2021-04-18 09   栃木県     栃木             関東         1965516   \n",
              "10 2021-05-05 17   石川県     石川             甲信越       1139612   \n",
              "11 2021-04-14 17   石川県     石川             甲信越       1139612   \n",
              "12 2021-04-12 17   石川県     石川             甲信越       1139612   \n",
              "13 2021-05-05 18   福井県     福井             甲信越        780053   \n",
              "14 2021-04-13 19   山梨県     山梨             甲信越        826579   \n",
              "15 2021-04-12 19   山梨県     山梨             甲信越        826579   \n",
              "16 2021-05-05 31   鳥取県     鳥取             中国          561175   \n",
              "17 2021-05-04 31   鳥取県     鳥取             中国          561175   \n",
              "18 2021-05-03 31   鳥取県     鳥取             中国          561175   \n",
              "19 2021-04-13 31   鳥取県     鳥取             中国          561175   \n",
              "20 2021-04-12 31   鳥取県     鳥取             中国          561175   \n",
              "21 2021-05-09 32   島根県     島根             中国          679324   \n",
              "22 2021-05-04 32   島根県     島根             中国          679324   \n",
              "23 2021-04-17 32   島根県     島根             中国          679324   \n",
              "24 2021-05-05 34   広島県     広島             中国         2826858   \n",
              "25 2021-04-12 34   広島県     広島             中国         2826858   \n",
              "26 2021-05-05 35   山口県     山口             中国         1369882   \n",
              "27 2021-05-04 35   山口県     山口             中国         1369882   \n",
              "28 2021-04-18 35   山口県     山口             中国         1369882   \n",
              "29 2021-04-18 36   徳島県     徳島             四国          742505   \n",
              "30 2021-05-03 39   高知県     高知             四国          709230   \n",
              "31 2021-04-13 39   高知県     高知             四国          709230   \n",
              "32 2021-05-03 42   長崎県     長崎             九州・沖縄   1350769   \n",
              "33 2021-04-25 44   大分県     大分             九州・沖縄   1151229   \n",
              "34 2021-04-18 44   大分県     大分             九州・沖縄   1151229   \n",
              "35 2021-05-04 45   宮崎県     宮崎             九州・沖縄   1095903   \n",
              "   sum_patients new_patients patients_ma7 n_vaccinations total_vaccinations\n",
              "1  1305          6           20.2857143   0              0                 \n",
              "2   779          3            3.8571429   0              0                 \n",
              "3  7580         28           59.4285714   0              0                 \n",
              "4   536         19           15.1428571   0              0                 \n",
              "5   517         11           13.1428571   0              0                 \n",
              "6   506         14           12.7142857   0              0                 \n",
              "7  2985         37           25.5714286   0              0                 \n",
              "8  2948         21           22.4285714   0              0                 \n",
              "9  5068         11           20.1428571   0              0                 \n",
              "10 2639         21           30.1428571   0              0                 \n",
              "11 2094         21           15.2857143   0              0                 \n",
              "12 2060         12           14.7142857   0              0                 \n",
              "13  915          5            9.4285714   0              0                 \n",
              "14 1029          1            5.2857143   0              0                 \n",
              "15 1028         16            5.5714286   0              0                 \n",
              "16  377          0            1.7142857   0              0                 \n",
              "17  377          3            1.8571429   0              0                 \n",
              "18  374          0            1.7142857   0              0                 \n",
              "19  308          6            4.1428571   0              0                 \n",
              "20  302         11            3.5714286   0              0                 \n",
              "21  375          2            2.7142857   0              0                 \n",
              "22  362          5            3.4285714   0              0                 \n",
              "23  297          1            0.8571429   0              0                 \n",
              "24 6297         75           74.1428571   0              0                 \n",
              "25 5285         11           10.8571429   0              0                 \n",
              "26 1925         12           19.2857143   0              0                 \n",
              "27 1913         12           21.2857143   0              0                 \n",
              "28 1553         13           13.1428571   0              0                 \n",
              "29  903         38           30.0000000   0              0                 \n",
              "30 1077         10           11.5714286   0              0                 \n",
              "31  946          0            1.2857143   0              0                 \n",
              "32 2165         24           28.2857143   0              0                 \n",
              "33 1641         63           37.5714286   0              0                 \n",
              "34 1378          5            4.8571429   0              0                 \n",
              "35 2246          0           13.0000000   0              0                 \n",
              "   cum_vaccinations\n",
              "1  0               \n",
              "2  0               \n",
              "3  0               \n",
              "4  0               \n",
              "5  0               \n",
              "6  0               \n",
              "7  0               \n",
              "8  0               \n",
              "9  0               \n",
              "10 0               \n",
              "11 0               \n",
              "12 0               \n",
              "13 0               \n",
              "14 0               \n",
              "15 0               \n",
              "16 0               \n",
              "17 0               \n",
              "18 0               \n",
              "19 0               \n",
              "20 0               \n",
              "21 0               \n",
              "22 0               \n",
              "23 0               \n",
              "24 0               \n",
              "25 0               \n",
              "26 0               \n",
              "27 0               \n",
              "28 0               \n",
              "29 0               \n",
              "30 0               \n",
              "31 0               \n",
              "32 0               \n",
              "33 0               \n",
              "34 0               \n",
              "35 0               "
            ],
            "text/latex": "A tibble: 35 × 12\n\\begin{tabular}{llllllllllll}\n date & code & prefecture & prefecture\\_short & block & population & sum\\_patients & new\\_patients & patients\\_ma7 & n\\_vaccinations & total\\_vaccinations & cum\\_vaccinations\\\\\n <date> & <fct> & <fct> & <fct> & <fct> & <int> & <int> & <int> & <dbl> & <dbl> & <dbl> & <dbl>\\\\\n\\hline\n\t 2021-04-18 & 02 & 青森県 & 青森 & 北海道・東北 & 1275783 & 1305 &  6 & 20.2857143 & 0 & 0 & 0\\\\\n\t 2021-04-18 & 03 & 岩手県 & 岩手 & 北海道・東北 & 1235517 &  779 &  3 &  3.8571429 & 0 & 0 & 0\\\\\n\t 2021-04-18 & 04 & 宮城県 & 宮城 & 北海道・東北 & 2292385 & 7580 & 28 & 59.4285714 & 0 & 0 & 0\\\\\n\t 2021-05-05 & 05 & 秋田県 & 秋田 & 北海道・東北 &  985416 &  536 & 19 & 15.1428571 & 0 & 0 & 0\\\\\n\t 2021-05-04 & 05 & 秋田県 & 秋田 & 北海道・東北 &  985416 &  517 & 11 & 13.1428571 & 0 & 0 & 0\\\\\n\t 2021-05-03 & 05 & 秋田県 & 秋田 & 北海道・東北 &  985416 &  506 & 14 & 12.7142857 & 0 & 0 & 0\\\\\n\t 2021-04-18 & 07 & 福島県 & 福島 & 北海道・東北 & 1881981 & 2985 & 37 & 25.5714286 & 0 & 0 & 0\\\\\n\t 2021-04-17 & 07 & 福島県 & 福島 & 北海道・東北 & 1881981 & 2948 & 21 & 22.4285714 & 0 & 0 & 0\\\\\n\t 2021-04-18 & 09 & 栃木県 & 栃木 & 関東         & 1965516 & 5068 & 11 & 20.1428571 & 0 & 0 & 0\\\\\n\t 2021-05-05 & 17 & 石川県 & 石川 & 甲信越       & 1139612 & 2639 & 21 & 30.1428571 & 0 & 0 & 0\\\\\n\t 2021-04-14 & 17 & 石川県 & 石川 & 甲信越       & 1139612 & 2094 & 21 & 15.2857143 & 0 & 0 & 0\\\\\n\t 2021-04-12 & 17 & 石川県 & 石川 & 甲信越       & 1139612 & 2060 & 12 & 14.7142857 & 0 & 0 & 0\\\\\n\t 2021-05-05 & 18 & 福井県 & 福井 & 甲信越       &  780053 &  915 &  5 &  9.4285714 & 0 & 0 & 0\\\\\n\t 2021-04-13 & 19 & 山梨県 & 山梨 & 甲信越       &  826579 & 1029 &  1 &  5.2857143 & 0 & 0 & 0\\\\\n\t 2021-04-12 & 19 & 山梨県 & 山梨 & 甲信越       &  826579 & 1028 & 16 &  5.5714286 & 0 & 0 & 0\\\\\n\t 2021-05-05 & 31 & 鳥取県 & 鳥取 & 中国         &  561175 &  377 &  0 &  1.7142857 & 0 & 0 & 0\\\\\n\t 2021-05-04 & 31 & 鳥取県 & 鳥取 & 中国         &  561175 &  377 &  3 &  1.8571429 & 0 & 0 & 0\\\\\n\t 2021-05-03 & 31 & 鳥取県 & 鳥取 & 中国         &  561175 &  374 &  0 &  1.7142857 & 0 & 0 & 0\\\\\n\t 2021-04-13 & 31 & 鳥取県 & 鳥取 & 中国         &  561175 &  308 &  6 &  4.1428571 & 0 & 0 & 0\\\\\n\t 2021-04-12 & 31 & 鳥取県 & 鳥取 & 中国         &  561175 &  302 & 11 &  3.5714286 & 0 & 0 & 0\\\\\n\t 2021-05-09 & 32 & 島根県 & 島根 & 中国         &  679324 &  375 &  2 &  2.7142857 & 0 & 0 & 0\\\\\n\t 2021-05-04 & 32 & 島根県 & 島根 & 中国         &  679324 &  362 &  5 &  3.4285714 & 0 & 0 & 0\\\\\n\t 2021-04-17 & 32 & 島根県 & 島根 & 中国         &  679324 &  297 &  1 &  0.8571429 & 0 & 0 & 0\\\\\n\t 2021-05-05 & 34 & 広島県 & 広島 & 中国         & 2826858 & 6297 & 75 & 74.1428571 & 0 & 0 & 0\\\\\n\t 2021-04-12 & 34 & 広島県 & 広島 & 中国         & 2826858 & 5285 & 11 & 10.8571429 & 0 & 0 & 0\\\\\n\t 2021-05-05 & 35 & 山口県 & 山口 & 中国         & 1369882 & 1925 & 12 & 19.2857143 & 0 & 0 & 0\\\\\n\t 2021-05-04 & 35 & 山口県 & 山口 & 中国         & 1369882 & 1913 & 12 & 21.2857143 & 0 & 0 & 0\\\\\n\t 2021-04-18 & 35 & 山口県 & 山口 & 中国         & 1369882 & 1553 & 13 & 13.1428571 & 0 & 0 & 0\\\\\n\t 2021-04-18 & 36 & 徳島県 & 徳島 & 四国         &  742505 &  903 & 38 & 30.0000000 & 0 & 0 & 0\\\\\n\t 2021-05-03 & 39 & 高知県 & 高知 & 四国         &  709230 & 1077 & 10 & 11.5714286 & 0 & 0 & 0\\\\\n\t 2021-04-13 & 39 & 高知県 & 高知 & 四国         &  709230 &  946 &  0 &  1.2857143 & 0 & 0 & 0\\\\\n\t 2021-05-03 & 42 & 長崎県 & 長崎 & 九州・沖縄   & 1350769 & 2165 & 24 & 28.2857143 & 0 & 0 & 0\\\\\n\t 2021-04-25 & 44 & 大分県 & 大分 & 九州・沖縄   & 1151229 & 1641 & 63 & 37.5714286 & 0 & 0 & 0\\\\\n\t 2021-04-18 & 44 & 大分県 & 大分 & 九州・沖縄   & 1151229 & 1378 &  5 &  4.8571429 & 0 & 0 & 0\\\\\n\t 2021-05-04 & 45 & 宮崎県 & 宮崎 & 九州・沖縄   & 1095903 & 2246 &  0 & 13.0000000 & 0 & 0 & 0\\\\\n\\end{tabular}\n",
            "text/markdown": "\nA tibble: 35 × 12\n\n| date &lt;date&gt; | code &lt;fct&gt; | prefecture &lt;fct&gt; | prefecture_short &lt;fct&gt; | block &lt;fct&gt; | population &lt;int&gt; | sum_patients &lt;int&gt; | new_patients &lt;int&gt; | patients_ma7 &lt;dbl&gt; | n_vaccinations &lt;dbl&gt; | total_vaccinations &lt;dbl&gt; | cum_vaccinations &lt;dbl&gt; |\n|---|---|---|---|---|---|---|---|---|---|---|---|\n| 2021-04-18 | 02 | 青森県 | 青森 | 北海道・東北 | 1275783 | 1305 |  6 | 20.2857143 | 0 | 0 | 0 |\n| 2021-04-18 | 03 | 岩手県 | 岩手 | 北海道・東北 | 1235517 |  779 |  3 |  3.8571429 | 0 | 0 | 0 |\n| 2021-04-18 | 04 | 宮城県 | 宮城 | 北海道・東北 | 2292385 | 7580 | 28 | 59.4285714 | 0 | 0 | 0 |\n| 2021-05-05 | 05 | 秋田県 | 秋田 | 北海道・東北 |  985416 |  536 | 19 | 15.1428571 | 0 | 0 | 0 |\n| 2021-05-04 | 05 | 秋田県 | 秋田 | 北海道・東北 |  985416 |  517 | 11 | 13.1428571 | 0 | 0 | 0 |\n| 2021-05-03 | 05 | 秋田県 | 秋田 | 北海道・東北 |  985416 |  506 | 14 | 12.7142857 | 0 | 0 | 0 |\n| 2021-04-18 | 07 | 福島県 | 福島 | 北海道・東北 | 1881981 | 2985 | 37 | 25.5714286 | 0 | 0 | 0 |\n| 2021-04-17 | 07 | 福島県 | 福島 | 北海道・東北 | 1881981 | 2948 | 21 | 22.4285714 | 0 | 0 | 0 |\n| 2021-04-18 | 09 | 栃木県 | 栃木 | 関東         | 1965516 | 5068 | 11 | 20.1428571 | 0 | 0 | 0 |\n| 2021-05-05 | 17 | 石川県 | 石川 | 甲信越       | 1139612 | 2639 | 21 | 30.1428571 | 0 | 0 | 0 |\n| 2021-04-14 | 17 | 石川県 | 石川 | 甲信越       | 1139612 | 2094 | 21 | 15.2857143 | 0 | 0 | 0 |\n| 2021-04-12 | 17 | 石川県 | 石川 | 甲信越       | 1139612 | 2060 | 12 | 14.7142857 | 0 | 0 | 0 |\n| 2021-05-05 | 18 | 福井県 | 福井 | 甲信越       |  780053 |  915 |  5 |  9.4285714 | 0 | 0 | 0 |\n| 2021-04-13 | 19 | 山梨県 | 山梨 | 甲信越       |  826579 | 1029 |  1 |  5.2857143 | 0 | 0 | 0 |\n| 2021-04-12 | 19 | 山梨県 | 山梨 | 甲信越       |  826579 | 1028 | 16 |  5.5714286 | 0 | 0 | 0 |\n| 2021-05-05 | 31 | 鳥取県 | 鳥取 | 中国         |  561175 |  377 |  0 |  1.7142857 | 0 | 0 | 0 |\n| 2021-05-04 | 31 | 鳥取県 | 鳥取 | 中国         |  561175 |  377 |  3 |  1.8571429 | 0 | 0 | 0 |\n| 2021-05-03 | 31 | 鳥取県 | 鳥取 | 中国         |  561175 |  374 |  0 |  1.7142857 | 0 | 0 | 0 |\n| 2021-04-13 | 31 | 鳥取県 | 鳥取 | 中国         |  561175 |  308 |  6 |  4.1428571 | 0 | 0 | 0 |\n| 2021-04-12 | 31 | 鳥取県 | 鳥取 | 中国         |  561175 |  302 | 11 |  3.5714286 | 0 | 0 | 0 |\n| 2021-05-09 | 32 | 島根県 | 島根 | 中国         |  679324 |  375 |  2 |  2.7142857 | 0 | 0 | 0 |\n| 2021-05-04 | 32 | 島根県 | 島根 | 中国         |  679324 |  362 |  5 |  3.4285714 | 0 | 0 | 0 |\n| 2021-04-17 | 32 | 島根県 | 島根 | 中国         |  679324 |  297 |  1 |  0.8571429 | 0 | 0 | 0 |\n| 2021-05-05 | 34 | 広島県 | 広島 | 中国         | 2826858 | 6297 | 75 | 74.1428571 | 0 | 0 | 0 |\n| 2021-04-12 | 34 | 広島県 | 広島 | 中国         | 2826858 | 5285 | 11 | 10.8571429 | 0 | 0 | 0 |\n| 2021-05-05 | 35 | 山口県 | 山口 | 中国         | 1369882 | 1925 | 12 | 19.2857143 | 0 | 0 | 0 |\n| 2021-05-04 | 35 | 山口県 | 山口 | 中国         | 1369882 | 1913 | 12 | 21.2857143 | 0 | 0 | 0 |\n| 2021-04-18 | 35 | 山口県 | 山口 | 中国         | 1369882 | 1553 | 13 | 13.1428571 | 0 | 0 | 0 |\n| 2021-04-18 | 36 | 徳島県 | 徳島 | 四国         |  742505 |  903 | 38 | 30.0000000 | 0 | 0 | 0 |\n| 2021-05-03 | 39 | 高知県 | 高知 | 四国         |  709230 | 1077 | 10 | 11.5714286 | 0 | 0 | 0 |\n| 2021-04-13 | 39 | 高知県 | 高知 | 四国         |  709230 |  946 |  0 |  1.2857143 | 0 | 0 | 0 |\n| 2021-05-03 | 42 | 長崎県 | 長崎 | 九州・沖縄   | 1350769 | 2165 | 24 | 28.2857143 | 0 | 0 | 0 |\n| 2021-04-25 | 44 | 大分県 | 大分 | 九州・沖縄   | 1151229 | 1641 | 63 | 37.5714286 | 0 | 0 | 0 |\n| 2021-04-18 | 44 | 大分県 | 大分 | 九州・沖縄   | 1151229 | 1378 |  5 |  4.8571429 | 0 | 0 | 0 |\n| 2021-05-04 | 45 | 宮崎県 | 宮崎 | 九州・沖縄   | 1095903 | 2246 |  0 | 13.0000000 | 0 | 0 | 0 |\n\n",
            "text/html": [
              "<table class=\"dataframe\">\n",
              "<caption>A tibble: 35 × 12</caption>\n",
              "<thead>\n",
              "\t<tr><th scope=col>date</th><th scope=col>code</th><th scope=col>prefecture</th><th scope=col>prefecture_short</th><th scope=col>block</th><th scope=col>population</th><th scope=col>sum_patients</th><th scope=col>new_patients</th><th scope=col>patients_ma7</th><th scope=col>n_vaccinations</th><th scope=col>total_vaccinations</th><th scope=col>cum_vaccinations</th></tr>\n",
              "\t<tr><th scope=col>&lt;date&gt;</th><th scope=col>&lt;fct&gt;</th><th scope=col>&lt;fct&gt;</th><th scope=col>&lt;fct&gt;</th><th scope=col>&lt;fct&gt;</th><th scope=col>&lt;int&gt;</th><th scope=col>&lt;int&gt;</th><th scope=col>&lt;int&gt;</th><th scope=col>&lt;dbl&gt;</th><th scope=col>&lt;dbl&gt;</th><th scope=col>&lt;dbl&gt;</th><th scope=col>&lt;dbl&gt;</th></tr>\n",
              "</thead>\n",
              "<tbody>\n",
              "\t<tr><td>2021-04-18</td><td>02</td><td>青森県</td><td>青森</td><td>北海道・東北</td><td>1275783</td><td>1305</td><td> 6</td><td>20.2857143</td><td>0</td><td>0</td><td>0</td></tr>\n",
              "\t<tr><td>2021-04-18</td><td>03</td><td>岩手県</td><td>岩手</td><td>北海道・東北</td><td>1235517</td><td> 779</td><td> 3</td><td> 3.8571429</td><td>0</td><td>0</td><td>0</td></tr>\n",
              "\t<tr><td>2021-04-18</td><td>04</td><td>宮城県</td><td>宮城</td><td>北海道・東北</td><td>2292385</td><td>7580</td><td>28</td><td>59.4285714</td><td>0</td><td>0</td><td>0</td></tr>\n",
              "\t<tr><td>2021-05-05</td><td>05</td><td>秋田県</td><td>秋田</td><td>北海道・東北</td><td> 985416</td><td> 536</td><td>19</td><td>15.1428571</td><td>0</td><td>0</td><td>0</td></tr>\n",
              "\t<tr><td>2021-05-04</td><td>05</td><td>秋田県</td><td>秋田</td><td>北海道・東北</td><td> 985416</td><td> 517</td><td>11</td><td>13.1428571</td><td>0</td><td>0</td><td>0</td></tr>\n",
              "\t<tr><td>2021-05-03</td><td>05</td><td>秋田県</td><td>秋田</td><td>北海道・東北</td><td> 985416</td><td> 506</td><td>14</td><td>12.7142857</td><td>0</td><td>0</td><td>0</td></tr>\n",
              "\t<tr><td>2021-04-18</td><td>07</td><td>福島県</td><td>福島</td><td>北海道・東北</td><td>1881981</td><td>2985</td><td>37</td><td>25.5714286</td><td>0</td><td>0</td><td>0</td></tr>\n",
              "\t<tr><td>2021-04-17</td><td>07</td><td>福島県</td><td>福島</td><td>北海道・東北</td><td>1881981</td><td>2948</td><td>21</td><td>22.4285714</td><td>0</td><td>0</td><td>0</td></tr>\n",
              "\t<tr><td>2021-04-18</td><td>09</td><td>栃木県</td><td>栃木</td><td>関東        </td><td>1965516</td><td>5068</td><td>11</td><td>20.1428571</td><td>0</td><td>0</td><td>0</td></tr>\n",
              "\t<tr><td>2021-05-05</td><td>17</td><td>石川県</td><td>石川</td><td>甲信越      </td><td>1139612</td><td>2639</td><td>21</td><td>30.1428571</td><td>0</td><td>0</td><td>0</td></tr>\n",
              "\t<tr><td>2021-04-14</td><td>17</td><td>石川県</td><td>石川</td><td>甲信越      </td><td>1139612</td><td>2094</td><td>21</td><td>15.2857143</td><td>0</td><td>0</td><td>0</td></tr>\n",
              "\t<tr><td>2021-04-12</td><td>17</td><td>石川県</td><td>石川</td><td>甲信越      </td><td>1139612</td><td>2060</td><td>12</td><td>14.7142857</td><td>0</td><td>0</td><td>0</td></tr>\n",
              "\t<tr><td>2021-05-05</td><td>18</td><td>福井県</td><td>福井</td><td>甲信越      </td><td> 780053</td><td> 915</td><td> 5</td><td> 9.4285714</td><td>0</td><td>0</td><td>0</td></tr>\n",
              "\t<tr><td>2021-04-13</td><td>19</td><td>山梨県</td><td>山梨</td><td>甲信越      </td><td> 826579</td><td>1029</td><td> 1</td><td> 5.2857143</td><td>0</td><td>0</td><td>0</td></tr>\n",
              "\t<tr><td>2021-04-12</td><td>19</td><td>山梨県</td><td>山梨</td><td>甲信越      </td><td> 826579</td><td>1028</td><td>16</td><td> 5.5714286</td><td>0</td><td>0</td><td>0</td></tr>\n",
              "\t<tr><td>2021-05-05</td><td>31</td><td>鳥取県</td><td>鳥取</td><td>中国        </td><td> 561175</td><td> 377</td><td> 0</td><td> 1.7142857</td><td>0</td><td>0</td><td>0</td></tr>\n",
              "\t<tr><td>2021-05-04</td><td>31</td><td>鳥取県</td><td>鳥取</td><td>中国        </td><td> 561175</td><td> 377</td><td> 3</td><td> 1.8571429</td><td>0</td><td>0</td><td>0</td></tr>\n",
              "\t<tr><td>2021-05-03</td><td>31</td><td>鳥取県</td><td>鳥取</td><td>中国        </td><td> 561175</td><td> 374</td><td> 0</td><td> 1.7142857</td><td>0</td><td>0</td><td>0</td></tr>\n",
              "\t<tr><td>2021-04-13</td><td>31</td><td>鳥取県</td><td>鳥取</td><td>中国        </td><td> 561175</td><td> 308</td><td> 6</td><td> 4.1428571</td><td>0</td><td>0</td><td>0</td></tr>\n",
              "\t<tr><td>2021-04-12</td><td>31</td><td>鳥取県</td><td>鳥取</td><td>中国        </td><td> 561175</td><td> 302</td><td>11</td><td> 3.5714286</td><td>0</td><td>0</td><td>0</td></tr>\n",
              "\t<tr><td>2021-05-09</td><td>32</td><td>島根県</td><td>島根</td><td>中国        </td><td> 679324</td><td> 375</td><td> 2</td><td> 2.7142857</td><td>0</td><td>0</td><td>0</td></tr>\n",
              "\t<tr><td>2021-05-04</td><td>32</td><td>島根県</td><td>島根</td><td>中国        </td><td> 679324</td><td> 362</td><td> 5</td><td> 3.4285714</td><td>0</td><td>0</td><td>0</td></tr>\n",
              "\t<tr><td>2021-04-17</td><td>32</td><td>島根県</td><td>島根</td><td>中国        </td><td> 679324</td><td> 297</td><td> 1</td><td> 0.8571429</td><td>0</td><td>0</td><td>0</td></tr>\n",
              "\t<tr><td>2021-05-05</td><td>34</td><td>広島県</td><td>広島</td><td>中国        </td><td>2826858</td><td>6297</td><td>75</td><td>74.1428571</td><td>0</td><td>0</td><td>0</td></tr>\n",
              "\t<tr><td>2021-04-12</td><td>34</td><td>広島県</td><td>広島</td><td>中国        </td><td>2826858</td><td>5285</td><td>11</td><td>10.8571429</td><td>0</td><td>0</td><td>0</td></tr>\n",
              "\t<tr><td>2021-05-05</td><td>35</td><td>山口県</td><td>山口</td><td>中国        </td><td>1369882</td><td>1925</td><td>12</td><td>19.2857143</td><td>0</td><td>0</td><td>0</td></tr>\n",
              "\t<tr><td>2021-05-04</td><td>35</td><td>山口県</td><td>山口</td><td>中国        </td><td>1369882</td><td>1913</td><td>12</td><td>21.2857143</td><td>0</td><td>0</td><td>0</td></tr>\n",
              "\t<tr><td>2021-04-18</td><td>35</td><td>山口県</td><td>山口</td><td>中国        </td><td>1369882</td><td>1553</td><td>13</td><td>13.1428571</td><td>0</td><td>0</td><td>0</td></tr>\n",
              "\t<tr><td>2021-04-18</td><td>36</td><td>徳島県</td><td>徳島</td><td>四国        </td><td> 742505</td><td> 903</td><td>38</td><td>30.0000000</td><td>0</td><td>0</td><td>0</td></tr>\n",
              "\t<tr><td>2021-05-03</td><td>39</td><td>高知県</td><td>高知</td><td>四国        </td><td> 709230</td><td>1077</td><td>10</td><td>11.5714286</td><td>0</td><td>0</td><td>0</td></tr>\n",
              "\t<tr><td>2021-04-13</td><td>39</td><td>高知県</td><td>高知</td><td>四国        </td><td> 709230</td><td> 946</td><td> 0</td><td> 1.2857143</td><td>0</td><td>0</td><td>0</td></tr>\n",
              "\t<tr><td>2021-05-03</td><td>42</td><td>長崎県</td><td>長崎</td><td>九州・沖縄  </td><td>1350769</td><td>2165</td><td>24</td><td>28.2857143</td><td>0</td><td>0</td><td>0</td></tr>\n",
              "\t<tr><td>2021-04-25</td><td>44</td><td>大分県</td><td>大分</td><td>九州・沖縄  </td><td>1151229</td><td>1641</td><td>63</td><td>37.5714286</td><td>0</td><td>0</td><td>0</td></tr>\n",
              "\t<tr><td>2021-04-18</td><td>44</td><td>大分県</td><td>大分</td><td>九州・沖縄  </td><td>1151229</td><td>1378</td><td> 5</td><td> 4.8571429</td><td>0</td><td>0</td><td>0</td></tr>\n",
              "\t<tr><td>2021-05-04</td><td>45</td><td>宮崎県</td><td>宮崎</td><td>九州・沖縄  </td><td>1095903</td><td>2246</td><td> 0</td><td>13.0000000</td><td>0</td><td>0</td><td>0</td></tr>\n",
              "</tbody>\n",
              "</table>\n"
            ]
          },
          "metadata": {
            "tags": []
          }
        }
      ]
    },
    {
      "cell_type": "markdown",
      "metadata": {
        "id": "Jnnzgc9c3SsS"
      },
      "source": [
        "### 7.5. 人口比にする\n",
        "\n",
        "都道府県どうしの比較をするために、実数だけでなく、人口比も知りたくなります。\n",
        "各県の接種と感染の数値データを、その県の人口で割って比率を出します。ここでは、定数を掛けて、人口10万人あたりの数にしています。"
      ]
    },
    {
      "cell_type": "code",
      "metadata": {
        "colab": {
          "base_uri": "https://localhost:8080/",
          "height": 1000
        },
        "id": "-oumEUNWP_lM",
        "outputId": "f6a93056-c4be-42af-be3e-70e446448ea7"
      },
      "source": [
        "# 日付と数値データを県ごとに畳む。\n",
        "joined_data_w0 <-\n",
        "    joined_data_w0 %>%\n",
        "# 県ごとの小分けtibbleになる部分\n",
        "    nest(data = c(\n",
        "        date,\n",
        "        new_patients,\n",
        "        patients_ma7,\n",
        "        sum_patients,\n",
        "        n_vaccinations,\n",
        "        total_vaccinations,\n",
        "        cum_vaccinations\n",
        "        )\n",
        "    ) \n",
        "\n",
        "# 県ごとのデータを、その県の人口で割って比率を計算するファンクション。\n",
        "# 人口10万人あたり、にしている。rをつけたカラムが人口比。\n",
        "func_ratio <- function(nested_df, divisor){\n",
        "    const= 100000\n",
        "    return(\n",
        "        nested_df %>% mutate(\n",
        "            \"r_new_patients\"        = new_patients          / divisor * const,\n",
        "            \"r_patients_ma7\"        = patients_ma7          / divisor * const,\n",
        "            \"r_sum_patients\"        = sum_patients          / divisor * const,\n",
        "            \"r_n_vaccinations\"      = n_vaccinations        / divisor * const,\n",
        "            \"r_total_vaccinations\"  = total_vaccinations    / divisor * const,\n",
        "            \"r_cum_vaccinations\"    = cum_vaccinations      / divisor * const\n",
        "        ) %>%\n",
        "# 念のため、日付降順（最新日付が上）に来るようにソートしておく。\n",
        "    arrange(desc(date))\n",
        "    )\n",
        "}\n",
        "# これに限らずだが、とくにこのファンクション、松波さんのアドバイスに深謝！\n",
        "\n",
        "joined_data_ratio <- joined_data_w0 %>% \n",
        "    mutate(\n",
        "# さっきのファンクションに働いてもらう。\n",
        "        data = map2(data, population, func_ratio)\n",
        "    ) %>%\n",
        "# 念のため、県コードの順にソートしておく。\n",
        "    arrange(prefecture)\n",
        "\n",
        "# ネストを解除する。\n",
        "joined_data_ratio <- joined_data_ratio %>% \n",
        "    unnest(cols = data)\n",
        "\n",
        "# こうなった。\n",
        "str(joined_data_ratio)\n",
        "head(joined_data_ratio)\n",
        "tail(joined_data_ratio)\n",
        "summary(joined_data_ratio)"
      ],
      "execution_count": 29,
      "outputs": [
        {
          "output_type": "stream",
          "text": [
            "tibble [4,177 × 18] (S3: tbl_df/tbl/data.frame)\n",
            " $ code                : Factor w/ 48 levels \"01\",\"02\",\"03\",..: 1 1 1 1 1 1 1 1 1 1 ...\n",
            " $ prefecture          : Factor w/ 48 levels \"北海道\",\"青森県\",..: 1 1 1 1 1 1 1 1 1 1 ...\n",
            " $ prefecture_short    : Factor w/ 48 levels \"北海道\",\"青森\",..: 1 1 1 1 1 1 1 1 1 1 ...\n",
            " $ block               : Factor w/ 9 levels \"北海道・東北\",..: 1 1 1 1 1 1 1 1 1 1 ...\n",
            " $ population          : int [1:4177] 5267762 5267762 5267762 5267762 5267762 5267762 5267762 5267762 5267762 5267762 ...\n",
            " $ date                : Date[1:4177], format: \"2021-07-07\" \"2021-07-06\" ...\n",
            " $ new_patients        : int [1:4177] 67 34 29 39 30 26 39 38 23 27 ...\n",
            " $ patients_ma7        : num [1:4177] 37.7 33.6 32 31.7 30.1 ...\n",
            " $ sum_patients        : int [1:4177] 41596 41529 41495 41466 41427 41397 41371 41332 41294 41271 ...\n",
            " $ n_vaccinations      : num [1:4177] 36208 40353 44455 37891 36366 ...\n",
            " $ total_vaccinations  : num [1:4177] 1847514 1811306 1770953 1726498 1688607 ...\n",
            " $ cum_vaccinations    : num [1:4177] 1811306 1770953 1726498 1688607 1652241 ...\n",
            " $ r_new_patients      : num [1:4177] 1.272 0.645 0.551 0.74 0.57 ...\n",
            " $ r_patients_ma7      : num [1:4177] 0.716 0.637 0.607 0.602 0.572 ...\n",
            " $ r_sum_patients      : num [1:4177] 790 788 788 787 786 ...\n",
            " $ r_n_vaccinations    : num [1:4177] 687 766 844 719 690 ...\n",
            " $ r_total_vaccinations: num [1:4177] 35072 34385 33619 32775 32055 ...\n",
            " $ r_cum_vaccinations  : num [1:4177] 34385 33619 32775 32055 31365 ...\n"
          ],
          "name": "stdout"
        },
        {
          "output_type": "display_data",
          "data": {
            "text/plain": [
              "  code prefecture prefecture_short block        population date      \n",
              "1 01   北海道     北海道           北海道・東北 5267762    2021-07-07\n",
              "2 01   北海道     北海道           北海道・東北 5267762    2021-07-06\n",
              "3 01   北海道     北海道           北海道・東北 5267762    2021-07-05\n",
              "4 01   北海道     北海道           北海道・東北 5267762    2021-07-04\n",
              "5 01   北海道     北海道           北海道・東北 5267762    2021-07-03\n",
              "6 01   北海道     北海道           北海道・東北 5267762    2021-07-02\n",
              "  new_patients patients_ma7 sum_patients n_vaccinations total_vaccinations\n",
              "1 67           37.71429     41596        36208          1847514           \n",
              "2 34           33.57143     41529        40353          1811306           \n",
              "3 29           32.00000     41495        44455          1770953           \n",
              "4 39           31.71429     41466        37891          1726498           \n",
              "5 30           30.14286     41427        36366          1688607           \n",
              "6 26           32.57143     41397        33505          1652241           \n",
              "  cum_vaccinations r_new_patients r_patients_ma7 r_sum_patients\n",
              "1 1811306          1.2718874      0.7159451      789.6332      \n",
              "2 1770953          0.6454354      0.6372996      788.3614      \n",
              "3 1726498          0.5505184      0.6074686      787.7159      \n",
              "4 1688607          0.7403524      0.6020448      787.1654      \n",
              "5 1652241          0.5695018      0.5722137      786.4251      \n",
              "6 1618736          0.4935682      0.6183163      785.8555      \n",
              "  r_n_vaccinations r_total_vaccinations r_cum_vaccinations\n",
              "1 687.3507         35072.09             34384.73          \n",
              "2 766.0369         34384.73             33618.70          \n",
              "3 843.9068         33618.70             32774.79          \n",
              "4 719.2998         32774.79             32055.49          \n",
              "5 690.3501         32055.49             31365.14          \n",
              "6 636.0386         31365.14             30729.10          "
            ],
            "text/latex": "A tibble: 6 × 18\n\\begin{tabular}{llllllllllllllllll}\n code & prefecture & prefecture\\_short & block & population & date & new\\_patients & patients\\_ma7 & sum\\_patients & n\\_vaccinations & total\\_vaccinations & cum\\_vaccinations & r\\_new\\_patients & r\\_patients\\_ma7 & r\\_sum\\_patients & r\\_n\\_vaccinations & r\\_total\\_vaccinations & r\\_cum\\_vaccinations\\\\\n <fct> & <fct> & <fct> & <fct> & <int> & <date> & <int> & <dbl> & <int> & <dbl> & <dbl> & <dbl> & <dbl> & <dbl> & <dbl> & <dbl> & <dbl> & <dbl>\\\\\n\\hline\n\t 01 & 北海道 & 北海道 & 北海道・東北 & 5267762 & 2021-07-07 & 67 & 37.71429 & 41596 & 36208 & 1847514 & 1811306 & 1.2718874 & 0.7159451 & 789.6332 & 687.3507 & 35072.09 & 34384.73\\\\\n\t 01 & 北海道 & 北海道 & 北海道・東北 & 5267762 & 2021-07-06 & 34 & 33.57143 & 41529 & 40353 & 1811306 & 1770953 & 0.6454354 & 0.6372996 & 788.3614 & 766.0369 & 34384.73 & 33618.70\\\\\n\t 01 & 北海道 & 北海道 & 北海道・東北 & 5267762 & 2021-07-05 & 29 & 32.00000 & 41495 & 44455 & 1770953 & 1726498 & 0.5505184 & 0.6074686 & 787.7159 & 843.9068 & 33618.70 & 32774.79\\\\\n\t 01 & 北海道 & 北海道 & 北海道・東北 & 5267762 & 2021-07-04 & 39 & 31.71429 & 41466 & 37891 & 1726498 & 1688607 & 0.7403524 & 0.6020448 & 787.1654 & 719.2998 & 32774.79 & 32055.49\\\\\n\t 01 & 北海道 & 北海道 & 北海道・東北 & 5267762 & 2021-07-03 & 30 & 30.14286 & 41427 & 36366 & 1688607 & 1652241 & 0.5695018 & 0.5722137 & 786.4251 & 690.3501 & 32055.49 & 31365.14\\\\\n\t 01 & 北海道 & 北海道 & 北海道・東北 & 5267762 & 2021-07-02 & 26 & 32.57143 & 41397 & 33505 & 1652241 & 1618736 & 0.4935682 & 0.6183163 & 785.8555 & 636.0386 & 31365.14 & 30729.10\\\\\n\\end{tabular}\n",
            "text/markdown": "\nA tibble: 6 × 18\n\n| code &lt;fct&gt; | prefecture &lt;fct&gt; | prefecture_short &lt;fct&gt; | block &lt;fct&gt; | population &lt;int&gt; | date &lt;date&gt; | new_patients &lt;int&gt; | patients_ma7 &lt;dbl&gt; | sum_patients &lt;int&gt; | n_vaccinations &lt;dbl&gt; | total_vaccinations &lt;dbl&gt; | cum_vaccinations &lt;dbl&gt; | r_new_patients &lt;dbl&gt; | r_patients_ma7 &lt;dbl&gt; | r_sum_patients &lt;dbl&gt; | r_n_vaccinations &lt;dbl&gt; | r_total_vaccinations &lt;dbl&gt; | r_cum_vaccinations &lt;dbl&gt; |\n|---|---|---|---|---|---|---|---|---|---|---|---|---|---|---|---|---|---|\n| 01 | 北海道 | 北海道 | 北海道・東北 | 5267762 | 2021-07-07 | 67 | 37.71429 | 41596 | 36208 | 1847514 | 1811306 | 1.2718874 | 0.7159451 | 789.6332 | 687.3507 | 35072.09 | 34384.73 |\n| 01 | 北海道 | 北海道 | 北海道・東北 | 5267762 | 2021-07-06 | 34 | 33.57143 | 41529 | 40353 | 1811306 | 1770953 | 0.6454354 | 0.6372996 | 788.3614 | 766.0369 | 34384.73 | 33618.70 |\n| 01 | 北海道 | 北海道 | 北海道・東北 | 5267762 | 2021-07-05 | 29 | 32.00000 | 41495 | 44455 | 1770953 | 1726498 | 0.5505184 | 0.6074686 | 787.7159 | 843.9068 | 33618.70 | 32774.79 |\n| 01 | 北海道 | 北海道 | 北海道・東北 | 5267762 | 2021-07-04 | 39 | 31.71429 | 41466 | 37891 | 1726498 | 1688607 | 0.7403524 | 0.6020448 | 787.1654 | 719.2998 | 32774.79 | 32055.49 |\n| 01 | 北海道 | 北海道 | 北海道・東北 | 5267762 | 2021-07-03 | 30 | 30.14286 | 41427 | 36366 | 1688607 | 1652241 | 0.5695018 | 0.5722137 | 786.4251 | 690.3501 | 32055.49 | 31365.14 |\n| 01 | 北海道 | 北海道 | 北海道・東北 | 5267762 | 2021-07-02 | 26 | 32.57143 | 41397 | 33505 | 1652241 | 1618736 | 0.4935682 | 0.6183163 | 785.8555 | 636.0386 | 31365.14 | 30729.10 |\n\n",
            "text/html": [
              "<table class=\"dataframe\">\n",
              "<caption>A tibble: 6 × 18</caption>\n",
              "<thead>\n",
              "\t<tr><th scope=col>code</th><th scope=col>prefecture</th><th scope=col>prefecture_short</th><th scope=col>block</th><th scope=col>population</th><th scope=col>date</th><th scope=col>new_patients</th><th scope=col>patients_ma7</th><th scope=col>sum_patients</th><th scope=col>n_vaccinations</th><th scope=col>total_vaccinations</th><th scope=col>cum_vaccinations</th><th scope=col>r_new_patients</th><th scope=col>r_patients_ma7</th><th scope=col>r_sum_patients</th><th scope=col>r_n_vaccinations</th><th scope=col>r_total_vaccinations</th><th scope=col>r_cum_vaccinations</th></tr>\n",
              "\t<tr><th scope=col>&lt;fct&gt;</th><th scope=col>&lt;fct&gt;</th><th scope=col>&lt;fct&gt;</th><th scope=col>&lt;fct&gt;</th><th scope=col>&lt;int&gt;</th><th scope=col>&lt;date&gt;</th><th scope=col>&lt;int&gt;</th><th scope=col>&lt;dbl&gt;</th><th scope=col>&lt;int&gt;</th><th scope=col>&lt;dbl&gt;</th><th scope=col>&lt;dbl&gt;</th><th scope=col>&lt;dbl&gt;</th><th scope=col>&lt;dbl&gt;</th><th scope=col>&lt;dbl&gt;</th><th scope=col>&lt;dbl&gt;</th><th scope=col>&lt;dbl&gt;</th><th scope=col>&lt;dbl&gt;</th><th scope=col>&lt;dbl&gt;</th></tr>\n",
              "</thead>\n",
              "<tbody>\n",
              "\t<tr><td>01</td><td>北海道</td><td>北海道</td><td>北海道・東北</td><td>5267762</td><td>2021-07-07</td><td>67</td><td>37.71429</td><td>41596</td><td>36208</td><td>1847514</td><td>1811306</td><td>1.2718874</td><td>0.7159451</td><td>789.6332</td><td>687.3507</td><td>35072.09</td><td>34384.73</td></tr>\n",
              "\t<tr><td>01</td><td>北海道</td><td>北海道</td><td>北海道・東北</td><td>5267762</td><td>2021-07-06</td><td>34</td><td>33.57143</td><td>41529</td><td>40353</td><td>1811306</td><td>1770953</td><td>0.6454354</td><td>0.6372996</td><td>788.3614</td><td>766.0369</td><td>34384.73</td><td>33618.70</td></tr>\n",
              "\t<tr><td>01</td><td>北海道</td><td>北海道</td><td>北海道・東北</td><td>5267762</td><td>2021-07-05</td><td>29</td><td>32.00000</td><td>41495</td><td>44455</td><td>1770953</td><td>1726498</td><td>0.5505184</td><td>0.6074686</td><td>787.7159</td><td>843.9068</td><td>33618.70</td><td>32774.79</td></tr>\n",
              "\t<tr><td>01</td><td>北海道</td><td>北海道</td><td>北海道・東北</td><td>5267762</td><td>2021-07-04</td><td>39</td><td>31.71429</td><td>41466</td><td>37891</td><td>1726498</td><td>1688607</td><td>0.7403524</td><td>0.6020448</td><td>787.1654</td><td>719.2998</td><td>32774.79</td><td>32055.49</td></tr>\n",
              "\t<tr><td>01</td><td>北海道</td><td>北海道</td><td>北海道・東北</td><td>5267762</td><td>2021-07-03</td><td>30</td><td>30.14286</td><td>41427</td><td>36366</td><td>1688607</td><td>1652241</td><td>0.5695018</td><td>0.5722137</td><td>786.4251</td><td>690.3501</td><td>32055.49</td><td>31365.14</td></tr>\n",
              "\t<tr><td>01</td><td>北海道</td><td>北海道</td><td>北海道・東北</td><td>5267762</td><td>2021-07-02</td><td>26</td><td>32.57143</td><td>41397</td><td>33505</td><td>1652241</td><td>1618736</td><td>0.4935682</td><td>0.6183163</td><td>785.8555</td><td>636.0386</td><td>31365.14</td><td>30729.10</td></tr>\n",
              "</tbody>\n",
              "</table>\n"
            ]
          },
          "metadata": {
            "tags": []
          }
        },
        {
          "output_type": "display_data",
          "data": {
            "text/plain": [
              "  code      prefecture prefecture_short block population date      \n",
              "1 TOTAL/AVE 全国       全国             全国  127138033  2021-04-17\n",
              "2 TOTAL/AVE 全国       全国             全国  127138033  2021-04-16\n",
              "3 TOTAL/AVE 全国       全国             全国  127138033  2021-04-15\n",
              "4 TOTAL/AVE 全国       全国             全国  127138033  2021-04-14\n",
              "5 TOTAL/AVE 全国       全国             全国  127138033  2021-04-13\n",
              "6 TOTAL/AVE 全国       全国             全国  127138033  2021-04-12\n",
              "  new_patients patients_ma7 sum_patients n_vaccinations total_vaccinations\n",
              "1 4722         3772.714     527247       7652           39583             \n",
              "2 4519         3616.714     522647       9796           31931             \n",
              "3 4570         3466.429     518187       8492           22135             \n",
              "4 4302         3300.000     513569       4794           13643             \n",
              "5 3444         3179.143     509627       4112            8849             \n",
              "6 2094         3063.571     506272       4737            4737             \n",
              "  cum_vaccinations r_new_patients r_patients_ma7 r_sum_patients\n",
              "1 31931            3.714074       2.967416       414.7044      \n",
              "2 22135            3.554405       2.844715       411.0863      \n",
              "3 13643            3.594518       2.726508       407.5783      \n",
              "4  8849            3.383724       2.595604       403.9460      \n",
              "5  4737            2.708867       2.500544       400.8454      \n",
              "6     0            1.647029       2.409642       398.2066      \n",
              "  r_n_vaccinations r_total_vaccinations r_cum_vaccinations\n",
              "1 6.018655         31.133878            25.115223         \n",
              "2 7.705011         25.115223            17.410211         \n",
              "3 6.679355         17.410211            10.730857         \n",
              "4 3.770705         10.730857             6.960152         \n",
              "5 3.234280          6.960152             3.725872         \n",
              "6 3.725872          3.725872             0.000000         "
            ],
            "text/latex": "A tibble: 6 × 18\n\\begin{tabular}{llllllllllllllllll}\n code & prefecture & prefecture\\_short & block & population & date & new\\_patients & patients\\_ma7 & sum\\_patients & n\\_vaccinations & total\\_vaccinations & cum\\_vaccinations & r\\_new\\_patients & r\\_patients\\_ma7 & r\\_sum\\_patients & r\\_n\\_vaccinations & r\\_total\\_vaccinations & r\\_cum\\_vaccinations\\\\\n <fct> & <fct> & <fct> & <fct> & <int> & <date> & <int> & <dbl> & <int> & <dbl> & <dbl> & <dbl> & <dbl> & <dbl> & <dbl> & <dbl> & <dbl> & <dbl>\\\\\n\\hline\n\t TOTAL/AVE & 全国 & 全国 & 全国 & 127138033 & 2021-04-17 & 4722 & 3772.714 & 527247 & 7652 & 39583 & 31931 & 3.714074 & 2.967416 & 414.7044 & 6.018655 & 31.133878 & 25.115223\\\\\n\t TOTAL/AVE & 全国 & 全国 & 全国 & 127138033 & 2021-04-16 & 4519 & 3616.714 & 522647 & 9796 & 31931 & 22135 & 3.554405 & 2.844715 & 411.0863 & 7.705011 & 25.115223 & 17.410211\\\\\n\t TOTAL/AVE & 全国 & 全国 & 全国 & 127138033 & 2021-04-15 & 4570 & 3466.429 & 518187 & 8492 & 22135 & 13643 & 3.594518 & 2.726508 & 407.5783 & 6.679355 & 17.410211 & 10.730857\\\\\n\t TOTAL/AVE & 全国 & 全国 & 全国 & 127138033 & 2021-04-14 & 4302 & 3300.000 & 513569 & 4794 & 13643 &  8849 & 3.383724 & 2.595604 & 403.9460 & 3.770705 & 10.730857 &  6.960152\\\\\n\t TOTAL/AVE & 全国 & 全国 & 全国 & 127138033 & 2021-04-13 & 3444 & 3179.143 & 509627 & 4112 &  8849 &  4737 & 2.708867 & 2.500544 & 400.8454 & 3.234280 &  6.960152 &  3.725872\\\\\n\t TOTAL/AVE & 全国 & 全国 & 全国 & 127138033 & 2021-04-12 & 2094 & 3063.571 & 506272 & 4737 &  4737 &     0 & 1.647029 & 2.409642 & 398.2066 & 3.725872 &  3.725872 &  0.000000\\\\\n\\end{tabular}\n",
            "text/markdown": "\nA tibble: 6 × 18\n\n| code &lt;fct&gt; | prefecture &lt;fct&gt; | prefecture_short &lt;fct&gt; | block &lt;fct&gt; | population &lt;int&gt; | date &lt;date&gt; | new_patients &lt;int&gt; | patients_ma7 &lt;dbl&gt; | sum_patients &lt;int&gt; | n_vaccinations &lt;dbl&gt; | total_vaccinations &lt;dbl&gt; | cum_vaccinations &lt;dbl&gt; | r_new_patients &lt;dbl&gt; | r_patients_ma7 &lt;dbl&gt; | r_sum_patients &lt;dbl&gt; | r_n_vaccinations &lt;dbl&gt; | r_total_vaccinations &lt;dbl&gt; | r_cum_vaccinations &lt;dbl&gt; |\n|---|---|---|---|---|---|---|---|---|---|---|---|---|---|---|---|---|---|\n| TOTAL/AVE | 全国 | 全国 | 全国 | 127138033 | 2021-04-17 | 4722 | 3772.714 | 527247 | 7652 | 39583 | 31931 | 3.714074 | 2.967416 | 414.7044 | 6.018655 | 31.133878 | 25.115223 |\n| TOTAL/AVE | 全国 | 全国 | 全国 | 127138033 | 2021-04-16 | 4519 | 3616.714 | 522647 | 9796 | 31931 | 22135 | 3.554405 | 2.844715 | 411.0863 | 7.705011 | 25.115223 | 17.410211 |\n| TOTAL/AVE | 全国 | 全国 | 全国 | 127138033 | 2021-04-15 | 4570 | 3466.429 | 518187 | 8492 | 22135 | 13643 | 3.594518 | 2.726508 | 407.5783 | 6.679355 | 17.410211 | 10.730857 |\n| TOTAL/AVE | 全国 | 全国 | 全国 | 127138033 | 2021-04-14 | 4302 | 3300.000 | 513569 | 4794 | 13643 |  8849 | 3.383724 | 2.595604 | 403.9460 | 3.770705 | 10.730857 |  6.960152 |\n| TOTAL/AVE | 全国 | 全国 | 全国 | 127138033 | 2021-04-13 | 3444 | 3179.143 | 509627 | 4112 |  8849 |  4737 | 2.708867 | 2.500544 | 400.8454 | 3.234280 |  6.960152 |  3.725872 |\n| TOTAL/AVE | 全国 | 全国 | 全国 | 127138033 | 2021-04-12 | 2094 | 3063.571 | 506272 | 4737 |  4737 |     0 | 1.647029 | 2.409642 | 398.2066 | 3.725872 |  3.725872 |  0.000000 |\n\n",
            "text/html": [
              "<table class=\"dataframe\">\n",
              "<caption>A tibble: 6 × 18</caption>\n",
              "<thead>\n",
              "\t<tr><th scope=col>code</th><th scope=col>prefecture</th><th scope=col>prefecture_short</th><th scope=col>block</th><th scope=col>population</th><th scope=col>date</th><th scope=col>new_patients</th><th scope=col>patients_ma7</th><th scope=col>sum_patients</th><th scope=col>n_vaccinations</th><th scope=col>total_vaccinations</th><th scope=col>cum_vaccinations</th><th scope=col>r_new_patients</th><th scope=col>r_patients_ma7</th><th scope=col>r_sum_patients</th><th scope=col>r_n_vaccinations</th><th scope=col>r_total_vaccinations</th><th scope=col>r_cum_vaccinations</th></tr>\n",
              "\t<tr><th scope=col>&lt;fct&gt;</th><th scope=col>&lt;fct&gt;</th><th scope=col>&lt;fct&gt;</th><th scope=col>&lt;fct&gt;</th><th scope=col>&lt;int&gt;</th><th scope=col>&lt;date&gt;</th><th scope=col>&lt;int&gt;</th><th scope=col>&lt;dbl&gt;</th><th scope=col>&lt;int&gt;</th><th scope=col>&lt;dbl&gt;</th><th scope=col>&lt;dbl&gt;</th><th scope=col>&lt;dbl&gt;</th><th scope=col>&lt;dbl&gt;</th><th scope=col>&lt;dbl&gt;</th><th scope=col>&lt;dbl&gt;</th><th scope=col>&lt;dbl&gt;</th><th scope=col>&lt;dbl&gt;</th><th scope=col>&lt;dbl&gt;</th></tr>\n",
              "</thead>\n",
              "<tbody>\n",
              "\t<tr><td>TOTAL/AVE</td><td>全国</td><td>全国</td><td>全国</td><td>127138033</td><td>2021-04-17</td><td>4722</td><td>3772.714</td><td>527247</td><td>7652</td><td>39583</td><td>31931</td><td>3.714074</td><td>2.967416</td><td>414.7044</td><td>6.018655</td><td>31.133878</td><td>25.115223</td></tr>\n",
              "\t<tr><td>TOTAL/AVE</td><td>全国</td><td>全国</td><td>全国</td><td>127138033</td><td>2021-04-16</td><td>4519</td><td>3616.714</td><td>522647</td><td>9796</td><td>31931</td><td>22135</td><td>3.554405</td><td>2.844715</td><td>411.0863</td><td>7.705011</td><td>25.115223</td><td>17.410211</td></tr>\n",
              "\t<tr><td>TOTAL/AVE</td><td>全国</td><td>全国</td><td>全国</td><td>127138033</td><td>2021-04-15</td><td>4570</td><td>3466.429</td><td>518187</td><td>8492</td><td>22135</td><td>13643</td><td>3.594518</td><td>2.726508</td><td>407.5783</td><td>6.679355</td><td>17.410211</td><td>10.730857</td></tr>\n",
              "\t<tr><td>TOTAL/AVE</td><td>全国</td><td>全国</td><td>全国</td><td>127138033</td><td>2021-04-14</td><td>4302</td><td>3300.000</td><td>513569</td><td>4794</td><td>13643</td><td> 8849</td><td>3.383724</td><td>2.595604</td><td>403.9460</td><td>3.770705</td><td>10.730857</td><td> 6.960152</td></tr>\n",
              "\t<tr><td>TOTAL/AVE</td><td>全国</td><td>全国</td><td>全国</td><td>127138033</td><td>2021-04-13</td><td>3444</td><td>3179.143</td><td>509627</td><td>4112</td><td> 8849</td><td> 4737</td><td>2.708867</td><td>2.500544</td><td>400.8454</td><td>3.234280</td><td> 6.960152</td><td> 3.725872</td></tr>\n",
              "\t<tr><td>TOTAL/AVE</td><td>全国</td><td>全国</td><td>全国</td><td>127138033</td><td>2021-04-12</td><td>2094</td><td>3063.571</td><td>506272</td><td>4737</td><td> 4737</td><td>    0</td><td>1.647029</td><td>2.409642</td><td>398.2066</td><td>3.725872</td><td> 3.725872</td><td> 0.000000</td></tr>\n",
              "</tbody>\n",
              "</table>\n"
            ]
          },
          "metadata": {
            "tags": []
          }
        },
        {
          "output_type": "display_data",
          "data": {
            "text/plain": [
              "        code        prefecture   prefecture_short          block    \n",
              " TOTAL/AVE:  88   全国   :  88   全国   :  88     九州・沖縄  :696  \n",
              " 01       :  87   北海道 :  87   北海道 :  87     北海道・東北:609  \n",
              " 02       :  87   青森県 :  87   青森   :  87     関東        :609  \n",
              " 03       :  87   岩手県 :  87   岩手   :  87     甲信越      :522  \n",
              " 04       :  87   宮城県 :  87   宮城   :  87     近畿        :522  \n",
              " 05       :  87   秋田県 :  87   秋田   :  87     中国        :435  \n",
              " (Other)  :3654   (Other):3654   (Other):3654     (Other)     :784  \n",
              "   population             date             new_patients     patients_ma7     \n",
              " Min.   :   561175   Min.   :2021-04-12   Min.   :   0.0   Min.   : -13.571  \n",
              " 1st Qu.:  1095903   1st Qu.:2021-05-03   1st Qu.:   6.0   1st Qu.:   8.286  \n",
              " Median :  1769880   Median :2021-05-25   Median :  22.0   Median :  25.000  \n",
              " Mean   :  5326587   Mean   :2021-05-25   Mean   : 145.8   Mean   : 147.953  \n",
              " 3rd Qu.:  2921436   3rd Qu.:2021-06-16   3rd Qu.:  67.0   3rd Qu.:  71.429  \n",
              " Max.   :127138033   Max.   :2021-07-08   Max.   :7057.0   Max.   :6369.143  \n",
              "                                                                             \n",
              "  sum_patients    n_vaccinations    total_vaccinations cum_vaccinations  \n",
              " Min.   :   292   Min.   :      0   Min.   :       0   Min.   :       0  \n",
              " 1st Qu.:  2017   1st Qu.:   1039   1st Qu.:   12421   1st Qu.:   11704  \n",
              " Median :  4288   Median :   6024   Median :   90116   Median :   83307  \n",
              " Mean   : 28993   Mean   :  22025   Mean   :  521496   Mean   :  499471  \n",
              " 3rd Qu.: 11397   3rd Qu.:  14085   3rd Qu.:  337647   3rd Qu.:  324161  \n",
              " Max.   :810756   Max.   :1214755   Max.   :46473773   Max.   :45523818  \n",
              "                                                                         \n",
              " r_new_patients    r_patients_ma7    r_sum_patients   r_n_vaccinations \n",
              " Min.   : 0.0000   Min.   :-0.7211   Min.   :  34.0   Min.   :   0.00  \n",
              " 1st Qu.: 0.4782   1st Qu.: 0.6183   1st Qu.: 179.2   1st Qu.:  52.53  \n",
              " Median : 1.2690   Median : 1.3915   Median : 263.2   Median : 391.22  \n",
              " Mean   : 2.0388   Mean   : 2.0767   Mean   : 351.3   Mean   : 452.11  \n",
              " 3rd Qu.: 2.5765   3rd Qu.: 2.6358   3rd Qu.: 455.2   3rd Qu.: 800.59  \n",
              " Max.   :22.6115   Max.   :17.9253   Max.   :1428.6   Max.   :2285.94  \n",
              "                                                                       \n",
              " r_total_vaccinations r_cum_vaccinations\n",
              " Min.   :    0.0      Min.   :    0.0   \n",
              " 1st Qu.:  640.7      1st Qu.:  587.3   \n",
              " Median : 4942.3      Median : 4530.5   \n",
              " Mean   :10957.2      Mean   :10505.1   \n",
              " 3rd Qu.:19232.6      3rd Qu.:18435.9   \n",
              " Max.   :51177.8      Max.   :50040.2   \n",
              "                                        "
            ]
          },
          "metadata": {
            "tags": []
          }
        }
      ]
    },
    {
      "cell_type": "code",
      "metadata": {
        "id": "HqqcNRIyOSPd"
      },
      "source": [
        "# 不要になったデータは消す。\n",
        "rm(vaccinations, patients, rows_w_na, pref_pop, joined_data)"
      ],
      "execution_count": 30,
      "outputs": []
    },
    {
      "cell_type": "markdown",
      "metadata": {
        "id": "OeEL7cy83yBz"
      },
      "source": [
        "## 8. CSVを書き出す\n"
      ]
    },
    {
      "cell_type": "markdown",
      "metadata": {
        "id": "y-utzG4d37s-"
      },
      "source": [
        "最後に、処理したデータをcsv（コンマ区切り形式）のファイルに書き出して、終了です。書き出す前に、あらかじめrenameでカラム名を日本語に直してもよいでしょう。\n",
        "\n",
        "Colabの場合は、画面左端の上から４番目あたりにある、ファイルのアイコンを押すと、「processed_data.csv」というファイルができあがっているのが見えるはずです。右クリック、または縦に３つ並んだ点のマークを押すと、ダウンロードが選べます。ローカルなら、お使いのPCに直接セーブされます。\n",
        "\n",
        "csvは、開き方によっては、文字化けすることがあります。エンコードを調べてみて下さい。S-JISで開こうとして化けていたら、UTF-8を指定して下さい。\n"
      ]
    },
    {
      "cell_type": "code",
      "metadata": {
        "id": "n_ZvGnxK3xnV"
      },
      "source": [
        "write_csv(joined_data_ratio, \"processed_data.csv\")"
      ],
      "execution_count": 31,
      "outputs": []
    },
    {
      "cell_type": "markdown",
      "metadata": {
        "id": "t4b3Rkzt5Brt"
      },
      "source": [
        "あとは、このデータをFlourishに渡してやるだけです。\n",
        "\n",
        "お疲れさまでした。"
      ]
    }
  ]
}