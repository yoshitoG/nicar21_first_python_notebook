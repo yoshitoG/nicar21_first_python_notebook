{
  "nbformat": 4,
  "nbformat_minor": 0,
  "metadata": {
    "colab": {
      "name": "【課外補講0710】ワクチン接種と新規感染者数の関係を見たい.ipynb",
      "provenance": [],
      "collapsed_sections": [],
      "authorship_tag": "ABX9TyMGaHRIMJTTb3pNxkarFmIc",
      "include_colab_link": true
    },
    "kernelspec": {
      "name": "ir",
      "display_name": "R"
    },
    "language_info": {
      "name": "R"
    }
  },
  "cells": [
    {
      "cell_type": "markdown",
      "metadata": {
        "id": "view-in-github",
        "colab_type": "text"
      },
      "source": [
        "<a href=\"https://colab.research.google.com/github/yoshitoG/nicar21_first_python_notebook/blob/main/%E3%80%90%E8%AA%B2%E5%A4%96%E8%A3%9C%E8%AC%9B0710%E3%80%91%E3%83%AF%E3%82%AF%E3%83%81%E3%83%B3%E6%8E%A5%E7%A8%AE%E3%81%A8%E6%96%B0%E8%A6%8F%E6%84%9F%E6%9F%93%E8%80%85%E6%95%B0%E3%81%AE%E9%96%A2%E4%BF%82%E3%82%92%E8%A6%8B%E3%81%9F%E3%81%84.ipynb\" target=\"_parent\"><img src=\"https://colab.research.google.com/assets/colab-badge.svg\" alt=\"Open In Colab\"/></a>"
      ]
    },
    {
      "cell_type": "markdown",
      "metadata": {
        "id": "akhZOL3DSEcy"
      },
      "source": [
        "# 新型コロナワクチン接種と、感染者数の関係を見たい\n",
        "### Google Colab で「R」を試す\n",
        "\n",
        "小宮山さんや山本さんの講義の補足。終了後にゆっくり目を通していただければ十分です。Slackのinformationチャンネルに松波さんが投稿している、tidyverseの基本の[解説](https://jnpcitseminar.slack.com/files/UGX4CGHNZ/F026EJU680M/memo_for_r_beginners.rmd)へのつなぎ、だと思って下さい。\n",
        "\n",
        "このノートのコードは、PythonではなくRです。なお、Google Colabolatory で実行環境をRにしたノートを新規作成するには、[こちらのリンク](https://colab.research.google.com/notebook#create=true&language=r)を使うのが手っ取り早い方法です。\n",
        "\n",
        "Colabで見ていただいている方は、上のメニュー欄の「ファイル」から「ドライブにコピーを保存」を選んだ後、ご自身の環境で実際に動かして試してみて下さい。\n",
        "\n",
        "お急ぎの方は、２の「その前に」は飛ばして、３の「使い始めの設定」から実行して下さい。コードはローカルでも動きます。\n",
        "\n",
        "※接種途中（1回目）と接種完了（2回目）を区分して集計するよう、手直ししました。"
      ]
    },
    {
      "cell_type": "markdown",
      "metadata": {
        "id": "DspTqHrITESY"
      },
      "source": [
        "## 1.何をやるか"
      ]
    },
    {
      "cell_type": "markdown",
      "metadata": {
        "id": "XdZUY4rMUIft"
      },
      "source": [
        "### 1.1. 時系列で可視化したい\n",
        "\n",
        "[政府CIOポータル](https://cio.go.jp/c19vaccine_dashboard)から、COVID-19のワクチン接種状況のデータを取ってくるところまでは、同じです。さらに、別の場所から、感染状況のデータを取ってきて、両者の関係を見てみることにします。感染状況は、[内閣官房「新型コロナウイルス感染症対策」](https://corona.go.jp/dashboard/)のデータのページにまとまっています。\n",
        "\n",
        "ざっと作っただけですが、[こちら](https://bit.ly/JNPC210710)のように、時間の経過でどう変化しているかを可視化する、という想定で、データを加工していきましょう。接種のほうは件数の累計が、感染者数のほうは新規の移動平均が、最終的にほしいデータです。\n",
        "\n",
        "なお、可視化に使ったのは、[Flourish](https://flourish.studio/)です。Flourishについては説明しません。"
      ]
    },
    {
      "cell_type": "markdown",
      "metadata": {
        "id": "7wWO3YHlToA1"
      },
      "source": [
        "### 1.2. 気になる点\n",
        "\n",
        "データの概要を見てみましょう。接種状況のほうは、**その日その日の件数**です。都道府県別になっています。\n",
        "\n",
        "一方、感染状況は、**累積の感染者数**ですね。こちらも都道府県別になっている（全国計のデータは別になっている）のですが、**自治体名ではなくて数字**が並んでいます。\n",
        "\n",
        "ちなみに、接種完了の人のstatusは単に「2」とされていて、2回必要なうち2回目まで受けたのか、1回だけでよいワクチンなのかが、区別できません。ワクチンの効果を今後、検証していくためには、「1回で完了」「2回中の1回目＝途中」「2回中の2回目＝完了」の区別がつくよう、「1-1」「2-1」「2-2」のような区分にしておいてほしかったところです。もしかしたら、変更になるかもしれませんけれど。\n",
        "\n",
        "<font color=\"gray\">\n",
        "現状では1回完了型は日本では接種できないと思います（違っていたらごめんなさい）が、仕様を見ると、1回完了型の場合もstatusは2とするようです。\n",
        "</font>\n",
        "\n",
        "ワクチンの製造元別に数字が分かれば、なおよいですよね。\n",
        "\n",
        "データをもらいっぱなしにするのではなく、使う側として、声を上げていかなくてはいけない部分だと思います。"
      ]
    },
    {
      "cell_type": "markdown",
      "metadata": {
        "id": "HVOleZYrVJG3"
      },
      "source": [
        "## 2.その前に"
      ]
    },
    {
      "cell_type": "markdown",
      "metadata": {
        "id": "NVJbsEoDVLq3"
      },
      "source": [
        "\n",
        "### 2.1. わざわざプログラムを書く理由\n",
        "\n",
        "ExcelやGoogleスプレッドシートがあるのに、どうしてプログラムを書くのか。一番の理由は、プログラムに書いておけば、**繰り返し使えて、再現可能性が高い**から、です。\n",
        "\n",
        "Excelに代表される表計算ソフトは、優れた発明です。試行錯誤しながら処理していくのにも、向いています。しかし、たとえて言うなら「食材」（データ）と「レシピ」（処理）が渾然一体となっているという欠点があります。自分が作ったものでも、どこにどんな式を入れたのだったか、分からなくなってしまうことが、よくあります。\n",
        "\n",
        "RやPythonのプログラムであれば、データと処理が分離されています。その分、見通しがよく、何をやろうとしているかが分かる、ということになります。なので、必要な手直しもしやすいし、データが更新されても同じ処理が適用できると分かれば、同じプログラムを再度走らせて、最新の結果を得ることもできます。"
      ]
    },
    {
      "cell_type": "markdown",
      "metadata": {
        "id": "CJ4MiG3kWNJB"
      },
      "source": [
        "### 2.2. プログラムは人生ゲーム\n",
        "\n",
        "暗号のように見えるプログラムですが、一部分を取り出して見てみれば、やっていることはシンプルです。「人生ゲーム」のように、道に枝分かれのある双六みたいなものです。\n",
        "\n",
        "* 変数と計算　　　手持ち資金や、車に乗っている人数など、今の状態を記憶させおく「変数（入れ物）」を使って、計算をする\n",
        "* 条件判定と分岐　分かれ道。何かを調べて、処理方法を変える。ルーレットを回すように、乱数でランダムに決めることも（サンプリングなど）\n",
        "* 繰り返し　　　　必要なだけ反復処理する。PCは疲れません\n",
        "\n",
        "途中の道順やスピードはさまざまでも、最終目的地にたどり着けるなら、プログラムとしては役に立ちます。手直しのしやすさや、効率に差はあるにしても。\n",
        "\n",
        "傾向として、Rは書く人によって、プログラムが大きく異なります。選べる道が多いのはよいけれど、その分、迷いやすい。Pythonは、誰が書いても、似たプログラムになります。主要道があらかじめ整備されているかわり、そこしか通れない（抜け道はあまりない）感じで、これは大きなメリットです。"
      ]
    },
    {
      "cell_type": "markdown",
      "metadata": {
        "id": "9Z77lDh_WwyV"
      },
      "source": [
        "### 2.3. プログラムのお約束\n",
        "\n",
        "変数に何かを入れて、覚えておいてもらうことを、代入といいます。これに使う記号が、歴史的経緯で「=」なのです（Rでは「<-」も使えます）。分かりにくいのですが、イコールではなく、**右辺のものを左辺の変数に入れる**、という指示になります。"
      ]
    },
    {
      "cell_type": "code",
      "metadata": {
        "colab": {
          "base_uri": "https://localhost:8080/"
        },
        "id": "JQ2BQAfZW-jZ",
        "outputId": "a951f1a5-8996-4db8-8fbd-1aa26e834d30"
      },
      "source": [
        "born = 1984         # 1984年生まれの人が\n",
        "age  = 37           # 誕生日を迎えて37歳だとすると\n",
        "now  = born + age   # 今は何年？\n",
        "print(now)"
      ],
      "execution_count": null,
      "outputs": [
        {
          "output_type": "stream",
          "text": [
            "[1] 2021\n"
          ],
          "name": "stdout"
        }
      ]
    },
    {
      "cell_type": "markdown",
      "metadata": {
        "id": "d0aLcWv9Xxyn"
      },
      "source": [
        "変数やデータには型があって、引用符で囲んでないものは数値または変数の中身、引用符に囲まれているものは「そのままの文字列（リテラル）」です。1984は数値、\"1984\"は文字列です。"
      ]
    },
    {
      "cell_type": "code",
      "metadata": {
        "id": "fTQH0iRmX5o8"
      },
      "source": [
        "born2 = \"1984\"\n",
        "age2  = \"37\"\n",
        "\n",
        "# エラーで止まらないようにしたければ、次のセルの冒頭に「#」を入れる。\n",
        "# print(born2 + age2)\n",
        "# のように、注釈にすること"
      ],
      "execution_count": null,
      "outputs": []
    },
    {
      "cell_type": "code",
      "metadata": {
        "id": "zY9pbVGRYA6Q"
      },
      "source": [
        "# print(born2 + age2)"
      ],
      "execution_count": null,
      "outputs": []
    },
    {
      "cell_type": "markdown",
      "metadata": {
        "id": "FU7yN35HYJSG"
      },
      "source": [
        "Rは「文字列の足し算はできません」と、エラーメッセージで教えてくれました。このあたりの挙動は、言語の設計によって違います。エラーしないで、計算結果が\"198437\"という文字列になるプログラム言語もあります。"
      ]
    },
    {
      "cell_type": "code",
      "metadata": {
        "colab": {
          "base_uri": "https://localhost:8080/"
        },
        "id": "qVjY-JbbYnsJ",
        "outputId": "a3f72d8c-f4f7-4d5f-c996-3a27ffb3aff9"
      },
      "source": [
        "# ある変数を最初に0にしておき\n",
        "counter = 0\n",
        "print(counter)\n",
        "# 繰り返し処理をするごとに1を足すなら\n",
        "counter = counter + 1\n",
        "print(counter)\n",
        "# カウンターとして使える"
      ],
      "execution_count": null,
      "outputs": [
        {
          "output_type": "stream",
          "text": [
            "[1] 0\n",
            "[1] 1\n"
          ],
          "name": "stdout"
        }
      ]
    },
    {
      "cell_type": "markdown",
      "metadata": {
        "id": "SeFDOfSYYRZA"
      },
      "source": [
        "このコードのしていること、想像がつきますか？　ある数「counter」に１を足したら自分自身に等しくなる、という**不能方程式ではありません**。これは、行番号5のところで、指を折るようにして回数を記録していく「カウンター」です。\n",
        "\n",
        "では、「イコール」の意味のときはどう書くか。「==」と重ねて使います。"
      ]
    },
    {
      "cell_type": "code",
      "metadata": {
        "colab": {
          "base_uri": "https://localhost:8080/",
          "height": 33
        },
        "id": "HM4D6R_hY9PU",
        "outputId": "f192dbd4-c03c-4603-9885-3d077d2003ad"
      },
      "source": [
        "born == age"
      ],
      "execution_count": null,
      "outputs": [
        {
          "output_type": "display_data",
          "data": {
            "text/plain": [
              "[1] FALSE"
            ],
            "text/latex": "FALSE",
            "text/markdown": "FALSE",
            "text/html": [
              "FALSE"
            ]
          },
          "metadata": {
            "tags": []
          }
        }
      ]
    },
    {
      "cell_type": "markdown",
      "metadata": {
        "id": "zseSrGC3ZDUC"
      },
      "source": [
        "1985と37は等しくありませんよね。\n",
        "\n",
        "ここでうっかり、等号ひとつだけを使ってしまうと、どうなるでしょう？"
      ]
    },
    {
      "cell_type": "code",
      "metadata": {
        "colab": {
          "base_uri": "https://localhost:8080/"
        },
        "id": "jXFT-lzmZRjz",
        "outputId": "3727bed8-8d9c-4dc5-a22c-2129a4eb7066"
      },
      "source": [
        "born = age\n",
        "print(born)"
      ],
      "execution_count": null,
      "outputs": [
        {
          "output_type": "stream",
          "text": [
            "[1] 37\n"
          ],
          "name": "stdout"
        }
      ]
    },
    {
      "cell_type": "markdown",
      "metadata": {
        "id": "cCNS_q6IZZB1"
      },
      "source": [
        "変数bornに、変数ageの中身である37が代入されてしまいました。\n",
        "\n",
        "では、これはどうなるでしょう？"
      ]
    },
    {
      "cell_type": "code",
      "metadata": {
        "colab": {
          "base_uri": "https://localhost:8080/",
          "height": 68
        },
        "id": "0puXBm5hZdmY",
        "outputId": "f6daed49-2b66-49ba-923b-d9eff1cf2f41"
      },
      "source": [
        "print(age)  # こちらは数値。\n",
        "print(age2) # 引用符がついているのは、数値でなく文字列だから。\n",
        "age == age2"
      ],
      "execution_count": null,
      "outputs": [
        {
          "output_type": "stream",
          "text": [
            "[1] 37\n",
            "[1] \"37\"\n"
          ],
          "name": "stdout"
        },
        {
          "output_type": "display_data",
          "data": {
            "text/plain": [
              "[1] TRUE"
            ],
            "text/latex": "TRUE",
            "text/markdown": "TRUE",
            "text/html": [
              "TRUE"
            ]
          },
          "metadata": {
            "tags": []
          }
        }
      ]
    },
    {
      "cell_type": "markdown",
      "metadata": {
        "id": "EIZIZ3nPZl5Z"
      },
      "source": [
        "片方は数値、片方は文字列なのに、「等しい」と判定されました。これは、Rの仕様のようですが、善し悪しですね。\n",
        "\n",
        "見た目は一緒でも、型が違えば「等しくない」と厳密に判定する記号「===」が使える言語もあります。気を利かせて型を変換してしまう言語もあります。"
      ]
    },
    {
      "cell_type": "markdown",
      "metadata": {
        "id": "KVHJqUXeaXMX"
      },
      "source": [
        "### 2.4. ファンクション（関数）とは\n",
        "\n",
        "関数、という名前がものものしく、数学を連想させるせいで身構えてしまいますが、要するに「ファンクション」とは機能のことです。パソコンについている「F1」キーを「関数キー」だと思う人はいませんよね。ヘルプを表示する、という働きをひとまとめにして、このキーに対応させているだけです。ある「働き」とか「機能」「処理」だと考えて下さい。\n",
        "\n",
        "<font color = 'gray'>\n",
        "※函数や関数も名訳だし、プログラムに当てはめても、別におかしくはありませんので、アレルギーのない方は無視して下さい。\n",
        "</font>\n",
        "\n",
        "さて、Mというデータを、まずAという処理をして、次にBする場合、数学的あるいはExcel的な書き方では、こうなります。中から外へ、処理が実行されます。\n",
        "\n",
        "```\n",
        "B(A(M))\n",
        "```\n",
        "\n",
        "PythonやRでは、上の書き方も使えますが、Rで標準的なのは\n",
        "\n",
        "```\n",
        "M %>% A() %>% B()\n",
        "```\n",
        "\n",
        "です。()の中に、一つ前の結果を入れていくわけです。左から右へ読んでいけば、そのまま処理の順番になりますね。見慣れない記号は、「パイプ」といいます。RStudioを使っていれば、簡単に入力できます。\n",
        "\n",
        "```\n",
        "M %>%\n",
        "A() %>%\n",
        "B()\n",
        "```\n",
        "\n",
        "のように改行して書いてあっても、その間に注釈（人間用のメモ。PCは実行せずに飛ばします）が書いてあっても、同じように動きます。\n",
        "\n",
        "Rの場合、これまでも出てきているように、「#」から行末までが注釈として扱われます。"
      ]
    },
    {
      "cell_type": "markdown",
      "metadata": {
        "id": "VqUHa1u1bMb1"
      },
      "source": [
        "### 2.5. 拡張パッケージ\n",
        "\n",
        "本日、RやPythonを使うときに、「tidyverse」とか「pandas」という拡張パッケージを入れていました。私も、わざわざどうして？と、初めてRに触ったときは不思議でした。\n",
        "\n",
        "理由は後から分かってきたのですが、いまやこのどちらも、スプレッドシートやデータベース的なこと（データ処理や科学技術計算）をやるときには、必需品だから、です。\n",
        "\n",
        "乱暴に言えば、素のままのRやPythonを、表形式のデータを一貫した覚えやすいコードで扱えるよう、チューニングしている、ということです。今から勉強する人は、わざわざ旧式の、分かりにくい処理を覚える必要はありませんから、この２つに慣れて下さい。素のままでなくて、こちらのほうが、デファクトスタンダードです。"
      ]
    },
    {
      "cell_type": "markdown",
      "metadata": {
        "id": "8Zo8s1d4bT-X"
      },
      "source": [
        "## 3.使い始めの設定\n",
        "\n",
        "素のままのRに入っていない拡張パッケージを入れます。一度だけ`install.packages`でインストールし、あとは`library`または`require`で呼び込むのが普通の書き方です。\n",
        "\n",
        "ただし今は、Google Colab上なので、何度も読み込みが発生しないよう、ちょっと工夫しました。\n",
        "\n",
        "JSONデータの読み込みのほか、移動平均を計算したり、日付を扱ったりするためのパッケージを追加しています。"
      ]
    },
    {
      "cell_type": "code",
      "metadata": {
        "colab": {
          "base_uri": "https://localhost:8080/"
        },
        "id": "Z8DgddqybSnj",
        "outputId": "7b4cd4ea-71c7-4596-fd21-90eb5b24f3d1"
      },
      "source": [
        "# 毎回、全パッケージをインストールすると時間がかかる上、プログラムも長くなるので、工夫した書き方がこちら。特殊なので、覚える必要はない。\n",
        "# ローカルなら、インストールは一度だけ。オンラインでも、セッションが継続していたら、不要。なので……\n",
        "# pacmanパッケージが入ってなかったら、まずそれだけ入れる。この下、行番号4のコードは、「p_boot」を実行して、クリップボードから貼り付けられる。\n",
        "if (!require(\"pacman\")) install.packages(\"pacman\")\n",
        "# あとはpacmanにやらせる。ちなみに、名前は「パッケージマネージャー」の意。これを入れてもゲームはできない。\n",
        "pacman::p_load(tidyverse, jsonlite, ndjson, lubridate, RcppRoll)"
      ],
      "execution_count": null,
      "outputs": [
        {
          "output_type": "stream",
          "text": [
            "Loading required package: pacman\n",
            "\n"
          ],
          "name": "stderr"
        }
      ]
    },
    {
      "cell_type": "markdown",
      "metadata": {
        "id": "qQDahEPQcyvq"
      },
      "source": [
        "## 4.接種状況"
      ]
    },
    {
      "cell_type": "markdown",
      "metadata": {
        "id": "-Op4gGCzc0l5"
      },
      "source": [
        "### 4.1. データを読み込む\n",
        "\n",
        "ワクチン接種状況のデータを読み込みます。ここは、小宮山さんの講義の通りのやり方です。"
      ]
    },
    {
      "cell_type": "code",
      "metadata": {
        "colab": {
          "base_uri": "https://localhost:8080/",
          "height": 402
        },
        "id": "PoHQxojedOcy",
        "outputId": "13c55a1b-d39c-42f4-dd81-04215b197f79"
      },
      "source": [
        "# データのありかは以下。\n",
        "target_url_cio <- \"https://vrs-data.cio.go.jp/vaccination/opendata/latest/prefecture.ndjson\"\n",
        "# 有効なndjson形式かを確かめる。ここで使うvalidateは、ndjsonパッケージのほう。\n",
        "# 読み込みに使うjsonliteにも同名の「validate」があり、衝突するので、パッケージ名を明示する。\n",
        "ndjson::validate(target_url_cio, verbose = TRUE)\n",
        "# それを読み込む。\n",
        "cio_stream <- jsonlite::stream_in(gzcon(url(target_url_cio)))\n",
        "# 冒頭を表示して確かめる。\n",
        "head(cio_stream)"
      ],
      "execution_count": null,
      "outputs": [
        {
          "output_type": "stream",
          "text": [
            "File: https://vrs-data.cio.go.jp/vaccination/opendata/latest/prefecture.ndjson\n"
          ],
          "name": "stdout"
        },
        {
          "output_type": "display_data",
          "data": {
            "text/plain": [
              "[1] TRUE"
            ],
            "text/latex": "TRUE",
            "text/markdown": "TRUE",
            "text/html": [
              "TRUE"
            ]
          },
          "metadata": {
            "tags": []
          }
        },
        {
          "output_type": "stream",
          "text": [
            "opening gzcon input connection.\n",
            "\n"
          ],
          "name": "stderr"
        },
        {
          "output_type": "stream",
          "text": [
            "\r Found 500 records...\r Found 1000 records...\r Found 1500 records...\r Found 2000 records...\r Found 2500 records...\r Found 3000 records...\r Found 3500 records...\r Found 4000 records...\r Found 4500 records...\r Found 5000 records...\r Found 5500 records...\r Found 6000 records...\r Found 6500 records...\r Found 7000 records...\r Found 7500 records...\r Found 8000 records...\r Found 8500 records...\r Found 9000 records...\r Found 9500 records...\r Found 10000 records...\r Found 10500 records...\r Found 11000 records...\r Found 11500 records...\r Found 12000 records...\r Found 12500 records...\r Found 13000 records...\r Found 13500 records...\r Found 14000 records...\r Found 14500 records...\r Found 15000 records...\r Found 15500 records...\r Found 16000 records...\r Found 16500 records...\r Found 17000 records...\r Found 17500 records...\r Found 18000 records...\r Found 18500 records...\r Found 19000 records...\r Found 19500 records...\r Found 20000 records...\r Found 20500 records...\r Found 21000 records...\r Found 21500 records...\r Found 22000 records...\r Found 22500 records...\r Found 23000 records...\r Found 23500 records...\r Found 24000 records...\r Found 24500 records...\r Found 25000 records...\r Found 25500 records...\r Found 26000 records...\r Found 26500 records...\r Found 27000 records...\r Found 27500 records...\r Found 28000 records...\r Found 28500 records...\r Found 29000 records...\r Found 29500 records...\r Found 30000 records...\r Found 30500 records...\r Found 31000 records...\r Found 31500 records...\r Found 32000 records...\r Found 32500 records...\r Found 33000 records...\r Found 33500 records...\r Found 34000 records...\r Found 34500 records...\r Found 35000 records...\r Found 35500 records...\r Found 36000 records...\r Found 36500 records...\r Found 36723 records...\r Imported 36723 records. Simplifying...\n"
          ],
          "name": "stdout"
        },
        {
          "output_type": "stream",
          "text": [
            "closing gzcon input connection.\n",
            "\n"
          ],
          "name": "stderr"
        },
        {
          "output_type": "display_data",
          "data": {
            "text/plain": [
              "  date       prefecture gender age medical_worker status count\n",
              "1 2021-04-12 01         F      -64 FALSE          1      113  \n",
              "2 2021-04-12 01         F      65- FALSE          1       88  \n",
              "3 2021-04-12 01         M      -64 FALSE          1       39  \n",
              "4 2021-04-12 01         M      65- FALSE          1       26  \n",
              "5 2021-04-12 01         U      -64 FALSE          1       12  \n",
              "6 2021-04-12 01         U      UNK FALSE          1        1  "
            ],
            "text/latex": "A data.frame: 6 × 7\n\\begin{tabular}{r|lllllll}\n  & date & prefecture & gender & age & medical\\_worker & status & count\\\\\n  & <chr> & <chr> & <chr> & <chr> & <lgl> & <int> & <int>\\\\\n\\hline\n\t1 & 2021-04-12 & 01 & F & -64 & FALSE & 1 & 113\\\\\n\t2 & 2021-04-12 & 01 & F & 65- & FALSE & 1 &  88\\\\\n\t3 & 2021-04-12 & 01 & M & -64 & FALSE & 1 &  39\\\\\n\t4 & 2021-04-12 & 01 & M & 65- & FALSE & 1 &  26\\\\\n\t5 & 2021-04-12 & 01 & U & -64 & FALSE & 1 &  12\\\\\n\t6 & 2021-04-12 & 01 & U & UNK & FALSE & 1 &   1\\\\\n\\end{tabular}\n",
            "text/markdown": "\nA data.frame: 6 × 7\n\n| <!--/--> | date &lt;chr&gt; | prefecture &lt;chr&gt; | gender &lt;chr&gt; | age &lt;chr&gt; | medical_worker &lt;lgl&gt; | status &lt;int&gt; | count &lt;int&gt; |\n|---|---|---|---|---|---|---|---|\n| 1 | 2021-04-12 | 01 | F | -64 | FALSE | 1 | 113 |\n| 2 | 2021-04-12 | 01 | F | 65- | FALSE | 1 |  88 |\n| 3 | 2021-04-12 | 01 | M | -64 | FALSE | 1 |  39 |\n| 4 | 2021-04-12 | 01 | M | 65- | FALSE | 1 |  26 |\n| 5 | 2021-04-12 | 01 | U | -64 | FALSE | 1 |  12 |\n| 6 | 2021-04-12 | 01 | U | UNK | FALSE | 1 |   1 |\n\n",
            "text/html": [
              "<table class=\"dataframe\">\n",
              "<caption>A data.frame: 6 × 7</caption>\n",
              "<thead>\n",
              "\t<tr><th></th><th scope=col>date</th><th scope=col>prefecture</th><th scope=col>gender</th><th scope=col>age</th><th scope=col>medical_worker</th><th scope=col>status</th><th scope=col>count</th></tr>\n",
              "\t<tr><th></th><th scope=col>&lt;chr&gt;</th><th scope=col>&lt;chr&gt;</th><th scope=col>&lt;chr&gt;</th><th scope=col>&lt;chr&gt;</th><th scope=col>&lt;lgl&gt;</th><th scope=col>&lt;int&gt;</th><th scope=col>&lt;int&gt;</th></tr>\n",
              "</thead>\n",
              "<tbody>\n",
              "\t<tr><th scope=row>1</th><td>2021-04-12</td><td>01</td><td>F</td><td>-64</td><td>FALSE</td><td>1</td><td>113</td></tr>\n",
              "\t<tr><th scope=row>2</th><td>2021-04-12</td><td>01</td><td>F</td><td>65-</td><td>FALSE</td><td>1</td><td> 88</td></tr>\n",
              "\t<tr><th scope=row>3</th><td>2021-04-12</td><td>01</td><td>M</td><td>-64</td><td>FALSE</td><td>1</td><td> 39</td></tr>\n",
              "\t<tr><th scope=row>4</th><td>2021-04-12</td><td>01</td><td>M</td><td>65-</td><td>FALSE</td><td>1</td><td> 26</td></tr>\n",
              "\t<tr><th scope=row>5</th><td>2021-04-12</td><td>01</td><td>U</td><td>-64</td><td>FALSE</td><td>1</td><td> 12</td></tr>\n",
              "\t<tr><th scope=row>6</th><td>2021-04-12</td><td>01</td><td>U</td><td>UNK</td><td>FALSE</td><td>1</td><td>  1</td></tr>\n",
              "</tbody>\n",
              "</table>\n"
            ]
          },
          "metadata": {
            "tags": []
          }
        }
      ]
    },
    {
      "cell_type": "markdown",
      "metadata": {
        "id": "N8O_rn-wddcV"
      },
      "source": [
        "### 4.2. 型を変換する\n",
        "\n",
        "スプレッドシートと同様の二次元の表形式。Rにはこれが2種類あります。従来型の「data.frame」になっているので、現在の主流で使いやすい「tibble」に直します。\n",
        "\n",
        "tibbleやfata.frameには、縦のカラムは、異なる型のデータが混在してはいけない（１列全部、同じデータ型でないといけない）、という大事な制約があります。\n",
        "\n",
        "縦と横は、表計算ソフトではあまり気にしない点かもしれません。しかし、RやPythonでデータ処理をする際には、縦には型が揃っている、という点はとても重要です。対して、横に見ていくならば、ある１つのモノ・コトについてのさまざまな側面が分かる、という構造です。\n",
        "\n",
        "<font color = 'gray'>\n",
        "※底流には、タイプライター以来の横書きのカルチャーがありそうです。\n",
        "</font>\n",
        "\n",
        "型は、この上の表の見出し部分、カラム名の下に表示されています。例えば、＜chr＞は文字列型、＜lgl＞は真と偽の二値を取る論理型です。\n",
        "\n",
        "dateのカラムは、日付型に直しましょう。このデータではたまたま、年と月と日の判別ができますが、そうでないときもあるので、lubridateパッケージのymdで「年月日の順だよ」と指定しています。\n",
        "\n",
        "あと、好みの問題もありますが、何種類かの決まった値しか出てこないはずのデータは、「カテゴリー型（因子型）」にしておくと、おかしな値が入っていた場合に気づきやすくなります。「島取」や「鳥根」が紛れ込んでいた場合を考えてみて下さい。\n",
        "\n",
        "サイトにあったデータの仕様表によれば、genderやageは、今のところ3種類に分類するために使っているようです。\n",
        "\n",
        "都道府県コードも、0から始まっていますし、厳密に言えば数値（比率尺度・間隔尺度のデータ）ではありません。並び順、という意味合いはありますが、04の宮城が02の青森の2倍、ということはありません。背番号みたいなものですね。\n",
        "\n",
        "カテゴリー型は、文字列のように見えますが、Rの内部では「数字」＋「名札」です。「山田さん」という人名の文字列を、「出席番号××番」という番号と、「××番の人は山田さん」という対照表にしているのです。データに出てくるのはあるクラスの人に限られる、という状況だと、このほうが設計しやすいことがあります。\n",
        "\n",
        "見た目では文字列と区別しにくいのでご注意。Rの画面では、引用符付きの「\"山田\"」なら文字列、引用符に囲まれない「山田」ならカテゴリー型、と区別して表示されます。"
      ]
    },
    {
      "cell_type": "code",
      "metadata": {
        "colab": {
          "base_uri": "https://localhost:8080/",
          "height": 1000
        },
        "id": "A8C5oT3VeWHJ",
        "outputId": "44b0af28-3a52-454f-9387-09e3d31ecb31"
      },
      "source": [
        "# 実は二次元の表にも２種類ある。\n",
        "# 標準はdata.frameという表形式。でも、tibbleという形式のほうが何かと扱いやすいので、これに変換する。\n",
        "cio_data <- cio_stream %>%\n",
        "    as_tibble()\n",
        "# ここでいったん、結果を表示。冒頭のみ。\n",
        "head(cio_data)\n",
        "\n",
        "# 日付型に直したいカラム\n",
        "columns_to_date <- \"date\"\n",
        "# 因子型（カテゴリー型）に直したいカラム。直さずに文字列型でも、まあいい。\n",
        "columns_to_factor <- c(\"gender\", \"age\")\n",
        "# genderは（男尊女卑でなく並べ替えの練習として）、よくある男・女・不明の順にする指定を入れることも可能\n",
        "gender_levels <- c(\"M\", \"F\" ,\"U\")\n",
        "# ワクチン接種回数は整数型\n",
        "columns_to_integer <- \"count\"\n",
        "# 変な値があったら気がつくようにしたい。readrを使う。\n",
        "cio_data <- cio_data %>% \n",
        "    mutate(\n",
        "# lubridateのymdを使ったのは、とくに月と日の順番を明示的に指定するため。年は4桁になっているが、07-10が7月10日と10月7日のどちらを意味するか、を指示したほうが安全。\n",
        "    across(all_of(columns_to_date), lubridate::ymd),\n",
        "    across(all_of(columns_to_factor), as_factor),\n",
        "    across(all_of(columns_to_integer), as.integer)\n",
        "    )\n",
        "cio_data$gender <- cio_data$gender %>%\n",
        "    fct_relevel(gender_levels)\n",
        "\n",
        "# もう一度、処理結果を表示。北海道と青森の全カテゴリーを見たいので、表示を増やした。\n",
        "head(cio_data, n = 15)\n",
        "# 北海道の4月12日は合計してみると279件のようだ。青森は203。\n",
        "# 沖縄の直近のデータも見てみる。\n",
        "tail(cio_data, n = 15)\n",
        "str(cio_data)\n",
        "summary(cio_data)\n",
        "# 不要になった元データは消す\n",
        "# cio_data %>% is.na() %>% sum()\n",
        "rm(cio_stream)"
      ],
      "execution_count": null,
      "outputs": [
        {
          "output_type": "display_data",
          "data": {
            "text/plain": [
              "  date       prefecture gender age medical_worker status count\n",
              "1 2021-04-12 01         F      -64 FALSE          1      113  \n",
              "2 2021-04-12 01         F      65- FALSE          1       88  \n",
              "3 2021-04-12 01         M      -64 FALSE          1       39  \n",
              "4 2021-04-12 01         M      65- FALSE          1       26  \n",
              "5 2021-04-12 01         U      -64 FALSE          1       12  \n",
              "6 2021-04-12 01         U      UNK FALSE          1        1  "
            ],
            "text/latex": "A tibble: 6 × 7\n\\begin{tabular}{lllllll}\n date & prefecture & gender & age & medical\\_worker & status & count\\\\\n <chr> & <chr> & <chr> & <chr> & <lgl> & <int> & <int>\\\\\n\\hline\n\t 2021-04-12 & 01 & F & -64 & FALSE & 1 & 113\\\\\n\t 2021-04-12 & 01 & F & 65- & FALSE & 1 &  88\\\\\n\t 2021-04-12 & 01 & M & -64 & FALSE & 1 &  39\\\\\n\t 2021-04-12 & 01 & M & 65- & FALSE & 1 &  26\\\\\n\t 2021-04-12 & 01 & U & -64 & FALSE & 1 &  12\\\\\n\t 2021-04-12 & 01 & U & UNK & FALSE & 1 &   1\\\\\n\\end{tabular}\n",
            "text/markdown": "\nA tibble: 6 × 7\n\n| date &lt;chr&gt; | prefecture &lt;chr&gt; | gender &lt;chr&gt; | age &lt;chr&gt; | medical_worker &lt;lgl&gt; | status &lt;int&gt; | count &lt;int&gt; |\n|---|---|---|---|---|---|---|\n| 2021-04-12 | 01 | F | -64 | FALSE | 1 | 113 |\n| 2021-04-12 | 01 | F | 65- | FALSE | 1 |  88 |\n| 2021-04-12 | 01 | M | -64 | FALSE | 1 |  39 |\n| 2021-04-12 | 01 | M | 65- | FALSE | 1 |  26 |\n| 2021-04-12 | 01 | U | -64 | FALSE | 1 |  12 |\n| 2021-04-12 | 01 | U | UNK | FALSE | 1 |   1 |\n\n",
            "text/html": [
              "<table class=\"dataframe\">\n",
              "<caption>A tibble: 6 × 7</caption>\n",
              "<thead>\n",
              "\t<tr><th scope=col>date</th><th scope=col>prefecture</th><th scope=col>gender</th><th scope=col>age</th><th scope=col>medical_worker</th><th scope=col>status</th><th scope=col>count</th></tr>\n",
              "\t<tr><th scope=col>&lt;chr&gt;</th><th scope=col>&lt;chr&gt;</th><th scope=col>&lt;chr&gt;</th><th scope=col>&lt;chr&gt;</th><th scope=col>&lt;lgl&gt;</th><th scope=col>&lt;int&gt;</th><th scope=col>&lt;int&gt;</th></tr>\n",
              "</thead>\n",
              "<tbody>\n",
              "\t<tr><td>2021-04-12</td><td>01</td><td>F</td><td>-64</td><td>FALSE</td><td>1</td><td>113</td></tr>\n",
              "\t<tr><td>2021-04-12</td><td>01</td><td>F</td><td>65-</td><td>FALSE</td><td>1</td><td> 88</td></tr>\n",
              "\t<tr><td>2021-04-12</td><td>01</td><td>M</td><td>-64</td><td>FALSE</td><td>1</td><td> 39</td></tr>\n",
              "\t<tr><td>2021-04-12</td><td>01</td><td>M</td><td>65-</td><td>FALSE</td><td>1</td><td> 26</td></tr>\n",
              "\t<tr><td>2021-04-12</td><td>01</td><td>U</td><td>-64</td><td>FALSE</td><td>1</td><td> 12</td></tr>\n",
              "\t<tr><td>2021-04-12</td><td>01</td><td>U</td><td>UNK</td><td>FALSE</td><td>1</td><td>  1</td></tr>\n",
              "</tbody>\n",
              "</table>\n"
            ]
          },
          "metadata": {
            "tags": []
          }
        },
        {
          "output_type": "display_data",
          "data": {
            "text/plain": [
              "   date       prefecture gender age medical_worker status count\n",
              "1  2021-04-12 01         F      -64 FALSE          1      113  \n",
              "2  2021-04-12 01         F      65- FALSE          1       88  \n",
              "3  2021-04-12 01         M      -64 FALSE          1       39  \n",
              "4  2021-04-12 01         M      65- FALSE          1       26  \n",
              "5  2021-04-12 01         U      -64 FALSE          1       12  \n",
              "6  2021-04-12 01         U      UNK FALSE          1        1  \n",
              "7  2021-04-12 02         F      -64 FALSE          1        3  \n",
              "8  2021-04-12 02         F      65- FALSE          1      137  \n",
              "9  2021-04-12 02         M      -64 FALSE          1        2  \n",
              "10 2021-04-12 02         M      65- FALSE          1       54  \n",
              "11 2021-04-12 02         U      UNK FALSE          1        7  \n",
              "12 2021-04-12 03         F      65- FALSE          1       23  \n",
              "13 2021-04-12 03         M      65- FALSE          1       27  \n",
              "14 2021-04-12 04         F      -64 FALSE          1        1  \n",
              "15 2021-04-12 05         F      -64 FALSE          1       13  "
            ],
            "text/latex": "A tibble: 15 × 7\n\\begin{tabular}{lllllll}\n date & prefecture & gender & age & medical\\_worker & status & count\\\\\n <date> & <chr> & <fct> & <fct> & <lgl> & <int> & <int>\\\\\n\\hline\n\t 2021-04-12 & 01 & F & -64 & FALSE & 1 & 113\\\\\n\t 2021-04-12 & 01 & F & 65- & FALSE & 1 &  88\\\\\n\t 2021-04-12 & 01 & M & -64 & FALSE & 1 &  39\\\\\n\t 2021-04-12 & 01 & M & 65- & FALSE & 1 &  26\\\\\n\t 2021-04-12 & 01 & U & -64 & FALSE & 1 &  12\\\\\n\t 2021-04-12 & 01 & U & UNK & FALSE & 1 &   1\\\\\n\t 2021-04-12 & 02 & F & -64 & FALSE & 1 &   3\\\\\n\t 2021-04-12 & 02 & F & 65- & FALSE & 1 & 137\\\\\n\t 2021-04-12 & 02 & M & -64 & FALSE & 1 &   2\\\\\n\t 2021-04-12 & 02 & M & 65- & FALSE & 1 &  54\\\\\n\t 2021-04-12 & 02 & U & UNK & FALSE & 1 &   7\\\\\n\t 2021-04-12 & 03 & F & 65- & FALSE & 1 &  23\\\\\n\t 2021-04-12 & 03 & M & 65- & FALSE & 1 &  27\\\\\n\t 2021-04-12 & 04 & F & -64 & FALSE & 1 &   1\\\\\n\t 2021-04-12 & 05 & F & -64 & FALSE & 1 &  13\\\\\n\\end{tabular}\n",
            "text/markdown": "\nA tibble: 15 × 7\n\n| date &lt;date&gt; | prefecture &lt;chr&gt; | gender &lt;fct&gt; | age &lt;fct&gt; | medical_worker &lt;lgl&gt; | status &lt;int&gt; | count &lt;int&gt; |\n|---|---|---|---|---|---|---|\n| 2021-04-12 | 01 | F | -64 | FALSE | 1 | 113 |\n| 2021-04-12 | 01 | F | 65- | FALSE | 1 |  88 |\n| 2021-04-12 | 01 | M | -64 | FALSE | 1 |  39 |\n| 2021-04-12 | 01 | M | 65- | FALSE | 1 |  26 |\n| 2021-04-12 | 01 | U | -64 | FALSE | 1 |  12 |\n| 2021-04-12 | 01 | U | UNK | FALSE | 1 |   1 |\n| 2021-04-12 | 02 | F | -64 | FALSE | 1 |   3 |\n| 2021-04-12 | 02 | F | 65- | FALSE | 1 | 137 |\n| 2021-04-12 | 02 | M | -64 | FALSE | 1 |   2 |\n| 2021-04-12 | 02 | M | 65- | FALSE | 1 |  54 |\n| 2021-04-12 | 02 | U | UNK | FALSE | 1 |   7 |\n| 2021-04-12 | 03 | F | 65- | FALSE | 1 |  23 |\n| 2021-04-12 | 03 | M | 65- | FALSE | 1 |  27 |\n| 2021-04-12 | 04 | F | -64 | FALSE | 1 |   1 |\n| 2021-04-12 | 05 | F | -64 | FALSE | 1 |  13 |\n\n",
            "text/html": [
              "<table class=\"dataframe\">\n",
              "<caption>A tibble: 15 × 7</caption>\n",
              "<thead>\n",
              "\t<tr><th scope=col>date</th><th scope=col>prefecture</th><th scope=col>gender</th><th scope=col>age</th><th scope=col>medical_worker</th><th scope=col>status</th><th scope=col>count</th></tr>\n",
              "\t<tr><th scope=col>&lt;date&gt;</th><th scope=col>&lt;chr&gt;</th><th scope=col>&lt;fct&gt;</th><th scope=col>&lt;fct&gt;</th><th scope=col>&lt;lgl&gt;</th><th scope=col>&lt;int&gt;</th><th scope=col>&lt;int&gt;</th></tr>\n",
              "</thead>\n",
              "<tbody>\n",
              "\t<tr><td>2021-04-12</td><td>01</td><td>F</td><td>-64</td><td>FALSE</td><td>1</td><td>113</td></tr>\n",
              "\t<tr><td>2021-04-12</td><td>01</td><td>F</td><td>65-</td><td>FALSE</td><td>1</td><td> 88</td></tr>\n",
              "\t<tr><td>2021-04-12</td><td>01</td><td>M</td><td>-64</td><td>FALSE</td><td>1</td><td> 39</td></tr>\n",
              "\t<tr><td>2021-04-12</td><td>01</td><td>M</td><td>65-</td><td>FALSE</td><td>1</td><td> 26</td></tr>\n",
              "\t<tr><td>2021-04-12</td><td>01</td><td>U</td><td>-64</td><td>FALSE</td><td>1</td><td> 12</td></tr>\n",
              "\t<tr><td>2021-04-12</td><td>01</td><td>U</td><td>UNK</td><td>FALSE</td><td>1</td><td>  1</td></tr>\n",
              "\t<tr><td>2021-04-12</td><td>02</td><td>F</td><td>-64</td><td>FALSE</td><td>1</td><td>  3</td></tr>\n",
              "\t<tr><td>2021-04-12</td><td>02</td><td>F</td><td>65-</td><td>FALSE</td><td>1</td><td>137</td></tr>\n",
              "\t<tr><td>2021-04-12</td><td>02</td><td>M</td><td>-64</td><td>FALSE</td><td>1</td><td>  2</td></tr>\n",
              "\t<tr><td>2021-04-12</td><td>02</td><td>M</td><td>65-</td><td>FALSE</td><td>1</td><td> 54</td></tr>\n",
              "\t<tr><td>2021-04-12</td><td>02</td><td>U</td><td>UNK</td><td>FALSE</td><td>1</td><td>  7</td></tr>\n",
              "\t<tr><td>2021-04-12</td><td>03</td><td>F</td><td>65-</td><td>FALSE</td><td>1</td><td> 23</td></tr>\n",
              "\t<tr><td>2021-04-12</td><td>03</td><td>M</td><td>65-</td><td>FALSE</td><td>1</td><td> 27</td></tr>\n",
              "\t<tr><td>2021-04-12</td><td>04</td><td>F</td><td>-64</td><td>FALSE</td><td>1</td><td>  1</td></tr>\n",
              "\t<tr><td>2021-04-12</td><td>05</td><td>F</td><td>-64</td><td>FALSE</td><td>1</td><td> 13</td></tr>\n",
              "</tbody>\n",
              "</table>\n"
            ]
          },
          "metadata": {
            "tags": []
          }
        },
        {
          "output_type": "display_data",
          "data": {
            "text/plain": [
              "   date       prefecture gender age medical_worker status count\n",
              "1  2021-07-12 46         M      -64 FALSE          2       102 \n",
              "2  2021-07-12 46         M      65- FALSE          1       739 \n",
              "3  2021-07-12 46         M      65- FALSE          2      1877 \n",
              "4  2021-07-12 46         U      UNK FALSE          1         5 \n",
              "5  2021-07-12 46         U      UNK FALSE          2         4 \n",
              "6  2021-07-12 47         F      -64 FALSE          1       886 \n",
              "7  2021-07-12 47         F      -64 FALSE          2       143 \n",
              "8  2021-07-12 47         F      65- FALSE          1       419 \n",
              "9  2021-07-12 47         F      65- FALSE          2      1440 \n",
              "10 2021-07-12 47         M      -64 FALSE          1      1168 \n",
              "11 2021-07-12 47         M      -64 FALSE          2       138 \n",
              "12 2021-07-12 47         M      65- FALSE          1       314 \n",
              "13 2021-07-12 47         M      65- FALSE          2      1113 \n",
              "14 2021-07-12 47         U      UNK FALSE          1        23 \n",
              "15 2021-07-12 47         U      UNK FALSE          2         3 "
            ],
            "text/latex": "A tibble: 15 × 7\n\\begin{tabular}{lllllll}\n date & prefecture & gender & age & medical\\_worker & status & count\\\\\n <date> & <chr> & <fct> & <fct> & <lgl> & <int> & <int>\\\\\n\\hline\n\t 2021-07-12 & 46 & M & -64 & FALSE & 2 &  102\\\\\n\t 2021-07-12 & 46 & M & 65- & FALSE & 1 &  739\\\\\n\t 2021-07-12 & 46 & M & 65- & FALSE & 2 & 1877\\\\\n\t 2021-07-12 & 46 & U & UNK & FALSE & 1 &    5\\\\\n\t 2021-07-12 & 46 & U & UNK & FALSE & 2 &    4\\\\\n\t 2021-07-12 & 47 & F & -64 & FALSE & 1 &  886\\\\\n\t 2021-07-12 & 47 & F & -64 & FALSE & 2 &  143\\\\\n\t 2021-07-12 & 47 & F & 65- & FALSE & 1 &  419\\\\\n\t 2021-07-12 & 47 & F & 65- & FALSE & 2 & 1440\\\\\n\t 2021-07-12 & 47 & M & -64 & FALSE & 1 & 1168\\\\\n\t 2021-07-12 & 47 & M & -64 & FALSE & 2 &  138\\\\\n\t 2021-07-12 & 47 & M & 65- & FALSE & 1 &  314\\\\\n\t 2021-07-12 & 47 & M & 65- & FALSE & 2 & 1113\\\\\n\t 2021-07-12 & 47 & U & UNK & FALSE & 1 &   23\\\\\n\t 2021-07-12 & 47 & U & UNK & FALSE & 2 &    3\\\\\n\\end{tabular}\n",
            "text/markdown": "\nA tibble: 15 × 7\n\n| date &lt;date&gt; | prefecture &lt;chr&gt; | gender &lt;fct&gt; | age &lt;fct&gt; | medical_worker &lt;lgl&gt; | status &lt;int&gt; | count &lt;int&gt; |\n|---|---|---|---|---|---|---|\n| 2021-07-12 | 46 | M | -64 | FALSE | 2 |  102 |\n| 2021-07-12 | 46 | M | 65- | FALSE | 1 |  739 |\n| 2021-07-12 | 46 | M | 65- | FALSE | 2 | 1877 |\n| 2021-07-12 | 46 | U | UNK | FALSE | 1 |    5 |\n| 2021-07-12 | 46 | U | UNK | FALSE | 2 |    4 |\n| 2021-07-12 | 47 | F | -64 | FALSE | 1 |  886 |\n| 2021-07-12 | 47 | F | -64 | FALSE | 2 |  143 |\n| 2021-07-12 | 47 | F | 65- | FALSE | 1 |  419 |\n| 2021-07-12 | 47 | F | 65- | FALSE | 2 | 1440 |\n| 2021-07-12 | 47 | M | -64 | FALSE | 1 | 1168 |\n| 2021-07-12 | 47 | M | -64 | FALSE | 2 |  138 |\n| 2021-07-12 | 47 | M | 65- | FALSE | 1 |  314 |\n| 2021-07-12 | 47 | M | 65- | FALSE | 2 | 1113 |\n| 2021-07-12 | 47 | U | UNK | FALSE | 1 |   23 |\n| 2021-07-12 | 47 | U | UNK | FALSE | 2 |    3 |\n\n",
            "text/html": [
              "<table class=\"dataframe\">\n",
              "<caption>A tibble: 15 × 7</caption>\n",
              "<thead>\n",
              "\t<tr><th scope=col>date</th><th scope=col>prefecture</th><th scope=col>gender</th><th scope=col>age</th><th scope=col>medical_worker</th><th scope=col>status</th><th scope=col>count</th></tr>\n",
              "\t<tr><th scope=col>&lt;date&gt;</th><th scope=col>&lt;chr&gt;</th><th scope=col>&lt;fct&gt;</th><th scope=col>&lt;fct&gt;</th><th scope=col>&lt;lgl&gt;</th><th scope=col>&lt;int&gt;</th><th scope=col>&lt;int&gt;</th></tr>\n",
              "</thead>\n",
              "<tbody>\n",
              "\t<tr><td>2021-07-12</td><td>46</td><td>M</td><td>-64</td><td>FALSE</td><td>2</td><td> 102</td></tr>\n",
              "\t<tr><td>2021-07-12</td><td>46</td><td>M</td><td>65-</td><td>FALSE</td><td>1</td><td> 739</td></tr>\n",
              "\t<tr><td>2021-07-12</td><td>46</td><td>M</td><td>65-</td><td>FALSE</td><td>2</td><td>1877</td></tr>\n",
              "\t<tr><td>2021-07-12</td><td>46</td><td>U</td><td>UNK</td><td>FALSE</td><td>1</td><td>   5</td></tr>\n",
              "\t<tr><td>2021-07-12</td><td>46</td><td>U</td><td>UNK</td><td>FALSE</td><td>2</td><td>   4</td></tr>\n",
              "\t<tr><td>2021-07-12</td><td>47</td><td>F</td><td>-64</td><td>FALSE</td><td>1</td><td> 886</td></tr>\n",
              "\t<tr><td>2021-07-12</td><td>47</td><td>F</td><td>-64</td><td>FALSE</td><td>2</td><td> 143</td></tr>\n",
              "\t<tr><td>2021-07-12</td><td>47</td><td>F</td><td>65-</td><td>FALSE</td><td>1</td><td> 419</td></tr>\n",
              "\t<tr><td>2021-07-12</td><td>47</td><td>F</td><td>65-</td><td>FALSE</td><td>2</td><td>1440</td></tr>\n",
              "\t<tr><td>2021-07-12</td><td>47</td><td>M</td><td>-64</td><td>FALSE</td><td>1</td><td>1168</td></tr>\n",
              "\t<tr><td>2021-07-12</td><td>47</td><td>M</td><td>-64</td><td>FALSE</td><td>2</td><td> 138</td></tr>\n",
              "\t<tr><td>2021-07-12</td><td>47</td><td>M</td><td>65-</td><td>FALSE</td><td>1</td><td> 314</td></tr>\n",
              "\t<tr><td>2021-07-12</td><td>47</td><td>M</td><td>65-</td><td>FALSE</td><td>2</td><td>1113</td></tr>\n",
              "\t<tr><td>2021-07-12</td><td>47</td><td>U</td><td>UNK</td><td>FALSE</td><td>1</td><td>  23</td></tr>\n",
              "\t<tr><td>2021-07-12</td><td>47</td><td>U</td><td>UNK</td><td>FALSE</td><td>2</td><td>   3</td></tr>\n",
              "</tbody>\n",
              "</table>\n"
            ]
          },
          "metadata": {
            "tags": []
          }
        },
        {
          "output_type": "stream",
          "text": [
            "tibble [36,723 × 7] (S3: tbl_df/tbl/data.frame)\n",
            " $ date          : Date[1:36723], format: \"2021-04-12\" \"2021-04-12\" ...\n",
            " $ prefecture    : chr [1:36723] \"01\" \"01\" \"01\" \"01\" ...\n",
            " $ gender        : Factor w/ 3 levels \"M\",\"F\",\"U\": 2 2 1 1 3 3 2 2 1 1 ...\n",
            " $ age           : Factor w/ 3 levels \"-64\",\"65-\",\"UNK\": 1 2 1 2 1 3 1 2 1 2 ...\n",
            " $ medical_worker: logi [1:36723] FALSE FALSE FALSE FALSE FALSE FALSE ...\n",
            " $ status        : int [1:36723] 1 1 1 1 1 1 1 1 1 1 ...\n",
            " $ count         : int [1:36723] 113 88 39 26 12 1 3 137 2 54 ...\n"
          ],
          "name": "stdout"
        },
        {
          "output_type": "display_data",
          "data": {
            "text/plain": [
              "      date             prefecture        gender     age        medical_worker \n",
              " Min.   :2021-04-12   Length:36723       M:14690   -64:14703   Mode :logical  \n",
              " 1st Qu.:2021-05-15   Class :character   F:14797   65-:15254   FALSE:36723    \n",
              " Median :2021-06-04   Mode  :character   U: 7236   UNK: 6766                  \n",
              " Mean   :2021-06-02                                                           \n",
              " 3rd Qu.:2021-06-23                                                           \n",
              " Max.   :2021-07-12                                                           \n",
              "     status          count      \n",
              " Min.   :1.000   Min.   :    1  \n",
              " 1st Qu.:1.000   1st Qu.:   27  \n",
              " Median :1.000   Median :  156  \n",
              " Mean   :1.424   Mean   : 1373  \n",
              " 3rd Qu.:2.000   3rd Qu.: 1186  \n",
              " Max.   :2.000   Max.   :36412  "
            ]
          },
          "metadata": {
            "tags": []
          }
        }
      ]
    },
    {
      "cell_type": "markdown",
      "metadata": {
        "id": "LpW6oCFglhfQ"
      },
      "source": [
        "### 4.3. カテゴリー別の数字を合算する\n",
        "ワクチン接種状況の数字は、その日その日のカテゴリー別です。年齢・性別・医療従事者かどうかに関わらず、合算することにしましょう。\n",
        "\n",
        "現時点では、医療従事者フラグは準備されているだけです。でも、将来的には入手可能になることも見越したデータ構造にしてくれているのが、嬉しいですね。製造元の欄も確保されていれば、なおよいのだけれどなあ。\n",
        "\n",
        "さて、合算は、このままではやりにくいので、縦長の表から横長の表にいったん変換します。ある県のある日の分が横に並ぶようにして、その合計を計算したカラムを新しく作ります。さらに後ほど、その日までの累計も計算します。\n",
        "\n",
        "縦横変換しなくても、やり方次第で、県ごとにある日の分を合計することは可能です。ただ、将来的にstatusや医療従事者フラグによって重み付けを変えて計算したい場合には、横持ちの表にしておいたほうが対応しやすそうなので、この方法を選択しました。"
      ]
    },
    {
      "cell_type": "code",
      "metadata": {
        "colab": {
          "base_uri": "https://localhost:8080/",
          "height": 1000
        },
        "id": "9rntAHkGmhxg",
        "outputId": "4605eaf2-845a-4c89-a8ee-2335d92e381b"
      },
      "source": [
        "cio_wide <- cio_data %>%\n",
        "# 属性別の接種回数をひとつにまとめる準備。\n",
        "    select(date, prefecture, status, everything()) %>% \n",
        "# 縦持ちから、横持ちに変形する。\n",
        "    pivot_wider(\n",
        "        names_from = status:medical_worker,\n",
        "        values_from = count\n",
        "    )\n",
        "# こんな表になった\n",
        "head(cio_wide)\n",
        "\n",
        "# ある県の１日あたりの接種を合算。１回目か２回目か、１回で完了かは区別せずに単純合算。\n",
        "vaccinations <- cio_wide %>% \n",
        "    transmute(\n",
        "# date,prefectureのカラムはそのまま残す。\n",
        "        date,\n",
        "        prefecture,\n",
        "# ステータスで区分して集計するために、以下の２行を追加した。\n",
        "        status1 = select(., starts_with(\"1\")) %>% rowSums(na.rm = TRUE),\n",
        "        status2 = select(., starts_with(\"2\")) %>% rowSums(na.rm = TRUE),\n",
        "# 各カテゴリーの接種回数を合算したカラムも作る。\n",
        "        status_all  = select(., contains(\"_\")) %>% rowSums(na.rm = TRUE)\n",
        "    )\n",
        "\n",
        "# ここで結果を見てみる。初日の北海道は279件、青森県は203件。\n",
        "head(vaccinations)\n",
        "# 沖縄の直近の日付も合っているようだ。\n",
        "tail(vaccinations)\n",
        "summary(vaccinations)\n",
        "\n",
        "# 不要なデータを消す。\n",
        "rm(cio_data, cio_wide)"
      ],
      "execution_count": null,
      "outputs": [
        {
          "output_type": "display_data",
          "data": {
            "text/plain": [
              "  date       prefecture 1_F_-64_FALSE 1_F_65-_FALSE 1_M_-64_FALSE 1_M_65-_FALSE\n",
              "1 2021-04-12 01         113            88           39            26           \n",
              "2 2021-04-12 02           3           137            2            54           \n",
              "3 2021-04-12 03          NA            23           NA            27           \n",
              "4 2021-04-12 04           1            NA           NA            NA           \n",
              "5 2021-04-12 05          13             4            3            NA           \n",
              "6 2021-04-12 06          10            23            3            17           \n",
              "  1_U_-64_FALSE 1_U_UNK_FALSE 1_U_65-_FALSE 1_F_UNK_FALSE 2_F_65-_FALSE\n",
              "1 12             1            NA            NA            NA           \n",
              "2 NA             7            NA            NA            NA           \n",
              "3 NA            NA            NA            NA            NA           \n",
              "4 NA            NA            NA            NA            NA           \n",
              "5 NA            NA            NA            NA            NA           \n",
              "6 NA             1            NA            NA            NA           \n",
              "  2_M_65-_FALSE 2_F_-64_FALSE 2_M_-64_FALSE 2_U_UNK_FALSE 2_U_65-_FALSE\n",
              "1 NA            NA            NA            NA            NA           \n",
              "2 NA            NA            NA            NA            NA           \n",
              "3 NA            NA            NA            NA            NA           \n",
              "4 NA            NA            NA            NA            NA           \n",
              "5 NA            NA            NA            NA            NA           \n",
              "6 NA            NA            NA            NA            NA           \n",
              "  2_U_-64_FALSE 2_F_UNK_FALSE 1_M_UNK_FALSE 2_M_UNK_FALSE\n",
              "1 NA            NA            NA            NA           \n",
              "2 NA            NA            NA            NA           \n",
              "3 NA            NA            NA            NA           \n",
              "4 NA            NA            NA            NA           \n",
              "5 NA            NA            NA            NA           \n",
              "6 NA            NA            NA            NA           "
            ],
            "text/latex": "A tibble: 6 × 20\n\\begin{tabular}{llllllllllllllllllll}\n date & prefecture & 1\\_F\\_-64\\_FALSE & 1\\_F\\_65-\\_FALSE & 1\\_M\\_-64\\_FALSE & 1\\_M\\_65-\\_FALSE & 1\\_U\\_-64\\_FALSE & 1\\_U\\_UNK\\_FALSE & 1\\_U\\_65-\\_FALSE & 1\\_F\\_UNK\\_FALSE & 2\\_F\\_65-\\_FALSE & 2\\_M\\_65-\\_FALSE & 2\\_F\\_-64\\_FALSE & 2\\_M\\_-64\\_FALSE & 2\\_U\\_UNK\\_FALSE & 2\\_U\\_65-\\_FALSE & 2\\_U\\_-64\\_FALSE & 2\\_F\\_UNK\\_FALSE & 1\\_M\\_UNK\\_FALSE & 2\\_M\\_UNK\\_FALSE\\\\\n <date> & <chr> & <int> & <int> & <int> & <int> & <int> & <int> & <int> & <int> & <int> & <int> & <int> & <int> & <int> & <int> & <int> & <int> & <int> & <int>\\\\\n\\hline\n\t 2021-04-12 & 01 & 113 &  88 & 39 & 26 & 12 &  1 & NA & NA & NA & NA & NA & NA & NA & NA & NA & NA & NA & NA\\\\\n\t 2021-04-12 & 02 &   3 & 137 &  2 & 54 & NA &  7 & NA & NA & NA & NA & NA & NA & NA & NA & NA & NA & NA & NA\\\\\n\t 2021-04-12 & 03 &  NA &  23 & NA & 27 & NA & NA & NA & NA & NA & NA & NA & NA & NA & NA & NA & NA & NA & NA\\\\\n\t 2021-04-12 & 04 &   1 &  NA & NA & NA & NA & NA & NA & NA & NA & NA & NA & NA & NA & NA & NA & NA & NA & NA\\\\\n\t 2021-04-12 & 05 &  13 &   4 &  3 & NA & NA & NA & NA & NA & NA & NA & NA & NA & NA & NA & NA & NA & NA & NA\\\\\n\t 2021-04-12 & 06 &  10 &  23 &  3 & 17 & NA &  1 & NA & NA & NA & NA & NA & NA & NA & NA & NA & NA & NA & NA\\\\\n\\end{tabular}\n",
            "text/markdown": "\nA tibble: 6 × 20\n\n| date &lt;date&gt; | prefecture &lt;chr&gt; | 1_F_-64_FALSE &lt;int&gt; | 1_F_65-_FALSE &lt;int&gt; | 1_M_-64_FALSE &lt;int&gt; | 1_M_65-_FALSE &lt;int&gt; | 1_U_-64_FALSE &lt;int&gt; | 1_U_UNK_FALSE &lt;int&gt; | 1_U_65-_FALSE &lt;int&gt; | 1_F_UNK_FALSE &lt;int&gt; | 2_F_65-_FALSE &lt;int&gt; | 2_M_65-_FALSE &lt;int&gt; | 2_F_-64_FALSE &lt;int&gt; | 2_M_-64_FALSE &lt;int&gt; | 2_U_UNK_FALSE &lt;int&gt; | 2_U_65-_FALSE &lt;int&gt; | 2_U_-64_FALSE &lt;int&gt; | 2_F_UNK_FALSE &lt;int&gt; | 1_M_UNK_FALSE &lt;int&gt; | 2_M_UNK_FALSE &lt;int&gt; |\n|---|---|---|---|---|---|---|---|---|---|---|---|---|---|---|---|---|---|---|---|\n| 2021-04-12 | 01 | 113 |  88 | 39 | 26 | 12 |  1 | NA | NA | NA | NA | NA | NA | NA | NA | NA | NA | NA | NA |\n| 2021-04-12 | 02 |   3 | 137 |  2 | 54 | NA |  7 | NA | NA | NA | NA | NA | NA | NA | NA | NA | NA | NA | NA |\n| 2021-04-12 | 03 |  NA |  23 | NA | 27 | NA | NA | NA | NA | NA | NA | NA | NA | NA | NA | NA | NA | NA | NA |\n| 2021-04-12 | 04 |   1 |  NA | NA | NA | NA | NA | NA | NA | NA | NA | NA | NA | NA | NA | NA | NA | NA | NA |\n| 2021-04-12 | 05 |  13 |   4 |  3 | NA | NA | NA | NA | NA | NA | NA | NA | NA | NA | NA | NA | NA | NA | NA |\n| 2021-04-12 | 06 |  10 |  23 |  3 | 17 | NA |  1 | NA | NA | NA | NA | NA | NA | NA | NA | NA | NA | NA | NA |\n\n",
            "text/html": [
              "<table class=\"dataframe\">\n",
              "<caption>A tibble: 6 × 20</caption>\n",
              "<thead>\n",
              "\t<tr><th scope=col>date</th><th scope=col>prefecture</th><th scope=col>1_F_-64_FALSE</th><th scope=col>1_F_65-_FALSE</th><th scope=col>1_M_-64_FALSE</th><th scope=col>1_M_65-_FALSE</th><th scope=col>1_U_-64_FALSE</th><th scope=col>1_U_UNK_FALSE</th><th scope=col>1_U_65-_FALSE</th><th scope=col>1_F_UNK_FALSE</th><th scope=col>2_F_65-_FALSE</th><th scope=col>2_M_65-_FALSE</th><th scope=col>2_F_-64_FALSE</th><th scope=col>2_M_-64_FALSE</th><th scope=col>2_U_UNK_FALSE</th><th scope=col>2_U_65-_FALSE</th><th scope=col>2_U_-64_FALSE</th><th scope=col>2_F_UNK_FALSE</th><th scope=col>1_M_UNK_FALSE</th><th scope=col>2_M_UNK_FALSE</th></tr>\n",
              "\t<tr><th scope=col>&lt;date&gt;</th><th scope=col>&lt;chr&gt;</th><th scope=col>&lt;int&gt;</th><th scope=col>&lt;int&gt;</th><th scope=col>&lt;int&gt;</th><th scope=col>&lt;int&gt;</th><th scope=col>&lt;int&gt;</th><th scope=col>&lt;int&gt;</th><th scope=col>&lt;int&gt;</th><th scope=col>&lt;int&gt;</th><th scope=col>&lt;int&gt;</th><th scope=col>&lt;int&gt;</th><th scope=col>&lt;int&gt;</th><th scope=col>&lt;int&gt;</th><th scope=col>&lt;int&gt;</th><th scope=col>&lt;int&gt;</th><th scope=col>&lt;int&gt;</th><th scope=col>&lt;int&gt;</th><th scope=col>&lt;int&gt;</th><th scope=col>&lt;int&gt;</th></tr>\n",
              "</thead>\n",
              "<tbody>\n",
              "\t<tr><td>2021-04-12</td><td>01</td><td>113</td><td> 88</td><td>39</td><td>26</td><td>12</td><td> 1</td><td>NA</td><td>NA</td><td>NA</td><td>NA</td><td>NA</td><td>NA</td><td>NA</td><td>NA</td><td>NA</td><td>NA</td><td>NA</td><td>NA</td></tr>\n",
              "\t<tr><td>2021-04-12</td><td>02</td><td>  3</td><td>137</td><td> 2</td><td>54</td><td>NA</td><td> 7</td><td>NA</td><td>NA</td><td>NA</td><td>NA</td><td>NA</td><td>NA</td><td>NA</td><td>NA</td><td>NA</td><td>NA</td><td>NA</td><td>NA</td></tr>\n",
              "\t<tr><td>2021-04-12</td><td>03</td><td> NA</td><td> 23</td><td>NA</td><td>27</td><td>NA</td><td>NA</td><td>NA</td><td>NA</td><td>NA</td><td>NA</td><td>NA</td><td>NA</td><td>NA</td><td>NA</td><td>NA</td><td>NA</td><td>NA</td><td>NA</td></tr>\n",
              "\t<tr><td>2021-04-12</td><td>04</td><td>  1</td><td> NA</td><td>NA</td><td>NA</td><td>NA</td><td>NA</td><td>NA</td><td>NA</td><td>NA</td><td>NA</td><td>NA</td><td>NA</td><td>NA</td><td>NA</td><td>NA</td><td>NA</td><td>NA</td><td>NA</td></tr>\n",
              "\t<tr><td>2021-04-12</td><td>05</td><td> 13</td><td>  4</td><td> 3</td><td>NA</td><td>NA</td><td>NA</td><td>NA</td><td>NA</td><td>NA</td><td>NA</td><td>NA</td><td>NA</td><td>NA</td><td>NA</td><td>NA</td><td>NA</td><td>NA</td><td>NA</td></tr>\n",
              "\t<tr><td>2021-04-12</td><td>06</td><td> 10</td><td> 23</td><td> 3</td><td>17</td><td>NA</td><td> 1</td><td>NA</td><td>NA</td><td>NA</td><td>NA</td><td>NA</td><td>NA</td><td>NA</td><td>NA</td><td>NA</td><td>NA</td><td>NA</td><td>NA</td></tr>\n",
              "</tbody>\n",
              "</table>\n"
            ]
          },
          "metadata": {
            "tags": []
          }
        },
        {
          "output_type": "display_data",
          "data": {
            "text/plain": [
              "  date       prefecture status1 status2 status_all\n",
              "1 2021-04-12 01         279     0       279       \n",
              "2 2021-04-12 02         203     0       203       \n",
              "3 2021-04-12 03          50     0        50       \n",
              "4 2021-04-12 04           1     0         1       \n",
              "5 2021-04-12 05          20     0        20       \n",
              "6 2021-04-12 06          54     0        54       "
            ],
            "text/latex": "A tibble: 6 × 5\n\\begin{tabular}{lllll}\n date & prefecture & status1 & status2 & status\\_all\\\\\n <date> & <chr> & <dbl> & <dbl> & <dbl>\\\\\n\\hline\n\t 2021-04-12 & 01 & 279 & 0 & 279\\\\\n\t 2021-04-12 & 02 & 203 & 0 & 203\\\\\n\t 2021-04-12 & 03 &  50 & 0 &  50\\\\\n\t 2021-04-12 & 04 &   1 & 0 &   1\\\\\n\t 2021-04-12 & 05 &  20 & 0 &  20\\\\\n\t 2021-04-12 & 06 &  54 & 0 &  54\\\\\n\\end{tabular}\n",
            "text/markdown": "\nA tibble: 6 × 5\n\n| date &lt;date&gt; | prefecture &lt;chr&gt; | status1 &lt;dbl&gt; | status2 &lt;dbl&gt; | status_all &lt;dbl&gt; |\n|---|---|---|---|---|\n| 2021-04-12 | 01 | 279 | 0 | 279 |\n| 2021-04-12 | 02 | 203 | 0 | 203 |\n| 2021-04-12 | 03 |  50 | 0 |  50 |\n| 2021-04-12 | 04 |   1 | 0 |   1 |\n| 2021-04-12 | 05 |  20 | 0 |  20 |\n| 2021-04-12 | 06 |  54 | 0 |  54 |\n\n",
            "text/html": [
              "<table class=\"dataframe\">\n",
              "<caption>A tibble: 6 × 5</caption>\n",
              "<thead>\n",
              "\t<tr><th scope=col>date</th><th scope=col>prefecture</th><th scope=col>status1</th><th scope=col>status2</th><th scope=col>status_all</th></tr>\n",
              "\t<tr><th scope=col>&lt;date&gt;</th><th scope=col>&lt;chr&gt;</th><th scope=col>&lt;dbl&gt;</th><th scope=col>&lt;dbl&gt;</th><th scope=col>&lt;dbl&gt;</th></tr>\n",
              "</thead>\n",
              "<tbody>\n",
              "\t<tr><td>2021-04-12</td><td>01</td><td>279</td><td>0</td><td>279</td></tr>\n",
              "\t<tr><td>2021-04-12</td><td>02</td><td>203</td><td>0</td><td>203</td></tr>\n",
              "\t<tr><td>2021-04-12</td><td>03</td><td> 50</td><td>0</td><td> 50</td></tr>\n",
              "\t<tr><td>2021-04-12</td><td>04</td><td>  1</td><td>0</td><td>  1</td></tr>\n",
              "\t<tr><td>2021-04-12</td><td>05</td><td> 20</td><td>0</td><td> 20</td></tr>\n",
              "\t<tr><td>2021-04-12</td><td>06</td><td> 54</td><td>0</td><td> 54</td></tr>\n",
              "</tbody>\n",
              "</table>\n"
            ]
          },
          "metadata": {
            "tags": []
          }
        },
        {
          "output_type": "display_data",
          "data": {
            "text/plain": [
              "  date       prefecture status1 status2 status_all\n",
              "1 2021-07-12 42         2299    2813    5112      \n",
              "2 2021-07-12 43         3624    5679    9303      \n",
              "3 2021-07-12 44         2415    1962    4377      \n",
              "4 2021-07-12 45         3301    3892    7193      \n",
              "5 2021-07-12 46         3509    4395    7904      \n",
              "6 2021-07-12 47         2810    2837    5647      "
            ],
            "text/latex": "A tibble: 6 × 5\n\\begin{tabular}{lllll}\n date & prefecture & status1 & status2 & status\\_all\\\\\n <date> & <chr> & <dbl> & <dbl> & <dbl>\\\\\n\\hline\n\t 2021-07-12 & 42 & 2299 & 2813 & 5112\\\\\n\t 2021-07-12 & 43 & 3624 & 5679 & 9303\\\\\n\t 2021-07-12 & 44 & 2415 & 1962 & 4377\\\\\n\t 2021-07-12 & 45 & 3301 & 3892 & 7193\\\\\n\t 2021-07-12 & 46 & 3509 & 4395 & 7904\\\\\n\t 2021-07-12 & 47 & 2810 & 2837 & 5647\\\\\n\\end{tabular}\n",
            "text/markdown": "\nA tibble: 6 × 5\n\n| date &lt;date&gt; | prefecture &lt;chr&gt; | status1 &lt;dbl&gt; | status2 &lt;dbl&gt; | status_all &lt;dbl&gt; |\n|---|---|---|---|---|\n| 2021-07-12 | 42 | 2299 | 2813 | 5112 |\n| 2021-07-12 | 43 | 3624 | 5679 | 9303 |\n| 2021-07-12 | 44 | 2415 | 1962 | 4377 |\n| 2021-07-12 | 45 | 3301 | 3892 | 7193 |\n| 2021-07-12 | 46 | 3509 | 4395 | 7904 |\n| 2021-07-12 | 47 | 2810 | 2837 | 5647 |\n\n",
            "text/html": [
              "<table class=\"dataframe\">\n",
              "<caption>A tibble: 6 × 5</caption>\n",
              "<thead>\n",
              "\t<tr><th scope=col>date</th><th scope=col>prefecture</th><th scope=col>status1</th><th scope=col>status2</th><th scope=col>status_all</th></tr>\n",
              "\t<tr><th scope=col>&lt;date&gt;</th><th scope=col>&lt;chr&gt;</th><th scope=col>&lt;dbl&gt;</th><th scope=col>&lt;dbl&gt;</th><th scope=col>&lt;dbl&gt;</th></tr>\n",
              "</thead>\n",
              "<tbody>\n",
              "\t<tr><td>2021-07-12</td><td>42</td><td>2299</td><td>2813</td><td>5112</td></tr>\n",
              "\t<tr><td>2021-07-12</td><td>43</td><td>3624</td><td>5679</td><td>9303</td></tr>\n",
              "\t<tr><td>2021-07-12</td><td>44</td><td>2415</td><td>1962</td><td>4377</td></tr>\n",
              "\t<tr><td>2021-07-12</td><td>45</td><td>3301</td><td>3892</td><td>7193</td></tr>\n",
              "\t<tr><td>2021-07-12</td><td>46</td><td>3509</td><td>4395</td><td>7904</td></tr>\n",
              "\t<tr><td>2021-07-12</td><td>47</td><td>2810</td><td>2837</td><td>5647</td></tr>\n",
              "</tbody>\n",
              "</table>\n"
            ]
          },
          "metadata": {
            "tags": []
          }
        },
        {
          "output_type": "display_data",
          "data": {
            "text/plain": [
              "      date             prefecture           status1         status2     \n",
              " Min.   :2021-04-12   Length:4289        Min.   :    0   Min.   :    0  \n",
              " 1st Qu.:2021-05-05   Class :character   1st Qu.: 1077   1st Qu.:    4  \n",
              " Median :2021-05-28   Mode  :character   Median : 4158   Median : 1045  \n",
              " Mean   :2021-05-27                      Mean   : 7521   Mean   : 4232  \n",
              " 3rd Qu.:2021-06-20                      3rd Qu.: 8873   3rd Qu.: 5037  \n",
              " Max.   :2021-07-12                      Max.   :66470   Max.   :65350  \n",
              "   status_all    \n",
              " Min.   :     1  \n",
              " 1st Qu.:  1179  \n",
              " Median :  6368  \n",
              " Mean   : 11752  \n",
              " 3rd Qu.: 13938  \n",
              " Max.   :122068  "
            ]
          },
          "metadata": {
            "tags": []
          }
        }
      ]
    },
    {
      "cell_type": "markdown",
      "metadata": {
        "id": "JzfsOaAVncOt"
      },
      "source": [
        "### 4.4. 全国計を計算する\n",
        "全国計は、接種件数の場合は別にデータがあるわけではなく、各都道府県の数字を合算すればよさそうです。感染者数とは違い、客船のようなケースはないからでしょうか。\n",
        "\n",
        "<font color = \"gray\">\n",
        "大規模接種の場合も、きちんと居住地に振り分けられているのかどうか、要確認ですね。\n",
        "</font>\n",
        "\n",
        "全国計の算出は縦持ちのまま、statusで区分して集計するよう変更しました。\n"
      ]
    },
    {
      "cell_type": "code",
      "metadata": {
        "colab": {
          "base_uri": "https://localhost:8080/",
          "height": 1000
        },
        "id": "2NQmsYFan39c",
        "outputId": "c28b1aea-541b-4aa0-aa19-157d316cbafa"
      },
      "source": [
        "# 全国計の計算方法を変更。縦持ちのままでやる。\n",
        "# １日ごと全都道府県、というデータを合計するファンクションを作った。\n",
        "# 最終行に全国計を追加する。\n",
        "calc_total = function(df){\n",
        "    return(\n",
        "        df %>% bind_rows(\n",
        "            summarize(.,\n",
        "                across(where(is.numeric), sum),\n",
        "                prefecture = \"TOTAL/AVE\"\n",
        "            )\n",
        "        )\n",
        "    )\n",
        "}\n",
        "\n",
        "vaccinations <- vaccinations %>%\n",
        "# 日ごとにまとめ、都道府県名以下は下の階層に畳む（ネスト）。\n",
        "  nest(nested_df = -date) %>% \n",
        "# 先ほどのファンクションを適用して、日ごとに全国計の列を追加する。\n",
        "  mutate(nested_df = map(nested_df, calc_total)) %>% \n",
        "# 計算が終わったのでネストを元に戻す。\n",
        "  unnest(cols = nested_df)\n",
        "  \n",
        "# こんな表になった\n",
        "head(vaccinations)\n",
        "\n",
        "# 結果を確認する。\n",
        "summary(vaccinations)\n",
        "head(vaccinations)\n",
        "tail(vaccinations)"
      ],
      "execution_count": null,
      "outputs": [
        {
          "output_type": "display_data",
          "data": {
            "text/plain": [
              "  date       prefecture status1 status2 status_all\n",
              "1 2021-04-12 01         279     0       279       \n",
              "2 2021-04-12 02         203     0       203       \n",
              "3 2021-04-12 03          50     0        50       \n",
              "4 2021-04-12 04           1     0         1       \n",
              "5 2021-04-12 05          20     0        20       \n",
              "6 2021-04-12 06          54     0        54       "
            ],
            "text/latex": "A tibble: 6 × 5\n\\begin{tabular}{lllll}\n date & prefecture & status1 & status2 & status\\_all\\\\\n <date> & <chr> & <dbl> & <dbl> & <dbl>\\\\\n\\hline\n\t 2021-04-12 & 01 & 279 & 0 & 279\\\\\n\t 2021-04-12 & 02 & 203 & 0 & 203\\\\\n\t 2021-04-12 & 03 &  50 & 0 &  50\\\\\n\t 2021-04-12 & 04 &   1 & 0 &   1\\\\\n\t 2021-04-12 & 05 &  20 & 0 &  20\\\\\n\t 2021-04-12 & 06 &  54 & 0 &  54\\\\\n\\end{tabular}\n",
            "text/markdown": "\nA tibble: 6 × 5\n\n| date &lt;date&gt; | prefecture &lt;chr&gt; | status1 &lt;dbl&gt; | status2 &lt;dbl&gt; | status_all &lt;dbl&gt; |\n|---|---|---|---|---|\n| 2021-04-12 | 01 | 279 | 0 | 279 |\n| 2021-04-12 | 02 | 203 | 0 | 203 |\n| 2021-04-12 | 03 |  50 | 0 |  50 |\n| 2021-04-12 | 04 |   1 | 0 |   1 |\n| 2021-04-12 | 05 |  20 | 0 |  20 |\n| 2021-04-12 | 06 |  54 | 0 |  54 |\n\n",
            "text/html": [
              "<table class=\"dataframe\">\n",
              "<caption>A tibble: 6 × 5</caption>\n",
              "<thead>\n",
              "\t<tr><th scope=col>date</th><th scope=col>prefecture</th><th scope=col>status1</th><th scope=col>status2</th><th scope=col>status_all</th></tr>\n",
              "\t<tr><th scope=col>&lt;date&gt;</th><th scope=col>&lt;chr&gt;</th><th scope=col>&lt;dbl&gt;</th><th scope=col>&lt;dbl&gt;</th><th scope=col>&lt;dbl&gt;</th></tr>\n",
              "</thead>\n",
              "<tbody>\n",
              "\t<tr><td>2021-04-12</td><td>01</td><td>279</td><td>0</td><td>279</td></tr>\n",
              "\t<tr><td>2021-04-12</td><td>02</td><td>203</td><td>0</td><td>203</td></tr>\n",
              "\t<tr><td>2021-04-12</td><td>03</td><td> 50</td><td>0</td><td> 50</td></tr>\n",
              "\t<tr><td>2021-04-12</td><td>04</td><td>  1</td><td>0</td><td>  1</td></tr>\n",
              "\t<tr><td>2021-04-12</td><td>05</td><td> 20</td><td>0</td><td> 20</td></tr>\n",
              "\t<tr><td>2021-04-12</td><td>06</td><td> 54</td><td>0</td><td> 54</td></tr>\n",
              "</tbody>\n",
              "</table>\n"
            ]
          },
          "metadata": {
            "tags": []
          }
        },
        {
          "output_type": "display_data",
          "data": {
            "text/plain": [
              "      date             prefecture           status1          status2      \n",
              " Min.   :2021-04-12   Length:4381        Min.   :     0   Min.   :     0  \n",
              " 1st Qu.:2021-05-05   Class :character   1st Qu.:  1115   1st Qu.:     4  \n",
              " Median :2021-05-28   Mode  :character   Median :  4316   Median :  1090  \n",
              " Mean   :2021-05-27                      Mean   : 14725   Mean   :  8286  \n",
              " 3rd Qu.:2021-06-20                      3rd Qu.:  9371   3rd Qu.:  5328  \n",
              " Max.   :2021-07-12                      Max.   :684316   Max.   :647313  \n",
              "   status_all     \n",
              " Min.   :      1  \n",
              " 1st Qu.:   1229  \n",
              " Median :   6663  \n",
              " Mean   :  23011  \n",
              " 3rd Qu.:  14913  \n",
              " Max.   :1229357  "
            ]
          },
          "metadata": {
            "tags": []
          }
        },
        {
          "output_type": "display_data",
          "data": {
            "text/plain": [
              "  date       prefecture status1 status2 status_all\n",
              "1 2021-04-12 01         279     0       279       \n",
              "2 2021-04-12 02         203     0       203       \n",
              "3 2021-04-12 03          50     0        50       \n",
              "4 2021-04-12 04           1     0         1       \n",
              "5 2021-04-12 05          20     0        20       \n",
              "6 2021-04-12 06          54     0        54       "
            ],
            "text/latex": "A tibble: 6 × 5\n\\begin{tabular}{lllll}\n date & prefecture & status1 & status2 & status\\_all\\\\\n <date> & <chr> & <dbl> & <dbl> & <dbl>\\\\\n\\hline\n\t 2021-04-12 & 01 & 279 & 0 & 279\\\\\n\t 2021-04-12 & 02 & 203 & 0 & 203\\\\\n\t 2021-04-12 & 03 &  50 & 0 &  50\\\\\n\t 2021-04-12 & 04 &   1 & 0 &   1\\\\\n\t 2021-04-12 & 05 &  20 & 0 &  20\\\\\n\t 2021-04-12 & 06 &  54 & 0 &  54\\\\\n\\end{tabular}\n",
            "text/markdown": "\nA tibble: 6 × 5\n\n| date &lt;date&gt; | prefecture &lt;chr&gt; | status1 &lt;dbl&gt; | status2 &lt;dbl&gt; | status_all &lt;dbl&gt; |\n|---|---|---|---|---|\n| 2021-04-12 | 01 | 279 | 0 | 279 |\n| 2021-04-12 | 02 | 203 | 0 | 203 |\n| 2021-04-12 | 03 |  50 | 0 |  50 |\n| 2021-04-12 | 04 |   1 | 0 |   1 |\n| 2021-04-12 | 05 |  20 | 0 |  20 |\n| 2021-04-12 | 06 |  54 | 0 |  54 |\n\n",
            "text/html": [
              "<table class=\"dataframe\">\n",
              "<caption>A tibble: 6 × 5</caption>\n",
              "<thead>\n",
              "\t<tr><th scope=col>date</th><th scope=col>prefecture</th><th scope=col>status1</th><th scope=col>status2</th><th scope=col>status_all</th></tr>\n",
              "\t<tr><th scope=col>&lt;date&gt;</th><th scope=col>&lt;chr&gt;</th><th scope=col>&lt;dbl&gt;</th><th scope=col>&lt;dbl&gt;</th><th scope=col>&lt;dbl&gt;</th></tr>\n",
              "</thead>\n",
              "<tbody>\n",
              "\t<tr><td>2021-04-12</td><td>01</td><td>279</td><td>0</td><td>279</td></tr>\n",
              "\t<tr><td>2021-04-12</td><td>02</td><td>203</td><td>0</td><td>203</td></tr>\n",
              "\t<tr><td>2021-04-12</td><td>03</td><td> 50</td><td>0</td><td> 50</td></tr>\n",
              "\t<tr><td>2021-04-12</td><td>04</td><td>  1</td><td>0</td><td>  1</td></tr>\n",
              "\t<tr><td>2021-04-12</td><td>05</td><td> 20</td><td>0</td><td> 20</td></tr>\n",
              "\t<tr><td>2021-04-12</td><td>06</td><td> 54</td><td>0</td><td> 54</td></tr>\n",
              "</tbody>\n",
              "</table>\n"
            ]
          },
          "metadata": {
            "tags": []
          }
        },
        {
          "output_type": "display_data",
          "data": {
            "text/plain": [
              "  date       prefecture status1 status2 status_all\n",
              "1 2021-07-12 43           3624    5679    9303    \n",
              "2 2021-07-12 44           2415    1962    4377    \n",
              "3 2021-07-12 45           3301    3892    7193    \n",
              "4 2021-07-12 46           3509    4395    7904    \n",
              "5 2021-07-12 47           2810    2837    5647    \n",
              "6 2021-07-12 TOTAL/AVE  324924  350623  675547    "
            ],
            "text/latex": "A tibble: 6 × 5\n\\begin{tabular}{lllll}\n date & prefecture & status1 & status2 & status\\_all\\\\\n <date> & <chr> & <dbl> & <dbl> & <dbl>\\\\\n\\hline\n\t 2021-07-12 & 43        &   3624 &   5679 &   9303\\\\\n\t 2021-07-12 & 44        &   2415 &   1962 &   4377\\\\\n\t 2021-07-12 & 45        &   3301 &   3892 &   7193\\\\\n\t 2021-07-12 & 46        &   3509 &   4395 &   7904\\\\\n\t 2021-07-12 & 47        &   2810 &   2837 &   5647\\\\\n\t 2021-07-12 & TOTAL/AVE & 324924 & 350623 & 675547\\\\\n\\end{tabular}\n",
            "text/markdown": "\nA tibble: 6 × 5\n\n| date &lt;date&gt; | prefecture &lt;chr&gt; | status1 &lt;dbl&gt; | status2 &lt;dbl&gt; | status_all &lt;dbl&gt; |\n|---|---|---|---|---|\n| 2021-07-12 | 43        |   3624 |   5679 |   9303 |\n| 2021-07-12 | 44        |   2415 |   1962 |   4377 |\n| 2021-07-12 | 45        |   3301 |   3892 |   7193 |\n| 2021-07-12 | 46        |   3509 |   4395 |   7904 |\n| 2021-07-12 | 47        |   2810 |   2837 |   5647 |\n| 2021-07-12 | TOTAL/AVE | 324924 | 350623 | 675547 |\n\n",
            "text/html": [
              "<table class=\"dataframe\">\n",
              "<caption>A tibble: 6 × 5</caption>\n",
              "<thead>\n",
              "\t<tr><th scope=col>date</th><th scope=col>prefecture</th><th scope=col>status1</th><th scope=col>status2</th><th scope=col>status_all</th></tr>\n",
              "\t<tr><th scope=col>&lt;date&gt;</th><th scope=col>&lt;chr&gt;</th><th scope=col>&lt;dbl&gt;</th><th scope=col>&lt;dbl&gt;</th><th scope=col>&lt;dbl&gt;</th></tr>\n",
              "</thead>\n",
              "<tbody>\n",
              "\t<tr><td>2021-07-12</td><td>43       </td><td>  3624</td><td>  5679</td><td>  9303</td></tr>\n",
              "\t<tr><td>2021-07-12</td><td>44       </td><td>  2415</td><td>  1962</td><td>  4377</td></tr>\n",
              "\t<tr><td>2021-07-12</td><td>45       </td><td>  3301</td><td>  3892</td><td>  7193</td></tr>\n",
              "\t<tr><td>2021-07-12</td><td>46       </td><td>  3509</td><td>  4395</td><td>  7904</td></tr>\n",
              "\t<tr><td>2021-07-12</td><td>47       </td><td>  2810</td><td>  2837</td><td>  5647</td></tr>\n",
              "\t<tr><td>2021-07-12</td><td>TOTAL/AVE</td><td>324924</td><td>350623</td><td>675547</td></tr>\n",
              "</tbody>\n",
              "</table>\n"
            ]
          },
          "metadata": {
            "tags": []
          }
        }
      ]
    },
    {
      "cell_type": "markdown",
      "metadata": {
        "id": "qzUUBsPrv2tO"
      },
      "source": [
        "### 4.5. 累計を計算する\n",
        "\n",
        "ワクチンが行き渡ることの効果は、その日の接種分ではなく、それまでの積み重ねによるものでしょうから、累計の数字を計算しましょう。特定の都道府県に注目して、その県で接種が始まった日からの件数を足していく、ということになります。\n",
        "\n",
        "ある県だけに注目したら、こういう処理をしたらいいね、という部分を、即席のファンクションにしています。この部分は、informationチャンネルの[解説「Memo_for_R_beginners.Rmd」](https://jnpcitseminar.slack.com/files/UGX4CGHNZ/F026EJU680M/memo_for_r_beginners.rmd)を参考にして下さい。\n",
        "\n",
        "もともとは、当日分を含む累計しか計算していなかったのですが、積み上げ棒グラフにするなら、前日までの累計が必要だな、と考えて後からその部分を追加しました。ファンクションとして、切り出してまとめていたから、手直しが楽でした。\n",
        "\n",
        "本当は、所定回数を完了したのかまだ途中かを区別し、接種の効果に応じてカウントの重みを変えたいところです。しかし、１回完了型が接種可能になった際、いま入手できるデータでは対応しきれないため、重み付けは変えていません。「2回中の1回」（statusが1）は判別できるのですが、statusが2の場合、1だった人が2回目接種を終えたのか、1回だけでＯＫのワクチンの接種を受けたのかが、区別できないためです。\n",
        "\n",
        "製造元がどこか（Johnson & Johnson とか）の情報があれば、補えます。流通の目詰まりを追うためにも、データがほしいところです。"
      ]
    },
    {
      "cell_type": "code",
      "metadata": {
        "colab": {
          "base_uri": "https://localhost:8080/",
          "height": 718
        },
        "id": "cif-qWfpxBTM",
        "outputId": "93208ed0-e653-4d4c-ef3f-54fa9aa48e9d"
      },
      "source": [
        "# 都道府県ごとに小分けした想定で、累計を計算する即席のファンクションを作った。\n",
        "calc_sum = function(df){\n",
        "    return(\n",
        "        df %>% arrange(date) %>% \n",
        "        mutate(\n",
        "# status区分を追加した。\n",
        "            \"total_status1\" = cumsum(status1),\n",
        "            \"total_status2\" = cumsum(status2),\n",
        "# total_と頭につけたカラムは当日を含む。\n",
        "            \"total_status_all\" = cumsum(status_all),\n",
        "# 当日分と積み上げグラフにする場合も考えて、前日分まではcum_vaccinationsカラムに入れることにした。\n",
        "            \"cum_vaccinations\"   = total_status_all - status_all\n",
        "        ) %>% arrange(desc(date))\n",
        "    )\n",
        "}\n",
        "\n",
        "# 都道府県ごとにnest（下の階層に畳む）する。\n",
        "vaccinations <- vaccinations %>%\n",
        "# コード順にソートしておく。\n",
        "    arrange(prefecture) %>%\n",
        "# prefecture以外は畳む。\n",
        "    nest(data_by_pref = -prefecture) %>%\n",
        "# さっき作ったファンクションを、県単位で当てはめていく。\n",
        "    mutate(data_by_pref = map(data_by_pref, calc_sum)) %>% \n",
        "# 計算が終わったので、nestを解除する。\n",
        "    unnest(cols = data_by_pref)\n",
        "\n",
        "# 表示する。\n",
        "head(vaccinations)\n",
        "tail(vaccinations)\n",
        "str(vaccinations)"
      ],
      "execution_count": null,
      "outputs": [
        {
          "output_type": "display_data",
          "data": {
            "text/plain": [
              "  prefecture date       status1 status2 status_all total_status1 total_status2\n",
              "1 01         2021-07-12 10011   11555   21566      1318208       676819       \n",
              "2 01         2021-07-11 11640   12085   23725      1308197       665264       \n",
              "3 01         2021-07-10 17713   11049   28762      1296557       653179       \n",
              "4 01         2021-07-09 16757   11149   27906      1278844       642130       \n",
              "5 01         2021-07-08 22630   13853   36483      1262087       630981       \n",
              "6 01         2021-07-07 24146   14434   38580      1239457       617128       \n",
              "  total_status_all cum_vaccinations\n",
              "1 1995027          1973461         \n",
              "2 1973461          1949736         \n",
              "3 1949736          1920974         \n",
              "4 1920974          1893068         \n",
              "5 1893068          1856585         \n",
              "6 1856585          1818005         "
            ],
            "text/latex": "A tibble: 6 × 9\n\\begin{tabular}{lllllllll}\n prefecture & date & status1 & status2 & status\\_all & total\\_status1 & total\\_status2 & total\\_status\\_all & cum\\_vaccinations\\\\\n <chr> & <date> & <dbl> & <dbl> & <dbl> & <dbl> & <dbl> & <dbl> & <dbl>\\\\\n\\hline\n\t 01 & 2021-07-12 & 10011 & 11555 & 21566 & 1318208 & 676819 & 1995027 & 1973461\\\\\n\t 01 & 2021-07-11 & 11640 & 12085 & 23725 & 1308197 & 665264 & 1973461 & 1949736\\\\\n\t 01 & 2021-07-10 & 17713 & 11049 & 28762 & 1296557 & 653179 & 1949736 & 1920974\\\\\n\t 01 & 2021-07-09 & 16757 & 11149 & 27906 & 1278844 & 642130 & 1920974 & 1893068\\\\\n\t 01 & 2021-07-08 & 22630 & 13853 & 36483 & 1262087 & 630981 & 1893068 & 1856585\\\\\n\t 01 & 2021-07-07 & 24146 & 14434 & 38580 & 1239457 & 617128 & 1856585 & 1818005\\\\\n\\end{tabular}\n",
            "text/markdown": "\nA tibble: 6 × 9\n\n| prefecture &lt;chr&gt; | date &lt;date&gt; | status1 &lt;dbl&gt; | status2 &lt;dbl&gt; | status_all &lt;dbl&gt; | total_status1 &lt;dbl&gt; | total_status2 &lt;dbl&gt; | total_status_all &lt;dbl&gt; | cum_vaccinations &lt;dbl&gt; |\n|---|---|---|---|---|---|---|---|---|\n| 01 | 2021-07-12 | 10011 | 11555 | 21566 | 1318208 | 676819 | 1995027 | 1973461 |\n| 01 | 2021-07-11 | 11640 | 12085 | 23725 | 1308197 | 665264 | 1973461 | 1949736 |\n| 01 | 2021-07-10 | 17713 | 11049 | 28762 | 1296557 | 653179 | 1949736 | 1920974 |\n| 01 | 2021-07-09 | 16757 | 11149 | 27906 | 1278844 | 642130 | 1920974 | 1893068 |\n| 01 | 2021-07-08 | 22630 | 13853 | 36483 | 1262087 | 630981 | 1893068 | 1856585 |\n| 01 | 2021-07-07 | 24146 | 14434 | 38580 | 1239457 | 617128 | 1856585 | 1818005 |\n\n",
            "text/html": [
              "<table class=\"dataframe\">\n",
              "<caption>A tibble: 6 × 9</caption>\n",
              "<thead>\n",
              "\t<tr><th scope=col>prefecture</th><th scope=col>date</th><th scope=col>status1</th><th scope=col>status2</th><th scope=col>status_all</th><th scope=col>total_status1</th><th scope=col>total_status2</th><th scope=col>total_status_all</th><th scope=col>cum_vaccinations</th></tr>\n",
              "\t<tr><th scope=col>&lt;chr&gt;</th><th scope=col>&lt;date&gt;</th><th scope=col>&lt;dbl&gt;</th><th scope=col>&lt;dbl&gt;</th><th scope=col>&lt;dbl&gt;</th><th scope=col>&lt;dbl&gt;</th><th scope=col>&lt;dbl&gt;</th><th scope=col>&lt;dbl&gt;</th><th scope=col>&lt;dbl&gt;</th></tr>\n",
              "</thead>\n",
              "<tbody>\n",
              "\t<tr><td>01</td><td>2021-07-12</td><td>10011</td><td>11555</td><td>21566</td><td>1318208</td><td>676819</td><td>1995027</td><td>1973461</td></tr>\n",
              "\t<tr><td>01</td><td>2021-07-11</td><td>11640</td><td>12085</td><td>23725</td><td>1308197</td><td>665264</td><td>1973461</td><td>1949736</td></tr>\n",
              "\t<tr><td>01</td><td>2021-07-10</td><td>17713</td><td>11049</td><td>28762</td><td>1296557</td><td>653179</td><td>1949736</td><td>1920974</td></tr>\n",
              "\t<tr><td>01</td><td>2021-07-09</td><td>16757</td><td>11149</td><td>27906</td><td>1278844</td><td>642130</td><td>1920974</td><td>1893068</td></tr>\n",
              "\t<tr><td>01</td><td>2021-07-08</td><td>22630</td><td>13853</td><td>36483</td><td>1262087</td><td>630981</td><td>1893068</td><td>1856585</td></tr>\n",
              "\t<tr><td>01</td><td>2021-07-07</td><td>24146</td><td>14434</td><td>38580</td><td>1239457</td><td>617128</td><td>1856585</td><td>1818005</td></tr>\n",
              "</tbody>\n",
              "</table>\n"
            ]
          },
          "metadata": {
            "tags": []
          }
        },
        {
          "output_type": "display_data",
          "data": {
            "text/plain": [
              "  prefecture date       status1 status2 status_all total_status1 total_status2\n",
              "1 TOTAL/AVE  2021-04-17 7670    0       7670       40060         0            \n",
              "2 TOTAL/AVE  2021-04-16 9945    0       9945       32390         0            \n",
              "3 TOTAL/AVE  2021-04-15 8593    0       8593       22445         0            \n",
              "4 TOTAL/AVE  2021-04-14 4842    0       4842       13852         0            \n",
              "5 TOTAL/AVE  2021-04-13 4217    0       4217        9010         0            \n",
              "6 TOTAL/AVE  2021-04-12 4793    0       4793        4793         0            \n",
              "  total_status_all cum_vaccinations\n",
              "1 40060            32390           \n",
              "2 32390            22445           \n",
              "3 22445            13852           \n",
              "4 13852             9010           \n",
              "5  9010             4793           \n",
              "6  4793                0           "
            ],
            "text/latex": "A tibble: 6 × 9\n\\begin{tabular}{lllllllll}\n prefecture & date & status1 & status2 & status\\_all & total\\_status1 & total\\_status2 & total\\_status\\_all & cum\\_vaccinations\\\\\n <chr> & <date> & <dbl> & <dbl> & <dbl> & <dbl> & <dbl> & <dbl> & <dbl>\\\\\n\\hline\n\t TOTAL/AVE & 2021-04-17 & 7670 & 0 & 7670 & 40060 & 0 & 40060 & 32390\\\\\n\t TOTAL/AVE & 2021-04-16 & 9945 & 0 & 9945 & 32390 & 0 & 32390 & 22445\\\\\n\t TOTAL/AVE & 2021-04-15 & 8593 & 0 & 8593 & 22445 & 0 & 22445 & 13852\\\\\n\t TOTAL/AVE & 2021-04-14 & 4842 & 0 & 4842 & 13852 & 0 & 13852 &  9010\\\\\n\t TOTAL/AVE & 2021-04-13 & 4217 & 0 & 4217 &  9010 & 0 &  9010 &  4793\\\\\n\t TOTAL/AVE & 2021-04-12 & 4793 & 0 & 4793 &  4793 & 0 &  4793 &     0\\\\\n\\end{tabular}\n",
            "text/markdown": "\nA tibble: 6 × 9\n\n| prefecture &lt;chr&gt; | date &lt;date&gt; | status1 &lt;dbl&gt; | status2 &lt;dbl&gt; | status_all &lt;dbl&gt; | total_status1 &lt;dbl&gt; | total_status2 &lt;dbl&gt; | total_status_all &lt;dbl&gt; | cum_vaccinations &lt;dbl&gt; |\n|---|---|---|---|---|---|---|---|---|\n| TOTAL/AVE | 2021-04-17 | 7670 | 0 | 7670 | 40060 | 0 | 40060 | 32390 |\n| TOTAL/AVE | 2021-04-16 | 9945 | 0 | 9945 | 32390 | 0 | 32390 | 22445 |\n| TOTAL/AVE | 2021-04-15 | 8593 | 0 | 8593 | 22445 | 0 | 22445 | 13852 |\n| TOTAL/AVE | 2021-04-14 | 4842 | 0 | 4842 | 13852 | 0 | 13852 |  9010 |\n| TOTAL/AVE | 2021-04-13 | 4217 | 0 | 4217 |  9010 | 0 |  9010 |  4793 |\n| TOTAL/AVE | 2021-04-12 | 4793 | 0 | 4793 |  4793 | 0 |  4793 |     0 |\n\n",
            "text/html": [
              "<table class=\"dataframe\">\n",
              "<caption>A tibble: 6 × 9</caption>\n",
              "<thead>\n",
              "\t<tr><th scope=col>prefecture</th><th scope=col>date</th><th scope=col>status1</th><th scope=col>status2</th><th scope=col>status_all</th><th scope=col>total_status1</th><th scope=col>total_status2</th><th scope=col>total_status_all</th><th scope=col>cum_vaccinations</th></tr>\n",
              "\t<tr><th scope=col>&lt;chr&gt;</th><th scope=col>&lt;date&gt;</th><th scope=col>&lt;dbl&gt;</th><th scope=col>&lt;dbl&gt;</th><th scope=col>&lt;dbl&gt;</th><th scope=col>&lt;dbl&gt;</th><th scope=col>&lt;dbl&gt;</th><th scope=col>&lt;dbl&gt;</th><th scope=col>&lt;dbl&gt;</th></tr>\n",
              "</thead>\n",
              "<tbody>\n",
              "\t<tr><td>TOTAL/AVE</td><td>2021-04-17</td><td>7670</td><td>0</td><td>7670</td><td>40060</td><td>0</td><td>40060</td><td>32390</td></tr>\n",
              "\t<tr><td>TOTAL/AVE</td><td>2021-04-16</td><td>9945</td><td>0</td><td>9945</td><td>32390</td><td>0</td><td>32390</td><td>22445</td></tr>\n",
              "\t<tr><td>TOTAL/AVE</td><td>2021-04-15</td><td>8593</td><td>0</td><td>8593</td><td>22445</td><td>0</td><td>22445</td><td>13852</td></tr>\n",
              "\t<tr><td>TOTAL/AVE</td><td>2021-04-14</td><td>4842</td><td>0</td><td>4842</td><td>13852</td><td>0</td><td>13852</td><td> 9010</td></tr>\n",
              "\t<tr><td>TOTAL/AVE</td><td>2021-04-13</td><td>4217</td><td>0</td><td>4217</td><td> 9010</td><td>0</td><td> 9010</td><td> 4793</td></tr>\n",
              "\t<tr><td>TOTAL/AVE</td><td>2021-04-12</td><td>4793</td><td>0</td><td>4793</td><td> 4793</td><td>0</td><td> 4793</td><td>    0</td></tr>\n",
              "</tbody>\n",
              "</table>\n"
            ]
          },
          "metadata": {
            "tags": []
          }
        },
        {
          "output_type": "stream",
          "text": [
            "tibble [4,381 × 9] (S3: tbl_df/tbl/data.frame)\n",
            " $ prefecture      : chr [1:4381] \"01\" \"01\" \"01\" \"01\" ...\n",
            " $ date            : Date[1:4381], format: \"2021-07-12\" \"2021-07-11\" ...\n",
            " $ status1         : num [1:4381] 10011 11640 17713 16757 22630 ...\n",
            " $ status2         : num [1:4381] 11555 12085 11049 11149 13853 ...\n",
            " $ status_all      : num [1:4381] 21566 23725 28762 27906 36483 ...\n",
            " $ total_status1   : num [1:4381] 1318208 1308197 1296557 1278844 1262087 ...\n",
            " $ total_status2   : num [1:4381] 676819 665264 653179 642130 630981 ...\n",
            " $ total_status_all: num [1:4381] 1995027 1973461 1949736 1920974 1893068 ...\n",
            " $ cum_vaccinations: num [1:4381] 1973461 1949736 1920974 1893068 1856585 ...\n"
          ],
          "name": "stdout"
        }
      ]
    },
    {
      "cell_type": "markdown",
      "metadata": {
        "id": "dQacc8Awy08f"
      },
      "source": [
        "## 5.データの橋渡し"
      ]
    },
    {
      "cell_type": "markdown",
      "metadata": {
        "id": "o6M6fyrGy2sD"
      },
      "source": [
        "### 5.1. 何が足りない\n",
        "\n",
        "冒頭1.2.の「気になる点」で触れた通り、\n",
        "ワクチン接種と感染状況のデータの作りは、似ているようで違っています。関係を見るためには、両方のデータを、同じ日付・同じ都道府県、でドッキングさせたい。となると、都道府県コードと都道府県名との対照表が必要になります。\n",
        "\n",
        "01と北海道は同じもの、02と青森または青森県も同じもの……と、重ならず抜け漏れもなく対応させるためです。"
      ]
    },
    {
      "cell_type": "markdown",
      "metadata": {
        "id": "28K0aXhWzDVN"
      },
      "source": [
        "### 5.2. ネ申（ねもうす）Excel問題\n",
        "\n",
        "仕様のところに、JIS規格へのリンクも張ってあるのですが、ご覧になった方はいるでしょうか？　印刷したときに紙1枚に納まるよう、人間にやさしく作ってありました。が、PCに処理させるには不向きです。\n",
        "参考になる、三重大・奥村先生の資料は[こちら](https://oku.edu.mie-u.ac.jp/~okumura/SSS2013slide.pdf)。山本さんの資料にも、参考になるリンクが紹介されていました。\n",
        "\n",
        "仕方がないので、Rで扱いやすいよう、都道府県コードだけで1カラム、県名だけで1カラム、になったデータを手元で作りました（表計算ソフトで作ったあと、読み込ませたもの）。\n",
        "\n",
        "あと、生数字ではなく、人口比で見るようにしたいので、2021年時点の推計人口（単位・千人）のデータも用意しました。出所は[こちら](https://www.stat.go.jp/data/nihon/zuhyou/n210200300.xlsx)。\n",
        "\n",
        "<font color = \"gray\">\n",
        "※山本さんがお使いのデータと違い、65歳で分けていません。悪しからず。\n",
        "</font>\n",
        "\n",
        "都道府県名から「都府県」を外して短くしたものと、複数の県を地方別にまとめたグループ（異論があるかもしれませんが、お許しを）も作っています。Flourishで可視化する際に見やすくしたかったからです。"
      ]
    },
    {
      "cell_type": "code",
      "metadata": {
        "colab": {
          "base_uri": "https://localhost:8080/",
          "height": 665
        },
        "id": "p_z5horczCbs",
        "outputId": "e0fac2fd-6f1d-4052-cdf2-ec5a72d1838b"
      },
      "source": [
        "# 都道府県コードと人口データ、ネ申状態でない、よいものが見つからなかった。\n",
        "# JIS X 0401を整形したものと、\"https://www.soumu.go.jp/main_content/000701580.xls\"の人口データで作った。\n",
        "# コード順の都道府県名（末尾に都道府県をつけずに短くした形）＋全国。\n",
        "levels_prefecture_short <- c(\n",
        "  \"北海道\", \"青森\",   \"岩手\",   \"宮城\",   \"秋田\",   \"山形\",  \n",
        "  \"福島\",   \"茨城\",   \"栃木\",   \"群馬\",   \"埼玉\",   \"千葉\",  \n",
        "  \"東京\",   \"神奈川\", \"新潟\",   \"富山\",   \"石川\",   \"福井\",  \n",
        "  \"山梨\",   \"長野\",   \"岐阜\",   \"静岡\",   \"愛知\",   \"三重\",  \n",
        "  \"滋賀\",   \"京都\",   \"大阪\",   \"兵庫\",   \"奈良\",   \"和歌山\",\n",
        "  \"鳥取\",   \"島根\",   \"岡山\",   \"広島\",   \"山口\",   \"徳島\",  \n",
        "  \"香川\",   \"愛媛\",   \"高知\",   \"福岡\",   \"佐賀\",   \"長崎\",  \n",
        "  \"熊本\",   \"大分\",   \"宮崎\",   \"鹿児島\", \"沖縄\",   \"全国\" \n",
        ")\n",
        "\n",
        "# 2020年1月1日時点の都道府県別人口。出典は上記。\n",
        "population_2020 <- c(\n",
        "   5267762, 1275783, 1235517, 2292385,  985416, 1082296,\n",
        "   1881981, 2921436, 1965516, 1969439, 7390054, 6319772,\n",
        "  13834925, 9209442, 2236042, 1055999, 1139612,  780053,\n",
        "    826579, 2087307, 2032490, 3708556, 7575530, 1813859,\n",
        "   1420948, 2545899, 8849635, 5549568, 1353837,  954258,\n",
        "    561175,  679324, 1903627, 2826858, 1369882,  742505,\n",
        "    981280, 1369131,  709230, 5129841, 823810,  1350769,\n",
        "   1769880, 1151229, 1095903, 1630146, 1481547, 127138033\n",
        ")\n",
        "\n",
        "# 都道府県コードを作る。頭に0がつく文字列型。\n",
        "JISX0401 <- 1:47 %>%\n",
        "    str_pad(2, pad = 0)\n",
        "JISX0401[48] <- \"TOTAL/AVE\"\n",
        "\n",
        "# 都・府・県がついていないと、突合に困りそうなので、それも作る。\n",
        "levels_prefecture <- levels_prefecture_short[1:48] %>% \n",
        "    paste0(\"県\")\n",
        "levels_prefecture[ 1] <- \"北海道\"\n",
        "levels_prefecture[13] <- \"東京都\"\n",
        "levels_prefecture[26] <- \"京都府\"\n",
        "levels_prefecture[27] <- \"大阪府\"\n",
        "levels_prefecture[48] <- \"全国\"\n",
        "\n",
        "# この４つをまとめてtibbleにする。\n",
        "pref_pop <- tibble(\n",
        "    code                = JISX0401, \n",
        "    prefecture          = levels_prefecture,\n",
        "    prefecture_short    = levels_prefecture_short,\n",
        "    population          = population_2020\n",
        ")\n",
        "\n",
        "# 辞書順ではなく、出現順通りのfactor にしてみた。\n",
        "columns_to_integer <- 'population'\n",
        "columns_to_factor2 <- c('code', 'prefecture', 'prefecture_short')\n",
        "pref_pop <- pref_pop %>% \n",
        "    mutate(\n",
        "        across(all_of(columns_to_integer), as.integer),\n",
        "        across(all_of(columns_to_factor2), fct_inorder)\n",
        "    )\n",
        "\n",
        "# 地方別にくくれるようにする。中点があるものは、エラーしないようにバックティックで囲む。\n",
        "pref_pop <- pref_pop %>% \n",
        "    mutate(block = prefecture_short)\n",
        "pref_pop <- pref_pop %>% \n",
        "    mutate(block = fct_collapse(block,\n",
        "  `北海道・東北` = c(\"北海道\", \"青森\",   \"岩手\",   \"宮城\",   \"秋田\",   \"山形\",   \"福島\"),\n",
        "  関東           = c(\"茨城\",   \"栃木\",   \"群馬\",   \"埼玉\",   \"千葉\",   \"東京\",   \"神奈川\"),\n",
        "  甲信越         = c(\"新潟\",   \"富山\",   \"石川\",   \"福井\",   \"山梨\",   \"長野\"),\n",
        "  東海           = c(\"岐阜\",   \"静岡\",   \"愛知\",   \"三重\"),  \n",
        "  近畿           = c(\"滋賀\",   \"京都\",   \"大阪\",   \"兵庫\",   \"奈良\",   \"和歌山\"),\n",
        "  中国           = c(\"鳥取\",   \"島根\",   \"岡山\",   \"広島\",   \"山口\"),\n",
        "  四国           = c(\"徳島\",   \"香川\",   \"愛媛\",   \"高知\"),\n",
        "  `九州・沖縄`   = c(\"福岡\",   \"佐賀\",   \"長崎\",   \"熊本\",   \"大分\",   \"宮崎\",   \"鹿児島\", \"沖縄\"),\n",
        "  全国           = \"全国\" \n",
        "    )\n",
        ")\n",
        "\n",
        "head(pref_pop)\n",
        "summary(pref_pop)\n",
        "str(pref_pop)"
      ],
      "execution_count": null,
      "outputs": [
        {
          "output_type": "display_data",
          "data": {
            "text/plain": [
              "  code prefecture prefecture_short population block       \n",
              "1 01   北海道     北海道           5267762    北海道・東北\n",
              "2 02   青森県     青森             1275783    北海道・東北\n",
              "3 03   岩手県     岩手             1235517    北海道・東北\n",
              "4 04   宮城県     宮城             2292385    北海道・東北\n",
              "5 05   秋田県     秋田              985416    北海道・東北\n",
              "6 06   山形県     山形             1082296    北海道・東北"
            ],
            "text/latex": "A tibble: 6 × 5\n\\begin{tabular}{lllll}\n code & prefecture & prefecture\\_short & population & block\\\\\n <fct> & <fct> & <fct> & <int> & <fct>\\\\\n\\hline\n\t 01 & 北海道 & 北海道 & 5267762 & 北海道・東北\\\\\n\t 02 & 青森県 & 青森   & 1275783 & 北海道・東北\\\\\n\t 03 & 岩手県 & 岩手   & 1235517 & 北海道・東北\\\\\n\t 04 & 宮城県 & 宮城   & 2292385 & 北海道・東北\\\\\n\t 05 & 秋田県 & 秋田   &  985416 & 北海道・東北\\\\\n\t 06 & 山形県 & 山形   & 1082296 & 北海道・東北\\\\\n\\end{tabular}\n",
            "text/markdown": "\nA tibble: 6 × 5\n\n| code &lt;fct&gt; | prefecture &lt;fct&gt; | prefecture_short &lt;fct&gt; | population &lt;int&gt; | block &lt;fct&gt; |\n|---|---|---|---|---|\n| 01 | 北海道 | 北海道 | 5267762 | 北海道・東北 |\n| 02 | 青森県 | 青森   | 1275783 | 北海道・東北 |\n| 03 | 岩手県 | 岩手   | 1235517 | 北海道・東北 |\n| 04 | 宮城県 | 宮城   | 2292385 | 北海道・東北 |\n| 05 | 秋田県 | 秋田   |  985416 | 北海道・東北 |\n| 06 | 山形県 | 山形   | 1082296 | 北海道・東北 |\n\n",
            "text/html": [
              "<table class=\"dataframe\">\n",
              "<caption>A tibble: 6 × 5</caption>\n",
              "<thead>\n",
              "\t<tr><th scope=col>code</th><th scope=col>prefecture</th><th scope=col>prefecture_short</th><th scope=col>population</th><th scope=col>block</th></tr>\n",
              "\t<tr><th scope=col>&lt;fct&gt;</th><th scope=col>&lt;fct&gt;</th><th scope=col>&lt;fct&gt;</th><th scope=col>&lt;int&gt;</th><th scope=col>&lt;fct&gt;</th></tr>\n",
              "</thead>\n",
              "<tbody>\n",
              "\t<tr><td>01</td><td>北海道</td><td>北海道</td><td>5267762</td><td>北海道・東北</td></tr>\n",
              "\t<tr><td>02</td><td>青森県</td><td>青森  </td><td>1275783</td><td>北海道・東北</td></tr>\n",
              "\t<tr><td>03</td><td>岩手県</td><td>岩手  </td><td>1235517</td><td>北海道・東北</td></tr>\n",
              "\t<tr><td>04</td><td>宮城県</td><td>宮城  </td><td>2292385</td><td>北海道・東北</td></tr>\n",
              "\t<tr><td>05</td><td>秋田県</td><td>秋田  </td><td> 985416</td><td>北海道・東北</td></tr>\n",
              "\t<tr><td>06</td><td>山形県</td><td>山形  </td><td>1082296</td><td>北海道・東北</td></tr>\n",
              "</tbody>\n",
              "</table>\n"
            ]
          },
          "metadata": {
            "tags": []
          }
        },
        {
          "output_type": "display_data",
          "data": {
            "text/plain": [
              "      code      prefecture prefecture_short   population       \n",
              " 01     : 1   北海道 : 1   北海道 : 1       Min.   :   561175  \n",
              " 02     : 1   青森県 : 1   青森   : 1       1st Qu.:  1092501  \n",
              " 03     : 1   岩手県 : 1   岩手   : 1       Median :  1700013  \n",
              " 04     : 1   宮城県 : 1   宮城   : 1       Mean   :  5297418  \n",
              " 05     : 1   秋田県 : 1   秋田   : 1       3rd Qu.:  2850502  \n",
              " 06     : 1   山形県 : 1   山形   : 1       Max.   :127138033  \n",
              " (Other):42   (Other):42   (Other):42                          \n",
              "          block  \n",
              " 九州・沖縄  :8  \n",
              " 北海道・東北:7  \n",
              " 関東        :7  \n",
              " 甲信越      :6  \n",
              " 近畿        :6  \n",
              " 中国        :5  \n",
              " (Other)     :9  "
            ]
          },
          "metadata": {
            "tags": []
          }
        },
        {
          "output_type": "stream",
          "text": [
            "tibble [48 × 5] (S3: tbl_df/tbl/data.frame)\n",
            " $ code            : Factor w/ 48 levels \"01\",\"02\",\"03\",..: 1 2 3 4 5 6 7 8 9 10 ...\n",
            " $ prefecture      : Factor w/ 48 levels \"北海道\",\"青森県\",..: 1 2 3 4 5 6 7 8 9 10 ...\n",
            " $ prefecture_short: Factor w/ 48 levels \"北海道\",\"青森\",..: 1 2 3 4 5 6 7 8 9 10 ...\n",
            " $ population      : int [1:48] 5267762 1275783 1235517 2292385 985416 1082296 1881981 2921436 1965516 1969439 ...\n",
            " $ block           : Factor w/ 9 levels \"北海道・東北\",..: 1 1 1 1 1 1 1 2 2 2 ...\n"
          ],
          "name": "stdout"
        }
      ]
    },
    {
      "cell_type": "markdown",
      "metadata": {
        "id": "7HTcZJap0tKW"
      },
      "source": [
        "## 6.感染状況"
      ]
    },
    {
      "cell_type": "markdown",
      "metadata": {
        "id": "MB6ImCTC0vjD"
      },
      "source": [
        "### 6.1. データを読み込む\n",
        "\n",
        "感染状況のデータを読み込みます。都道府県ごとに取ってくることもできます。いまは、全国分をまとめて取ってきましょう。\n",
        "\n",
        "なお、JSON形式ではありますが、接種状況とは違い、改行区切りにはなっていないので、NDJSON形式ではありません。圧縮もかかっていません。\n",
        "\n",
        "なので、先ほどとは、読み込みの仕方がちょっと違います。"
      ]
    },
    {
      "cell_type": "code",
      "metadata": {
        "colab": {
          "base_uri": "https://localhost:8080/",
          "height": 472
        },
        "id": "PMYZxvY71BcK",
        "outputId": "c01a944a-e735-4072-953e-a19ca3141730"
      },
      "source": [
        "# 内閣官房のページにある、都道府県別の感染者数データ。\n",
        "# ダウンロードの仕方はちょっと異なる。\n",
        "target_url_opendata <- \"https://opendata.corona.go.jp/api/Covid19JapanAll\"\n",
        "ndjson::validate(target_url_opendata, verbose = TRUE)\n",
        "opendata_json <- jsonlite::fromJSON(target_url_opendata)\n",
        "# エラーは出ていないようだ。必要な部分だけを取り出す。\n",
        "str(opendata_json)\n",
        "cum_patients <- opendata_json[[\"itemList\"]] %>%\n",
        "# data.frameなのでtibbleに変換する。\n",
        "    as_tibble()\n",
        "head(cum_patients)\n",
        "# 不要になった元データは消す。\n",
        "rm(opendata_json)"
      ],
      "execution_count": null,
      "outputs": [
        {
          "output_type": "stream",
          "text": [
            "File: https://opendata.corona.go.jp/api/Covid19JapanAll\n"
          ],
          "name": "stdout"
        },
        {
          "output_type": "display_data",
          "data": {
            "text/plain": [
              "[1] TRUE"
            ],
            "text/latex": "TRUE",
            "text/markdown": "TRUE",
            "text/html": [
              "TRUE"
            ]
          },
          "metadata": {
            "tags": []
          }
        },
        {
          "output_type": "stream",
          "text": [
            "List of 2\n",
            " $ errorInfo:List of 3\n",
            "  ..$ errorFlag   : chr \"0\"\n",
            "  ..$ errorCode   : NULL\n",
            "  ..$ errorMessage: NULL\n",
            " $ itemList :'data.frame':\t20915 obs. of  3 variables:\n",
            "  ..$ date     : chr [1:20915] \"2021-07-10\" \"2021-07-10\" \"2021-07-10\" \"2021-07-10\" ...\n",
            "  ..$ name_jp  : chr [1:20915] \"北海道\" \"青森県\" \"岩手県\" \"宮城県\" ...\n",
            "  ..$ npatients: chr [1:20915] \"41772\" \"2538\" \"1774\" \"9298\" ...\n"
          ],
          "name": "stdout"
        },
        {
          "output_type": "display_data",
          "data": {
            "text/plain": [
              "  date       name_jp npatients\n",
              "1 2021-07-10 北海道  41772    \n",
              "2 2021-07-10 青森県  2538     \n",
              "3 2021-07-10 岩手県  1774     \n",
              "4 2021-07-10 宮城県  9298     \n",
              "5 2021-07-10 秋田県  935      \n",
              "6 2021-07-10 山形県  2057     "
            ],
            "text/latex": "A tibble: 6 × 3\n\\begin{tabular}{lll}\n date & name\\_jp & npatients\\\\\n <chr> & <chr> & <chr>\\\\\n\\hline\n\t 2021-07-10 & 北海道 & 41772\\\\\n\t 2021-07-10 & 青森県 & 2538 \\\\\n\t 2021-07-10 & 岩手県 & 1774 \\\\\n\t 2021-07-10 & 宮城県 & 9298 \\\\\n\t 2021-07-10 & 秋田県 & 935  \\\\\n\t 2021-07-10 & 山形県 & 2057 \\\\\n\\end{tabular}\n",
            "text/markdown": "\nA tibble: 6 × 3\n\n| date &lt;chr&gt; | name_jp &lt;chr&gt; | npatients &lt;chr&gt; |\n|---|---|---|\n| 2021-07-10 | 北海道 | 41772 |\n| 2021-07-10 | 青森県 | 2538  |\n| 2021-07-10 | 岩手県 | 1774  |\n| 2021-07-10 | 宮城県 | 9298  |\n| 2021-07-10 | 秋田県 | 935   |\n| 2021-07-10 | 山形県 | 2057  |\n\n",
            "text/html": [
              "<table class=\"dataframe\">\n",
              "<caption>A tibble: 6 × 3</caption>\n",
              "<thead>\n",
              "\t<tr><th scope=col>date</th><th scope=col>name_jp</th><th scope=col>npatients</th></tr>\n",
              "\t<tr><th scope=col>&lt;chr&gt;</th><th scope=col>&lt;chr&gt;</th><th scope=col>&lt;chr&gt;</th></tr>\n",
              "</thead>\n",
              "<tbody>\n",
              "\t<tr><td>2021-07-10</td><td>北海道</td><td>41772</td></tr>\n",
              "\t<tr><td>2021-07-10</td><td>青森県</td><td>2538 </td></tr>\n",
              "\t<tr><td>2021-07-10</td><td>岩手県</td><td>1774 </td></tr>\n",
              "\t<tr><td>2021-07-10</td><td>宮城県</td><td>9298 </td></tr>\n",
              "\t<tr><td>2021-07-10</td><td>秋田県</td><td>935  </td></tr>\n",
              "\t<tr><td>2021-07-10</td><td>山形県</td><td>2057 </td></tr>\n",
              "</tbody>\n",
              "</table>\n"
            ]
          },
          "metadata": {
            "tags": []
          }
        }
      ]
    },
    {
      "cell_type": "markdown",
      "metadata": {
        "id": "cocqMQoA11LS"
      },
      "source": [
        "しかし、全国計のデータはまた、別に用意されています。単純に、各県の合算とはいかないからでしょう。"
      ]
    },
    {
      "cell_type": "code",
      "metadata": {
        "colab": {
          "base_uri": "https://localhost:8080/",
          "height": 385
        },
        "id": "HkVu11ng1e32",
        "outputId": "89e19f38-75ca-42e2-c0ad-df8ae6899182"
      },
      "source": [
        "# 同じく内閣官房のページにある、全国計の感染者数データ。\n",
        "# 手元で計算してみると、上で読み込んだ各都道府県の合算より多い。\n",
        "target_url_opendata_jpn <-\n",
        "    \"https://data.corona.go.jp/converted-json/covid19japan-npatients.json\"\n",
        "ndjson::validate(target_url_opendata_jpn, verbose = TRUE)\n",
        "opendata_jpn <- jsonlite::fromJSON(target_url_opendata_jpn)\n",
        "# データの仕様がよく分からない。もったいない。\n",
        "# サイトのグラフと見比べると、新規感染者数はadpatientsカラムの数字のようだ。\n",
        "str(opendata_jpn)\n",
        "cum_patients_jpn <- opendata_jpn %>% \n",
        "    transmute(\n",
        "        date         = date %>% parse_date(),\n",
        "        prefecture   = levels_prefecture[48],\n",
        "        npatients    = npatients %>% as.integer(),\n",
        "        \"new_patients\" = adpatients %>% as.integer()\n",
        "# tibbleにする。\n",
        "    ) %>% as_tibble()\n",
        "head(cum_patients_jpn)\n",
        "\n",
        "# 不要になった元データは消す。\n",
        "rm(opendata_jpn)"
      ],
      "execution_count": null,
      "outputs": [
        {
          "output_type": "stream",
          "text": [
            "File: https://data.corona.go.jp/converted-json/covid19japan-npatients.json\n"
          ],
          "name": "stdout"
        },
        {
          "output_type": "display_data",
          "data": {
            "text/plain": [
              "[1] TRUE"
            ],
            "text/latex": "TRUE",
            "text/markdown": "TRUE",
            "text/html": [
              "TRUE"
            ]
          },
          "metadata": {
            "tags": []
          }
        },
        {
          "output_type": "stream",
          "text": [
            "'data.frame':\t447 obs. of  3 variables:\n",
            " $ date      : chr  \"2020-04-21\" \"2020-04-22\" \"2020-04-23\" \"2020-04-24\" ...\n",
            " $ npatients : int  11350 11772 12240 12681 13031 13232 13422 13695 13929 14120 ...\n",
            " $ adpatients: int  370 420 434 423 346 199 183 272 214 187 ...\n"
          ],
          "name": "stdout"
        },
        {
          "output_type": "display_data",
          "data": {
            "text/plain": [
              "  date       prefecture npatients new_patients\n",
              "1 2020-04-21 全国       11350     370         \n",
              "2 2020-04-22 全国       11772     420         \n",
              "3 2020-04-23 全国       12240     434         \n",
              "4 2020-04-24 全国       12681     423         \n",
              "5 2020-04-25 全国       13031     346         \n",
              "6 2020-04-26 全国       13232     199         "
            ],
            "text/latex": "A tibble: 6 × 4\n\\begin{tabular}{llll}\n date & prefecture & npatients & new\\_patients\\\\\n <date> & <chr> & <int> & <int>\\\\\n\\hline\n\t 2020-04-21 & 全国 & 11350 & 370\\\\\n\t 2020-04-22 & 全国 & 11772 & 420\\\\\n\t 2020-04-23 & 全国 & 12240 & 434\\\\\n\t 2020-04-24 & 全国 & 12681 & 423\\\\\n\t 2020-04-25 & 全国 & 13031 & 346\\\\\n\t 2020-04-26 & 全国 & 13232 & 199\\\\\n\\end{tabular}\n",
            "text/markdown": "\nA tibble: 6 × 4\n\n| date &lt;date&gt; | prefecture &lt;chr&gt; | npatients &lt;int&gt; | new_patients &lt;int&gt; |\n|---|---|---|---|\n| 2020-04-21 | 全国 | 11350 | 370 |\n| 2020-04-22 | 全国 | 11772 | 420 |\n| 2020-04-23 | 全国 | 12240 | 434 |\n| 2020-04-24 | 全国 | 12681 | 423 |\n| 2020-04-25 | 全国 | 13031 | 346 |\n| 2020-04-26 | 全国 | 13232 | 199 |\n\n",
            "text/html": [
              "<table class=\"dataframe\">\n",
              "<caption>A tibble: 6 × 4</caption>\n",
              "<thead>\n",
              "\t<tr><th scope=col>date</th><th scope=col>prefecture</th><th scope=col>npatients</th><th scope=col>new_patients</th></tr>\n",
              "\t<tr><th scope=col>&lt;date&gt;</th><th scope=col>&lt;chr&gt;</th><th scope=col>&lt;int&gt;</th><th scope=col>&lt;int&gt;</th></tr>\n",
              "</thead>\n",
              "<tbody>\n",
              "\t<tr><td>2020-04-21</td><td>全国</td><td>11350</td><td>370</td></tr>\n",
              "\t<tr><td>2020-04-22</td><td>全国</td><td>11772</td><td>420</td></tr>\n",
              "\t<tr><td>2020-04-23</td><td>全国</td><td>12240</td><td>434</td></tr>\n",
              "\t<tr><td>2020-04-24</td><td>全国</td><td>12681</td><td>423</td></tr>\n",
              "\t<tr><td>2020-04-25</td><td>全国</td><td>13031</td><td>346</td></tr>\n",
              "\t<tr><td>2020-04-26</td><td>全国</td><td>13232</td><td>199</td></tr>\n",
              "</tbody>\n",
              "</table>\n"
            ]
          },
          "metadata": {
            "tags": []
          }
        }
      ]
    },
    {
      "cell_type": "markdown",
      "metadata": {
        "id": "cLxmGcHE2YoE"
      },
      "source": [
        "### 6.2. 型を変換する\n",
        "\n",
        "3カラムとも文字列型なので、日付・カテゴリー・整数、にそれぞれ変換します。\n",
        "\n",
        "全国分のほうは、dateカラムは正しく日付型に、感染者数は両カラムとも整数型になっています。"
      ]
    },
    {
      "cell_type": "code",
      "metadata": {
        "colab": {
          "base_uri": "https://localhost:8080/",
          "height": 473
        },
        "id": "4aj-qZQO2w3a",
        "outputId": "99bec828-2d6e-4c4f-a9e0-6c12a3501570"
      },
      "source": [
        "# 日付型と整数型に変換が必要なカラムを処理。さっきとは別の、シンプルな書き方にしてみた。\n",
        "cum_patients <- cum_patients %>% \n",
        "# transmuteはmutateの変種で、名挙げしないカラムは消してしまう。\n",
        "    transmute(\n",
        "        date        = date %>% ymd(),\n",
        "        \"prefecture\"  = name_jp,\n",
        "        npatients   = npatients %>% parse_integer()\n",
        "    )\n",
        "str(cum_patients)\n",
        "head(cum_patients)\n",
        "summary(cum_patients)"
      ],
      "execution_count": null,
      "outputs": [
        {
          "output_type": "stream",
          "text": [
            "tibble [20,915 × 3] (S3: tbl_df/tbl/data.frame)\n",
            " $ date      : Date[1:20915], format: \"2021-07-10\" \"2021-07-10\" ...\n",
            " $ prefecture: chr [1:20915] \"北海道\" \"青森県\" \"岩手県\" \"宮城県\" ...\n",
            " $ npatients : int [1:20915] 41772 2538 1774 9298 935 2057 5074 10802 7229 8085 ...\n"
          ],
          "name": "stdout"
        },
        {
          "output_type": "display_data",
          "data": {
            "text/plain": [
              "  date       prefecture npatients\n",
              "1 2021-07-10 北海道     41772    \n",
              "2 2021-07-10 青森県      2538    \n",
              "3 2021-07-10 岩手県      1774    \n",
              "4 2021-07-10 宮城県      9298    \n",
              "5 2021-07-10 秋田県       935    \n",
              "6 2021-07-10 山形県      2057    "
            ],
            "text/latex": "A tibble: 6 × 3\n\\begin{tabular}{lll}\n date & prefecture & npatients\\\\\n <date> & <chr> & <int>\\\\\n\\hline\n\t 2021-07-10 & 北海道 & 41772\\\\\n\t 2021-07-10 & 青森県 &  2538\\\\\n\t 2021-07-10 & 岩手県 &  1774\\\\\n\t 2021-07-10 & 宮城県 &  9298\\\\\n\t 2021-07-10 & 秋田県 &   935\\\\\n\t 2021-07-10 & 山形県 &  2057\\\\\n\\end{tabular}\n",
            "text/markdown": "\nA tibble: 6 × 3\n\n| date &lt;date&gt; | prefecture &lt;chr&gt; | npatients &lt;int&gt; |\n|---|---|---|\n| 2021-07-10 | 北海道 | 41772 |\n| 2021-07-10 | 青森県 |  2538 |\n| 2021-07-10 | 岩手県 |  1774 |\n| 2021-07-10 | 宮城県 |  9298 |\n| 2021-07-10 | 秋田県 |   935 |\n| 2021-07-10 | 山形県 |  2057 |\n\n",
            "text/html": [
              "<table class=\"dataframe\">\n",
              "<caption>A tibble: 6 × 3</caption>\n",
              "<thead>\n",
              "\t<tr><th scope=col>date</th><th scope=col>prefecture</th><th scope=col>npatients</th></tr>\n",
              "\t<tr><th scope=col>&lt;date&gt;</th><th scope=col>&lt;chr&gt;</th><th scope=col>&lt;int&gt;</th></tr>\n",
              "</thead>\n",
              "<tbody>\n",
              "\t<tr><td>2021-07-10</td><td>北海道</td><td>41772</td></tr>\n",
              "\t<tr><td>2021-07-10</td><td>青森県</td><td> 2538</td></tr>\n",
              "\t<tr><td>2021-07-10</td><td>岩手県</td><td> 1774</td></tr>\n",
              "\t<tr><td>2021-07-10</td><td>宮城県</td><td> 9298</td></tr>\n",
              "\t<tr><td>2021-07-10</td><td>秋田県</td><td>  935</td></tr>\n",
              "\t<tr><td>2021-07-10</td><td>山形県</td><td> 2057</td></tr>\n",
              "</tbody>\n",
              "</table>\n"
            ]
          },
          "metadata": {
            "tags": []
          }
        },
        {
          "output_type": "display_data",
          "data": {
            "text/plain": [
              "      date             prefecture          npatients     \n",
              " Min.   :2020-04-22   Length:20915       Min.   :     0  \n",
              " 1st Qu.:2020-08-11   Class :character   1st Qu.:   180  \n",
              " Median :2020-11-30   Mode  :character   Median :   857  \n",
              " Mean   :2020-11-30                      Mean   :  5797  \n",
              " 3rd Qu.:2021-03-21                      3rd Qu.:  3502  \n",
              " Max.   :2021-07-10                      Max.   :181024  "
            ]
          },
          "metadata": {
            "tags": []
          }
        }
      ]
    },
    {
      "cell_type": "markdown",
      "metadata": {
        "id": "_6nodqYM3F6E"
      },
      "source": [
        "### 6.3. 新規感染者数と移動平均を計算する\n",
        "\n",
        "感染者数は、その日までの累計です。これをもとに、その日に増えた分＝新規感染者数を計算したいのですが、どうすればよいでしょう？\n",
        "\n",
        "日付順になっているので、まず都道府県別、その中で日付順、というふうに直します。それから、npatientsのカラムの、当日の数字から、前日の数字を引き算したものを、新しいカラムを作って保存します。さらに、曜日要因を取り除くため、7日移動平均も計算します。\n",
        "\n",
        "いよいよ、松波さんの資料を参考にして下さい。\n",
        "\n",
        "7日移動平均は、前後でなく過去1週間分を計算しています。最新の日付が上に来るようにしているので、lagではなくleadを使いました。\n",
        "\n",
        "1列が1日分で、途中の抜けがないかどうか。新規感染者については、数字に変化がない場合はデータなし、という構造だったとしても動作しますが、移動平均のほうはNGです。仮に途中に抜けがある場合は、行ではなく日付（時系列データ）をちゃんと見て処理しないといけません。深入りしませんが、マイナーなパッケージを使うと解決できる場合もあります。[こちら](https://rstudio-pubs-static.s3.amazonaws.com/640203_28880d5e47b44029b9279d8e24385fba.html)を参考にして下さい。"
      ]
    },
    {
      "cell_type": "code",
      "metadata": {
        "colab": {
          "base_uri": "https://localhost:8080/",
          "height": 665
        },
        "id": "aLLSpRoP6xEN",
        "outputId": "f65ff432-9276-4ea8-cfc0-7cbffed29c16"
      },
      "source": [
        "# 都道府県別に小分けした表を対象に、新規感染者と移動平均を計算する準備。即席のファンクションを作った。\n",
        "calc_diff <- function(nested_df){\n",
        "    return(\n",
        "        nested_df %>%\n",
        "        arrange(desc(date)) %>% \n",
        "        mutate(\n",
        "            \"new_patients\" = npatients - dplyr::lead(npatients),\n",
        "            \"patients_ma7\" = roll_meanl(new_patients, 7, )\n",
        "        )\n",
        "    )\n",
        "}\n",
        "\n",
        "# 都道府県ごとにnest（下の階層に畳む）する。\n",
        "patients <- cum_patients %>%\n",
        "    nest(data_by_pref = c(date, npatients)) %>%\n",
        "# さっき作ったファンクションを、県単位で当てはめていく\n",
        "    mutate(data_by_pref = map(data_by_pref, calc_diff)) %>% \n",
        "# 計算が終わったので、nestを解除する。\n",
        "    unnest(cols = data_by_pref)\n",
        "# 不要なデータを消す。\n",
        "rm(cum_patients)\n",
        "\n",
        "# 結果を見てみる。\n",
        "head(patients)\n",
        "str(patients)\n",
        "summary(patients)"
      ],
      "execution_count": null,
      "outputs": [
        {
          "output_type": "display_data",
          "data": {
            "text/plain": [
              "  prefecture date       npatients new_patients patients_ma7\n",
              "1 北海道     2021-07-10 41772     64           49.28571    \n",
              "2 北海道     2021-07-09 41708     50           44.42857    \n",
              "3 北海道     2021-07-08 41658     62           41.00000    \n",
              "4 北海道     2021-07-07 41596     67           37.71429    \n",
              "5 北海道     2021-07-06 41529     34           33.57143    \n",
              "6 北海道     2021-07-05 41495     29           32.00000    "
            ],
            "text/latex": "A tibble: 6 × 5\n\\begin{tabular}{lllll}\n prefecture & date & npatients & new\\_patients & patients\\_ma7\\\\\n <chr> & <date> & <int> & <int> & <dbl>\\\\\n\\hline\n\t 北海道 & 2021-07-10 & 41772 & 64 & 49.28571\\\\\n\t 北海道 & 2021-07-09 & 41708 & 50 & 44.42857\\\\\n\t 北海道 & 2021-07-08 & 41658 & 62 & 41.00000\\\\\n\t 北海道 & 2021-07-07 & 41596 & 67 & 37.71429\\\\\n\t 北海道 & 2021-07-06 & 41529 & 34 & 33.57143\\\\\n\t 北海道 & 2021-07-05 & 41495 & 29 & 32.00000\\\\\n\\end{tabular}\n",
            "text/markdown": "\nA tibble: 6 × 5\n\n| prefecture &lt;chr&gt; | date &lt;date&gt; | npatients &lt;int&gt; | new_patients &lt;int&gt; | patients_ma7 &lt;dbl&gt; |\n|---|---|---|---|---|\n| 北海道 | 2021-07-10 | 41772 | 64 | 49.28571 |\n| 北海道 | 2021-07-09 | 41708 | 50 | 44.42857 |\n| 北海道 | 2021-07-08 | 41658 | 62 | 41.00000 |\n| 北海道 | 2021-07-07 | 41596 | 67 | 37.71429 |\n| 北海道 | 2021-07-06 | 41529 | 34 | 33.57143 |\n| 北海道 | 2021-07-05 | 41495 | 29 | 32.00000 |\n\n",
            "text/html": [
              "<table class=\"dataframe\">\n",
              "<caption>A tibble: 6 × 5</caption>\n",
              "<thead>\n",
              "\t<tr><th scope=col>prefecture</th><th scope=col>date</th><th scope=col>npatients</th><th scope=col>new_patients</th><th scope=col>patients_ma7</th></tr>\n",
              "\t<tr><th scope=col>&lt;chr&gt;</th><th scope=col>&lt;date&gt;</th><th scope=col>&lt;int&gt;</th><th scope=col>&lt;int&gt;</th><th scope=col>&lt;dbl&gt;</th></tr>\n",
              "</thead>\n",
              "<tbody>\n",
              "\t<tr><td>北海道</td><td>2021-07-10</td><td>41772</td><td>64</td><td>49.28571</td></tr>\n",
              "\t<tr><td>北海道</td><td>2021-07-09</td><td>41708</td><td>50</td><td>44.42857</td></tr>\n",
              "\t<tr><td>北海道</td><td>2021-07-08</td><td>41658</td><td>62</td><td>41.00000</td></tr>\n",
              "\t<tr><td>北海道</td><td>2021-07-07</td><td>41596</td><td>67</td><td>37.71429</td></tr>\n",
              "\t<tr><td>北海道</td><td>2021-07-06</td><td>41529</td><td>34</td><td>33.57143</td></tr>\n",
              "\t<tr><td>北海道</td><td>2021-07-05</td><td>41495</td><td>29</td><td>32.00000</td></tr>\n",
              "</tbody>\n",
              "</table>\n"
            ]
          },
          "metadata": {
            "tags": []
          }
        },
        {
          "output_type": "stream",
          "text": [
            "tibble [20,915 × 5] (S3: tbl_df/tbl/data.frame)\n",
            " $ prefecture  : chr [1:20915] \"北海道\" \"北海道\" \"北海道\" \"北海道\" ...\n",
            " $ date        : Date[1:20915], format: \"2021-07-10\" \"2021-07-09\" ...\n",
            " $ npatients   : int [1:20915] 41772 41708 41658 41596 41529 41495 41466 41427 41397 41371 ...\n",
            " $ new_patients: int [1:20915] 64 50 62 67 34 29 39 30 26 39 ...\n",
            " $ patients_ma7: num [1:20915] 49.3 44.4 41 37.7 33.6 ...\n"
          ],
          "name": "stdout"
        },
        {
          "output_type": "display_data",
          "data": {
            "text/plain": [
              "  prefecture             date              npatients       new_patients    \n",
              " Length:20915       Min.   :2020-04-22   Min.   :     0   Min.   :-989.00  \n",
              " Class :character   1st Qu.:2020-08-11   1st Qu.:   180   1st Qu.:   0.00  \n",
              " Mode  :character   Median :2020-11-30   Median :   857   Median :   4.00  \n",
              "                    Mean   :2020-11-30   Mean   :  5797   Mean   :  38.51  \n",
              "                    3rd Qu.:2021-03-21   3rd Qu.:  3502   3rd Qu.:  25.00  \n",
              "                    Max.   :2021-07-10   Max.   :181024   Max.   :2447.00  \n",
              "                                                          NA's   :47       \n",
              "  patients_ma7      \n",
              " Min.   : -94.2857  \n",
              " 1st Qu.:   0.5714  \n",
              " Median :   5.7143  \n",
              " Mean   :  38.6679  \n",
              " 3rd Qu.:  26.7143  \n",
              " Max.   :1812.7143  \n",
              " NA's   :329        "
            ]
          },
          "metadata": {
            "tags": []
          }
        }
      ]
    },
    {
      "cell_type": "markdown",
      "metadata": {
        "id": "A6ShEZEJ7Ddv"
      },
      "source": [
        "前日との差が「マイナス」になっている箇所もあります。抽出してみましょう。"
      ]
    },
    {
      "cell_type": "code",
      "metadata": {
        "colab": {
          "base_uri": "https://localhost:8080/",
          "height": 1000
        },
        "id": "KFyTeTqs7OoM",
        "outputId": "3b526a3e-e192-4970-fff6-5b4b2157b801"
      },
      "source": [
        "patients %>% filter(\n",
        "    new_patients < 0\n",
        ")"
      ],
      "execution_count": null,
      "outputs": [
        {
          "output_type": "display_data",
          "data": {
            "text/plain": [
              "   prefecture date       npatients new_patients patients_ma7\n",
              "1  福島県     2021-04-06 2654      -258          25.0000000 \n",
              "2  栃木県     2020-10-12  444        -1           0.8571429 \n",
              "3  栃木県     2020-04-25   52        -1                  NA \n",
              "4  埼玉県     2020-05-30 1003        -1           0.5714286 \n",
              "5  千葉県     2020-06-05  904        -3          -0.2857143 \n",
              "6  千葉県     2020-06-02  906        -3           0.2857143 \n",
              "7  神奈川県   2020-09-23 5452      -989         -94.2857143 \n",
              "8  神奈川県   2020-05-10 1150        -8           7.0000000 \n",
              "9  新潟県     2020-09-07  145        -1           0.2857143 \n",
              "10 富山県     2021-03-29  933        -1           1.7142857 \n",
              "11 富山県     2020-10-19  422        -1           0.0000000 \n",
              "12 富山県     2020-09-10  407        -2           1.0000000 \n",
              "13 富山県     2020-05-09  216        -6           1.0000000 \n",
              "14 富山県     2020-05-01  201        -1           5.4285714 \n",
              "15 長野県     2020-04-25   66        -1                  NA \n",
              "16 岐阜県     2020-07-08  160        -3           0.4285714 \n",
              "17 静岡県     2020-06-05   75        -1          -0.1428571 \n",
              "18 愛知県     2020-05-09  491        -7           0.0000000 \n",
              "19 三重県     2021-02-25 2501       -73           8.7142857 \n",
              "20 滋賀県     2020-05-09   97        -1           0.1428571 \n",
              "21 京都府     2020-05-09  347        -1           2.7142857 \n",
              "22 兵庫県     2020-05-19  699        -1           0.7142857 \n",
              "23 鳥取県     2020-10-21   35        -1          -0.1428571 \n",
              "24 島根県     2020-12-31  207        -1           2.5714286 \n",
              "25 広島県     2020-10-13  641        -1           5.1428571 \n",
              "26 広島県     2020-06-02  167        -1           0.0000000 \n",
              "27 山口県     2020-10-01  201        -1           0.8571429 \n",
              "28 佐賀県     2021-03-15 1142        -1           6.8571429 \n",
              "29 佐賀県     2020-09-20  244        -1           0.0000000 \n",
              "30 鹿児島県   2021-02-08 1665        -4           4.7142857 \n",
              "31 鹿児島県   2020-05-14   10        -1           0.0000000 "
            ],
            "text/latex": "A tibble: 31 × 5\n\\begin{tabular}{lllll}\n prefecture & date & npatients & new\\_patients & patients\\_ma7\\\\\n <chr> & <date> & <int> & <int> & <dbl>\\\\\n\\hline\n\t 福島県   & 2021-04-06 & 2654 & -258 &  25.0000000\\\\\n\t 栃木県   & 2020-10-12 &  444 &   -1 &   0.8571429\\\\\n\t 栃木県   & 2020-04-25 &   52 &   -1 &          NA\\\\\n\t 埼玉県   & 2020-05-30 & 1003 &   -1 &   0.5714286\\\\\n\t 千葉県   & 2020-06-05 &  904 &   -3 &  -0.2857143\\\\\n\t 千葉県   & 2020-06-02 &  906 &   -3 &   0.2857143\\\\\n\t 神奈川県 & 2020-09-23 & 5452 & -989 & -94.2857143\\\\\n\t 神奈川県 & 2020-05-10 & 1150 &   -8 &   7.0000000\\\\\n\t 新潟県   & 2020-09-07 &  145 &   -1 &   0.2857143\\\\\n\t 富山県   & 2021-03-29 &  933 &   -1 &   1.7142857\\\\\n\t 富山県   & 2020-10-19 &  422 &   -1 &   0.0000000\\\\\n\t 富山県   & 2020-09-10 &  407 &   -2 &   1.0000000\\\\\n\t 富山県   & 2020-05-09 &  216 &   -6 &   1.0000000\\\\\n\t 富山県   & 2020-05-01 &  201 &   -1 &   5.4285714\\\\\n\t 長野県   & 2020-04-25 &   66 &   -1 &          NA\\\\\n\t 岐阜県   & 2020-07-08 &  160 &   -3 &   0.4285714\\\\\n\t 静岡県   & 2020-06-05 &   75 &   -1 &  -0.1428571\\\\\n\t 愛知県   & 2020-05-09 &  491 &   -7 &   0.0000000\\\\\n\t 三重県   & 2021-02-25 & 2501 &  -73 &   8.7142857\\\\\n\t 滋賀県   & 2020-05-09 &   97 &   -1 &   0.1428571\\\\\n\t 京都府   & 2020-05-09 &  347 &   -1 &   2.7142857\\\\\n\t 兵庫県   & 2020-05-19 &  699 &   -1 &   0.7142857\\\\\n\t 鳥取県   & 2020-10-21 &   35 &   -1 &  -0.1428571\\\\\n\t 島根県   & 2020-12-31 &  207 &   -1 &   2.5714286\\\\\n\t 広島県   & 2020-10-13 &  641 &   -1 &   5.1428571\\\\\n\t 広島県   & 2020-06-02 &  167 &   -1 &   0.0000000\\\\\n\t 山口県   & 2020-10-01 &  201 &   -1 &   0.8571429\\\\\n\t 佐賀県   & 2021-03-15 & 1142 &   -1 &   6.8571429\\\\\n\t 佐賀県   & 2020-09-20 &  244 &   -1 &   0.0000000\\\\\n\t 鹿児島県 & 2021-02-08 & 1665 &   -4 &   4.7142857\\\\\n\t 鹿児島県 & 2020-05-14 &   10 &   -1 &   0.0000000\\\\\n\\end{tabular}\n",
            "text/markdown": "\nA tibble: 31 × 5\n\n| prefecture &lt;chr&gt; | date &lt;date&gt; | npatients &lt;int&gt; | new_patients &lt;int&gt; | patients_ma7 &lt;dbl&gt; |\n|---|---|---|---|---|\n| 福島県   | 2021-04-06 | 2654 | -258 |  25.0000000 |\n| 栃木県   | 2020-10-12 |  444 |   -1 |   0.8571429 |\n| 栃木県   | 2020-04-25 |   52 |   -1 |          NA |\n| 埼玉県   | 2020-05-30 | 1003 |   -1 |   0.5714286 |\n| 千葉県   | 2020-06-05 |  904 |   -3 |  -0.2857143 |\n| 千葉県   | 2020-06-02 |  906 |   -3 |   0.2857143 |\n| 神奈川県 | 2020-09-23 | 5452 | -989 | -94.2857143 |\n| 神奈川県 | 2020-05-10 | 1150 |   -8 |   7.0000000 |\n| 新潟県   | 2020-09-07 |  145 |   -1 |   0.2857143 |\n| 富山県   | 2021-03-29 |  933 |   -1 |   1.7142857 |\n| 富山県   | 2020-10-19 |  422 |   -1 |   0.0000000 |\n| 富山県   | 2020-09-10 |  407 |   -2 |   1.0000000 |\n| 富山県   | 2020-05-09 |  216 |   -6 |   1.0000000 |\n| 富山県   | 2020-05-01 |  201 |   -1 |   5.4285714 |\n| 長野県   | 2020-04-25 |   66 |   -1 |          NA |\n| 岐阜県   | 2020-07-08 |  160 |   -3 |   0.4285714 |\n| 静岡県   | 2020-06-05 |   75 |   -1 |  -0.1428571 |\n| 愛知県   | 2020-05-09 |  491 |   -7 |   0.0000000 |\n| 三重県   | 2021-02-25 | 2501 |  -73 |   8.7142857 |\n| 滋賀県   | 2020-05-09 |   97 |   -1 |   0.1428571 |\n| 京都府   | 2020-05-09 |  347 |   -1 |   2.7142857 |\n| 兵庫県   | 2020-05-19 |  699 |   -1 |   0.7142857 |\n| 鳥取県   | 2020-10-21 |   35 |   -1 |  -0.1428571 |\n| 島根県   | 2020-12-31 |  207 |   -1 |   2.5714286 |\n| 広島県   | 2020-10-13 |  641 |   -1 |   5.1428571 |\n| 広島県   | 2020-06-02 |  167 |   -1 |   0.0000000 |\n| 山口県   | 2020-10-01 |  201 |   -1 |   0.8571429 |\n| 佐賀県   | 2021-03-15 | 1142 |   -1 |   6.8571429 |\n| 佐賀県   | 2020-09-20 |  244 |   -1 |   0.0000000 |\n| 鹿児島県 | 2021-02-08 | 1665 |   -4 |   4.7142857 |\n| 鹿児島県 | 2020-05-14 |   10 |   -1 |   0.0000000 |\n\n",
            "text/html": [
              "<table class=\"dataframe\">\n",
              "<caption>A tibble: 31 × 5</caption>\n",
              "<thead>\n",
              "\t<tr><th scope=col>prefecture</th><th scope=col>date</th><th scope=col>npatients</th><th scope=col>new_patients</th><th scope=col>patients_ma7</th></tr>\n",
              "\t<tr><th scope=col>&lt;chr&gt;</th><th scope=col>&lt;date&gt;</th><th scope=col>&lt;int&gt;</th><th scope=col>&lt;int&gt;</th><th scope=col>&lt;dbl&gt;</th></tr>\n",
              "</thead>\n",
              "<tbody>\n",
              "\t<tr><td>福島県  </td><td>2021-04-06</td><td>2654</td><td>-258</td><td> 25.0000000</td></tr>\n",
              "\t<tr><td>栃木県  </td><td>2020-10-12</td><td> 444</td><td>  -1</td><td>  0.8571429</td></tr>\n",
              "\t<tr><td>栃木県  </td><td>2020-04-25</td><td>  52</td><td>  -1</td><td>         NA</td></tr>\n",
              "\t<tr><td>埼玉県  </td><td>2020-05-30</td><td>1003</td><td>  -1</td><td>  0.5714286</td></tr>\n",
              "\t<tr><td>千葉県  </td><td>2020-06-05</td><td> 904</td><td>  -3</td><td> -0.2857143</td></tr>\n",
              "\t<tr><td>千葉県  </td><td>2020-06-02</td><td> 906</td><td>  -3</td><td>  0.2857143</td></tr>\n",
              "\t<tr><td>神奈川県</td><td>2020-09-23</td><td>5452</td><td>-989</td><td>-94.2857143</td></tr>\n",
              "\t<tr><td>神奈川県</td><td>2020-05-10</td><td>1150</td><td>  -8</td><td>  7.0000000</td></tr>\n",
              "\t<tr><td>新潟県  </td><td>2020-09-07</td><td> 145</td><td>  -1</td><td>  0.2857143</td></tr>\n",
              "\t<tr><td>富山県  </td><td>2021-03-29</td><td> 933</td><td>  -1</td><td>  1.7142857</td></tr>\n",
              "\t<tr><td>富山県  </td><td>2020-10-19</td><td> 422</td><td>  -1</td><td>  0.0000000</td></tr>\n",
              "\t<tr><td>富山県  </td><td>2020-09-10</td><td> 407</td><td>  -2</td><td>  1.0000000</td></tr>\n",
              "\t<tr><td>富山県  </td><td>2020-05-09</td><td> 216</td><td>  -6</td><td>  1.0000000</td></tr>\n",
              "\t<tr><td>富山県  </td><td>2020-05-01</td><td> 201</td><td>  -1</td><td>  5.4285714</td></tr>\n",
              "\t<tr><td>長野県  </td><td>2020-04-25</td><td>  66</td><td>  -1</td><td>         NA</td></tr>\n",
              "\t<tr><td>岐阜県  </td><td>2020-07-08</td><td> 160</td><td>  -3</td><td>  0.4285714</td></tr>\n",
              "\t<tr><td>静岡県  </td><td>2020-06-05</td><td>  75</td><td>  -1</td><td> -0.1428571</td></tr>\n",
              "\t<tr><td>愛知県  </td><td>2020-05-09</td><td> 491</td><td>  -7</td><td>  0.0000000</td></tr>\n",
              "\t<tr><td>三重県  </td><td>2021-02-25</td><td>2501</td><td> -73</td><td>  8.7142857</td></tr>\n",
              "\t<tr><td>滋賀県  </td><td>2020-05-09</td><td>  97</td><td>  -1</td><td>  0.1428571</td></tr>\n",
              "\t<tr><td>京都府  </td><td>2020-05-09</td><td> 347</td><td>  -1</td><td>  2.7142857</td></tr>\n",
              "\t<tr><td>兵庫県  </td><td>2020-05-19</td><td> 699</td><td>  -1</td><td>  0.7142857</td></tr>\n",
              "\t<tr><td>鳥取県  </td><td>2020-10-21</td><td>  35</td><td>  -1</td><td> -0.1428571</td></tr>\n",
              "\t<tr><td>島根県  </td><td>2020-12-31</td><td> 207</td><td>  -1</td><td>  2.5714286</td></tr>\n",
              "\t<tr><td>広島県  </td><td>2020-10-13</td><td> 641</td><td>  -1</td><td>  5.1428571</td></tr>\n",
              "\t<tr><td>広島県  </td><td>2020-06-02</td><td> 167</td><td>  -1</td><td>  0.0000000</td></tr>\n",
              "\t<tr><td>山口県  </td><td>2020-10-01</td><td> 201</td><td>  -1</td><td>  0.8571429</td></tr>\n",
              "\t<tr><td>佐賀県  </td><td>2021-03-15</td><td>1142</td><td>  -1</td><td>  6.8571429</td></tr>\n",
              "\t<tr><td>佐賀県  </td><td>2020-09-20</td><td> 244</td><td>  -1</td><td>  0.0000000</td></tr>\n",
              "\t<tr><td>鹿児島県</td><td>2021-02-08</td><td>1665</td><td>  -4</td><td>  4.7142857</td></tr>\n",
              "\t<tr><td>鹿児島県</td><td>2020-05-14</td><td>  10</td><td>  -1</td><td>  0.0000000</td></tr>\n",
              "</tbody>\n",
              "</table>\n"
            ]
          },
          "metadata": {
            "tags": []
          }
        }
      ]
    },
    {
      "cell_type": "markdown",
      "metadata": {
        "id": "Vi6cYzDU8OnL"
      },
      "source": [
        "感染者数の全国分は、もともと新規のデータがあるので、差分の計算は不要（計算しても、合いません）。7日移動平均のみ計算します。\n",
        "\n",
        "その上で、各都道府県の感染者数のデータとまとめて、一つの表にします。"
      ]
    },
    {
      "cell_type": "code",
      "metadata": {
        "colab": {
          "base_uri": "https://localhost:8080/",
          "height": 649
        },
        "id": "D2fMN-yn8Wtl",
        "outputId": "1f651a41-71ad-491c-af80-fe5915fe4c7e"
      },
      "source": [
        "# 全国の感染者数については、新規は計算不要。移動平均のみ計算する。\n",
        "cum_patients_jpn <- cum_patients_jpn %>%\n",
        "    arrange(desc(date)) %>% \n",
        "    mutate(\n",
        "        \"patients_ma7\" = roll_meanl(new_patients, 7, )\n",
        "    )\n",
        "# 先ほどの各都道府県分の表と結合する。\n",
        "patients <- patients %>%\n",
        "    bind_rows(cum_patients_jpn)\n",
        "\n",
        "# 累計のカラムの名前をワクチン接種の表に合わせて直しておく。\n",
        "patients <- patients %>%\n",
        "    rename(\"sum_patients\" = npatients)\n",
        "# 辞書順ではなく、コード順に都道府県をソート可能にしたいので、カテゴリー型に。\n",
        "# parse_factorでなくfactorにしないとローカルでは（後の部分で）エラーした。\n",
        "patients$prefecture <- parse_factor(patients$prefecture, levels = levels_prefecture)\n",
        "\n",
        "# 結果を見る。\n",
        "head(patients)\n",
        "tail(patients)\n",
        "str(patients)\n",
        "\n",
        "# 不要になったデータは消す\n",
        "rm(cum_patients_jpn)"
      ],
      "execution_count": null,
      "outputs": [
        {
          "output_type": "display_data",
          "data": {
            "text/plain": [
              "  prefecture date       sum_patients new_patients patients_ma7\n",
              "1 北海道     2021-07-10 41772        64           49.28571    \n",
              "2 北海道     2021-07-09 41708        50           44.42857    \n",
              "3 北海道     2021-07-08 41658        62           41.00000    \n",
              "4 北海道     2021-07-07 41596        67           37.71429    \n",
              "5 北海道     2021-07-06 41529        34           33.57143    \n",
              "6 北海道     2021-07-05 41495        29           32.00000    "
            ],
            "text/latex": "A tibble: 6 × 5\n\\begin{tabular}{lllll}\n prefecture & date & sum\\_patients & new\\_patients & patients\\_ma7\\\\\n <fct> & <date> & <int> & <int> & <dbl>\\\\\n\\hline\n\t 北海道 & 2021-07-10 & 41772 & 64 & 49.28571\\\\\n\t 北海道 & 2021-07-09 & 41708 & 50 & 44.42857\\\\\n\t 北海道 & 2021-07-08 & 41658 & 62 & 41.00000\\\\\n\t 北海道 & 2021-07-07 & 41596 & 67 & 37.71429\\\\\n\t 北海道 & 2021-07-06 & 41529 & 34 & 33.57143\\\\\n\t 北海道 & 2021-07-05 & 41495 & 29 & 32.00000\\\\\n\\end{tabular}\n",
            "text/markdown": "\nA tibble: 6 × 5\n\n| prefecture &lt;fct&gt; | date &lt;date&gt; | sum_patients &lt;int&gt; | new_patients &lt;int&gt; | patients_ma7 &lt;dbl&gt; |\n|---|---|---|---|---|\n| 北海道 | 2021-07-10 | 41772 | 64 | 49.28571 |\n| 北海道 | 2021-07-09 | 41708 | 50 | 44.42857 |\n| 北海道 | 2021-07-08 | 41658 | 62 | 41.00000 |\n| 北海道 | 2021-07-07 | 41596 | 67 | 37.71429 |\n| 北海道 | 2021-07-06 | 41529 | 34 | 33.57143 |\n| 北海道 | 2021-07-05 | 41495 | 29 | 32.00000 |\n\n",
            "text/html": [
              "<table class=\"dataframe\">\n",
              "<caption>A tibble: 6 × 5</caption>\n",
              "<thead>\n",
              "\t<tr><th scope=col>prefecture</th><th scope=col>date</th><th scope=col>sum_patients</th><th scope=col>new_patients</th><th scope=col>patients_ma7</th></tr>\n",
              "\t<tr><th scope=col>&lt;fct&gt;</th><th scope=col>&lt;date&gt;</th><th scope=col>&lt;int&gt;</th><th scope=col>&lt;int&gt;</th><th scope=col>&lt;dbl&gt;</th></tr>\n",
              "</thead>\n",
              "<tbody>\n",
              "\t<tr><td>北海道</td><td>2021-07-10</td><td>41772</td><td>64</td><td>49.28571</td></tr>\n",
              "\t<tr><td>北海道</td><td>2021-07-09</td><td>41708</td><td>50</td><td>44.42857</td></tr>\n",
              "\t<tr><td>北海道</td><td>2021-07-08</td><td>41658</td><td>62</td><td>41.00000</td></tr>\n",
              "\t<tr><td>北海道</td><td>2021-07-07</td><td>41596</td><td>67</td><td>37.71429</td></tr>\n",
              "\t<tr><td>北海道</td><td>2021-07-06</td><td>41529</td><td>34</td><td>33.57143</td></tr>\n",
              "\t<tr><td>北海道</td><td>2021-07-05</td><td>41495</td><td>29</td><td>32.00000</td></tr>\n",
              "</tbody>\n",
              "</table>\n"
            ]
          },
          "metadata": {
            "tags": []
          }
        },
        {
          "output_type": "display_data",
          "data": {
            "text/plain": [
              "  prefecture date       sum_patients new_patients patients_ma7\n",
              "1 全国       2020-04-26 13232        199          NA          \n",
              "2 全国       2020-04-25 13031        346          NA          \n",
              "3 全国       2020-04-24 12681        423          NA          \n",
              "4 全国       2020-04-23 12240        434          NA          \n",
              "5 全国       2020-04-22 11772        420          NA          \n",
              "6 全国       2020-04-21 11350        370          NA          "
            ],
            "text/latex": "A tibble: 6 × 5\n\\begin{tabular}{lllll}\n prefecture & date & sum\\_patients & new\\_patients & patients\\_ma7\\\\\n <fct> & <date> & <int> & <int> & <dbl>\\\\\n\\hline\n\t 全国 & 2020-04-26 & 13232 & 199 & NA\\\\\n\t 全国 & 2020-04-25 & 13031 & 346 & NA\\\\\n\t 全国 & 2020-04-24 & 12681 & 423 & NA\\\\\n\t 全国 & 2020-04-23 & 12240 & 434 & NA\\\\\n\t 全国 & 2020-04-22 & 11772 & 420 & NA\\\\\n\t 全国 & 2020-04-21 & 11350 & 370 & NA\\\\\n\\end{tabular}\n",
            "text/markdown": "\nA tibble: 6 × 5\n\n| prefecture &lt;fct&gt; | date &lt;date&gt; | sum_patients &lt;int&gt; | new_patients &lt;int&gt; | patients_ma7 &lt;dbl&gt; |\n|---|---|---|---|---|\n| 全国 | 2020-04-26 | 13232 | 199 | NA |\n| 全国 | 2020-04-25 | 13031 | 346 | NA |\n| 全国 | 2020-04-24 | 12681 | 423 | NA |\n| 全国 | 2020-04-23 | 12240 | 434 | NA |\n| 全国 | 2020-04-22 | 11772 | 420 | NA |\n| 全国 | 2020-04-21 | 11350 | 370 | NA |\n\n",
            "text/html": [
              "<table class=\"dataframe\">\n",
              "<caption>A tibble: 6 × 5</caption>\n",
              "<thead>\n",
              "\t<tr><th scope=col>prefecture</th><th scope=col>date</th><th scope=col>sum_patients</th><th scope=col>new_patients</th><th scope=col>patients_ma7</th></tr>\n",
              "\t<tr><th scope=col>&lt;fct&gt;</th><th scope=col>&lt;date&gt;</th><th scope=col>&lt;int&gt;</th><th scope=col>&lt;int&gt;</th><th scope=col>&lt;dbl&gt;</th></tr>\n",
              "</thead>\n",
              "<tbody>\n",
              "\t<tr><td>全国</td><td>2020-04-26</td><td>13232</td><td>199</td><td>NA</td></tr>\n",
              "\t<tr><td>全国</td><td>2020-04-25</td><td>13031</td><td>346</td><td>NA</td></tr>\n",
              "\t<tr><td>全国</td><td>2020-04-24</td><td>12681</td><td>423</td><td>NA</td></tr>\n",
              "\t<tr><td>全国</td><td>2020-04-23</td><td>12240</td><td>434</td><td>NA</td></tr>\n",
              "\t<tr><td>全国</td><td>2020-04-22</td><td>11772</td><td>420</td><td>NA</td></tr>\n",
              "\t<tr><td>全国</td><td>2020-04-21</td><td>11350</td><td>370</td><td>NA</td></tr>\n",
              "</tbody>\n",
              "</table>\n"
            ]
          },
          "metadata": {
            "tags": []
          }
        },
        {
          "output_type": "stream",
          "text": [
            "tibble [21,362 × 5] (S3: tbl_df/tbl/data.frame)\n",
            " $ prefecture  : Factor w/ 48 levels \"北海道\",\"青森県\",..: 1 1 1 1 1 1 1 1 1 1 ...\n",
            " $ date        : Date[1:21362], format: \"2021-07-10\" \"2021-07-09\" ...\n",
            " $ sum_patients: int [1:21362] 41772 41708 41658 41596 41529 41495 41466 41427 41397 41371 ...\n",
            " $ new_patients: int [1:21362] 64 50 62 67 34 29 39 30 26 39 ...\n",
            " $ patients_ma7: num [1:21362] 49.3 44.4 41 37.7 33.6 ...\n"
          ],
          "name": "stdout"
        }
      ]
    },
    {
      "cell_type": "markdown",
      "metadata": {
        "id": "wMKiSLOWa7z0"
      },
      "source": [
        "## 7.接種状況と感染状況をドッキング"
      ]
    },
    {
      "cell_type": "markdown",
      "metadata": {
        "id": "trYjVLeYbOLU"
      },
      "source": [
        "### 7.1. 何をキーに使うか\n",
        "\n",
        "最初に処理したワクチン接種のデータと、後から処理した感染者数のデータを、ドッキングします。同じ都道府県どうし、同じ日付のものを間違いなく、対応させなくてはなりません。\n",
        "\n",
        "ポイントは、それぞれのデータで、一意のキーとなるものはどれか、です。それを使って、突き合わせしていきます。\n",
        "\n",
        "もう一回、vaccinationsとpatientsを見ておきましょう。"
      ]
    },
    {
      "cell_type": "code",
      "metadata": {
        "colab": {
          "base_uri": "https://localhost:8080/",
          "height": 544
        },
        "id": "bmC2ZNRWb56Z",
        "outputId": "b9ca46fa-35cc-4bd4-ab81-61d61f504ea8"
      },
      "source": [
        "head(vaccinations)\n",
        "tail(vaccinations)"
      ],
      "execution_count": null,
      "outputs": [
        {
          "output_type": "display_data",
          "data": {
            "text/plain": [
              "  prefecture date       status1 status2 status_all total_status1 total_status2\n",
              "1 01         2021-07-12 10011   11555   21566      1318208       676819       \n",
              "2 01         2021-07-11 11640   12085   23725      1308197       665264       \n",
              "3 01         2021-07-10 17713   11049   28762      1296557       653179       \n",
              "4 01         2021-07-09 16757   11149   27906      1278844       642130       \n",
              "5 01         2021-07-08 22630   13853   36483      1262087       630981       \n",
              "6 01         2021-07-07 24146   14434   38580      1239457       617128       \n",
              "  total_status_all cum_vaccinations\n",
              "1 1995027          1973461         \n",
              "2 1973461          1949736         \n",
              "3 1949736          1920974         \n",
              "4 1920974          1893068         \n",
              "5 1893068          1856585         \n",
              "6 1856585          1818005         "
            ],
            "text/latex": "A tibble: 6 × 9\n\\begin{tabular}{lllllllll}\n prefecture & date & status1 & status2 & status\\_all & total\\_status1 & total\\_status2 & total\\_status\\_all & cum\\_vaccinations\\\\\n <chr> & <date> & <dbl> & <dbl> & <dbl> & <dbl> & <dbl> & <dbl> & <dbl>\\\\\n\\hline\n\t 01 & 2021-07-12 & 10011 & 11555 & 21566 & 1318208 & 676819 & 1995027 & 1973461\\\\\n\t 01 & 2021-07-11 & 11640 & 12085 & 23725 & 1308197 & 665264 & 1973461 & 1949736\\\\\n\t 01 & 2021-07-10 & 17713 & 11049 & 28762 & 1296557 & 653179 & 1949736 & 1920974\\\\\n\t 01 & 2021-07-09 & 16757 & 11149 & 27906 & 1278844 & 642130 & 1920974 & 1893068\\\\\n\t 01 & 2021-07-08 & 22630 & 13853 & 36483 & 1262087 & 630981 & 1893068 & 1856585\\\\\n\t 01 & 2021-07-07 & 24146 & 14434 & 38580 & 1239457 & 617128 & 1856585 & 1818005\\\\\n\\end{tabular}\n",
            "text/markdown": "\nA tibble: 6 × 9\n\n| prefecture &lt;chr&gt; | date &lt;date&gt; | status1 &lt;dbl&gt; | status2 &lt;dbl&gt; | status_all &lt;dbl&gt; | total_status1 &lt;dbl&gt; | total_status2 &lt;dbl&gt; | total_status_all &lt;dbl&gt; | cum_vaccinations &lt;dbl&gt; |\n|---|---|---|---|---|---|---|---|---|\n| 01 | 2021-07-12 | 10011 | 11555 | 21566 | 1318208 | 676819 | 1995027 | 1973461 |\n| 01 | 2021-07-11 | 11640 | 12085 | 23725 | 1308197 | 665264 | 1973461 | 1949736 |\n| 01 | 2021-07-10 | 17713 | 11049 | 28762 | 1296557 | 653179 | 1949736 | 1920974 |\n| 01 | 2021-07-09 | 16757 | 11149 | 27906 | 1278844 | 642130 | 1920974 | 1893068 |\n| 01 | 2021-07-08 | 22630 | 13853 | 36483 | 1262087 | 630981 | 1893068 | 1856585 |\n| 01 | 2021-07-07 | 24146 | 14434 | 38580 | 1239457 | 617128 | 1856585 | 1818005 |\n\n",
            "text/html": [
              "<table class=\"dataframe\">\n",
              "<caption>A tibble: 6 × 9</caption>\n",
              "<thead>\n",
              "\t<tr><th scope=col>prefecture</th><th scope=col>date</th><th scope=col>status1</th><th scope=col>status2</th><th scope=col>status_all</th><th scope=col>total_status1</th><th scope=col>total_status2</th><th scope=col>total_status_all</th><th scope=col>cum_vaccinations</th></tr>\n",
              "\t<tr><th scope=col>&lt;chr&gt;</th><th scope=col>&lt;date&gt;</th><th scope=col>&lt;dbl&gt;</th><th scope=col>&lt;dbl&gt;</th><th scope=col>&lt;dbl&gt;</th><th scope=col>&lt;dbl&gt;</th><th scope=col>&lt;dbl&gt;</th><th scope=col>&lt;dbl&gt;</th><th scope=col>&lt;dbl&gt;</th></tr>\n",
              "</thead>\n",
              "<tbody>\n",
              "\t<tr><td>01</td><td>2021-07-12</td><td>10011</td><td>11555</td><td>21566</td><td>1318208</td><td>676819</td><td>1995027</td><td>1973461</td></tr>\n",
              "\t<tr><td>01</td><td>2021-07-11</td><td>11640</td><td>12085</td><td>23725</td><td>1308197</td><td>665264</td><td>1973461</td><td>1949736</td></tr>\n",
              "\t<tr><td>01</td><td>2021-07-10</td><td>17713</td><td>11049</td><td>28762</td><td>1296557</td><td>653179</td><td>1949736</td><td>1920974</td></tr>\n",
              "\t<tr><td>01</td><td>2021-07-09</td><td>16757</td><td>11149</td><td>27906</td><td>1278844</td><td>642130</td><td>1920974</td><td>1893068</td></tr>\n",
              "\t<tr><td>01</td><td>2021-07-08</td><td>22630</td><td>13853</td><td>36483</td><td>1262087</td><td>630981</td><td>1893068</td><td>1856585</td></tr>\n",
              "\t<tr><td>01</td><td>2021-07-07</td><td>24146</td><td>14434</td><td>38580</td><td>1239457</td><td>617128</td><td>1856585</td><td>1818005</td></tr>\n",
              "</tbody>\n",
              "</table>\n"
            ]
          },
          "metadata": {
            "tags": []
          }
        },
        {
          "output_type": "display_data",
          "data": {
            "text/plain": [
              "  prefecture date       status1 status2 status_all total_status1 total_status2\n",
              "1 TOTAL/AVE  2021-04-17 7670    0       7670       40060         0            \n",
              "2 TOTAL/AVE  2021-04-16 9945    0       9945       32390         0            \n",
              "3 TOTAL/AVE  2021-04-15 8593    0       8593       22445         0            \n",
              "4 TOTAL/AVE  2021-04-14 4842    0       4842       13852         0            \n",
              "5 TOTAL/AVE  2021-04-13 4217    0       4217        9010         0            \n",
              "6 TOTAL/AVE  2021-04-12 4793    0       4793        4793         0            \n",
              "  total_status_all cum_vaccinations\n",
              "1 40060            32390           \n",
              "2 32390            22445           \n",
              "3 22445            13852           \n",
              "4 13852             9010           \n",
              "5  9010             4793           \n",
              "6  4793                0           "
            ],
            "text/latex": "A tibble: 6 × 9\n\\begin{tabular}{lllllllll}\n prefecture & date & status1 & status2 & status\\_all & total\\_status1 & total\\_status2 & total\\_status\\_all & cum\\_vaccinations\\\\\n <chr> & <date> & <dbl> & <dbl> & <dbl> & <dbl> & <dbl> & <dbl> & <dbl>\\\\\n\\hline\n\t TOTAL/AVE & 2021-04-17 & 7670 & 0 & 7670 & 40060 & 0 & 40060 & 32390\\\\\n\t TOTAL/AVE & 2021-04-16 & 9945 & 0 & 9945 & 32390 & 0 & 32390 & 22445\\\\\n\t TOTAL/AVE & 2021-04-15 & 8593 & 0 & 8593 & 22445 & 0 & 22445 & 13852\\\\\n\t TOTAL/AVE & 2021-04-14 & 4842 & 0 & 4842 & 13852 & 0 & 13852 &  9010\\\\\n\t TOTAL/AVE & 2021-04-13 & 4217 & 0 & 4217 &  9010 & 0 &  9010 &  4793\\\\\n\t TOTAL/AVE & 2021-04-12 & 4793 & 0 & 4793 &  4793 & 0 &  4793 &     0\\\\\n\\end{tabular}\n",
            "text/markdown": "\nA tibble: 6 × 9\n\n| prefecture &lt;chr&gt; | date &lt;date&gt; | status1 &lt;dbl&gt; | status2 &lt;dbl&gt; | status_all &lt;dbl&gt; | total_status1 &lt;dbl&gt; | total_status2 &lt;dbl&gt; | total_status_all &lt;dbl&gt; | cum_vaccinations &lt;dbl&gt; |\n|---|---|---|---|---|---|---|---|---|\n| TOTAL/AVE | 2021-04-17 | 7670 | 0 | 7670 | 40060 | 0 | 40060 | 32390 |\n| TOTAL/AVE | 2021-04-16 | 9945 | 0 | 9945 | 32390 | 0 | 32390 | 22445 |\n| TOTAL/AVE | 2021-04-15 | 8593 | 0 | 8593 | 22445 | 0 | 22445 | 13852 |\n| TOTAL/AVE | 2021-04-14 | 4842 | 0 | 4842 | 13852 | 0 | 13852 |  9010 |\n| TOTAL/AVE | 2021-04-13 | 4217 | 0 | 4217 |  9010 | 0 |  9010 |  4793 |\n| TOTAL/AVE | 2021-04-12 | 4793 | 0 | 4793 |  4793 | 0 |  4793 |     0 |\n\n",
            "text/html": [
              "<table class=\"dataframe\">\n",
              "<caption>A tibble: 6 × 9</caption>\n",
              "<thead>\n",
              "\t<tr><th scope=col>prefecture</th><th scope=col>date</th><th scope=col>status1</th><th scope=col>status2</th><th scope=col>status_all</th><th scope=col>total_status1</th><th scope=col>total_status2</th><th scope=col>total_status_all</th><th scope=col>cum_vaccinations</th></tr>\n",
              "\t<tr><th scope=col>&lt;chr&gt;</th><th scope=col>&lt;date&gt;</th><th scope=col>&lt;dbl&gt;</th><th scope=col>&lt;dbl&gt;</th><th scope=col>&lt;dbl&gt;</th><th scope=col>&lt;dbl&gt;</th><th scope=col>&lt;dbl&gt;</th><th scope=col>&lt;dbl&gt;</th><th scope=col>&lt;dbl&gt;</th></tr>\n",
              "</thead>\n",
              "<tbody>\n",
              "\t<tr><td>TOTAL/AVE</td><td>2021-04-17</td><td>7670</td><td>0</td><td>7670</td><td>40060</td><td>0</td><td>40060</td><td>32390</td></tr>\n",
              "\t<tr><td>TOTAL/AVE</td><td>2021-04-16</td><td>9945</td><td>0</td><td>9945</td><td>32390</td><td>0</td><td>32390</td><td>22445</td></tr>\n",
              "\t<tr><td>TOTAL/AVE</td><td>2021-04-15</td><td>8593</td><td>0</td><td>8593</td><td>22445</td><td>0</td><td>22445</td><td>13852</td></tr>\n",
              "\t<tr><td>TOTAL/AVE</td><td>2021-04-14</td><td>4842</td><td>0</td><td>4842</td><td>13852</td><td>0</td><td>13852</td><td> 9010</td></tr>\n",
              "\t<tr><td>TOTAL/AVE</td><td>2021-04-13</td><td>4217</td><td>0</td><td>4217</td><td> 9010</td><td>0</td><td> 9010</td><td> 4793</td></tr>\n",
              "\t<tr><td>TOTAL/AVE</td><td>2021-04-12</td><td>4793</td><td>0</td><td>4793</td><td> 4793</td><td>0</td><td> 4793</td><td>    0</td></tr>\n",
              "</tbody>\n",
              "</table>\n"
            ]
          },
          "metadata": {
            "tags": []
          }
        }
      ]
    },
    {
      "cell_type": "code",
      "metadata": {
        "colab": {
          "base_uri": "https://localhost:8080/",
          "height": 544
        },
        "id": "BNvOQ4SScCMx",
        "outputId": "b31d2fb9-4745-45c7-808f-10889c55ceb4"
      },
      "source": [
        "head(patients)\n",
        "tail(patients)"
      ],
      "execution_count": null,
      "outputs": [
        {
          "output_type": "display_data",
          "data": {
            "text/plain": [
              "  prefecture date       sum_patients new_patients patients_ma7\n",
              "1 北海道     2021-07-10 41772        64           49.28571    \n",
              "2 北海道     2021-07-09 41708        50           44.42857    \n",
              "3 北海道     2021-07-08 41658        62           41.00000    \n",
              "4 北海道     2021-07-07 41596        67           37.71429    \n",
              "5 北海道     2021-07-06 41529        34           33.57143    \n",
              "6 北海道     2021-07-05 41495        29           32.00000    "
            ],
            "text/latex": "A tibble: 6 × 5\n\\begin{tabular}{lllll}\n prefecture & date & sum\\_patients & new\\_patients & patients\\_ma7\\\\\n <fct> & <date> & <int> & <int> & <dbl>\\\\\n\\hline\n\t 北海道 & 2021-07-10 & 41772 & 64 & 49.28571\\\\\n\t 北海道 & 2021-07-09 & 41708 & 50 & 44.42857\\\\\n\t 北海道 & 2021-07-08 & 41658 & 62 & 41.00000\\\\\n\t 北海道 & 2021-07-07 & 41596 & 67 & 37.71429\\\\\n\t 北海道 & 2021-07-06 & 41529 & 34 & 33.57143\\\\\n\t 北海道 & 2021-07-05 & 41495 & 29 & 32.00000\\\\\n\\end{tabular}\n",
            "text/markdown": "\nA tibble: 6 × 5\n\n| prefecture &lt;fct&gt; | date &lt;date&gt; | sum_patients &lt;int&gt; | new_patients &lt;int&gt; | patients_ma7 &lt;dbl&gt; |\n|---|---|---|---|---|\n| 北海道 | 2021-07-10 | 41772 | 64 | 49.28571 |\n| 北海道 | 2021-07-09 | 41708 | 50 | 44.42857 |\n| 北海道 | 2021-07-08 | 41658 | 62 | 41.00000 |\n| 北海道 | 2021-07-07 | 41596 | 67 | 37.71429 |\n| 北海道 | 2021-07-06 | 41529 | 34 | 33.57143 |\n| 北海道 | 2021-07-05 | 41495 | 29 | 32.00000 |\n\n",
            "text/html": [
              "<table class=\"dataframe\">\n",
              "<caption>A tibble: 6 × 5</caption>\n",
              "<thead>\n",
              "\t<tr><th scope=col>prefecture</th><th scope=col>date</th><th scope=col>sum_patients</th><th scope=col>new_patients</th><th scope=col>patients_ma7</th></tr>\n",
              "\t<tr><th scope=col>&lt;fct&gt;</th><th scope=col>&lt;date&gt;</th><th scope=col>&lt;int&gt;</th><th scope=col>&lt;int&gt;</th><th scope=col>&lt;dbl&gt;</th></tr>\n",
              "</thead>\n",
              "<tbody>\n",
              "\t<tr><td>北海道</td><td>2021-07-10</td><td>41772</td><td>64</td><td>49.28571</td></tr>\n",
              "\t<tr><td>北海道</td><td>2021-07-09</td><td>41708</td><td>50</td><td>44.42857</td></tr>\n",
              "\t<tr><td>北海道</td><td>2021-07-08</td><td>41658</td><td>62</td><td>41.00000</td></tr>\n",
              "\t<tr><td>北海道</td><td>2021-07-07</td><td>41596</td><td>67</td><td>37.71429</td></tr>\n",
              "\t<tr><td>北海道</td><td>2021-07-06</td><td>41529</td><td>34</td><td>33.57143</td></tr>\n",
              "\t<tr><td>北海道</td><td>2021-07-05</td><td>41495</td><td>29</td><td>32.00000</td></tr>\n",
              "</tbody>\n",
              "</table>\n"
            ]
          },
          "metadata": {
            "tags": []
          }
        },
        {
          "output_type": "display_data",
          "data": {
            "text/plain": [
              "  prefecture date       sum_patients new_patients patients_ma7\n",
              "1 全国       2020-04-26 13232        199          NA          \n",
              "2 全国       2020-04-25 13031        346          NA          \n",
              "3 全国       2020-04-24 12681        423          NA          \n",
              "4 全国       2020-04-23 12240        434          NA          \n",
              "5 全国       2020-04-22 11772        420          NA          \n",
              "6 全国       2020-04-21 11350        370          NA          "
            ],
            "text/latex": "A tibble: 6 × 5\n\\begin{tabular}{lllll}\n prefecture & date & sum\\_patients & new\\_patients & patients\\_ma7\\\\\n <fct> & <date> & <int> & <int> & <dbl>\\\\\n\\hline\n\t 全国 & 2020-04-26 & 13232 & 199 & NA\\\\\n\t 全国 & 2020-04-25 & 13031 & 346 & NA\\\\\n\t 全国 & 2020-04-24 & 12681 & 423 & NA\\\\\n\t 全国 & 2020-04-23 & 12240 & 434 & NA\\\\\n\t 全国 & 2020-04-22 & 11772 & 420 & NA\\\\\n\t 全国 & 2020-04-21 & 11350 & 370 & NA\\\\\n\\end{tabular}\n",
            "text/markdown": "\nA tibble: 6 × 5\n\n| prefecture &lt;fct&gt; | date &lt;date&gt; | sum_patients &lt;int&gt; | new_patients &lt;int&gt; | patients_ma7 &lt;dbl&gt; |\n|---|---|---|---|---|\n| 全国 | 2020-04-26 | 13232 | 199 | NA |\n| 全国 | 2020-04-25 | 13031 | 346 | NA |\n| 全国 | 2020-04-24 | 12681 | 423 | NA |\n| 全国 | 2020-04-23 | 12240 | 434 | NA |\n| 全国 | 2020-04-22 | 11772 | 420 | NA |\n| 全国 | 2020-04-21 | 11350 | 370 | NA |\n\n",
            "text/html": [
              "<table class=\"dataframe\">\n",
              "<caption>A tibble: 6 × 5</caption>\n",
              "<thead>\n",
              "\t<tr><th scope=col>prefecture</th><th scope=col>date</th><th scope=col>sum_patients</th><th scope=col>new_patients</th><th scope=col>patients_ma7</th></tr>\n",
              "\t<tr><th scope=col>&lt;fct&gt;</th><th scope=col>&lt;date&gt;</th><th scope=col>&lt;int&gt;</th><th scope=col>&lt;int&gt;</th><th scope=col>&lt;dbl&gt;</th></tr>\n",
              "</thead>\n",
              "<tbody>\n",
              "\t<tr><td>全国</td><td>2020-04-26</td><td>13232</td><td>199</td><td>NA</td></tr>\n",
              "\t<tr><td>全国</td><td>2020-04-25</td><td>13031</td><td>346</td><td>NA</td></tr>\n",
              "\t<tr><td>全国</td><td>2020-04-24</td><td>12681</td><td>423</td><td>NA</td></tr>\n",
              "\t<tr><td>全国</td><td>2020-04-23</td><td>12240</td><td>434</td><td>NA</td></tr>\n",
              "\t<tr><td>全国</td><td>2020-04-22</td><td>11772</td><td>420</td><td>NA</td></tr>\n",
              "\t<tr><td>全国</td><td>2020-04-21</td><td>11350</td><td>370</td><td>NA</td></tr>\n",
              "</tbody>\n",
              "</table>\n"
            ]
          },
          "metadata": {
            "tags": []
          }
        }
      ]
    },
    {
      "cell_type": "markdown",
      "metadata": {
        "id": "k-eSwRecc86O"
      },
      "source": [
        "「prefectureカラムとdateカラムのペア」をひとまとめにしたものが、どちらの表でも、それぞれの行に固有なキーになっていますね。これを生かして、××県の△△日のデータ、と指定すれば、狙ったものが選び出せるわけです。\n",
        "\n",
        "でも、同じprefectureカラムでも、一方は都道府県コードで、もう一方は都道府県名です。それで、対照表を用意していたのでした。なので、まずは対照表とドッキングさせます。ほかの手順も考えられますが、ここでは、両方の表を対照表とドッキングさせます。\n"
      ]
    },
    {
      "cell_type": "markdown",
      "metadata": {
        "id": "_EMabB302tsV"
      },
      "source": [
        "### 7.2. 対照表とjoinする\n",
        "\n",
        "2つのtibbleを付き合わせて結合するには、joinを使います。\n",
        "\n",
        "いくつか種類があります。突合できないデータがあったときに、残すか、捨てるか、が違います。きょうは深入りしませんので、ご自身で使う際に調べて下さい。NA値を「どれも同じもの」と見なすか否か、伝統的なデータベースとRでは、デフォルトの挙動が違ったりします。\n",
        "\n",
        "patientsには、県名のカラムprefectureがあります。これをキーにして、5.2.で作った対照表pref_popとjoinします。対照表にもprefectureカラムがあり、やはり一意のキーになっています。\n"
      ]
    },
    {
      "cell_type": "code",
      "metadata": {
        "id": "VFBMcjJ8a8Qd",
        "colab": {
          "base_uri": "https://localhost:8080/",
          "height": 544
        },
        "outputId": "83cd68da-43a3-4be0-c7b2-70e465848cbf"
      },
      "source": [
        "# patientsとvaccinationsを結合する。\n",
        "# そのために、この２つの表の「都道府県」の対照表を使う。\n",
        "# patientsには都道府県名のカラムがあるので、それをキーに対照表と結合。\n",
        "patients <- patients %>%\n",
        "# prefecture以外は畳む。\n",
        "    nest(data = -prefecture) %>%\n",
        "# prefectureカラムをキーにして突合する。\n",
        "    left_join(pref_pop, by = \"prefecture\") %>% \n",
        "# ネストを戻す。\n",
        "unnest(cols = data)\n",
        "\n",
        "# こうなった\n",
        "head(patients)\n",
        "tail(patients)"
      ],
      "execution_count": null,
      "outputs": [
        {
          "output_type": "display_data",
          "data": {
            "text/plain": [
              "  prefecture date       sum_patients new_patients patients_ma7 code\n",
              "1 北海道     2021-07-10 41772        64           49.28571     01  \n",
              "2 北海道     2021-07-09 41708        50           44.42857     01  \n",
              "3 北海道     2021-07-08 41658        62           41.00000     01  \n",
              "4 北海道     2021-07-07 41596        67           37.71429     01  \n",
              "5 北海道     2021-07-06 41529        34           33.57143     01  \n",
              "6 北海道     2021-07-05 41495        29           32.00000     01  \n",
              "  prefecture_short population block       \n",
              "1 北海道           5267762    北海道・東北\n",
              "2 北海道           5267762    北海道・東北\n",
              "3 北海道           5267762    北海道・東北\n",
              "4 北海道           5267762    北海道・東北\n",
              "5 北海道           5267762    北海道・東北\n",
              "6 北海道           5267762    北海道・東北"
            ],
            "text/latex": "A tibble: 6 × 9\n\\begin{tabular}{lllllllll}\n prefecture & date & sum\\_patients & new\\_patients & patients\\_ma7 & code & prefecture\\_short & population & block\\\\\n <fct> & <date> & <int> & <int> & <dbl> & <fct> & <fct> & <int> & <fct>\\\\\n\\hline\n\t 北海道 & 2021-07-10 & 41772 & 64 & 49.28571 & 01 & 北海道 & 5267762 & 北海道・東北\\\\\n\t 北海道 & 2021-07-09 & 41708 & 50 & 44.42857 & 01 & 北海道 & 5267762 & 北海道・東北\\\\\n\t 北海道 & 2021-07-08 & 41658 & 62 & 41.00000 & 01 & 北海道 & 5267762 & 北海道・東北\\\\\n\t 北海道 & 2021-07-07 & 41596 & 67 & 37.71429 & 01 & 北海道 & 5267762 & 北海道・東北\\\\\n\t 北海道 & 2021-07-06 & 41529 & 34 & 33.57143 & 01 & 北海道 & 5267762 & 北海道・東北\\\\\n\t 北海道 & 2021-07-05 & 41495 & 29 & 32.00000 & 01 & 北海道 & 5267762 & 北海道・東北\\\\\n\\end{tabular}\n",
            "text/markdown": "\nA tibble: 6 × 9\n\n| prefecture &lt;fct&gt; | date &lt;date&gt; | sum_patients &lt;int&gt; | new_patients &lt;int&gt; | patients_ma7 &lt;dbl&gt; | code &lt;fct&gt; | prefecture_short &lt;fct&gt; | population &lt;int&gt; | block &lt;fct&gt; |\n|---|---|---|---|---|---|---|---|---|\n| 北海道 | 2021-07-10 | 41772 | 64 | 49.28571 | 01 | 北海道 | 5267762 | 北海道・東北 |\n| 北海道 | 2021-07-09 | 41708 | 50 | 44.42857 | 01 | 北海道 | 5267762 | 北海道・東北 |\n| 北海道 | 2021-07-08 | 41658 | 62 | 41.00000 | 01 | 北海道 | 5267762 | 北海道・東北 |\n| 北海道 | 2021-07-07 | 41596 | 67 | 37.71429 | 01 | 北海道 | 5267762 | 北海道・東北 |\n| 北海道 | 2021-07-06 | 41529 | 34 | 33.57143 | 01 | 北海道 | 5267762 | 北海道・東北 |\n| 北海道 | 2021-07-05 | 41495 | 29 | 32.00000 | 01 | 北海道 | 5267762 | 北海道・東北 |\n\n",
            "text/html": [
              "<table class=\"dataframe\">\n",
              "<caption>A tibble: 6 × 9</caption>\n",
              "<thead>\n",
              "\t<tr><th scope=col>prefecture</th><th scope=col>date</th><th scope=col>sum_patients</th><th scope=col>new_patients</th><th scope=col>patients_ma7</th><th scope=col>code</th><th scope=col>prefecture_short</th><th scope=col>population</th><th scope=col>block</th></tr>\n",
              "\t<tr><th scope=col>&lt;fct&gt;</th><th scope=col>&lt;date&gt;</th><th scope=col>&lt;int&gt;</th><th scope=col>&lt;int&gt;</th><th scope=col>&lt;dbl&gt;</th><th scope=col>&lt;fct&gt;</th><th scope=col>&lt;fct&gt;</th><th scope=col>&lt;int&gt;</th><th scope=col>&lt;fct&gt;</th></tr>\n",
              "</thead>\n",
              "<tbody>\n",
              "\t<tr><td>北海道</td><td>2021-07-10</td><td>41772</td><td>64</td><td>49.28571</td><td>01</td><td>北海道</td><td>5267762</td><td>北海道・東北</td></tr>\n",
              "\t<tr><td>北海道</td><td>2021-07-09</td><td>41708</td><td>50</td><td>44.42857</td><td>01</td><td>北海道</td><td>5267762</td><td>北海道・東北</td></tr>\n",
              "\t<tr><td>北海道</td><td>2021-07-08</td><td>41658</td><td>62</td><td>41.00000</td><td>01</td><td>北海道</td><td>5267762</td><td>北海道・東北</td></tr>\n",
              "\t<tr><td>北海道</td><td>2021-07-07</td><td>41596</td><td>67</td><td>37.71429</td><td>01</td><td>北海道</td><td>5267762</td><td>北海道・東北</td></tr>\n",
              "\t<tr><td>北海道</td><td>2021-07-06</td><td>41529</td><td>34</td><td>33.57143</td><td>01</td><td>北海道</td><td>5267762</td><td>北海道・東北</td></tr>\n",
              "\t<tr><td>北海道</td><td>2021-07-05</td><td>41495</td><td>29</td><td>32.00000</td><td>01</td><td>北海道</td><td>5267762</td><td>北海道・東北</td></tr>\n",
              "</tbody>\n",
              "</table>\n"
            ]
          },
          "metadata": {
            "tags": []
          }
        },
        {
          "output_type": "display_data",
          "data": {
            "text/plain": [
              "  prefecture date       sum_patients new_patients patients_ma7 code     \n",
              "1 全国       2020-04-26 13232        199          NA           TOTAL/AVE\n",
              "2 全国       2020-04-25 13031        346          NA           TOTAL/AVE\n",
              "3 全国       2020-04-24 12681        423          NA           TOTAL/AVE\n",
              "4 全国       2020-04-23 12240        434          NA           TOTAL/AVE\n",
              "5 全国       2020-04-22 11772        420          NA           TOTAL/AVE\n",
              "6 全国       2020-04-21 11350        370          NA           TOTAL/AVE\n",
              "  prefecture_short population block\n",
              "1 全国             127138033  全国 \n",
              "2 全国             127138033  全国 \n",
              "3 全国             127138033  全国 \n",
              "4 全国             127138033  全国 \n",
              "5 全国             127138033  全国 \n",
              "6 全国             127138033  全国 "
            ],
            "text/latex": "A tibble: 6 × 9\n\\begin{tabular}{lllllllll}\n prefecture & date & sum\\_patients & new\\_patients & patients\\_ma7 & code & prefecture\\_short & population & block\\\\\n <fct> & <date> & <int> & <int> & <dbl> & <fct> & <fct> & <int> & <fct>\\\\\n\\hline\n\t 全国 & 2020-04-26 & 13232 & 199 & NA & TOTAL/AVE & 全国 & 127138033 & 全国\\\\\n\t 全国 & 2020-04-25 & 13031 & 346 & NA & TOTAL/AVE & 全国 & 127138033 & 全国\\\\\n\t 全国 & 2020-04-24 & 12681 & 423 & NA & TOTAL/AVE & 全国 & 127138033 & 全国\\\\\n\t 全国 & 2020-04-23 & 12240 & 434 & NA & TOTAL/AVE & 全国 & 127138033 & 全国\\\\\n\t 全国 & 2020-04-22 & 11772 & 420 & NA & TOTAL/AVE & 全国 & 127138033 & 全国\\\\\n\t 全国 & 2020-04-21 & 11350 & 370 & NA & TOTAL/AVE & 全国 & 127138033 & 全国\\\\\n\\end{tabular}\n",
            "text/markdown": "\nA tibble: 6 × 9\n\n| prefecture &lt;fct&gt; | date &lt;date&gt; | sum_patients &lt;int&gt; | new_patients &lt;int&gt; | patients_ma7 &lt;dbl&gt; | code &lt;fct&gt; | prefecture_short &lt;fct&gt; | population &lt;int&gt; | block &lt;fct&gt; |\n|---|---|---|---|---|---|---|---|---|\n| 全国 | 2020-04-26 | 13232 | 199 | NA | TOTAL/AVE | 全国 | 127138033 | 全国 |\n| 全国 | 2020-04-25 | 13031 | 346 | NA | TOTAL/AVE | 全国 | 127138033 | 全国 |\n| 全国 | 2020-04-24 | 12681 | 423 | NA | TOTAL/AVE | 全国 | 127138033 | 全国 |\n| 全国 | 2020-04-23 | 12240 | 434 | NA | TOTAL/AVE | 全国 | 127138033 | 全国 |\n| 全国 | 2020-04-22 | 11772 | 420 | NA | TOTAL/AVE | 全国 | 127138033 | 全国 |\n| 全国 | 2020-04-21 | 11350 | 370 | NA | TOTAL/AVE | 全国 | 127138033 | 全国 |\n\n",
            "text/html": [
              "<table class=\"dataframe\">\n",
              "<caption>A tibble: 6 × 9</caption>\n",
              "<thead>\n",
              "\t<tr><th scope=col>prefecture</th><th scope=col>date</th><th scope=col>sum_patients</th><th scope=col>new_patients</th><th scope=col>patients_ma7</th><th scope=col>code</th><th scope=col>prefecture_short</th><th scope=col>population</th><th scope=col>block</th></tr>\n",
              "\t<tr><th scope=col>&lt;fct&gt;</th><th scope=col>&lt;date&gt;</th><th scope=col>&lt;int&gt;</th><th scope=col>&lt;int&gt;</th><th scope=col>&lt;dbl&gt;</th><th scope=col>&lt;fct&gt;</th><th scope=col>&lt;fct&gt;</th><th scope=col>&lt;int&gt;</th><th scope=col>&lt;fct&gt;</th></tr>\n",
              "</thead>\n",
              "<tbody>\n",
              "\t<tr><td>全国</td><td>2020-04-26</td><td>13232</td><td>199</td><td>NA</td><td>TOTAL/AVE</td><td>全国</td><td>127138033</td><td>全国</td></tr>\n",
              "\t<tr><td>全国</td><td>2020-04-25</td><td>13031</td><td>346</td><td>NA</td><td>TOTAL/AVE</td><td>全国</td><td>127138033</td><td>全国</td></tr>\n",
              "\t<tr><td>全国</td><td>2020-04-24</td><td>12681</td><td>423</td><td>NA</td><td>TOTAL/AVE</td><td>全国</td><td>127138033</td><td>全国</td></tr>\n",
              "\t<tr><td>全国</td><td>2020-04-23</td><td>12240</td><td>434</td><td>NA</td><td>TOTAL/AVE</td><td>全国</td><td>127138033</td><td>全国</td></tr>\n",
              "\t<tr><td>全国</td><td>2020-04-22</td><td>11772</td><td>420</td><td>NA</td><td>TOTAL/AVE</td><td>全国</td><td>127138033</td><td>全国</td></tr>\n",
              "\t<tr><td>全国</td><td>2020-04-21</td><td>11350</td><td>370</td><td>NA</td><td>TOTAL/AVE</td><td>全国</td><td>127138033</td><td>全国</td></tr>\n",
              "</tbody>\n",
              "</table>\n"
            ]
          },
          "metadata": {
            "tags": []
          }
        }
      ]
    },
    {
      "cell_type": "markdown",
      "metadata": {
        "id": "xb4tmFHy6t5X"
      },
      "source": [
        "vaccinationsにも、prefectureというカラムはあるのですが、中身は県名ではなく、都道府県コードです。これをキーにjoinします。相手のpref_popに合わせて、カラム名はあらかじめcodeに直しておきます。pref_popのcodeカラムも、一意のキーになっています。"
      ]
    },
    {
      "cell_type": "code",
      "metadata": {
        "id": "Z1umubs2ojwt",
        "colab": {
          "base_uri": "https://localhost:8080/",
          "height": 865
        },
        "outputId": "d03dec4b-c395-447a-e531-00946dce4673"
      },
      "source": [
        "# vaccinationsはコードをキーに対照表と結合する。\n",
        "vaccinations <- vaccinations %>% \n",
        "# カラム名を揃えてからjoin。ここでカテゴリー型に直しておく。\n",
        "    mutate(\n",
        "        \"code\" = parse_factor(prefecture, levels = JISX0401)\n",
        "    ) %>%\n",
        "    select(-prefecture) %>%\n",
        "# code以外は畳む\n",
        "    nest(data = -code) %>%\n",
        "# codeカラムをキーにして突合する。\n",
        "    left_join(pref_pop, by = \"code\") %>%\n",
        "# ネストを戻す。\n",
        "    unnest(cols = data)\n",
        "\n",
        "# こうなった\n",
        "head(vaccinations)\n",
        "tail(vaccinations)"
      ],
      "execution_count": null,
      "outputs": [
        {
          "output_type": "display_data",
          "data": {
            "text/plain": [
              "  code date       status1 status2 status_all total_status1 total_status2\n",
              "1 01   2021-07-12 10011   11555   21566      1318208       676819       \n",
              "2 01   2021-07-11 11640   12085   23725      1308197       665264       \n",
              "3 01   2021-07-10 17713   11049   28762      1296557       653179       \n",
              "4 01   2021-07-09 16757   11149   27906      1278844       642130       \n",
              "5 01   2021-07-08 22630   13853   36483      1262087       630981       \n",
              "6 01   2021-07-07 24146   14434   38580      1239457       617128       \n",
              "  total_status_all cum_vaccinations prefecture prefecture_short population\n",
              "1 1995027          1973461          北海道     北海道           5267762   \n",
              "2 1973461          1949736          北海道     北海道           5267762   \n",
              "3 1949736          1920974          北海道     北海道           5267762   \n",
              "4 1920974          1893068          北海道     北海道           5267762   \n",
              "5 1893068          1856585          北海道     北海道           5267762   \n",
              "6 1856585          1818005          北海道     北海道           5267762   \n",
              "  block       \n",
              "1 北海道・東北\n",
              "2 北海道・東北\n",
              "3 北海道・東北\n",
              "4 北海道・東北\n",
              "5 北海道・東北\n",
              "6 北海道・東北"
            ],
            "text/latex": "A tibble: 6 × 13\n\\begin{tabular}{lllllllllllll}\n code & date & status1 & status2 & status\\_all & total\\_status1 & total\\_status2 & total\\_status\\_all & cum\\_vaccinations & prefecture & prefecture\\_short & population & block\\\\\n <fct> & <date> & <dbl> & <dbl> & <dbl> & <dbl> & <dbl> & <dbl> & <dbl> & <fct> & <fct> & <int> & <fct>\\\\\n\\hline\n\t 01 & 2021-07-12 & 10011 & 11555 & 21566 & 1318208 & 676819 & 1995027 & 1973461 & 北海道 & 北海道 & 5267762 & 北海道・東北\\\\\n\t 01 & 2021-07-11 & 11640 & 12085 & 23725 & 1308197 & 665264 & 1973461 & 1949736 & 北海道 & 北海道 & 5267762 & 北海道・東北\\\\\n\t 01 & 2021-07-10 & 17713 & 11049 & 28762 & 1296557 & 653179 & 1949736 & 1920974 & 北海道 & 北海道 & 5267762 & 北海道・東北\\\\\n\t 01 & 2021-07-09 & 16757 & 11149 & 27906 & 1278844 & 642130 & 1920974 & 1893068 & 北海道 & 北海道 & 5267762 & 北海道・東北\\\\\n\t 01 & 2021-07-08 & 22630 & 13853 & 36483 & 1262087 & 630981 & 1893068 & 1856585 & 北海道 & 北海道 & 5267762 & 北海道・東北\\\\\n\t 01 & 2021-07-07 & 24146 & 14434 & 38580 & 1239457 & 617128 & 1856585 & 1818005 & 北海道 & 北海道 & 5267762 & 北海道・東北\\\\\n\\end{tabular}\n",
            "text/markdown": "\nA tibble: 6 × 13\n\n| code &lt;fct&gt; | date &lt;date&gt; | status1 &lt;dbl&gt; | status2 &lt;dbl&gt; | status_all &lt;dbl&gt; | total_status1 &lt;dbl&gt; | total_status2 &lt;dbl&gt; | total_status_all &lt;dbl&gt; | cum_vaccinations &lt;dbl&gt; | prefecture &lt;fct&gt; | prefecture_short &lt;fct&gt; | population &lt;int&gt; | block &lt;fct&gt; |\n|---|---|---|---|---|---|---|---|---|---|---|---|---|\n| 01 | 2021-07-12 | 10011 | 11555 | 21566 | 1318208 | 676819 | 1995027 | 1973461 | 北海道 | 北海道 | 5267762 | 北海道・東北 |\n| 01 | 2021-07-11 | 11640 | 12085 | 23725 | 1308197 | 665264 | 1973461 | 1949736 | 北海道 | 北海道 | 5267762 | 北海道・東北 |\n| 01 | 2021-07-10 | 17713 | 11049 | 28762 | 1296557 | 653179 | 1949736 | 1920974 | 北海道 | 北海道 | 5267762 | 北海道・東北 |\n| 01 | 2021-07-09 | 16757 | 11149 | 27906 | 1278844 | 642130 | 1920974 | 1893068 | 北海道 | 北海道 | 5267762 | 北海道・東北 |\n| 01 | 2021-07-08 | 22630 | 13853 | 36483 | 1262087 | 630981 | 1893068 | 1856585 | 北海道 | 北海道 | 5267762 | 北海道・東北 |\n| 01 | 2021-07-07 | 24146 | 14434 | 38580 | 1239457 | 617128 | 1856585 | 1818005 | 北海道 | 北海道 | 5267762 | 北海道・東北 |\n\n",
            "text/html": [
              "<table class=\"dataframe\">\n",
              "<caption>A tibble: 6 × 13</caption>\n",
              "<thead>\n",
              "\t<tr><th scope=col>code</th><th scope=col>date</th><th scope=col>status1</th><th scope=col>status2</th><th scope=col>status_all</th><th scope=col>total_status1</th><th scope=col>total_status2</th><th scope=col>total_status_all</th><th scope=col>cum_vaccinations</th><th scope=col>prefecture</th><th scope=col>prefecture_short</th><th scope=col>population</th><th scope=col>block</th></tr>\n",
              "\t<tr><th scope=col>&lt;fct&gt;</th><th scope=col>&lt;date&gt;</th><th scope=col>&lt;dbl&gt;</th><th scope=col>&lt;dbl&gt;</th><th scope=col>&lt;dbl&gt;</th><th scope=col>&lt;dbl&gt;</th><th scope=col>&lt;dbl&gt;</th><th scope=col>&lt;dbl&gt;</th><th scope=col>&lt;dbl&gt;</th><th scope=col>&lt;fct&gt;</th><th scope=col>&lt;fct&gt;</th><th scope=col>&lt;int&gt;</th><th scope=col>&lt;fct&gt;</th></tr>\n",
              "</thead>\n",
              "<tbody>\n",
              "\t<tr><td>01</td><td>2021-07-12</td><td>10011</td><td>11555</td><td>21566</td><td>1318208</td><td>676819</td><td>1995027</td><td>1973461</td><td>北海道</td><td>北海道</td><td>5267762</td><td>北海道・東北</td></tr>\n",
              "\t<tr><td>01</td><td>2021-07-11</td><td>11640</td><td>12085</td><td>23725</td><td>1308197</td><td>665264</td><td>1973461</td><td>1949736</td><td>北海道</td><td>北海道</td><td>5267762</td><td>北海道・東北</td></tr>\n",
              "\t<tr><td>01</td><td>2021-07-10</td><td>17713</td><td>11049</td><td>28762</td><td>1296557</td><td>653179</td><td>1949736</td><td>1920974</td><td>北海道</td><td>北海道</td><td>5267762</td><td>北海道・東北</td></tr>\n",
              "\t<tr><td>01</td><td>2021-07-09</td><td>16757</td><td>11149</td><td>27906</td><td>1278844</td><td>642130</td><td>1920974</td><td>1893068</td><td>北海道</td><td>北海道</td><td>5267762</td><td>北海道・東北</td></tr>\n",
              "\t<tr><td>01</td><td>2021-07-08</td><td>22630</td><td>13853</td><td>36483</td><td>1262087</td><td>630981</td><td>1893068</td><td>1856585</td><td>北海道</td><td>北海道</td><td>5267762</td><td>北海道・東北</td></tr>\n",
              "\t<tr><td>01</td><td>2021-07-07</td><td>24146</td><td>14434</td><td>38580</td><td>1239457</td><td>617128</td><td>1856585</td><td>1818005</td><td>北海道</td><td>北海道</td><td>5267762</td><td>北海道・東北</td></tr>\n",
              "</tbody>\n",
              "</table>\n"
            ]
          },
          "metadata": {
            "tags": []
          }
        },
        {
          "output_type": "display_data",
          "data": {
            "text/plain": [
              "  code      date       status1 status2 status_all total_status1 total_status2\n",
              "1 TOTAL/AVE 2021-04-17 7670    0       7670       40060         0            \n",
              "2 TOTAL/AVE 2021-04-16 9945    0       9945       32390         0            \n",
              "3 TOTAL/AVE 2021-04-15 8593    0       8593       22445         0            \n",
              "4 TOTAL/AVE 2021-04-14 4842    0       4842       13852         0            \n",
              "5 TOTAL/AVE 2021-04-13 4217    0       4217        9010         0            \n",
              "6 TOTAL/AVE 2021-04-12 4793    0       4793        4793         0            \n",
              "  total_status_all cum_vaccinations prefecture prefecture_short population\n",
              "1 40060            32390            全国       全国             127138033 \n",
              "2 32390            22445            全国       全国             127138033 \n",
              "3 22445            13852            全国       全国             127138033 \n",
              "4 13852             9010            全国       全国             127138033 \n",
              "5  9010             4793            全国       全国             127138033 \n",
              "6  4793                0            全国       全国             127138033 \n",
              "  block\n",
              "1 全国 \n",
              "2 全国 \n",
              "3 全国 \n",
              "4 全国 \n",
              "5 全国 \n",
              "6 全国 "
            ],
            "text/latex": "A tibble: 6 × 13\n\\begin{tabular}{lllllllllllll}\n code & date & status1 & status2 & status\\_all & total\\_status1 & total\\_status2 & total\\_status\\_all & cum\\_vaccinations & prefecture & prefecture\\_short & population & block\\\\\n <fct> & <date> & <dbl> & <dbl> & <dbl> & <dbl> & <dbl> & <dbl> & <dbl> & <fct> & <fct> & <int> & <fct>\\\\\n\\hline\n\t TOTAL/AVE & 2021-04-17 & 7670 & 0 & 7670 & 40060 & 0 & 40060 & 32390 & 全国 & 全国 & 127138033 & 全国\\\\\n\t TOTAL/AVE & 2021-04-16 & 9945 & 0 & 9945 & 32390 & 0 & 32390 & 22445 & 全国 & 全国 & 127138033 & 全国\\\\\n\t TOTAL/AVE & 2021-04-15 & 8593 & 0 & 8593 & 22445 & 0 & 22445 & 13852 & 全国 & 全国 & 127138033 & 全国\\\\\n\t TOTAL/AVE & 2021-04-14 & 4842 & 0 & 4842 & 13852 & 0 & 13852 &  9010 & 全国 & 全国 & 127138033 & 全国\\\\\n\t TOTAL/AVE & 2021-04-13 & 4217 & 0 & 4217 &  9010 & 0 &  9010 &  4793 & 全国 & 全国 & 127138033 & 全国\\\\\n\t TOTAL/AVE & 2021-04-12 & 4793 & 0 & 4793 &  4793 & 0 &  4793 &     0 & 全国 & 全国 & 127138033 & 全国\\\\\n\\end{tabular}\n",
            "text/markdown": "\nA tibble: 6 × 13\n\n| code &lt;fct&gt; | date &lt;date&gt; | status1 &lt;dbl&gt; | status2 &lt;dbl&gt; | status_all &lt;dbl&gt; | total_status1 &lt;dbl&gt; | total_status2 &lt;dbl&gt; | total_status_all &lt;dbl&gt; | cum_vaccinations &lt;dbl&gt; | prefecture &lt;fct&gt; | prefecture_short &lt;fct&gt; | population &lt;int&gt; | block &lt;fct&gt; |\n|---|---|---|---|---|---|---|---|---|---|---|---|---|\n| TOTAL/AVE | 2021-04-17 | 7670 | 0 | 7670 | 40060 | 0 | 40060 | 32390 | 全国 | 全国 | 127138033 | 全国 |\n| TOTAL/AVE | 2021-04-16 | 9945 | 0 | 9945 | 32390 | 0 | 32390 | 22445 | 全国 | 全国 | 127138033 | 全国 |\n| TOTAL/AVE | 2021-04-15 | 8593 | 0 | 8593 | 22445 | 0 | 22445 | 13852 | 全国 | 全国 | 127138033 | 全国 |\n| TOTAL/AVE | 2021-04-14 | 4842 | 0 | 4842 | 13852 | 0 | 13852 |  9010 | 全国 | 全国 | 127138033 | 全国 |\n| TOTAL/AVE | 2021-04-13 | 4217 | 0 | 4217 |  9010 | 0 |  9010 |  4793 | 全国 | 全国 | 127138033 | 全国 |\n| TOTAL/AVE | 2021-04-12 | 4793 | 0 | 4793 |  4793 | 0 |  4793 |     0 | 全国 | 全国 | 127138033 | 全国 |\n\n",
            "text/html": [
              "<table class=\"dataframe\">\n",
              "<caption>A tibble: 6 × 13</caption>\n",
              "<thead>\n",
              "\t<tr><th scope=col>code</th><th scope=col>date</th><th scope=col>status1</th><th scope=col>status2</th><th scope=col>status_all</th><th scope=col>total_status1</th><th scope=col>total_status2</th><th scope=col>total_status_all</th><th scope=col>cum_vaccinations</th><th scope=col>prefecture</th><th scope=col>prefecture_short</th><th scope=col>population</th><th scope=col>block</th></tr>\n",
              "\t<tr><th scope=col>&lt;fct&gt;</th><th scope=col>&lt;date&gt;</th><th scope=col>&lt;dbl&gt;</th><th scope=col>&lt;dbl&gt;</th><th scope=col>&lt;dbl&gt;</th><th scope=col>&lt;dbl&gt;</th><th scope=col>&lt;dbl&gt;</th><th scope=col>&lt;dbl&gt;</th><th scope=col>&lt;dbl&gt;</th><th scope=col>&lt;fct&gt;</th><th scope=col>&lt;fct&gt;</th><th scope=col>&lt;int&gt;</th><th scope=col>&lt;fct&gt;</th></tr>\n",
              "</thead>\n",
              "<tbody>\n",
              "\t<tr><td>TOTAL/AVE</td><td>2021-04-17</td><td>7670</td><td>0</td><td>7670</td><td>40060</td><td>0</td><td>40060</td><td>32390</td><td>全国</td><td>全国</td><td>127138033</td><td>全国</td></tr>\n",
              "\t<tr><td>TOTAL/AVE</td><td>2021-04-16</td><td>9945</td><td>0</td><td>9945</td><td>32390</td><td>0</td><td>32390</td><td>22445</td><td>全国</td><td>全国</td><td>127138033</td><td>全国</td></tr>\n",
              "\t<tr><td>TOTAL/AVE</td><td>2021-04-15</td><td>8593</td><td>0</td><td>8593</td><td>22445</td><td>0</td><td>22445</td><td>13852</td><td>全国</td><td>全国</td><td>127138033</td><td>全国</td></tr>\n",
              "\t<tr><td>TOTAL/AVE</td><td>2021-04-14</td><td>4842</td><td>0</td><td>4842</td><td>13852</td><td>0</td><td>13852</td><td> 9010</td><td>全国</td><td>全国</td><td>127138033</td><td>全国</td></tr>\n",
              "\t<tr><td>TOTAL/AVE</td><td>2021-04-13</td><td>4217</td><td>0</td><td>4217</td><td> 9010</td><td>0</td><td> 9010</td><td> 4793</td><td>全国</td><td>全国</td><td>127138033</td><td>全国</td></tr>\n",
              "\t<tr><td>TOTAL/AVE</td><td>2021-04-12</td><td>4793</td><td>0</td><td>4793</td><td> 4793</td><td>0</td><td> 4793</td><td>    0</td><td>全国</td><td>全国</td><td>127138033</td><td>全国</td></tr>\n",
              "</tbody>\n",
              "</table>\n"
            ]
          },
          "metadata": {
            "tags": []
          }
        }
      ]
    },
    {
      "cell_type": "markdown",
      "metadata": {
        "id": "0xv-qXyp27i_"
      },
      "source": [
        "### 7.3. 接種状況と感染者数をJOINする"
      ]
    },
    {
      "cell_type": "markdown",
      "metadata": {
        "id": "tH1n3mUJAp4a"
      },
      "source": [
        "これで、接種状況と感染者数をドッキングさせる準備が整いました。都道府県だけ、日付だけ、では一意のキーになりませんが、都道府県と日付のペアで見れば、両方を結びつける際のキーになります。\n",
        "\n",
        "なお、ほかにも共通のカラムはありますが、これは、同じpref_popとそれぞれの表を先ほどjoinしたからです。長短の県名・県コード・日付のほかに地域もキーにして突合しています、とメッセージが出ていますが、差し支えありません。今回は、キーを指定しないでjoinを指示したので、両方に同じカラム名のデータがあれば、それをキーに使おうとしてくれているわけです。\n"
      ]
    },
    {
      "cell_type": "code",
      "metadata": {
        "id": "Er6WsVCSm3hF",
        "colab": {
          "base_uri": "https://localhost:8080/",
          "height": 1000
        },
        "outputId": "e12f4cd9-bdf0-44d8-e033-cbb879e58e8e"
      },
      "source": [
        "# vaccinationとpatientsを付き合わせる。\n",
        "# left_joinは、左のデータにあるものは、右に突合相手がいなくても残す。\n",
        "# なので、これはワクチン接種が始まる前の感染者データも保存する。\n",
        "joined_data <- left_join(patients, vaccinations) %>%\n",
        "# カラムを並べ替えて見やすくする\n",
        "    relocate(date, code, prefecture, prefecture_short, block, population)\n",
        "# こうなった。\n",
        "head(joined_data)\n",
        "tail(joined_data)\n",
        "summary(joined_data)\n",
        "str(joined_data)"
      ],
      "execution_count": null,
      "outputs": [
        {
          "output_type": "stream",
          "text": [
            "Joining, by = c(\"prefecture\", \"date\", \"code\", \"prefecture_short\", \"population\", \"block\")\n",
            "\n"
          ],
          "name": "stderr"
        },
        {
          "output_type": "display_data",
          "data": {
            "text/plain": [
              "  date       code prefecture prefecture_short block        population\n",
              "1 2021-07-10 01   北海道     北海道           北海道・東北 5267762   \n",
              "2 2021-07-09 01   北海道     北海道           北海道・東北 5267762   \n",
              "3 2021-07-08 01   北海道     北海道           北海道・東北 5267762   \n",
              "4 2021-07-07 01   北海道     北海道           北海道・東北 5267762   \n",
              "5 2021-07-06 01   北海道     北海道           北海道・東北 5267762   \n",
              "6 2021-07-05 01   北海道     北海道           北海道・東北 5267762   \n",
              "  sum_patients new_patients patients_ma7 status1 status2 status_all\n",
              "1 41772        64           49.28571     17713   11049   28762     \n",
              "2 41708        50           44.42857     16757   11149   27906     \n",
              "3 41658        62           41.00000     22630   13853   36483     \n",
              "4 41596        67           37.71429     24146   14434   38580     \n",
              "5 41529        34           33.57143     23523   17481   41004     \n",
              "6 41495        29           32.00000     27674   17227   44901     \n",
              "  total_status1 total_status2 total_status_all cum_vaccinations\n",
              "1 1296557       653179        1949736          1920974         \n",
              "2 1278844       642130        1920974          1893068         \n",
              "3 1262087       630981        1893068          1856585         \n",
              "4 1239457       617128        1856585          1818005         \n",
              "5 1215311       602694        1818005          1777001         \n",
              "6 1191788       585213        1777001          1732100         "
            ],
            "text/latex": "A tibble: 6 × 16\n\\begin{tabular}{llllllllllllllll}\n date & code & prefecture & prefecture\\_short & block & population & sum\\_patients & new\\_patients & patients\\_ma7 & status1 & status2 & status\\_all & total\\_status1 & total\\_status2 & total\\_status\\_all & cum\\_vaccinations\\\\\n <date> & <fct> & <fct> & <fct> & <fct> & <int> & <int> & <int> & <dbl> & <dbl> & <dbl> & <dbl> & <dbl> & <dbl> & <dbl> & <dbl>\\\\\n\\hline\n\t 2021-07-10 & 01 & 北海道 & 北海道 & 北海道・東北 & 5267762 & 41772 & 64 & 49.28571 & 17713 & 11049 & 28762 & 1296557 & 653179 & 1949736 & 1920974\\\\\n\t 2021-07-09 & 01 & 北海道 & 北海道 & 北海道・東北 & 5267762 & 41708 & 50 & 44.42857 & 16757 & 11149 & 27906 & 1278844 & 642130 & 1920974 & 1893068\\\\\n\t 2021-07-08 & 01 & 北海道 & 北海道 & 北海道・東北 & 5267762 & 41658 & 62 & 41.00000 & 22630 & 13853 & 36483 & 1262087 & 630981 & 1893068 & 1856585\\\\\n\t 2021-07-07 & 01 & 北海道 & 北海道 & 北海道・東北 & 5267762 & 41596 & 67 & 37.71429 & 24146 & 14434 & 38580 & 1239457 & 617128 & 1856585 & 1818005\\\\\n\t 2021-07-06 & 01 & 北海道 & 北海道 & 北海道・東北 & 5267762 & 41529 & 34 & 33.57143 & 23523 & 17481 & 41004 & 1215311 & 602694 & 1818005 & 1777001\\\\\n\t 2021-07-05 & 01 & 北海道 & 北海道 & 北海道・東北 & 5267762 & 41495 & 29 & 32.00000 & 27674 & 17227 & 44901 & 1191788 & 585213 & 1777001 & 1732100\\\\\n\\end{tabular}\n",
            "text/markdown": "\nA tibble: 6 × 16\n\n| date &lt;date&gt; | code &lt;fct&gt; | prefecture &lt;fct&gt; | prefecture_short &lt;fct&gt; | block &lt;fct&gt; | population &lt;int&gt; | sum_patients &lt;int&gt; | new_patients &lt;int&gt; | patients_ma7 &lt;dbl&gt; | status1 &lt;dbl&gt; | status2 &lt;dbl&gt; | status_all &lt;dbl&gt; | total_status1 &lt;dbl&gt; | total_status2 &lt;dbl&gt; | total_status_all &lt;dbl&gt; | cum_vaccinations &lt;dbl&gt; |\n|---|---|---|---|---|---|---|---|---|---|---|---|---|---|---|---|\n| 2021-07-10 | 01 | 北海道 | 北海道 | 北海道・東北 | 5267762 | 41772 | 64 | 49.28571 | 17713 | 11049 | 28762 | 1296557 | 653179 | 1949736 | 1920974 |\n| 2021-07-09 | 01 | 北海道 | 北海道 | 北海道・東北 | 5267762 | 41708 | 50 | 44.42857 | 16757 | 11149 | 27906 | 1278844 | 642130 | 1920974 | 1893068 |\n| 2021-07-08 | 01 | 北海道 | 北海道 | 北海道・東北 | 5267762 | 41658 | 62 | 41.00000 | 22630 | 13853 | 36483 | 1262087 | 630981 | 1893068 | 1856585 |\n| 2021-07-07 | 01 | 北海道 | 北海道 | 北海道・東北 | 5267762 | 41596 | 67 | 37.71429 | 24146 | 14434 | 38580 | 1239457 | 617128 | 1856585 | 1818005 |\n| 2021-07-06 | 01 | 北海道 | 北海道 | 北海道・東北 | 5267762 | 41529 | 34 | 33.57143 | 23523 | 17481 | 41004 | 1215311 | 602694 | 1818005 | 1777001 |\n| 2021-07-05 | 01 | 北海道 | 北海道 | 北海道・東北 | 5267762 | 41495 | 29 | 32.00000 | 27674 | 17227 | 44901 | 1191788 | 585213 | 1777001 | 1732100 |\n\n",
            "text/html": [
              "<table class=\"dataframe\">\n",
              "<caption>A tibble: 6 × 16</caption>\n",
              "<thead>\n",
              "\t<tr><th scope=col>date</th><th scope=col>code</th><th scope=col>prefecture</th><th scope=col>prefecture_short</th><th scope=col>block</th><th scope=col>population</th><th scope=col>sum_patients</th><th scope=col>new_patients</th><th scope=col>patients_ma7</th><th scope=col>status1</th><th scope=col>status2</th><th scope=col>status_all</th><th scope=col>total_status1</th><th scope=col>total_status2</th><th scope=col>total_status_all</th><th scope=col>cum_vaccinations</th></tr>\n",
              "\t<tr><th scope=col>&lt;date&gt;</th><th scope=col>&lt;fct&gt;</th><th scope=col>&lt;fct&gt;</th><th scope=col>&lt;fct&gt;</th><th scope=col>&lt;fct&gt;</th><th scope=col>&lt;int&gt;</th><th scope=col>&lt;int&gt;</th><th scope=col>&lt;int&gt;</th><th scope=col>&lt;dbl&gt;</th><th scope=col>&lt;dbl&gt;</th><th scope=col>&lt;dbl&gt;</th><th scope=col>&lt;dbl&gt;</th><th scope=col>&lt;dbl&gt;</th><th scope=col>&lt;dbl&gt;</th><th scope=col>&lt;dbl&gt;</th><th scope=col>&lt;dbl&gt;</th></tr>\n",
              "</thead>\n",
              "<tbody>\n",
              "\t<tr><td>2021-07-10</td><td>01</td><td>北海道</td><td>北海道</td><td>北海道・東北</td><td>5267762</td><td>41772</td><td>64</td><td>49.28571</td><td>17713</td><td>11049</td><td>28762</td><td>1296557</td><td>653179</td><td>1949736</td><td>1920974</td></tr>\n",
              "\t<tr><td>2021-07-09</td><td>01</td><td>北海道</td><td>北海道</td><td>北海道・東北</td><td>5267762</td><td>41708</td><td>50</td><td>44.42857</td><td>16757</td><td>11149</td><td>27906</td><td>1278844</td><td>642130</td><td>1920974</td><td>1893068</td></tr>\n",
              "\t<tr><td>2021-07-08</td><td>01</td><td>北海道</td><td>北海道</td><td>北海道・東北</td><td>5267762</td><td>41658</td><td>62</td><td>41.00000</td><td>22630</td><td>13853</td><td>36483</td><td>1262087</td><td>630981</td><td>1893068</td><td>1856585</td></tr>\n",
              "\t<tr><td>2021-07-07</td><td>01</td><td>北海道</td><td>北海道</td><td>北海道・東北</td><td>5267762</td><td>41596</td><td>67</td><td>37.71429</td><td>24146</td><td>14434</td><td>38580</td><td>1239457</td><td>617128</td><td>1856585</td><td>1818005</td></tr>\n",
              "\t<tr><td>2021-07-06</td><td>01</td><td>北海道</td><td>北海道</td><td>北海道・東北</td><td>5267762</td><td>41529</td><td>34</td><td>33.57143</td><td>23523</td><td>17481</td><td>41004</td><td>1215311</td><td>602694</td><td>1818005</td><td>1777001</td></tr>\n",
              "\t<tr><td>2021-07-05</td><td>01</td><td>北海道</td><td>北海道</td><td>北海道・東北</td><td>5267762</td><td>41495</td><td>29</td><td>32.00000</td><td>27674</td><td>17227</td><td>44901</td><td>1191788</td><td>585213</td><td>1777001</td><td>1732100</td></tr>\n",
              "</tbody>\n",
              "</table>\n"
            ]
          },
          "metadata": {
            "tags": []
          }
        },
        {
          "output_type": "display_data",
          "data": {
            "text/plain": [
              "  date       code      prefecture prefecture_short block population\n",
              "1 2020-04-26 TOTAL/AVE 全国       全国             全国  127138033 \n",
              "2 2020-04-25 TOTAL/AVE 全国       全国             全国  127138033 \n",
              "3 2020-04-24 TOTAL/AVE 全国       全国             全国  127138033 \n",
              "4 2020-04-23 TOTAL/AVE 全国       全国             全国  127138033 \n",
              "5 2020-04-22 TOTAL/AVE 全国       全国             全国  127138033 \n",
              "6 2020-04-21 TOTAL/AVE 全国       全国             全国  127138033 \n",
              "  sum_patients new_patients patients_ma7 status1 status2 status_all\n",
              "1 13232        199          NA           NA      NA      NA        \n",
              "2 13031        346          NA           NA      NA      NA        \n",
              "3 12681        423          NA           NA      NA      NA        \n",
              "4 12240        434          NA           NA      NA      NA        \n",
              "5 11772        420          NA           NA      NA      NA        \n",
              "6 11350        370          NA           NA      NA      NA        \n",
              "  total_status1 total_status2 total_status_all cum_vaccinations\n",
              "1 NA            NA            NA               NA              \n",
              "2 NA            NA            NA               NA              \n",
              "3 NA            NA            NA               NA              \n",
              "4 NA            NA            NA               NA              \n",
              "5 NA            NA            NA               NA              \n",
              "6 NA            NA            NA               NA              "
            ],
            "text/latex": "A tibble: 6 × 16\n\\begin{tabular}{llllllllllllllll}\n date & code & prefecture & prefecture\\_short & block & population & sum\\_patients & new\\_patients & patients\\_ma7 & status1 & status2 & status\\_all & total\\_status1 & total\\_status2 & total\\_status\\_all & cum\\_vaccinations\\\\\n <date> & <fct> & <fct> & <fct> & <fct> & <int> & <int> & <int> & <dbl> & <dbl> & <dbl> & <dbl> & <dbl> & <dbl> & <dbl> & <dbl>\\\\\n\\hline\n\t 2020-04-26 & TOTAL/AVE & 全国 & 全国 & 全国 & 127138033 & 13232 & 199 & NA & NA & NA & NA & NA & NA & NA & NA\\\\\n\t 2020-04-25 & TOTAL/AVE & 全国 & 全国 & 全国 & 127138033 & 13031 & 346 & NA & NA & NA & NA & NA & NA & NA & NA\\\\\n\t 2020-04-24 & TOTAL/AVE & 全国 & 全国 & 全国 & 127138033 & 12681 & 423 & NA & NA & NA & NA & NA & NA & NA & NA\\\\\n\t 2020-04-23 & TOTAL/AVE & 全国 & 全国 & 全国 & 127138033 & 12240 & 434 & NA & NA & NA & NA & NA & NA & NA & NA\\\\\n\t 2020-04-22 & TOTAL/AVE & 全国 & 全国 & 全国 & 127138033 & 11772 & 420 & NA & NA & NA & NA & NA & NA & NA & NA\\\\\n\t 2020-04-21 & TOTAL/AVE & 全国 & 全国 & 全国 & 127138033 & 11350 & 370 & NA & NA & NA & NA & NA & NA & NA & NA\\\\\n\\end{tabular}\n",
            "text/markdown": "\nA tibble: 6 × 16\n\n| date &lt;date&gt; | code &lt;fct&gt; | prefecture &lt;fct&gt; | prefecture_short &lt;fct&gt; | block &lt;fct&gt; | population &lt;int&gt; | sum_patients &lt;int&gt; | new_patients &lt;int&gt; | patients_ma7 &lt;dbl&gt; | status1 &lt;dbl&gt; | status2 &lt;dbl&gt; | status_all &lt;dbl&gt; | total_status1 &lt;dbl&gt; | total_status2 &lt;dbl&gt; | total_status_all &lt;dbl&gt; | cum_vaccinations &lt;dbl&gt; |\n|---|---|---|---|---|---|---|---|---|---|---|---|---|---|---|---|\n| 2020-04-26 | TOTAL/AVE | 全国 | 全国 | 全国 | 127138033 | 13232 | 199 | NA | NA | NA | NA | NA | NA | NA | NA |\n| 2020-04-25 | TOTAL/AVE | 全国 | 全国 | 全国 | 127138033 | 13031 | 346 | NA | NA | NA | NA | NA | NA | NA | NA |\n| 2020-04-24 | TOTAL/AVE | 全国 | 全国 | 全国 | 127138033 | 12681 | 423 | NA | NA | NA | NA | NA | NA | NA | NA |\n| 2020-04-23 | TOTAL/AVE | 全国 | 全国 | 全国 | 127138033 | 12240 | 434 | NA | NA | NA | NA | NA | NA | NA | NA |\n| 2020-04-22 | TOTAL/AVE | 全国 | 全国 | 全国 | 127138033 | 11772 | 420 | NA | NA | NA | NA | NA | NA | NA | NA |\n| 2020-04-21 | TOTAL/AVE | 全国 | 全国 | 全国 | 127138033 | 11350 | 370 | NA | NA | NA | NA | NA | NA | NA | NA |\n\n",
            "text/html": [
              "<table class=\"dataframe\">\n",
              "<caption>A tibble: 6 × 16</caption>\n",
              "<thead>\n",
              "\t<tr><th scope=col>date</th><th scope=col>code</th><th scope=col>prefecture</th><th scope=col>prefecture_short</th><th scope=col>block</th><th scope=col>population</th><th scope=col>sum_patients</th><th scope=col>new_patients</th><th scope=col>patients_ma7</th><th scope=col>status1</th><th scope=col>status2</th><th scope=col>status_all</th><th scope=col>total_status1</th><th scope=col>total_status2</th><th scope=col>total_status_all</th><th scope=col>cum_vaccinations</th></tr>\n",
              "\t<tr><th scope=col>&lt;date&gt;</th><th scope=col>&lt;fct&gt;</th><th scope=col>&lt;fct&gt;</th><th scope=col>&lt;fct&gt;</th><th scope=col>&lt;fct&gt;</th><th scope=col>&lt;int&gt;</th><th scope=col>&lt;int&gt;</th><th scope=col>&lt;int&gt;</th><th scope=col>&lt;dbl&gt;</th><th scope=col>&lt;dbl&gt;</th><th scope=col>&lt;dbl&gt;</th><th scope=col>&lt;dbl&gt;</th><th scope=col>&lt;dbl&gt;</th><th scope=col>&lt;dbl&gt;</th><th scope=col>&lt;dbl&gt;</th><th scope=col>&lt;dbl&gt;</th></tr>\n",
              "</thead>\n",
              "<tbody>\n",
              "\t<tr><td>2020-04-26</td><td>TOTAL/AVE</td><td>全国</td><td>全国</td><td>全国</td><td>127138033</td><td>13232</td><td>199</td><td>NA</td><td>NA</td><td>NA</td><td>NA</td><td>NA</td><td>NA</td><td>NA</td><td>NA</td></tr>\n",
              "\t<tr><td>2020-04-25</td><td>TOTAL/AVE</td><td>全国</td><td>全国</td><td>全国</td><td>127138033</td><td>13031</td><td>346</td><td>NA</td><td>NA</td><td>NA</td><td>NA</td><td>NA</td><td>NA</td><td>NA</td><td>NA</td></tr>\n",
              "\t<tr><td>2020-04-24</td><td>TOTAL/AVE</td><td>全国</td><td>全国</td><td>全国</td><td>127138033</td><td>12681</td><td>423</td><td>NA</td><td>NA</td><td>NA</td><td>NA</td><td>NA</td><td>NA</td><td>NA</td><td>NA</td></tr>\n",
              "\t<tr><td>2020-04-23</td><td>TOTAL/AVE</td><td>全国</td><td>全国</td><td>全国</td><td>127138033</td><td>12240</td><td>434</td><td>NA</td><td>NA</td><td>NA</td><td>NA</td><td>NA</td><td>NA</td><td>NA</td><td>NA</td></tr>\n",
              "\t<tr><td>2020-04-22</td><td>TOTAL/AVE</td><td>全国</td><td>全国</td><td>全国</td><td>127138033</td><td>11772</td><td>420</td><td>NA</td><td>NA</td><td>NA</td><td>NA</td><td>NA</td><td>NA</td><td>NA</td><td>NA</td></tr>\n",
              "\t<tr><td>2020-04-21</td><td>TOTAL/AVE</td><td>全国</td><td>全国</td><td>全国</td><td>127138033</td><td>11350</td><td>370</td><td>NA</td><td>NA</td><td>NA</td><td>NA</td><td>NA</td><td>NA</td><td>NA</td><td>NA</td></tr>\n",
              "</tbody>\n",
              "</table>\n"
            ]
          },
          "metadata": {
            "tags": []
          }
        },
        {
          "output_type": "display_data",
          "data": {
            "text/plain": [
              "      date                   code         prefecture    prefecture_short\n",
              " Min.   :2020-04-21   TOTAL/AVE:  447   全国   :  447   全国   :  447   \n",
              " 1st Qu.:2020-08-11   01       :  445   北海道 :  445   北海道 :  445   \n",
              " Median :2020-11-30   02       :  445   青森県 :  445   青森   :  445   \n",
              " Mean   :2020-11-30   03       :  445   岩手県 :  445   岩手   :  445   \n",
              " 3rd Qu.:2021-03-21   04       :  445   宮城県 :  445   宮城   :  445   \n",
              " Max.   :2021-07-11   05       :  445   秋田県 :  445   秋田   :  445   \n",
              "                      (Other)  :18690   (Other):18690   (Other):18690   \n",
              "          block        population         sum_patients     new_patients   \n",
              " 九州・沖縄  :3560   Min.   :   561175   Min.   :     0   Min.   :-989.0  \n",
              " 北海道・東北:3115   1st Qu.:  1095903   1st Qu.:   187   1st Qu.:   0.0  \n",
              " 関東        :3115   Median :  1769880   Median :   904   Median :   5.0  \n",
              " 甲信越      :2670   Mean   :  5308825   Mean   : 11393   Mean   :  75.3  \n",
              " 近畿        :2670   3rd Qu.:  2921436   3rd Qu.:  3960   3rd Qu.:  28.0  \n",
              " 中国        :2225   Max.   :127138033   Max.   :817461   Max.   :7844.0  \n",
              " (Other)     :4007                                        NA's   :47      \n",
              "  patients_ma7         status1          status2         status_all     \n",
              " Min.   : -94.286   Min.   :     0   Min.   :     0   Min.   :      1  \n",
              " 1st Qu.:   0.714   1st Qu.:  1078   1st Qu.:     0   1st Qu.:   1178  \n",
              " Median :   6.143   Median :  4319   Median :  1004   Median :   6539  \n",
              " Mean   :  75.604   Mean   : 14810   Mean   :  8207   Mean   :  23017  \n",
              " 3rd Qu.:  29.429   3rd Qu.:  9392   3rd Qu.:  5196   3rd Qu.:  14848  \n",
              " Max.   :6369.143   Max.   :684316   Max.   :647313   Max.   :1229357  \n",
              " NA's   :335        NA's   :17076    NA's   :17076    NA's   :17076    \n",
              " total_status1      total_status2      total_status_all   cum_vaccinations  \n",
              " Min.   :       1   Min.   :       0   Min.   :       1   Min.   :       0  \n",
              " 1st Qu.:   13365   1st Qu.:      11   1st Qu.:   13785   1st Qu.:   12762  \n",
              " Median :   91128   Median :   11978   Median :  106115   Median :   97780  \n",
              " Mean   :  426412   Mean   :  152235   Mean   :  578647   Mean   :  555630  \n",
              " 3rd Qu.:  276770   3rd Qu.:   91604   3rd Qu.:  373972   3rd Qu.:  358698  \n",
              " Max.   :31930904   Max.   :17798829   Max.   :49729733   Max.   :48920871  \n",
              " NA's   :17076      NA's   :17076      NA's   :17076      NA's   :17076     "
            ]
          },
          "metadata": {
            "tags": []
          }
        },
        {
          "output_type": "stream",
          "text": [
            "tibble [21,362 × 16] (S3: tbl_df/tbl/data.frame)\n",
            " $ date            : Date[1:21362], format: \"2021-07-10\" \"2021-07-09\" ...\n",
            " $ code            : Factor w/ 48 levels \"01\",\"02\",\"03\",..: 1 1 1 1 1 1 1 1 1 1 ...\n",
            " $ prefecture      : Factor w/ 48 levels \"北海道\",\"青森県\",..: 1 1 1 1 1 1 1 1 1 1 ...\n",
            " $ prefecture_short: Factor w/ 48 levels \"北海道\",\"青森\",..: 1 1 1 1 1 1 1 1 1 1 ...\n",
            " $ block           : Factor w/ 9 levels \"北海道・東北\",..: 1 1 1 1 1 1 1 1 1 1 ...\n",
            " $ population      : int [1:21362] 5267762 5267762 5267762 5267762 5267762 5267762 5267762 5267762 5267762 5267762 ...\n",
            " $ sum_patients    : int [1:21362] 41772 41708 41658 41596 41529 41495 41466 41427 41397 41371 ...\n",
            " $ new_patients    : int [1:21362] 64 50 62 67 34 29 39 30 26 39 ...\n",
            " $ patients_ma7    : num [1:21362] 49.3 44.4 41 37.7 33.6 ...\n",
            " $ status1         : num [1:21362] 17713 16757 22630 24146 23523 ...\n",
            " $ status2         : num [1:21362] 11049 11149 13853 14434 17481 ...\n",
            " $ status_all      : num [1:21362] 28762 27906 36483 38580 41004 ...\n",
            " $ total_status1   : num [1:21362] 1296557 1278844 1262087 1239457 1215311 ...\n",
            " $ total_status2   : num [1:21362] 653179 642130 630981 617128 602694 ...\n",
            " $ total_status_all: num [1:21362] 1949736 1920974 1893068 1856585 1818005 ...\n",
            " $ cum_vaccinations: num [1:21362] 1920974 1893068 1856585 1818005 1777001 ...\n"
          ],
          "name": "stdout"
        }
      ]
    },
    {
      "cell_type": "markdown",
      "metadata": {
        "id": "VnJvCZ1LE0qw"
      },
      "source": [
        "\n",
        "感染者数のデータは2020年からありますが、ワクチン接種のほうは2021年4月12日以降の分しかありません（県によっては、さらに欠けています）。なので、両方が揃っている期間だけに絞りましょう。"
      ]
    },
    {
      "cell_type": "code",
      "metadata": {
        "colab": {
          "base_uri": "https://localhost:8080/",
          "height": 960
        },
        "id": "Y9UAB4_PE6_X",
        "outputId": "8053462a-12cb-4567-f117-53b3a9a67130"
      },
      "source": [
        "joined_data <- joined_data %>%\n",
        "    filter(date >= ymd(\"2021-4-12\"))\n",
        "tail(joined_data)\n",
        "summary(joined_data)"
      ],
      "execution_count": null,
      "outputs": [
        {
          "output_type": "display_data",
          "data": {
            "text/plain": [
              "  date       code      prefecture prefecture_short block population\n",
              "1 2021-04-17 TOTAL/AVE 全国       全国             全国  127138033 \n",
              "2 2021-04-16 TOTAL/AVE 全国       全国             全国  127138033 \n",
              "3 2021-04-15 TOTAL/AVE 全国       全国             全国  127138033 \n",
              "4 2021-04-14 TOTAL/AVE 全国       全国             全国  127138033 \n",
              "5 2021-04-13 TOTAL/AVE 全国       全国             全国  127138033 \n",
              "6 2021-04-12 TOTAL/AVE 全国       全国             全国  127138033 \n",
              "  sum_patients new_patients patients_ma7 status1 status2 status_all\n",
              "1 527247       4722         3772.714     7670    0       7670      \n",
              "2 522647       4519         3616.714     9945    0       9945      \n",
              "3 518187       4570         3466.429     8593    0       8593      \n",
              "4 513569       4302         3300.000     4842    0       4842      \n",
              "5 509627       3444         3179.143     4217    0       4217      \n",
              "6 506272       2094         3063.571     4793    0       4793      \n",
              "  total_status1 total_status2 total_status_all cum_vaccinations\n",
              "1 40060         0             40060            32390           \n",
              "2 32390         0             32390            22445           \n",
              "3 22445         0             22445            13852           \n",
              "4 13852         0             13852             9010           \n",
              "5  9010         0              9010             4793           \n",
              "6  4793         0              4793                0           "
            ],
            "text/latex": "A tibble: 6 × 16\n\\begin{tabular}{llllllllllllllll}\n date & code & prefecture & prefecture\\_short & block & population & sum\\_patients & new\\_patients & patients\\_ma7 & status1 & status2 & status\\_all & total\\_status1 & total\\_status2 & total\\_status\\_all & cum\\_vaccinations\\\\\n <date> & <fct> & <fct> & <fct> & <fct> & <int> & <int> & <int> & <dbl> & <dbl> & <dbl> & <dbl> & <dbl> & <dbl> & <dbl> & <dbl>\\\\\n\\hline\n\t 2021-04-17 & TOTAL/AVE & 全国 & 全国 & 全国 & 127138033 & 527247 & 4722 & 3772.714 & 7670 & 0 & 7670 & 40060 & 0 & 40060 & 32390\\\\\n\t 2021-04-16 & TOTAL/AVE & 全国 & 全国 & 全国 & 127138033 & 522647 & 4519 & 3616.714 & 9945 & 0 & 9945 & 32390 & 0 & 32390 & 22445\\\\\n\t 2021-04-15 & TOTAL/AVE & 全国 & 全国 & 全国 & 127138033 & 518187 & 4570 & 3466.429 & 8593 & 0 & 8593 & 22445 & 0 & 22445 & 13852\\\\\n\t 2021-04-14 & TOTAL/AVE & 全国 & 全国 & 全国 & 127138033 & 513569 & 4302 & 3300.000 & 4842 & 0 & 4842 & 13852 & 0 & 13852 &  9010\\\\\n\t 2021-04-13 & TOTAL/AVE & 全国 & 全国 & 全国 & 127138033 & 509627 & 3444 & 3179.143 & 4217 & 0 & 4217 &  9010 & 0 &  9010 &  4793\\\\\n\t 2021-04-12 & TOTAL/AVE & 全国 & 全国 & 全国 & 127138033 & 506272 & 2094 & 3063.571 & 4793 & 0 & 4793 &  4793 & 0 &  4793 &     0\\\\\n\\end{tabular}\n",
            "text/markdown": "\nA tibble: 6 × 16\n\n| date &lt;date&gt; | code &lt;fct&gt; | prefecture &lt;fct&gt; | prefecture_short &lt;fct&gt; | block &lt;fct&gt; | population &lt;int&gt; | sum_patients &lt;int&gt; | new_patients &lt;int&gt; | patients_ma7 &lt;dbl&gt; | status1 &lt;dbl&gt; | status2 &lt;dbl&gt; | status_all &lt;dbl&gt; | total_status1 &lt;dbl&gt; | total_status2 &lt;dbl&gt; | total_status_all &lt;dbl&gt; | cum_vaccinations &lt;dbl&gt; |\n|---|---|---|---|---|---|---|---|---|---|---|---|---|---|---|---|\n| 2021-04-17 | TOTAL/AVE | 全国 | 全国 | 全国 | 127138033 | 527247 | 4722 | 3772.714 | 7670 | 0 | 7670 | 40060 | 0 | 40060 | 32390 |\n| 2021-04-16 | TOTAL/AVE | 全国 | 全国 | 全国 | 127138033 | 522647 | 4519 | 3616.714 | 9945 | 0 | 9945 | 32390 | 0 | 32390 | 22445 |\n| 2021-04-15 | TOTAL/AVE | 全国 | 全国 | 全国 | 127138033 | 518187 | 4570 | 3466.429 | 8593 | 0 | 8593 | 22445 | 0 | 22445 | 13852 |\n| 2021-04-14 | TOTAL/AVE | 全国 | 全国 | 全国 | 127138033 | 513569 | 4302 | 3300.000 | 4842 | 0 | 4842 | 13852 | 0 | 13852 |  9010 |\n| 2021-04-13 | TOTAL/AVE | 全国 | 全国 | 全国 | 127138033 | 509627 | 3444 | 3179.143 | 4217 | 0 | 4217 |  9010 | 0 |  9010 |  4793 |\n| 2021-04-12 | TOTAL/AVE | 全国 | 全国 | 全国 | 127138033 | 506272 | 2094 | 3063.571 | 4793 | 0 | 4793 |  4793 | 0 |  4793 |     0 |\n\n",
            "text/html": [
              "<table class=\"dataframe\">\n",
              "<caption>A tibble: 6 × 16</caption>\n",
              "<thead>\n",
              "\t<tr><th scope=col>date</th><th scope=col>code</th><th scope=col>prefecture</th><th scope=col>prefecture_short</th><th scope=col>block</th><th scope=col>population</th><th scope=col>sum_patients</th><th scope=col>new_patients</th><th scope=col>patients_ma7</th><th scope=col>status1</th><th scope=col>status2</th><th scope=col>status_all</th><th scope=col>total_status1</th><th scope=col>total_status2</th><th scope=col>total_status_all</th><th scope=col>cum_vaccinations</th></tr>\n",
              "\t<tr><th scope=col>&lt;date&gt;</th><th scope=col>&lt;fct&gt;</th><th scope=col>&lt;fct&gt;</th><th scope=col>&lt;fct&gt;</th><th scope=col>&lt;fct&gt;</th><th scope=col>&lt;int&gt;</th><th scope=col>&lt;int&gt;</th><th scope=col>&lt;int&gt;</th><th scope=col>&lt;dbl&gt;</th><th scope=col>&lt;dbl&gt;</th><th scope=col>&lt;dbl&gt;</th><th scope=col>&lt;dbl&gt;</th><th scope=col>&lt;dbl&gt;</th><th scope=col>&lt;dbl&gt;</th><th scope=col>&lt;dbl&gt;</th><th scope=col>&lt;dbl&gt;</th></tr>\n",
              "</thead>\n",
              "<tbody>\n",
              "\t<tr><td>2021-04-17</td><td>TOTAL/AVE</td><td>全国</td><td>全国</td><td>全国</td><td>127138033</td><td>527247</td><td>4722</td><td>3772.714</td><td>7670</td><td>0</td><td>7670</td><td>40060</td><td>0</td><td>40060</td><td>32390</td></tr>\n",
              "\t<tr><td>2021-04-16</td><td>TOTAL/AVE</td><td>全国</td><td>全国</td><td>全国</td><td>127138033</td><td>522647</td><td>4519</td><td>3616.714</td><td>9945</td><td>0</td><td>9945</td><td>32390</td><td>0</td><td>32390</td><td>22445</td></tr>\n",
              "\t<tr><td>2021-04-15</td><td>TOTAL/AVE</td><td>全国</td><td>全国</td><td>全国</td><td>127138033</td><td>518187</td><td>4570</td><td>3466.429</td><td>8593</td><td>0</td><td>8593</td><td>22445</td><td>0</td><td>22445</td><td>13852</td></tr>\n",
              "\t<tr><td>2021-04-14</td><td>TOTAL/AVE</td><td>全国</td><td>全国</td><td>全国</td><td>127138033</td><td>513569</td><td>4302</td><td>3300.000</td><td>4842</td><td>0</td><td>4842</td><td>13852</td><td>0</td><td>13852</td><td> 9010</td></tr>\n",
              "\t<tr><td>2021-04-13</td><td>TOTAL/AVE</td><td>全国</td><td>全国</td><td>全国</td><td>127138033</td><td>509627</td><td>3444</td><td>3179.143</td><td>4217</td><td>0</td><td>4217</td><td> 9010</td><td>0</td><td> 9010</td><td> 4793</td></tr>\n",
              "\t<tr><td>2021-04-12</td><td>TOTAL/AVE</td><td>全国</td><td>全国</td><td>全国</td><td>127138033</td><td>506272</td><td>2094</td><td>3063.571</td><td>4793</td><td>0</td><td>4793</td><td> 4793</td><td>0</td><td> 4793</td><td>    0</td></tr>\n",
              "</tbody>\n",
              "</table>\n"
            ]
          },
          "metadata": {
            "tags": []
          }
        },
        {
          "output_type": "display_data",
          "data": {
            "text/plain": [
              "      date                   code        prefecture   prefecture_short\n",
              " Min.   :2021-04-12   TOTAL/AVE:  91   全国   :  91   全国   :  91    \n",
              " 1st Qu.:2021-05-04   01       :  90   北海道 :  90   北海道 :  90    \n",
              " Median :2021-05-27   02       :  90   青森県 :  90   青森   :  90    \n",
              " Mean   :2021-05-26   03       :  90   岩手県 :  90   岩手   :  90    \n",
              " 3rd Qu.:2021-06-18   04       :  90   宮城県 :  90   宮城   :  90    \n",
              " Max.   :2021-07-11   05       :  90   秋田県 :  90   秋田   :  90    \n",
              "                      (Other)  :3780   (Other):3780   (Other):3780    \n",
              "          block       population         sum_patients     new_patients   \n",
              " 九州・沖縄  :720   Min.   :   561175   Min.   :   292   Min.   :   0.0  \n",
              " 北海道・東北:630   1st Qu.:  1095903   1st Qu.:  2020   1st Qu.:   6.0  \n",
              " 関東        :630   Median :  1769880   Median :  4324   Median :  21.0  \n",
              " 甲信越      :540   Mean   :  5325615   Mean   : 29157   Mean   : 144.1  \n",
              " 近畿        :540   3rd Qu.:  2921436   3rd Qu.: 11427   3rd Qu.:  65.0  \n",
              " 中国        :450   Max.   :127138033   Max.   :817461   Max.   :7057.0  \n",
              " (Other)     :811                                                        \n",
              "  patients_ma7         status1          status2         status_all     \n",
              " Min.   : -13.571   Min.   :     0   Min.   :     0   Min.   :      1  \n",
              " 1st Qu.:   7.857   1st Qu.:  1078   1st Qu.:     0   1st Qu.:   1178  \n",
              " Median :  24.429   Median :  4319   Median :  1004   Median :   6539  \n",
              " Mean   : 145.598   Mean   : 14810   Mean   :  8207   Mean   :  23017  \n",
              " 3rd Qu.:  69.714   3rd Qu.:  9392   3rd Qu.:  5196   3rd Qu.:  14848  \n",
              " Max.   :6369.143   Max.   :684316   Max.   :647313   Max.   :1229357  \n",
              "                    NA's   :35       NA's   :35       NA's   :35       \n",
              " total_status1      total_status2      total_status_all   cum_vaccinations  \n",
              " Min.   :       1   Min.   :       0   Min.   :       1   Min.   :       0  \n",
              " 1st Qu.:   13365   1st Qu.:      11   1st Qu.:   13785   1st Qu.:   12762  \n",
              " Median :   91128   Median :   11978   Median :  106115   Median :   97780  \n",
              " Mean   :  426412   Mean   :  152235   Mean   :  578647   Mean   :  555630  \n",
              " 3rd Qu.:  276770   3rd Qu.:   91604   3rd Qu.:  373972   3rd Qu.:  358698  \n",
              " Max.   :31930904   Max.   :17798829   Max.   :49729733   Max.   :48920871  \n",
              " NA's   :35         NA's   :35         NA's   :35         NA's   :35        "
            ]
          },
          "metadata": {
            "tags": []
          }
        }
      ]
    },
    {
      "cell_type": "markdown",
      "metadata": {
        "id": "C_KKK5h0KLmk"
      },
      "source": [
        "### 7.4. このNA値は何か"
      ]
    },
    {
      "cell_type": "markdown",
      "metadata": {
        "id": "ijoxKW66F1sC"
      },
      "source": [
        "この期間に絞っても、NA（Not Available）値がまだ残っています。これは、データが欠けていた部分です。\n",
        "もともとがJSON、取り込んだ後も縦持ち形式だったので、気づきにくいですよね。でも、横持ちに変換したときに、気になった方もいたはずです。\n",
        "\n",
        "これが、当該の県ではその日に接種がなかった（ない場合はNDJSONのデータにない）、ということなら、status1、status2、status_allは0に置き換えてよいわけです。累計のカラムは、直前の値のある日を引き継ぐ、ということになります。\n"
      ]
    },
    {
      "cell_type": "code",
      "metadata": {
        "colab": {
          "base_uri": "https://localhost:8080/",
          "height": 1000
        },
        "id": "8gS1NIcEFUbw",
        "outputId": "2d2c5647-6128-4e99-bdaa-f810c86daf65"
      },
      "source": [
        "# 全カラムのデータが揃っていない行だけを抽出する。\n",
        "rows_w_na <- !complete.cases(joined_data)\n",
        "joined_data[rows_w_na, ]"
      ],
      "execution_count": null,
      "outputs": [
        {
          "output_type": "display_data",
          "data": {
            "text/plain": [
              "   date       code prefecture prefecture_short block        population\n",
              "1  2021-04-18 02   青森県     青森             北海道・東北 1275783   \n",
              "2  2021-04-18 03   岩手県     岩手             北海道・東北 1235517   \n",
              "3  2021-04-18 04   宮城県     宮城             北海道・東北 2292385   \n",
              "4  2021-05-05 05   秋田県     秋田             北海道・東北  985416   \n",
              "5  2021-05-04 05   秋田県     秋田             北海道・東北  985416   \n",
              "6  2021-05-03 05   秋田県     秋田             北海道・東北  985416   \n",
              "7  2021-04-18 07   福島県     福島             北海道・東北 1881981   \n",
              "8  2021-04-17 07   福島県     福島             北海道・東北 1881981   \n",
              "9  2021-04-18 09   栃木県     栃木             関東         1965516   \n",
              "10 2021-05-05 17   石川県     石川             甲信越       1139612   \n",
              "11 2021-04-14 17   石川県     石川             甲信越       1139612   \n",
              "12 2021-04-12 17   石川県     石川             甲信越       1139612   \n",
              "13 2021-05-05 18   福井県     福井             甲信越        780053   \n",
              "14 2021-04-13 19   山梨県     山梨             甲信越        826579   \n",
              "15 2021-04-12 19   山梨県     山梨             甲信越        826579   \n",
              "16 2021-05-05 31   鳥取県     鳥取             中国          561175   \n",
              "17 2021-05-04 31   鳥取県     鳥取             中国          561175   \n",
              "18 2021-05-03 31   鳥取県     鳥取             中国          561175   \n",
              "19 2021-04-13 31   鳥取県     鳥取             中国          561175   \n",
              "20 2021-04-12 31   鳥取県     鳥取             中国          561175   \n",
              "21 2021-05-09 32   島根県     島根             中国          679324   \n",
              "22 2021-05-04 32   島根県     島根             中国          679324   \n",
              "23 2021-04-17 32   島根県     島根             中国          679324   \n",
              "24 2021-05-05 34   広島県     広島             中国         2826858   \n",
              "25 2021-04-12 34   広島県     広島             中国         2826858   \n",
              "26 2021-05-05 35   山口県     山口             中国         1369882   \n",
              "27 2021-05-04 35   山口県     山口             中国         1369882   \n",
              "28 2021-04-18 35   山口県     山口             中国         1369882   \n",
              "29 2021-04-18 36   徳島県     徳島             四国          742505   \n",
              "30 2021-05-03 39   高知県     高知             四国          709230   \n",
              "31 2021-04-13 39   高知県     高知             四国          709230   \n",
              "32 2021-05-03 42   長崎県     長崎             九州・沖縄   1350769   \n",
              "33 2021-04-25 44   大分県     大分             九州・沖縄   1151229   \n",
              "34 2021-04-18 44   大分県     大分             九州・沖縄   1151229   \n",
              "35 2021-05-04 45   宮崎県     宮崎             九州・沖縄   1095903   \n",
              "   sum_patients new_patients patients_ma7 status1 status2 status_all\n",
              "1  1305          6           20.2857143   NA      NA      NA        \n",
              "2   779          3            3.8571429   NA      NA      NA        \n",
              "3  7580         28           59.4285714   NA      NA      NA        \n",
              "4   536         19           15.1428571   NA      NA      NA        \n",
              "5   517         11           13.1428571   NA      NA      NA        \n",
              "6   506         14           12.7142857   NA      NA      NA        \n",
              "7  2985         37           25.5714286   NA      NA      NA        \n",
              "8  2948         21           22.4285714   NA      NA      NA        \n",
              "9  5068         11           20.1428571   NA      NA      NA        \n",
              "10 2639         21           30.1428571   NA      NA      NA        \n",
              "11 2094         21           15.2857143   NA      NA      NA        \n",
              "12 2060         12           14.7142857   NA      NA      NA        \n",
              "13  915          5            9.4285714   NA      NA      NA        \n",
              "14 1029          1            5.2857143   NA      NA      NA        \n",
              "15 1028         16            5.5714286   NA      NA      NA        \n",
              "16  377          0            1.7142857   NA      NA      NA        \n",
              "17  377          3            1.8571429   NA      NA      NA        \n",
              "18  374          0            1.7142857   NA      NA      NA        \n",
              "19  308          6            4.1428571   NA      NA      NA        \n",
              "20  302         11            3.5714286   NA      NA      NA        \n",
              "21  375          2            2.7142857   NA      NA      NA        \n",
              "22  362          5            3.4285714   NA      NA      NA        \n",
              "23  297          1            0.8571429   NA      NA      NA        \n",
              "24 6297         75           74.1428571   NA      NA      NA        \n",
              "25 5285         11           10.8571429   NA      NA      NA        \n",
              "26 1925         12           19.2857143   NA      NA      NA        \n",
              "27 1913         12           21.2857143   NA      NA      NA        \n",
              "28 1553         13           13.1428571   NA      NA      NA        \n",
              "29  903         38           30.0000000   NA      NA      NA        \n",
              "30 1077         10           11.5714286   NA      NA      NA        \n",
              "31  946          0            1.2857143   NA      NA      NA        \n",
              "32 2165         24           28.2857143   NA      NA      NA        \n",
              "33 1641         63           37.5714286   NA      NA      NA        \n",
              "34 1378          5            4.8571429   NA      NA      NA        \n",
              "35 2246          0           13.0000000   NA      NA      NA        \n",
              "   total_status1 total_status2 total_status_all cum_vaccinations\n",
              "1  NA            NA            NA               NA              \n",
              "2  NA            NA            NA               NA              \n",
              "3  NA            NA            NA               NA              \n",
              "4  NA            NA            NA               NA              \n",
              "5  NA            NA            NA               NA              \n",
              "6  NA            NA            NA               NA              \n",
              "7  NA            NA            NA               NA              \n",
              "8  NA            NA            NA               NA              \n",
              "9  NA            NA            NA               NA              \n",
              "10 NA            NA            NA               NA              \n",
              "11 NA            NA            NA               NA              \n",
              "12 NA            NA            NA               NA              \n",
              "13 NA            NA            NA               NA              \n",
              "14 NA            NA            NA               NA              \n",
              "15 NA            NA            NA               NA              \n",
              "16 NA            NA            NA               NA              \n",
              "17 NA            NA            NA               NA              \n",
              "18 NA            NA            NA               NA              \n",
              "19 NA            NA            NA               NA              \n",
              "20 NA            NA            NA               NA              \n",
              "21 NA            NA            NA               NA              \n",
              "22 NA            NA            NA               NA              \n",
              "23 NA            NA            NA               NA              \n",
              "24 NA            NA            NA               NA              \n",
              "25 NA            NA            NA               NA              \n",
              "26 NA            NA            NA               NA              \n",
              "27 NA            NA            NA               NA              \n",
              "28 NA            NA            NA               NA              \n",
              "29 NA            NA            NA               NA              \n",
              "30 NA            NA            NA               NA              \n",
              "31 NA            NA            NA               NA              \n",
              "32 NA            NA            NA               NA              \n",
              "33 NA            NA            NA               NA              \n",
              "34 NA            NA            NA               NA              \n",
              "35 NA            NA            NA               NA              "
            ],
            "text/latex": "A tibble: 35 × 16\n\\begin{tabular}{llllllllllllllll}\n date & code & prefecture & prefecture\\_short & block & population & sum\\_patients & new\\_patients & patients\\_ma7 & status1 & status2 & status\\_all & total\\_status1 & total\\_status2 & total\\_status\\_all & cum\\_vaccinations\\\\\n <date> & <fct> & <fct> & <fct> & <fct> & <int> & <int> & <int> & <dbl> & <dbl> & <dbl> & <dbl> & <dbl> & <dbl> & <dbl> & <dbl>\\\\\n\\hline\n\t 2021-04-18 & 02 & 青森県 & 青森 & 北海道・東北 & 1275783 & 1305 &  6 & 20.2857143 & NA & NA & NA & NA & NA & NA & NA\\\\\n\t 2021-04-18 & 03 & 岩手県 & 岩手 & 北海道・東北 & 1235517 &  779 &  3 &  3.8571429 & NA & NA & NA & NA & NA & NA & NA\\\\\n\t 2021-04-18 & 04 & 宮城県 & 宮城 & 北海道・東北 & 2292385 & 7580 & 28 & 59.4285714 & NA & NA & NA & NA & NA & NA & NA\\\\\n\t 2021-05-05 & 05 & 秋田県 & 秋田 & 北海道・東北 &  985416 &  536 & 19 & 15.1428571 & NA & NA & NA & NA & NA & NA & NA\\\\\n\t 2021-05-04 & 05 & 秋田県 & 秋田 & 北海道・東北 &  985416 &  517 & 11 & 13.1428571 & NA & NA & NA & NA & NA & NA & NA\\\\\n\t 2021-05-03 & 05 & 秋田県 & 秋田 & 北海道・東北 &  985416 &  506 & 14 & 12.7142857 & NA & NA & NA & NA & NA & NA & NA\\\\\n\t 2021-04-18 & 07 & 福島県 & 福島 & 北海道・東北 & 1881981 & 2985 & 37 & 25.5714286 & NA & NA & NA & NA & NA & NA & NA\\\\\n\t 2021-04-17 & 07 & 福島県 & 福島 & 北海道・東北 & 1881981 & 2948 & 21 & 22.4285714 & NA & NA & NA & NA & NA & NA & NA\\\\\n\t 2021-04-18 & 09 & 栃木県 & 栃木 & 関東         & 1965516 & 5068 & 11 & 20.1428571 & NA & NA & NA & NA & NA & NA & NA\\\\\n\t 2021-05-05 & 17 & 石川県 & 石川 & 甲信越       & 1139612 & 2639 & 21 & 30.1428571 & NA & NA & NA & NA & NA & NA & NA\\\\\n\t 2021-04-14 & 17 & 石川県 & 石川 & 甲信越       & 1139612 & 2094 & 21 & 15.2857143 & NA & NA & NA & NA & NA & NA & NA\\\\\n\t 2021-04-12 & 17 & 石川県 & 石川 & 甲信越       & 1139612 & 2060 & 12 & 14.7142857 & NA & NA & NA & NA & NA & NA & NA\\\\\n\t 2021-05-05 & 18 & 福井県 & 福井 & 甲信越       &  780053 &  915 &  5 &  9.4285714 & NA & NA & NA & NA & NA & NA & NA\\\\\n\t 2021-04-13 & 19 & 山梨県 & 山梨 & 甲信越       &  826579 & 1029 &  1 &  5.2857143 & NA & NA & NA & NA & NA & NA & NA\\\\\n\t 2021-04-12 & 19 & 山梨県 & 山梨 & 甲信越       &  826579 & 1028 & 16 &  5.5714286 & NA & NA & NA & NA & NA & NA & NA\\\\\n\t 2021-05-05 & 31 & 鳥取県 & 鳥取 & 中国         &  561175 &  377 &  0 &  1.7142857 & NA & NA & NA & NA & NA & NA & NA\\\\\n\t 2021-05-04 & 31 & 鳥取県 & 鳥取 & 中国         &  561175 &  377 &  3 &  1.8571429 & NA & NA & NA & NA & NA & NA & NA\\\\\n\t 2021-05-03 & 31 & 鳥取県 & 鳥取 & 中国         &  561175 &  374 &  0 &  1.7142857 & NA & NA & NA & NA & NA & NA & NA\\\\\n\t 2021-04-13 & 31 & 鳥取県 & 鳥取 & 中国         &  561175 &  308 &  6 &  4.1428571 & NA & NA & NA & NA & NA & NA & NA\\\\\n\t 2021-04-12 & 31 & 鳥取県 & 鳥取 & 中国         &  561175 &  302 & 11 &  3.5714286 & NA & NA & NA & NA & NA & NA & NA\\\\\n\t 2021-05-09 & 32 & 島根県 & 島根 & 中国         &  679324 &  375 &  2 &  2.7142857 & NA & NA & NA & NA & NA & NA & NA\\\\\n\t 2021-05-04 & 32 & 島根県 & 島根 & 中国         &  679324 &  362 &  5 &  3.4285714 & NA & NA & NA & NA & NA & NA & NA\\\\\n\t 2021-04-17 & 32 & 島根県 & 島根 & 中国         &  679324 &  297 &  1 &  0.8571429 & NA & NA & NA & NA & NA & NA & NA\\\\\n\t 2021-05-05 & 34 & 広島県 & 広島 & 中国         & 2826858 & 6297 & 75 & 74.1428571 & NA & NA & NA & NA & NA & NA & NA\\\\\n\t 2021-04-12 & 34 & 広島県 & 広島 & 中国         & 2826858 & 5285 & 11 & 10.8571429 & NA & NA & NA & NA & NA & NA & NA\\\\\n\t 2021-05-05 & 35 & 山口県 & 山口 & 中国         & 1369882 & 1925 & 12 & 19.2857143 & NA & NA & NA & NA & NA & NA & NA\\\\\n\t 2021-05-04 & 35 & 山口県 & 山口 & 中国         & 1369882 & 1913 & 12 & 21.2857143 & NA & NA & NA & NA & NA & NA & NA\\\\\n\t 2021-04-18 & 35 & 山口県 & 山口 & 中国         & 1369882 & 1553 & 13 & 13.1428571 & NA & NA & NA & NA & NA & NA & NA\\\\\n\t 2021-04-18 & 36 & 徳島県 & 徳島 & 四国         &  742505 &  903 & 38 & 30.0000000 & NA & NA & NA & NA & NA & NA & NA\\\\\n\t 2021-05-03 & 39 & 高知県 & 高知 & 四国         &  709230 & 1077 & 10 & 11.5714286 & NA & NA & NA & NA & NA & NA & NA\\\\\n\t 2021-04-13 & 39 & 高知県 & 高知 & 四国         &  709230 &  946 &  0 &  1.2857143 & NA & NA & NA & NA & NA & NA & NA\\\\\n\t 2021-05-03 & 42 & 長崎県 & 長崎 & 九州・沖縄   & 1350769 & 2165 & 24 & 28.2857143 & NA & NA & NA & NA & NA & NA & NA\\\\\n\t 2021-04-25 & 44 & 大分県 & 大分 & 九州・沖縄   & 1151229 & 1641 & 63 & 37.5714286 & NA & NA & NA & NA & NA & NA & NA\\\\\n\t 2021-04-18 & 44 & 大分県 & 大分 & 九州・沖縄   & 1151229 & 1378 &  5 &  4.8571429 & NA & NA & NA & NA & NA & NA & NA\\\\\n\t 2021-05-04 & 45 & 宮崎県 & 宮崎 & 九州・沖縄   & 1095903 & 2246 &  0 & 13.0000000 & NA & NA & NA & NA & NA & NA & NA\\\\\n\\end{tabular}\n",
            "text/markdown": "\nA tibble: 35 × 16\n\n| date &lt;date&gt; | code &lt;fct&gt; | prefecture &lt;fct&gt; | prefecture_short &lt;fct&gt; | block &lt;fct&gt; | population &lt;int&gt; | sum_patients &lt;int&gt; | new_patients &lt;int&gt; | patients_ma7 &lt;dbl&gt; | status1 &lt;dbl&gt; | status2 &lt;dbl&gt; | status_all &lt;dbl&gt; | total_status1 &lt;dbl&gt; | total_status2 &lt;dbl&gt; | total_status_all &lt;dbl&gt; | cum_vaccinations &lt;dbl&gt; |\n|---|---|---|---|---|---|---|---|---|---|---|---|---|---|---|---|\n| 2021-04-18 | 02 | 青森県 | 青森 | 北海道・東北 | 1275783 | 1305 |  6 | 20.2857143 | NA | NA | NA | NA | NA | NA | NA |\n| 2021-04-18 | 03 | 岩手県 | 岩手 | 北海道・東北 | 1235517 |  779 |  3 |  3.8571429 | NA | NA | NA | NA | NA | NA | NA |\n| 2021-04-18 | 04 | 宮城県 | 宮城 | 北海道・東北 | 2292385 | 7580 | 28 | 59.4285714 | NA | NA | NA | NA | NA | NA | NA |\n| 2021-05-05 | 05 | 秋田県 | 秋田 | 北海道・東北 |  985416 |  536 | 19 | 15.1428571 | NA | NA | NA | NA | NA | NA | NA |\n| 2021-05-04 | 05 | 秋田県 | 秋田 | 北海道・東北 |  985416 |  517 | 11 | 13.1428571 | NA | NA | NA | NA | NA | NA | NA |\n| 2021-05-03 | 05 | 秋田県 | 秋田 | 北海道・東北 |  985416 |  506 | 14 | 12.7142857 | NA | NA | NA | NA | NA | NA | NA |\n| 2021-04-18 | 07 | 福島県 | 福島 | 北海道・東北 | 1881981 | 2985 | 37 | 25.5714286 | NA | NA | NA | NA | NA | NA | NA |\n| 2021-04-17 | 07 | 福島県 | 福島 | 北海道・東北 | 1881981 | 2948 | 21 | 22.4285714 | NA | NA | NA | NA | NA | NA | NA |\n| 2021-04-18 | 09 | 栃木県 | 栃木 | 関東         | 1965516 | 5068 | 11 | 20.1428571 | NA | NA | NA | NA | NA | NA | NA |\n| 2021-05-05 | 17 | 石川県 | 石川 | 甲信越       | 1139612 | 2639 | 21 | 30.1428571 | NA | NA | NA | NA | NA | NA | NA |\n| 2021-04-14 | 17 | 石川県 | 石川 | 甲信越       | 1139612 | 2094 | 21 | 15.2857143 | NA | NA | NA | NA | NA | NA | NA |\n| 2021-04-12 | 17 | 石川県 | 石川 | 甲信越       | 1139612 | 2060 | 12 | 14.7142857 | NA | NA | NA | NA | NA | NA | NA |\n| 2021-05-05 | 18 | 福井県 | 福井 | 甲信越       |  780053 |  915 |  5 |  9.4285714 | NA | NA | NA | NA | NA | NA | NA |\n| 2021-04-13 | 19 | 山梨県 | 山梨 | 甲信越       |  826579 | 1029 |  1 |  5.2857143 | NA | NA | NA | NA | NA | NA | NA |\n| 2021-04-12 | 19 | 山梨県 | 山梨 | 甲信越       |  826579 | 1028 | 16 |  5.5714286 | NA | NA | NA | NA | NA | NA | NA |\n| 2021-05-05 | 31 | 鳥取県 | 鳥取 | 中国         |  561175 |  377 |  0 |  1.7142857 | NA | NA | NA | NA | NA | NA | NA |\n| 2021-05-04 | 31 | 鳥取県 | 鳥取 | 中国         |  561175 |  377 |  3 |  1.8571429 | NA | NA | NA | NA | NA | NA | NA |\n| 2021-05-03 | 31 | 鳥取県 | 鳥取 | 中国         |  561175 |  374 |  0 |  1.7142857 | NA | NA | NA | NA | NA | NA | NA |\n| 2021-04-13 | 31 | 鳥取県 | 鳥取 | 中国         |  561175 |  308 |  6 |  4.1428571 | NA | NA | NA | NA | NA | NA | NA |\n| 2021-04-12 | 31 | 鳥取県 | 鳥取 | 中国         |  561175 |  302 | 11 |  3.5714286 | NA | NA | NA | NA | NA | NA | NA |\n| 2021-05-09 | 32 | 島根県 | 島根 | 中国         |  679324 |  375 |  2 |  2.7142857 | NA | NA | NA | NA | NA | NA | NA |\n| 2021-05-04 | 32 | 島根県 | 島根 | 中国         |  679324 |  362 |  5 |  3.4285714 | NA | NA | NA | NA | NA | NA | NA |\n| 2021-04-17 | 32 | 島根県 | 島根 | 中国         |  679324 |  297 |  1 |  0.8571429 | NA | NA | NA | NA | NA | NA | NA |\n| 2021-05-05 | 34 | 広島県 | 広島 | 中国         | 2826858 | 6297 | 75 | 74.1428571 | NA | NA | NA | NA | NA | NA | NA |\n| 2021-04-12 | 34 | 広島県 | 広島 | 中国         | 2826858 | 5285 | 11 | 10.8571429 | NA | NA | NA | NA | NA | NA | NA |\n| 2021-05-05 | 35 | 山口県 | 山口 | 中国         | 1369882 | 1925 | 12 | 19.2857143 | NA | NA | NA | NA | NA | NA | NA |\n| 2021-05-04 | 35 | 山口県 | 山口 | 中国         | 1369882 | 1913 | 12 | 21.2857143 | NA | NA | NA | NA | NA | NA | NA |\n| 2021-04-18 | 35 | 山口県 | 山口 | 中国         | 1369882 | 1553 | 13 | 13.1428571 | NA | NA | NA | NA | NA | NA | NA |\n| 2021-04-18 | 36 | 徳島県 | 徳島 | 四国         |  742505 |  903 | 38 | 30.0000000 | NA | NA | NA | NA | NA | NA | NA |\n| 2021-05-03 | 39 | 高知県 | 高知 | 四国         |  709230 | 1077 | 10 | 11.5714286 | NA | NA | NA | NA | NA | NA | NA |\n| 2021-04-13 | 39 | 高知県 | 高知 | 四国         |  709230 |  946 |  0 |  1.2857143 | NA | NA | NA | NA | NA | NA | NA |\n| 2021-05-03 | 42 | 長崎県 | 長崎 | 九州・沖縄   | 1350769 | 2165 | 24 | 28.2857143 | NA | NA | NA | NA | NA | NA | NA |\n| 2021-04-25 | 44 | 大分県 | 大分 | 九州・沖縄   | 1151229 | 1641 | 63 | 37.5714286 | NA | NA | NA | NA | NA | NA | NA |\n| 2021-04-18 | 44 | 大分県 | 大分 | 九州・沖縄   | 1151229 | 1378 |  5 |  4.8571429 | NA | NA | NA | NA | NA | NA | NA |\n| 2021-05-04 | 45 | 宮崎県 | 宮崎 | 九州・沖縄   | 1095903 | 2246 |  0 | 13.0000000 | NA | NA | NA | NA | NA | NA | NA |\n\n",
            "text/html": [
              "<table class=\"dataframe\">\n",
              "<caption>A tibble: 35 × 16</caption>\n",
              "<thead>\n",
              "\t<tr><th scope=col>date</th><th scope=col>code</th><th scope=col>prefecture</th><th scope=col>prefecture_short</th><th scope=col>block</th><th scope=col>population</th><th scope=col>sum_patients</th><th scope=col>new_patients</th><th scope=col>patients_ma7</th><th scope=col>status1</th><th scope=col>status2</th><th scope=col>status_all</th><th scope=col>total_status1</th><th scope=col>total_status2</th><th scope=col>total_status_all</th><th scope=col>cum_vaccinations</th></tr>\n",
              "\t<tr><th scope=col>&lt;date&gt;</th><th scope=col>&lt;fct&gt;</th><th scope=col>&lt;fct&gt;</th><th scope=col>&lt;fct&gt;</th><th scope=col>&lt;fct&gt;</th><th scope=col>&lt;int&gt;</th><th scope=col>&lt;int&gt;</th><th scope=col>&lt;int&gt;</th><th scope=col>&lt;dbl&gt;</th><th scope=col>&lt;dbl&gt;</th><th scope=col>&lt;dbl&gt;</th><th scope=col>&lt;dbl&gt;</th><th scope=col>&lt;dbl&gt;</th><th scope=col>&lt;dbl&gt;</th><th scope=col>&lt;dbl&gt;</th><th scope=col>&lt;dbl&gt;</th></tr>\n",
              "</thead>\n",
              "<tbody>\n",
              "\t<tr><td>2021-04-18</td><td>02</td><td>青森県</td><td>青森</td><td>北海道・東北</td><td>1275783</td><td>1305</td><td> 6</td><td>20.2857143</td><td>NA</td><td>NA</td><td>NA</td><td>NA</td><td>NA</td><td>NA</td><td>NA</td></tr>\n",
              "\t<tr><td>2021-04-18</td><td>03</td><td>岩手県</td><td>岩手</td><td>北海道・東北</td><td>1235517</td><td> 779</td><td> 3</td><td> 3.8571429</td><td>NA</td><td>NA</td><td>NA</td><td>NA</td><td>NA</td><td>NA</td><td>NA</td></tr>\n",
              "\t<tr><td>2021-04-18</td><td>04</td><td>宮城県</td><td>宮城</td><td>北海道・東北</td><td>2292385</td><td>7580</td><td>28</td><td>59.4285714</td><td>NA</td><td>NA</td><td>NA</td><td>NA</td><td>NA</td><td>NA</td><td>NA</td></tr>\n",
              "\t<tr><td>2021-05-05</td><td>05</td><td>秋田県</td><td>秋田</td><td>北海道・東北</td><td> 985416</td><td> 536</td><td>19</td><td>15.1428571</td><td>NA</td><td>NA</td><td>NA</td><td>NA</td><td>NA</td><td>NA</td><td>NA</td></tr>\n",
              "\t<tr><td>2021-05-04</td><td>05</td><td>秋田県</td><td>秋田</td><td>北海道・東北</td><td> 985416</td><td> 517</td><td>11</td><td>13.1428571</td><td>NA</td><td>NA</td><td>NA</td><td>NA</td><td>NA</td><td>NA</td><td>NA</td></tr>\n",
              "\t<tr><td>2021-05-03</td><td>05</td><td>秋田県</td><td>秋田</td><td>北海道・東北</td><td> 985416</td><td> 506</td><td>14</td><td>12.7142857</td><td>NA</td><td>NA</td><td>NA</td><td>NA</td><td>NA</td><td>NA</td><td>NA</td></tr>\n",
              "\t<tr><td>2021-04-18</td><td>07</td><td>福島県</td><td>福島</td><td>北海道・東北</td><td>1881981</td><td>2985</td><td>37</td><td>25.5714286</td><td>NA</td><td>NA</td><td>NA</td><td>NA</td><td>NA</td><td>NA</td><td>NA</td></tr>\n",
              "\t<tr><td>2021-04-17</td><td>07</td><td>福島県</td><td>福島</td><td>北海道・東北</td><td>1881981</td><td>2948</td><td>21</td><td>22.4285714</td><td>NA</td><td>NA</td><td>NA</td><td>NA</td><td>NA</td><td>NA</td><td>NA</td></tr>\n",
              "\t<tr><td>2021-04-18</td><td>09</td><td>栃木県</td><td>栃木</td><td>関東        </td><td>1965516</td><td>5068</td><td>11</td><td>20.1428571</td><td>NA</td><td>NA</td><td>NA</td><td>NA</td><td>NA</td><td>NA</td><td>NA</td></tr>\n",
              "\t<tr><td>2021-05-05</td><td>17</td><td>石川県</td><td>石川</td><td>甲信越      </td><td>1139612</td><td>2639</td><td>21</td><td>30.1428571</td><td>NA</td><td>NA</td><td>NA</td><td>NA</td><td>NA</td><td>NA</td><td>NA</td></tr>\n",
              "\t<tr><td>2021-04-14</td><td>17</td><td>石川県</td><td>石川</td><td>甲信越      </td><td>1139612</td><td>2094</td><td>21</td><td>15.2857143</td><td>NA</td><td>NA</td><td>NA</td><td>NA</td><td>NA</td><td>NA</td><td>NA</td></tr>\n",
              "\t<tr><td>2021-04-12</td><td>17</td><td>石川県</td><td>石川</td><td>甲信越      </td><td>1139612</td><td>2060</td><td>12</td><td>14.7142857</td><td>NA</td><td>NA</td><td>NA</td><td>NA</td><td>NA</td><td>NA</td><td>NA</td></tr>\n",
              "\t<tr><td>2021-05-05</td><td>18</td><td>福井県</td><td>福井</td><td>甲信越      </td><td> 780053</td><td> 915</td><td> 5</td><td> 9.4285714</td><td>NA</td><td>NA</td><td>NA</td><td>NA</td><td>NA</td><td>NA</td><td>NA</td></tr>\n",
              "\t<tr><td>2021-04-13</td><td>19</td><td>山梨県</td><td>山梨</td><td>甲信越      </td><td> 826579</td><td>1029</td><td> 1</td><td> 5.2857143</td><td>NA</td><td>NA</td><td>NA</td><td>NA</td><td>NA</td><td>NA</td><td>NA</td></tr>\n",
              "\t<tr><td>2021-04-12</td><td>19</td><td>山梨県</td><td>山梨</td><td>甲信越      </td><td> 826579</td><td>1028</td><td>16</td><td> 5.5714286</td><td>NA</td><td>NA</td><td>NA</td><td>NA</td><td>NA</td><td>NA</td><td>NA</td></tr>\n",
              "\t<tr><td>2021-05-05</td><td>31</td><td>鳥取県</td><td>鳥取</td><td>中国        </td><td> 561175</td><td> 377</td><td> 0</td><td> 1.7142857</td><td>NA</td><td>NA</td><td>NA</td><td>NA</td><td>NA</td><td>NA</td><td>NA</td></tr>\n",
              "\t<tr><td>2021-05-04</td><td>31</td><td>鳥取県</td><td>鳥取</td><td>中国        </td><td> 561175</td><td> 377</td><td> 3</td><td> 1.8571429</td><td>NA</td><td>NA</td><td>NA</td><td>NA</td><td>NA</td><td>NA</td><td>NA</td></tr>\n",
              "\t<tr><td>2021-05-03</td><td>31</td><td>鳥取県</td><td>鳥取</td><td>中国        </td><td> 561175</td><td> 374</td><td> 0</td><td> 1.7142857</td><td>NA</td><td>NA</td><td>NA</td><td>NA</td><td>NA</td><td>NA</td><td>NA</td></tr>\n",
              "\t<tr><td>2021-04-13</td><td>31</td><td>鳥取県</td><td>鳥取</td><td>中国        </td><td> 561175</td><td> 308</td><td> 6</td><td> 4.1428571</td><td>NA</td><td>NA</td><td>NA</td><td>NA</td><td>NA</td><td>NA</td><td>NA</td></tr>\n",
              "\t<tr><td>2021-04-12</td><td>31</td><td>鳥取県</td><td>鳥取</td><td>中国        </td><td> 561175</td><td> 302</td><td>11</td><td> 3.5714286</td><td>NA</td><td>NA</td><td>NA</td><td>NA</td><td>NA</td><td>NA</td><td>NA</td></tr>\n",
              "\t<tr><td>2021-05-09</td><td>32</td><td>島根県</td><td>島根</td><td>中国        </td><td> 679324</td><td> 375</td><td> 2</td><td> 2.7142857</td><td>NA</td><td>NA</td><td>NA</td><td>NA</td><td>NA</td><td>NA</td><td>NA</td></tr>\n",
              "\t<tr><td>2021-05-04</td><td>32</td><td>島根県</td><td>島根</td><td>中国        </td><td> 679324</td><td> 362</td><td> 5</td><td> 3.4285714</td><td>NA</td><td>NA</td><td>NA</td><td>NA</td><td>NA</td><td>NA</td><td>NA</td></tr>\n",
              "\t<tr><td>2021-04-17</td><td>32</td><td>島根県</td><td>島根</td><td>中国        </td><td> 679324</td><td> 297</td><td> 1</td><td> 0.8571429</td><td>NA</td><td>NA</td><td>NA</td><td>NA</td><td>NA</td><td>NA</td><td>NA</td></tr>\n",
              "\t<tr><td>2021-05-05</td><td>34</td><td>広島県</td><td>広島</td><td>中国        </td><td>2826858</td><td>6297</td><td>75</td><td>74.1428571</td><td>NA</td><td>NA</td><td>NA</td><td>NA</td><td>NA</td><td>NA</td><td>NA</td></tr>\n",
              "\t<tr><td>2021-04-12</td><td>34</td><td>広島県</td><td>広島</td><td>中国        </td><td>2826858</td><td>5285</td><td>11</td><td>10.8571429</td><td>NA</td><td>NA</td><td>NA</td><td>NA</td><td>NA</td><td>NA</td><td>NA</td></tr>\n",
              "\t<tr><td>2021-05-05</td><td>35</td><td>山口県</td><td>山口</td><td>中国        </td><td>1369882</td><td>1925</td><td>12</td><td>19.2857143</td><td>NA</td><td>NA</td><td>NA</td><td>NA</td><td>NA</td><td>NA</td><td>NA</td></tr>\n",
              "\t<tr><td>2021-05-04</td><td>35</td><td>山口県</td><td>山口</td><td>中国        </td><td>1369882</td><td>1913</td><td>12</td><td>21.2857143</td><td>NA</td><td>NA</td><td>NA</td><td>NA</td><td>NA</td><td>NA</td><td>NA</td></tr>\n",
              "\t<tr><td>2021-04-18</td><td>35</td><td>山口県</td><td>山口</td><td>中国        </td><td>1369882</td><td>1553</td><td>13</td><td>13.1428571</td><td>NA</td><td>NA</td><td>NA</td><td>NA</td><td>NA</td><td>NA</td><td>NA</td></tr>\n",
              "\t<tr><td>2021-04-18</td><td>36</td><td>徳島県</td><td>徳島</td><td>四国        </td><td> 742505</td><td> 903</td><td>38</td><td>30.0000000</td><td>NA</td><td>NA</td><td>NA</td><td>NA</td><td>NA</td><td>NA</td><td>NA</td></tr>\n",
              "\t<tr><td>2021-05-03</td><td>39</td><td>高知県</td><td>高知</td><td>四国        </td><td> 709230</td><td>1077</td><td>10</td><td>11.5714286</td><td>NA</td><td>NA</td><td>NA</td><td>NA</td><td>NA</td><td>NA</td><td>NA</td></tr>\n",
              "\t<tr><td>2021-04-13</td><td>39</td><td>高知県</td><td>高知</td><td>四国        </td><td> 709230</td><td> 946</td><td> 0</td><td> 1.2857143</td><td>NA</td><td>NA</td><td>NA</td><td>NA</td><td>NA</td><td>NA</td><td>NA</td></tr>\n",
              "\t<tr><td>2021-05-03</td><td>42</td><td>長崎県</td><td>長崎</td><td>九州・沖縄  </td><td>1350769</td><td>2165</td><td>24</td><td>28.2857143</td><td>NA</td><td>NA</td><td>NA</td><td>NA</td><td>NA</td><td>NA</td><td>NA</td></tr>\n",
              "\t<tr><td>2021-04-25</td><td>44</td><td>大分県</td><td>大分</td><td>九州・沖縄  </td><td>1151229</td><td>1641</td><td>63</td><td>37.5714286</td><td>NA</td><td>NA</td><td>NA</td><td>NA</td><td>NA</td><td>NA</td><td>NA</td></tr>\n",
              "\t<tr><td>2021-04-18</td><td>44</td><td>大分県</td><td>大分</td><td>九州・沖縄  </td><td>1151229</td><td>1378</td><td> 5</td><td> 4.8571429</td><td>NA</td><td>NA</td><td>NA</td><td>NA</td><td>NA</td><td>NA</td><td>NA</td></tr>\n",
              "\t<tr><td>2021-05-04</td><td>45</td><td>宮崎県</td><td>宮崎</td><td>九州・沖縄  </td><td>1095903</td><td>2246</td><td> 0</td><td>13.0000000</td><td>NA</td><td>NA</td><td>NA</td><td>NA</td><td>NA</td><td>NA</td><td>NA</td></tr>\n",
              "</tbody>\n",
              "</table>\n"
            ]
          },
          "metadata": {
            "tags": []
          }
        }
      ]
    },
    {
      "cell_type": "code",
      "metadata": {
        "colab": {
          "base_uri": "https://localhost:8080/",
          "height": 1000
        },
        "id": "NpTEZjn1HxUc",
        "outputId": "4442939a-b874-42a3-90bd-b6d74fcd3cfe"
      },
      "source": [
        "# NAは貴重な情報なので、インプレイスで置換せずに、残しておく。\n",
        "joined_data_w0 <- joined_data\n",
        "before <-  lead(rows_w_na)\n",
        "after  <-  lag(rows_w_na)\n",
        "flag   <-  ((rows_w_na | before | after) > 0)\n",
        "# NAの前後１行ずつを表示\n",
        "joined_data_w0[flag, ]\n",
        "\n",
        "# 累積接種の2カラムについては、NAがあったら、直前の有効な値で埋めるファンクション。\n",
        "# ただし期間中の一番古い日がNAの場合は、その前日がないから、持ってくるデータがない。この分と……\n",
        "# 新規接種のNAは、まとめて0に置き換える。\n",
        "func_fillNA <- function(df){\n",
        "  return(\n",
        "    df %>% arrange(desc(date)) %>% \n",
        "      fill(\n",
        "# status区分を追加。\n",
        "        status1,\n",
        "        status2,\n",
        "        status_all,\n",
        "        cum_vaccinations, .direction = \"down\"\n",
        "      ) %>% \n",
        "      mutate(\n",
        "# status区分を追加。\n",
        "        status1            = status1 %>% replace_na(0),\n",
        "        status2            = status2 %>% replace_na(0),\n",
        "        status_all         = status_all %>% replace_na(0),\n",
        "        total_status1      = total_status1 %>% replace_na(0),\n",
        "        total_status2      = total_status2 %>% replace_na(0),\n",
        "        total_status_all   = total_status_all %>% replace_na(0),\n",
        "        cum_vaccinations   = cum_vaccinations %>% replace_na(0)\n",
        "      ) \n",
        "  )\n",
        "}\n",
        "\n",
        "# NAを直前の有効な値または0に置換\n",
        "joined_data_w0 <- joined_data_w0 %>% \n",
        "  nest(nested_df = -prefecture) %>%\n",
        "  mutate(nested_df = map(nested_df, func_fillNA)) %>% \n",
        "  unnest(cols = nested_df)\n",
        "\n",
        "# 結果を見る\n",
        "joined_data_w0[flag,]"
      ],
      "execution_count": null,
      "outputs": [
        {
          "output_type": "display_data",
          "data": {
            "text/plain": [
              "   date       code prefecture prefecture_short block        population\n",
              "1  <NA>       NA   NA         NA               NA                NA   \n",
              "2  2021-04-19 02   青森県     青森             北海道・東北 1275783   \n",
              "3  2021-04-18 02   青森県     青森             北海道・東北 1275783   \n",
              "4  2021-04-17 02   青森県     青森             北海道・東北 1275783   \n",
              "5  2021-04-19 03   岩手県     岩手             北海道・東北 1235517   \n",
              "6  2021-04-18 03   岩手県     岩手             北海道・東北 1235517   \n",
              "7  2021-04-17 03   岩手県     岩手             北海道・東北 1235517   \n",
              "8  2021-04-19 04   宮城県     宮城             北海道・東北 2292385   \n",
              "9  2021-04-18 04   宮城県     宮城             北海道・東北 2292385   \n",
              "10 2021-04-17 04   宮城県     宮城             北海道・東北 2292385   \n",
              "11 2021-05-06 05   秋田県     秋田             北海道・東北  985416   \n",
              "12 2021-05-05 05   秋田県     秋田             北海道・東北  985416   \n",
              "13 2021-05-04 05   秋田県     秋田             北海道・東北  985416   \n",
              "14 2021-05-03 05   秋田県     秋田             北海道・東北  985416   \n",
              "15 2021-05-02 05   秋田県     秋田             北海道・東北  985416   \n",
              "16 2021-04-19 07   福島県     福島             北海道・東北 1881981   \n",
              "17 2021-04-18 07   福島県     福島             北海道・東北 1881981   \n",
              "18 2021-04-17 07   福島県     福島             北海道・東北 1881981   \n",
              "19 2021-04-16 07   福島県     福島             北海道・東北 1881981   \n",
              "20 2021-04-19 09   栃木県     栃木             関東         1965516   \n",
              "21 2021-04-18 09   栃木県     栃木             関東         1965516   \n",
              "22 2021-04-17 09   栃木県     栃木             関東         1965516   \n",
              "23 2021-05-06 17   石川県     石川             甲信越       1139612   \n",
              "24 2021-05-05 17   石川県     石川             甲信越       1139612   \n",
              "25 2021-05-04 17   石川県     石川             甲信越       1139612   \n",
              "26 2021-04-15 17   石川県     石川             甲信越       1139612   \n",
              "27 2021-04-14 17   石川県     石川             甲信越       1139612   \n",
              "28 2021-04-13 17   石川県     石川             甲信越       1139612   \n",
              "29 2021-04-12 17   石川県     石川             甲信越       1139612   \n",
              "30 2021-07-10 18   福井県     福井             甲信越        780053   \n",
              "⋮  ⋮          ⋮    ⋮          ⋮                ⋮            ⋮         \n",
              "61 2021-07-10 35   山口県     山口             中国         1369882   \n",
              "62 2021-05-06 35   山口県     山口             中国         1369882   \n",
              "63 2021-05-05 35   山口県     山口             中国         1369882   \n",
              "64 2021-05-04 35   山口県     山口             中国         1369882   \n",
              "65 2021-05-03 35   山口県     山口             中国         1369882   \n",
              "66 2021-04-19 35   山口県     山口             中国         1369882   \n",
              "67 2021-04-18 35   山口県     山口             中国         1369882   \n",
              "68 2021-04-17 35   山口県     山口             中国         1369882   \n",
              "69 2021-04-19 36   徳島県     徳島             四国          742505   \n",
              "70 2021-04-18 36   徳島県     徳島             四国          742505   \n",
              "71 2021-04-17 36   徳島県     徳島             四国          742505   \n",
              "72 2021-05-04 39   高知県     高知             四国          709230   \n",
              "73 2021-05-03 39   高知県     高知             四国          709230   \n",
              "74 2021-05-02 39   高知県     高知             四国          709230   \n",
              "75 2021-04-14 39   高知県     高知             四国          709230   \n",
              "76 2021-04-13 39   高知県     高知             四国          709230   \n",
              "77 2021-04-12 39   高知県     高知             四国          709230   \n",
              "78 2021-05-04 42   長崎県     長崎             九州・沖縄   1350769   \n",
              "79 2021-05-03 42   長崎県     長崎             九州・沖縄   1350769   \n",
              "80 2021-05-02 42   長崎県     長崎             九州・沖縄   1350769   \n",
              "81 2021-04-26 44   大分県     大分             九州・沖縄   1151229   \n",
              "82 2021-04-25 44   大分県     大分             九州・沖縄   1151229   \n",
              "83 2021-04-24 44   大分県     大分             九州・沖縄   1151229   \n",
              "84 2021-04-19 44   大分県     大分             九州・沖縄   1151229   \n",
              "85 2021-04-18 44   大分県     大分             九州・沖縄   1151229   \n",
              "86 2021-04-17 44   大分県     大分             九州・沖縄   1151229   \n",
              "87 2021-05-05 45   宮崎県     宮崎             九州・沖縄   1095903   \n",
              "88 2021-05-04 45   宮崎県     宮崎             九州・沖縄   1095903   \n",
              "89 2021-05-03 45   宮崎県     宮崎             九州・沖縄   1095903   \n",
              "90 <NA>       NA   NA         NA               NA                NA   \n",
              "   sum_patients new_patients patients_ma7 status1 status2 status_all\n",
              "1    NA         NA                  NA      NA      NA      NA      \n",
              "2  1320         15           20.428571     925       0     925      \n",
              "3  1305          6           20.285714      NA      NA      NA      \n",
              "4  1299         26           20.000000     118       0     118      \n",
              "5   781          2            2.857143     385       0     385      \n",
              "6   779          3            3.857143      NA      NA      NA      \n",
              "7   776          2            4.428571      72       0      72      \n",
              "8  7601         21           57.571429     228       0     228      \n",
              "9  7580         28           59.428571      NA      NA      NA      \n",
              "10 7552         65           65.714286      19       0      19      \n",
              "11  542          6           12.857143     372     128     500      \n",
              "12  536         19           15.142857      NA      NA      NA      \n",
              "13  517         11           13.142857      NA      NA      NA      \n",
              "14  506         14           12.714286      NA      NA      NA      \n",
              "15  492         12           11.142857     220       0     220      \n",
              "16 3007         22           27.142857     349       0     349      \n",
              "17 2985         37           25.571429      NA      NA      NA      \n",
              "18 2948         21           22.428571      NA      NA      NA      \n",
              "19 2927         47           21.857143     174       0     174      \n",
              "20 5080         12           19.857143     133       0     133      \n",
              "21 5068         11           20.142857      NA      NA      NA      \n",
              "22 5057         30           19.571429      43       0      43      \n",
              "23 2639          0           24.571429     225     103     328      \n",
              "24 2639         21           30.142857      NA      NA      NA      \n",
              "25 2618         29           31.285714      94      62     156      \n",
              "26 2113         19           17.285714      99       0      99      \n",
              "27 2094         21           15.285714      NA      NA      NA      \n",
              "28 2073         13           14.285714      70       0      70      \n",
              "29 2060         12           14.714286      NA      NA      NA      \n",
              "30 1373         22            7.000000    3041    2122    5163      \n",
              "⋮  ⋮            ⋮            ⋮            ⋮       ⋮       ⋮         \n",
              "61 3173          2            2.285714    9196    4891    14087     \n",
              "62 1951         26           18.285714     554     258      812     \n",
              "63 1925         12           19.285714      NA      NA       NA     \n",
              "64 1913         12           21.285714      NA      NA       NA     \n",
              "65 1901         12           25.285714      15      40       55     \n",
              "66 1570         17           15.428571     372       0      372     \n",
              "67 1553         13           13.142857      NA      NA       NA     \n",
              "68 1540         37           11.714286     179       0      179     \n",
              "69  939         36           32.285714     715       0      715     \n",
              "70  903         38           30.000000      NA      NA       NA     \n",
              "71  865         44           26.857143      24       0       24     \n",
              "72 1090         13           11.428571       1       1        2     \n",
              "73 1077         10           11.571429      NA      NA       NA     \n",
              "74 1067         15           11.142857    2012       0     2012     \n",
              "75  947          1            1.428571      23       0       23     \n",
              "76  946          0            1.285714      NA      NA       NA     \n",
              "77  946          0            2.142857      17       0       17     \n",
              "78 2227         62           31.000000       1      33       34     \n",
              "79 2165         24           28.285714      NA      NA       NA     \n",
              "80 2141         33           27.714286     140       0      140     \n",
              "81 1674         33           42.142857    1047       0     1047     \n",
              "82 1641         63           37.571429      NA      NA       NA     \n",
              "83 1578         76           29.285714     224       0      224     \n",
              "84 1379          1            4.428571     983       0      983     \n",
              "85 1378          5            4.857143      NA      NA       NA     \n",
              "86 1373          6            4.428571      41       0       41     \n",
              "87 2246          0           10.000000      16      10       26     \n",
              "88 2246          0           13.000000      NA      NA       NA     \n",
              "89 2246          0           14.428571       9       5       14     \n",
              "90   NA         NA                  NA      NA      NA       NA     \n",
              "   total_status1 total_status2 total_status_all cum_vaccinations\n",
              "1      NA            NA            NA               NA          \n",
              "2    2374             0          2374             1449          \n",
              "3      NA            NA            NA               NA          \n",
              "4    1449             0          1449             1331          \n",
              "5     818             0           818              433          \n",
              "6      NA            NA            NA               NA          \n",
              "7     433             0           433              361          \n",
              "8     361             0           361              133          \n",
              "9      NA            NA            NA               NA          \n",
              "10    133             0           133              114          \n",
              "11   8637           128          8765             8265          \n",
              "12     NA            NA            NA               NA          \n",
              "13     NA            NA            NA               NA          \n",
              "14     NA            NA            NA               NA          \n",
              "15   8265             0          8265             8045          \n",
              "16   1356             0          1356             1007          \n",
              "17     NA            NA            NA               NA          \n",
              "18     NA            NA            NA               NA          \n",
              "19   1007             0          1007              833          \n",
              "20    241             0           241              108          \n",
              "21     NA            NA            NA               NA          \n",
              "22    108             0           108               65          \n",
              "23   8391           165          8556             8228          \n",
              "24     NA            NA            NA               NA          \n",
              "25   8166            62          8228             8072          \n",
              "26    169             0           169               70          \n",
              "27     NA            NA            NA               NA          \n",
              "28     70             0            70                0          \n",
              "29     NA            NA            NA               NA          \n",
              "30 226070        131031        357101           351938          \n",
              "⋮  ⋮             ⋮             ⋮                ⋮               \n",
              "61 450155        271361        721516           707429          \n",
              "62   8113           298          8411             7599          \n",
              "63     NA            NA            NA               NA          \n",
              "64     NA            NA            NA               NA          \n",
              "65   7559            40          7599             7544          \n",
              "66   1262             0          1262              890          \n",
              "67     NA            NA            NA               NA          \n",
              "68    890             0           890              711          \n",
              "69   1031             0          1031              316          \n",
              "70     NA            NA            NA               NA          \n",
              "71    316             0           316              292          \n",
              "72  16443             1         16444            16442          \n",
              "73     NA            NA            NA               NA          \n",
              "74  16442             0         16442            14430          \n",
              "75     40             0            40               17          \n",
              "76     NA            NA            NA               NA          \n",
              "77     17             0            17                0          \n",
              "78  14610            33         14643            14609          \n",
              "79     NA            NA            NA               NA          \n",
              "80  14609             0         14609            14469          \n",
              "81   7489             0          7489             6442          \n",
              "82     NA            NA            NA               NA          \n",
              "83   6442             0          6442             6218          \n",
              "84   1277             0          1277              294          \n",
              "85     NA            NA            NA               NA          \n",
              "86    294             0           294              253          \n",
              "87  10865            15         10880            10854          \n",
              "88     NA            NA            NA               NA          \n",
              "89  10849             5         10854            10840          \n",
              "90     NA            NA            NA               NA          "
            ],
            "text/latex": "A tibble: 90 × 16\n\\begin{tabular}{llllllllllllllll}\n date & code & prefecture & prefecture\\_short & block & population & sum\\_patients & new\\_patients & patients\\_ma7 & status1 & status2 & status\\_all & total\\_status1 & total\\_status2 & total\\_status\\_all & cum\\_vaccinations\\\\\n <date> & <fct> & <fct> & <fct> & <fct> & <int> & <int> & <int> & <dbl> & <dbl> & <dbl> & <dbl> & <dbl> & <dbl> & <dbl> & <dbl>\\\\\n\\hline\n\t NA & NA & NA     & NA   & NA           &      NA &   NA & NA &        NA &   NA &   NA &   NA &     NA &     NA &     NA &     NA\\\\\n\t 2021-04-19 & 02 & 青森県 & 青森 & 北海道・東北 & 1275783 & 1320 & 15 & 20.428571 &  925 &    0 &  925 &   2374 &      0 &   2374 &   1449\\\\\n\t 2021-04-18 & 02 & 青森県 & 青森 & 北海道・東北 & 1275783 & 1305 &  6 & 20.285714 &   NA &   NA &   NA &     NA &     NA &     NA &     NA\\\\\n\t 2021-04-17 & 02 & 青森県 & 青森 & 北海道・東北 & 1275783 & 1299 & 26 & 20.000000 &  118 &    0 &  118 &   1449 &      0 &   1449 &   1331\\\\\n\t 2021-04-19 & 03 & 岩手県 & 岩手 & 北海道・東北 & 1235517 &  781 &  2 &  2.857143 &  385 &    0 &  385 &    818 &      0 &    818 &    433\\\\\n\t 2021-04-18 & 03 & 岩手県 & 岩手 & 北海道・東北 & 1235517 &  779 &  3 &  3.857143 &   NA &   NA &   NA &     NA &     NA &     NA &     NA\\\\\n\t 2021-04-17 & 03 & 岩手県 & 岩手 & 北海道・東北 & 1235517 &  776 &  2 &  4.428571 &   72 &    0 &   72 &    433 &      0 &    433 &    361\\\\\n\t 2021-04-19 & 04 & 宮城県 & 宮城 & 北海道・東北 & 2292385 & 7601 & 21 & 57.571429 &  228 &    0 &  228 &    361 &      0 &    361 &    133\\\\\n\t 2021-04-18 & 04 & 宮城県 & 宮城 & 北海道・東北 & 2292385 & 7580 & 28 & 59.428571 &   NA &   NA &   NA &     NA &     NA &     NA &     NA\\\\\n\t 2021-04-17 & 04 & 宮城県 & 宮城 & 北海道・東北 & 2292385 & 7552 & 65 & 65.714286 &   19 &    0 &   19 &    133 &      0 &    133 &    114\\\\\n\t 2021-05-06 & 05 & 秋田県 & 秋田 & 北海道・東北 &  985416 &  542 &  6 & 12.857143 &  372 &  128 &  500 &   8637 &    128 &   8765 &   8265\\\\\n\t 2021-05-05 & 05 & 秋田県 & 秋田 & 北海道・東北 &  985416 &  536 & 19 & 15.142857 &   NA &   NA &   NA &     NA &     NA &     NA &     NA\\\\\n\t 2021-05-04 & 05 & 秋田県 & 秋田 & 北海道・東北 &  985416 &  517 & 11 & 13.142857 &   NA &   NA &   NA &     NA &     NA &     NA &     NA\\\\\n\t 2021-05-03 & 05 & 秋田県 & 秋田 & 北海道・東北 &  985416 &  506 & 14 & 12.714286 &   NA &   NA &   NA &     NA &     NA &     NA &     NA\\\\\n\t 2021-05-02 & 05 & 秋田県 & 秋田 & 北海道・東北 &  985416 &  492 & 12 & 11.142857 &  220 &    0 &  220 &   8265 &      0 &   8265 &   8045\\\\\n\t 2021-04-19 & 07 & 福島県 & 福島 & 北海道・東北 & 1881981 & 3007 & 22 & 27.142857 &  349 &    0 &  349 &   1356 &      0 &   1356 &   1007\\\\\n\t 2021-04-18 & 07 & 福島県 & 福島 & 北海道・東北 & 1881981 & 2985 & 37 & 25.571429 &   NA &   NA &   NA &     NA &     NA &     NA &     NA\\\\\n\t 2021-04-17 & 07 & 福島県 & 福島 & 北海道・東北 & 1881981 & 2948 & 21 & 22.428571 &   NA &   NA &   NA &     NA &     NA &     NA &     NA\\\\\n\t 2021-04-16 & 07 & 福島県 & 福島 & 北海道・東北 & 1881981 & 2927 & 47 & 21.857143 &  174 &    0 &  174 &   1007 &      0 &   1007 &    833\\\\\n\t 2021-04-19 & 09 & 栃木県 & 栃木 & 関東         & 1965516 & 5080 & 12 & 19.857143 &  133 &    0 &  133 &    241 &      0 &    241 &    108\\\\\n\t 2021-04-18 & 09 & 栃木県 & 栃木 & 関東         & 1965516 & 5068 & 11 & 20.142857 &   NA &   NA &   NA &     NA &     NA &     NA &     NA\\\\\n\t 2021-04-17 & 09 & 栃木県 & 栃木 & 関東         & 1965516 & 5057 & 30 & 19.571429 &   43 &    0 &   43 &    108 &      0 &    108 &     65\\\\\n\t 2021-05-06 & 17 & 石川県 & 石川 & 甲信越       & 1139612 & 2639 &  0 & 24.571429 &  225 &  103 &  328 &   8391 &    165 &   8556 &   8228\\\\\n\t 2021-05-05 & 17 & 石川県 & 石川 & 甲信越       & 1139612 & 2639 & 21 & 30.142857 &   NA &   NA &   NA &     NA &     NA &     NA &     NA\\\\\n\t 2021-05-04 & 17 & 石川県 & 石川 & 甲信越       & 1139612 & 2618 & 29 & 31.285714 &   94 &   62 &  156 &   8166 &     62 &   8228 &   8072\\\\\n\t 2021-04-15 & 17 & 石川県 & 石川 & 甲信越       & 1139612 & 2113 & 19 & 17.285714 &   99 &    0 &   99 &    169 &      0 &    169 &     70\\\\\n\t 2021-04-14 & 17 & 石川県 & 石川 & 甲信越       & 1139612 & 2094 & 21 & 15.285714 &   NA &   NA &   NA &     NA &     NA &     NA &     NA\\\\\n\t 2021-04-13 & 17 & 石川県 & 石川 & 甲信越       & 1139612 & 2073 & 13 & 14.285714 &   70 &    0 &   70 &     70 &      0 &     70 &      0\\\\\n\t 2021-04-12 & 17 & 石川県 & 石川 & 甲信越       & 1139612 & 2060 & 12 & 14.714286 &   NA &   NA &   NA &     NA &     NA &     NA &     NA\\\\\n\t 2021-07-10 & 18 & 福井県 & 福井 & 甲信越       &  780053 & 1373 & 22 &  7.000000 & 3041 & 2122 & 5163 & 226070 & 131031 & 357101 & 351938\\\\\n\t ⋮ & ⋮ & ⋮ & ⋮ & ⋮ & ⋮ & ⋮ & ⋮ & ⋮ & ⋮ & ⋮ & ⋮ & ⋮ & ⋮ & ⋮ & ⋮\\\\\n\t 2021-07-10 & 35 & 山口県 & 山口 & 中国       & 1369882 & 3173 &  2 &  2.285714 & 9196 & 4891 & 14087 & 450155 & 271361 & 721516 & 707429\\\\\n\t 2021-05-06 & 35 & 山口県 & 山口 & 中国       & 1369882 & 1951 & 26 & 18.285714 &  554 &  258 &   812 &   8113 &    298 &   8411 &   7599\\\\\n\t 2021-05-05 & 35 & 山口県 & 山口 & 中国       & 1369882 & 1925 & 12 & 19.285714 &   NA &   NA &    NA &     NA &     NA &     NA &     NA\\\\\n\t 2021-05-04 & 35 & 山口県 & 山口 & 中国       & 1369882 & 1913 & 12 & 21.285714 &   NA &   NA &    NA &     NA &     NA &     NA &     NA\\\\\n\t 2021-05-03 & 35 & 山口県 & 山口 & 中国       & 1369882 & 1901 & 12 & 25.285714 &   15 &   40 &    55 &   7559 &     40 &   7599 &   7544\\\\\n\t 2021-04-19 & 35 & 山口県 & 山口 & 中国       & 1369882 & 1570 & 17 & 15.428571 &  372 &    0 &   372 &   1262 &      0 &   1262 &    890\\\\\n\t 2021-04-18 & 35 & 山口県 & 山口 & 中国       & 1369882 & 1553 & 13 & 13.142857 &   NA &   NA &    NA &     NA &     NA &     NA &     NA\\\\\n\t 2021-04-17 & 35 & 山口県 & 山口 & 中国       & 1369882 & 1540 & 37 & 11.714286 &  179 &    0 &   179 &    890 &      0 &    890 &    711\\\\\n\t 2021-04-19 & 36 & 徳島県 & 徳島 & 四国       &  742505 &  939 & 36 & 32.285714 &  715 &    0 &   715 &   1031 &      0 &   1031 &    316\\\\\n\t 2021-04-18 & 36 & 徳島県 & 徳島 & 四国       &  742505 &  903 & 38 & 30.000000 &   NA &   NA &    NA &     NA &     NA &     NA &     NA\\\\\n\t 2021-04-17 & 36 & 徳島県 & 徳島 & 四国       &  742505 &  865 & 44 & 26.857143 &   24 &    0 &    24 &    316 &      0 &    316 &    292\\\\\n\t 2021-05-04 & 39 & 高知県 & 高知 & 四国       &  709230 & 1090 & 13 & 11.428571 &    1 &    1 &     2 &  16443 &      1 &  16444 &  16442\\\\\n\t 2021-05-03 & 39 & 高知県 & 高知 & 四国       &  709230 & 1077 & 10 & 11.571429 &   NA &   NA &    NA &     NA &     NA &     NA &     NA\\\\\n\t 2021-05-02 & 39 & 高知県 & 高知 & 四国       &  709230 & 1067 & 15 & 11.142857 & 2012 &    0 &  2012 &  16442 &      0 &  16442 &  14430\\\\\n\t 2021-04-14 & 39 & 高知県 & 高知 & 四国       &  709230 &  947 &  1 &  1.428571 &   23 &    0 &    23 &     40 &      0 &     40 &     17\\\\\n\t 2021-04-13 & 39 & 高知県 & 高知 & 四国       &  709230 &  946 &  0 &  1.285714 &   NA &   NA &    NA &     NA &     NA &     NA &     NA\\\\\n\t 2021-04-12 & 39 & 高知県 & 高知 & 四国       &  709230 &  946 &  0 &  2.142857 &   17 &    0 &    17 &     17 &      0 &     17 &      0\\\\\n\t 2021-05-04 & 42 & 長崎県 & 長崎 & 九州・沖縄 & 1350769 & 2227 & 62 & 31.000000 &    1 &   33 &    34 &  14610 &     33 &  14643 &  14609\\\\\n\t 2021-05-03 & 42 & 長崎県 & 長崎 & 九州・沖縄 & 1350769 & 2165 & 24 & 28.285714 &   NA &   NA &    NA &     NA &     NA &     NA &     NA\\\\\n\t 2021-05-02 & 42 & 長崎県 & 長崎 & 九州・沖縄 & 1350769 & 2141 & 33 & 27.714286 &  140 &    0 &   140 &  14609 &      0 &  14609 &  14469\\\\\n\t 2021-04-26 & 44 & 大分県 & 大分 & 九州・沖縄 & 1151229 & 1674 & 33 & 42.142857 & 1047 &    0 &  1047 &   7489 &      0 &   7489 &   6442\\\\\n\t 2021-04-25 & 44 & 大分県 & 大分 & 九州・沖縄 & 1151229 & 1641 & 63 & 37.571429 &   NA &   NA &    NA &     NA &     NA &     NA &     NA\\\\\n\t 2021-04-24 & 44 & 大分県 & 大分 & 九州・沖縄 & 1151229 & 1578 & 76 & 29.285714 &  224 &    0 &   224 &   6442 &      0 &   6442 &   6218\\\\\n\t 2021-04-19 & 44 & 大分県 & 大分 & 九州・沖縄 & 1151229 & 1379 &  1 &  4.428571 &  983 &    0 &   983 &   1277 &      0 &   1277 &    294\\\\\n\t 2021-04-18 & 44 & 大分県 & 大分 & 九州・沖縄 & 1151229 & 1378 &  5 &  4.857143 &   NA &   NA &    NA &     NA &     NA &     NA &     NA\\\\\n\t 2021-04-17 & 44 & 大分県 & 大分 & 九州・沖縄 & 1151229 & 1373 &  6 &  4.428571 &   41 &    0 &    41 &    294 &      0 &    294 &    253\\\\\n\t 2021-05-05 & 45 & 宮崎県 & 宮崎 & 九州・沖縄 & 1095903 & 2246 &  0 & 10.000000 &   16 &   10 &    26 &  10865 &     15 &  10880 &  10854\\\\\n\t 2021-05-04 & 45 & 宮崎県 & 宮崎 & 九州・沖縄 & 1095903 & 2246 &  0 & 13.000000 &   NA &   NA &    NA &     NA &     NA &     NA &     NA\\\\\n\t 2021-05-03 & 45 & 宮崎県 & 宮崎 & 九州・沖縄 & 1095903 & 2246 &  0 & 14.428571 &    9 &    5 &    14 &  10849 &      5 &  10854 &  10840\\\\\n\t NA & NA & NA     & NA   & NA         &      NA &   NA & NA &        NA &   NA &   NA &    NA &     NA &     NA &     NA &     NA\\\\\n\\end{tabular}\n",
            "text/markdown": "\nA tibble: 90 × 16\n\n| date &lt;date&gt; | code &lt;fct&gt; | prefecture &lt;fct&gt; | prefecture_short &lt;fct&gt; | block &lt;fct&gt; | population &lt;int&gt; | sum_patients &lt;int&gt; | new_patients &lt;int&gt; | patients_ma7 &lt;dbl&gt; | status1 &lt;dbl&gt; | status2 &lt;dbl&gt; | status_all &lt;dbl&gt; | total_status1 &lt;dbl&gt; | total_status2 &lt;dbl&gt; | total_status_all &lt;dbl&gt; | cum_vaccinations &lt;dbl&gt; |\n|---|---|---|---|---|---|---|---|---|---|---|---|---|---|---|---|\n| NA | NA | NA     | NA   | NA           |      NA |   NA | NA |        NA |   NA |   NA |   NA |     NA |     NA |     NA |     NA |\n| 2021-04-19 | 02 | 青森県 | 青森 | 北海道・東北 | 1275783 | 1320 | 15 | 20.428571 |  925 |    0 |  925 |   2374 |      0 |   2374 |   1449 |\n| 2021-04-18 | 02 | 青森県 | 青森 | 北海道・東北 | 1275783 | 1305 |  6 | 20.285714 |   NA |   NA |   NA |     NA |     NA |     NA |     NA |\n| 2021-04-17 | 02 | 青森県 | 青森 | 北海道・東北 | 1275783 | 1299 | 26 | 20.000000 |  118 |    0 |  118 |   1449 |      0 |   1449 |   1331 |\n| 2021-04-19 | 03 | 岩手県 | 岩手 | 北海道・東北 | 1235517 |  781 |  2 |  2.857143 |  385 |    0 |  385 |    818 |      0 |    818 |    433 |\n| 2021-04-18 | 03 | 岩手県 | 岩手 | 北海道・東北 | 1235517 |  779 |  3 |  3.857143 |   NA |   NA |   NA |     NA |     NA |     NA |     NA |\n| 2021-04-17 | 03 | 岩手県 | 岩手 | 北海道・東北 | 1235517 |  776 |  2 |  4.428571 |   72 |    0 |   72 |    433 |      0 |    433 |    361 |\n| 2021-04-19 | 04 | 宮城県 | 宮城 | 北海道・東北 | 2292385 | 7601 | 21 | 57.571429 |  228 |    0 |  228 |    361 |      0 |    361 |    133 |\n| 2021-04-18 | 04 | 宮城県 | 宮城 | 北海道・東北 | 2292385 | 7580 | 28 | 59.428571 |   NA |   NA |   NA |     NA |     NA |     NA |     NA |\n| 2021-04-17 | 04 | 宮城県 | 宮城 | 北海道・東北 | 2292385 | 7552 | 65 | 65.714286 |   19 |    0 |   19 |    133 |      0 |    133 |    114 |\n| 2021-05-06 | 05 | 秋田県 | 秋田 | 北海道・東北 |  985416 |  542 |  6 | 12.857143 |  372 |  128 |  500 |   8637 |    128 |   8765 |   8265 |\n| 2021-05-05 | 05 | 秋田県 | 秋田 | 北海道・東北 |  985416 |  536 | 19 | 15.142857 |   NA |   NA |   NA |     NA |     NA |     NA |     NA |\n| 2021-05-04 | 05 | 秋田県 | 秋田 | 北海道・東北 |  985416 |  517 | 11 | 13.142857 |   NA |   NA |   NA |     NA |     NA |     NA |     NA |\n| 2021-05-03 | 05 | 秋田県 | 秋田 | 北海道・東北 |  985416 |  506 | 14 | 12.714286 |   NA |   NA |   NA |     NA |     NA |     NA |     NA |\n| 2021-05-02 | 05 | 秋田県 | 秋田 | 北海道・東北 |  985416 |  492 | 12 | 11.142857 |  220 |    0 |  220 |   8265 |      0 |   8265 |   8045 |\n| 2021-04-19 | 07 | 福島県 | 福島 | 北海道・東北 | 1881981 | 3007 | 22 | 27.142857 |  349 |    0 |  349 |   1356 |      0 |   1356 |   1007 |\n| 2021-04-18 | 07 | 福島県 | 福島 | 北海道・東北 | 1881981 | 2985 | 37 | 25.571429 |   NA |   NA |   NA |     NA |     NA |     NA |     NA |\n| 2021-04-17 | 07 | 福島県 | 福島 | 北海道・東北 | 1881981 | 2948 | 21 | 22.428571 |   NA |   NA |   NA |     NA |     NA |     NA |     NA |\n| 2021-04-16 | 07 | 福島県 | 福島 | 北海道・東北 | 1881981 | 2927 | 47 | 21.857143 |  174 |    0 |  174 |   1007 |      0 |   1007 |    833 |\n| 2021-04-19 | 09 | 栃木県 | 栃木 | 関東         | 1965516 | 5080 | 12 | 19.857143 |  133 |    0 |  133 |    241 |      0 |    241 |    108 |\n| 2021-04-18 | 09 | 栃木県 | 栃木 | 関東         | 1965516 | 5068 | 11 | 20.142857 |   NA |   NA |   NA |     NA |     NA |     NA |     NA |\n| 2021-04-17 | 09 | 栃木県 | 栃木 | 関東         | 1965516 | 5057 | 30 | 19.571429 |   43 |    0 |   43 |    108 |      0 |    108 |     65 |\n| 2021-05-06 | 17 | 石川県 | 石川 | 甲信越       | 1139612 | 2639 |  0 | 24.571429 |  225 |  103 |  328 |   8391 |    165 |   8556 |   8228 |\n| 2021-05-05 | 17 | 石川県 | 石川 | 甲信越       | 1139612 | 2639 | 21 | 30.142857 |   NA |   NA |   NA |     NA |     NA |     NA |     NA |\n| 2021-05-04 | 17 | 石川県 | 石川 | 甲信越       | 1139612 | 2618 | 29 | 31.285714 |   94 |   62 |  156 |   8166 |     62 |   8228 |   8072 |\n| 2021-04-15 | 17 | 石川県 | 石川 | 甲信越       | 1139612 | 2113 | 19 | 17.285714 |   99 |    0 |   99 |    169 |      0 |    169 |     70 |\n| 2021-04-14 | 17 | 石川県 | 石川 | 甲信越       | 1139612 | 2094 | 21 | 15.285714 |   NA |   NA |   NA |     NA |     NA |     NA |     NA |\n| 2021-04-13 | 17 | 石川県 | 石川 | 甲信越       | 1139612 | 2073 | 13 | 14.285714 |   70 |    0 |   70 |     70 |      0 |     70 |      0 |\n| 2021-04-12 | 17 | 石川県 | 石川 | 甲信越       | 1139612 | 2060 | 12 | 14.714286 |   NA |   NA |   NA |     NA |     NA |     NA |     NA |\n| 2021-07-10 | 18 | 福井県 | 福井 | 甲信越       |  780053 | 1373 | 22 |  7.000000 | 3041 | 2122 | 5163 | 226070 | 131031 | 357101 | 351938 |\n| ⋮ | ⋮ | ⋮ | ⋮ | ⋮ | ⋮ | ⋮ | ⋮ | ⋮ | ⋮ | ⋮ | ⋮ | ⋮ | ⋮ | ⋮ | ⋮ |\n| 2021-07-10 | 35 | 山口県 | 山口 | 中国       | 1369882 | 3173 |  2 |  2.285714 | 9196 | 4891 | 14087 | 450155 | 271361 | 721516 | 707429 |\n| 2021-05-06 | 35 | 山口県 | 山口 | 中国       | 1369882 | 1951 | 26 | 18.285714 |  554 |  258 |   812 |   8113 |    298 |   8411 |   7599 |\n| 2021-05-05 | 35 | 山口県 | 山口 | 中国       | 1369882 | 1925 | 12 | 19.285714 |   NA |   NA |    NA |     NA |     NA |     NA |     NA |\n| 2021-05-04 | 35 | 山口県 | 山口 | 中国       | 1369882 | 1913 | 12 | 21.285714 |   NA |   NA |    NA |     NA |     NA |     NA |     NA |\n| 2021-05-03 | 35 | 山口県 | 山口 | 中国       | 1369882 | 1901 | 12 | 25.285714 |   15 |   40 |    55 |   7559 |     40 |   7599 |   7544 |\n| 2021-04-19 | 35 | 山口県 | 山口 | 中国       | 1369882 | 1570 | 17 | 15.428571 |  372 |    0 |   372 |   1262 |      0 |   1262 |    890 |\n| 2021-04-18 | 35 | 山口県 | 山口 | 中国       | 1369882 | 1553 | 13 | 13.142857 |   NA |   NA |    NA |     NA |     NA |     NA |     NA |\n| 2021-04-17 | 35 | 山口県 | 山口 | 中国       | 1369882 | 1540 | 37 | 11.714286 |  179 |    0 |   179 |    890 |      0 |    890 |    711 |\n| 2021-04-19 | 36 | 徳島県 | 徳島 | 四国       |  742505 |  939 | 36 | 32.285714 |  715 |    0 |   715 |   1031 |      0 |   1031 |    316 |\n| 2021-04-18 | 36 | 徳島県 | 徳島 | 四国       |  742505 |  903 | 38 | 30.000000 |   NA |   NA |    NA |     NA |     NA |     NA |     NA |\n| 2021-04-17 | 36 | 徳島県 | 徳島 | 四国       |  742505 |  865 | 44 | 26.857143 |   24 |    0 |    24 |    316 |      0 |    316 |    292 |\n| 2021-05-04 | 39 | 高知県 | 高知 | 四国       |  709230 | 1090 | 13 | 11.428571 |    1 |    1 |     2 |  16443 |      1 |  16444 |  16442 |\n| 2021-05-03 | 39 | 高知県 | 高知 | 四国       |  709230 | 1077 | 10 | 11.571429 |   NA |   NA |    NA |     NA |     NA |     NA |     NA |\n| 2021-05-02 | 39 | 高知県 | 高知 | 四国       |  709230 | 1067 | 15 | 11.142857 | 2012 |    0 |  2012 |  16442 |      0 |  16442 |  14430 |\n| 2021-04-14 | 39 | 高知県 | 高知 | 四国       |  709230 |  947 |  1 |  1.428571 |   23 |    0 |    23 |     40 |      0 |     40 |     17 |\n| 2021-04-13 | 39 | 高知県 | 高知 | 四国       |  709230 |  946 |  0 |  1.285714 |   NA |   NA |    NA |     NA |     NA |     NA |     NA |\n| 2021-04-12 | 39 | 高知県 | 高知 | 四国       |  709230 |  946 |  0 |  2.142857 |   17 |    0 |    17 |     17 |      0 |     17 |      0 |\n| 2021-05-04 | 42 | 長崎県 | 長崎 | 九州・沖縄 | 1350769 | 2227 | 62 | 31.000000 |    1 |   33 |    34 |  14610 |     33 |  14643 |  14609 |\n| 2021-05-03 | 42 | 長崎県 | 長崎 | 九州・沖縄 | 1350769 | 2165 | 24 | 28.285714 |   NA |   NA |    NA |     NA |     NA |     NA |     NA |\n| 2021-05-02 | 42 | 長崎県 | 長崎 | 九州・沖縄 | 1350769 | 2141 | 33 | 27.714286 |  140 |    0 |   140 |  14609 |      0 |  14609 |  14469 |\n| 2021-04-26 | 44 | 大分県 | 大分 | 九州・沖縄 | 1151229 | 1674 | 33 | 42.142857 | 1047 |    0 |  1047 |   7489 |      0 |   7489 |   6442 |\n| 2021-04-25 | 44 | 大分県 | 大分 | 九州・沖縄 | 1151229 | 1641 | 63 | 37.571429 |   NA |   NA |    NA |     NA |     NA |     NA |     NA |\n| 2021-04-24 | 44 | 大分県 | 大分 | 九州・沖縄 | 1151229 | 1578 | 76 | 29.285714 |  224 |    0 |   224 |   6442 |      0 |   6442 |   6218 |\n| 2021-04-19 | 44 | 大分県 | 大分 | 九州・沖縄 | 1151229 | 1379 |  1 |  4.428571 |  983 |    0 |   983 |   1277 |      0 |   1277 |    294 |\n| 2021-04-18 | 44 | 大分県 | 大分 | 九州・沖縄 | 1151229 | 1378 |  5 |  4.857143 |   NA |   NA |    NA |     NA |     NA |     NA |     NA |\n| 2021-04-17 | 44 | 大分県 | 大分 | 九州・沖縄 | 1151229 | 1373 |  6 |  4.428571 |   41 |    0 |    41 |    294 |      0 |    294 |    253 |\n| 2021-05-05 | 45 | 宮崎県 | 宮崎 | 九州・沖縄 | 1095903 | 2246 |  0 | 10.000000 |   16 |   10 |    26 |  10865 |     15 |  10880 |  10854 |\n| 2021-05-04 | 45 | 宮崎県 | 宮崎 | 九州・沖縄 | 1095903 | 2246 |  0 | 13.000000 |   NA |   NA |    NA |     NA |     NA |     NA |     NA |\n| 2021-05-03 | 45 | 宮崎県 | 宮崎 | 九州・沖縄 | 1095903 | 2246 |  0 | 14.428571 |    9 |    5 |    14 |  10849 |      5 |  10854 |  10840 |\n| NA | NA | NA     | NA   | NA         |      NA |   NA | NA |        NA |   NA |   NA |    NA |     NA |     NA |     NA |     NA |\n\n",
            "text/html": [
              "<table class=\"dataframe\">\n",
              "<caption>A tibble: 90 × 16</caption>\n",
              "<thead>\n",
              "\t<tr><th scope=col>date</th><th scope=col>code</th><th scope=col>prefecture</th><th scope=col>prefecture_short</th><th scope=col>block</th><th scope=col>population</th><th scope=col>sum_patients</th><th scope=col>new_patients</th><th scope=col>patients_ma7</th><th scope=col>status1</th><th scope=col>status2</th><th scope=col>status_all</th><th scope=col>total_status1</th><th scope=col>total_status2</th><th scope=col>total_status_all</th><th scope=col>cum_vaccinations</th></tr>\n",
              "\t<tr><th scope=col>&lt;date&gt;</th><th scope=col>&lt;fct&gt;</th><th scope=col>&lt;fct&gt;</th><th scope=col>&lt;fct&gt;</th><th scope=col>&lt;fct&gt;</th><th scope=col>&lt;int&gt;</th><th scope=col>&lt;int&gt;</th><th scope=col>&lt;int&gt;</th><th scope=col>&lt;dbl&gt;</th><th scope=col>&lt;dbl&gt;</th><th scope=col>&lt;dbl&gt;</th><th scope=col>&lt;dbl&gt;</th><th scope=col>&lt;dbl&gt;</th><th scope=col>&lt;dbl&gt;</th><th scope=col>&lt;dbl&gt;</th><th scope=col>&lt;dbl&gt;</th></tr>\n",
              "</thead>\n",
              "<tbody>\n",
              "\t<tr><td>NA</td><td>NA</td><td>NA    </td><td>NA  </td><td>NA          </td><td>     NA</td><td>  NA</td><td>NA</td><td>       NA</td><td>  NA</td><td>  NA</td><td>  NA</td><td>    NA</td><td>    NA</td><td>    NA</td><td>    NA</td></tr>\n",
              "\t<tr><td>2021-04-19</td><td>02</td><td>青森県</td><td>青森</td><td>北海道・東北</td><td>1275783</td><td>1320</td><td>15</td><td>20.428571</td><td> 925</td><td>   0</td><td> 925</td><td>  2374</td><td>     0</td><td>  2374</td><td>  1449</td></tr>\n",
              "\t<tr><td>2021-04-18</td><td>02</td><td>青森県</td><td>青森</td><td>北海道・東北</td><td>1275783</td><td>1305</td><td> 6</td><td>20.285714</td><td>  NA</td><td>  NA</td><td>  NA</td><td>    NA</td><td>    NA</td><td>    NA</td><td>    NA</td></tr>\n",
              "\t<tr><td>2021-04-17</td><td>02</td><td>青森県</td><td>青森</td><td>北海道・東北</td><td>1275783</td><td>1299</td><td>26</td><td>20.000000</td><td> 118</td><td>   0</td><td> 118</td><td>  1449</td><td>     0</td><td>  1449</td><td>  1331</td></tr>\n",
              "\t<tr><td>2021-04-19</td><td>03</td><td>岩手県</td><td>岩手</td><td>北海道・東北</td><td>1235517</td><td> 781</td><td> 2</td><td> 2.857143</td><td> 385</td><td>   0</td><td> 385</td><td>   818</td><td>     0</td><td>   818</td><td>   433</td></tr>\n",
              "\t<tr><td>2021-04-18</td><td>03</td><td>岩手県</td><td>岩手</td><td>北海道・東北</td><td>1235517</td><td> 779</td><td> 3</td><td> 3.857143</td><td>  NA</td><td>  NA</td><td>  NA</td><td>    NA</td><td>    NA</td><td>    NA</td><td>    NA</td></tr>\n",
              "\t<tr><td>2021-04-17</td><td>03</td><td>岩手県</td><td>岩手</td><td>北海道・東北</td><td>1235517</td><td> 776</td><td> 2</td><td> 4.428571</td><td>  72</td><td>   0</td><td>  72</td><td>   433</td><td>     0</td><td>   433</td><td>   361</td></tr>\n",
              "\t<tr><td>2021-04-19</td><td>04</td><td>宮城県</td><td>宮城</td><td>北海道・東北</td><td>2292385</td><td>7601</td><td>21</td><td>57.571429</td><td> 228</td><td>   0</td><td> 228</td><td>   361</td><td>     0</td><td>   361</td><td>   133</td></tr>\n",
              "\t<tr><td>2021-04-18</td><td>04</td><td>宮城県</td><td>宮城</td><td>北海道・東北</td><td>2292385</td><td>7580</td><td>28</td><td>59.428571</td><td>  NA</td><td>  NA</td><td>  NA</td><td>    NA</td><td>    NA</td><td>    NA</td><td>    NA</td></tr>\n",
              "\t<tr><td>2021-04-17</td><td>04</td><td>宮城県</td><td>宮城</td><td>北海道・東北</td><td>2292385</td><td>7552</td><td>65</td><td>65.714286</td><td>  19</td><td>   0</td><td>  19</td><td>   133</td><td>     0</td><td>   133</td><td>   114</td></tr>\n",
              "\t<tr><td>2021-05-06</td><td>05</td><td>秋田県</td><td>秋田</td><td>北海道・東北</td><td> 985416</td><td> 542</td><td> 6</td><td>12.857143</td><td> 372</td><td> 128</td><td> 500</td><td>  8637</td><td>   128</td><td>  8765</td><td>  8265</td></tr>\n",
              "\t<tr><td>2021-05-05</td><td>05</td><td>秋田県</td><td>秋田</td><td>北海道・東北</td><td> 985416</td><td> 536</td><td>19</td><td>15.142857</td><td>  NA</td><td>  NA</td><td>  NA</td><td>    NA</td><td>    NA</td><td>    NA</td><td>    NA</td></tr>\n",
              "\t<tr><td>2021-05-04</td><td>05</td><td>秋田県</td><td>秋田</td><td>北海道・東北</td><td> 985416</td><td> 517</td><td>11</td><td>13.142857</td><td>  NA</td><td>  NA</td><td>  NA</td><td>    NA</td><td>    NA</td><td>    NA</td><td>    NA</td></tr>\n",
              "\t<tr><td>2021-05-03</td><td>05</td><td>秋田県</td><td>秋田</td><td>北海道・東北</td><td> 985416</td><td> 506</td><td>14</td><td>12.714286</td><td>  NA</td><td>  NA</td><td>  NA</td><td>    NA</td><td>    NA</td><td>    NA</td><td>    NA</td></tr>\n",
              "\t<tr><td>2021-05-02</td><td>05</td><td>秋田県</td><td>秋田</td><td>北海道・東北</td><td> 985416</td><td> 492</td><td>12</td><td>11.142857</td><td> 220</td><td>   0</td><td> 220</td><td>  8265</td><td>     0</td><td>  8265</td><td>  8045</td></tr>\n",
              "\t<tr><td>2021-04-19</td><td>07</td><td>福島県</td><td>福島</td><td>北海道・東北</td><td>1881981</td><td>3007</td><td>22</td><td>27.142857</td><td> 349</td><td>   0</td><td> 349</td><td>  1356</td><td>     0</td><td>  1356</td><td>  1007</td></tr>\n",
              "\t<tr><td>2021-04-18</td><td>07</td><td>福島県</td><td>福島</td><td>北海道・東北</td><td>1881981</td><td>2985</td><td>37</td><td>25.571429</td><td>  NA</td><td>  NA</td><td>  NA</td><td>    NA</td><td>    NA</td><td>    NA</td><td>    NA</td></tr>\n",
              "\t<tr><td>2021-04-17</td><td>07</td><td>福島県</td><td>福島</td><td>北海道・東北</td><td>1881981</td><td>2948</td><td>21</td><td>22.428571</td><td>  NA</td><td>  NA</td><td>  NA</td><td>    NA</td><td>    NA</td><td>    NA</td><td>    NA</td></tr>\n",
              "\t<tr><td>2021-04-16</td><td>07</td><td>福島県</td><td>福島</td><td>北海道・東北</td><td>1881981</td><td>2927</td><td>47</td><td>21.857143</td><td> 174</td><td>   0</td><td> 174</td><td>  1007</td><td>     0</td><td>  1007</td><td>   833</td></tr>\n",
              "\t<tr><td>2021-04-19</td><td>09</td><td>栃木県</td><td>栃木</td><td>関東        </td><td>1965516</td><td>5080</td><td>12</td><td>19.857143</td><td> 133</td><td>   0</td><td> 133</td><td>   241</td><td>     0</td><td>   241</td><td>   108</td></tr>\n",
              "\t<tr><td>2021-04-18</td><td>09</td><td>栃木県</td><td>栃木</td><td>関東        </td><td>1965516</td><td>5068</td><td>11</td><td>20.142857</td><td>  NA</td><td>  NA</td><td>  NA</td><td>    NA</td><td>    NA</td><td>    NA</td><td>    NA</td></tr>\n",
              "\t<tr><td>2021-04-17</td><td>09</td><td>栃木県</td><td>栃木</td><td>関東        </td><td>1965516</td><td>5057</td><td>30</td><td>19.571429</td><td>  43</td><td>   0</td><td>  43</td><td>   108</td><td>     0</td><td>   108</td><td>    65</td></tr>\n",
              "\t<tr><td>2021-05-06</td><td>17</td><td>石川県</td><td>石川</td><td>甲信越      </td><td>1139612</td><td>2639</td><td> 0</td><td>24.571429</td><td> 225</td><td> 103</td><td> 328</td><td>  8391</td><td>   165</td><td>  8556</td><td>  8228</td></tr>\n",
              "\t<tr><td>2021-05-05</td><td>17</td><td>石川県</td><td>石川</td><td>甲信越      </td><td>1139612</td><td>2639</td><td>21</td><td>30.142857</td><td>  NA</td><td>  NA</td><td>  NA</td><td>    NA</td><td>    NA</td><td>    NA</td><td>    NA</td></tr>\n",
              "\t<tr><td>2021-05-04</td><td>17</td><td>石川県</td><td>石川</td><td>甲信越      </td><td>1139612</td><td>2618</td><td>29</td><td>31.285714</td><td>  94</td><td>  62</td><td> 156</td><td>  8166</td><td>    62</td><td>  8228</td><td>  8072</td></tr>\n",
              "\t<tr><td>2021-04-15</td><td>17</td><td>石川県</td><td>石川</td><td>甲信越      </td><td>1139612</td><td>2113</td><td>19</td><td>17.285714</td><td>  99</td><td>   0</td><td>  99</td><td>   169</td><td>     0</td><td>   169</td><td>    70</td></tr>\n",
              "\t<tr><td>2021-04-14</td><td>17</td><td>石川県</td><td>石川</td><td>甲信越      </td><td>1139612</td><td>2094</td><td>21</td><td>15.285714</td><td>  NA</td><td>  NA</td><td>  NA</td><td>    NA</td><td>    NA</td><td>    NA</td><td>    NA</td></tr>\n",
              "\t<tr><td>2021-04-13</td><td>17</td><td>石川県</td><td>石川</td><td>甲信越      </td><td>1139612</td><td>2073</td><td>13</td><td>14.285714</td><td>  70</td><td>   0</td><td>  70</td><td>    70</td><td>     0</td><td>    70</td><td>     0</td></tr>\n",
              "\t<tr><td>2021-04-12</td><td>17</td><td>石川県</td><td>石川</td><td>甲信越      </td><td>1139612</td><td>2060</td><td>12</td><td>14.714286</td><td>  NA</td><td>  NA</td><td>  NA</td><td>    NA</td><td>    NA</td><td>    NA</td><td>    NA</td></tr>\n",
              "\t<tr><td>2021-07-10</td><td>18</td><td>福井県</td><td>福井</td><td>甲信越      </td><td> 780053</td><td>1373</td><td>22</td><td> 7.000000</td><td>3041</td><td>2122</td><td>5163</td><td>226070</td><td>131031</td><td>357101</td><td>351938</td></tr>\n",
              "\t<tr><td>⋮</td><td>⋮</td><td>⋮</td><td>⋮</td><td>⋮</td><td>⋮</td><td>⋮</td><td>⋮</td><td>⋮</td><td>⋮</td><td>⋮</td><td>⋮</td><td>⋮</td><td>⋮</td><td>⋮</td><td>⋮</td></tr>\n",
              "\t<tr><td>2021-07-10</td><td>35</td><td>山口県</td><td>山口</td><td>中国      </td><td>1369882</td><td>3173</td><td> 2</td><td> 2.285714</td><td>9196</td><td>4891</td><td>14087</td><td>450155</td><td>271361</td><td>721516</td><td>707429</td></tr>\n",
              "\t<tr><td>2021-05-06</td><td>35</td><td>山口県</td><td>山口</td><td>中国      </td><td>1369882</td><td>1951</td><td>26</td><td>18.285714</td><td> 554</td><td> 258</td><td>  812</td><td>  8113</td><td>   298</td><td>  8411</td><td>  7599</td></tr>\n",
              "\t<tr><td>2021-05-05</td><td>35</td><td>山口県</td><td>山口</td><td>中国      </td><td>1369882</td><td>1925</td><td>12</td><td>19.285714</td><td>  NA</td><td>  NA</td><td>   NA</td><td>    NA</td><td>    NA</td><td>    NA</td><td>    NA</td></tr>\n",
              "\t<tr><td>2021-05-04</td><td>35</td><td>山口県</td><td>山口</td><td>中国      </td><td>1369882</td><td>1913</td><td>12</td><td>21.285714</td><td>  NA</td><td>  NA</td><td>   NA</td><td>    NA</td><td>    NA</td><td>    NA</td><td>    NA</td></tr>\n",
              "\t<tr><td>2021-05-03</td><td>35</td><td>山口県</td><td>山口</td><td>中国      </td><td>1369882</td><td>1901</td><td>12</td><td>25.285714</td><td>  15</td><td>  40</td><td>   55</td><td>  7559</td><td>    40</td><td>  7599</td><td>  7544</td></tr>\n",
              "\t<tr><td>2021-04-19</td><td>35</td><td>山口県</td><td>山口</td><td>中国      </td><td>1369882</td><td>1570</td><td>17</td><td>15.428571</td><td> 372</td><td>   0</td><td>  372</td><td>  1262</td><td>     0</td><td>  1262</td><td>   890</td></tr>\n",
              "\t<tr><td>2021-04-18</td><td>35</td><td>山口県</td><td>山口</td><td>中国      </td><td>1369882</td><td>1553</td><td>13</td><td>13.142857</td><td>  NA</td><td>  NA</td><td>   NA</td><td>    NA</td><td>    NA</td><td>    NA</td><td>    NA</td></tr>\n",
              "\t<tr><td>2021-04-17</td><td>35</td><td>山口県</td><td>山口</td><td>中国      </td><td>1369882</td><td>1540</td><td>37</td><td>11.714286</td><td> 179</td><td>   0</td><td>  179</td><td>   890</td><td>     0</td><td>   890</td><td>   711</td></tr>\n",
              "\t<tr><td>2021-04-19</td><td>36</td><td>徳島県</td><td>徳島</td><td>四国      </td><td> 742505</td><td> 939</td><td>36</td><td>32.285714</td><td> 715</td><td>   0</td><td>  715</td><td>  1031</td><td>     0</td><td>  1031</td><td>   316</td></tr>\n",
              "\t<tr><td>2021-04-18</td><td>36</td><td>徳島県</td><td>徳島</td><td>四国      </td><td> 742505</td><td> 903</td><td>38</td><td>30.000000</td><td>  NA</td><td>  NA</td><td>   NA</td><td>    NA</td><td>    NA</td><td>    NA</td><td>    NA</td></tr>\n",
              "\t<tr><td>2021-04-17</td><td>36</td><td>徳島県</td><td>徳島</td><td>四国      </td><td> 742505</td><td> 865</td><td>44</td><td>26.857143</td><td>  24</td><td>   0</td><td>   24</td><td>   316</td><td>     0</td><td>   316</td><td>   292</td></tr>\n",
              "\t<tr><td>2021-05-04</td><td>39</td><td>高知県</td><td>高知</td><td>四国      </td><td> 709230</td><td>1090</td><td>13</td><td>11.428571</td><td>   1</td><td>   1</td><td>    2</td><td> 16443</td><td>     1</td><td> 16444</td><td> 16442</td></tr>\n",
              "\t<tr><td>2021-05-03</td><td>39</td><td>高知県</td><td>高知</td><td>四国      </td><td> 709230</td><td>1077</td><td>10</td><td>11.571429</td><td>  NA</td><td>  NA</td><td>   NA</td><td>    NA</td><td>    NA</td><td>    NA</td><td>    NA</td></tr>\n",
              "\t<tr><td>2021-05-02</td><td>39</td><td>高知県</td><td>高知</td><td>四国      </td><td> 709230</td><td>1067</td><td>15</td><td>11.142857</td><td>2012</td><td>   0</td><td> 2012</td><td> 16442</td><td>     0</td><td> 16442</td><td> 14430</td></tr>\n",
              "\t<tr><td>2021-04-14</td><td>39</td><td>高知県</td><td>高知</td><td>四国      </td><td> 709230</td><td> 947</td><td> 1</td><td> 1.428571</td><td>  23</td><td>   0</td><td>   23</td><td>    40</td><td>     0</td><td>    40</td><td>    17</td></tr>\n",
              "\t<tr><td>2021-04-13</td><td>39</td><td>高知県</td><td>高知</td><td>四国      </td><td> 709230</td><td> 946</td><td> 0</td><td> 1.285714</td><td>  NA</td><td>  NA</td><td>   NA</td><td>    NA</td><td>    NA</td><td>    NA</td><td>    NA</td></tr>\n",
              "\t<tr><td>2021-04-12</td><td>39</td><td>高知県</td><td>高知</td><td>四国      </td><td> 709230</td><td> 946</td><td> 0</td><td> 2.142857</td><td>  17</td><td>   0</td><td>   17</td><td>    17</td><td>     0</td><td>    17</td><td>     0</td></tr>\n",
              "\t<tr><td>2021-05-04</td><td>42</td><td>長崎県</td><td>長崎</td><td>九州・沖縄</td><td>1350769</td><td>2227</td><td>62</td><td>31.000000</td><td>   1</td><td>  33</td><td>   34</td><td> 14610</td><td>    33</td><td> 14643</td><td> 14609</td></tr>\n",
              "\t<tr><td>2021-05-03</td><td>42</td><td>長崎県</td><td>長崎</td><td>九州・沖縄</td><td>1350769</td><td>2165</td><td>24</td><td>28.285714</td><td>  NA</td><td>  NA</td><td>   NA</td><td>    NA</td><td>    NA</td><td>    NA</td><td>    NA</td></tr>\n",
              "\t<tr><td>2021-05-02</td><td>42</td><td>長崎県</td><td>長崎</td><td>九州・沖縄</td><td>1350769</td><td>2141</td><td>33</td><td>27.714286</td><td> 140</td><td>   0</td><td>  140</td><td> 14609</td><td>     0</td><td> 14609</td><td> 14469</td></tr>\n",
              "\t<tr><td>2021-04-26</td><td>44</td><td>大分県</td><td>大分</td><td>九州・沖縄</td><td>1151229</td><td>1674</td><td>33</td><td>42.142857</td><td>1047</td><td>   0</td><td> 1047</td><td>  7489</td><td>     0</td><td>  7489</td><td>  6442</td></tr>\n",
              "\t<tr><td>2021-04-25</td><td>44</td><td>大分県</td><td>大分</td><td>九州・沖縄</td><td>1151229</td><td>1641</td><td>63</td><td>37.571429</td><td>  NA</td><td>  NA</td><td>   NA</td><td>    NA</td><td>    NA</td><td>    NA</td><td>    NA</td></tr>\n",
              "\t<tr><td>2021-04-24</td><td>44</td><td>大分県</td><td>大分</td><td>九州・沖縄</td><td>1151229</td><td>1578</td><td>76</td><td>29.285714</td><td> 224</td><td>   0</td><td>  224</td><td>  6442</td><td>     0</td><td>  6442</td><td>  6218</td></tr>\n",
              "\t<tr><td>2021-04-19</td><td>44</td><td>大分県</td><td>大分</td><td>九州・沖縄</td><td>1151229</td><td>1379</td><td> 1</td><td> 4.428571</td><td> 983</td><td>   0</td><td>  983</td><td>  1277</td><td>     0</td><td>  1277</td><td>   294</td></tr>\n",
              "\t<tr><td>2021-04-18</td><td>44</td><td>大分県</td><td>大分</td><td>九州・沖縄</td><td>1151229</td><td>1378</td><td> 5</td><td> 4.857143</td><td>  NA</td><td>  NA</td><td>   NA</td><td>    NA</td><td>    NA</td><td>    NA</td><td>    NA</td></tr>\n",
              "\t<tr><td>2021-04-17</td><td>44</td><td>大分県</td><td>大分</td><td>九州・沖縄</td><td>1151229</td><td>1373</td><td> 6</td><td> 4.428571</td><td>  41</td><td>   0</td><td>   41</td><td>   294</td><td>     0</td><td>   294</td><td>   253</td></tr>\n",
              "\t<tr><td>2021-05-05</td><td>45</td><td>宮崎県</td><td>宮崎</td><td>九州・沖縄</td><td>1095903</td><td>2246</td><td> 0</td><td>10.000000</td><td>  16</td><td>  10</td><td>   26</td><td> 10865</td><td>    15</td><td> 10880</td><td> 10854</td></tr>\n",
              "\t<tr><td>2021-05-04</td><td>45</td><td>宮崎県</td><td>宮崎</td><td>九州・沖縄</td><td>1095903</td><td>2246</td><td> 0</td><td>13.000000</td><td>  NA</td><td>  NA</td><td>   NA</td><td>    NA</td><td>    NA</td><td>    NA</td><td>    NA</td></tr>\n",
              "\t<tr><td>2021-05-03</td><td>45</td><td>宮崎県</td><td>宮崎</td><td>九州・沖縄</td><td>1095903</td><td>2246</td><td> 0</td><td>14.428571</td><td>   9</td><td>   5</td><td>   14</td><td> 10849</td><td>     5</td><td> 10854</td><td> 10840</td></tr>\n",
              "\t<tr><td>NA</td><td>NA</td><td>NA    </td><td>NA  </td><td>NA        </td><td>     NA</td><td>  NA</td><td>NA</td><td>       NA</td><td>  NA</td><td>  NA</td><td>   NA</td><td>    NA</td><td>    NA</td><td>    NA</td><td>    NA</td></tr>\n",
              "</tbody>\n",
              "</table>\n"
            ]
          },
          "metadata": {
            "tags": []
          }
        },
        {
          "output_type": "display_data",
          "data": {
            "text/plain": [
              "   prefecture date       code prefecture_short block        population\n",
              "1  NA         <NA>       NA   NA               NA                NA   \n",
              "2  青森県     2021-04-19 02   青森             北海道・東北 1275783   \n",
              "3  青森県     2021-04-18 02   青森             北海道・東北 1275783   \n",
              "4  青森県     2021-04-17 02   青森             北海道・東北 1275783   \n",
              "5  岩手県     2021-04-19 03   岩手             北海道・東北 1235517   \n",
              "6  岩手県     2021-04-18 03   岩手             北海道・東北 1235517   \n",
              "7  岩手県     2021-04-17 03   岩手             北海道・東北 1235517   \n",
              "8  宮城県     2021-04-19 04   宮城             北海道・東北 2292385   \n",
              "9  宮城県     2021-04-18 04   宮城             北海道・東北 2292385   \n",
              "10 宮城県     2021-04-17 04   宮城             北海道・東北 2292385   \n",
              "11 秋田県     2021-05-06 05   秋田             北海道・東北  985416   \n",
              "12 秋田県     2021-05-05 05   秋田             北海道・東北  985416   \n",
              "13 秋田県     2021-05-04 05   秋田             北海道・東北  985416   \n",
              "14 秋田県     2021-05-03 05   秋田             北海道・東北  985416   \n",
              "15 秋田県     2021-05-02 05   秋田             北海道・東北  985416   \n",
              "16 福島県     2021-04-19 07   福島             北海道・東北 1881981   \n",
              "17 福島県     2021-04-18 07   福島             北海道・東北 1881981   \n",
              "18 福島県     2021-04-17 07   福島             北海道・東北 1881981   \n",
              "19 福島県     2021-04-16 07   福島             北海道・東北 1881981   \n",
              "20 栃木県     2021-04-19 09   栃木             関東         1965516   \n",
              "21 栃木県     2021-04-18 09   栃木             関東         1965516   \n",
              "22 栃木県     2021-04-17 09   栃木             関東         1965516   \n",
              "23 石川県     2021-05-06 17   石川             甲信越       1139612   \n",
              "24 石川県     2021-05-05 17   石川             甲信越       1139612   \n",
              "25 石川県     2021-05-04 17   石川             甲信越       1139612   \n",
              "26 石川県     2021-04-15 17   石川             甲信越       1139612   \n",
              "27 石川県     2021-04-14 17   石川             甲信越       1139612   \n",
              "28 石川県     2021-04-13 17   石川             甲信越       1139612   \n",
              "29 石川県     2021-04-12 17   石川             甲信越       1139612   \n",
              "30 福井県     2021-07-10 18   福井             甲信越        780053   \n",
              "⋮  ⋮          ⋮          ⋮    ⋮                ⋮            ⋮         \n",
              "61 山口県     2021-07-10 35   山口             中国         1369882   \n",
              "62 山口県     2021-05-06 35   山口             中国         1369882   \n",
              "63 山口県     2021-05-05 35   山口             中国         1369882   \n",
              "64 山口県     2021-05-04 35   山口             中国         1369882   \n",
              "65 山口県     2021-05-03 35   山口             中国         1369882   \n",
              "66 山口県     2021-04-19 35   山口             中国         1369882   \n",
              "67 山口県     2021-04-18 35   山口             中国         1369882   \n",
              "68 山口県     2021-04-17 35   山口             中国         1369882   \n",
              "69 徳島県     2021-04-19 36   徳島             四国          742505   \n",
              "70 徳島県     2021-04-18 36   徳島             四国          742505   \n",
              "71 徳島県     2021-04-17 36   徳島             四国          742505   \n",
              "72 高知県     2021-05-04 39   高知             四国          709230   \n",
              "73 高知県     2021-05-03 39   高知             四国          709230   \n",
              "74 高知県     2021-05-02 39   高知             四国          709230   \n",
              "75 高知県     2021-04-14 39   高知             四国          709230   \n",
              "76 高知県     2021-04-13 39   高知             四国          709230   \n",
              "77 高知県     2021-04-12 39   高知             四国          709230   \n",
              "78 長崎県     2021-05-04 42   長崎             九州・沖縄   1350769   \n",
              "79 長崎県     2021-05-03 42   長崎             九州・沖縄   1350769   \n",
              "80 長崎県     2021-05-02 42   長崎             九州・沖縄   1350769   \n",
              "81 大分県     2021-04-26 44   大分             九州・沖縄   1151229   \n",
              "82 大分県     2021-04-25 44   大分             九州・沖縄   1151229   \n",
              "83 大分県     2021-04-24 44   大分             九州・沖縄   1151229   \n",
              "84 大分県     2021-04-19 44   大分             九州・沖縄   1151229   \n",
              "85 大分県     2021-04-18 44   大分             九州・沖縄   1151229   \n",
              "86 大分県     2021-04-17 44   大分             九州・沖縄   1151229   \n",
              "87 宮崎県     2021-05-05 45   宮崎             九州・沖縄   1095903   \n",
              "88 宮崎県     2021-05-04 45   宮崎             九州・沖縄   1095903   \n",
              "89 宮崎県     2021-05-03 45   宮崎             九州・沖縄   1095903   \n",
              "90 NA         <NA>       NA   NA               NA                NA   \n",
              "   sum_patients new_patients patients_ma7 status1 status2 status_all\n",
              "1    NA         NA                  NA      NA      NA      NA      \n",
              "2  1320         15           20.428571     925       0     925      \n",
              "3  1305          6           20.285714     925       0     925      \n",
              "4  1299         26           20.000000     118       0     118      \n",
              "5   781          2            2.857143     385       0     385      \n",
              "6   779          3            3.857143     385       0     385      \n",
              "7   776          2            4.428571      72       0      72      \n",
              "8  7601         21           57.571429     228       0     228      \n",
              "9  7580         28           59.428571     228       0     228      \n",
              "10 7552         65           65.714286      19       0      19      \n",
              "11  542          6           12.857143     372     128     500      \n",
              "12  536         19           15.142857     372     128     500      \n",
              "13  517         11           13.142857     372     128     500      \n",
              "14  506         14           12.714286     372     128     500      \n",
              "15  492         12           11.142857     220       0     220      \n",
              "16 3007         22           27.142857     349       0     349      \n",
              "17 2985         37           25.571429     349       0     349      \n",
              "18 2948         21           22.428571     349       0     349      \n",
              "19 2927         47           21.857143     174       0     174      \n",
              "20 5080         12           19.857143     133       0     133      \n",
              "21 5068         11           20.142857     133       0     133      \n",
              "22 5057         30           19.571429      43       0      43      \n",
              "23 2639          0           24.571429     225     103     328      \n",
              "24 2639         21           30.142857     225     103     328      \n",
              "25 2618         29           31.285714      94      62     156      \n",
              "26 2113         19           17.285714      99       0      99      \n",
              "27 2094         21           15.285714      99       0      99      \n",
              "28 2073         13           14.285714      70       0      70      \n",
              "29 2060         12           14.714286      70       0      70      \n",
              "30 1373         22            7.000000    3041    2122    5163      \n",
              "⋮  ⋮            ⋮            ⋮            ⋮       ⋮       ⋮         \n",
              "61 3173          2            2.285714    9196    4891    14087     \n",
              "62 1951         26           18.285714     554     258      812     \n",
              "63 1925         12           19.285714     554     258      812     \n",
              "64 1913         12           21.285714     554     258      812     \n",
              "65 1901         12           25.285714      15      40       55     \n",
              "66 1570         17           15.428571     372       0      372     \n",
              "67 1553         13           13.142857     372       0      372     \n",
              "68 1540         37           11.714286     179       0      179     \n",
              "69  939         36           32.285714     715       0      715     \n",
              "70  903         38           30.000000     715       0      715     \n",
              "71  865         44           26.857143      24       0       24     \n",
              "72 1090         13           11.428571       1       1        2     \n",
              "73 1077         10           11.571429       1       1        2     \n",
              "74 1067         15           11.142857    2012       0     2012     \n",
              "75  947          1            1.428571      23       0       23     \n",
              "76  946          0            1.285714      23       0       23     \n",
              "77  946          0            2.142857      17       0       17     \n",
              "78 2227         62           31.000000       1      33       34     \n",
              "79 2165         24           28.285714       1      33       34     \n",
              "80 2141         33           27.714286     140       0      140     \n",
              "81 1674         33           42.142857    1047       0     1047     \n",
              "82 1641         63           37.571429    1047       0     1047     \n",
              "83 1578         76           29.285714     224       0      224     \n",
              "84 1379          1            4.428571     983       0      983     \n",
              "85 1378          5            4.857143     983       0      983     \n",
              "86 1373          6            4.428571      41       0       41     \n",
              "87 2246          0           10.000000      16      10       26     \n",
              "88 2246          0           13.000000      16      10       26     \n",
              "89 2246          0           14.428571       9       5       14     \n",
              "90   NA         NA                  NA      NA      NA       NA     \n",
              "   total_status1 total_status2 total_status_all cum_vaccinations\n",
              "1      NA            NA            NA               NA          \n",
              "2    2374             0          2374             1449          \n",
              "3       0             0             0             1449          \n",
              "4    1449             0          1449             1331          \n",
              "5     818             0           818              433          \n",
              "6       0             0             0              433          \n",
              "7     433             0           433              361          \n",
              "8     361             0           361              133          \n",
              "9       0             0             0              133          \n",
              "10    133             0           133              114          \n",
              "11   8637           128          8765             8265          \n",
              "12      0             0             0             8265          \n",
              "13      0             0             0             8265          \n",
              "14      0             0             0             8265          \n",
              "15   8265             0          8265             8045          \n",
              "16   1356             0          1356             1007          \n",
              "17      0             0             0             1007          \n",
              "18      0             0             0             1007          \n",
              "19   1007             0          1007              833          \n",
              "20    241             0           241              108          \n",
              "21      0             0             0              108          \n",
              "22    108             0           108               65          \n",
              "23   8391           165          8556             8228          \n",
              "24      0             0             0             8228          \n",
              "25   8166            62          8228             8072          \n",
              "26    169             0           169               70          \n",
              "27      0             0             0               70          \n",
              "28     70             0            70                0          \n",
              "29      0             0             0                0          \n",
              "30 226070        131031        357101           351938          \n",
              "⋮  ⋮             ⋮             ⋮                ⋮               \n",
              "61 450155        271361        721516           707429          \n",
              "62   8113           298          8411             7599          \n",
              "63      0             0             0             7599          \n",
              "64      0             0             0             7599          \n",
              "65   7559            40          7599             7544          \n",
              "66   1262             0          1262              890          \n",
              "67      0             0             0              890          \n",
              "68    890             0           890              711          \n",
              "69   1031             0          1031              316          \n",
              "70      0             0             0              316          \n",
              "71    316             0           316              292          \n",
              "72  16443             1         16444            16442          \n",
              "73      0             0             0            16442          \n",
              "74  16442             0         16442            14430          \n",
              "75     40             0            40               17          \n",
              "76      0             0             0               17          \n",
              "77     17             0            17                0          \n",
              "78  14610            33         14643            14609          \n",
              "79      0             0             0            14609          \n",
              "80  14609             0         14609            14469          \n",
              "81   7489             0          7489             6442          \n",
              "82      0             0             0             6442          \n",
              "83   6442             0          6442             6218          \n",
              "84   1277             0          1277              294          \n",
              "85      0             0             0              294          \n",
              "86    294             0           294              253          \n",
              "87  10865            15         10880            10854          \n",
              "88      0             0             0            10854          \n",
              "89  10849             5         10854            10840          \n",
              "90     NA            NA            NA               NA          "
            ],
            "text/latex": "A tibble: 90 × 16\n\\begin{tabular}{llllllllllllllll}\n prefecture & date & code & prefecture\\_short & block & population & sum\\_patients & new\\_patients & patients\\_ma7 & status1 & status2 & status\\_all & total\\_status1 & total\\_status2 & total\\_status\\_all & cum\\_vaccinations\\\\\n <fct> & <date> & <fct> & <fct> & <fct> & <int> & <int> & <int> & <dbl> & <dbl> & <dbl> & <dbl> & <dbl> & <dbl> & <dbl> & <dbl>\\\\\n\\hline\n\t NA     & NA & NA & NA   & NA           &      NA &   NA & NA &        NA &   NA &   NA &   NA &     NA &     NA &     NA &     NA\\\\\n\t 青森県 & 2021-04-19 & 02 & 青森 & 北海道・東北 & 1275783 & 1320 & 15 & 20.428571 &  925 &    0 &  925 &   2374 &      0 &   2374 &   1449\\\\\n\t 青森県 & 2021-04-18 & 02 & 青森 & 北海道・東北 & 1275783 & 1305 &  6 & 20.285714 &  925 &    0 &  925 &      0 &      0 &      0 &   1449\\\\\n\t 青森県 & 2021-04-17 & 02 & 青森 & 北海道・東北 & 1275783 & 1299 & 26 & 20.000000 &  118 &    0 &  118 &   1449 &      0 &   1449 &   1331\\\\\n\t 岩手県 & 2021-04-19 & 03 & 岩手 & 北海道・東北 & 1235517 &  781 &  2 &  2.857143 &  385 &    0 &  385 &    818 &      0 &    818 &    433\\\\\n\t 岩手県 & 2021-04-18 & 03 & 岩手 & 北海道・東北 & 1235517 &  779 &  3 &  3.857143 &  385 &    0 &  385 &      0 &      0 &      0 &    433\\\\\n\t 岩手県 & 2021-04-17 & 03 & 岩手 & 北海道・東北 & 1235517 &  776 &  2 &  4.428571 &   72 &    0 &   72 &    433 &      0 &    433 &    361\\\\\n\t 宮城県 & 2021-04-19 & 04 & 宮城 & 北海道・東北 & 2292385 & 7601 & 21 & 57.571429 &  228 &    0 &  228 &    361 &      0 &    361 &    133\\\\\n\t 宮城県 & 2021-04-18 & 04 & 宮城 & 北海道・東北 & 2292385 & 7580 & 28 & 59.428571 &  228 &    0 &  228 &      0 &      0 &      0 &    133\\\\\n\t 宮城県 & 2021-04-17 & 04 & 宮城 & 北海道・東北 & 2292385 & 7552 & 65 & 65.714286 &   19 &    0 &   19 &    133 &      0 &    133 &    114\\\\\n\t 秋田県 & 2021-05-06 & 05 & 秋田 & 北海道・東北 &  985416 &  542 &  6 & 12.857143 &  372 &  128 &  500 &   8637 &    128 &   8765 &   8265\\\\\n\t 秋田県 & 2021-05-05 & 05 & 秋田 & 北海道・東北 &  985416 &  536 & 19 & 15.142857 &  372 &  128 &  500 &      0 &      0 &      0 &   8265\\\\\n\t 秋田県 & 2021-05-04 & 05 & 秋田 & 北海道・東北 &  985416 &  517 & 11 & 13.142857 &  372 &  128 &  500 &      0 &      0 &      0 &   8265\\\\\n\t 秋田県 & 2021-05-03 & 05 & 秋田 & 北海道・東北 &  985416 &  506 & 14 & 12.714286 &  372 &  128 &  500 &      0 &      0 &      0 &   8265\\\\\n\t 秋田県 & 2021-05-02 & 05 & 秋田 & 北海道・東北 &  985416 &  492 & 12 & 11.142857 &  220 &    0 &  220 &   8265 &      0 &   8265 &   8045\\\\\n\t 福島県 & 2021-04-19 & 07 & 福島 & 北海道・東北 & 1881981 & 3007 & 22 & 27.142857 &  349 &    0 &  349 &   1356 &      0 &   1356 &   1007\\\\\n\t 福島県 & 2021-04-18 & 07 & 福島 & 北海道・東北 & 1881981 & 2985 & 37 & 25.571429 &  349 &    0 &  349 &      0 &      0 &      0 &   1007\\\\\n\t 福島県 & 2021-04-17 & 07 & 福島 & 北海道・東北 & 1881981 & 2948 & 21 & 22.428571 &  349 &    0 &  349 &      0 &      0 &      0 &   1007\\\\\n\t 福島県 & 2021-04-16 & 07 & 福島 & 北海道・東北 & 1881981 & 2927 & 47 & 21.857143 &  174 &    0 &  174 &   1007 &      0 &   1007 &    833\\\\\n\t 栃木県 & 2021-04-19 & 09 & 栃木 & 関東         & 1965516 & 5080 & 12 & 19.857143 &  133 &    0 &  133 &    241 &      0 &    241 &    108\\\\\n\t 栃木県 & 2021-04-18 & 09 & 栃木 & 関東         & 1965516 & 5068 & 11 & 20.142857 &  133 &    0 &  133 &      0 &      0 &      0 &    108\\\\\n\t 栃木県 & 2021-04-17 & 09 & 栃木 & 関東         & 1965516 & 5057 & 30 & 19.571429 &   43 &    0 &   43 &    108 &      0 &    108 &     65\\\\\n\t 石川県 & 2021-05-06 & 17 & 石川 & 甲信越       & 1139612 & 2639 &  0 & 24.571429 &  225 &  103 &  328 &   8391 &    165 &   8556 &   8228\\\\\n\t 石川県 & 2021-05-05 & 17 & 石川 & 甲信越       & 1139612 & 2639 & 21 & 30.142857 &  225 &  103 &  328 &      0 &      0 &      0 &   8228\\\\\n\t 石川県 & 2021-05-04 & 17 & 石川 & 甲信越       & 1139612 & 2618 & 29 & 31.285714 &   94 &   62 &  156 &   8166 &     62 &   8228 &   8072\\\\\n\t 石川県 & 2021-04-15 & 17 & 石川 & 甲信越       & 1139612 & 2113 & 19 & 17.285714 &   99 &    0 &   99 &    169 &      0 &    169 &     70\\\\\n\t 石川県 & 2021-04-14 & 17 & 石川 & 甲信越       & 1139612 & 2094 & 21 & 15.285714 &   99 &    0 &   99 &      0 &      0 &      0 &     70\\\\\n\t 石川県 & 2021-04-13 & 17 & 石川 & 甲信越       & 1139612 & 2073 & 13 & 14.285714 &   70 &    0 &   70 &     70 &      0 &     70 &      0\\\\\n\t 石川県 & 2021-04-12 & 17 & 石川 & 甲信越       & 1139612 & 2060 & 12 & 14.714286 &   70 &    0 &   70 &      0 &      0 &      0 &      0\\\\\n\t 福井県 & 2021-07-10 & 18 & 福井 & 甲信越       &  780053 & 1373 & 22 &  7.000000 & 3041 & 2122 & 5163 & 226070 & 131031 & 357101 & 351938\\\\\n\t ⋮ & ⋮ & ⋮ & ⋮ & ⋮ & ⋮ & ⋮ & ⋮ & ⋮ & ⋮ & ⋮ & ⋮ & ⋮ & ⋮ & ⋮ & ⋮\\\\\n\t 山口県 & 2021-07-10 & 35 & 山口 & 中国       & 1369882 & 3173 &  2 &  2.285714 & 9196 & 4891 & 14087 & 450155 & 271361 & 721516 & 707429\\\\\n\t 山口県 & 2021-05-06 & 35 & 山口 & 中国       & 1369882 & 1951 & 26 & 18.285714 &  554 &  258 &   812 &   8113 &    298 &   8411 &   7599\\\\\n\t 山口県 & 2021-05-05 & 35 & 山口 & 中国       & 1369882 & 1925 & 12 & 19.285714 &  554 &  258 &   812 &      0 &      0 &      0 &   7599\\\\\n\t 山口県 & 2021-05-04 & 35 & 山口 & 中国       & 1369882 & 1913 & 12 & 21.285714 &  554 &  258 &   812 &      0 &      0 &      0 &   7599\\\\\n\t 山口県 & 2021-05-03 & 35 & 山口 & 中国       & 1369882 & 1901 & 12 & 25.285714 &   15 &   40 &    55 &   7559 &     40 &   7599 &   7544\\\\\n\t 山口県 & 2021-04-19 & 35 & 山口 & 中国       & 1369882 & 1570 & 17 & 15.428571 &  372 &    0 &   372 &   1262 &      0 &   1262 &    890\\\\\n\t 山口県 & 2021-04-18 & 35 & 山口 & 中国       & 1369882 & 1553 & 13 & 13.142857 &  372 &    0 &   372 &      0 &      0 &      0 &    890\\\\\n\t 山口県 & 2021-04-17 & 35 & 山口 & 中国       & 1369882 & 1540 & 37 & 11.714286 &  179 &    0 &   179 &    890 &      0 &    890 &    711\\\\\n\t 徳島県 & 2021-04-19 & 36 & 徳島 & 四国       &  742505 &  939 & 36 & 32.285714 &  715 &    0 &   715 &   1031 &      0 &   1031 &    316\\\\\n\t 徳島県 & 2021-04-18 & 36 & 徳島 & 四国       &  742505 &  903 & 38 & 30.000000 &  715 &    0 &   715 &      0 &      0 &      0 &    316\\\\\n\t 徳島県 & 2021-04-17 & 36 & 徳島 & 四国       &  742505 &  865 & 44 & 26.857143 &   24 &    0 &    24 &    316 &      0 &    316 &    292\\\\\n\t 高知県 & 2021-05-04 & 39 & 高知 & 四国       &  709230 & 1090 & 13 & 11.428571 &    1 &    1 &     2 &  16443 &      1 &  16444 &  16442\\\\\n\t 高知県 & 2021-05-03 & 39 & 高知 & 四国       &  709230 & 1077 & 10 & 11.571429 &    1 &    1 &     2 &      0 &      0 &      0 &  16442\\\\\n\t 高知県 & 2021-05-02 & 39 & 高知 & 四国       &  709230 & 1067 & 15 & 11.142857 & 2012 &    0 &  2012 &  16442 &      0 &  16442 &  14430\\\\\n\t 高知県 & 2021-04-14 & 39 & 高知 & 四国       &  709230 &  947 &  1 &  1.428571 &   23 &    0 &    23 &     40 &      0 &     40 &     17\\\\\n\t 高知県 & 2021-04-13 & 39 & 高知 & 四国       &  709230 &  946 &  0 &  1.285714 &   23 &    0 &    23 &      0 &      0 &      0 &     17\\\\\n\t 高知県 & 2021-04-12 & 39 & 高知 & 四国       &  709230 &  946 &  0 &  2.142857 &   17 &    0 &    17 &     17 &      0 &     17 &      0\\\\\n\t 長崎県 & 2021-05-04 & 42 & 長崎 & 九州・沖縄 & 1350769 & 2227 & 62 & 31.000000 &    1 &   33 &    34 &  14610 &     33 &  14643 &  14609\\\\\n\t 長崎県 & 2021-05-03 & 42 & 長崎 & 九州・沖縄 & 1350769 & 2165 & 24 & 28.285714 &    1 &   33 &    34 &      0 &      0 &      0 &  14609\\\\\n\t 長崎県 & 2021-05-02 & 42 & 長崎 & 九州・沖縄 & 1350769 & 2141 & 33 & 27.714286 &  140 &    0 &   140 &  14609 &      0 &  14609 &  14469\\\\\n\t 大分県 & 2021-04-26 & 44 & 大分 & 九州・沖縄 & 1151229 & 1674 & 33 & 42.142857 & 1047 &    0 &  1047 &   7489 &      0 &   7489 &   6442\\\\\n\t 大分県 & 2021-04-25 & 44 & 大分 & 九州・沖縄 & 1151229 & 1641 & 63 & 37.571429 & 1047 &    0 &  1047 &      0 &      0 &      0 &   6442\\\\\n\t 大分県 & 2021-04-24 & 44 & 大分 & 九州・沖縄 & 1151229 & 1578 & 76 & 29.285714 &  224 &    0 &   224 &   6442 &      0 &   6442 &   6218\\\\\n\t 大分県 & 2021-04-19 & 44 & 大分 & 九州・沖縄 & 1151229 & 1379 &  1 &  4.428571 &  983 &    0 &   983 &   1277 &      0 &   1277 &    294\\\\\n\t 大分県 & 2021-04-18 & 44 & 大分 & 九州・沖縄 & 1151229 & 1378 &  5 &  4.857143 &  983 &    0 &   983 &      0 &      0 &      0 &    294\\\\\n\t 大分県 & 2021-04-17 & 44 & 大分 & 九州・沖縄 & 1151229 & 1373 &  6 &  4.428571 &   41 &    0 &    41 &    294 &      0 &    294 &    253\\\\\n\t 宮崎県 & 2021-05-05 & 45 & 宮崎 & 九州・沖縄 & 1095903 & 2246 &  0 & 10.000000 &   16 &   10 &    26 &  10865 &     15 &  10880 &  10854\\\\\n\t 宮崎県 & 2021-05-04 & 45 & 宮崎 & 九州・沖縄 & 1095903 & 2246 &  0 & 13.000000 &   16 &   10 &    26 &      0 &      0 &      0 &  10854\\\\\n\t 宮崎県 & 2021-05-03 & 45 & 宮崎 & 九州・沖縄 & 1095903 & 2246 &  0 & 14.428571 &    9 &    5 &    14 &  10849 &      5 &  10854 &  10840\\\\\n\t NA     & NA & NA & NA   & NA         &      NA &   NA & NA &        NA &   NA &   NA &    NA &     NA &     NA &     NA &     NA\\\\\n\\end{tabular}\n",
            "text/markdown": "\nA tibble: 90 × 16\n\n| prefecture &lt;fct&gt; | date &lt;date&gt; | code &lt;fct&gt; | prefecture_short &lt;fct&gt; | block &lt;fct&gt; | population &lt;int&gt; | sum_patients &lt;int&gt; | new_patients &lt;int&gt; | patients_ma7 &lt;dbl&gt; | status1 &lt;dbl&gt; | status2 &lt;dbl&gt; | status_all &lt;dbl&gt; | total_status1 &lt;dbl&gt; | total_status2 &lt;dbl&gt; | total_status_all &lt;dbl&gt; | cum_vaccinations &lt;dbl&gt; |\n|---|---|---|---|---|---|---|---|---|---|---|---|---|---|---|---|\n| NA     | NA | NA | NA   | NA           |      NA |   NA | NA |        NA |   NA |   NA |   NA |     NA |     NA |     NA |     NA |\n| 青森県 | 2021-04-19 | 02 | 青森 | 北海道・東北 | 1275783 | 1320 | 15 | 20.428571 |  925 |    0 |  925 |   2374 |      0 |   2374 |   1449 |\n| 青森県 | 2021-04-18 | 02 | 青森 | 北海道・東北 | 1275783 | 1305 |  6 | 20.285714 |  925 |    0 |  925 |      0 |      0 |      0 |   1449 |\n| 青森県 | 2021-04-17 | 02 | 青森 | 北海道・東北 | 1275783 | 1299 | 26 | 20.000000 |  118 |    0 |  118 |   1449 |      0 |   1449 |   1331 |\n| 岩手県 | 2021-04-19 | 03 | 岩手 | 北海道・東北 | 1235517 |  781 |  2 |  2.857143 |  385 |    0 |  385 |    818 |      0 |    818 |    433 |\n| 岩手県 | 2021-04-18 | 03 | 岩手 | 北海道・東北 | 1235517 |  779 |  3 |  3.857143 |  385 |    0 |  385 |      0 |      0 |      0 |    433 |\n| 岩手県 | 2021-04-17 | 03 | 岩手 | 北海道・東北 | 1235517 |  776 |  2 |  4.428571 |   72 |    0 |   72 |    433 |      0 |    433 |    361 |\n| 宮城県 | 2021-04-19 | 04 | 宮城 | 北海道・東北 | 2292385 | 7601 | 21 | 57.571429 |  228 |    0 |  228 |    361 |      0 |    361 |    133 |\n| 宮城県 | 2021-04-18 | 04 | 宮城 | 北海道・東北 | 2292385 | 7580 | 28 | 59.428571 |  228 |    0 |  228 |      0 |      0 |      0 |    133 |\n| 宮城県 | 2021-04-17 | 04 | 宮城 | 北海道・東北 | 2292385 | 7552 | 65 | 65.714286 |   19 |    0 |   19 |    133 |      0 |    133 |    114 |\n| 秋田県 | 2021-05-06 | 05 | 秋田 | 北海道・東北 |  985416 |  542 |  6 | 12.857143 |  372 |  128 |  500 |   8637 |    128 |   8765 |   8265 |\n| 秋田県 | 2021-05-05 | 05 | 秋田 | 北海道・東北 |  985416 |  536 | 19 | 15.142857 |  372 |  128 |  500 |      0 |      0 |      0 |   8265 |\n| 秋田県 | 2021-05-04 | 05 | 秋田 | 北海道・東北 |  985416 |  517 | 11 | 13.142857 |  372 |  128 |  500 |      0 |      0 |      0 |   8265 |\n| 秋田県 | 2021-05-03 | 05 | 秋田 | 北海道・東北 |  985416 |  506 | 14 | 12.714286 |  372 |  128 |  500 |      0 |      0 |      0 |   8265 |\n| 秋田県 | 2021-05-02 | 05 | 秋田 | 北海道・東北 |  985416 |  492 | 12 | 11.142857 |  220 |    0 |  220 |   8265 |      0 |   8265 |   8045 |\n| 福島県 | 2021-04-19 | 07 | 福島 | 北海道・東北 | 1881981 | 3007 | 22 | 27.142857 |  349 |    0 |  349 |   1356 |      0 |   1356 |   1007 |\n| 福島県 | 2021-04-18 | 07 | 福島 | 北海道・東北 | 1881981 | 2985 | 37 | 25.571429 |  349 |    0 |  349 |      0 |      0 |      0 |   1007 |\n| 福島県 | 2021-04-17 | 07 | 福島 | 北海道・東北 | 1881981 | 2948 | 21 | 22.428571 |  349 |    0 |  349 |      0 |      0 |      0 |   1007 |\n| 福島県 | 2021-04-16 | 07 | 福島 | 北海道・東北 | 1881981 | 2927 | 47 | 21.857143 |  174 |    0 |  174 |   1007 |      0 |   1007 |    833 |\n| 栃木県 | 2021-04-19 | 09 | 栃木 | 関東         | 1965516 | 5080 | 12 | 19.857143 |  133 |    0 |  133 |    241 |      0 |    241 |    108 |\n| 栃木県 | 2021-04-18 | 09 | 栃木 | 関東         | 1965516 | 5068 | 11 | 20.142857 |  133 |    0 |  133 |      0 |      0 |      0 |    108 |\n| 栃木県 | 2021-04-17 | 09 | 栃木 | 関東         | 1965516 | 5057 | 30 | 19.571429 |   43 |    0 |   43 |    108 |      0 |    108 |     65 |\n| 石川県 | 2021-05-06 | 17 | 石川 | 甲信越       | 1139612 | 2639 |  0 | 24.571429 |  225 |  103 |  328 |   8391 |    165 |   8556 |   8228 |\n| 石川県 | 2021-05-05 | 17 | 石川 | 甲信越       | 1139612 | 2639 | 21 | 30.142857 |  225 |  103 |  328 |      0 |      0 |      0 |   8228 |\n| 石川県 | 2021-05-04 | 17 | 石川 | 甲信越       | 1139612 | 2618 | 29 | 31.285714 |   94 |   62 |  156 |   8166 |     62 |   8228 |   8072 |\n| 石川県 | 2021-04-15 | 17 | 石川 | 甲信越       | 1139612 | 2113 | 19 | 17.285714 |   99 |    0 |   99 |    169 |      0 |    169 |     70 |\n| 石川県 | 2021-04-14 | 17 | 石川 | 甲信越       | 1139612 | 2094 | 21 | 15.285714 |   99 |    0 |   99 |      0 |      0 |      0 |     70 |\n| 石川県 | 2021-04-13 | 17 | 石川 | 甲信越       | 1139612 | 2073 | 13 | 14.285714 |   70 |    0 |   70 |     70 |      0 |     70 |      0 |\n| 石川県 | 2021-04-12 | 17 | 石川 | 甲信越       | 1139612 | 2060 | 12 | 14.714286 |   70 |    0 |   70 |      0 |      0 |      0 |      0 |\n| 福井県 | 2021-07-10 | 18 | 福井 | 甲信越       |  780053 | 1373 | 22 |  7.000000 | 3041 | 2122 | 5163 | 226070 | 131031 | 357101 | 351938 |\n| ⋮ | ⋮ | ⋮ | ⋮ | ⋮ | ⋮ | ⋮ | ⋮ | ⋮ | ⋮ | ⋮ | ⋮ | ⋮ | ⋮ | ⋮ | ⋮ |\n| 山口県 | 2021-07-10 | 35 | 山口 | 中国       | 1369882 | 3173 |  2 |  2.285714 | 9196 | 4891 | 14087 | 450155 | 271361 | 721516 | 707429 |\n| 山口県 | 2021-05-06 | 35 | 山口 | 中国       | 1369882 | 1951 | 26 | 18.285714 |  554 |  258 |   812 |   8113 |    298 |   8411 |   7599 |\n| 山口県 | 2021-05-05 | 35 | 山口 | 中国       | 1369882 | 1925 | 12 | 19.285714 |  554 |  258 |   812 |      0 |      0 |      0 |   7599 |\n| 山口県 | 2021-05-04 | 35 | 山口 | 中国       | 1369882 | 1913 | 12 | 21.285714 |  554 |  258 |   812 |      0 |      0 |      0 |   7599 |\n| 山口県 | 2021-05-03 | 35 | 山口 | 中国       | 1369882 | 1901 | 12 | 25.285714 |   15 |   40 |    55 |   7559 |     40 |   7599 |   7544 |\n| 山口県 | 2021-04-19 | 35 | 山口 | 中国       | 1369882 | 1570 | 17 | 15.428571 |  372 |    0 |   372 |   1262 |      0 |   1262 |    890 |\n| 山口県 | 2021-04-18 | 35 | 山口 | 中国       | 1369882 | 1553 | 13 | 13.142857 |  372 |    0 |   372 |      0 |      0 |      0 |    890 |\n| 山口県 | 2021-04-17 | 35 | 山口 | 中国       | 1369882 | 1540 | 37 | 11.714286 |  179 |    0 |   179 |    890 |      0 |    890 |    711 |\n| 徳島県 | 2021-04-19 | 36 | 徳島 | 四国       |  742505 |  939 | 36 | 32.285714 |  715 |    0 |   715 |   1031 |      0 |   1031 |    316 |\n| 徳島県 | 2021-04-18 | 36 | 徳島 | 四国       |  742505 |  903 | 38 | 30.000000 |  715 |    0 |   715 |      0 |      0 |      0 |    316 |\n| 徳島県 | 2021-04-17 | 36 | 徳島 | 四国       |  742505 |  865 | 44 | 26.857143 |   24 |    0 |    24 |    316 |      0 |    316 |    292 |\n| 高知県 | 2021-05-04 | 39 | 高知 | 四国       |  709230 | 1090 | 13 | 11.428571 |    1 |    1 |     2 |  16443 |      1 |  16444 |  16442 |\n| 高知県 | 2021-05-03 | 39 | 高知 | 四国       |  709230 | 1077 | 10 | 11.571429 |    1 |    1 |     2 |      0 |      0 |      0 |  16442 |\n| 高知県 | 2021-05-02 | 39 | 高知 | 四国       |  709230 | 1067 | 15 | 11.142857 | 2012 |    0 |  2012 |  16442 |      0 |  16442 |  14430 |\n| 高知県 | 2021-04-14 | 39 | 高知 | 四国       |  709230 |  947 |  1 |  1.428571 |   23 |    0 |    23 |     40 |      0 |     40 |     17 |\n| 高知県 | 2021-04-13 | 39 | 高知 | 四国       |  709230 |  946 |  0 |  1.285714 |   23 |    0 |    23 |      0 |      0 |      0 |     17 |\n| 高知県 | 2021-04-12 | 39 | 高知 | 四国       |  709230 |  946 |  0 |  2.142857 |   17 |    0 |    17 |     17 |      0 |     17 |      0 |\n| 長崎県 | 2021-05-04 | 42 | 長崎 | 九州・沖縄 | 1350769 | 2227 | 62 | 31.000000 |    1 |   33 |    34 |  14610 |     33 |  14643 |  14609 |\n| 長崎県 | 2021-05-03 | 42 | 長崎 | 九州・沖縄 | 1350769 | 2165 | 24 | 28.285714 |    1 |   33 |    34 |      0 |      0 |      0 |  14609 |\n| 長崎県 | 2021-05-02 | 42 | 長崎 | 九州・沖縄 | 1350769 | 2141 | 33 | 27.714286 |  140 |    0 |   140 |  14609 |      0 |  14609 |  14469 |\n| 大分県 | 2021-04-26 | 44 | 大分 | 九州・沖縄 | 1151229 | 1674 | 33 | 42.142857 | 1047 |    0 |  1047 |   7489 |      0 |   7489 |   6442 |\n| 大分県 | 2021-04-25 | 44 | 大分 | 九州・沖縄 | 1151229 | 1641 | 63 | 37.571429 | 1047 |    0 |  1047 |      0 |      0 |      0 |   6442 |\n| 大分県 | 2021-04-24 | 44 | 大分 | 九州・沖縄 | 1151229 | 1578 | 76 | 29.285714 |  224 |    0 |   224 |   6442 |      0 |   6442 |   6218 |\n| 大分県 | 2021-04-19 | 44 | 大分 | 九州・沖縄 | 1151229 | 1379 |  1 |  4.428571 |  983 |    0 |   983 |   1277 |      0 |   1277 |    294 |\n| 大分県 | 2021-04-18 | 44 | 大分 | 九州・沖縄 | 1151229 | 1378 |  5 |  4.857143 |  983 |    0 |   983 |      0 |      0 |      0 |    294 |\n| 大分県 | 2021-04-17 | 44 | 大分 | 九州・沖縄 | 1151229 | 1373 |  6 |  4.428571 |   41 |    0 |    41 |    294 |      0 |    294 |    253 |\n| 宮崎県 | 2021-05-05 | 45 | 宮崎 | 九州・沖縄 | 1095903 | 2246 |  0 | 10.000000 |   16 |   10 |    26 |  10865 |     15 |  10880 |  10854 |\n| 宮崎県 | 2021-05-04 | 45 | 宮崎 | 九州・沖縄 | 1095903 | 2246 |  0 | 13.000000 |   16 |   10 |    26 |      0 |      0 |      0 |  10854 |\n| 宮崎県 | 2021-05-03 | 45 | 宮崎 | 九州・沖縄 | 1095903 | 2246 |  0 | 14.428571 |    9 |    5 |    14 |  10849 |      5 |  10854 |  10840 |\n| NA     | NA | NA | NA   | NA         |      NA |   NA | NA |        NA |   NA |   NA |    NA |     NA |     NA |     NA |     NA |\n\n",
            "text/html": [
              "<table class=\"dataframe\">\n",
              "<caption>A tibble: 90 × 16</caption>\n",
              "<thead>\n",
              "\t<tr><th scope=col>prefecture</th><th scope=col>date</th><th scope=col>code</th><th scope=col>prefecture_short</th><th scope=col>block</th><th scope=col>population</th><th scope=col>sum_patients</th><th scope=col>new_patients</th><th scope=col>patients_ma7</th><th scope=col>status1</th><th scope=col>status2</th><th scope=col>status_all</th><th scope=col>total_status1</th><th scope=col>total_status2</th><th scope=col>total_status_all</th><th scope=col>cum_vaccinations</th></tr>\n",
              "\t<tr><th scope=col>&lt;fct&gt;</th><th scope=col>&lt;date&gt;</th><th scope=col>&lt;fct&gt;</th><th scope=col>&lt;fct&gt;</th><th scope=col>&lt;fct&gt;</th><th scope=col>&lt;int&gt;</th><th scope=col>&lt;int&gt;</th><th scope=col>&lt;int&gt;</th><th scope=col>&lt;dbl&gt;</th><th scope=col>&lt;dbl&gt;</th><th scope=col>&lt;dbl&gt;</th><th scope=col>&lt;dbl&gt;</th><th scope=col>&lt;dbl&gt;</th><th scope=col>&lt;dbl&gt;</th><th scope=col>&lt;dbl&gt;</th><th scope=col>&lt;dbl&gt;</th></tr>\n",
              "</thead>\n",
              "<tbody>\n",
              "\t<tr><td>NA    </td><td>NA</td><td>NA</td><td>NA  </td><td>NA          </td><td>     NA</td><td>  NA</td><td>NA</td><td>       NA</td><td>  NA</td><td>  NA</td><td>  NA</td><td>    NA</td><td>    NA</td><td>    NA</td><td>    NA</td></tr>\n",
              "\t<tr><td>青森県</td><td>2021-04-19</td><td>02</td><td>青森</td><td>北海道・東北</td><td>1275783</td><td>1320</td><td>15</td><td>20.428571</td><td> 925</td><td>   0</td><td> 925</td><td>  2374</td><td>     0</td><td>  2374</td><td>  1449</td></tr>\n",
              "\t<tr><td>青森県</td><td>2021-04-18</td><td>02</td><td>青森</td><td>北海道・東北</td><td>1275783</td><td>1305</td><td> 6</td><td>20.285714</td><td> 925</td><td>   0</td><td> 925</td><td>     0</td><td>     0</td><td>     0</td><td>  1449</td></tr>\n",
              "\t<tr><td>青森県</td><td>2021-04-17</td><td>02</td><td>青森</td><td>北海道・東北</td><td>1275783</td><td>1299</td><td>26</td><td>20.000000</td><td> 118</td><td>   0</td><td> 118</td><td>  1449</td><td>     0</td><td>  1449</td><td>  1331</td></tr>\n",
              "\t<tr><td>岩手県</td><td>2021-04-19</td><td>03</td><td>岩手</td><td>北海道・東北</td><td>1235517</td><td> 781</td><td> 2</td><td> 2.857143</td><td> 385</td><td>   0</td><td> 385</td><td>   818</td><td>     0</td><td>   818</td><td>   433</td></tr>\n",
              "\t<tr><td>岩手県</td><td>2021-04-18</td><td>03</td><td>岩手</td><td>北海道・東北</td><td>1235517</td><td> 779</td><td> 3</td><td> 3.857143</td><td> 385</td><td>   0</td><td> 385</td><td>     0</td><td>     0</td><td>     0</td><td>   433</td></tr>\n",
              "\t<tr><td>岩手県</td><td>2021-04-17</td><td>03</td><td>岩手</td><td>北海道・東北</td><td>1235517</td><td> 776</td><td> 2</td><td> 4.428571</td><td>  72</td><td>   0</td><td>  72</td><td>   433</td><td>     0</td><td>   433</td><td>   361</td></tr>\n",
              "\t<tr><td>宮城県</td><td>2021-04-19</td><td>04</td><td>宮城</td><td>北海道・東北</td><td>2292385</td><td>7601</td><td>21</td><td>57.571429</td><td> 228</td><td>   0</td><td> 228</td><td>   361</td><td>     0</td><td>   361</td><td>   133</td></tr>\n",
              "\t<tr><td>宮城県</td><td>2021-04-18</td><td>04</td><td>宮城</td><td>北海道・東北</td><td>2292385</td><td>7580</td><td>28</td><td>59.428571</td><td> 228</td><td>   0</td><td> 228</td><td>     0</td><td>     0</td><td>     0</td><td>   133</td></tr>\n",
              "\t<tr><td>宮城県</td><td>2021-04-17</td><td>04</td><td>宮城</td><td>北海道・東北</td><td>2292385</td><td>7552</td><td>65</td><td>65.714286</td><td>  19</td><td>   0</td><td>  19</td><td>   133</td><td>     0</td><td>   133</td><td>   114</td></tr>\n",
              "\t<tr><td>秋田県</td><td>2021-05-06</td><td>05</td><td>秋田</td><td>北海道・東北</td><td> 985416</td><td> 542</td><td> 6</td><td>12.857143</td><td> 372</td><td> 128</td><td> 500</td><td>  8637</td><td>   128</td><td>  8765</td><td>  8265</td></tr>\n",
              "\t<tr><td>秋田県</td><td>2021-05-05</td><td>05</td><td>秋田</td><td>北海道・東北</td><td> 985416</td><td> 536</td><td>19</td><td>15.142857</td><td> 372</td><td> 128</td><td> 500</td><td>     0</td><td>     0</td><td>     0</td><td>  8265</td></tr>\n",
              "\t<tr><td>秋田県</td><td>2021-05-04</td><td>05</td><td>秋田</td><td>北海道・東北</td><td> 985416</td><td> 517</td><td>11</td><td>13.142857</td><td> 372</td><td> 128</td><td> 500</td><td>     0</td><td>     0</td><td>     0</td><td>  8265</td></tr>\n",
              "\t<tr><td>秋田県</td><td>2021-05-03</td><td>05</td><td>秋田</td><td>北海道・東北</td><td> 985416</td><td> 506</td><td>14</td><td>12.714286</td><td> 372</td><td> 128</td><td> 500</td><td>     0</td><td>     0</td><td>     0</td><td>  8265</td></tr>\n",
              "\t<tr><td>秋田県</td><td>2021-05-02</td><td>05</td><td>秋田</td><td>北海道・東北</td><td> 985416</td><td> 492</td><td>12</td><td>11.142857</td><td> 220</td><td>   0</td><td> 220</td><td>  8265</td><td>     0</td><td>  8265</td><td>  8045</td></tr>\n",
              "\t<tr><td>福島県</td><td>2021-04-19</td><td>07</td><td>福島</td><td>北海道・東北</td><td>1881981</td><td>3007</td><td>22</td><td>27.142857</td><td> 349</td><td>   0</td><td> 349</td><td>  1356</td><td>     0</td><td>  1356</td><td>  1007</td></tr>\n",
              "\t<tr><td>福島県</td><td>2021-04-18</td><td>07</td><td>福島</td><td>北海道・東北</td><td>1881981</td><td>2985</td><td>37</td><td>25.571429</td><td> 349</td><td>   0</td><td> 349</td><td>     0</td><td>     0</td><td>     0</td><td>  1007</td></tr>\n",
              "\t<tr><td>福島県</td><td>2021-04-17</td><td>07</td><td>福島</td><td>北海道・東北</td><td>1881981</td><td>2948</td><td>21</td><td>22.428571</td><td> 349</td><td>   0</td><td> 349</td><td>     0</td><td>     0</td><td>     0</td><td>  1007</td></tr>\n",
              "\t<tr><td>福島県</td><td>2021-04-16</td><td>07</td><td>福島</td><td>北海道・東北</td><td>1881981</td><td>2927</td><td>47</td><td>21.857143</td><td> 174</td><td>   0</td><td> 174</td><td>  1007</td><td>     0</td><td>  1007</td><td>   833</td></tr>\n",
              "\t<tr><td>栃木県</td><td>2021-04-19</td><td>09</td><td>栃木</td><td>関東        </td><td>1965516</td><td>5080</td><td>12</td><td>19.857143</td><td> 133</td><td>   0</td><td> 133</td><td>   241</td><td>     0</td><td>   241</td><td>   108</td></tr>\n",
              "\t<tr><td>栃木県</td><td>2021-04-18</td><td>09</td><td>栃木</td><td>関東        </td><td>1965516</td><td>5068</td><td>11</td><td>20.142857</td><td> 133</td><td>   0</td><td> 133</td><td>     0</td><td>     0</td><td>     0</td><td>   108</td></tr>\n",
              "\t<tr><td>栃木県</td><td>2021-04-17</td><td>09</td><td>栃木</td><td>関東        </td><td>1965516</td><td>5057</td><td>30</td><td>19.571429</td><td>  43</td><td>   0</td><td>  43</td><td>   108</td><td>     0</td><td>   108</td><td>    65</td></tr>\n",
              "\t<tr><td>石川県</td><td>2021-05-06</td><td>17</td><td>石川</td><td>甲信越      </td><td>1139612</td><td>2639</td><td> 0</td><td>24.571429</td><td> 225</td><td> 103</td><td> 328</td><td>  8391</td><td>   165</td><td>  8556</td><td>  8228</td></tr>\n",
              "\t<tr><td>石川県</td><td>2021-05-05</td><td>17</td><td>石川</td><td>甲信越      </td><td>1139612</td><td>2639</td><td>21</td><td>30.142857</td><td> 225</td><td> 103</td><td> 328</td><td>     0</td><td>     0</td><td>     0</td><td>  8228</td></tr>\n",
              "\t<tr><td>石川県</td><td>2021-05-04</td><td>17</td><td>石川</td><td>甲信越      </td><td>1139612</td><td>2618</td><td>29</td><td>31.285714</td><td>  94</td><td>  62</td><td> 156</td><td>  8166</td><td>    62</td><td>  8228</td><td>  8072</td></tr>\n",
              "\t<tr><td>石川県</td><td>2021-04-15</td><td>17</td><td>石川</td><td>甲信越      </td><td>1139612</td><td>2113</td><td>19</td><td>17.285714</td><td>  99</td><td>   0</td><td>  99</td><td>   169</td><td>     0</td><td>   169</td><td>    70</td></tr>\n",
              "\t<tr><td>石川県</td><td>2021-04-14</td><td>17</td><td>石川</td><td>甲信越      </td><td>1139612</td><td>2094</td><td>21</td><td>15.285714</td><td>  99</td><td>   0</td><td>  99</td><td>     0</td><td>     0</td><td>     0</td><td>    70</td></tr>\n",
              "\t<tr><td>石川県</td><td>2021-04-13</td><td>17</td><td>石川</td><td>甲信越      </td><td>1139612</td><td>2073</td><td>13</td><td>14.285714</td><td>  70</td><td>   0</td><td>  70</td><td>    70</td><td>     0</td><td>    70</td><td>     0</td></tr>\n",
              "\t<tr><td>石川県</td><td>2021-04-12</td><td>17</td><td>石川</td><td>甲信越      </td><td>1139612</td><td>2060</td><td>12</td><td>14.714286</td><td>  70</td><td>   0</td><td>  70</td><td>     0</td><td>     0</td><td>     0</td><td>     0</td></tr>\n",
              "\t<tr><td>福井県</td><td>2021-07-10</td><td>18</td><td>福井</td><td>甲信越      </td><td> 780053</td><td>1373</td><td>22</td><td> 7.000000</td><td>3041</td><td>2122</td><td>5163</td><td>226070</td><td>131031</td><td>357101</td><td>351938</td></tr>\n",
              "\t<tr><td>⋮</td><td>⋮</td><td>⋮</td><td>⋮</td><td>⋮</td><td>⋮</td><td>⋮</td><td>⋮</td><td>⋮</td><td>⋮</td><td>⋮</td><td>⋮</td><td>⋮</td><td>⋮</td><td>⋮</td><td>⋮</td></tr>\n",
              "\t<tr><td>山口県</td><td>2021-07-10</td><td>35</td><td>山口</td><td>中国      </td><td>1369882</td><td>3173</td><td> 2</td><td> 2.285714</td><td>9196</td><td>4891</td><td>14087</td><td>450155</td><td>271361</td><td>721516</td><td>707429</td></tr>\n",
              "\t<tr><td>山口県</td><td>2021-05-06</td><td>35</td><td>山口</td><td>中国      </td><td>1369882</td><td>1951</td><td>26</td><td>18.285714</td><td> 554</td><td> 258</td><td>  812</td><td>  8113</td><td>   298</td><td>  8411</td><td>  7599</td></tr>\n",
              "\t<tr><td>山口県</td><td>2021-05-05</td><td>35</td><td>山口</td><td>中国      </td><td>1369882</td><td>1925</td><td>12</td><td>19.285714</td><td> 554</td><td> 258</td><td>  812</td><td>     0</td><td>     0</td><td>     0</td><td>  7599</td></tr>\n",
              "\t<tr><td>山口県</td><td>2021-05-04</td><td>35</td><td>山口</td><td>中国      </td><td>1369882</td><td>1913</td><td>12</td><td>21.285714</td><td> 554</td><td> 258</td><td>  812</td><td>     0</td><td>     0</td><td>     0</td><td>  7599</td></tr>\n",
              "\t<tr><td>山口県</td><td>2021-05-03</td><td>35</td><td>山口</td><td>中国      </td><td>1369882</td><td>1901</td><td>12</td><td>25.285714</td><td>  15</td><td>  40</td><td>   55</td><td>  7559</td><td>    40</td><td>  7599</td><td>  7544</td></tr>\n",
              "\t<tr><td>山口県</td><td>2021-04-19</td><td>35</td><td>山口</td><td>中国      </td><td>1369882</td><td>1570</td><td>17</td><td>15.428571</td><td> 372</td><td>   0</td><td>  372</td><td>  1262</td><td>     0</td><td>  1262</td><td>   890</td></tr>\n",
              "\t<tr><td>山口県</td><td>2021-04-18</td><td>35</td><td>山口</td><td>中国      </td><td>1369882</td><td>1553</td><td>13</td><td>13.142857</td><td> 372</td><td>   0</td><td>  372</td><td>     0</td><td>     0</td><td>     0</td><td>   890</td></tr>\n",
              "\t<tr><td>山口県</td><td>2021-04-17</td><td>35</td><td>山口</td><td>中国      </td><td>1369882</td><td>1540</td><td>37</td><td>11.714286</td><td> 179</td><td>   0</td><td>  179</td><td>   890</td><td>     0</td><td>   890</td><td>   711</td></tr>\n",
              "\t<tr><td>徳島県</td><td>2021-04-19</td><td>36</td><td>徳島</td><td>四国      </td><td> 742505</td><td> 939</td><td>36</td><td>32.285714</td><td> 715</td><td>   0</td><td>  715</td><td>  1031</td><td>     0</td><td>  1031</td><td>   316</td></tr>\n",
              "\t<tr><td>徳島県</td><td>2021-04-18</td><td>36</td><td>徳島</td><td>四国      </td><td> 742505</td><td> 903</td><td>38</td><td>30.000000</td><td> 715</td><td>   0</td><td>  715</td><td>     0</td><td>     0</td><td>     0</td><td>   316</td></tr>\n",
              "\t<tr><td>徳島県</td><td>2021-04-17</td><td>36</td><td>徳島</td><td>四国      </td><td> 742505</td><td> 865</td><td>44</td><td>26.857143</td><td>  24</td><td>   0</td><td>   24</td><td>   316</td><td>     0</td><td>   316</td><td>   292</td></tr>\n",
              "\t<tr><td>高知県</td><td>2021-05-04</td><td>39</td><td>高知</td><td>四国      </td><td> 709230</td><td>1090</td><td>13</td><td>11.428571</td><td>   1</td><td>   1</td><td>    2</td><td> 16443</td><td>     1</td><td> 16444</td><td> 16442</td></tr>\n",
              "\t<tr><td>高知県</td><td>2021-05-03</td><td>39</td><td>高知</td><td>四国      </td><td> 709230</td><td>1077</td><td>10</td><td>11.571429</td><td>   1</td><td>   1</td><td>    2</td><td>     0</td><td>     0</td><td>     0</td><td> 16442</td></tr>\n",
              "\t<tr><td>高知県</td><td>2021-05-02</td><td>39</td><td>高知</td><td>四国      </td><td> 709230</td><td>1067</td><td>15</td><td>11.142857</td><td>2012</td><td>   0</td><td> 2012</td><td> 16442</td><td>     0</td><td> 16442</td><td> 14430</td></tr>\n",
              "\t<tr><td>高知県</td><td>2021-04-14</td><td>39</td><td>高知</td><td>四国      </td><td> 709230</td><td> 947</td><td> 1</td><td> 1.428571</td><td>  23</td><td>   0</td><td>   23</td><td>    40</td><td>     0</td><td>    40</td><td>    17</td></tr>\n",
              "\t<tr><td>高知県</td><td>2021-04-13</td><td>39</td><td>高知</td><td>四国      </td><td> 709230</td><td> 946</td><td> 0</td><td> 1.285714</td><td>  23</td><td>   0</td><td>   23</td><td>     0</td><td>     0</td><td>     0</td><td>    17</td></tr>\n",
              "\t<tr><td>高知県</td><td>2021-04-12</td><td>39</td><td>高知</td><td>四国      </td><td> 709230</td><td> 946</td><td> 0</td><td> 2.142857</td><td>  17</td><td>   0</td><td>   17</td><td>    17</td><td>     0</td><td>    17</td><td>     0</td></tr>\n",
              "\t<tr><td>長崎県</td><td>2021-05-04</td><td>42</td><td>長崎</td><td>九州・沖縄</td><td>1350769</td><td>2227</td><td>62</td><td>31.000000</td><td>   1</td><td>  33</td><td>   34</td><td> 14610</td><td>    33</td><td> 14643</td><td> 14609</td></tr>\n",
              "\t<tr><td>長崎県</td><td>2021-05-03</td><td>42</td><td>長崎</td><td>九州・沖縄</td><td>1350769</td><td>2165</td><td>24</td><td>28.285714</td><td>   1</td><td>  33</td><td>   34</td><td>     0</td><td>     0</td><td>     0</td><td> 14609</td></tr>\n",
              "\t<tr><td>長崎県</td><td>2021-05-02</td><td>42</td><td>長崎</td><td>九州・沖縄</td><td>1350769</td><td>2141</td><td>33</td><td>27.714286</td><td> 140</td><td>   0</td><td>  140</td><td> 14609</td><td>     0</td><td> 14609</td><td> 14469</td></tr>\n",
              "\t<tr><td>大分県</td><td>2021-04-26</td><td>44</td><td>大分</td><td>九州・沖縄</td><td>1151229</td><td>1674</td><td>33</td><td>42.142857</td><td>1047</td><td>   0</td><td> 1047</td><td>  7489</td><td>     0</td><td>  7489</td><td>  6442</td></tr>\n",
              "\t<tr><td>大分県</td><td>2021-04-25</td><td>44</td><td>大分</td><td>九州・沖縄</td><td>1151229</td><td>1641</td><td>63</td><td>37.571429</td><td>1047</td><td>   0</td><td> 1047</td><td>     0</td><td>     0</td><td>     0</td><td>  6442</td></tr>\n",
              "\t<tr><td>大分県</td><td>2021-04-24</td><td>44</td><td>大分</td><td>九州・沖縄</td><td>1151229</td><td>1578</td><td>76</td><td>29.285714</td><td> 224</td><td>   0</td><td>  224</td><td>  6442</td><td>     0</td><td>  6442</td><td>  6218</td></tr>\n",
              "\t<tr><td>大分県</td><td>2021-04-19</td><td>44</td><td>大分</td><td>九州・沖縄</td><td>1151229</td><td>1379</td><td> 1</td><td> 4.428571</td><td> 983</td><td>   0</td><td>  983</td><td>  1277</td><td>     0</td><td>  1277</td><td>   294</td></tr>\n",
              "\t<tr><td>大分県</td><td>2021-04-18</td><td>44</td><td>大分</td><td>九州・沖縄</td><td>1151229</td><td>1378</td><td> 5</td><td> 4.857143</td><td> 983</td><td>   0</td><td>  983</td><td>     0</td><td>     0</td><td>     0</td><td>   294</td></tr>\n",
              "\t<tr><td>大分県</td><td>2021-04-17</td><td>44</td><td>大分</td><td>九州・沖縄</td><td>1151229</td><td>1373</td><td> 6</td><td> 4.428571</td><td>  41</td><td>   0</td><td>   41</td><td>   294</td><td>     0</td><td>   294</td><td>   253</td></tr>\n",
              "\t<tr><td>宮崎県</td><td>2021-05-05</td><td>45</td><td>宮崎</td><td>九州・沖縄</td><td>1095903</td><td>2246</td><td> 0</td><td>10.000000</td><td>  16</td><td>  10</td><td>   26</td><td> 10865</td><td>    15</td><td> 10880</td><td> 10854</td></tr>\n",
              "\t<tr><td>宮崎県</td><td>2021-05-04</td><td>45</td><td>宮崎</td><td>九州・沖縄</td><td>1095903</td><td>2246</td><td> 0</td><td>13.000000</td><td>  16</td><td>  10</td><td>   26</td><td>     0</td><td>     0</td><td>     0</td><td> 10854</td></tr>\n",
              "\t<tr><td>宮崎県</td><td>2021-05-03</td><td>45</td><td>宮崎</td><td>九州・沖縄</td><td>1095903</td><td>2246</td><td> 0</td><td>14.428571</td><td>   9</td><td>   5</td><td>   14</td><td> 10849</td><td>     5</td><td> 10854</td><td> 10840</td></tr>\n",
              "\t<tr><td>NA    </td><td>NA</td><td>NA</td><td>NA  </td><td>NA        </td><td>     NA</td><td>  NA</td><td>NA</td><td>       NA</td><td>  NA</td><td>  NA</td><td>   NA</td><td>    NA</td><td>    NA</td><td>    NA</td><td>    NA</td></tr>\n",
              "</tbody>\n",
              "</table>\n"
            ]
          },
          "metadata": {
            "tags": []
          }
        }
      ]
    },
    {
      "cell_type": "markdown",
      "metadata": {
        "id": "Jnnzgc9c3SsS"
      },
      "source": [
        "### 7.5. 人口比にする\n",
        "\n",
        "都道府県どうしの比較をするために、実数だけでなく、人口比も知りたくなります。\n",
        "各県の接種と感染の数値データを、その県の人口で割って比率を出します。ここでは、定数を掛けて、人口10万人あたりの数にしています。"
      ]
    },
    {
      "cell_type": "code",
      "metadata": {
        "colab": {
          "base_uri": "https://localhost:8080/",
          "height": 1000
        },
        "id": "-oumEUNWP_lM",
        "outputId": "4765dabd-a4e4-4f7e-f421-098ab3b5bdb7"
      },
      "source": [
        "# 日付と数値データを県ごとに畳む。\n",
        "joined_data_w0 <-\n",
        "    joined_data_w0 %>%\n",
        "# 県ごとの小分けtibbleになる部分。\n",
        "    nest(data_by_pref = c(\n",
        "        date,\n",
        "        new_patients,\n",
        "        patients_ma7,\n",
        "        sum_patients,\n",
        "# status区分を追加した。\n",
        "        status1,\n",
        "        status2,\n",
        "        status_all,\n",
        "        total_status1,\n",
        "        total_status2,\n",
        "        total_status_all,\n",
        "        cum_vaccinations\n",
        "        )\n",
        "    ) \n",
        "\n",
        "# 県ごとのデータを、その県の人口で割って比率を計算するファンクション。\n",
        "# 人口10万人あたり、にしている。rをつけたカラムが人口比。\n",
        "calc_ratio <- function(nested_df, divisor){\n",
        "    const = 100000\n",
        "    return(\n",
        "        nested_df %>% mutate(\n",
        "            \"r_new_patients\"        = new_patients          / divisor * const,\n",
        "            \"r_patients_ma7\"        = patients_ma7          / divisor * const,\n",
        "            \"r_sum_patients\"        = sum_patients          / divisor * const,\n",
        "            \"r_status1\"=status1/ divisor * const,\n",
        "            \"r_status2\"=status2/ divisor * const,  \n",
        "            \"r_total_status1\"      = total_status1        / divisor * const,\n",
        "            \"r_total_status2\"      = total_status2        / divisor * const,\n",
        "            \"r_total_status_all\"      = total_status_all        / divisor * const,\n",
        "            \"r_cum_vaccinations\"    = cum_vaccinations      / divisor * const\n",
        "        ) %>%\n",
        "# 念のため、日付降順（最新日付が上）に来るようにソートしておく。\n",
        "    arrange(desc(date))\n",
        "    )\n",
        "}\n",
        "# これに限らずだが、とくにこのファンクション、松波さんのアドバイスに深謝！\n",
        "\n",
        "joined_data_ratio <- joined_data_w0 %>% \n",
        "    mutate(\n",
        "# さっきのファンクションに働いてもらう。\n",
        "        data_by_pref = map2(data_by_pref, population, calc_ratio)\n",
        "    ) %>%\n",
        "# 念のため、県コードの順にソートしておく。\n",
        "    arrange(prefecture)\n",
        "\n",
        "# ネストを解除する。\n",
        "joined_data_ratio <- joined_data_ratio %>% \n",
        "    unnest(cols = data_by_pref)\n",
        "\n",
        "# こうなった。\n",
        "str(joined_data_ratio)\n",
        "head(joined_data_ratio)\n",
        "tail(joined_data_ratio)\n",
        "summary(joined_data_ratio)"
      ],
      "execution_count": null,
      "outputs": [
        {
          "output_type": "stream",
          "text": [
            "tibble [4,321 × 25] (S3: tbl_df/tbl/data.frame)\n",
            " $ prefecture        : Factor w/ 48 levels \"北海道\",\"青森県\",..: 1 1 1 1 1 1 1 1 1 1 ...\n",
            " $ code              : Factor w/ 48 levels \"01\",\"02\",\"03\",..: 1 1 1 1 1 1 1 1 1 1 ...\n",
            " $ prefecture_short  : Factor w/ 48 levels \"北海道\",\"青森\",..: 1 1 1 1 1 1 1 1 1 1 ...\n",
            " $ block             : Factor w/ 9 levels \"北海道・東北\",..: 1 1 1 1 1 1 1 1 1 1 ...\n",
            " $ population        : int [1:4321] 5267762 5267762 5267762 5267762 5267762 5267762 5267762 5267762 5267762 5267762 ...\n",
            " $ date              : Date[1:4321], format: \"2021-07-10\" \"2021-07-09\" ...\n",
            " $ new_patients      : int [1:4321] 64 50 62 67 34 29 39 30 26 39 ...\n",
            " $ patients_ma7      : num [1:4321] 49.3 44.4 41 37.7 33.6 ...\n",
            " $ sum_patients      : int [1:4321] 41772 41708 41658 41596 41529 41495 41466 41427 41397 41371 ...\n",
            " $ status1           : num [1:4321] 17713 16757 22630 24146 23523 ...\n",
            " $ status2           : num [1:4321] 11049 11149 13853 14434 17481 ...\n",
            " $ status_all        : num [1:4321] 28762 27906 36483 38580 41004 ...\n",
            " $ total_status1     : num [1:4321] 1296557 1278844 1262087 1239457 1215311 ...\n",
            " $ total_status2     : num [1:4321] 653179 642130 630981 617128 602694 ...\n",
            " $ total_status_all  : num [1:4321] 1949736 1920974 1893068 1856585 1818005 ...\n",
            " $ cum_vaccinations  : num [1:4321] 1920974 1893068 1856585 1818005 1777001 ...\n",
            " $ r_new_patients    : num [1:4321] 1.215 0.949 1.177 1.272 0.645 ...\n",
            " $ r_patients_ma7    : num [1:4321] 0.936 0.843 0.778 0.716 0.637 ...\n",
            " $ r_sum_patients    : num [1:4321] 793 792 791 790 788 ...\n",
            " $ r_status1         : num [1:4321] 336 318 430 458 447 ...\n",
            " $ r_status2         : num [1:4321] 210 212 263 274 332 ...\n",
            " $ r_total_status1   : num [1:4321] 24613 24277 23959 23529 23071 ...\n",
            " $ r_total_status2   : num [1:4321] 12400 12190 11978 11715 11441 ...\n",
            " $ r_total_status_all: num [1:4321] 37013 36467 35937 35244 34512 ...\n",
            " $ r_cum_vaccinations: num [1:4321] 36467 35937 35244 34512 33734 ...\n"
          ],
          "name": "stdout"
        },
        {
          "output_type": "display_data",
          "data": {
            "text/plain": [
              "  prefecture code prefecture_short block        population date      \n",
              "1 北海道     01   北海道           北海道・東北 5267762    2021-07-10\n",
              "2 北海道     01   北海道           北海道・東北 5267762    2021-07-09\n",
              "3 北海道     01   北海道           北海道・東北 5267762    2021-07-08\n",
              "4 北海道     01   北海道           北海道・東北 5267762    2021-07-07\n",
              "5 北海道     01   北海道           北海道・東北 5267762    2021-07-06\n",
              "6 北海道     01   北海道           北海道・東北 5267762    2021-07-05\n",
              "  new_patients patients_ma7 sum_patients status1 ⋯ cum_vaccinations\n",
              "1 64           49.28571     41772        17713   ⋯ 1920974         \n",
              "2 50           44.42857     41708        16757   ⋯ 1893068         \n",
              "3 62           41.00000     41658        22630   ⋯ 1856585         \n",
              "4 67           37.71429     41596        24146   ⋯ 1818005         \n",
              "5 34           33.57143     41529        23523   ⋯ 1777001         \n",
              "6 29           32.00000     41495        27674   ⋯ 1732100         \n",
              "  r_new_patients r_patients_ma7 r_sum_patients r_status1 r_status2\n",
              "1 1.2149372      0.9356101      792.9743       336.2529  209.7475 \n",
              "2 0.9491697      0.8434051      791.7594       318.1047  211.6459 \n",
              "3 1.1769704      0.7783191      790.8102       429.5942  262.9770 \n",
              "4 1.2718874      0.7159451      789.6332       458.3730  274.0063 \n",
              "5 0.6454354      0.6372996      788.3614       446.5464  331.8487 \n",
              "6 0.5505184      0.6074686      787.7159       525.3464  327.0269 \n",
              "  r_total_status1 r_total_status2 r_total_status_all r_cum_vaccinations\n",
              "1 24613.05        12399.55        37012.61           36466.61          \n",
              "2 24276.80        12189.81        36466.61           35936.86          \n",
              "3 23958.69        11978.16        35936.86           35244.28          \n",
              "4 23529.10        11715.18        35244.28           34511.90          \n",
              "5 23070.73        11441.18        34511.90           33733.51          \n",
              "6 22624.18        11109.33        33733.51           32881.14          "
            ],
            "text/latex": "A tibble: 6 × 25\n\\begin{tabular}{lllllllllllllllllllll}\n prefecture & code & prefecture\\_short & block & population & date & new\\_patients & patients\\_ma7 & sum\\_patients & status1 & ⋯ & cum\\_vaccinations & r\\_new\\_patients & r\\_patients\\_ma7 & r\\_sum\\_patients & r\\_status1 & r\\_status2 & r\\_total\\_status1 & r\\_total\\_status2 & r\\_total\\_status\\_all & r\\_cum\\_vaccinations\\\\\n <fct> & <fct> & <fct> & <fct> & <int> & <date> & <int> & <dbl> & <int> & <dbl> & ⋯ & <dbl> & <dbl> & <dbl> & <dbl> & <dbl> & <dbl> & <dbl> & <dbl> & <dbl> & <dbl>\\\\\n\\hline\n\t 北海道 & 01 & 北海道 & 北海道・東北 & 5267762 & 2021-07-10 & 64 & 49.28571 & 41772 & 17713 & ⋯ & 1920974 & 1.2149372 & 0.9356101 & 792.9743 & 336.2529 & 209.7475 & 24613.05 & 12399.55 & 37012.61 & 36466.61\\\\\n\t 北海道 & 01 & 北海道 & 北海道・東北 & 5267762 & 2021-07-09 & 50 & 44.42857 & 41708 & 16757 & ⋯ & 1893068 & 0.9491697 & 0.8434051 & 791.7594 & 318.1047 & 211.6459 & 24276.80 & 12189.81 & 36466.61 & 35936.86\\\\\n\t 北海道 & 01 & 北海道 & 北海道・東北 & 5267762 & 2021-07-08 & 62 & 41.00000 & 41658 & 22630 & ⋯ & 1856585 & 1.1769704 & 0.7783191 & 790.8102 & 429.5942 & 262.9770 & 23958.69 & 11978.16 & 35936.86 & 35244.28\\\\\n\t 北海道 & 01 & 北海道 & 北海道・東北 & 5267762 & 2021-07-07 & 67 & 37.71429 & 41596 & 24146 & ⋯ & 1818005 & 1.2718874 & 0.7159451 & 789.6332 & 458.3730 & 274.0063 & 23529.10 & 11715.18 & 35244.28 & 34511.90\\\\\n\t 北海道 & 01 & 北海道 & 北海道・東北 & 5267762 & 2021-07-06 & 34 & 33.57143 & 41529 & 23523 & ⋯ & 1777001 & 0.6454354 & 0.6372996 & 788.3614 & 446.5464 & 331.8487 & 23070.73 & 11441.18 & 34511.90 & 33733.51\\\\\n\t 北海道 & 01 & 北海道 & 北海道・東北 & 5267762 & 2021-07-05 & 29 & 32.00000 & 41495 & 27674 & ⋯ & 1732100 & 0.5505184 & 0.6074686 & 787.7159 & 525.3464 & 327.0269 & 22624.18 & 11109.33 & 33733.51 & 32881.14\\\\\n\\end{tabular}\n",
            "text/markdown": "\nA tibble: 6 × 25\n\n| prefecture &lt;fct&gt; | code &lt;fct&gt; | prefecture_short &lt;fct&gt; | block &lt;fct&gt; | population &lt;int&gt; | date &lt;date&gt; | new_patients &lt;int&gt; | patients_ma7 &lt;dbl&gt; | sum_patients &lt;int&gt; | status1 &lt;dbl&gt; | ⋯ ⋯ | cum_vaccinations &lt;dbl&gt; | r_new_patients &lt;dbl&gt; | r_patients_ma7 &lt;dbl&gt; | r_sum_patients &lt;dbl&gt; | r_status1 &lt;dbl&gt; | r_status2 &lt;dbl&gt; | r_total_status1 &lt;dbl&gt; | r_total_status2 &lt;dbl&gt; | r_total_status_all &lt;dbl&gt; | r_cum_vaccinations &lt;dbl&gt; |\n|---|---|---|---|---|---|---|---|---|---|---|---|---|---|---|---|---|---|---|---|---|\n| 北海道 | 01 | 北海道 | 北海道・東北 | 5267762 | 2021-07-10 | 64 | 49.28571 | 41772 | 17713 | ⋯ | 1920974 | 1.2149372 | 0.9356101 | 792.9743 | 336.2529 | 209.7475 | 24613.05 | 12399.55 | 37012.61 | 36466.61 |\n| 北海道 | 01 | 北海道 | 北海道・東北 | 5267762 | 2021-07-09 | 50 | 44.42857 | 41708 | 16757 | ⋯ | 1893068 | 0.9491697 | 0.8434051 | 791.7594 | 318.1047 | 211.6459 | 24276.80 | 12189.81 | 36466.61 | 35936.86 |\n| 北海道 | 01 | 北海道 | 北海道・東北 | 5267762 | 2021-07-08 | 62 | 41.00000 | 41658 | 22630 | ⋯ | 1856585 | 1.1769704 | 0.7783191 | 790.8102 | 429.5942 | 262.9770 | 23958.69 | 11978.16 | 35936.86 | 35244.28 |\n| 北海道 | 01 | 北海道 | 北海道・東北 | 5267762 | 2021-07-07 | 67 | 37.71429 | 41596 | 24146 | ⋯ | 1818005 | 1.2718874 | 0.7159451 | 789.6332 | 458.3730 | 274.0063 | 23529.10 | 11715.18 | 35244.28 | 34511.90 |\n| 北海道 | 01 | 北海道 | 北海道・東北 | 5267762 | 2021-07-06 | 34 | 33.57143 | 41529 | 23523 | ⋯ | 1777001 | 0.6454354 | 0.6372996 | 788.3614 | 446.5464 | 331.8487 | 23070.73 | 11441.18 | 34511.90 | 33733.51 |\n| 北海道 | 01 | 北海道 | 北海道・東北 | 5267762 | 2021-07-05 | 29 | 32.00000 | 41495 | 27674 | ⋯ | 1732100 | 0.5505184 | 0.6074686 | 787.7159 | 525.3464 | 327.0269 | 22624.18 | 11109.33 | 33733.51 | 32881.14 |\n\n",
            "text/html": [
              "<table class=\"dataframe\">\n",
              "<caption>A tibble: 6 × 25</caption>\n",
              "<thead>\n",
              "\t<tr><th scope=col>prefecture</th><th scope=col>code</th><th scope=col>prefecture_short</th><th scope=col>block</th><th scope=col>population</th><th scope=col>date</th><th scope=col>new_patients</th><th scope=col>patients_ma7</th><th scope=col>sum_patients</th><th scope=col>status1</th><th scope=col>⋯</th><th scope=col>cum_vaccinations</th><th scope=col>r_new_patients</th><th scope=col>r_patients_ma7</th><th scope=col>r_sum_patients</th><th scope=col>r_status1</th><th scope=col>r_status2</th><th scope=col>r_total_status1</th><th scope=col>r_total_status2</th><th scope=col>r_total_status_all</th><th scope=col>r_cum_vaccinations</th></tr>\n",
              "\t<tr><th scope=col>&lt;fct&gt;</th><th scope=col>&lt;fct&gt;</th><th scope=col>&lt;fct&gt;</th><th scope=col>&lt;fct&gt;</th><th scope=col>&lt;int&gt;</th><th scope=col>&lt;date&gt;</th><th scope=col>&lt;int&gt;</th><th scope=col>&lt;dbl&gt;</th><th scope=col>&lt;int&gt;</th><th scope=col>&lt;dbl&gt;</th><th scope=col>⋯</th><th scope=col>&lt;dbl&gt;</th><th scope=col>&lt;dbl&gt;</th><th scope=col>&lt;dbl&gt;</th><th scope=col>&lt;dbl&gt;</th><th scope=col>&lt;dbl&gt;</th><th scope=col>&lt;dbl&gt;</th><th scope=col>&lt;dbl&gt;</th><th scope=col>&lt;dbl&gt;</th><th scope=col>&lt;dbl&gt;</th><th scope=col>&lt;dbl&gt;</th></tr>\n",
              "</thead>\n",
              "<tbody>\n",
              "\t<tr><td>北海道</td><td>01</td><td>北海道</td><td>北海道・東北</td><td>5267762</td><td>2021-07-10</td><td>64</td><td>49.28571</td><td>41772</td><td>17713</td><td>⋯</td><td>1920974</td><td>1.2149372</td><td>0.9356101</td><td>792.9743</td><td>336.2529</td><td>209.7475</td><td>24613.05</td><td>12399.55</td><td>37012.61</td><td>36466.61</td></tr>\n",
              "\t<tr><td>北海道</td><td>01</td><td>北海道</td><td>北海道・東北</td><td>5267762</td><td>2021-07-09</td><td>50</td><td>44.42857</td><td>41708</td><td>16757</td><td>⋯</td><td>1893068</td><td>0.9491697</td><td>0.8434051</td><td>791.7594</td><td>318.1047</td><td>211.6459</td><td>24276.80</td><td>12189.81</td><td>36466.61</td><td>35936.86</td></tr>\n",
              "\t<tr><td>北海道</td><td>01</td><td>北海道</td><td>北海道・東北</td><td>5267762</td><td>2021-07-08</td><td>62</td><td>41.00000</td><td>41658</td><td>22630</td><td>⋯</td><td>1856585</td><td>1.1769704</td><td>0.7783191</td><td>790.8102</td><td>429.5942</td><td>262.9770</td><td>23958.69</td><td>11978.16</td><td>35936.86</td><td>35244.28</td></tr>\n",
              "\t<tr><td>北海道</td><td>01</td><td>北海道</td><td>北海道・東北</td><td>5267762</td><td>2021-07-07</td><td>67</td><td>37.71429</td><td>41596</td><td>24146</td><td>⋯</td><td>1818005</td><td>1.2718874</td><td>0.7159451</td><td>789.6332</td><td>458.3730</td><td>274.0063</td><td>23529.10</td><td>11715.18</td><td>35244.28</td><td>34511.90</td></tr>\n",
              "\t<tr><td>北海道</td><td>01</td><td>北海道</td><td>北海道・東北</td><td>5267762</td><td>2021-07-06</td><td>34</td><td>33.57143</td><td>41529</td><td>23523</td><td>⋯</td><td>1777001</td><td>0.6454354</td><td>0.6372996</td><td>788.3614</td><td>446.5464</td><td>331.8487</td><td>23070.73</td><td>11441.18</td><td>34511.90</td><td>33733.51</td></tr>\n",
              "\t<tr><td>北海道</td><td>01</td><td>北海道</td><td>北海道・東北</td><td>5267762</td><td>2021-07-05</td><td>29</td><td>32.00000</td><td>41495</td><td>27674</td><td>⋯</td><td>1732100</td><td>0.5505184</td><td>0.6074686</td><td>787.7159</td><td>525.3464</td><td>327.0269</td><td>22624.18</td><td>11109.33</td><td>33733.51</td><td>32881.14</td></tr>\n",
              "</tbody>\n",
              "</table>\n"
            ]
          },
          "metadata": {
            "tags": []
          }
        },
        {
          "output_type": "display_data",
          "data": {
            "text/plain": [
              "  prefecture code      prefecture_short block population date      \n",
              "1 全国       TOTAL/AVE 全国             全国  127138033  2021-04-17\n",
              "2 全国       TOTAL/AVE 全国             全国  127138033  2021-04-16\n",
              "3 全国       TOTAL/AVE 全国             全国  127138033  2021-04-15\n",
              "4 全国       TOTAL/AVE 全国             全国  127138033  2021-04-14\n",
              "5 全国       TOTAL/AVE 全国             全国  127138033  2021-04-13\n",
              "6 全国       TOTAL/AVE 全国             全国  127138033  2021-04-12\n",
              "  new_patients patients_ma7 sum_patients status1 ⋯ cum_vaccinations\n",
              "1 4722         3772.714     527247       7670    ⋯ 32390           \n",
              "2 4519         3616.714     522647       9945    ⋯ 22445           \n",
              "3 4570         3466.429     518187       8593    ⋯ 13852           \n",
              "4 4302         3300.000     513569       4842    ⋯  9010           \n",
              "5 3444         3179.143     509627       4217    ⋯  4793           \n",
              "6 2094         3063.571     506272       4793    ⋯     0           \n",
              "  r_new_patients r_patients_ma7 r_sum_patients r_status1 r_status2\n",
              "1 3.714074       2.967416       414.7044       6.032813  0        \n",
              "2 3.554405       2.844715       411.0863       7.822207  0        \n",
              "3 3.594518       2.726508       407.5783       6.758796  0        \n",
              "4 3.383724       2.595604       403.9460       3.808459  0        \n",
              "5 2.708867       2.500544       400.8454       3.316867  0        \n",
              "6 1.647029       2.409642       398.2066       3.769918  0        \n",
              "  r_total_status1 r_total_status2 r_total_status_all r_cum_vaccinations\n",
              "1 31.509061       0               31.509061          25.476248         \n",
              "2 25.476248       0               25.476248          17.654041         \n",
              "3 17.654041       0               17.654041          10.895245         \n",
              "4 10.895245       0               10.895245           7.086786         \n",
              "5  7.086786       0                7.086786           3.769918         \n",
              "6  3.769918       0                3.769918           0.000000         "
            ],
            "text/latex": "A tibble: 6 × 25\n\\begin{tabular}{lllllllllllllllllllll}\n prefecture & code & prefecture\\_short & block & population & date & new\\_patients & patients\\_ma7 & sum\\_patients & status1 & ⋯ & cum\\_vaccinations & r\\_new\\_patients & r\\_patients\\_ma7 & r\\_sum\\_patients & r\\_status1 & r\\_status2 & r\\_total\\_status1 & r\\_total\\_status2 & r\\_total\\_status\\_all & r\\_cum\\_vaccinations\\\\\n <fct> & <fct> & <fct> & <fct> & <int> & <date> & <int> & <dbl> & <int> & <dbl> & ⋯ & <dbl> & <dbl> & <dbl> & <dbl> & <dbl> & <dbl> & <dbl> & <dbl> & <dbl> & <dbl>\\\\\n\\hline\n\t 全国 & TOTAL/AVE & 全国 & 全国 & 127138033 & 2021-04-17 & 4722 & 3772.714 & 527247 & 7670 & ⋯ & 32390 & 3.714074 & 2.967416 & 414.7044 & 6.032813 & 0 & 31.509061 & 0 & 31.509061 & 25.476248\\\\\n\t 全国 & TOTAL/AVE & 全国 & 全国 & 127138033 & 2021-04-16 & 4519 & 3616.714 & 522647 & 9945 & ⋯ & 22445 & 3.554405 & 2.844715 & 411.0863 & 7.822207 & 0 & 25.476248 & 0 & 25.476248 & 17.654041\\\\\n\t 全国 & TOTAL/AVE & 全国 & 全国 & 127138033 & 2021-04-15 & 4570 & 3466.429 & 518187 & 8593 & ⋯ & 13852 & 3.594518 & 2.726508 & 407.5783 & 6.758796 & 0 & 17.654041 & 0 & 17.654041 & 10.895245\\\\\n\t 全国 & TOTAL/AVE & 全国 & 全国 & 127138033 & 2021-04-14 & 4302 & 3300.000 & 513569 & 4842 & ⋯ &  9010 & 3.383724 & 2.595604 & 403.9460 & 3.808459 & 0 & 10.895245 & 0 & 10.895245 &  7.086786\\\\\n\t 全国 & TOTAL/AVE & 全国 & 全国 & 127138033 & 2021-04-13 & 3444 & 3179.143 & 509627 & 4217 & ⋯ &  4793 & 2.708867 & 2.500544 & 400.8454 & 3.316867 & 0 &  7.086786 & 0 &  7.086786 &  3.769918\\\\\n\t 全国 & TOTAL/AVE & 全国 & 全国 & 127138033 & 2021-04-12 & 2094 & 3063.571 & 506272 & 4793 & ⋯ &     0 & 1.647029 & 2.409642 & 398.2066 & 3.769918 & 0 &  3.769918 & 0 &  3.769918 &  0.000000\\\\\n\\end{tabular}\n",
            "text/markdown": "\nA tibble: 6 × 25\n\n| prefecture &lt;fct&gt; | code &lt;fct&gt; | prefecture_short &lt;fct&gt; | block &lt;fct&gt; | population &lt;int&gt; | date &lt;date&gt; | new_patients &lt;int&gt; | patients_ma7 &lt;dbl&gt; | sum_patients &lt;int&gt; | status1 &lt;dbl&gt; | ⋯ ⋯ | cum_vaccinations &lt;dbl&gt; | r_new_patients &lt;dbl&gt; | r_patients_ma7 &lt;dbl&gt; | r_sum_patients &lt;dbl&gt; | r_status1 &lt;dbl&gt; | r_status2 &lt;dbl&gt; | r_total_status1 &lt;dbl&gt; | r_total_status2 &lt;dbl&gt; | r_total_status_all &lt;dbl&gt; | r_cum_vaccinations &lt;dbl&gt; |\n|---|---|---|---|---|---|---|---|---|---|---|---|---|---|---|---|---|---|---|---|---|\n| 全国 | TOTAL/AVE | 全国 | 全国 | 127138033 | 2021-04-17 | 4722 | 3772.714 | 527247 | 7670 | ⋯ | 32390 | 3.714074 | 2.967416 | 414.7044 | 6.032813 | 0 | 31.509061 | 0 | 31.509061 | 25.476248 |\n| 全国 | TOTAL/AVE | 全国 | 全国 | 127138033 | 2021-04-16 | 4519 | 3616.714 | 522647 | 9945 | ⋯ | 22445 | 3.554405 | 2.844715 | 411.0863 | 7.822207 | 0 | 25.476248 | 0 | 25.476248 | 17.654041 |\n| 全国 | TOTAL/AVE | 全国 | 全国 | 127138033 | 2021-04-15 | 4570 | 3466.429 | 518187 | 8593 | ⋯ | 13852 | 3.594518 | 2.726508 | 407.5783 | 6.758796 | 0 | 17.654041 | 0 | 17.654041 | 10.895245 |\n| 全国 | TOTAL/AVE | 全国 | 全国 | 127138033 | 2021-04-14 | 4302 | 3300.000 | 513569 | 4842 | ⋯ |  9010 | 3.383724 | 2.595604 | 403.9460 | 3.808459 | 0 | 10.895245 | 0 | 10.895245 |  7.086786 |\n| 全国 | TOTAL/AVE | 全国 | 全国 | 127138033 | 2021-04-13 | 3444 | 3179.143 | 509627 | 4217 | ⋯ |  4793 | 2.708867 | 2.500544 | 400.8454 | 3.316867 | 0 |  7.086786 | 0 |  7.086786 |  3.769918 |\n| 全国 | TOTAL/AVE | 全国 | 全国 | 127138033 | 2021-04-12 | 2094 | 3063.571 | 506272 | 4793 | ⋯ |     0 | 1.647029 | 2.409642 | 398.2066 | 3.769918 | 0 |  3.769918 | 0 |  3.769918 |  0.000000 |\n\n",
            "text/html": [
              "<table class=\"dataframe\">\n",
              "<caption>A tibble: 6 × 25</caption>\n",
              "<thead>\n",
              "\t<tr><th scope=col>prefecture</th><th scope=col>code</th><th scope=col>prefecture_short</th><th scope=col>block</th><th scope=col>population</th><th scope=col>date</th><th scope=col>new_patients</th><th scope=col>patients_ma7</th><th scope=col>sum_patients</th><th scope=col>status1</th><th scope=col>⋯</th><th scope=col>cum_vaccinations</th><th scope=col>r_new_patients</th><th scope=col>r_patients_ma7</th><th scope=col>r_sum_patients</th><th scope=col>r_status1</th><th scope=col>r_status2</th><th scope=col>r_total_status1</th><th scope=col>r_total_status2</th><th scope=col>r_total_status_all</th><th scope=col>r_cum_vaccinations</th></tr>\n",
              "\t<tr><th scope=col>&lt;fct&gt;</th><th scope=col>&lt;fct&gt;</th><th scope=col>&lt;fct&gt;</th><th scope=col>&lt;fct&gt;</th><th scope=col>&lt;int&gt;</th><th scope=col>&lt;date&gt;</th><th scope=col>&lt;int&gt;</th><th scope=col>&lt;dbl&gt;</th><th scope=col>&lt;int&gt;</th><th scope=col>&lt;dbl&gt;</th><th scope=col>⋯</th><th scope=col>&lt;dbl&gt;</th><th scope=col>&lt;dbl&gt;</th><th scope=col>&lt;dbl&gt;</th><th scope=col>&lt;dbl&gt;</th><th scope=col>&lt;dbl&gt;</th><th scope=col>&lt;dbl&gt;</th><th scope=col>&lt;dbl&gt;</th><th scope=col>&lt;dbl&gt;</th><th scope=col>&lt;dbl&gt;</th><th scope=col>&lt;dbl&gt;</th></tr>\n",
              "</thead>\n",
              "<tbody>\n",
              "\t<tr><td>全国</td><td>TOTAL/AVE</td><td>全国</td><td>全国</td><td>127138033</td><td>2021-04-17</td><td>4722</td><td>3772.714</td><td>527247</td><td>7670</td><td>⋯</td><td>32390</td><td>3.714074</td><td>2.967416</td><td>414.7044</td><td>6.032813</td><td>0</td><td>31.509061</td><td>0</td><td>31.509061</td><td>25.476248</td></tr>\n",
              "\t<tr><td>全国</td><td>TOTAL/AVE</td><td>全国</td><td>全国</td><td>127138033</td><td>2021-04-16</td><td>4519</td><td>3616.714</td><td>522647</td><td>9945</td><td>⋯</td><td>22445</td><td>3.554405</td><td>2.844715</td><td>411.0863</td><td>7.822207</td><td>0</td><td>25.476248</td><td>0</td><td>25.476248</td><td>17.654041</td></tr>\n",
              "\t<tr><td>全国</td><td>TOTAL/AVE</td><td>全国</td><td>全国</td><td>127138033</td><td>2021-04-15</td><td>4570</td><td>3466.429</td><td>518187</td><td>8593</td><td>⋯</td><td>13852</td><td>3.594518</td><td>2.726508</td><td>407.5783</td><td>6.758796</td><td>0</td><td>17.654041</td><td>0</td><td>17.654041</td><td>10.895245</td></tr>\n",
              "\t<tr><td>全国</td><td>TOTAL/AVE</td><td>全国</td><td>全国</td><td>127138033</td><td>2021-04-14</td><td>4302</td><td>3300.000</td><td>513569</td><td>4842</td><td>⋯</td><td> 9010</td><td>3.383724</td><td>2.595604</td><td>403.9460</td><td>3.808459</td><td>0</td><td>10.895245</td><td>0</td><td>10.895245</td><td> 7.086786</td></tr>\n",
              "\t<tr><td>全国</td><td>TOTAL/AVE</td><td>全国</td><td>全国</td><td>127138033</td><td>2021-04-13</td><td>3444</td><td>3179.143</td><td>509627</td><td>4217</td><td>⋯</td><td> 4793</td><td>2.708867</td><td>2.500544</td><td>400.8454</td><td>3.316867</td><td>0</td><td> 7.086786</td><td>0</td><td> 7.086786</td><td> 3.769918</td></tr>\n",
              "\t<tr><td>全国</td><td>TOTAL/AVE</td><td>全国</td><td>全国</td><td>127138033</td><td>2021-04-12</td><td>2094</td><td>3063.571</td><td>506272</td><td>4793</td><td>⋯</td><td>    0</td><td>1.647029</td><td>2.409642</td><td>398.2066</td><td>3.769918</td><td>0</td><td> 3.769918</td><td>0</td><td> 3.769918</td><td> 0.000000</td></tr>\n",
              "</tbody>\n",
              "</table>\n"
            ]
          },
          "metadata": {
            "tags": []
          }
        },
        {
          "output_type": "display_data",
          "data": {
            "text/plain": [
              "   prefecture          code      prefecture_short          block    \n",
              " 全国   :  91   TOTAL/AVE:  91   全国   :  91     九州・沖縄  :720  \n",
              " 北海道 :  90   01       :  90   北海道 :  90     北海道・東北:630  \n",
              " 青森県 :  90   02       :  90   青森   :  90     関東        :630  \n",
              " 岩手県 :  90   03       :  90   岩手   :  90     甲信越      :540  \n",
              " 宮城県 :  90   04       :  90   宮城   :  90     近畿        :540  \n",
              " 秋田県 :  90   05       :  90   秋田   :  90     中国        :450  \n",
              " (Other):3780   (Other)  :3780   (Other):3780     (Other)     :811  \n",
              "   population             date             new_patients     patients_ma7     \n",
              " Min.   :   561175   Min.   :2021-04-12   Min.   :   0.0   Min.   : -13.571  \n",
              " 1st Qu.:  1095903   1st Qu.:2021-05-04   1st Qu.:   6.0   1st Qu.:   7.857  \n",
              " Median :  1769880   Median :2021-05-27   Median :  21.0   Median :  24.429  \n",
              " Mean   :  5325615   Mean   :2021-05-26   Mean   : 144.1   Mean   : 145.598  \n",
              " 3rd Qu.:  2921436   3rd Qu.:2021-06-18   3rd Qu.:  65.0   3rd Qu.:  69.714  \n",
              " Max.   :127138033   Max.   :2021-07-11   Max.   :7057.0   Max.   :6369.143  \n",
              "                                                                             \n",
              "  sum_patients       status1          status2         status_all     \n",
              " Min.   :   292   Min.   :     0   Min.   :     0   Min.   :      1  \n",
              " 1st Qu.:  2020   1st Qu.:  1025   1st Qu.:     0   1st Qu.:   1128  \n",
              " Median :  4324   Median :  4266   Median :   979   Median :   6395  \n",
              " Mean   : 29157   Mean   : 14693   Mean   :  8141   Mean   :  22834  \n",
              " 3rd Qu.: 11427   3rd Qu.:  9331   3rd Qu.:  5105   3rd Qu.:  14707  \n",
              " Max.   :817461   Max.   :684316   Max.   :647313   Max.   :1229357  \n",
              "                                                                     \n",
              " total_status1      total_status2      total_status_all   cum_vaccinations  \n",
              " Min.   :       0   Min.   :       0   Min.   :       0   Min.   :       0  \n",
              " 1st Qu.:   12827   1st Qu.:       0   1st Qu.:   13325   1st Qu.:   12356  \n",
              " Median :   88492   Median :   11629   Median :  102760   Median :   95034  \n",
              " Mean   :  422959   Mean   :  151002   Mean   :  573960   Mean   :  551166  \n",
              " 3rd Qu.:  275129   3rd Qu.:   90759   3rd Qu.:  370263   3rd Qu.:  355770  \n",
              " Max.   :31930904   Max.   :17798829   Max.   :49729733   Max.   :48920871  \n",
              "                                                                            \n",
              " r_new_patients    r_patients_ma7    r_sum_patients     r_status1      \n",
              " Min.   : 0.0000   Min.   :-0.7211   Min.   :  34.0   Min.   :   0.00  \n",
              " 1st Qu.: 0.4562   1st Qu.: 0.5971   1st Qu.: 181.0   1st Qu.:  53.88  \n",
              " Median : 1.2300   Median : 1.3539   Median : 265.7   Median : 318.16  \n",
              " Mean   : 2.0024   Mean   : 2.0326   Mean   : 353.6   Mean   : 298.00  \n",
              " 3rd Qu.: 2.5151   3rd Qu.: 2.5838   3rd Qu.: 456.5   3rd Qu.: 485.92  \n",
              " Max.   :22.6115   Max.   :17.9253   Max.   :1439.0   Max.   :1963.33  \n",
              "                                                                       \n",
              "   r_status2      r_total_status1   r_total_status2   r_total_status_all\n",
              " Min.   :  0.00   Min.   :    0.0   Min.   :    0.0   Min.   :    0.0   \n",
              " 1st Qu.:  0.00   1st Qu.:  671.1   1st Qu.:    0.0   1st Qu.:  685.3   \n",
              " Median : 51.99   Median : 4968.7   Median :  640.8   Median : 5631.4   \n",
              " Mean   :169.65   Mean   : 8728.8   Mean   : 3282.7   Mean   :12011.5   \n",
              " 3rd Qu.:329.69   3rd Qu.:16260.9   3rd Qu.: 5130.3   3rd Qu.:21326.9   \n",
              " Max.   :897.68   Max.   :33558.1   Max.   :20988.3   Max.   :54546.3   \n",
              "                                                                        \n",
              " r_cum_vaccinations\n",
              " Min.   :    0.0   \n",
              " 1st Qu.:  643.1   \n",
              " Median : 5202.9   \n",
              " Mean   :11548.1   \n",
              " 3rd Qu.:20452.4   \n",
              " Max.   :53558.4   \n",
              "                   "
            ]
          },
          "metadata": {
            "tags": []
          }
        }
      ]
    },
    {
      "cell_type": "code",
      "metadata": {
        "id": "HqqcNRIyOSPd"
      },
      "source": [
        "# 不要になったデータは消す。\n",
        "rm(vaccinations, patients, rows_w_na, pref_pop, joined_data)"
      ],
      "execution_count": null,
      "outputs": []
    },
    {
      "cell_type": "markdown",
      "metadata": {
        "id": "OeEL7cy83yBz"
      },
      "source": [
        "## 8.CSVを書き出す\n"
      ]
    },
    {
      "cell_type": "markdown",
      "metadata": {
        "id": "y-utzG4d37s-"
      },
      "source": [
        "最後に、処理したデータをcsv（コンマ区切り形式）のファイルに書き出して、終了です。書き出す前に、あらかじめrenameでカラム名を日本語に直してもよいでしょう。\n",
        "\n",
        "Colabの場合は、画面左端の上から４番目あたりにある、ファイルのアイコンを押すと、「processed_data.csv」というファイルができあがっているのが見えるはずです。右クリック、または縦に３つ並んだ点のマークを押すと、ダウンロードが選べます。ローカルなら、お使いのPCに直接セーブされます。\n",
        "\n",
        "csvは、開き方によっては、文字化けすることがあります。エンコードを調べてみて下さい。S-JISで開こうとして化けていたら、UTF-8を指定して下さい。\n"
      ]
    },
    {
      "cell_type": "code",
      "metadata": {
        "id": "n_ZvGnxK3xnV"
      },
      "source": [
        "joined_data_ratio %>% write_csv(\"processed_data.csv\")"
      ],
      "execution_count": null,
      "outputs": []
    },
    {
      "cell_type": "markdown",
      "metadata": {
        "id": "t4b3Rkzt5Brt"
      },
      "source": [
        "あとは、このデータをFlourishに渡してやるだけです。\n",
        "\n",
        "同じデータの見せ方を変えているだけなのですが、ラベルなどの手直しを不要にしたいので、動くチャートと、折れ線・積み上げ棒グラフ用に、別々に書き出しておきましょう。\n"
      ]
    },
    {
      "cell_type": "code",
      "metadata": {
        "id": "2dyy5jwh1-oT"
      },
      "source": [
        "xy_chart <- joined_data_ratio %>% \n",
        "  select(\n",
        "    \"都道府県名\"      = prefecture_short,\n",
        "    \"都道府県コード\"  = code,\n",
        "    \"地方\"            = block,\n",
        "    \"日付\"            = date,\n",
        "    \"新規感染者の７日移動平均\"\n",
        "                      = r_patients_ma7,\n",
        "    \"接種累計（いずれも人口10万人あたり）\"\n",
        "                      = r_total_status_all\n",
        "    )\n",
        "xy_chart %>% write_csv(\"data_for_xy_chart.csv\")\n",
        "\n",
        "bar_and_line <- joined_data_ratio %>%\n",
        "  mutate(\n",
        "    r_cum_status1 = r_total_status1 - r_status1,\n",
        "    r_cum_status2 = r_total_status2 - r_status2\n",
        "  ) %>% \n",
        "  select(\n",
        "    \"都道府県名\"      = prefecture_short,\n",
        "    \"都道府県コード\"  = code,\n",
        "    \"地方\"            = block,\n",
        "    \"日付\"            = date,\n",
        "    \"新規感染者\"      = r_new_patients,\n",
        "    \"７日移動平均\"\n",
        "                      = r_patients_ma7,\n",
        "    \"接種途中（前日までの累計）\" = r_cum_status1,\n",
        "    \"接種途中（当日）\"        = r_status1, \n",
        "    \"接種完了（前日までの累計）\" = r_cum_status2,\n",
        "    \"接種完了（当日）\"        = r_status2\n",
        "    )\n",
        "bar_and_line %>% write_csv(\"data_for_bar_line_chart.csv\")\n"
      ],
      "execution_count": null,
      "outputs": []
    },
    {
      "cell_type": "markdown",
      "metadata": {
        "id": "aZVPlzlg182h"
      },
      "source": [
        "\n",
        "お疲れさまでした。"
      ]
    }
  ]
}