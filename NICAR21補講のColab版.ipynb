{
  "nbformat": 4,
  "nbformat_minor": 0,
  "metadata": {
    "colab": {
      "name": "NICAR21補講のColab版.ipynb",
      "provenance": [],
      "collapsed_sections": [],
      "toc_visible": true
    },
    "kernelspec": {
      "name": "python3",
      "display_name": "Python 3"
    }
  },
  "cells": [
    {
      "cell_type": "markdown",
      "metadata": {
        "id": "H6daGOzItS72"
      },
      "source": [
        "# Google Colab版「First Python Notebook」\r\n",
        "\r\n",
        "update: Mar12, 2021\r\n"
      ]
    },
    {
      "cell_type": "markdown",
      "metadata": {
        "id": "hTGLtuqDXdrB"
      },
      "source": [
        "## 0) これは何？\r\n"
      ]
    },
    {
      "cell_type": "markdown",
      "metadata": {
        "id": "TFEnQDnGoDLd"
      },
      "source": [
        "[First Python Notebook](https://www.firstpythonnotebook.org/) の Google Colabolatory 版として、そのまま手順を追ってみたもの。環境構築でつまずきそうで気後れする人も、Colab なら大丈夫なのでは？ というココロ。もちろん、非公式。私自身の復習も兼ねているので、お使いの方は、お手数でもご自分のドライブにコピーして、そちらを触ってほしい。\r\n",
        "\r\n",
        "やっているのは、米カリフォルニア州の政治資金についての分析。具体的には、マリファナ解禁について、賛否どちらの立場で誰がどのぐらい献金をしているのか、を調べる。詳しい説明は本家サイトに任せ、ここでは、本家には載っていない「コードの実行結果」を見られるようにした。\r\n",
        "\r\n",
        "本家は、[**NICAR21**](https://nicar21.pathable.co/) の補講を兼ねた[ハンズオン](https://palewi.re/posts/2021/02/23/nicar21-after-party-first-python-notebook/)にもなった。そのときの講師陣は、Ben Welsh、Derek Willis、Cheryl Phillips、Andrea Suozzo ら、誠に恐れ多い顔ぶれ。誰だろう？ と検索する方のために注記すると、Derek はバスケットボール選手ではなく ProPublica のほうね。すばらしい教材と、辛抱強く教えてくれた根気に深謝します。\r\n",
        "\r\n"
      ]
    },
    {
      "cell_type": "markdown",
      "metadata": {
        "id": "Xj-1puAZn8H8"
      },
      "source": [
        "### 本家との違いは？\r\n",
        "\r\n",
        "本家はローカルに pipenv でサンドボックス（その中でいろいろ試せるお砂場）環境を構築し、そこで pandas と Jupyter Lab を使っている。また、下準備として、ターミナルからのコマンド入力や、Python のバージョン確認、pipenv の使い方にも丁寧に触れているが、こちらでは省略する。そこを飛ばしてハードルを下げ、まずは体験する、というのが狙いだから。\r\n",
        "\r\n",
        "でも、時間の許す人は、きちんと本家に当たって、一からやってみる価値はある。プロローグから２章まで、「Prerequisites」「Hello pipenv」「Hello notebook」の部分。\r\n",
        "\r\n",
        "あと、ところどころに「蛇足」を付した。\r\n",
        "\r\n",
        "\r\n",
        "### 操作に困ったら？\r\n",
        "\r\n",
        "Colab のショートカットキーは、Windows なら <kbd>Ctrl</kbd> + <kbd>M</kbd> <kbd>H</kbd>（<kbd>Ctrl</kbd> を押しっぱなしにして、順に <kbd>M</kbd> と <kbd>H</kbd> を押す）で一覧が表示されるので、活用を。Mac なら <kbd>Ctrl</kbd> の代わりに <kbd>⌘</kbd> キーでもよい。\r\n",
        "\r\n",
        "\r\n",
        "### その他\r\n",
        "\r\n",
        "グラフ作成には [Altair](https://altair-viz.github.io/) を使っている。新顔のライブラリなので、まだ日本語文献は多くない。私のローカル環境では、補講の際に型エラーが出て、グラフ作成がうまくいかなかった。その直前の10傑の表も、講師の画面とは違っていた。その原因を探りたい、というのも、これを作ったごく個人的な理由。"
      ]
    },
    {
      "cell_type": "markdown",
      "metadata": {
        "id": "oebjPI35n8Ok"
      },
      "source": [
        "---\r\n",
        "\r\n",
        "## 3) pandasを使えるようにする\r\n",
        "\r\n",
        "#### [Chapter 3: Hello pandas](https://www.firstpythonnotebook.org/pandas/index.html)\r\n"
      ]
    },
    {
      "cell_type": "markdown",
      "metadata": {
        "id": "HQ83NohGoJq3"
      },
      "source": [
        "\r\n",
        "※章立ての番号は本家に合わせた。こちらは 1) と2) は欠番。\r\n",
        "\r\n"
      ]
    },
    {
      "cell_type": "code",
      "metadata": {
        "id": "i7gDTpdGtJ_I"
      },
      "source": [
        "import pandas as pd"
      ],
      "execution_count": null,
      "outputs": []
    },
    {
      "cell_type": "markdown",
      "metadata": {
        "id": "nE-tMnfxvsn-"
      },
      "source": [
        "この講座のメインツール [**pandas**](https://pandas.pydata.org/docs/) を呼び込んで、プログラム中でいつでも使えるようにする。pandas とは、表形式のデータをまとめて扱うのに適したライブラリ（追加ソフト群）。\r\n",
        "\r\n",
        "上のコードでは、単に pandas をインポートするだけでなく、短く「pd」と名前をつけ直している。コードを書くときに繰り返し出てくるものは、短い方が楽なので、これが pandas の通り名になっている。あくまで慣行なので、従わなくてもよいが、こうしておいたほうが、先達にコードを見てもらったり、ほかの人が書いたコードを読んで勉強するときにも、迷わないはず。ということで、初心者のうちは従っておく。\r\n",
        "\r\n",
        "pandas は縦横二次元の「データフレーム」と、一次元の「シリーズ」という形式のものを使う。データフレームは、Excel のシートを思い浮かべればよい。表計算ソフトや、R の data.frame、SQL を使ったことのある人には、抵抗はないはず。  \r\n",
        "\r\n",
        "注意点は、縦方向には同種のデータが並ぶ、ということ。つまり、あるカラム（列）に入っているものは、数値なら数値、日付なら日付、文字列なら文字列、で揃っていなければならない。これをデータの「型」が揃っている、という。シリーズも、データはすべて同じ型でないといけない。\r\n",
        "Python のリストを作り、それを pandas のシリーズに変換してみる。その後、合計、最大、最小、各種の代表値、標準偏差を見てみる。  \r\n",
        "\r\n",
        "<font color = 'gray'>\r\n",
        "ここで使っている、１つだけのイコールは、「等しい」という等号の意味ではなく、右辺を左辺に代入して保存するよう、指示するものだ。直感的ではないかもしれないが、大方のプログラミング言語に共通する。そのうち気にならなくなるはずだ。「等しい」の意味では、等号を複数並べて使う。</font>"
      ]
    },
    {
      "cell_type": "code",
      "metadata": {
        "colab": {
          "base_uri": "https://localhost:8080/"
        },
        "id": "mM9U_XPm_KeM",
        "collapsed": true,
        "outputId": "5f6e84bb-f627-41a7-c0b7-50f18e47f4be"
      },
      "source": [
        "my_list = [2, 4, 6, 8]\r\n",
        "print(my_list)"
      ],
      "execution_count": null,
      "outputs": [
        {
          "output_type": "stream",
          "text": [
            "[2, 4, 6, 8]\n"
          ],
          "name": "stdout"
        }
      ]
    },
    {
      "cell_type": "markdown",
      "metadata": {
        "id": "g4qWj4Fz_5fw"
      },
      "source": [
        "リストの内容は、好きなように変えて結構。いろいろ試してみて。  \r\n",
        "pandas のシリーズにするには、以下のように書く。シリーズにしたら、後にいろいろな指示をつけることで、各種の計算ができる。なお、データ型は「整数」と表示されている。  \r\n",
        "\r\n",
        "<font color = 'gray'>\r\n",
        "変数名や関数名の大文字と小文字は区別されるので、下のコードで Series を series と入力すると、エラーになる。\r\n",
        "</font>"
      ]
    },
    {
      "cell_type": "code",
      "metadata": {
        "colab": {
          "base_uri": "https://localhost:8080/"
        },
        "id": "BI1OOU3kATeZ",
        "outputId": "2ba0a0cf-59ad-486e-c21f-fe75415200cc"
      },
      "source": [
        "my_series = pd.Series(my_list)\r\n",
        "print(my_series)"
      ],
      "execution_count": null,
      "outputs": [
        {
          "output_type": "stream",
          "text": [
            "0    2\n",
            "1    4\n",
            "2    6\n",
            "3    8\n",
            "dtype: int64\n"
          ],
          "name": "stdout"
        }
      ]
    },
    {
      "cell_type": "markdown",
      "metadata": {
        "id": "EETuA-ixBRKF"
      },
      "source": [
        "まず、合計を計算する。"
      ]
    },
    {
      "cell_type": "code",
      "metadata": {
        "colab": {
          "base_uri": "https://localhost:8080/"
        },
        "id": "aE4YBf53BXRD",
        "outputId": "4291dad0-fbbe-4713-fe08-c8d65db48470"
      },
      "source": [
        "my_series.sum()"
      ],
      "execution_count": null,
      "outputs": [
        {
          "output_type": "execute_result",
          "data": {
            "text/plain": [
              "20"
            ]
          },
          "metadata": {
            "tags": []
          },
          "execution_count": 4
        }
      ]
    },
    {
      "cell_type": "markdown",
      "metadata": {
        "id": "LWIfz0vlBfa-"
      },
      "source": [
        "最大値は？"
      ]
    },
    {
      "cell_type": "code",
      "metadata": {
        "colab": {
          "base_uri": "https://localhost:8080/"
        },
        "id": "LEmyp9j7BkBd",
        "outputId": "053091b9-8e8d-46fb-ba06-b7ae2abb1543"
      },
      "source": [
        "my_series.max()"
      ],
      "execution_count": null,
      "outputs": [
        {
          "output_type": "execute_result",
          "data": {
            "text/plain": [
              "8"
            ]
          },
          "metadata": {
            "tags": []
          },
          "execution_count": 5
        }
      ]
    },
    {
      "cell_type": "markdown",
      "metadata": {
        "id": "669rZI7sBngL"
      },
      "source": [
        "最小値は？"
      ]
    },
    {
      "cell_type": "code",
      "metadata": {
        "colab": {
          "base_uri": "https://localhost:8080/"
        },
        "id": "XtUQzOvjBsL3",
        "outputId": "e3d0f814-859e-43a4-d275-5dde3e66e43f"
      },
      "source": [
        "my_series.min()"
      ],
      "execution_count": null,
      "outputs": [
        {
          "output_type": "execute_result",
          "data": {
            "text/plain": [
              "2"
            ]
          },
          "metadata": {
            "tags": []
          },
          "execution_count": 6
        }
      ]
    },
    {
      "cell_type": "markdown",
      "metadata": {
        "id": "TWZoDNWKBvPK"
      },
      "source": [
        "各種の代表値を計算してみる。本家にはないが、最頻値もやってみる。"
      ]
    },
    {
      "cell_type": "code",
      "metadata": {
        "colab": {
          "base_uri": "https://localhost:8080/"
        },
        "id": "_4ZllmEKB-CP",
        "outputId": "a10700fb-5a69-4701-a6b8-91a91a453ae5"
      },
      "source": [
        "print(\"mean:\", my_series.mean())\r\n",
        "print(\"median:\", my_series.median())\r\n",
        "print(\"mode:\", my_series.mode())"
      ],
      "execution_count": null,
      "outputs": [
        {
          "output_type": "stream",
          "text": [
            "mean: 5.0\n",
            "median: 5.0\n",
            "mode: 0    2\n",
            "1    4\n",
            "2    6\n",
            "3    8\n",
            "dtype: int64\n"
          ],
          "name": "stdout"
        }
      ]
    },
    {
      "cell_type": "markdown",
      "metadata": {
        "id": "O23RQRj5CeXt"
      },
      "source": [
        "<font color = 'gray'>最頻値は、同頻度のものが複数あると、すべて返してくるようだ。一峰型にしてみると、こうなる。</font>"
      ]
    },
    {
      "cell_type": "code",
      "metadata": {
        "colab": {
          "base_uri": "https://localhost:8080/"
        },
        "id": "XKtgKY8HCpUz",
        "outputId": "142ca593-db0e-4987-b66a-3c99ff073662"
      },
      "source": [
        "my_list2 = [1, 1, 1, 2, 3, 4, 4, 4, 4, 5, 5]\r\n",
        "my_series2 = pd.Series(my_list2)\r\n",
        "my_series2.mode()"
      ],
      "execution_count": null,
      "outputs": [
        {
          "output_type": "execute_result",
          "data": {
            "text/plain": [
              "0    4\n",
              "dtype: int64"
            ]
          },
          "metadata": {
            "tags": []
          },
          "execution_count": 8
        }
      ]
    },
    {
      "cell_type": "markdown",
      "metadata": {
        "id": "wGdY30GHDCc7"
      },
      "source": [
        "脱線したが、本家に沿って標準偏差を計算してみる。"
      ]
    },
    {
      "cell_type": "code",
      "metadata": {
        "colab": {
          "base_uri": "https://localhost:8080/"
        },
        "id": "0OM-qTs8DR-R",
        "outputId": "7bc18503-a246-410c-f49f-d169a7b473d0"
      },
      "source": [
        "my_series.std()"
      ],
      "execution_count": null,
      "outputs": [
        {
          "output_type": "execute_result",
          "data": {
            "text/plain": [
              "2.581988897471611"
            ]
          },
          "metadata": {
            "tags": []
          },
          "execution_count": 9
        }
      ]
    },
    {
      "cell_type": "markdown",
      "metadata": {
        "id": "ChjgofrJEyMi"
      },
      "source": [
        "<font color ='gray'>富士山麓オウム鳴く……でなく、2.5819……が返ってきているので、N ではなく N-1 で割るほうの分散の平方根だ。つまり、NumPy とはデフォルトの挙動が違うということになる。ドキュメントにもその旨記載がある。もし変えたければ、ddof = 0 などのオプションをつける必要がある。ddof のデフォルト値は1。    \r\n",
        "なお、[三重大・奥村先生のサイト](https://oku.edu.mie-u.ac.jp/~okumura/stat/basics.html)など参照のこと。</font>  \r\n",
        "\r\n",
        "さて、シリーズやデータフレームについて調べるときのおすすめが、これ。`describe()` は項目数・mean・標準偏差・最小値・パーセンタイル値（50%が median に相当）・最大値・データ型の情報を一度に返してくれる。"
      ]
    },
    {
      "cell_type": "code",
      "metadata": {
        "colab": {
          "base_uri": "https://localhost:8080/"
        },
        "id": "-NfFt3CIQ18Q",
        "outputId": "ea8a9d06-f733-4105-be8f-8db8d2bbbe53"
      },
      "source": [
        "my_series.describe()"
      ],
      "execution_count": null,
      "outputs": [
        {
          "output_type": "execute_result",
          "data": {
            "text/plain": [
              "count    4.000000\n",
              "mean     5.000000\n",
              "std      2.581989\n",
              "min      2.000000\n",
              "25%      3.500000\n",
              "50%      5.000000\n",
              "75%      6.500000\n",
              "max      8.000000\n",
              "dtype: float64"
            ]
          },
          "metadata": {
            "tags": []
          },
          "execution_count": 10
        }
      ]
    },
    {
      "cell_type": "markdown",
      "metadata": {
        "id": "Yii54CPYSPBN"
      },
      "source": [
        "---\r\n",
        "\r\n",
        "## 4) カリフォルニア州の制度の説明\r\n",
        "\r\n",
        "#### [Chapter 4: Hello money in politics](https://www.firstpythonnotebook.org/money/index.html)\r\n"
      ]
    },
    {
      "cell_type": "markdown",
      "metadata": {
        "id": "gTJW9DTnoecq"
      },
      "source": [
        "\r\n",
        "※省略。本家を当たって下さい。\r\n",
        "\r\n"
      ]
    },
    {
      "cell_type": "markdown",
      "metadata": {
        "id": "NUjAI1YLUl15"
      },
      "source": [
        "---\r\n",
        "\r\n",
        "## 5) データを読み込む\r\n",
        "\r\n",
        "#### [Cahpter 5: Hello data](https://www.firstpythonnotebook.org/dataframe/index.html)\r\n"
      ]
    },
    {
      "cell_type": "markdown",
      "metadata": {
        "id": "f3MkPs9SolQo"
      },
      "source": [
        "\r\n",
        "この練習で使うデータのファイル２つを読み込む。公的データの収集・整形・公開が継続的になされ、改善が続けられている点、私たちも見習いたい。\r\n",
        "\r\n",
        "いずれもコンマ区切りのテキストである CSV 形式ファイルで、「選挙運動委員会」の一覧 \r\n",
        "[committees.csv](https://raw.githubusercontent.com/california-civic-data-coalition/first-python-notebook/master/docs/_static/committees.csv) \r\n",
        "と、一定金額以上の献金者の一覧 \r\n",
        "[contributions.csv](https://raw.githubusercontent.com/california-civic-data-coalition/first-python-notebook/master/docs/_static/contributions.csv)\r\n",
        "。  \r\n",
        "\r\n",
        "pandas はローカルのファイルだけでなく、URL を指定してオンラインのファイルを読み込むことができる。委員会のほうのファイルのありかを指定して、以下のようにすると、読み込んだ上で先頭と末尾部分を表示してくれる。"
      ]
    },
    {
      "cell_type": "code",
      "metadata": {
        "colab": {
          "base_uri": "https://localhost:8080/",
          "height": 1000
        },
        "id": "HO2ISgelS2dd",
        "outputId": "9ad848d6-7e86-4b34-e712-1b4ff662b487"
      },
      "source": [
        "pd.read_csv(\"https://raw.githubusercontent.com/california-civic-data-coalition/first-python-notebook/master/docs/_static/committees.csv\")"
      ],
      "execution_count": null,
      "outputs": [
        {
          "output_type": "execute_result",
          "data": {
            "text/html": [
              "<div>\n",
              "<style scoped>\n",
              "    .dataframe tbody tr th:only-of-type {\n",
              "        vertical-align: middle;\n",
              "    }\n",
              "\n",
              "    .dataframe tbody tr th {\n",
              "        vertical-align: top;\n",
              "    }\n",
              "\n",
              "    .dataframe thead th {\n",
              "        text-align: right;\n",
              "    }\n",
              "</style>\n",
              "<table border=\"1\" class=\"dataframe\">\n",
              "  <thead>\n",
              "    <tr style=\"text-align: right;\">\n",
              "      <th></th>\n",
              "      <th>ocd_prop_id</th>\n",
              "      <th>calaccess_prop_id</th>\n",
              "      <th>ccdc_prop_id</th>\n",
              "      <th>prop_name</th>\n",
              "      <th>ccdc_committee_id</th>\n",
              "      <th>calaccess_committee_id</th>\n",
              "      <th>committee_name</th>\n",
              "      <th>committee_position</th>\n",
              "    </tr>\n",
              "  </thead>\n",
              "  <tbody>\n",
              "    <tr>\n",
              "      <th>0</th>\n",
              "      <td>ocd-contest/b51dc64d-3562-4913-a190-69f5088c22a6</td>\n",
              "      <td>1376258</td>\n",
              "      <td>70</td>\n",
              "      <td>PROPOSITION 051 - SCHOOL BONDS. FUNDING FOR K-...</td>\n",
              "      <td>382</td>\n",
              "      <td>1374469</td>\n",
              "      <td>YES ON PROPOSITION 51 - CALIFORNIANS FOR QUALI...</td>\n",
              "      <td>SUPPORT</td>\n",
              "    </tr>\n",
              "    <tr>\n",
              "      <th>1</th>\n",
              "      <td>ocd-contest/b51dc64d-3562-4913-a190-69f5088c22a6</td>\n",
              "      <td>1376258</td>\n",
              "      <td>70</td>\n",
              "      <td>PROPOSITION 051 - SCHOOL BONDS. FUNDING FOR K-...</td>\n",
              "      <td>383</td>\n",
              "      <td>1220380</td>\n",
              "      <td>COMMUNITY COLLEGE FACILITY COALITION ISSUES CO...</td>\n",
              "      <td>SUPPORT</td>\n",
              "    </tr>\n",
              "    <tr>\n",
              "      <th>2</th>\n",
              "      <td>ocd-contest/b51dc64d-3562-4913-a190-69f5088c22a6</td>\n",
              "      <td>1376258</td>\n",
              "      <td>70</td>\n",
              "      <td>PROPOSITION 051 - SCHOOL BONDS. FUNDING FOR K-...</td>\n",
              "      <td>384</td>\n",
              "      <td>1282321</td>\n",
              "      <td>TORLAKSON'S INVEST IN CALIFORNIA A BALLOT MEAS...</td>\n",
              "      <td>SUPPORT</td>\n",
              "    </tr>\n",
              "    <tr>\n",
              "      <th>3</th>\n",
              "      <td>ocd-contest/b51dc64d-3562-4913-a190-69f5088c22a6</td>\n",
              "      <td>1376258</td>\n",
              "      <td>70</td>\n",
              "      <td>PROPOSITION 051 - SCHOOL BONDS. FUNDING FOR K-...</td>\n",
              "      <td>385</td>\n",
              "      <td>1382843</td>\n",
              "      <td>CALIFORNIA TAXPAYERS AND EDUCATORS OPPOSED TO ...</td>\n",
              "      <td>OPPOSE</td>\n",
              "    </tr>\n",
              "    <tr>\n",
              "      <th>4</th>\n",
              "      <td>ocd-contest/85990193-9d6f-4600-b8e7-bf1317841d82</td>\n",
              "      <td>1362198</td>\n",
              "      <td>71</td>\n",
              "      <td>PROPOSITION 052 - STATE FEES ON HOSPITALS. FED...</td>\n",
              "      <td>386</td>\n",
              "      <td>1362973</td>\n",
              "      <td>YES ON PROPOSITION 52 - A COALITION OF CALIFOR...</td>\n",
              "      <td>SUPPORT</td>\n",
              "    </tr>\n",
              "    <tr>\n",
              "      <th>...</th>\n",
              "      <td>...</td>\n",
              "      <td>...</td>\n",
              "      <td>...</td>\n",
              "      <td>...</td>\n",
              "      <td>...</td>\n",
              "      <td>...</td>\n",
              "      <td>...</td>\n",
              "      <td>...</td>\n",
              "    </tr>\n",
              "    <tr>\n",
              "      <th>97</th>\n",
              "      <td>ocd-contest/7495cdbe-1aa7-4c26-9a55-aa4130347b95</td>\n",
              "      <td>1372638</td>\n",
              "      <td>86</td>\n",
              "      <td>PROPOSITION 067- REFERENDUM TO OVERTURN BAN ON...</td>\n",
              "      <td>479</td>\n",
              "      <td>1329332</td>\n",
              "      <td>SAVE THE BAG BAN, YES ON 67, SPONSORED BY ENVI...</td>\n",
              "      <td>SUPPORT</td>\n",
              "    </tr>\n",
              "    <tr>\n",
              "      <th>98</th>\n",
              "      <td>ocd-contest/7495cdbe-1aa7-4c26-9a55-aa4130347b95</td>\n",
              "      <td>1372638</td>\n",
              "      <td>86</td>\n",
              "      <td>PROPOSITION 067- REFERENDUM TO OVERTURN BAN ON...</td>\n",
              "      <td>480</td>\n",
              "      <td>1374885</td>\n",
              "      <td>YES ON 67 - CALIFORNIANS AGAINST WASTE - PROTE...</td>\n",
              "      <td>SUPPORT</td>\n",
              "    </tr>\n",
              "    <tr>\n",
              "      <th>99</th>\n",
              "      <td>ocd-contest/7495cdbe-1aa7-4c26-9a55-aa4130347b95</td>\n",
              "      <td>1372638</td>\n",
              "      <td>86</td>\n",
              "      <td>PROPOSITION 067- REFERENDUM TO OVERTURN BAN ON...</td>\n",
              "      <td>481</td>\n",
              "      <td>1346973</td>\n",
              "      <td>CALIFORNIA GROCERS ASSOCIATION ISSUES COMMITTE...</td>\n",
              "      <td>SUPPORT</td>\n",
              "    </tr>\n",
              "    <tr>\n",
              "      <th>100</th>\n",
              "      <td>ocd-contest/7495cdbe-1aa7-4c26-9a55-aa4130347b95</td>\n",
              "      <td>1372638</td>\n",
              "      <td>86</td>\n",
              "      <td>PROPOSITION 067- REFERENDUM TO OVERTURN BAN ON...</td>\n",
              "      <td>482</td>\n",
              "      <td>1381938</td>\n",
              "      <td>SAVE THE BAY ACTION FUND PAC - YES ON PROP 67</td>\n",
              "      <td>SUPPORT</td>\n",
              "    </tr>\n",
              "    <tr>\n",
              "      <th>101</th>\n",
              "      <td>ocd-contest/7495cdbe-1aa7-4c26-9a55-aa4130347b95</td>\n",
              "      <td>1372638</td>\n",
              "      <td>86</td>\n",
              "      <td>PROPOSITION 067- REFERENDUM TO OVERTURN BAN ON...</td>\n",
              "      <td>483</td>\n",
              "      <td>1389817</td>\n",
              "      <td>SAVE THE BAY ACTION FUND COMMITTEE TO SUPPORT ...</td>\n",
              "      <td>SUPPORT</td>\n",
              "    </tr>\n",
              "  </tbody>\n",
              "</table>\n",
              "<p>102 rows × 8 columns</p>\n",
              "</div>"
            ],
            "text/plain": [
              "                                          ocd_prop_id  ...  committee_position\n",
              "0    ocd-contest/b51dc64d-3562-4913-a190-69f5088c22a6  ...             SUPPORT\n",
              "1    ocd-contest/b51dc64d-3562-4913-a190-69f5088c22a6  ...             SUPPORT\n",
              "2    ocd-contest/b51dc64d-3562-4913-a190-69f5088c22a6  ...             SUPPORT\n",
              "3    ocd-contest/b51dc64d-3562-4913-a190-69f5088c22a6  ...              OPPOSE\n",
              "4    ocd-contest/85990193-9d6f-4600-b8e7-bf1317841d82  ...             SUPPORT\n",
              "..                                                ...  ...                 ...\n",
              "97   ocd-contest/7495cdbe-1aa7-4c26-9a55-aa4130347b95  ...             SUPPORT\n",
              "98   ocd-contest/7495cdbe-1aa7-4c26-9a55-aa4130347b95  ...             SUPPORT\n",
              "99   ocd-contest/7495cdbe-1aa7-4c26-9a55-aa4130347b95  ...             SUPPORT\n",
              "100  ocd-contest/7495cdbe-1aa7-4c26-9a55-aa4130347b95  ...             SUPPORT\n",
              "101  ocd-contest/7495cdbe-1aa7-4c26-9a55-aa4130347b95  ...             SUPPORT\n",
              "\n",
              "[102 rows x 8 columns]"
            ]
          },
          "metadata": {
            "tags": []
          },
          "execution_count": 11
        }
      ]
    },
    {
      "cell_type": "markdown",
      "metadata": {
        "id": "FiR7daylXug6"
      },
      "source": [
        "きちとん読み込めているようだ。  \r\n",
        "\r\n",
        "でも、このままでは、読んだデータが置いてきぼりになってしまう。この先使うために、変数に入れておこう。上の式を、以下のように書き直す。データを読み込むときは毎度、読めているか確かめた後、代入に書き直すのがよい。  \r\n",
        "\r\n",
        "<font color = 'gray'>繰り返しになるが、１つだけのイコールは「等しい」ではなく、右辺を左辺に代入する、という意味。左向きの矢印「←」だと思うべし。</font>"
      ]
    },
    {
      "cell_type": "code",
      "metadata": {
        "id": "JoUAffCyZGV2"
      },
      "source": [
        "# １つ前の式を再利用して、前に書き足しただけ\r\n",
        "committee_list = pd.read_csv(\"https://raw.githubusercontent.com/california-civic-data-coalition/first-python-notebook/master/docs/_static/committees.csv\")"
      ],
      "execution_count": null,
      "outputs": []
    },
    {
      "cell_type": "markdown",
      "metadata": {
        "id": "HYKtq2IUVIJY"
      },
      "source": [
        "<font color = 'gray'>この方法で読み込んだデータは、自動的にデータフレームになっている。シリーズのときのように、明示的にデータフレームに変換するには、`pd.Dataframe()` を使う。</font>  \r\n",
        "\r\n",
        "内容と型の確認を習慣にしておく。読み込んだら、以下の２つを必ず実行しよう。  \r\n",
        "\r\n",
        "データのヘッダーと冒頭部分を見るには、`head()`。括弧に数字を入れて、行数を指定することもできる。  \r\n",
        "\r\n",
        "<font color = 'gray'>私だったら、末尾も見ておく（今回は実は、データを読み込んだだけで代入しなかった際に見ている）。`tail()`を使う。あと、`shape` でカラム数・行数を確かめておくのもよいだろう。  \r\n",
        "ところで、`head()`や `tail()`、先ほど出てきた `max()` や `min()` には括弧がついているのに対し、`shape` や後で出てくる `dtype` には括弧がない。その理由は、前者はメソッドでファンクションの一種だから。後者はアトリビュートだから。なのだが、深入りしない。</font>\r\n"
      ]
    },
    {
      "cell_type": "code",
      "metadata": {
        "colab": {
          "base_uri": "https://localhost:8080/",
          "height": 632
        },
        "id": "k6bX_jjwYte8",
        "outputId": "376aa71f-d552-49df-d564-95627e667fa8"
      },
      "source": [
        "committee_list.head()\n",
        "# 末尾を見たければ、tail()を使う\n",
        "# committee_list.tail()"
      ],
      "execution_count": null,
      "outputs": [
        {
          "output_type": "execute_result",
          "data": {
            "text/html": [
              "<div>\n",
              "<style scoped>\n",
              "    .dataframe tbody tr th:only-of-type {\n",
              "        vertical-align: middle;\n",
              "    }\n",
              "\n",
              "    .dataframe tbody tr th {\n",
              "        vertical-align: top;\n",
              "    }\n",
              "\n",
              "    .dataframe thead th {\n",
              "        text-align: right;\n",
              "    }\n",
              "</style>\n",
              "<table border=\"1\" class=\"dataframe\">\n",
              "  <thead>\n",
              "    <tr style=\"text-align: right;\">\n",
              "      <th></th>\n",
              "      <th>ocd_prop_id</th>\n",
              "      <th>calaccess_prop_id</th>\n",
              "      <th>ccdc_prop_id</th>\n",
              "      <th>prop_name</th>\n",
              "      <th>ccdc_committee_id</th>\n",
              "      <th>calaccess_committee_id</th>\n",
              "      <th>committee_name</th>\n",
              "      <th>committee_position</th>\n",
              "    </tr>\n",
              "  </thead>\n",
              "  <tbody>\n",
              "    <tr>\n",
              "      <th>0</th>\n",
              "      <td>ocd-contest/b51dc64d-3562-4913-a190-69f5088c22a6</td>\n",
              "      <td>1376258</td>\n",
              "      <td>70</td>\n",
              "      <td>PROPOSITION 051 - SCHOOL BONDS. FUNDING FOR K-...</td>\n",
              "      <td>382</td>\n",
              "      <td>1374469</td>\n",
              "      <td>YES ON PROPOSITION 51 - CALIFORNIANS FOR QUALI...</td>\n",
              "      <td>SUPPORT</td>\n",
              "    </tr>\n",
              "    <tr>\n",
              "      <th>1</th>\n",
              "      <td>ocd-contest/b51dc64d-3562-4913-a190-69f5088c22a6</td>\n",
              "      <td>1376258</td>\n",
              "      <td>70</td>\n",
              "      <td>PROPOSITION 051 - SCHOOL BONDS. FUNDING FOR K-...</td>\n",
              "      <td>383</td>\n",
              "      <td>1220380</td>\n",
              "      <td>COMMUNITY COLLEGE FACILITY COALITION ISSUES CO...</td>\n",
              "      <td>SUPPORT</td>\n",
              "    </tr>\n",
              "    <tr>\n",
              "      <th>2</th>\n",
              "      <td>ocd-contest/b51dc64d-3562-4913-a190-69f5088c22a6</td>\n",
              "      <td>1376258</td>\n",
              "      <td>70</td>\n",
              "      <td>PROPOSITION 051 - SCHOOL BONDS. FUNDING FOR K-...</td>\n",
              "      <td>384</td>\n",
              "      <td>1282321</td>\n",
              "      <td>TORLAKSON'S INVEST IN CALIFORNIA A BALLOT MEAS...</td>\n",
              "      <td>SUPPORT</td>\n",
              "    </tr>\n",
              "    <tr>\n",
              "      <th>3</th>\n",
              "      <td>ocd-contest/b51dc64d-3562-4913-a190-69f5088c22a6</td>\n",
              "      <td>1376258</td>\n",
              "      <td>70</td>\n",
              "      <td>PROPOSITION 051 - SCHOOL BONDS. FUNDING FOR K-...</td>\n",
              "      <td>385</td>\n",
              "      <td>1382843</td>\n",
              "      <td>CALIFORNIA TAXPAYERS AND EDUCATORS OPPOSED TO ...</td>\n",
              "      <td>OPPOSE</td>\n",
              "    </tr>\n",
              "    <tr>\n",
              "      <th>4</th>\n",
              "      <td>ocd-contest/85990193-9d6f-4600-b8e7-bf1317841d82</td>\n",
              "      <td>1362198</td>\n",
              "      <td>71</td>\n",
              "      <td>PROPOSITION 052 - STATE FEES ON HOSPITALS. FED...</td>\n",
              "      <td>386</td>\n",
              "      <td>1362973</td>\n",
              "      <td>YES ON PROPOSITION 52 - A COALITION OF CALIFOR...</td>\n",
              "      <td>SUPPORT</td>\n",
              "    </tr>\n",
              "  </tbody>\n",
              "</table>\n",
              "</div>"
            ],
            "text/plain": [
              "                                        ocd_prop_id  ...  committee_position\n",
              "0  ocd-contest/b51dc64d-3562-4913-a190-69f5088c22a6  ...             SUPPORT\n",
              "1  ocd-contest/b51dc64d-3562-4913-a190-69f5088c22a6  ...             SUPPORT\n",
              "2  ocd-contest/b51dc64d-3562-4913-a190-69f5088c22a6  ...             SUPPORT\n",
              "3  ocd-contest/b51dc64d-3562-4913-a190-69f5088c22a6  ...              OPPOSE\n",
              "4  ocd-contest/85990193-9d6f-4600-b8e7-bf1317841d82  ...             SUPPORT\n",
              "\n",
              "[5 rows x 8 columns]"
            ]
          },
          "metadata": {
            "tags": []
          },
          "execution_count": 13
        }
      ]
    },
    {
      "cell_type": "code",
      "metadata": {
        "colab": {
          "base_uri": "https://localhost:8080/"
        },
        "id": "IdPpxNTfZsnC",
        "outputId": "1a1336f8-d384-4a56-a4aa-b367405477b2"
      },
      "source": [
        "committee_list.info()"
      ],
      "execution_count": null,
      "outputs": [
        {
          "output_type": "stream",
          "text": [
            "<class 'pandas.core.frame.DataFrame'>\n",
            "RangeIndex: 102 entries, 0 to 101\n",
            "Data columns (total 8 columns):\n",
            " #   Column                  Non-Null Count  Dtype \n",
            "---  ------                  --------------  ----- \n",
            " 0   ocd_prop_id             102 non-null    object\n",
            " 1   calaccess_prop_id       102 non-null    int64 \n",
            " 2   ccdc_prop_id            102 non-null    int64 \n",
            " 3   prop_name               102 non-null    object\n",
            " 4   ccdc_committee_id       102 non-null    int64 \n",
            " 5   calaccess_committee_id  102 non-null    int64 \n",
            " 6   committee_name          102 non-null    object\n",
            " 7   committee_position      102 non-null    object\n",
            "dtypes: int64(4), object(4)\n",
            "memory usage: 6.5+ KB\n"
          ],
          "name": "stdout"
        }
      ]
    },
    {
      "cell_type": "markdown",
      "metadata": {
        "id": "rqi9y2odbFwQ"
      },
      "source": [
        "各カラムの、値の入った行数や、データ型が分かった。どのカラムもすべて値が入っているようだ。object というのは、ここでは文字列のこと。  \r\n",
        "\r\n",
        "もう１つ、献金者の CSV ファイルも同様に読み込む。"
      ]
    },
    {
      "cell_type": "code",
      "metadata": {
        "colab": {
          "base_uri": "https://localhost:8080/",
          "height": 1000
        },
        "id": "rdMp6Aawc0WA",
        "outputId": "eea5dccd-e23e-440a-8336-f352710c27c5"
      },
      "source": [
        "pd.read_csv(\"https://raw.githubusercontent.com/california-civic-data-coalition/first-python-notebook/master/docs/_static/contributions.csv\")"
      ],
      "execution_count": null,
      "outputs": [
        {
          "output_type": "execute_result",
          "data": {
            "text/html": [
              "<div>\n",
              "<style scoped>\n",
              "    .dataframe tbody tr th:only-of-type {\n",
              "        vertical-align: middle;\n",
              "    }\n",
              "\n",
              "    .dataframe tbody tr th {\n",
              "        vertical-align: top;\n",
              "    }\n",
              "\n",
              "    .dataframe thead th {\n",
              "        text-align: right;\n",
              "    }\n",
              "</style>\n",
              "<table border=\"1\" class=\"dataframe\">\n",
              "  <thead>\n",
              "    <tr style=\"text-align: right;\">\n",
              "      <th></th>\n",
              "      <th>calaccess_committee_id</th>\n",
              "      <th>committee_name</th>\n",
              "      <th>calaccess_filing_id</th>\n",
              "      <th>date_received</th>\n",
              "      <th>contributor_lastname</th>\n",
              "      <th>contributor_firstname</th>\n",
              "      <th>contributor_city</th>\n",
              "      <th>contributor_state</th>\n",
              "      <th>contributor_zip</th>\n",
              "      <th>contributor_employer</th>\n",
              "      <th>contributor_occupation</th>\n",
              "      <th>contributor_is_self_employed</th>\n",
              "      <th>amount</th>\n",
              "    </tr>\n",
              "  </thead>\n",
              "  <tbody>\n",
              "    <tr>\n",
              "      <th>0</th>\n",
              "      <td>1386560</td>\n",
              "      <td>ADULT USE CAMPAIGN FOR PROPOSITION 64; THE</td>\n",
              "      <td>2083796</td>\n",
              "      <td>2016-09-18</td>\n",
              "      <td>BERGMAN</td>\n",
              "      <td>GRETCHEN</td>\n",
              "      <td>SPRING VALLEY</td>\n",
              "      <td>CA</td>\n",
              "      <td>91978</td>\n",
              "      <td>A NEW PATH</td>\n",
              "      <td>EXECUTIVE DIRECTOR</td>\n",
              "      <td>False</td>\n",
              "      <td>84.0</td>\n",
              "    </tr>\n",
              "    <tr>\n",
              "      <th>1</th>\n",
              "      <td>1386560</td>\n",
              "      <td>ADULT USE CAMPAIGN FOR PROPOSITION 64; THE</td>\n",
              "      <td>2083796</td>\n",
              "      <td>2016-09-18</td>\n",
              "      <td>KAHLE</td>\n",
              "      <td>MYRNA</td>\n",
              "      <td>SAN DIEGO</td>\n",
              "      <td>CA</td>\n",
              "      <td>92109</td>\n",
              "      <td>NATIONAL SCHOOL DISTRICT</td>\n",
              "      <td>TEACHER</td>\n",
              "      <td>False</td>\n",
              "      <td>35.0</td>\n",
              "    </tr>\n",
              "    <tr>\n",
              "      <th>2</th>\n",
              "      <td>1386560</td>\n",
              "      <td>ADULT USE CAMPAIGN FOR PROPOSITION 64; THE</td>\n",
              "      <td>2083796</td>\n",
              "      <td>2016-07-15</td>\n",
              "      <td>MCDEVITT</td>\n",
              "      <td>LEO</td>\n",
              "      <td>ESCONDIDO</td>\n",
              "      <td>CA</td>\n",
              "      <td>92025</td>\n",
              "      <td>LIFE IONIZERS</td>\n",
              "      <td>SEO/CONTENT MANAGER</td>\n",
              "      <td>False</td>\n",
              "      <td>198.0</td>\n",
              "    </tr>\n",
              "    <tr>\n",
              "      <th>3</th>\n",
              "      <td>1386560</td>\n",
              "      <td>ADULT USE CAMPAIGN FOR PROPOSITION 64; THE</td>\n",
              "      <td>2083796</td>\n",
              "      <td>2016-08-10</td>\n",
              "      <td>WARREN-SAMARIPA</td>\n",
              "      <td>STEPHANIE</td>\n",
              "      <td>SAN DIEGO</td>\n",
              "      <td>CA</td>\n",
              "      <td>92116</td>\n",
              "      <td>STEPHANIE WARREN SAMARIPA</td>\n",
              "      <td>ENTREPRENEUR</td>\n",
              "      <td>False</td>\n",
              "      <td>-50.0</td>\n",
              "    </tr>\n",
              "    <tr>\n",
              "      <th>4</th>\n",
              "      <td>1386560</td>\n",
              "      <td>ADULT USE CAMPAIGN FOR PROPOSITION 64; THE</td>\n",
              "      <td>2083796</td>\n",
              "      <td>2016-07-26</td>\n",
              "      <td>WARREN-SAMARIPA</td>\n",
              "      <td>STEPHANIE</td>\n",
              "      <td>SAN DIEGO</td>\n",
              "      <td>CA</td>\n",
              "      <td>92116</td>\n",
              "      <td>STEPHANIE WARREN SAMARIPA</td>\n",
              "      <td>ENTREPRENEUR</td>\n",
              "      <td>True</td>\n",
              "      <td>50.0</td>\n",
              "    </tr>\n",
              "    <tr>\n",
              "      <th>...</th>\n",
              "      <td>...</td>\n",
              "      <td>...</td>\n",
              "      <td>...</td>\n",
              "      <td>...</td>\n",
              "      <td>...</td>\n",
              "      <td>...</td>\n",
              "      <td>...</td>\n",
              "      <td>...</td>\n",
              "      <td>...</td>\n",
              "      <td>...</td>\n",
              "      <td>...</td>\n",
              "      <td>...</td>\n",
              "      <td>...</td>\n",
              "    </tr>\n",
              "    <tr>\n",
              "      <th>56374</th>\n",
              "      <td>1362973</td>\n",
              "      <td>YES ON PROPOSITION 52 - A COALITION OF CALIFOR...</td>\n",
              "      <td>2009922</td>\n",
              "      <td>2015-12-22</td>\n",
              "      <td>CALIFORNIA HEALTH FOUNDATION AND TRUST</td>\n",
              "      <td>NaN</td>\n",
              "      <td>SACRAMENTO</td>\n",
              "      <td>CA</td>\n",
              "      <td>95814</td>\n",
              "      <td>NaN</td>\n",
              "      <td>NaN</td>\n",
              "      <td>False</td>\n",
              "      <td>2000000.0</td>\n",
              "    </tr>\n",
              "    <tr>\n",
              "      <th>56375</th>\n",
              "      <td>1362973</td>\n",
              "      <td>YES ON PROPOSITION 52 - A COALITION OF CALIFOR...</td>\n",
              "      <td>2009922</td>\n",
              "      <td>2015-12-22</td>\n",
              "      <td>CFHS HOLDINGS, INC./MARINA DEL REY HOSPITAL</td>\n",
              "      <td>NaN</td>\n",
              "      <td>MARINA DEL REY</td>\n",
              "      <td>CA</td>\n",
              "      <td>90292</td>\n",
              "      <td>NaN</td>\n",
              "      <td>NaN</td>\n",
              "      <td>False</td>\n",
              "      <td>4629.0</td>\n",
              "    </tr>\n",
              "    <tr>\n",
              "      <th>56376</th>\n",
              "      <td>1362973</td>\n",
              "      <td>YES ON PROPOSITION 52 - A COALITION OF CALIFOR...</td>\n",
              "      <td>2033916</td>\n",
              "      <td>2016-01-20</td>\n",
              "      <td>DIGNITY HEALTH</td>\n",
              "      <td>NaN</td>\n",
              "      <td>SAN FRANCISCO</td>\n",
              "      <td>CA</td>\n",
              "      <td>91107</td>\n",
              "      <td>NaN</td>\n",
              "      <td>NaN</td>\n",
              "      <td>False</td>\n",
              "      <td>8478390.0</td>\n",
              "    </tr>\n",
              "    <tr>\n",
              "      <th>56377</th>\n",
              "      <td>1362973</td>\n",
              "      <td>YES ON PROPOSITION 52 - A COALITION OF CALIFOR...</td>\n",
              "      <td>2082752</td>\n",
              "      <td>2016-08-01</td>\n",
              "      <td>MEMBERS' VOICE OF THE STATE BUILDING AND CONST...</td>\n",
              "      <td>NaN</td>\n",
              "      <td>SACRAMENTO</td>\n",
              "      <td>CA</td>\n",
              "      <td>95814</td>\n",
              "      <td>NaN</td>\n",
              "      <td>NaN</td>\n",
              "      <td>False</td>\n",
              "      <td>100000.0</td>\n",
              "    </tr>\n",
              "    <tr>\n",
              "      <th>56378</th>\n",
              "      <td>1362973</td>\n",
              "      <td>YES ON PROPOSITION 52 - A COALITION OF CALIFOR...</td>\n",
              "      <td>2082752</td>\n",
              "      <td>2016-08-16</td>\n",
              "      <td>CALIFORNIA HOSPITALS COMMITTEE ON ISSUES, (CHC...</td>\n",
              "      <td>NaN</td>\n",
              "      <td>SACRAMENTO</td>\n",
              "      <td>CA</td>\n",
              "      <td>95814</td>\n",
              "      <td>NaN</td>\n",
              "      <td>NaN</td>\n",
              "      <td>False</td>\n",
              "      <td>1000000.0</td>\n",
              "    </tr>\n",
              "  </tbody>\n",
              "</table>\n",
              "<p>56379 rows × 13 columns</p>\n",
              "</div>"
            ],
            "text/plain": [
              "       calaccess_committee_id  ...     amount\n",
              "0                     1386560  ...       84.0\n",
              "1                     1386560  ...       35.0\n",
              "2                     1386560  ...      198.0\n",
              "3                     1386560  ...      -50.0\n",
              "4                     1386560  ...       50.0\n",
              "...                       ...  ...        ...\n",
              "56374                 1362973  ...  2000000.0\n",
              "56375                 1362973  ...     4629.0\n",
              "56376                 1362973  ...  8478390.0\n",
              "56377                 1362973  ...   100000.0\n",
              "56378                 1362973  ...  1000000.0\n",
              "\n",
              "[56379 rows x 13 columns]"
            ]
          },
          "metadata": {
            "tags": []
          },
          "execution_count": 15
        }
      ]
    },
    {
      "cell_type": "markdown",
      "metadata": {
        "id": "DR9svFpPdDlX"
      },
      "source": [
        "こちらは件数が多い。５万レコードを超えている。"
      ]
    },
    {
      "cell_type": "code",
      "metadata": {
        "id": "8gTzVlwedO0G"
      },
      "source": [
        "contrib_list = pd.read_csv(\"https://raw.githubusercontent.com/california-civic-data-coalition/first-python-notebook/master/docs/_static/contributions.csv\")"
      ],
      "execution_count": null,
      "outputs": []
    },
    {
      "cell_type": "code",
      "metadata": {
        "colab": {
          "base_uri": "https://localhost:8080/",
          "height": 479
        },
        "id": "EkBcd1QFdlzz",
        "outputId": "fa63008b-7af0-47dd-ae4c-80a79d267560"
      },
      "source": [
        "contrib_list.head()"
      ],
      "execution_count": null,
      "outputs": [
        {
          "output_type": "execute_result",
          "data": {
            "text/html": [
              "<div>\n",
              "<style scoped>\n",
              "    .dataframe tbody tr th:only-of-type {\n",
              "        vertical-align: middle;\n",
              "    }\n",
              "\n",
              "    .dataframe tbody tr th {\n",
              "        vertical-align: top;\n",
              "    }\n",
              "\n",
              "    .dataframe thead th {\n",
              "        text-align: right;\n",
              "    }\n",
              "</style>\n",
              "<table border=\"1\" class=\"dataframe\">\n",
              "  <thead>\n",
              "    <tr style=\"text-align: right;\">\n",
              "      <th></th>\n",
              "      <th>calaccess_committee_id</th>\n",
              "      <th>committee_name</th>\n",
              "      <th>calaccess_filing_id</th>\n",
              "      <th>date_received</th>\n",
              "      <th>contributor_lastname</th>\n",
              "      <th>contributor_firstname</th>\n",
              "      <th>contributor_city</th>\n",
              "      <th>contributor_state</th>\n",
              "      <th>contributor_zip</th>\n",
              "      <th>contributor_employer</th>\n",
              "      <th>contributor_occupation</th>\n",
              "      <th>contributor_is_self_employed</th>\n",
              "      <th>amount</th>\n",
              "    </tr>\n",
              "  </thead>\n",
              "  <tbody>\n",
              "    <tr>\n",
              "      <th>0</th>\n",
              "      <td>1386560</td>\n",
              "      <td>ADULT USE CAMPAIGN FOR PROPOSITION 64; THE</td>\n",
              "      <td>2083796</td>\n",
              "      <td>2016-09-18</td>\n",
              "      <td>BERGMAN</td>\n",
              "      <td>GRETCHEN</td>\n",
              "      <td>SPRING VALLEY</td>\n",
              "      <td>CA</td>\n",
              "      <td>91978</td>\n",
              "      <td>A NEW PATH</td>\n",
              "      <td>EXECUTIVE DIRECTOR</td>\n",
              "      <td>False</td>\n",
              "      <td>84.0</td>\n",
              "    </tr>\n",
              "    <tr>\n",
              "      <th>1</th>\n",
              "      <td>1386560</td>\n",
              "      <td>ADULT USE CAMPAIGN FOR PROPOSITION 64; THE</td>\n",
              "      <td>2083796</td>\n",
              "      <td>2016-09-18</td>\n",
              "      <td>KAHLE</td>\n",
              "      <td>MYRNA</td>\n",
              "      <td>SAN DIEGO</td>\n",
              "      <td>CA</td>\n",
              "      <td>92109</td>\n",
              "      <td>NATIONAL SCHOOL DISTRICT</td>\n",
              "      <td>TEACHER</td>\n",
              "      <td>False</td>\n",
              "      <td>35.0</td>\n",
              "    </tr>\n",
              "    <tr>\n",
              "      <th>2</th>\n",
              "      <td>1386560</td>\n",
              "      <td>ADULT USE CAMPAIGN FOR PROPOSITION 64; THE</td>\n",
              "      <td>2083796</td>\n",
              "      <td>2016-07-15</td>\n",
              "      <td>MCDEVITT</td>\n",
              "      <td>LEO</td>\n",
              "      <td>ESCONDIDO</td>\n",
              "      <td>CA</td>\n",
              "      <td>92025</td>\n",
              "      <td>LIFE IONIZERS</td>\n",
              "      <td>SEO/CONTENT MANAGER</td>\n",
              "      <td>False</td>\n",
              "      <td>198.0</td>\n",
              "    </tr>\n",
              "    <tr>\n",
              "      <th>3</th>\n",
              "      <td>1386560</td>\n",
              "      <td>ADULT USE CAMPAIGN FOR PROPOSITION 64; THE</td>\n",
              "      <td>2083796</td>\n",
              "      <td>2016-08-10</td>\n",
              "      <td>WARREN-SAMARIPA</td>\n",
              "      <td>STEPHANIE</td>\n",
              "      <td>SAN DIEGO</td>\n",
              "      <td>CA</td>\n",
              "      <td>92116</td>\n",
              "      <td>STEPHANIE WARREN SAMARIPA</td>\n",
              "      <td>ENTREPRENEUR</td>\n",
              "      <td>False</td>\n",
              "      <td>-50.0</td>\n",
              "    </tr>\n",
              "    <tr>\n",
              "      <th>4</th>\n",
              "      <td>1386560</td>\n",
              "      <td>ADULT USE CAMPAIGN FOR PROPOSITION 64; THE</td>\n",
              "      <td>2083796</td>\n",
              "      <td>2016-07-26</td>\n",
              "      <td>WARREN-SAMARIPA</td>\n",
              "      <td>STEPHANIE</td>\n",
              "      <td>SAN DIEGO</td>\n",
              "      <td>CA</td>\n",
              "      <td>92116</td>\n",
              "      <td>STEPHANIE WARREN SAMARIPA</td>\n",
              "      <td>ENTREPRENEUR</td>\n",
              "      <td>True</td>\n",
              "      <td>50.0</td>\n",
              "    </tr>\n",
              "  </tbody>\n",
              "</table>\n",
              "</div>"
            ],
            "text/plain": [
              "   calaccess_committee_id  ... amount\n",
              "0                 1386560  ...   84.0\n",
              "1                 1386560  ...   35.0\n",
              "2                 1386560  ...  198.0\n",
              "3                 1386560  ...  -50.0\n",
              "4                 1386560  ...   50.0\n",
              "\n",
              "[5 rows x 13 columns]"
            ]
          },
          "metadata": {
            "tags": []
          },
          "execution_count": 17
        }
      ]
    },
    {
      "cell_type": "code",
      "metadata": {
        "colab": {
          "base_uri": "https://localhost:8080/"
        },
        "id": "EZ3Wtc-NdlVz",
        "outputId": "d5856fe5-500f-4cfa-a212-dd73904e8458"
      },
      "source": [
        "contrib_list.info()"
      ],
      "execution_count": null,
      "outputs": [
        {
          "output_type": "stream",
          "text": [
            "<class 'pandas.core.frame.DataFrame'>\n",
            "RangeIndex: 56379 entries, 0 to 56378\n",
            "Data columns (total 13 columns):\n",
            " #   Column                        Non-Null Count  Dtype  \n",
            "---  ------                        --------------  -----  \n",
            " 0   calaccess_committee_id        56379 non-null  int64  \n",
            " 1   committee_name                56379 non-null  object \n",
            " 2   calaccess_filing_id           56379 non-null  int64  \n",
            " 3   date_received                 56379 non-null  object \n",
            " 4   contributor_lastname          56375 non-null  object \n",
            " 5   contributor_firstname         53411 non-null  object \n",
            " 6   contributor_city              56369 non-null  object \n",
            " 7   contributor_state             56363 non-null  object \n",
            " 8   contributor_zip               56366 non-null  object \n",
            " 9   contributor_employer          48572 non-null  object \n",
            " 10  contributor_occupation        53273 non-null  object \n",
            " 11  contributor_is_self_employed  56379 non-null  bool   \n",
            " 12  amount                        56379 non-null  float64\n",
            "dtypes: bool(1), float64(1), int64(2), object(9)\n",
            "memory usage: 5.2+ MB\n"
          ],
          "name": "stdout"
        }
      ]
    },
    {
      "cell_type": "markdown",
      "metadata": {
        "id": "5QUbaMRnebdt"
      },
      "source": [
        "今度はカラムによって、値の入っているレコード数が違う。欠損値に気をつけないといけないようだ。"
      ]
    },
    {
      "cell_type": "code",
      "metadata": {
        "id": "FFjQF5ZXZ4hQ"
      },
      "source": [
        "# マジックコマンドを使って、フィルター機能つきのインタラクティブなテーブルを見たい場合はこうする。Colabならでは。\r\n",
        "# %load_ext google.colab.data_table\r\n",
        "# committee_list\r\n",
        "# %unload_ext google.colab.data_table"
      ],
      "execution_count": null,
      "outputs": []
    },
    {
      "cell_type": "markdown",
      "metadata": {
        "id": "OgyVeviTeoKk"
      },
      "source": [
        "---\r\n",
        "\r\n",
        "## 6) データフレームのカラムを取り出す\r\n",
        "\r\n",
        "#### [Chapter 6: Hello columns](https://www.firstpythonnotebook.org/value_counts/index.html)\r\n"
      ]
    },
    {
      "cell_type": "markdown",
      "metadata": {
        "id": "AButSTwQozdG"
      },
      "source": [
        "\r\n",
        "カラムというのは、縦の列のこと。対して、横はレコードとか行という。  \r\n",
        "\r\n",
        "さて、データフレームのあるカラムに着目してデータを取り出したいときには、ドットでカラム名をつなげばよい。委員会が、どの提案について影響を及ぼそうと活動しているか、が入っている **prop_name** というカラムだったら"
      ]
    },
    {
      "cell_type": "code",
      "metadata": {
        "colab": {
          "base_uri": "https://localhost:8080/"
        },
        "id": "MSW32fCShQpC",
        "outputId": "e90f282c-b5e1-47eb-86f9-13c760140c2f"
      },
      "source": [
        "committee_list.prop_name"
      ],
      "execution_count": null,
      "outputs": [
        {
          "output_type": "execute_result",
          "data": {
            "text/plain": [
              "0      PROPOSITION 051 - SCHOOL BONDS. FUNDING FOR K-...\n",
              "1      PROPOSITION 051 - SCHOOL BONDS. FUNDING FOR K-...\n",
              "2      PROPOSITION 051 - SCHOOL BONDS. FUNDING FOR K-...\n",
              "3      PROPOSITION 051 - SCHOOL BONDS. FUNDING FOR K-...\n",
              "4      PROPOSITION 052 - STATE FEES ON HOSPITALS. FED...\n",
              "                             ...                        \n",
              "97     PROPOSITION 067- REFERENDUM TO OVERTURN BAN ON...\n",
              "98     PROPOSITION 067- REFERENDUM TO OVERTURN BAN ON...\n",
              "99     PROPOSITION 067- REFERENDUM TO OVERTURN BAN ON...\n",
              "100    PROPOSITION 067- REFERENDUM TO OVERTURN BAN ON...\n",
              "101    PROPOSITION 067- REFERENDUM TO OVERTURN BAN ON...\n",
              "Name: prop_name, Length: 102, dtype: object"
            ]
          },
          "metadata": {
            "tags": []
          },
          "execution_count": 20
        }
      ]
    },
    {
      "cell_type": "markdown",
      "metadata": {
        "id": "0v7arH7GhedC"
      },
      "source": [
        "としてやる。または、同じ結果になるが、"
      ]
    },
    {
      "cell_type": "code",
      "metadata": {
        "colab": {
          "base_uri": "https://localhost:8080/"
        },
        "id": "n4g3vSQVhjnp",
        "outputId": "0f0c39fd-e93f-43a8-a684-dba5ba373b69"
      },
      "source": [
        "committee_list['prop_name']"
      ],
      "execution_count": null,
      "outputs": [
        {
          "output_type": "execute_result",
          "data": {
            "text/plain": [
              "0      PROPOSITION 051 - SCHOOL BONDS. FUNDING FOR K-...\n",
              "1      PROPOSITION 051 - SCHOOL BONDS. FUNDING FOR K-...\n",
              "2      PROPOSITION 051 - SCHOOL BONDS. FUNDING FOR K-...\n",
              "3      PROPOSITION 051 - SCHOOL BONDS. FUNDING FOR K-...\n",
              "4      PROPOSITION 052 - STATE FEES ON HOSPITALS. FED...\n",
              "                             ...                        \n",
              "97     PROPOSITION 067- REFERENDUM TO OVERTURN BAN ON...\n",
              "98     PROPOSITION 067- REFERENDUM TO OVERTURN BAN ON...\n",
              "99     PROPOSITION 067- REFERENDUM TO OVERTURN BAN ON...\n",
              "100    PROPOSITION 067- REFERENDUM TO OVERTURN BAN ON...\n",
              "101    PROPOSITION 067- REFERENDUM TO OVERTURN BAN ON...\n",
              "Name: prop_name, Length: 102, dtype: object"
            ]
          },
          "metadata": {
            "tags": []
          },
          "execution_count": 21
        }
      ]
    },
    {
      "cell_type": "markdown",
      "metadata": {
        "id": "lBhDvIeHhp-P"
      },
      "source": [
        "という記法もある。カラム名が空白を含む場合や、メソッドと偶然にも同名の場合には、後者しか使えない。  \r\n",
        "\r\n",
        "カラムのデータで、同じものがいくつあるかは、`value_counts()`を使うと数えられる。カラムを取り出した、さっきの式をベースにして"
      ]
    },
    {
      "cell_type": "code",
      "metadata": {
        "colab": {
          "base_uri": "https://localhost:8080/"
        },
        "id": "L8jVq3UujYYN",
        "outputId": "5a497ba6-c92d-405b-8843-c2e3cc346e2c"
      },
      "source": [
        "committee_list.prop_name.value_counts()"
      ],
      "execution_count": null,
      "outputs": [
        {
          "output_type": "execute_result",
          "data": {
            "text/plain": [
              "PROPOSITION 057 - CRIMINAL SENTENCES. JUVENILE CRIMINAL PROCEEDINGS AND SENTENCING. INITIATIVE CONSTITUTIONAL AMENDMENT AND STATUTE.                           13\n",
              "PROPOSITION 056 - CIGARETTE TAX TO FUND HEALTHCARE, TOBACCO USE PREVENTION, RESEARCH, AND LAW ENFORCEMENT. INITIATIVE CONSTITUTIONAL AMENDMENT AND STATUTE.    12\n",
              "PROPOSITION 064- MARIJUANA LEGALIZATION. INITIATIVE STATUTE.                                                                                                   11\n",
              "PROPOSITION 066- DEATH PENALTY. PROCEDURES. INITIATIVE STATUTE.                                                                                                 9\n",
              "PROPOSITION 055 - TAX EXTENSION TO FUND EDUCATION AND HEALTHCARE. INITIATIVE CONSTITUTIONAL AMENDMENT.                                                          8\n",
              "PROPOSITION 062- DEATH PENALTY. INITIATIVE STATUTE.                                                                                                             7\n",
              "PROPOSITION 067- REFERENDUM TO OVERTURN BAN ON SINGLE-USE PLASTIC BAGS.                                                                                         7\n",
              "PROPOSITION 059- SB 254 (CHAPTER 20, STATUTES OF 2016), ALLEN. CAMPAIGN FINANCE: VOTER INSTRUCTION                                                              6\n",
              "PROPOSITION 058 - SB 1174 (CHAPTER 753, STATUTES OF 2014), LARA. ENGLISH LANGUAGE EDUCATION                                                                     4\n",
              "PROPOSITION 053 - REVENUE BONDS. STATEWIDE VOTER APPROVAL. INITIATIVE CONSTITUTIONAL AMENDMENT.                                                                 4\n",
              "PROPOSITION 063- FIREARMS. AMMUNITION SALES. INTIATIVE STATUTE.                                                                                                 4\n",
              "PROPOSITION 051 - SCHOOL BONDS. FUNDING FOR K-12 SCHOOL AND COMMUNITY COLLEGE FACILITIES. INITIATIVE STATUTORY AMENDMENT.                                       4\n",
              "PROPOSITION 054 - LEGISLATURE. LEGISLATION AND PROCEEDINGS. INITIATIVE CONSTITUTIONAL AMENDMENT AND STATUTE.                                                    4\n",
              "PROPOSITION 052 - STATE FEES ON HOSPITALS. FEDERAL MEDI-CAL MATCHING FUNDS. INITIATIVE STATUTORY AND CONSTITUTIONAL AMENDMENT.                                  3\n",
              "PROPOSITION 061- STATE PRESCRIPTION DRUG PURCHASES. PRICING STANDARDS. INITIATIVE STATUTE.                                                                      3\n",
              "PROPOSITION 060- ADULT FILMS. CONDOMS. HEALTH REQUIREMENTS. INITIATIVE STATUTE.                                                                                 2\n",
              "PROPOSITION 065- CARRY-OUT BAGS. CHARGES. INITIATIVE STATUTE.                                                                                                   1\n",
              "Name: prop_name, dtype: int64"
            ]
          },
          "metadata": {
            "tags": []
          },
          "execution_count": 22
        }
      ]
    },
    {
      "cell_type": "markdown",
      "metadata": {
        "id": "-w4i49vcjdcU"
      },
      "source": [
        "と、ドットでつなげばよい。こうやって、鎖のようにつなげば、順次処理してくれる。  \r\n",
        "\r\n",
        "さて、出てきた一覧だが、ちょっと見にくい。カウントしてくれたんじゃなかったのかよ……。残念ながら、右端までスクロールしないと見えないし、カウント数の位置も揃っていない。  \r\n",
        "\r\n",
        "これは、１カラムだけ取り出したものは、データフレームではなく、シリーズになってしまって、挙動が異なるため。何だかなあ、と思うが、pandas の癖だと割り切るしかない。もちろん、そのままでいいわけはないので、見やすくする。  \r\n",
        "\r\n",
        "そのためには、鎖にさらに、`reset_index()`を加えてやる。なぜそんなメソッド名か、はこれまた pandas の仕様としか言いようがない。ともあれ、視認性は改善された。"
      ]
    },
    {
      "cell_type": "code",
      "metadata": {
        "colab": {
          "base_uri": "https://localhost:8080/",
          "height": 576
        },
        "id": "aMWdVa5ZlcpH",
        "outputId": "2f98d619-ef92-49bd-d014-06b8c3c69333"
      },
      "source": [
        "committee_list.prop_name.value_counts().reset_index()"
      ],
      "execution_count": null,
      "outputs": [
        {
          "output_type": "execute_result",
          "data": {
            "text/html": [
              "<div>\n",
              "<style scoped>\n",
              "    .dataframe tbody tr th:only-of-type {\n",
              "        vertical-align: middle;\n",
              "    }\n",
              "\n",
              "    .dataframe tbody tr th {\n",
              "        vertical-align: top;\n",
              "    }\n",
              "\n",
              "    .dataframe thead th {\n",
              "        text-align: right;\n",
              "    }\n",
              "</style>\n",
              "<table border=\"1\" class=\"dataframe\">\n",
              "  <thead>\n",
              "    <tr style=\"text-align: right;\">\n",
              "      <th></th>\n",
              "      <th>index</th>\n",
              "      <th>prop_name</th>\n",
              "    </tr>\n",
              "  </thead>\n",
              "  <tbody>\n",
              "    <tr>\n",
              "      <th>0</th>\n",
              "      <td>PROPOSITION 057 - CRIMINAL SENTENCES. JUVENILE...</td>\n",
              "      <td>13</td>\n",
              "    </tr>\n",
              "    <tr>\n",
              "      <th>1</th>\n",
              "      <td>PROPOSITION 056 - CIGARETTE TAX TO FUND HEALTH...</td>\n",
              "      <td>12</td>\n",
              "    </tr>\n",
              "    <tr>\n",
              "      <th>2</th>\n",
              "      <td>PROPOSITION 064- MARIJUANA LEGALIZATION. INITI...</td>\n",
              "      <td>11</td>\n",
              "    </tr>\n",
              "    <tr>\n",
              "      <th>3</th>\n",
              "      <td>PROPOSITION 066- DEATH PENALTY. PROCEDURES. IN...</td>\n",
              "      <td>9</td>\n",
              "    </tr>\n",
              "    <tr>\n",
              "      <th>4</th>\n",
              "      <td>PROPOSITION 055 - TAX EXTENSION TO FUND EDUCAT...</td>\n",
              "      <td>8</td>\n",
              "    </tr>\n",
              "    <tr>\n",
              "      <th>5</th>\n",
              "      <td>PROPOSITION 062- DEATH PENALTY. INITIATIVE STA...</td>\n",
              "      <td>7</td>\n",
              "    </tr>\n",
              "    <tr>\n",
              "      <th>6</th>\n",
              "      <td>PROPOSITION 067- REFERENDUM TO OVERTURN BAN ON...</td>\n",
              "      <td>7</td>\n",
              "    </tr>\n",
              "    <tr>\n",
              "      <th>7</th>\n",
              "      <td>PROPOSITION 059- SB 254 (CHAPTER 20, STATUTES ...</td>\n",
              "      <td>6</td>\n",
              "    </tr>\n",
              "    <tr>\n",
              "      <th>8</th>\n",
              "      <td>PROPOSITION 058 - SB 1174 (CHAPTER 753, STATUT...</td>\n",
              "      <td>4</td>\n",
              "    </tr>\n",
              "    <tr>\n",
              "      <th>9</th>\n",
              "      <td>PROPOSITION 053 - REVENUE BONDS. STATEWIDE VOT...</td>\n",
              "      <td>4</td>\n",
              "    </tr>\n",
              "    <tr>\n",
              "      <th>10</th>\n",
              "      <td>PROPOSITION 063- FIREARMS. AMMUNITION SALES. I...</td>\n",
              "      <td>4</td>\n",
              "    </tr>\n",
              "    <tr>\n",
              "      <th>11</th>\n",
              "      <td>PROPOSITION 051 - SCHOOL BONDS. FUNDING FOR K-...</td>\n",
              "      <td>4</td>\n",
              "    </tr>\n",
              "    <tr>\n",
              "      <th>12</th>\n",
              "      <td>PROPOSITION 054 - LEGISLATURE. LEGISLATION AND...</td>\n",
              "      <td>4</td>\n",
              "    </tr>\n",
              "    <tr>\n",
              "      <th>13</th>\n",
              "      <td>PROPOSITION 052 - STATE FEES ON HOSPITALS. FED...</td>\n",
              "      <td>3</td>\n",
              "    </tr>\n",
              "    <tr>\n",
              "      <th>14</th>\n",
              "      <td>PROPOSITION 061- STATE PRESCRIPTION DRUG PURCH...</td>\n",
              "      <td>3</td>\n",
              "    </tr>\n",
              "    <tr>\n",
              "      <th>15</th>\n",
              "      <td>PROPOSITION 060- ADULT FILMS. CONDOMS. HEALTH ...</td>\n",
              "      <td>2</td>\n",
              "    </tr>\n",
              "    <tr>\n",
              "      <th>16</th>\n",
              "      <td>PROPOSITION 065- CARRY-OUT BAGS. CHARGES. INIT...</td>\n",
              "      <td>1</td>\n",
              "    </tr>\n",
              "  </tbody>\n",
              "</table>\n",
              "</div>"
            ],
            "text/plain": [
              "                                                index  prop_name\n",
              "0   PROPOSITION 057 - CRIMINAL SENTENCES. JUVENILE...         13\n",
              "1   PROPOSITION 056 - CIGARETTE TAX TO FUND HEALTH...         12\n",
              "2   PROPOSITION 064- MARIJUANA LEGALIZATION. INITI...         11\n",
              "3   PROPOSITION 066- DEATH PENALTY. PROCEDURES. IN...          9\n",
              "4   PROPOSITION 055 - TAX EXTENSION TO FUND EDUCAT...          8\n",
              "5   PROPOSITION 062- DEATH PENALTY. INITIATIVE STA...          7\n",
              "6   PROPOSITION 067- REFERENDUM TO OVERTURN BAN ON...          7\n",
              "7   PROPOSITION 059- SB 254 (CHAPTER 20, STATUTES ...          6\n",
              "8   PROPOSITION 058 - SB 1174 (CHAPTER 753, STATUT...          4\n",
              "9   PROPOSITION 053 - REVENUE BONDS. STATEWIDE VOT...          4\n",
              "10  PROPOSITION 063- FIREARMS. AMMUNITION SALES. I...          4\n",
              "11  PROPOSITION 051 - SCHOOL BONDS. FUNDING FOR K-...          4\n",
              "12  PROPOSITION 054 - LEGISLATURE. LEGISLATION AND...          4\n",
              "13  PROPOSITION 052 - STATE FEES ON HOSPITALS. FED...          3\n",
              "14  PROPOSITION 061- STATE PRESCRIPTION DRUG PURCH...          3\n",
              "15  PROPOSITION 060- ADULT FILMS. CONDOMS. HEALTH ...          2\n",
              "16  PROPOSITION 065- CARRY-OUT BAGS. CHARGES. INIT...          1"
            ]
          },
          "metadata": {
            "tags": []
          },
          "execution_count": 23
        }
      ]
    },
    {
      "cell_type": "markdown",
      "metadata": {
        "id": "WTl3mDbPmOwn"
      },
      "source": [
        "---\r\n",
        "\r\n",
        "## 7) データを絞り込む\r\n",
        "\r\n",
        "#### [Chapter 7: Hello filters](https://www.firstpythonnotebook.org/filter/index.html)"
      ]
    },
    {
      "cell_type": "markdown",
      "metadata": {
        "id": "q_cEOCS4mVA7"
      },
      "source": [
        "2016年11月まで、カリフォルニア州ではマリファナの娯楽目的での使用は違法だった。合法化されたのは、選挙の際に併せて投票に付された各種提案のうち、マリファナ合法化を主張する「64号議案」が57％の賛成を得たためだ。  \n",
        "\n",
        "そこで、この64号に関係する、選挙運動委員会および献金者だけを抜き出して調べてみることにしよう。  \n",
        "\n",
        "先ほども取り出してみた、**prop_name** というカラムに手がかりはある。"
      ]
    },
    {
      "cell_type": "code",
      "metadata": {
        "colab": {
          "base_uri": "https://localhost:8080/"
        },
        "id": "ALk1l1TjUuWI",
        "outputId": "cd602e30-d57c-4fdc-a0bc-42e0520ca8bc"
      },
      "source": [
        "# この式は再掲（見にくかったほう。その後のでも、もちろんよい）\n",
        "committee_list.prop_name.value_counts()"
      ],
      "execution_count": null,
      "outputs": [
        {
          "output_type": "execute_result",
          "data": {
            "text/plain": [
              "PROPOSITION 057 - CRIMINAL SENTENCES. JUVENILE CRIMINAL PROCEEDINGS AND SENTENCING. INITIATIVE CONSTITUTIONAL AMENDMENT AND STATUTE.                           13\n",
              "PROPOSITION 056 - CIGARETTE TAX TO FUND HEALTHCARE, TOBACCO USE PREVENTION, RESEARCH, AND LAW ENFORCEMENT. INITIATIVE CONSTITUTIONAL AMENDMENT AND STATUTE.    12\n",
              "PROPOSITION 064- MARIJUANA LEGALIZATION. INITIATIVE STATUTE.                                                                                                   11\n",
              "PROPOSITION 066- DEATH PENALTY. PROCEDURES. INITIATIVE STATUTE.                                                                                                 9\n",
              "PROPOSITION 055 - TAX EXTENSION TO FUND EDUCATION AND HEALTHCARE. INITIATIVE CONSTITUTIONAL AMENDMENT.                                                          8\n",
              "PROPOSITION 062- DEATH PENALTY. INITIATIVE STATUTE.                                                                                                             7\n",
              "PROPOSITION 067- REFERENDUM TO OVERTURN BAN ON SINGLE-USE PLASTIC BAGS.                                                                                         7\n",
              "PROPOSITION 059- SB 254 (CHAPTER 20, STATUTES OF 2016), ALLEN. CAMPAIGN FINANCE: VOTER INSTRUCTION                                                              6\n",
              "PROPOSITION 058 - SB 1174 (CHAPTER 753, STATUTES OF 2014), LARA. ENGLISH LANGUAGE EDUCATION                                                                     4\n",
              "PROPOSITION 053 - REVENUE BONDS. STATEWIDE VOTER APPROVAL. INITIATIVE CONSTITUTIONAL AMENDMENT.                                                                 4\n",
              "PROPOSITION 063- FIREARMS. AMMUNITION SALES. INTIATIVE STATUTE.                                                                                                 4\n",
              "PROPOSITION 051 - SCHOOL BONDS. FUNDING FOR K-12 SCHOOL AND COMMUNITY COLLEGE FACILITIES. INITIATIVE STATUTORY AMENDMENT.                                       4\n",
              "PROPOSITION 054 - LEGISLATURE. LEGISLATION AND PROCEEDINGS. INITIATIVE CONSTITUTIONAL AMENDMENT AND STATUTE.                                                    4\n",
              "PROPOSITION 052 - STATE FEES ON HOSPITALS. FEDERAL MEDI-CAL MATCHING FUNDS. INITIATIVE STATUTORY AND CONSTITUTIONAL AMENDMENT.                                  3\n",
              "PROPOSITION 061- STATE PRESCRIPTION DRUG PURCHASES. PRICING STANDARDS. INITIATIVE STATUTE.                                                                      3\n",
              "PROPOSITION 060- ADULT FILMS. CONDOMS. HEALTH REQUIREMENTS. INITIATIVE STATUTE.                                                                                 2\n",
              "PROPOSITION 065- CARRY-OUT BAGS. CHARGES. INITIATIVE STATUTE.                                                                                                   1\n",
              "Name: prop_name, dtype: int64"
            ]
          },
          "metadata": {
            "tags": []
          },
          "execution_count": 24
        }
      ]
    },
    {
      "cell_type": "markdown",
      "metadata": {
        "id": "o_lw2ChYVjgH"
      },
      "source": [
        "ここから、64号の正式名称をコピーしておこう。これと合致するものだけ、抜き出すようにするため。  \n",
        "\n",
        "PROPOSITION 064- MARIJUANA LEGALIZATION. INITIATIVE STATUTE. \n",
        "\n",
        "これから使い回すのだから、変数に保存したほうが便利だ。  \n",
        "\n",
        "<font color = 'gray'>\n",
        "イコール１つは代入（しつこい）。\n",
        "</font>"
      ]
    },
    {
      "cell_type": "code",
      "metadata": {
        "id": "SDlN5Tj-WPyj"
      },
      "source": [
        "my_prop = 'PROPOSITION 064- MARIJUANA LEGALIZATION. INITIATIVE STATUTE.'"
      ],
      "execution_count": null,
      "outputs": []
    },
    {
      "cell_type": "markdown",
      "metadata": {
        "id": "Pw0G5vYkXFhF"
      },
      "source": [
        "では、絞り込む。[ ]の中に式を入れてやると、その式が成立する（**True** になる）行だけが、抜き出されてくる。\n",
        "\n",
        "いま抜き出したいのは、\n",
        "\n",
        "```prop_name イコール「64号」```  \n",
        "\n",
        "が成立する行だけ。いよいよ「等しい」の出番だ。"
      ]
    },
    {
      "cell_type": "code",
      "metadata": {
        "colab": {
          "base_uri": "https://localhost:8080/"
        },
        "id": "ujVkwSz3B1TJ",
        "outputId": "cd99316d-8d86-41ba-a63b-8387a589c712"
      },
      "source": [
        "committee_list.prop_name == my_prop"
      ],
      "execution_count": null,
      "outputs": [
        {
          "output_type": "execute_result",
          "data": {
            "text/plain": [
              "0      False\n",
              "1      False\n",
              "2      False\n",
              "3      False\n",
              "4      False\n",
              "       ...  \n",
              "97     False\n",
              "98     False\n",
              "99     False\n",
              "100    False\n",
              "101    False\n",
              "Name: prop_name, Length: 102, dtype: bool"
            ]
          },
          "metadata": {
            "tags": []
          },
          "execution_count": 26
        }
      ]
    },
    {
      "cell_type": "markdown",
      "metadata": {
        "id": "QpYNluKLB_EP"
      },
      "source": [
        "このように、等号を２つ並べて表す。これを[ ]に入れてやると"
      ]
    },
    {
      "cell_type": "code",
      "metadata": {
        "colab": {
          "base_uri": "https://localhost:8080/",
          "height": 1000
        },
        "id": "nUCDGbZiYmRD",
        "outputId": "3014e93c-0942-43a4-d382-21e8eb4f829d"
      },
      "source": [
        "committee_list[committee_list.prop_name == my_prop]"
      ],
      "execution_count": null,
      "outputs": [
        {
          "output_type": "execute_result",
          "data": {
            "text/html": [
              "<div>\n",
              "<style scoped>\n",
              "    .dataframe tbody tr th:only-of-type {\n",
              "        vertical-align: middle;\n",
              "    }\n",
              "\n",
              "    .dataframe tbody tr th {\n",
              "        vertical-align: top;\n",
              "    }\n",
              "\n",
              "    .dataframe thead th {\n",
              "        text-align: right;\n",
              "    }\n",
              "</style>\n",
              "<table border=\"1\" class=\"dataframe\">\n",
              "  <thead>\n",
              "    <tr style=\"text-align: right;\">\n",
              "      <th></th>\n",
              "      <th>ocd_prop_id</th>\n",
              "      <th>calaccess_prop_id</th>\n",
              "      <th>ccdc_prop_id</th>\n",
              "      <th>prop_name</th>\n",
              "      <th>ccdc_committee_id</th>\n",
              "      <th>calaccess_committee_id</th>\n",
              "      <th>committee_name</th>\n",
              "      <th>committee_position</th>\n",
              "    </tr>\n",
              "  </thead>\n",
              "  <tbody>\n",
              "    <tr>\n",
              "      <th>74</th>\n",
              "      <td>ocd-contest/232cb72c-1b11-4293-b4e2-a181e80d172e</td>\n",
              "      <td>1381868</td>\n",
              "      <td>83</td>\n",
              "      <td>PROPOSITION 064- MARIJUANA LEGALIZATION. INITI...</td>\n",
              "      <td>456</td>\n",
              "      <td>1381808</td>\n",
              "      <td>YES ON 64, CALIFORNIANS TO CONTROL, REGULATE A...</td>\n",
              "      <td>SUPPORT</td>\n",
              "    </tr>\n",
              "    <tr>\n",
              "      <th>75</th>\n",
              "      <td>ocd-contest/232cb72c-1b11-4293-b4e2-a181e80d172e</td>\n",
              "      <td>1381868</td>\n",
              "      <td>83</td>\n",
              "      <td>PROPOSITION 064- MARIJUANA LEGALIZATION. INITI...</td>\n",
              "      <td>457</td>\n",
              "      <td>1382525</td>\n",
              "      <td>NEW APPROACH PAC (MPO)</td>\n",
              "      <td>SUPPORT</td>\n",
              "    </tr>\n",
              "    <tr>\n",
              "      <th>76</th>\n",
              "      <td>ocd-contest/232cb72c-1b11-4293-b4e2-a181e80d172e</td>\n",
              "      <td>1381868</td>\n",
              "      <td>83</td>\n",
              "      <td>PROPOSITION 064- MARIJUANA LEGALIZATION. INITI...</td>\n",
              "      <td>458</td>\n",
              "      <td>1376077</td>\n",
              "      <td>CALIFORNIANS FOR SENSIBLE REFORM, SPONSORED BY...</td>\n",
              "      <td>SUPPORT</td>\n",
              "    </tr>\n",
              "    <tr>\n",
              "      <th>77</th>\n",
              "      <td>ocd-contest/232cb72c-1b11-4293-b4e2-a181e80d172e</td>\n",
              "      <td>1381868</td>\n",
              "      <td>83</td>\n",
              "      <td>PROPOSITION 064- MARIJUANA LEGALIZATION. INITI...</td>\n",
              "      <td>459</td>\n",
              "      <td>1382568</td>\n",
              "      <td>PUBLIC AND MENTAL HEALTH ADVOCATES AGAINST 64,...</td>\n",
              "      <td>OPPOSE</td>\n",
              "    </tr>\n",
              "    <tr>\n",
              "      <th>78</th>\n",
              "      <td>ocd-contest/232cb72c-1b11-4293-b4e2-a181e80d172e</td>\n",
              "      <td>1381868</td>\n",
              "      <td>83</td>\n",
              "      <td>PROPOSITION 064- MARIJUANA LEGALIZATION. INITI...</td>\n",
              "      <td>460</td>\n",
              "      <td>1371855</td>\n",
              "      <td>MARIJUANA POLICY PROJECT OF CALIFORNIA, YES ON 64</td>\n",
              "      <td>SUPPORT</td>\n",
              "    </tr>\n",
              "    <tr>\n",
              "      <th>79</th>\n",
              "      <td>ocd-contest/232cb72c-1b11-4293-b4e2-a181e80d172e</td>\n",
              "      <td>1381868</td>\n",
              "      <td>83</td>\n",
              "      <td>PROPOSITION 064- MARIJUANA LEGALIZATION. INITI...</td>\n",
              "      <td>461</td>\n",
              "      <td>1343793</td>\n",
              "      <td>CALIFORNIANS FOR RESPONSIBLE MARIJUANA REFORM,...</td>\n",
              "      <td>SUPPORT</td>\n",
              "    </tr>\n",
              "    <tr>\n",
              "      <th>80</th>\n",
              "      <td>ocd-contest/232cb72c-1b11-4293-b4e2-a181e80d172e</td>\n",
              "      <td>1381868</td>\n",
              "      <td>83</td>\n",
              "      <td>PROPOSITION 064- MARIJUANA LEGALIZATION. INITI...</td>\n",
              "      <td>462</td>\n",
              "      <td>1386560</td>\n",
              "      <td>ADULT USE CAMPAIGN FOR PROPOSITION 64; THE</td>\n",
              "      <td>SUPPORT</td>\n",
              "    </tr>\n",
              "    <tr>\n",
              "      <th>81</th>\n",
              "      <td>ocd-contest/232cb72c-1b11-4293-b4e2-a181e80d172e</td>\n",
              "      <td>1381868</td>\n",
              "      <td>83</td>\n",
              "      <td>PROPOSITION 064- MARIJUANA LEGALIZATION. INITI...</td>\n",
              "      <td>463</td>\n",
              "      <td>1387789</td>\n",
              "      <td>SAM ACTION, INC., A COMMITTEE AGAINST PROPOSIT...</td>\n",
              "      <td>OPPOSE</td>\n",
              "    </tr>\n",
              "    <tr>\n",
              "      <th>82</th>\n",
              "      <td>ocd-contest/232cb72c-1b11-4293-b4e2-a181e80d172e</td>\n",
              "      <td>1381868</td>\n",
              "      <td>83</td>\n",
              "      <td>PROPOSITION 064- MARIJUANA LEGALIZATION. INITI...</td>\n",
              "      <td>464</td>\n",
              "      <td>1385506</td>\n",
              "      <td>DRUG POLICY ACTION - NON PROFIT 501C4, YES ON ...</td>\n",
              "      <td>SUPPORT</td>\n",
              "    </tr>\n",
              "    <tr>\n",
              "      <th>83</th>\n",
              "      <td>ocd-contest/232cb72c-1b11-4293-b4e2-a181e80d172e</td>\n",
              "      <td>1381868</td>\n",
              "      <td>83</td>\n",
              "      <td>PROPOSITION 064- MARIJUANA LEGALIZATION. INITI...</td>\n",
              "      <td>465</td>\n",
              "      <td>1385745</td>\n",
              "      <td>FUND FOR POLICY REFORM (NONPROFIT 501(C)(4))</td>\n",
              "      <td>SUPPORT</td>\n",
              "    </tr>\n",
              "    <tr>\n",
              "      <th>84</th>\n",
              "      <td>ocd-contest/232cb72c-1b11-4293-b4e2-a181e80d172e</td>\n",
              "      <td>1381868</td>\n",
              "      <td>83</td>\n",
              "      <td>PROPOSITION 064- MARIJUANA LEGALIZATION. INITI...</td>\n",
              "      <td>466</td>\n",
              "      <td>1390962</td>\n",
              "      <td>MOMS STRONG AGAINST PROP 64</td>\n",
              "      <td>OPPOSE</td>\n",
              "    </tr>\n",
              "  </tbody>\n",
              "</table>\n",
              "</div>"
            ],
            "text/plain": [
              "                                         ocd_prop_id  ...  committee_position\n",
              "74  ocd-contest/232cb72c-1b11-4293-b4e2-a181e80d172e  ...             SUPPORT\n",
              "75  ocd-contest/232cb72c-1b11-4293-b4e2-a181e80d172e  ...             SUPPORT\n",
              "76  ocd-contest/232cb72c-1b11-4293-b4e2-a181e80d172e  ...             SUPPORT\n",
              "77  ocd-contest/232cb72c-1b11-4293-b4e2-a181e80d172e  ...              OPPOSE\n",
              "78  ocd-contest/232cb72c-1b11-4293-b4e2-a181e80d172e  ...             SUPPORT\n",
              "79  ocd-contest/232cb72c-1b11-4293-b4e2-a181e80d172e  ...             SUPPORT\n",
              "80  ocd-contest/232cb72c-1b11-4293-b4e2-a181e80d172e  ...             SUPPORT\n",
              "81  ocd-contest/232cb72c-1b11-4293-b4e2-a181e80d172e  ...              OPPOSE\n",
              "82  ocd-contest/232cb72c-1b11-4293-b4e2-a181e80d172e  ...             SUPPORT\n",
              "83  ocd-contest/232cb72c-1b11-4293-b4e2-a181e80d172e  ...             SUPPORT\n",
              "84  ocd-contest/232cb72c-1b11-4293-b4e2-a181e80d172e  ...              OPPOSE\n",
              "\n",
              "[11 rows x 8 columns]"
            ]
          },
          "metadata": {
            "tags": []
          },
          "execution_count": 27
        }
      ]
    },
    {
      "cell_type": "markdown",
      "metadata": {
        "id": "VbxgPDE9Y2fB"
      },
      "source": [
        "となる。うまく行った。では、変数に保存しておこう。代入は……"
      ]
    },
    {
      "cell_type": "code",
      "metadata": {
        "id": "-5Fb60GKY-Ft"
      },
      "source": [
        "my_committees = committee_list[committee_list.prop_name == my_prop] "
      ],
      "execution_count": null,
      "outputs": []
    },
    {
      "cell_type": "markdown",
      "metadata": {
        "id": "wjrP9LrnZGes"
      },
      "source": [
        "あとは、いつものように、概観しておく。まず、先頭部分。"
      ]
    },
    {
      "cell_type": "code",
      "metadata": {
        "colab": {
          "base_uri": "https://localhost:8080/",
          "height": 564
        },
        "id": "nml1089rZSXE",
        "outputId": "38b5c3a2-74b0-4bb3-c9f1-a946a34f1069"
      },
      "source": [
        "my_committees.head()"
      ],
      "execution_count": null,
      "outputs": [
        {
          "output_type": "execute_result",
          "data": {
            "text/html": [
              "<div>\n",
              "<style scoped>\n",
              "    .dataframe tbody tr th:only-of-type {\n",
              "        vertical-align: middle;\n",
              "    }\n",
              "\n",
              "    .dataframe tbody tr th {\n",
              "        vertical-align: top;\n",
              "    }\n",
              "\n",
              "    .dataframe thead th {\n",
              "        text-align: right;\n",
              "    }\n",
              "</style>\n",
              "<table border=\"1\" class=\"dataframe\">\n",
              "  <thead>\n",
              "    <tr style=\"text-align: right;\">\n",
              "      <th></th>\n",
              "      <th>ocd_prop_id</th>\n",
              "      <th>calaccess_prop_id</th>\n",
              "      <th>ccdc_prop_id</th>\n",
              "      <th>prop_name</th>\n",
              "      <th>ccdc_committee_id</th>\n",
              "      <th>calaccess_committee_id</th>\n",
              "      <th>committee_name</th>\n",
              "      <th>committee_position</th>\n",
              "    </tr>\n",
              "  </thead>\n",
              "  <tbody>\n",
              "    <tr>\n",
              "      <th>74</th>\n",
              "      <td>ocd-contest/232cb72c-1b11-4293-b4e2-a181e80d172e</td>\n",
              "      <td>1381868</td>\n",
              "      <td>83</td>\n",
              "      <td>PROPOSITION 064- MARIJUANA LEGALIZATION. INITI...</td>\n",
              "      <td>456</td>\n",
              "      <td>1381808</td>\n",
              "      <td>YES ON 64, CALIFORNIANS TO CONTROL, REGULATE A...</td>\n",
              "      <td>SUPPORT</td>\n",
              "    </tr>\n",
              "    <tr>\n",
              "      <th>75</th>\n",
              "      <td>ocd-contest/232cb72c-1b11-4293-b4e2-a181e80d172e</td>\n",
              "      <td>1381868</td>\n",
              "      <td>83</td>\n",
              "      <td>PROPOSITION 064- MARIJUANA LEGALIZATION. INITI...</td>\n",
              "      <td>457</td>\n",
              "      <td>1382525</td>\n",
              "      <td>NEW APPROACH PAC (MPO)</td>\n",
              "      <td>SUPPORT</td>\n",
              "    </tr>\n",
              "    <tr>\n",
              "      <th>76</th>\n",
              "      <td>ocd-contest/232cb72c-1b11-4293-b4e2-a181e80d172e</td>\n",
              "      <td>1381868</td>\n",
              "      <td>83</td>\n",
              "      <td>PROPOSITION 064- MARIJUANA LEGALIZATION. INITI...</td>\n",
              "      <td>458</td>\n",
              "      <td>1376077</td>\n",
              "      <td>CALIFORNIANS FOR SENSIBLE REFORM, SPONSORED BY...</td>\n",
              "      <td>SUPPORT</td>\n",
              "    </tr>\n",
              "    <tr>\n",
              "      <th>77</th>\n",
              "      <td>ocd-contest/232cb72c-1b11-4293-b4e2-a181e80d172e</td>\n",
              "      <td>1381868</td>\n",
              "      <td>83</td>\n",
              "      <td>PROPOSITION 064- MARIJUANA LEGALIZATION. INITI...</td>\n",
              "      <td>459</td>\n",
              "      <td>1382568</td>\n",
              "      <td>PUBLIC AND MENTAL HEALTH ADVOCATES AGAINST 64,...</td>\n",
              "      <td>OPPOSE</td>\n",
              "    </tr>\n",
              "    <tr>\n",
              "      <th>78</th>\n",
              "      <td>ocd-contest/232cb72c-1b11-4293-b4e2-a181e80d172e</td>\n",
              "      <td>1381868</td>\n",
              "      <td>83</td>\n",
              "      <td>PROPOSITION 064- MARIJUANA LEGALIZATION. INITI...</td>\n",
              "      <td>460</td>\n",
              "      <td>1371855</td>\n",
              "      <td>MARIJUANA POLICY PROJECT OF CALIFORNIA, YES ON 64</td>\n",
              "      <td>SUPPORT</td>\n",
              "    </tr>\n",
              "  </tbody>\n",
              "</table>\n",
              "</div>"
            ],
            "text/plain": [
              "                                         ocd_prop_id  ...  committee_position\n",
              "74  ocd-contest/232cb72c-1b11-4293-b4e2-a181e80d172e  ...             SUPPORT\n",
              "75  ocd-contest/232cb72c-1b11-4293-b4e2-a181e80d172e  ...             SUPPORT\n",
              "76  ocd-contest/232cb72c-1b11-4293-b4e2-a181e80d172e  ...             SUPPORT\n",
              "77  ocd-contest/232cb72c-1b11-4293-b4e2-a181e80d172e  ...              OPPOSE\n",
              "78  ocd-contest/232cb72c-1b11-4293-b4e2-a181e80d172e  ...             SUPPORT\n",
              "\n",
              "[5 rows x 8 columns]"
            ]
          },
          "metadata": {
            "tags": []
          },
          "execution_count": 29
        }
      ]
    },
    {
      "cell_type": "markdown",
      "metadata": {
        "id": "mJ9jO4r5ZXFB"
      },
      "source": [
        "それから、こちらも。"
      ]
    },
    {
      "cell_type": "code",
      "metadata": {
        "colab": {
          "base_uri": "https://localhost:8080/"
        },
        "id": "w_f0X_HiZjRm",
        "outputId": "93a870c4-07ee-408b-c38b-56967bb670fa"
      },
      "source": [
        "my_committees.info()"
      ],
      "execution_count": null,
      "outputs": [
        {
          "output_type": "stream",
          "text": [
            "<class 'pandas.core.frame.DataFrame'>\n",
            "Int64Index: 11 entries, 74 to 84\n",
            "Data columns (total 8 columns):\n",
            " #   Column                  Non-Null Count  Dtype \n",
            "---  ------                  --------------  ----- \n",
            " 0   ocd_prop_id             11 non-null     object\n",
            " 1   calaccess_prop_id       11 non-null     int64 \n",
            " 2   ccdc_prop_id            11 non-null     int64 \n",
            " 3   prop_name               11 non-null     object\n",
            " 4   ccdc_committee_id       11 non-null     int64 \n",
            " 5   calaccess_committee_id  11 non-null     int64 \n",
            " 6   committee_name          11 non-null     object\n",
            " 7   committee_position      11 non-null     object\n",
            "dtypes: int64(4), object(4)\n",
            "memory usage: 792.0+ bytes\n"
          ],
          "name": "stdout"
        }
      ]
    },
    {
      "cell_type": "markdown",
      "metadata": {
        "id": "7EdYf6D9Z020"
      },
      "source": [
        "６章末の表でも分かることだが、64号関係の委員会は11ある。"
      ]
    },
    {
      "cell_type": "markdown",
      "metadata": {
        "id": "JXLmbNEGaHGH"
      },
      "source": [
        "---\n",
        "\n",
        "## 8) 2つの表を結合する\n",
        "\n",
        "#### [Chapter 8: Hello merge](https://www.firstpythonnotebook.org/merge/index.html)"
      ]
    },
    {
      "cell_type": "markdown",
      "metadata": {
        "id": "kPpH9OA61ufa"
      },
      "source": [
        "今度は、献金者のデータについて、やはり64号に関係するものだけを抜き出したい。前章と同様の方法で、絞り込むことはもちろんできる。\n",
        "\n",
        "が、注意深く見てみよう。"
      ]
    },
    {
      "cell_type": "code",
      "metadata": {
        "colab": {
          "base_uri": "https://localhost:8080/"
        },
        "id": "yavwdrtV2bjT",
        "outputId": "ce0570df-04fc-4f91-a141-e02e2c137caa"
      },
      "source": [
        "contrib_list.info()"
      ],
      "execution_count": null,
      "outputs": [
        {
          "output_type": "stream",
          "text": [
            "<class 'pandas.core.frame.DataFrame'>\n",
            "RangeIndex: 56379 entries, 0 to 56378\n",
            "Data columns (total 13 columns):\n",
            " #   Column                        Non-Null Count  Dtype  \n",
            "---  ------                        --------------  -----  \n",
            " 0   calaccess_committee_id        56379 non-null  int64  \n",
            " 1   committee_name                56379 non-null  object \n",
            " 2   calaccess_filing_id           56379 non-null  int64  \n",
            " 3   date_received                 56379 non-null  object \n",
            " 4   contributor_lastname          56375 non-null  object \n",
            " 5   contributor_firstname         53411 non-null  object \n",
            " 6   contributor_city              56369 non-null  object \n",
            " 7   contributor_state             56363 non-null  object \n",
            " 8   contributor_zip               56366 non-null  object \n",
            " 9   contributor_employer          48572 non-null  object \n",
            " 10  contributor_occupation        53273 non-null  object \n",
            " 11  contributor_is_self_employed  56379 non-null  bool   \n",
            " 12  amount                        56379 non-null  float64\n",
            "dtypes: bool(1), float64(1), int64(2), object(9)\n",
            "memory usage: 5.2+ MB\n"
          ],
          "name": "stdout"
        }
      ]
    },
    {
      "cell_type": "markdown",
      "metadata": {
        "id": "l4_R5FGi2d45"
      },
      "source": [
        "先ほどの委員会と比べてみる。"
      ]
    },
    {
      "cell_type": "code",
      "metadata": {
        "colab": {
          "base_uri": "https://localhost:8080/"
        },
        "id": "sn-wi4tJ2ceT",
        "outputId": "30e932eb-7a46-4790-9f7c-96cd4e66f607"
      },
      "source": [
        "committee_list.info()"
      ],
      "execution_count": null,
      "outputs": [
        {
          "output_type": "stream",
          "text": [
            "<class 'pandas.core.frame.DataFrame'>\n",
            "RangeIndex: 102 entries, 0 to 101\n",
            "Data columns (total 8 columns):\n",
            " #   Column                  Non-Null Count  Dtype \n",
            "---  ------                  --------------  ----- \n",
            " 0   ocd_prop_id             102 non-null    object\n",
            " 1   calaccess_prop_id       102 non-null    int64 \n",
            " 2   ccdc_prop_id            102 non-null    int64 \n",
            " 3   prop_name               102 non-null    object\n",
            " 4   ccdc_committee_id       102 non-null    int64 \n",
            " 5   calaccess_committee_id  102 non-null    int64 \n",
            " 6   committee_name          102 non-null    object\n",
            " 7   committee_position      102 non-null    object\n",
            "dtypes: int64(4), object(4)\n",
            "memory usage: 6.5+ KB\n"
          ],
          "name": "stdout"
        }
      ]
    },
    {
      "cell_type": "markdown",
      "metadata": {
        "id": "Pg_g011S288c"
      },
      "source": [
        "どちらにも、**calaccess_committee_id** というカラムがあることが分かる。だったら、この列をキーとして、２つのデータを付き合わせて、１つに結合することができるではないか。\n",
        "\n",
        "SQL で JOIN と言っているものに相当する。pandas では merge と言っているが、仕組みは同じ。\n",
        "\n",
        "<font color = 'gray'>\n",
        "JOIN にも、INNER JOIN や LEFT JOIN など何種類かあって、突合できなかったレコードをどう扱うかが違う。残すか、なかったことになるか、とんでもない挙動の差なので、よくよく考えてから使うこと。\n",
        "</font>\n",
        "\n",
        "pandas の merge は、２つのデータフレームを見てキーを付き合わせ、両方のデータフレームにあったレコードだけを保持するのが、デフォルトの動作。INNER JOIN に相当する。\n",
        "\n",
        "なので、すでに64号関係分だけに絞った委員会のデータフレームと、元のままの献金者のデータフレームを merge してやれば、64号関係分だけが残る。つまり、突き合わせと絞り込み処理が一度に済むので、好都合。"
      ]
    },
    {
      "cell_type": "code",
      "metadata": {
        "id": "bYWP_Ka76vDr"
      },
      "source": [
        "merged = pd.merge(my_committees, contrib_list, on = \"calaccess_committee_id\") "
      ],
      "execution_count": null,
      "outputs": []
    },
    {
      "cell_type": "markdown",
      "metadata": {
        "id": "hliZoywM8p4A"
      },
      "source": [
        "概要を見ておく。冒頭部分。"
      ]
    },
    {
      "cell_type": "code",
      "metadata": {
        "colab": {
          "base_uri": "https://localhost:8080/",
          "height": 564
        },
        "id": "0L1nEPzh8pcX",
        "outputId": "0b4ca846-a1cd-4fc1-9915-e2fa48b2a65e"
      },
      "source": [
        "merged.head()"
      ],
      "execution_count": null,
      "outputs": [
        {
          "output_type": "execute_result",
          "data": {
            "text/html": [
              "<div>\n",
              "<style scoped>\n",
              "    .dataframe tbody tr th:only-of-type {\n",
              "        vertical-align: middle;\n",
              "    }\n",
              "\n",
              "    .dataframe tbody tr th {\n",
              "        vertical-align: top;\n",
              "    }\n",
              "\n",
              "    .dataframe thead th {\n",
              "        text-align: right;\n",
              "    }\n",
              "</style>\n",
              "<table border=\"1\" class=\"dataframe\">\n",
              "  <thead>\n",
              "    <tr style=\"text-align: right;\">\n",
              "      <th></th>\n",
              "      <th>ocd_prop_id</th>\n",
              "      <th>calaccess_prop_id</th>\n",
              "      <th>ccdc_prop_id</th>\n",
              "      <th>prop_name</th>\n",
              "      <th>ccdc_committee_id</th>\n",
              "      <th>calaccess_committee_id</th>\n",
              "      <th>committee_name_x</th>\n",
              "      <th>committee_position</th>\n",
              "      <th>committee_name_y</th>\n",
              "      <th>calaccess_filing_id</th>\n",
              "      <th>date_received</th>\n",
              "      <th>contributor_lastname</th>\n",
              "      <th>contributor_firstname</th>\n",
              "      <th>contributor_city</th>\n",
              "      <th>contributor_state</th>\n",
              "      <th>contributor_zip</th>\n",
              "      <th>contributor_employer</th>\n",
              "      <th>contributor_occupation</th>\n",
              "      <th>contributor_is_self_employed</th>\n",
              "      <th>amount</th>\n",
              "    </tr>\n",
              "  </thead>\n",
              "  <tbody>\n",
              "    <tr>\n",
              "      <th>0</th>\n",
              "      <td>ocd-contest/232cb72c-1b11-4293-b4e2-a181e80d172e</td>\n",
              "      <td>1381868</td>\n",
              "      <td>83</td>\n",
              "      <td>PROPOSITION 064- MARIJUANA LEGALIZATION. INITI...</td>\n",
              "      <td>456</td>\n",
              "      <td>1381808</td>\n",
              "      <td>YES ON 64, CALIFORNIANS TO CONTROL, REGULATE A...</td>\n",
              "      <td>SUPPORT</td>\n",
              "      <td>YES ON 64, CALIFORNIANS TO CONTROL, REGULATE A...</td>\n",
              "      <td>2038581</td>\n",
              "      <td>2016-02-04</td>\n",
              "      <td>BRADEN QUIGLEY</td>\n",
              "      <td>LAURA</td>\n",
              "      <td>SACRAMENTO</td>\n",
              "      <td>CA</td>\n",
              "      <td>95825</td>\n",
              "      <td>LBQ STRATEGIES</td>\n",
              "      <td>CONSULTANT</td>\n",
              "      <td>False</td>\n",
              "      <td>100.0</td>\n",
              "    </tr>\n",
              "    <tr>\n",
              "      <th>1</th>\n",
              "      <td>ocd-contest/232cb72c-1b11-4293-b4e2-a181e80d172e</td>\n",
              "      <td>1381868</td>\n",
              "      <td>83</td>\n",
              "      <td>PROPOSITION 064- MARIJUANA LEGALIZATION. INITI...</td>\n",
              "      <td>456</td>\n",
              "      <td>1381808</td>\n",
              "      <td>YES ON 64, CALIFORNIANS TO CONTROL, REGULATE A...</td>\n",
              "      <td>SUPPORT</td>\n",
              "      <td>YES ON 64, CALIFORNIANS TO CONTROL, REGULATE A...</td>\n",
              "      <td>2038581</td>\n",
              "      <td>2016-01-05</td>\n",
              "      <td>CALIFORNIANS FOR SENSIBLE REFORM, SPONSORED BY...</td>\n",
              "      <td>NaN</td>\n",
              "      <td>IRVINE</td>\n",
              "      <td>CA</td>\n",
              "      <td>92618</td>\n",
              "      <td>NaN</td>\n",
              "      <td>NaN</td>\n",
              "      <td>False</td>\n",
              "      <td>250000.0</td>\n",
              "    </tr>\n",
              "    <tr>\n",
              "      <th>2</th>\n",
              "      <td>ocd-contest/232cb72c-1b11-4293-b4e2-a181e80d172e</td>\n",
              "      <td>1381868</td>\n",
              "      <td>83</td>\n",
              "      <td>PROPOSITION 064- MARIJUANA LEGALIZATION. INITI...</td>\n",
              "      <td>456</td>\n",
              "      <td>1381808</td>\n",
              "      <td>YES ON 64, CALIFORNIANS TO CONTROL, REGULATE A...</td>\n",
              "      <td>SUPPORT</td>\n",
              "      <td>YES ON 64, CALIFORNIANS TO CONTROL, REGULATE A...</td>\n",
              "      <td>2038581</td>\n",
              "      <td>2016-01-29</td>\n",
              "      <td>CALIFORNIANS FOR SENSIBLE REFORM, SPONSORED BY...</td>\n",
              "      <td>NaN</td>\n",
              "      <td>IRVINE</td>\n",
              "      <td>CA</td>\n",
              "      <td>92618</td>\n",
              "      <td>NaN</td>\n",
              "      <td>NaN</td>\n",
              "      <td>False</td>\n",
              "      <td>250000.0</td>\n",
              "    </tr>\n",
              "    <tr>\n",
              "      <th>3</th>\n",
              "      <td>ocd-contest/232cb72c-1b11-4293-b4e2-a181e80d172e</td>\n",
              "      <td>1381868</td>\n",
              "      <td>83</td>\n",
              "      <td>PROPOSITION 064- MARIJUANA LEGALIZATION. INITI...</td>\n",
              "      <td>456</td>\n",
              "      <td>1381808</td>\n",
              "      <td>YES ON 64, CALIFORNIANS TO CONTROL, REGULATE A...</td>\n",
              "      <td>SUPPORT</td>\n",
              "      <td>YES ON 64, CALIFORNIANS TO CONTROL, REGULATE A...</td>\n",
              "      <td>2038581</td>\n",
              "      <td>2016-03-28</td>\n",
              "      <td>CALIFORNIANS FOR SENSIBLE REFORM, SPONSORED BY...</td>\n",
              "      <td>NaN</td>\n",
              "      <td>IRVINE</td>\n",
              "      <td>CA</td>\n",
              "      <td>92618</td>\n",
              "      <td>NaN</td>\n",
              "      <td>NaN</td>\n",
              "      <td>False</td>\n",
              "      <td>250000.0</td>\n",
              "    </tr>\n",
              "    <tr>\n",
              "      <th>4</th>\n",
              "      <td>ocd-contest/232cb72c-1b11-4293-b4e2-a181e80d172e</td>\n",
              "      <td>1381868</td>\n",
              "      <td>83</td>\n",
              "      <td>PROPOSITION 064- MARIJUANA LEGALIZATION. INITI...</td>\n",
              "      <td>456</td>\n",
              "      <td>1381808</td>\n",
              "      <td>YES ON 64, CALIFORNIANS TO CONTROL, REGULATE A...</td>\n",
              "      <td>SUPPORT</td>\n",
              "      <td>YES ON 64, CALIFORNIANS TO CONTROL, REGULATE A...</td>\n",
              "      <td>2038581</td>\n",
              "      <td>2016-01-05</td>\n",
              "      <td>DRUG POLICY ACTION</td>\n",
              "      <td>NaN</td>\n",
              "      <td>NEW YORK</td>\n",
              "      <td>NY</td>\n",
              "      <td>10001</td>\n",
              "      <td>NaN</td>\n",
              "      <td>NaN</td>\n",
              "      <td>False</td>\n",
              "      <td>250000.0</td>\n",
              "    </tr>\n",
              "  </tbody>\n",
              "</table>\n",
              "</div>"
            ],
            "text/plain": [
              "                                        ocd_prop_id  ...    amount\n",
              "0  ocd-contest/232cb72c-1b11-4293-b4e2-a181e80d172e  ...     100.0\n",
              "1  ocd-contest/232cb72c-1b11-4293-b4e2-a181e80d172e  ...  250000.0\n",
              "2  ocd-contest/232cb72c-1b11-4293-b4e2-a181e80d172e  ...  250000.0\n",
              "3  ocd-contest/232cb72c-1b11-4293-b4e2-a181e80d172e  ...  250000.0\n",
              "4  ocd-contest/232cb72c-1b11-4293-b4e2-a181e80d172e  ...  250000.0\n",
              "\n",
              "[5 rows x 20 columns]"
            ]
          },
          "metadata": {
            "tags": []
          },
          "execution_count": 34
        }
      ]
    },
    {
      "cell_type": "markdown",
      "metadata": {
        "id": "FlUn4Anm9T3B"
      },
      "source": [
        "merge の結果は？　５万レコード超の献金者一覧のうち、何行残っただろうか。"
      ]
    },
    {
      "cell_type": "code",
      "metadata": {
        "colab": {
          "base_uri": "https://localhost:8080/"
        },
        "id": "AQ7vdWXE82gk",
        "outputId": "04ac719b-283f-4dd2-8475-82e4bbeb1f4f"
      },
      "source": [
        "merged.info()"
      ],
      "execution_count": null,
      "outputs": [
        {
          "output_type": "stream",
          "text": [
            "<class 'pandas.core.frame.DataFrame'>\n",
            "Int64Index: 860 entries, 0 to 859\n",
            "Data columns (total 20 columns):\n",
            " #   Column                        Non-Null Count  Dtype  \n",
            "---  ------                        --------------  -----  \n",
            " 0   ocd_prop_id                   860 non-null    object \n",
            " 1   calaccess_prop_id             860 non-null    int64  \n",
            " 2   ccdc_prop_id                  860 non-null    int64  \n",
            " 3   prop_name                     860 non-null    object \n",
            " 4   ccdc_committee_id             860 non-null    int64  \n",
            " 5   calaccess_committee_id        860 non-null    int64  \n",
            " 6   committee_name_x              860 non-null    object \n",
            " 7   committee_position            860 non-null    object \n",
            " 8   committee_name_y              860 non-null    object \n",
            " 9   calaccess_filing_id           860 non-null    int64  \n",
            " 10  date_received                 860 non-null    object \n",
            " 11  contributor_lastname          860 non-null    object \n",
            " 12  contributor_firstname         750 non-null    object \n",
            " 13  contributor_city              860 non-null    object \n",
            " 14  contributor_state             860 non-null    object \n",
            " 15  contributor_zip               860 non-null    object \n",
            " 16  contributor_employer          657 non-null    object \n",
            " 17  contributor_occupation        742 non-null    object \n",
            " 18  contributor_is_self_employed  860 non-null    bool   \n",
            " 19  amount                        860 non-null    float64\n",
            "dtypes: bool(1), float64(1), int64(5), object(13)\n",
            "memory usage: 135.2+ KB\n"
          ],
          "name": "stdout"
        }
      ]
    },
    {
      "cell_type": "markdown",
      "metadata": {
        "id": "hKlwMmtQ91Gc"
      },
      "source": [
        "5万超のレコードが、860行まで絞り込まれた。\n",
        "\n",
        "merge してできた新しいデータフレームには、元になった２つの表のカラムが、すべて含まれている。\n",
        "\n",
        "もし、両方の表に同名のカラムがあれば、両方を保持した上で、committee_name_x と committee_name_y のように、区別がつくよう目印付きに変更される。ただし、突合に使ったキー列は、ダブらない（突き合わせ処理しているわけだから）。\n",
        "\n",
        "さあ、これで、64号議案分だけの献金者＋委員会のデータベースが手に入った。データにインタビューするつもりで、さらに見ていこう。"
      ]
    },
    {
      "cell_type": "markdown",
      "metadata": {
        "id": "ZDPc2rTtWAGd"
      },
      "source": [
        "---\r\n",
        "\r\n",
        "## 9) 合計する\r\n",
        "\r\n",
        "#### [Chapter 9: Hello totals](https://www.firstpythonnotebook.org/totals/index.html)\r\n"
      ]
    },
    {
      "cell_type": "markdown",
      "metadata": {
        "id": "CTSJVxp4WmXT"
      },
      "source": [
        "この私製データベースから何が引き出せるか。人間の情報源に接するときと、ポイントは変わらない。つまるところ、よいストーリーを書くためには，注意深く、徹底して、問いをぶつける必要がある。64号議案に関する最大の献金者は何者なのか解明するため、探索を続けよう。\r\n",
        "\r\n",
        "３章で使った小技を利用して（思い出して）、64号についての献金報告の合計額を求めてみる。着目するのは、**amount** のカラムだ。まず、そのカラムを取り出す。"
      ]
    },
    {
      "cell_type": "code",
      "metadata": {
        "colab": {
          "base_uri": "https://localhost:8080/"
        },
        "id": "khp_Kku4X6kR",
        "outputId": "17792851-1a66-4360-fccf-e0799b8e8510"
      },
      "source": [
        "merged.amount"
      ],
      "execution_count": 36,
      "outputs": [
        {
          "output_type": "execute_result",
          "data": {
            "text/plain": [
              "0         100.00\n",
              "1      250000.00\n",
              "2      250000.00\n",
              "3      250000.00\n",
              "4      250000.00\n",
              "         ...    \n",
              "855     97000.00\n",
              "856      4185.00\n",
              "857       817.00\n",
              "858       408.64\n",
              "859       871.00\n",
              "Name: amount, Length: 860, dtype: float64"
            ]
          },
          "metadata": {
            "tags": []
          },
          "execution_count": 36
        }
      ]
    },
    {
      "cell_type": "markdown",
      "metadata": {
        "id": "ej7zC1Y0cPDQ"
      },
      "source": [
        "そして、合計する。`sum()` を使うのだった。"
      ]
    },
    {
      "cell_type": "code",
      "metadata": {
        "colab": {
          "base_uri": "https://localhost:8080/"
        },
        "id": "Kpg21UyDcXta",
        "outputId": "74e54c57-d96c-4e43-bcf7-d57208011d60"
      },
      "source": [
        "merged.amount.sum()"
      ],
      "execution_count": 39,
      "outputs": [
        {
          "output_type": "execute_result",
          "data": {
            "text/plain": [
              "35177017.64"
            ]
          },
          "metadata": {
            "tags": []
          },
          "execution_count": 39
        }
      ]
    },
    {
      "cell_type": "markdown",
      "metadata": {
        "id": "6OauY-Pscitr"
      },
      "source": [
        "よし、でた。では、発信するか！\r\n",
        "\r\n",
        "...先走ってはいけない。実は、間違っている。\r\n",
        "\r\n",
        "ここで求めた額は、64号議案の〓〓"
      ]
    }
  ]
}