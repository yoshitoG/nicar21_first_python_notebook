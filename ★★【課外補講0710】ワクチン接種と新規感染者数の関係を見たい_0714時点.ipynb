{
  "nbformat": 4,
  "nbformat_minor": 0,
  "metadata": {
    "colab": {
      "name": "★★【課外補講0710】ワクチン接種と新規感染者数の関係を見たい_0714時点.ipynb",
      "provenance": [],
      "collapsed_sections": [],
      "include_colab_link": true
    },
    "kernelspec": {
      "name": "ir",
      "display_name": "R"
    },
    "language_info": {
      "name": "R"
    }
  },
  "cells": [
    {
      "cell_type": "markdown",
      "metadata": {
        "id": "view-in-github",
        "colab_type": "text"
      },
      "source": [
        "<a href=\"https://colab.research.google.com/github/yoshitoG/nicar21_first_python_notebook/blob/main/%E2%98%85%E2%98%85%E3%80%90%E8%AA%B2%E5%A4%96%E8%A3%9C%E8%AC%9B0710%E3%80%91%E3%83%AF%E3%82%AF%E3%83%81%E3%83%B3%E6%8E%A5%E7%A8%AE%E3%81%A8%E6%96%B0%E8%A6%8F%E6%84%9F%E6%9F%93%E8%80%85%E6%95%B0%E3%81%AE%E9%96%A2%E4%BF%82%E3%82%92%E8%A6%8B%E3%81%9F%E3%81%84_0714%E6%99%82%E7%82%B9.ipynb\" target=\"_parent\"><img src=\"https://colab.research.google.com/assets/colab-badge.svg\" alt=\"Open In Colab\"/></a>"
      ]
    },
    {
      "cell_type": "markdown",
      "metadata": {
        "id": "akhZOL3DSEcy"
      },
      "source": [
        "# 新型コロナワクチン接種と、感染者数の関係を見たい\n",
        "### Google Colab で「R」を試す\n",
        "\n",
        "小宮山さんや山本さんの講義の補足。終了後にゆっくり目を通していただければ十分です。Slackのinformationチャンネルに松波さんが投稿している、tidyverseの基本の[解説](https://jnpcitseminar.slack.com/files/UGX4CGHNZ/F026EJU680M/memo_for_r_beginners.rmd)へのつなぎ、だと思って下さい。\n",
        "\n",
        "このノートのコードは、PythonではなくRです。なお、Google Colabolatory で実行環境をRにしたノートを新規作成するには、[こちらのリンク](https://colab.research.google.com/notebook#create=true&language=r)を使うのが手っ取り早い方法です。\n",
        "\n",
        "Colabで見ていただいている方は、上のメニュー欄の「ファイル」から「ドライブにコピーを保存」を選んだ後、ご自身の環境で実際に動かして試してみて下さい。\n",
        "\n",
        "お急ぎの方は、２の「その前に」は飛ばして、３の「使い始めの設定」から実行して下さい。コードはローカルでも動きます。\n",
        "\n",
        "※接種途中（1回目）と接種完了（2回目）を区分して集計するよう、手直ししました。"
      ]
    },
    {
      "cell_type": "markdown",
      "metadata": {
        "id": "DspTqHrITESY"
      },
      "source": [
        "## 1.何をやるか"
      ]
    },
    {
      "cell_type": "markdown",
      "metadata": {
        "id": "XdZUY4rMUIft"
      },
      "source": [
        "### 1.1. 時系列で可視化したい\n",
        "\n",
        "[政府CIOポータル](https://cio.go.jp/c19vaccine_dashboard)から、COVID-19のワクチン接種状況のデータを取ってくるところまでは、同じです。さらに、別の場所から、感染状況のデータを取ってきて、両者の関係を見てみることにします。感染状況は、[内閣官房「新型コロナウイルス感染症対策」](https://corona.go.jp/dashboard/)のデータのページにまとまっています。\n",
        "\n",
        "ざっと作っただけですが、[こちら](https://bit.ly/JNPC210710)のように、時間の経過でどう変化しているかを可視化する、という想定で、データを加工していきましょう。接種のほうは件数の累計が、感染者数のほうは新規の移動平均が、最終的にほしいデータです。\n",
        "\n",
        "なお、可視化に使ったのは、[Flourish](https://flourish.studio/)です。Flourishについては説明しません。"
      ]
    },
    {
      "cell_type": "markdown",
      "metadata": {
        "id": "7wWO3YHlToA1"
      },
      "source": [
        "### 1.2. 気になる点\n",
        "\n",
        "データの概要を見てみましょう。接種状況のほうは、**その日その日の件数**です。都道府県別になっています。\n",
        "\n",
        "一方、感染状況は、**累積の感染者数**ですね。こちらも都道府県別になっている（全国計のデータは別になっている）のですが、**自治体名ではなくて数字**が並んでいます。\n",
        "\n",
        "ちなみに、接種完了の人のstatusは単に「2」とされていて、2回必要なうち2回目まで受けたのか、1回だけでよいワクチンなのかが、区別できません。ワクチンの効果を今後、検証していくためには、「1回で完了」「2回中の1回目＝途中」「2回中の2回目＝完了」の区別がつくよう、「1-1」「2-1」「2-2」のような区分にしておいてほしかったところです。もしかしたら、変更になるかもしれませんけれど。\n",
        "\n",
        "<font color=\"gray\">\n",
        "現状では1回完了型は日本では接種できないと思います（違っていたらごめんなさい）が、仕様を見ると、1回完了型の場合もstatusは2とするようです。\n",
        "</font>\n",
        "\n",
        "ワクチンの製造元別に数字が分かれば、なおよいですよね。\n",
        "\n",
        "データをもらいっぱなしにするのではなく、使う側として、声を上げていかなくてはいけない部分だと思います。"
      ]
    },
    {
      "cell_type": "markdown",
      "metadata": {
        "id": "HVOleZYrVJG3"
      },
      "source": [
        "## 2.その前に"
      ]
    },
    {
      "cell_type": "markdown",
      "metadata": {
        "id": "NVJbsEoDVLq3"
      },
      "source": [
        "\n",
        "### 2.1. わざわざプログラムを書く理由\n",
        "\n",
        "ExcelやGoogleスプレッドシートがあるのに、どうしてプログラムを書くのか。一番の理由は、プログラムに書いておけば、**繰り返し使えて、再現可能性が高い**から、です。\n",
        "\n",
        "Excelに代表される表計算ソフトは、優れた発明です。試行錯誤しながら処理していくのにも、向いています。しかし、たとえて言うなら「食材」（データ）と「レシピ」（処理）が渾然一体となっているという欠点があります。自分が作ったものでも、どこにどんな式を入れたのだったか、分からなくなってしまうことが、よくあります。\n",
        "\n",
        "RやPythonのプログラムであれば、データと処理が分離されています。その分、見通しがよく、何をやろうとしているかが分かる、ということになります。なので、必要な手直しもしやすいし、データが更新されても同じ処理が適用できると分かれば、同じプログラムを再度走らせて、最新の結果を得ることもできます。"
      ]
    },
    {
      "cell_type": "markdown",
      "metadata": {
        "id": "CJ4MiG3kWNJB"
      },
      "source": [
        "### 2.2. プログラムは人生ゲーム\n",
        "\n",
        "暗号のように見えるプログラムですが、一部分を取り出して見てみれば、やっていることはシンプルです。「人生ゲーム」のように、道に枝分かれのある双六みたいなものです。\n",
        "\n",
        "* 変数と計算　　　手持ち資金や、車に乗っている人数など、今の状態を記憶させおく「変数（入れ物）」を使って、計算をする\n",
        "* 条件判定と分岐　分かれ道。何かを調べて、処理方法を変える。ルーレットを回すように、乱数でランダムに決めることも（サンプリングなど）\n",
        "* 繰り返し　　　　必要なだけ反復処理する。PCは疲れません\n",
        "\n",
        "途中の道順やスピードはさまざまでも、最終目的地にたどり着けるなら、プログラムとしては役に立ちます。手直しのしやすさや、効率に差はあるにしても。\n",
        "\n",
        "傾向として、Rは書く人によって、プログラムが大きく異なります。選べる道が多いのはよいけれど、その分、迷いやすい。Pythonは、誰が書いても、似たプログラムになります。主要道があらかじめ整備されているかわり、そこしか通れない（抜け道はあまりない）感じで、これは大きなメリットです。"
      ]
    },
    {
      "cell_type": "markdown",
      "metadata": {
        "id": "9Z77lDh_WwyV"
      },
      "source": [
        "### 2.3. プログラムのお約束\n",
        "\n",
        "変数に何かを入れて、覚えておいてもらうことを、代入といいます。これに使う記号が、歴史的経緯で「=」なのです（Rでは「<-」も使えます）。分かりにくいのですが、イコールではなく、**右辺のものを左辺の変数に入れる**、という指示になります。"
      ]
    },
    {
      "cell_type": "code",
      "metadata": {
        "colab": {
          "base_uri": "https://localhost:8080/"
        },
        "id": "JQ2BQAfZW-jZ",
        "outputId": "5732b353-d416-470a-93ed-debeadd3de64"
      },
      "source": [
        "born = 1984         # 1984年生まれの人が\n",
        "age  = 37           # 誕生日を迎えて37歳だとすると\n",
        "now  = born + age   # 今は何年？\n",
        "print(now)"
      ],
      "execution_count": null,
      "outputs": [
        {
          "output_type": "stream",
          "text": [
            "[1] 2021\n"
          ],
          "name": "stdout"
        }
      ]
    },
    {
      "cell_type": "markdown",
      "metadata": {
        "id": "d0aLcWv9Xxyn"
      },
      "source": [
        "変数やデータには型があって、引用符で囲んでないものは数値または変数の中身、引用符に囲まれているものは「そのままの文字列（リテラル）」です。1984は数値、\"1984\"は文字列です。"
      ]
    },
    {
      "cell_type": "code",
      "metadata": {
        "id": "fTQH0iRmX5o8"
      },
      "source": [
        "born2 = \"1984\"\n",
        "age2  = \"37\"\n",
        "\n",
        "# エラーで止まらないようにしたければ、次のセルの冒頭に「#」を入れる。\n",
        "# print(born2 + age2)\n",
        "# のように、注釈にすること"
      ],
      "execution_count": null,
      "outputs": []
    },
    {
      "cell_type": "code",
      "metadata": {
        "id": "zY9pbVGRYA6Q"
      },
      "source": [
        "# print(born2 + age2)"
      ],
      "execution_count": null,
      "outputs": []
    },
    {
      "cell_type": "markdown",
      "metadata": {
        "id": "FU7yN35HYJSG"
      },
      "source": [
        "Rは「文字列の足し算はできません」と、エラーメッセージで教えてくれました。"
      ]
    },
    {
      "cell_type": "code",
      "metadata": {
        "colab": {
          "base_uri": "https://localhost:8080/"
        },
        "id": "qVjY-JbbYnsJ",
        "outputId": "b34c8efc-1547-4705-dc91-8be0b9922835"
      },
      "source": [
        "# ある変数を最初に0にしておき\n",
        "counter = 0\n",
        "print(counter)\n",
        "# 繰り返し処理をするごとに1を足すなら\n",
        "counter = counter + 1\n",
        "print(counter)\n",
        "# カウンターとして使える"
      ],
      "execution_count": null,
      "outputs": [
        {
          "output_type": "stream",
          "text": [
            "[1] 0\n",
            "[1] 1\n"
          ],
          "name": "stdout"
        }
      ]
    },
    {
      "cell_type": "markdown",
      "metadata": {
        "id": "SeFDOfSYYRZA"
      },
      "source": [
        "このコードのしていること、想像がつきますか？　ある数「counter」に１を足したら自分自身に等しくなる、という**不能方程式ではありません**。これは、行番号5のところで、指を折るようにして回数を記録していく「カウンター」です。\n",
        "\n",
        "では、「イコール」の意味のときはどう書くか。「==」と重ねて使います。"
      ]
    },
    {
      "cell_type": "code",
      "metadata": {
        "colab": {
          "base_uri": "https://localhost:8080/",
          "height": 35
        },
        "id": "HM4D6R_hY9PU",
        "outputId": "deae06a4-6d4b-4bc5-f1c7-e60617ef18cd"
      },
      "source": [
        "born == age"
      ],
      "execution_count": null,
      "outputs": [
        {
          "output_type": "display_data",
          "data": {
            "text/plain": [
              "[1] FALSE"
            ],
            "text/latex": "FALSE",
            "text/markdown": "FALSE",
            "text/html": [
              "FALSE"
            ]
          },
          "metadata": {
            "tags": []
          }
        }
      ]
    },
    {
      "cell_type": "markdown",
      "metadata": {
        "id": "zseSrGC3ZDUC"
      },
      "source": [
        "1985と37は等しくありませんよね。\n",
        "\n",
        "ここでうっかり、等号ひとつだけを使ってしまうと、どうなるでしょう？"
      ]
    },
    {
      "cell_type": "code",
      "metadata": {
        "colab": {
          "base_uri": "https://localhost:8080/"
        },
        "id": "jXFT-lzmZRjz",
        "outputId": "95598444-3faf-482c-b25e-a1f4648ddb33"
      },
      "source": [
        "born = age\n",
        "print(born)"
      ],
      "execution_count": null,
      "outputs": [
        {
          "output_type": "stream",
          "text": [
            "[1] 37\n"
          ],
          "name": "stdout"
        }
      ]
    },
    {
      "cell_type": "markdown",
      "metadata": {
        "id": "cCNS_q6IZZB1"
      },
      "source": [
        "変数bornに、変数ageの中身である37が代入されてしまいました。\n",
        "\n",
        "では、これはどうなるでしょう？"
      ]
    },
    {
      "cell_type": "code",
      "metadata": {
        "colab": {
          "base_uri": "https://localhost:8080/",
          "height": 71
        },
        "id": "0puXBm5hZdmY",
        "outputId": "0c42381b-b536-4989-b480-08482caed574"
      },
      "source": [
        "print(age)  # こちらは数値。\n",
        "print(age2) # 引用符がついているのは、数値でなく文字列だから。\n",
        "age == age2"
      ],
      "execution_count": null,
      "outputs": [
        {
          "output_type": "stream",
          "text": [
            "[1] 37\n",
            "[1] \"37\"\n"
          ],
          "name": "stdout"
        },
        {
          "output_type": "display_data",
          "data": {
            "text/plain": [
              "[1] TRUE"
            ],
            "text/latex": "TRUE",
            "text/markdown": "TRUE",
            "text/html": [
              "TRUE"
            ]
          },
          "metadata": {
            "tags": []
          }
        }
      ]
    },
    {
      "cell_type": "markdown",
      "metadata": {
        "id": "EIZIZ3nPZl5Z"
      },
      "source": [
        "片方は数値、片方は文字列なのに、「等しい」と判定されました。これは、Rの仕様のようですが、善し悪しですね。\n",
        "\n",
        "見た目は一緒でも、型が違えば「等しくない」と厳密に判定する記号「===」が使える言語もあります。気を利かせて型を変換してしまう言語もあります。"
      ]
    },
    {
      "cell_type": "markdown",
      "metadata": {
        "id": "KVHJqUXeaXMX"
      },
      "source": [
        "### 2.4. ファンクション（関数）とは\n",
        "\n",
        "関数、という名前がものものしく、数学を連想させるせいで身構えてしまいますが、要するに「ファンクション」とは機能のことです。パソコンについている「F1」キーを「関数キー」だと思う人はいませんよね。ヘルプを表示する、という働きをひとまとめにして、このキーに対応させているだけです。ある「働き」とか「機能」「処理」だと考えて下さい。\n",
        "\n",
        "<font color = 'gray'>\n",
        "※函数や関数も名訳だし、プログラムに当てはめても、別におかしくはありませんので、アレルギーのない方は無視して下さい。\n",
        "</font>\n",
        "\n",
        "さて、Mというデータを、まずAという処理をして、次にBする場合、数学的あるいはExcel的な書き方では、こうなります。中から外へ、処理が実行されます。\n",
        "\n",
        "```\n",
        "B(A(M))\n",
        "```\n",
        "\n",
        "PythonやRでは、上の書き方も使えますが、Rで標準的なのは\n",
        "\n",
        "```\n",
        "M %>% A() %>% B()\n",
        "```\n",
        "\n",
        "です。()の中に、一つ前の結果を入れていくわけです。左から右へ読んでいけば、そのまま処理の順番になりますね。見慣れない記号は、「パイプ」といいます。RStudioを使っていれば、簡単に入力できます。\n",
        "\n",
        "```\n",
        "M %>%\n",
        "A() %>%\n",
        "B()\n",
        "```\n",
        "\n",
        "のように改行して書いてあっても、その間に注釈（人間用のメモ。PCは実行せずに飛ばします）が書いてあっても、同じように動きます。\n",
        "\n",
        "Rの場合、これまでも出てきているように、「#」から行末までが注釈として扱われます。"
      ]
    },
    {
      "cell_type": "markdown",
      "metadata": {
        "id": "VqUHa1u1bMb1"
      },
      "source": [
        "### 2.5. 拡張パッケージ\n",
        "\n",
        "本日、RやPythonを使うときに、「tidyverse」とか「pandas」という拡張パッケージを入れていました。私も、わざわざどうして？と、初めてRに触ったときは不思議でした。\n",
        "\n",
        "理由は後から分かってきたのですが、いまやこのどちらも、スプレッドシートやデータベース的なこと（データ処理や科学技術計算）をやるときには、必需品だから、です。\n",
        "\n",
        "乱暴に言えば、素のままのRやPythonを、表形式のデータを一貫した覚えやすいコードで扱えるよう、チューニングしている、ということです。今から勉強する人は、わざわざ旧式の、分かりにくい処理を覚える必要はありませんから、この２つに慣れて下さい。素のままでなくて、こちらのほうが、デファクトスタンダードです。"
      ]
    },
    {
      "cell_type": "markdown",
      "metadata": {
        "id": "8Zo8s1d4bT-X"
      },
      "source": [
        "## 3.使い始めの設定\n",
        "\n",
        "素のままのRに入っていない拡張パッケージを入れます。一度だけ`install.packages`でインストールし、あとは`library`または`require`で呼び込むのが普通の書き方です。\n",
        "\n",
        "ただし今は、Google Colab上なので、何度も読み込みが発生しないよう、ちょっと工夫しました。\n",
        "\n",
        "JSONデータの読み込みのほか、移動平均を計算したり、日付を扱ったりするためのパッケージを追加しています。"
      ]
    },
    {
      "cell_type": "code",
      "metadata": {
        "id": "Z8DgddqybSnj",
        "colab": {
          "base_uri": "https://localhost:8080/"
        },
        "outputId": "4c896d6e-1e7b-4629-bc12-b0722fe71499"
      },
      "source": [
        "# 毎回、全パッケージをインストールすると時間がかかる上、プログラムも長くなるので、工夫した書き方がこちら。特殊なので、覚える必要はない。\n",
        "# ローカルなら、インストールは一度だけ。オンラインでも、セッションが継続していたら、不要。なので……\n",
        "# pacmanパッケージが入ってなかったら、まずそれだけ入れる。この下、行番号4のコードは、「p_boot」を実行して、クリップボードから貼り付けられる。\n",
        "if (!require(\"pacman\")) install.packages(\"pacman\")\n",
        "# あとはpacmanにやらせる。ちなみに、名前は「パッケージマネージャー」の意。これを入れてもゲームはできない。\n",
        "pacman::p_load(tidyverse, jsonlite, ndjson, lubridate, RcppRoll)"
      ],
      "execution_count": null,
      "outputs": [
        {
          "output_type": "stream",
          "text": [
            "Loading required package: pacman\n",
            "\n",
            "Warning message in library(package, lib.loc = lib.loc, character.only = TRUE, logical.return = TRUE, :\n",
            "“there is no package called ‘pacman’”\n",
            "Installing package into ‘/usr/local/lib/R/site-library’\n",
            "(as ‘lib’ is unspecified)\n",
            "\n",
            "Installing package into ‘/usr/local/lib/R/site-library’\n",
            "(as ‘lib’ is unspecified)\n",
            "\n",
            "\n",
            "ndjson installed\n",
            "\n",
            "Installing package into ‘/usr/local/lib/R/site-library’\n",
            "(as ‘lib’ is unspecified)\n",
            "\n",
            "\n",
            "RcppRoll installed\n",
            "\n"
          ],
          "name": "stderr"
        }
      ]
    },
    {
      "cell_type": "markdown",
      "metadata": {
        "id": "qQDahEPQcyvq"
      },
      "source": [
        "## 4.接種状況"
      ]
    },
    {
      "cell_type": "markdown",
      "metadata": {
        "id": "-Op4gGCzc0l5"
      },
      "source": [
        "### 4.1. データを読み込む\n",
        "\n",
        "ワクチン接種状況のデータを読み込みます。ここは、小宮山さんの講義の通りのやり方です。"
      ]
    },
    {
      "cell_type": "code",
      "metadata": {
        "colab": {
          "base_uri": "https://localhost:8080/",
          "height": 412
        },
        "id": "PoHQxojedOcy",
        "outputId": "1a80acf1-3728-4816-8298-6a3fc479ec15"
      },
      "source": [
        "# データのありかは以下。\n",
        "target_url_cio <- \"https://vrs-data.cio.go.jp/vaccination/opendata/latest/prefecture.ndjson\"\n",
        "# 有効なndjson形式かを確かめる。ここで使うvalidateは、ndjsonパッケージのほう。\n",
        "# 読み込みに使うjsonliteにも同名の「validate」があり、衝突するので、パッケージ名を明示する。\n",
        "ndjson::validate(target_url_cio, verbose = TRUE)\n",
        "# それを読み込む。\n",
        "cio_stream <- jsonlite::stream_in(gzcon(url(target_url_cio)))\n",
        "# 冒頭を表示して確かめる。\n",
        "head(cio_stream)"
      ],
      "execution_count": null,
      "outputs": [
        {
          "output_type": "stream",
          "text": [
            "File: https://vrs-data.cio.go.jp/vaccination/opendata/latest/prefecture.ndjson\n"
          ],
          "name": "stdout"
        },
        {
          "output_type": "display_data",
          "data": {
            "text/plain": [
              "[1] TRUE"
            ],
            "text/latex": "TRUE",
            "text/markdown": "TRUE",
            "text/html": [
              "TRUE"
            ]
          },
          "metadata": {
            "tags": []
          }
        },
        {
          "output_type": "stream",
          "text": [
            "opening gzcon input connection.\n",
            "\n"
          ],
          "name": "stderr"
        },
        {
          "output_type": "stream",
          "text": [
            "\r Found 500 records...\r Found 1000 records...\r Found 1500 records...\r Found 2000 records...\r Found 2500 records...\r Found 3000 records...\r Found 3500 records...\r Found 4000 records...\r Found 4500 records...\r Found 5000 records...\r Found 5500 records...\r Found 6000 records...\r Found 6500 records...\r Found 7000 records...\r Found 7500 records...\r Found 8000 records...\r Found 8500 records...\r Found 9000 records...\r Found 9500 records...\r Found 10000 records...\r Found 10500 records...\r Found 11000 records...\r Found 11500 records...\r Found 12000 records...\r Found 12500 records...\r Found 13000 records...\r Found 13500 records...\r Found 14000 records...\r Found 14500 records...\r Found 15000 records...\r Found 15500 records...\r Found 16000 records...\r Found 16500 records...\r Found 17000 records...\r Found 17500 records...\r Found 18000 records...\r Found 18500 records...\r Found 19000 records...\r Found 19500 records...\r Found 20000 records...\r Found 20500 records...\r Found 21000 records...\r Found 21500 records...\r Found 22000 records...\r Found 22500 records...\r Found 23000 records...\r Found 23500 records...\r Found 24000 records...\r Found 24500 records...\r Found 25000 records...\r Found 25500 records...\r Found 26000 records...\r Found 26500 records...\r Found 27000 records...\r Found 27500 records...\r Found 28000 records...\r Found 28500 records...\r Found 29000 records...\r Found 29500 records...\r Found 30000 records...\r Found 30500 records...\r Found 31000 records...\r Found 31500 records...\r Found 32000 records...\r Found 32500 records...\r Found 33000 records...\r Found 33500 records...\r Found 34000 records...\r Found 34500 records...\r Found 35000 records...\r Found 35500 records...\r Found 36000 records...\r Found 36500 records...\r Found 37000 records...\r Found 37500 records...\r Found 38000 records...\r Found 38500 records...\r Found 39000 records...\r Found 39500 records...\r Found 40000 records...\r Found 40272 records...\r Imported 40272 records. Simplifying...\n"
          ],
          "name": "stdout"
        },
        {
          "output_type": "stream",
          "text": [
            "closing gzcon input connection.\n",
            "\n"
          ],
          "name": "stderr"
        },
        {
          "output_type": "display_data",
          "data": {
            "text/plain": [
              "  date       prefecture gender age medical_worker status count\n",
              "1 2021-04-12 01         F      -64 FALSE          1      113  \n",
              "2 2021-04-12 01         F      65- FALSE          1       88  \n",
              "3 2021-04-12 01         M      -64 FALSE          1       39  \n",
              "4 2021-04-12 01         M      65- FALSE          1       26  \n",
              "5 2021-04-12 01         U      -64 FALSE          1       12  \n",
              "6 2021-04-12 01         U      UNK FALSE          1        1  "
            ],
            "text/latex": "A data.frame: 6 × 7\n\\begin{tabular}{r|lllllll}\n  & date & prefecture & gender & age & medical\\_worker & status & count\\\\\n  & <chr> & <chr> & <chr> & <chr> & <lgl> & <int> & <int>\\\\\n\\hline\n\t1 & 2021-04-12 & 01 & F & -64 & FALSE & 1 & 113\\\\\n\t2 & 2021-04-12 & 01 & F & 65- & FALSE & 1 &  88\\\\\n\t3 & 2021-04-12 & 01 & M & -64 & FALSE & 1 &  39\\\\\n\t4 & 2021-04-12 & 01 & M & 65- & FALSE & 1 &  26\\\\\n\t5 & 2021-04-12 & 01 & U & -64 & FALSE & 1 &  12\\\\\n\t6 & 2021-04-12 & 01 & U & UNK & FALSE & 1 &   1\\\\\n\\end{tabular}\n",
            "text/markdown": "\nA data.frame: 6 × 7\n\n| <!--/--> | date &lt;chr&gt; | prefecture &lt;chr&gt; | gender &lt;chr&gt; | age &lt;chr&gt; | medical_worker &lt;lgl&gt; | status &lt;int&gt; | count &lt;int&gt; |\n|---|---|---|---|---|---|---|---|\n| 1 | 2021-04-12 | 01 | F | -64 | FALSE | 1 | 113 |\n| 2 | 2021-04-12 | 01 | F | 65- | FALSE | 1 |  88 |\n| 3 | 2021-04-12 | 01 | M | -64 | FALSE | 1 |  39 |\n| 4 | 2021-04-12 | 01 | M | 65- | FALSE | 1 |  26 |\n| 5 | 2021-04-12 | 01 | U | -64 | FALSE | 1 |  12 |\n| 6 | 2021-04-12 | 01 | U | UNK | FALSE | 1 |   1 |\n\n",
            "text/html": [
              "<table class=\"dataframe\">\n",
              "<caption>A data.frame: 6 × 7</caption>\n",
              "<thead>\n",
              "\t<tr><th></th><th scope=col>date</th><th scope=col>prefecture</th><th scope=col>gender</th><th scope=col>age</th><th scope=col>medical_worker</th><th scope=col>status</th><th scope=col>count</th></tr>\n",
              "\t<tr><th></th><th scope=col>&lt;chr&gt;</th><th scope=col>&lt;chr&gt;</th><th scope=col>&lt;chr&gt;</th><th scope=col>&lt;chr&gt;</th><th scope=col>&lt;lgl&gt;</th><th scope=col>&lt;int&gt;</th><th scope=col>&lt;int&gt;</th></tr>\n",
              "</thead>\n",
              "<tbody>\n",
              "\t<tr><th scope=row>1</th><td>2021-04-12</td><td>01</td><td>F</td><td>-64</td><td>FALSE</td><td>1</td><td>113</td></tr>\n",
              "\t<tr><th scope=row>2</th><td>2021-04-12</td><td>01</td><td>F</td><td>65-</td><td>FALSE</td><td>1</td><td> 88</td></tr>\n",
              "\t<tr><th scope=row>3</th><td>2021-04-12</td><td>01</td><td>M</td><td>-64</td><td>FALSE</td><td>1</td><td> 39</td></tr>\n",
              "\t<tr><th scope=row>4</th><td>2021-04-12</td><td>01</td><td>M</td><td>65-</td><td>FALSE</td><td>1</td><td> 26</td></tr>\n",
              "\t<tr><th scope=row>5</th><td>2021-04-12</td><td>01</td><td>U</td><td>-64</td><td>FALSE</td><td>1</td><td> 12</td></tr>\n",
              "\t<tr><th scope=row>6</th><td>2021-04-12</td><td>01</td><td>U</td><td>UNK</td><td>FALSE</td><td>1</td><td>  1</td></tr>\n",
              "</tbody>\n",
              "</table>\n"
            ]
          },
          "metadata": {
            "tags": []
          }
        }
      ]
    },
    {
      "cell_type": "markdown",
      "metadata": {
        "id": "N8O_rn-wddcV"
      },
      "source": [
        "### 4.2. 型を変換する\n",
        "\n",
        "スプレッドシートと同様の二次元の表形式。Rにはこれが2種類あります。従来型の「data.frame」になっているので、現在の主流で使いやすい「tibble」に直します。\n",
        "\n",
        "tibbleやfata.frameには、縦のカラムは、異なる型のデータが混在してはいけない（１列全部、同じデータ型でないといけない）、という大事な制約があります。\n",
        "\n",
        "縦と横は、表計算ソフトではあまり気にしない点かもしれません。しかし、RやPythonでデータ処理をする際には、縦には型が揃っている、という点はとても重要です。対して、横に見ていくならば、ある１つのモノ・コトについてのさまざまな側面が分かる、という構造です。\n",
        "\n",
        "<font color = 'gray'>\n",
        "※底流には、タイプライター以来の横書きのカルチャーがありそうです。\n",
        "</font>\n",
        "\n",
        "型は、この上の表の見出し部分、カラム名の下に表示されています。例えば、＜chr＞は文字列型、＜lgl＞は真と偽の二値を取る論理型です。\n",
        "\n",
        "dateのカラムは、日付型に直しましょう。このデータではたまたま、年と月と日の判別ができますが、そうでないときもあるので、lubridateパッケージのymdで「年月日の順だよ」と指定しています。\n",
        "\n",
        "あと、好みの問題もありますが、何種類かの決まった値しか出てこないはずのデータは、「カテゴリー型（因子型）」にしておくと、おかしな値が入っていた場合に気づきやすくなります。「島取」や「鳥根」が紛れ込んでいた場合を考えてみて下さい。\n",
        "\n",
        "サイトにあったデータの仕様表によれば、genderやageは、今のところ3種類に分類するために使っているようです。\n",
        "\n",
        "都道府県コードも、0から始まっていますし、厳密に言えば数値（比率尺度・間隔尺度のデータ）ではありません。並び順、という意味合いはありますが、04の宮城が02の青森の2倍、ということはありません。背番号みたいなものですね。\n",
        "\n",
        "カテゴリー型は、文字列のように見えますが、Rの内部では「数字」＋「名札」です。「山田さん」という人名の文字列を、「出席番号××番」という番号と、「××番の人は山田さん」という対照表にしているのです。データに出てくるのはあるクラスの人に限られる、という状況だと、このほうが設計しやすいことがあります。\n",
        "\n",
        "見た目では文字列と区別しにくいのでご注意。Rの画面では、引用符付きの「\"山田\"」なら文字列、引用符に囲まれない「山田」ならカテゴリー型、と区別して表示されます。"
      ]
    },
    {
      "cell_type": "code",
      "metadata": {
        "colab": {
          "base_uri": "https://localhost:8080/",
          "height": 1000
        },
        "id": "A8C5oT3VeWHJ",
        "outputId": "7d141314-c865-4b8e-eb14-a0276ab04964"
      },
      "source": [
        "# 実は二次元の表にも２種類ある。\n",
        "# 標準はdata.frameという表形式。でも、tibbleという形式のほうが何かと扱いやすいので、これに変換する。\n",
        "cio_data <- cio_stream %>%\n",
        "    as_tibble()\n",
        "# ここでいったん、結果を表示。冒頭のみ。\n",
        "head(cio_data)\n",
        "\n",
        "# 日付型に直したいカラム\n",
        "columns_to_date <- \"date\"\n",
        "# 因子型（カテゴリー型）に直したいカラム。直さずに文字列型でも、まあいい。\n",
        "columns_to_factor <- c(\"gender\", \"age\")\n",
        "# genderは（男尊女卑でなく並べ替えの練習として）、よくある男・女・不明の順にする指定を入れることも可能\n",
        "gender_levels <- c(\"M\", \"F\" ,\"U\")\n",
        "# ワクチン接種回数は整数型\n",
        "columns_to_integer <- \"count\"\n",
        "# 変な値があったら気がつくようにしたい。readrを使う。\n",
        "cio_data <- cio_data %>% \n",
        "    mutate(\n",
        "# lubridateのymdを使ったのは、とくに月と日の順番を明示的に指定するため。年は4桁になっているが、07-10が7月10日と10月7日のどちらを意味するか、を指示したほうが安全。\n",
        "    across(all_of(columns_to_date), lubridate::ymd),\n",
        "    across(all_of(columns_to_factor), as_factor),\n",
        "    across(all_of(columns_to_integer), as.integer)\n",
        "    )\n",
        "cio_data$gender <- cio_data$gender %>%\n",
        "    fct_relevel(gender_levels)\n",
        "\n",
        "# もう一度、処理結果を表示。北海道と青森の全カテゴリーを見たいので、表示を増やした。\n",
        "head(cio_data, n = 15)\n",
        "# 北海道の4月12日は合計してみると279件のようだ。青森は203。\n",
        "# 沖縄の直近のデータも見てみる。\n",
        "tail(cio_data, n = 15)\n",
        "str(cio_data)\n",
        "summary(cio_data)\n",
        "# 不要になった元データは消す\n",
        "# cio_data %>% is.na() %>% sum()\n",
        "rm(cio_stream)"
      ],
      "execution_count": null,
      "outputs": [
        {
          "output_type": "display_data",
          "data": {
            "text/plain": [
              "  date       prefecture gender age medical_worker status count\n",
              "1 2021-04-12 01         F      -64 FALSE          1      113  \n",
              "2 2021-04-12 01         F      65- FALSE          1       88  \n",
              "3 2021-04-12 01         M      -64 FALSE          1       39  \n",
              "4 2021-04-12 01         M      65- FALSE          1       26  \n",
              "5 2021-04-12 01         U      -64 FALSE          1       12  \n",
              "6 2021-04-12 01         U      UNK FALSE          1        1  "
            ],
            "text/latex": "A tibble: 6 × 7\n\\begin{tabular}{lllllll}\n date & prefecture & gender & age & medical\\_worker & status & count\\\\\n <chr> & <chr> & <chr> & <chr> & <lgl> & <int> & <int>\\\\\n\\hline\n\t 2021-04-12 & 01 & F & -64 & FALSE & 1 & 113\\\\\n\t 2021-04-12 & 01 & F & 65- & FALSE & 1 &  88\\\\\n\t 2021-04-12 & 01 & M & -64 & FALSE & 1 &  39\\\\\n\t 2021-04-12 & 01 & M & 65- & FALSE & 1 &  26\\\\\n\t 2021-04-12 & 01 & U & -64 & FALSE & 1 &  12\\\\\n\t 2021-04-12 & 01 & U & UNK & FALSE & 1 &   1\\\\\n\\end{tabular}\n",
            "text/markdown": "\nA tibble: 6 × 7\n\n| date &lt;chr&gt; | prefecture &lt;chr&gt; | gender &lt;chr&gt; | age &lt;chr&gt; | medical_worker &lt;lgl&gt; | status &lt;int&gt; | count &lt;int&gt; |\n|---|---|---|---|---|---|---|\n| 2021-04-12 | 01 | F | -64 | FALSE | 1 | 113 |\n| 2021-04-12 | 01 | F | 65- | FALSE | 1 |  88 |\n| 2021-04-12 | 01 | M | -64 | FALSE | 1 |  39 |\n| 2021-04-12 | 01 | M | 65- | FALSE | 1 |  26 |\n| 2021-04-12 | 01 | U | -64 | FALSE | 1 |  12 |\n| 2021-04-12 | 01 | U | UNK | FALSE | 1 |   1 |\n\n",
            "text/html": [
              "<table class=\"dataframe\">\n",
              "<caption>A tibble: 6 × 7</caption>\n",
              "<thead>\n",
              "\t<tr><th scope=col>date</th><th scope=col>prefecture</th><th scope=col>gender</th><th scope=col>age</th><th scope=col>medical_worker</th><th scope=col>status</th><th scope=col>count</th></tr>\n",
              "\t<tr><th scope=col>&lt;chr&gt;</th><th scope=col>&lt;chr&gt;</th><th scope=col>&lt;chr&gt;</th><th scope=col>&lt;chr&gt;</th><th scope=col>&lt;lgl&gt;</th><th scope=col>&lt;int&gt;</th><th scope=col>&lt;int&gt;</th></tr>\n",
              "</thead>\n",
              "<tbody>\n",
              "\t<tr><td>2021-04-12</td><td>01</td><td>F</td><td>-64</td><td>FALSE</td><td>1</td><td>113</td></tr>\n",
              "\t<tr><td>2021-04-12</td><td>01</td><td>F</td><td>65-</td><td>FALSE</td><td>1</td><td> 88</td></tr>\n",
              "\t<tr><td>2021-04-12</td><td>01</td><td>M</td><td>-64</td><td>FALSE</td><td>1</td><td> 39</td></tr>\n",
              "\t<tr><td>2021-04-12</td><td>01</td><td>M</td><td>65-</td><td>FALSE</td><td>1</td><td> 26</td></tr>\n",
              "\t<tr><td>2021-04-12</td><td>01</td><td>U</td><td>-64</td><td>FALSE</td><td>1</td><td> 12</td></tr>\n",
              "\t<tr><td>2021-04-12</td><td>01</td><td>U</td><td>UNK</td><td>FALSE</td><td>1</td><td>  1</td></tr>\n",
              "</tbody>\n",
              "</table>\n"
            ]
          },
          "metadata": {
            "tags": []
          }
        },
        {
          "output_type": "display_data",
          "data": {
            "text/plain": [
              "   date       prefecture gender age medical_worker status count\n",
              "1  2021-04-12 01         F      -64 FALSE          1      113  \n",
              "2  2021-04-12 01         F      65- FALSE          1       88  \n",
              "3  2021-04-12 01         M      -64 FALSE          1       39  \n",
              "4  2021-04-12 01         M      65- FALSE          1       26  \n",
              "5  2021-04-12 01         U      -64 FALSE          1       12  \n",
              "6  2021-04-12 01         U      UNK FALSE          1        1  \n",
              "7  2021-04-12 02         F      -64 FALSE          1        3  \n",
              "8  2021-04-12 02         F      65- FALSE          1      137  \n",
              "9  2021-04-12 02         M      -64 FALSE          1        2  \n",
              "10 2021-04-12 02         M      65- FALSE          1       54  \n",
              "11 2021-04-12 02         U      UNK FALSE          1        7  \n",
              "12 2021-04-12 03         F      65- FALSE          1       23  \n",
              "13 2021-04-12 03         M      65- FALSE          1       27  \n",
              "14 2021-04-12 04         F      -64 FALSE          1        1  \n",
              "15 2021-04-12 05         F      -64 FALSE          1       13  "
            ],
            "text/latex": "A tibble: 15 × 7\n\\begin{tabular}{lllllll}\n date & prefecture & gender & age & medical\\_worker & status & count\\\\\n <date> & <chr> & <fct> & <fct> & <lgl> & <int> & <int>\\\\\n\\hline\n\t 2021-04-12 & 01 & F & -64 & FALSE & 1 & 113\\\\\n\t 2021-04-12 & 01 & F & 65- & FALSE & 1 &  88\\\\\n\t 2021-04-12 & 01 & M & -64 & FALSE & 1 &  39\\\\\n\t 2021-04-12 & 01 & M & 65- & FALSE & 1 &  26\\\\\n\t 2021-04-12 & 01 & U & -64 & FALSE & 1 &  12\\\\\n\t 2021-04-12 & 01 & U & UNK & FALSE & 1 &   1\\\\\n\t 2021-04-12 & 02 & F & -64 & FALSE & 1 &   3\\\\\n\t 2021-04-12 & 02 & F & 65- & FALSE & 1 & 137\\\\\n\t 2021-04-12 & 02 & M & -64 & FALSE & 1 &   2\\\\\n\t 2021-04-12 & 02 & M & 65- & FALSE & 1 &  54\\\\\n\t 2021-04-12 & 02 & U & UNK & FALSE & 1 &   7\\\\\n\t 2021-04-12 & 03 & F & 65- & FALSE & 1 &  23\\\\\n\t 2021-04-12 & 03 & M & 65- & FALSE & 1 &  27\\\\\n\t 2021-04-12 & 04 & F & -64 & FALSE & 1 &   1\\\\\n\t 2021-04-12 & 05 & F & -64 & FALSE & 1 &  13\\\\\n\\end{tabular}\n",
            "text/markdown": "\nA tibble: 15 × 7\n\n| date &lt;date&gt; | prefecture &lt;chr&gt; | gender &lt;fct&gt; | age &lt;fct&gt; | medical_worker &lt;lgl&gt; | status &lt;int&gt; | count &lt;int&gt; |\n|---|---|---|---|---|---|---|\n| 2021-04-12 | 01 | F | -64 | FALSE | 1 | 113 |\n| 2021-04-12 | 01 | F | 65- | FALSE | 1 |  88 |\n| 2021-04-12 | 01 | M | -64 | FALSE | 1 |  39 |\n| 2021-04-12 | 01 | M | 65- | FALSE | 1 |  26 |\n| 2021-04-12 | 01 | U | -64 | FALSE | 1 |  12 |\n| 2021-04-12 | 01 | U | UNK | FALSE | 1 |   1 |\n| 2021-04-12 | 02 | F | -64 | FALSE | 1 |   3 |\n| 2021-04-12 | 02 | F | 65- | FALSE | 1 | 137 |\n| 2021-04-12 | 02 | M | -64 | FALSE | 1 |   2 |\n| 2021-04-12 | 02 | M | 65- | FALSE | 1 |  54 |\n| 2021-04-12 | 02 | U | UNK | FALSE | 1 |   7 |\n| 2021-04-12 | 03 | F | 65- | FALSE | 1 |  23 |\n| 2021-04-12 | 03 | M | 65- | FALSE | 1 |  27 |\n| 2021-04-12 | 04 | F | -64 | FALSE | 1 |   1 |\n| 2021-04-12 | 05 | F | -64 | FALSE | 1 |  13 |\n\n",
            "text/html": [
              "<table class=\"dataframe\">\n",
              "<caption>A tibble: 15 × 7</caption>\n",
              "<thead>\n",
              "\t<tr><th scope=col>date</th><th scope=col>prefecture</th><th scope=col>gender</th><th scope=col>age</th><th scope=col>medical_worker</th><th scope=col>status</th><th scope=col>count</th></tr>\n",
              "\t<tr><th scope=col>&lt;date&gt;</th><th scope=col>&lt;chr&gt;</th><th scope=col>&lt;fct&gt;</th><th scope=col>&lt;fct&gt;</th><th scope=col>&lt;lgl&gt;</th><th scope=col>&lt;int&gt;</th><th scope=col>&lt;int&gt;</th></tr>\n",
              "</thead>\n",
              "<tbody>\n",
              "\t<tr><td>2021-04-12</td><td>01</td><td>F</td><td>-64</td><td>FALSE</td><td>1</td><td>113</td></tr>\n",
              "\t<tr><td>2021-04-12</td><td>01</td><td>F</td><td>65-</td><td>FALSE</td><td>1</td><td> 88</td></tr>\n",
              "\t<tr><td>2021-04-12</td><td>01</td><td>M</td><td>-64</td><td>FALSE</td><td>1</td><td> 39</td></tr>\n",
              "\t<tr><td>2021-04-12</td><td>01</td><td>M</td><td>65-</td><td>FALSE</td><td>1</td><td> 26</td></tr>\n",
              "\t<tr><td>2021-04-12</td><td>01</td><td>U</td><td>-64</td><td>FALSE</td><td>1</td><td> 12</td></tr>\n",
              "\t<tr><td>2021-04-12</td><td>01</td><td>U</td><td>UNK</td><td>FALSE</td><td>1</td><td>  1</td></tr>\n",
              "\t<tr><td>2021-04-12</td><td>02</td><td>F</td><td>-64</td><td>FALSE</td><td>1</td><td>  3</td></tr>\n",
              "\t<tr><td>2021-04-12</td><td>02</td><td>F</td><td>65-</td><td>FALSE</td><td>1</td><td>137</td></tr>\n",
              "\t<tr><td>2021-04-12</td><td>02</td><td>M</td><td>-64</td><td>FALSE</td><td>1</td><td>  2</td></tr>\n",
              "\t<tr><td>2021-04-12</td><td>02</td><td>M</td><td>65-</td><td>FALSE</td><td>1</td><td> 54</td></tr>\n",
              "\t<tr><td>2021-04-12</td><td>02</td><td>U</td><td>UNK</td><td>FALSE</td><td>1</td><td>  7</td></tr>\n",
              "\t<tr><td>2021-04-12</td><td>03</td><td>F</td><td>65-</td><td>FALSE</td><td>1</td><td> 23</td></tr>\n",
              "\t<tr><td>2021-04-12</td><td>03</td><td>M</td><td>65-</td><td>FALSE</td><td>1</td><td> 27</td></tr>\n",
              "\t<tr><td>2021-04-12</td><td>04</td><td>F</td><td>-64</td><td>FALSE</td><td>1</td><td>  1</td></tr>\n",
              "\t<tr><td>2021-04-12</td><td>05</td><td>F</td><td>-64</td><td>FALSE</td><td>1</td><td> 13</td></tr>\n",
              "</tbody>\n",
              "</table>\n"
            ]
          },
          "metadata": {
            "tags": []
          }
        },
        {
          "output_type": "display_data",
          "data": {
            "text/plain": [
              "   date       prefecture gender age medical_worker status count\n",
              "1  2021-07-19 46         M      -64 FALSE          2       370 \n",
              "2  2021-07-19 46         M      65- FALSE          1       138 \n",
              "3  2021-07-19 46         M      65- FALSE          2      2136 \n",
              "4  2021-07-19 46         U      UNK FALSE          1         4 \n",
              "5  2021-07-19 46         U      UNK FALSE          2         8 \n",
              "6  2021-07-19 47         F      -64 FALSE          1       850 \n",
              "7  2021-07-19 47         F      -64 FALSE          2       273 \n",
              "8  2021-07-19 47         F      65- FALSE          1       240 \n",
              "9  2021-07-19 47         F      65- FALSE          2      1275 \n",
              "10 2021-07-19 47         M      -64 FALSE          1      1012 \n",
              "11 2021-07-19 47         M      -64 FALSE          2       216 \n",
              "12 2021-07-19 47         M      65- FALSE          1       169 \n",
              "13 2021-07-19 47         M      65- FALSE          2       981 \n",
              "14 2021-07-19 47         U      UNK FALSE          1        11 \n",
              "15 2021-07-19 47         U      UNK FALSE          2         9 "
            ],
            "text/latex": "A tibble: 15 × 7\n\\begin{tabular}{lllllll}\n date & prefecture & gender & age & medical\\_worker & status & count\\\\\n <date> & <chr> & <fct> & <fct> & <lgl> & <int> & <int>\\\\\n\\hline\n\t 2021-07-19 & 46 & M & -64 & FALSE & 2 &  370\\\\\n\t 2021-07-19 & 46 & M & 65- & FALSE & 1 &  138\\\\\n\t 2021-07-19 & 46 & M & 65- & FALSE & 2 & 2136\\\\\n\t 2021-07-19 & 46 & U & UNK & FALSE & 1 &    4\\\\\n\t 2021-07-19 & 46 & U & UNK & FALSE & 2 &    8\\\\\n\t 2021-07-19 & 47 & F & -64 & FALSE & 1 &  850\\\\\n\t 2021-07-19 & 47 & F & -64 & FALSE & 2 &  273\\\\\n\t 2021-07-19 & 47 & F & 65- & FALSE & 1 &  240\\\\\n\t 2021-07-19 & 47 & F & 65- & FALSE & 2 & 1275\\\\\n\t 2021-07-19 & 47 & M & -64 & FALSE & 1 & 1012\\\\\n\t 2021-07-19 & 47 & M & -64 & FALSE & 2 &  216\\\\\n\t 2021-07-19 & 47 & M & 65- & FALSE & 1 &  169\\\\\n\t 2021-07-19 & 47 & M & 65- & FALSE & 2 &  981\\\\\n\t 2021-07-19 & 47 & U & UNK & FALSE & 1 &   11\\\\\n\t 2021-07-19 & 47 & U & UNK & FALSE & 2 &    9\\\\\n\\end{tabular}\n",
            "text/markdown": "\nA tibble: 15 × 7\n\n| date &lt;date&gt; | prefecture &lt;chr&gt; | gender &lt;fct&gt; | age &lt;fct&gt; | medical_worker &lt;lgl&gt; | status &lt;int&gt; | count &lt;int&gt; |\n|---|---|---|---|---|---|---|\n| 2021-07-19 | 46 | M | -64 | FALSE | 2 |  370 |\n| 2021-07-19 | 46 | M | 65- | FALSE | 1 |  138 |\n| 2021-07-19 | 46 | M | 65- | FALSE | 2 | 2136 |\n| 2021-07-19 | 46 | U | UNK | FALSE | 1 |    4 |\n| 2021-07-19 | 46 | U | UNK | FALSE | 2 |    8 |\n| 2021-07-19 | 47 | F | -64 | FALSE | 1 |  850 |\n| 2021-07-19 | 47 | F | -64 | FALSE | 2 |  273 |\n| 2021-07-19 | 47 | F | 65- | FALSE | 1 |  240 |\n| 2021-07-19 | 47 | F | 65- | FALSE | 2 | 1275 |\n| 2021-07-19 | 47 | M | -64 | FALSE | 1 | 1012 |\n| 2021-07-19 | 47 | M | -64 | FALSE | 2 |  216 |\n| 2021-07-19 | 47 | M | 65- | FALSE | 1 |  169 |\n| 2021-07-19 | 47 | M | 65- | FALSE | 2 |  981 |\n| 2021-07-19 | 47 | U | UNK | FALSE | 1 |   11 |\n| 2021-07-19 | 47 | U | UNK | FALSE | 2 |    9 |\n\n",
            "text/html": [
              "<table class=\"dataframe\">\n",
              "<caption>A tibble: 15 × 7</caption>\n",
              "<thead>\n",
              "\t<tr><th scope=col>date</th><th scope=col>prefecture</th><th scope=col>gender</th><th scope=col>age</th><th scope=col>medical_worker</th><th scope=col>status</th><th scope=col>count</th></tr>\n",
              "\t<tr><th scope=col>&lt;date&gt;</th><th scope=col>&lt;chr&gt;</th><th scope=col>&lt;fct&gt;</th><th scope=col>&lt;fct&gt;</th><th scope=col>&lt;lgl&gt;</th><th scope=col>&lt;int&gt;</th><th scope=col>&lt;int&gt;</th></tr>\n",
              "</thead>\n",
              "<tbody>\n",
              "\t<tr><td>2021-07-19</td><td>46</td><td>M</td><td>-64</td><td>FALSE</td><td>2</td><td> 370</td></tr>\n",
              "\t<tr><td>2021-07-19</td><td>46</td><td>M</td><td>65-</td><td>FALSE</td><td>1</td><td> 138</td></tr>\n",
              "\t<tr><td>2021-07-19</td><td>46</td><td>M</td><td>65-</td><td>FALSE</td><td>2</td><td>2136</td></tr>\n",
              "\t<tr><td>2021-07-19</td><td>46</td><td>U</td><td>UNK</td><td>FALSE</td><td>1</td><td>   4</td></tr>\n",
              "\t<tr><td>2021-07-19</td><td>46</td><td>U</td><td>UNK</td><td>FALSE</td><td>2</td><td>   8</td></tr>\n",
              "\t<tr><td>2021-07-19</td><td>47</td><td>F</td><td>-64</td><td>FALSE</td><td>1</td><td> 850</td></tr>\n",
              "\t<tr><td>2021-07-19</td><td>47</td><td>F</td><td>-64</td><td>FALSE</td><td>2</td><td> 273</td></tr>\n",
              "\t<tr><td>2021-07-19</td><td>47</td><td>F</td><td>65-</td><td>FALSE</td><td>1</td><td> 240</td></tr>\n",
              "\t<tr><td>2021-07-19</td><td>47</td><td>F</td><td>65-</td><td>FALSE</td><td>2</td><td>1275</td></tr>\n",
              "\t<tr><td>2021-07-19</td><td>47</td><td>M</td><td>-64</td><td>FALSE</td><td>1</td><td>1012</td></tr>\n",
              "\t<tr><td>2021-07-19</td><td>47</td><td>M</td><td>-64</td><td>FALSE</td><td>2</td><td> 216</td></tr>\n",
              "\t<tr><td>2021-07-19</td><td>47</td><td>M</td><td>65-</td><td>FALSE</td><td>1</td><td> 169</td></tr>\n",
              "\t<tr><td>2021-07-19</td><td>47</td><td>M</td><td>65-</td><td>FALSE</td><td>2</td><td> 981</td></tr>\n",
              "\t<tr><td>2021-07-19</td><td>47</td><td>U</td><td>UNK</td><td>FALSE</td><td>1</td><td>  11</td></tr>\n",
              "\t<tr><td>2021-07-19</td><td>47</td><td>U</td><td>UNK</td><td>FALSE</td><td>2</td><td>   9</td></tr>\n",
              "</tbody>\n",
              "</table>\n"
            ]
          },
          "metadata": {
            "tags": []
          }
        },
        {
          "output_type": "stream",
          "text": [
            "tibble [40,272 × 7] (S3: tbl_df/tbl/data.frame)\n",
            " $ date          : Date[1:40272], format: \"2021-04-12\" \"2021-04-12\" ...\n",
            " $ prefecture    : chr [1:40272] \"01\" \"01\" \"01\" \"01\" ...\n",
            " $ gender        : Factor w/ 3 levels \"M\",\"F\",\"U\": 2 2 1 1 3 3 2 2 1 1 ...\n",
            " $ age           : Factor w/ 3 levels \"-64\",\"65-\",\"UNK\": 1 2 1 2 1 3 1 2 1 2 ...\n",
            " $ medical_worker: logi [1:40272] FALSE FALSE FALSE FALSE FALSE FALSE ...\n",
            " $ status        : int [1:40272] 1 1 1 1 1 1 1 1 1 1 ...\n",
            " $ count         : int [1:40272] 113 88 39 26 12 1 3 137 2 54 ...\n"
          ],
          "name": "stdout"
        },
        {
          "output_type": "display_data",
          "data": {
            "text/plain": [
              "      date             prefecture        gender     age        medical_worker \n",
              " Min.   :2021-04-12   Length:40272       M:16043   -64:16130   Mode :logical  \n",
              " 1st Qu.:2021-05-17   Class :character   F:16148   65-:16622   FALSE:40272    \n",
              " Median :2021-06-07   Mode  :character   U: 8081   UNK: 7520                  \n",
              " Mean   :2021-06-06                                                           \n",
              " 3rd Qu.:2021-06-28                                                           \n",
              " Max.   :2021-07-19                                                           \n",
              "     status          count      \n",
              " Min.   :1.000   Min.   :    1  \n",
              " 1st Qu.:1.000   1st Qu.:   31  \n",
              " Median :1.000   Median :  193  \n",
              " Mean   :1.431   Mean   : 1489  \n",
              " 3rd Qu.:2.000   3rd Qu.: 1396  \n",
              " Max.   :2.000   Max.   :37295  "
            ]
          },
          "metadata": {
            "tags": []
          }
        }
      ]
    },
    {
      "cell_type": "markdown",
      "metadata": {
        "id": "LpW6oCFglhfQ"
      },
      "source": [
        "### 4.3. カテゴリー別の数字を合算する\n",
        "ワクチン接種状況の数字は、その日その日のカテゴリー別です。年齢・性別・医療従事者かどうかに関わらず、合算することにしましょう。\n",
        "\n",
        "現時点では、医療従事者フラグは準備されているだけです。でも、将来的には入手可能になることも見越したデータ構造にしてくれているのが、嬉しいですね。製造元の欄も確保されていれば、なおよいのだけれどなあ。\n",
        "\n",
        "さて、合算は、このままではやりにくいので、縦長の表から横長の表にいったん変換します。ある県のある日の分が横に並ぶようにして、その合計を計算したカラムを新しく作ります。さらに後ほど、その日までの累計も計算します。\n",
        "\n",
        "縦横変換しなくても、やり方次第で、県ごとにある日の分を合計することは可能です。ただ、将来的にstatusや医療従事者フラグによって重み付けを変えて計算したい場合には、横持ちの表にしておいたほうが対応しやすそうなので、この方法を選択しました。"
      ]
    },
    {
      "cell_type": "code",
      "metadata": {
        "colab": {
          "base_uri": "https://localhost:8080/",
          "height": 1000
        },
        "id": "9rntAHkGmhxg",
        "outputId": "98235be3-fca1-4c03-a88d-a9d99d2a67b8"
      },
      "source": [
        "cio_wide <- cio_data %>%\n",
        "# 属性別の接種回数をひとつにまとめる準備。\n",
        "    select(date, prefecture, status, everything()) %>% \n",
        "# 縦持ちから、横持ちに変形する。\n",
        "    pivot_wider(\n",
        "        names_from = status:medical_worker,\n",
        "        values_from = count\n",
        "    )\n",
        "# こんな表になった\n",
        "head(cio_wide)\n",
        "\n",
        "# ある県の１日あたりの接種を合算。１回目か２回目か、１回で完了かは区別せずに単純合算。\n",
        "vaccinations <- cio_wide %>% \n",
        "    transmute(\n",
        "# date,prefectureのカラムはそのまま残す。\n",
        "        date,\n",
        "        prefecture,\n",
        "# ステータスで区分して集計するために、以下の２行を追加した。\n",
        "        status1 = select(., starts_with(\"1\")) %>%\n",
        "            rowSums(na.rm = TRUE) %>% as.integer(),\n",
        "        status2 = select(., starts_with(\"2\")) %>%\n",
        "            rowSums(na.rm = TRUE) %>% as.integer(),\n",
        "# 各カテゴリーの接種回数を合算したカラムも作る。\n",
        "        status_all  = select(., contains(\"_\")) %>%\n",
        "            rowSums(na.rm = TRUE) %>% as.integer()\n",
        "    )\n",
        "\n",
        "# ここで結果を見てみる。初日の北海道は279件、青森県は203件。\n",
        "head(vaccinations)\n",
        "# 沖縄の直近の日付も合っているようだ。\n",
        "tail(vaccinations)\n",
        "summary(vaccinations)\n",
        "\n",
        "# 不要なデータを消す。\n",
        "rm(cio_data, cio_wide)"
      ],
      "execution_count": null,
      "outputs": [
        {
          "output_type": "display_data",
          "data": {
            "text/plain": [
              "  date       prefecture 1_F_-64_FALSE 1_F_65-_FALSE 1_M_-64_FALSE 1_M_65-_FALSE\n",
              "1 2021-04-12 01         113            88           39            26           \n",
              "2 2021-04-12 02           3           137            2            54           \n",
              "3 2021-04-12 03          NA            23           NA            27           \n",
              "4 2021-04-12 04           1            NA           NA            NA           \n",
              "5 2021-04-12 05          13             4            3            NA           \n",
              "6 2021-04-12 06          10            23            3            17           \n",
              "  1_U_-64_FALSE 1_U_UNK_FALSE 1_U_65-_FALSE 1_F_UNK_FALSE 2_F_65-_FALSE\n",
              "1 12             1            NA            NA            NA           \n",
              "2 NA             7            NA            NA            NA           \n",
              "3 NA            NA            NA            NA            NA           \n",
              "4 NA            NA            NA            NA            NA           \n",
              "5 NA            NA            NA            NA            NA           \n",
              "6 NA             1            NA            NA            NA           \n",
              "  2_M_65-_FALSE 2_F_-64_FALSE 2_M_-64_FALSE 2_U_UNK_FALSE 2_U_65-_FALSE\n",
              "1 NA            NA            NA            NA            NA           \n",
              "2 NA            NA            NA            NA            NA           \n",
              "3 NA            NA            NA            NA            NA           \n",
              "4 NA            NA            NA            NA            NA           \n",
              "5 NA            NA            NA            NA            NA           \n",
              "6 NA            NA            NA            NA            NA           \n",
              "  2_U_-64_FALSE 2_F_UNK_FALSE 1_M_UNK_FALSE 2_M_UNK_FALSE\n",
              "1 NA            NA            NA            NA           \n",
              "2 NA            NA            NA            NA           \n",
              "3 NA            NA            NA            NA           \n",
              "4 NA            NA            NA            NA           \n",
              "5 NA            NA            NA            NA           \n",
              "6 NA            NA            NA            NA           "
            ],
            "text/latex": "A tibble: 6 × 20\n\\begin{tabular}{llllllllllllllllllll}\n date & prefecture & 1\\_F\\_-64\\_FALSE & 1\\_F\\_65-\\_FALSE & 1\\_M\\_-64\\_FALSE & 1\\_M\\_65-\\_FALSE & 1\\_U\\_-64\\_FALSE & 1\\_U\\_UNK\\_FALSE & 1\\_U\\_65-\\_FALSE & 1\\_F\\_UNK\\_FALSE & 2\\_F\\_65-\\_FALSE & 2\\_M\\_65-\\_FALSE & 2\\_F\\_-64\\_FALSE & 2\\_M\\_-64\\_FALSE & 2\\_U\\_UNK\\_FALSE & 2\\_U\\_65-\\_FALSE & 2\\_U\\_-64\\_FALSE & 2\\_F\\_UNK\\_FALSE & 1\\_M\\_UNK\\_FALSE & 2\\_M\\_UNK\\_FALSE\\\\\n <date> & <chr> & <int> & <int> & <int> & <int> & <int> & <int> & <int> & <int> & <int> & <int> & <int> & <int> & <int> & <int> & <int> & <int> & <int> & <int>\\\\\n\\hline\n\t 2021-04-12 & 01 & 113 &  88 & 39 & 26 & 12 &  1 & NA & NA & NA & NA & NA & NA & NA & NA & NA & NA & NA & NA\\\\\n\t 2021-04-12 & 02 &   3 & 137 &  2 & 54 & NA &  7 & NA & NA & NA & NA & NA & NA & NA & NA & NA & NA & NA & NA\\\\\n\t 2021-04-12 & 03 &  NA &  23 & NA & 27 & NA & NA & NA & NA & NA & NA & NA & NA & NA & NA & NA & NA & NA & NA\\\\\n\t 2021-04-12 & 04 &   1 &  NA & NA & NA & NA & NA & NA & NA & NA & NA & NA & NA & NA & NA & NA & NA & NA & NA\\\\\n\t 2021-04-12 & 05 &  13 &   4 &  3 & NA & NA & NA & NA & NA & NA & NA & NA & NA & NA & NA & NA & NA & NA & NA\\\\\n\t 2021-04-12 & 06 &  10 &  23 &  3 & 17 & NA &  1 & NA & NA & NA & NA & NA & NA & NA & NA & NA & NA & NA & NA\\\\\n\\end{tabular}\n",
            "text/markdown": "\nA tibble: 6 × 20\n\n| date &lt;date&gt; | prefecture &lt;chr&gt; | 1_F_-64_FALSE &lt;int&gt; | 1_F_65-_FALSE &lt;int&gt; | 1_M_-64_FALSE &lt;int&gt; | 1_M_65-_FALSE &lt;int&gt; | 1_U_-64_FALSE &lt;int&gt; | 1_U_UNK_FALSE &lt;int&gt; | 1_U_65-_FALSE &lt;int&gt; | 1_F_UNK_FALSE &lt;int&gt; | 2_F_65-_FALSE &lt;int&gt; | 2_M_65-_FALSE &lt;int&gt; | 2_F_-64_FALSE &lt;int&gt; | 2_M_-64_FALSE &lt;int&gt; | 2_U_UNK_FALSE &lt;int&gt; | 2_U_65-_FALSE &lt;int&gt; | 2_U_-64_FALSE &lt;int&gt; | 2_F_UNK_FALSE &lt;int&gt; | 1_M_UNK_FALSE &lt;int&gt; | 2_M_UNK_FALSE &lt;int&gt; |\n|---|---|---|---|---|---|---|---|---|---|---|---|---|---|---|---|---|---|---|---|\n| 2021-04-12 | 01 | 113 |  88 | 39 | 26 | 12 |  1 | NA | NA | NA | NA | NA | NA | NA | NA | NA | NA | NA | NA |\n| 2021-04-12 | 02 |   3 | 137 |  2 | 54 | NA |  7 | NA | NA | NA | NA | NA | NA | NA | NA | NA | NA | NA | NA |\n| 2021-04-12 | 03 |  NA |  23 | NA | 27 | NA | NA | NA | NA | NA | NA | NA | NA | NA | NA | NA | NA | NA | NA |\n| 2021-04-12 | 04 |   1 |  NA | NA | NA | NA | NA | NA | NA | NA | NA | NA | NA | NA | NA | NA | NA | NA | NA |\n| 2021-04-12 | 05 |  13 |   4 |  3 | NA | NA | NA | NA | NA | NA | NA | NA | NA | NA | NA | NA | NA | NA | NA |\n| 2021-04-12 | 06 |  10 |  23 |  3 | 17 | NA |  1 | NA | NA | NA | NA | NA | NA | NA | NA | NA | NA | NA | NA |\n\n",
            "text/html": [
              "<table class=\"dataframe\">\n",
              "<caption>A tibble: 6 × 20</caption>\n",
              "<thead>\n",
              "\t<tr><th scope=col>date</th><th scope=col>prefecture</th><th scope=col>1_F_-64_FALSE</th><th scope=col>1_F_65-_FALSE</th><th scope=col>1_M_-64_FALSE</th><th scope=col>1_M_65-_FALSE</th><th scope=col>1_U_-64_FALSE</th><th scope=col>1_U_UNK_FALSE</th><th scope=col>1_U_65-_FALSE</th><th scope=col>1_F_UNK_FALSE</th><th scope=col>2_F_65-_FALSE</th><th scope=col>2_M_65-_FALSE</th><th scope=col>2_F_-64_FALSE</th><th scope=col>2_M_-64_FALSE</th><th scope=col>2_U_UNK_FALSE</th><th scope=col>2_U_65-_FALSE</th><th scope=col>2_U_-64_FALSE</th><th scope=col>2_F_UNK_FALSE</th><th scope=col>1_M_UNK_FALSE</th><th scope=col>2_M_UNK_FALSE</th></tr>\n",
              "\t<tr><th scope=col>&lt;date&gt;</th><th scope=col>&lt;chr&gt;</th><th scope=col>&lt;int&gt;</th><th scope=col>&lt;int&gt;</th><th scope=col>&lt;int&gt;</th><th scope=col>&lt;int&gt;</th><th scope=col>&lt;int&gt;</th><th scope=col>&lt;int&gt;</th><th scope=col>&lt;int&gt;</th><th scope=col>&lt;int&gt;</th><th scope=col>&lt;int&gt;</th><th scope=col>&lt;int&gt;</th><th scope=col>&lt;int&gt;</th><th scope=col>&lt;int&gt;</th><th scope=col>&lt;int&gt;</th><th scope=col>&lt;int&gt;</th><th scope=col>&lt;int&gt;</th><th scope=col>&lt;int&gt;</th><th scope=col>&lt;int&gt;</th><th scope=col>&lt;int&gt;</th></tr>\n",
              "</thead>\n",
              "<tbody>\n",
              "\t<tr><td>2021-04-12</td><td>01</td><td>113</td><td> 88</td><td>39</td><td>26</td><td>12</td><td> 1</td><td>NA</td><td>NA</td><td>NA</td><td>NA</td><td>NA</td><td>NA</td><td>NA</td><td>NA</td><td>NA</td><td>NA</td><td>NA</td><td>NA</td></tr>\n",
              "\t<tr><td>2021-04-12</td><td>02</td><td>  3</td><td>137</td><td> 2</td><td>54</td><td>NA</td><td> 7</td><td>NA</td><td>NA</td><td>NA</td><td>NA</td><td>NA</td><td>NA</td><td>NA</td><td>NA</td><td>NA</td><td>NA</td><td>NA</td><td>NA</td></tr>\n",
              "\t<tr><td>2021-04-12</td><td>03</td><td> NA</td><td> 23</td><td>NA</td><td>27</td><td>NA</td><td>NA</td><td>NA</td><td>NA</td><td>NA</td><td>NA</td><td>NA</td><td>NA</td><td>NA</td><td>NA</td><td>NA</td><td>NA</td><td>NA</td><td>NA</td></tr>\n",
              "\t<tr><td>2021-04-12</td><td>04</td><td>  1</td><td> NA</td><td>NA</td><td>NA</td><td>NA</td><td>NA</td><td>NA</td><td>NA</td><td>NA</td><td>NA</td><td>NA</td><td>NA</td><td>NA</td><td>NA</td><td>NA</td><td>NA</td><td>NA</td><td>NA</td></tr>\n",
              "\t<tr><td>2021-04-12</td><td>05</td><td> 13</td><td>  4</td><td> 3</td><td>NA</td><td>NA</td><td>NA</td><td>NA</td><td>NA</td><td>NA</td><td>NA</td><td>NA</td><td>NA</td><td>NA</td><td>NA</td><td>NA</td><td>NA</td><td>NA</td><td>NA</td></tr>\n",
              "\t<tr><td>2021-04-12</td><td>06</td><td> 10</td><td> 23</td><td> 3</td><td>17</td><td>NA</td><td> 1</td><td>NA</td><td>NA</td><td>NA</td><td>NA</td><td>NA</td><td>NA</td><td>NA</td><td>NA</td><td>NA</td><td>NA</td><td>NA</td><td>NA</td></tr>\n",
              "</tbody>\n",
              "</table>\n"
            ]
          },
          "metadata": {
            "tags": []
          }
        },
        {
          "output_type": "display_data",
          "data": {
            "text/plain": [
              "  date       prefecture status1 status2 status_all\n",
              "1 2021-04-12 01         279     0       279       \n",
              "2 2021-04-12 02         203     0       203       \n",
              "3 2021-04-12 03          50     0        50       \n",
              "4 2021-04-12 04           1     0         1       \n",
              "5 2021-04-12 05          20     0        20       \n",
              "6 2021-04-12 06          54     0        54       "
            ],
            "text/latex": "A tibble: 6 × 5\n\\begin{tabular}{lllll}\n date & prefecture & status1 & status2 & status\\_all\\\\\n <date> & <chr> & <int> & <int> & <int>\\\\\n\\hline\n\t 2021-04-12 & 01 & 279 & 0 & 279\\\\\n\t 2021-04-12 & 02 & 203 & 0 & 203\\\\\n\t 2021-04-12 & 03 &  50 & 0 &  50\\\\\n\t 2021-04-12 & 04 &   1 & 0 &   1\\\\\n\t 2021-04-12 & 05 &  20 & 0 &  20\\\\\n\t 2021-04-12 & 06 &  54 & 0 &  54\\\\\n\\end{tabular}\n",
            "text/markdown": "\nA tibble: 6 × 5\n\n| date &lt;date&gt; | prefecture &lt;chr&gt; | status1 &lt;int&gt; | status2 &lt;int&gt; | status_all &lt;int&gt; |\n|---|---|---|---|---|\n| 2021-04-12 | 01 | 279 | 0 | 279 |\n| 2021-04-12 | 02 | 203 | 0 | 203 |\n| 2021-04-12 | 03 |  50 | 0 |  50 |\n| 2021-04-12 | 04 |   1 | 0 |   1 |\n| 2021-04-12 | 05 |  20 | 0 |  20 |\n| 2021-04-12 | 06 |  54 | 0 |  54 |\n\n",
            "text/html": [
              "<table class=\"dataframe\">\n",
              "<caption>A tibble: 6 × 5</caption>\n",
              "<thead>\n",
              "\t<tr><th scope=col>date</th><th scope=col>prefecture</th><th scope=col>status1</th><th scope=col>status2</th><th scope=col>status_all</th></tr>\n",
              "\t<tr><th scope=col>&lt;date&gt;</th><th scope=col>&lt;chr&gt;</th><th scope=col>&lt;int&gt;</th><th scope=col>&lt;int&gt;</th><th scope=col>&lt;int&gt;</th></tr>\n",
              "</thead>\n",
              "<tbody>\n",
              "\t<tr><td>2021-04-12</td><td>01</td><td>279</td><td>0</td><td>279</td></tr>\n",
              "\t<tr><td>2021-04-12</td><td>02</td><td>203</td><td>0</td><td>203</td></tr>\n",
              "\t<tr><td>2021-04-12</td><td>03</td><td> 50</td><td>0</td><td> 50</td></tr>\n",
              "\t<tr><td>2021-04-12</td><td>04</td><td>  1</td><td>0</td><td>  1</td></tr>\n",
              "\t<tr><td>2021-04-12</td><td>05</td><td> 20</td><td>0</td><td> 20</td></tr>\n",
              "\t<tr><td>2021-04-12</td><td>06</td><td> 54</td><td>0</td><td> 54</td></tr>\n",
              "</tbody>\n",
              "</table>\n"
            ]
          },
          "metadata": {
            "tags": []
          }
        },
        {
          "output_type": "display_data",
          "data": {
            "text/plain": [
              "  date       prefecture status1 status2 status_all\n",
              "1 2021-07-19 42         1208    1970    3178      \n",
              "2 2021-07-19 43         2133    5346    7479      \n",
              "3 2021-07-19 44          659    2500    3159      \n",
              "4 2021-07-19 45         1078    3195    4273      \n",
              "5 2021-07-19 46         1785    5230    7015      \n",
              "6 2021-07-19 47         2282    2754    5036      "
            ],
            "text/latex": "A tibble: 6 × 5\n\\begin{tabular}{lllll}\n date & prefecture & status1 & status2 & status\\_all\\\\\n <date> & <chr> & <int> & <int> & <int>\\\\\n\\hline\n\t 2021-07-19 & 42 & 1208 & 1970 & 3178\\\\\n\t 2021-07-19 & 43 & 2133 & 5346 & 7479\\\\\n\t 2021-07-19 & 44 &  659 & 2500 & 3159\\\\\n\t 2021-07-19 & 45 & 1078 & 3195 & 4273\\\\\n\t 2021-07-19 & 46 & 1785 & 5230 & 7015\\\\\n\t 2021-07-19 & 47 & 2282 & 2754 & 5036\\\\\n\\end{tabular}\n",
            "text/markdown": "\nA tibble: 6 × 5\n\n| date &lt;date&gt; | prefecture &lt;chr&gt; | status1 &lt;int&gt; | status2 &lt;int&gt; | status_all &lt;int&gt; |\n|---|---|---|---|---|\n| 2021-07-19 | 42 | 1208 | 1970 | 3178 |\n| 2021-07-19 | 43 | 2133 | 5346 | 7479 |\n| 2021-07-19 | 44 |  659 | 2500 | 3159 |\n| 2021-07-19 | 45 | 1078 | 3195 | 4273 |\n| 2021-07-19 | 46 | 1785 | 5230 | 7015 |\n| 2021-07-19 | 47 | 2282 | 2754 | 5036 |\n\n",
            "text/html": [
              "<table class=\"dataframe\">\n",
              "<caption>A tibble: 6 × 5</caption>\n",
              "<thead>\n",
              "\t<tr><th scope=col>date</th><th scope=col>prefecture</th><th scope=col>status1</th><th scope=col>status2</th><th scope=col>status_all</th></tr>\n",
              "\t<tr><th scope=col>&lt;date&gt;</th><th scope=col>&lt;chr&gt;</th><th scope=col>&lt;int&gt;</th><th scope=col>&lt;int&gt;</th><th scope=col>&lt;int&gt;</th></tr>\n",
              "</thead>\n",
              "<tbody>\n",
              "\t<tr><td>2021-07-19</td><td>42</td><td>1208</td><td>1970</td><td>3178</td></tr>\n",
              "\t<tr><td>2021-07-19</td><td>43</td><td>2133</td><td>5346</td><td>7479</td></tr>\n",
              "\t<tr><td>2021-07-19</td><td>44</td><td> 659</td><td>2500</td><td>3159</td></tr>\n",
              "\t<tr><td>2021-07-19</td><td>45</td><td>1078</td><td>3195</td><td>4273</td></tr>\n",
              "\t<tr><td>2021-07-19</td><td>46</td><td>1785</td><td>5230</td><td>7015</td></tr>\n",
              "\t<tr><td>2021-07-19</td><td>47</td><td>2282</td><td>2754</td><td>5036</td></tr>\n",
              "</tbody>\n",
              "</table>\n"
            ]
          },
          "metadata": {
            "tags": []
          }
        },
        {
          "output_type": "display_data",
          "data": {
            "text/plain": [
              "      date             prefecture           status1         status2       \n",
              " Min.   :2021-04-12   Length:4619        Min.   :    0   Min.   :    0.0  \n",
              " 1st Qu.:2021-05-07   Class :character   1st Qu.: 1290   1st Qu.:   30.5  \n",
              " Median :2021-05-31   Mode  :character   Median : 4511   Median : 1527.0  \n",
              " Mean   :2021-05-31                      Mean   : 8034   Mean   : 4946.9  \n",
              " 3rd Qu.:2021-06-25                      3rd Qu.: 9468   3rd Qu.: 5954.0  \n",
              " Max.   :2021-07-19                      Max.   :78661   Max.   :67172.0  \n",
              "   status_all    \n",
              " Min.   :     1  \n",
              " 1st Qu.:  1527  \n",
              " Median :  7250  \n",
              " Mean   : 12981  \n",
              " 3rd Qu.: 15430  \n",
              " Max.   :130951  "
            ]
          },
          "metadata": {
            "tags": []
          }
        }
      ]
    },
    {
      "cell_type": "markdown",
      "metadata": {
        "id": "JzfsOaAVncOt"
      },
      "source": [
        "### 4.4. 全国計を計算する\n",
        "全国計は、接種件数の場合は別にデータがあるわけではなく、各都道府県の数字を合算すればよさそうです。感染者数とは違い、客船のようなケースはないからでしょうか。\n",
        "\n",
        "<font color = \"gray\">\n",
        "大規模接種の場合も、きちんと居住地に振り分けられているのかどうか、要確認ですね。\n",
        "</font>\n",
        "\n",
        "全国計の算出は縦持ちのまま、statusで区分して集計するよう変更しました。\n"
      ]
    },
    {
      "cell_type": "code",
      "metadata": {
        "colab": {
          "base_uri": "https://localhost:8080/",
          "height": 1000
        },
        "id": "2NQmsYFan39c",
        "outputId": "f5ce5938-f256-4c88-ef8f-8139e2c77955"
      },
      "source": [
        "# 全国計の計算方法を変更。縦持ちのままでやる。\n",
        "# １日ごと全都道府県、というデータを合計するファンクションを作った。\n",
        "# 最終行に全国計を追加する。\n",
        "calc_total = function(df){\n",
        "    return(\n",
        "        df %>% bind_rows(\n",
        "            summarize(.,\n",
        "                across(where(is.numeric), sum),\n",
        "                prefecture = \"TOTAL/AVE\"\n",
        "            )\n",
        "        )\n",
        "    )\n",
        "}\n",
        "\n",
        "vaccinations <- vaccinations %>%\n",
        "# 日ごとにまとめ、都道府県名以下は下の階層に畳む（ネスト）。\n",
        "  nest(nested_df = -date) %>% \n",
        "# 先ほどのファンクションを適用して、日ごとに全国計の列を追加する。\n",
        "  mutate(nested_df = map(nested_df, calc_total)) %>% \n",
        "# 計算が終わったのでネストを元に戻す。\n",
        "  unnest(cols = nested_df)\n",
        "  \n",
        "# こんな表になった\n",
        "head(vaccinations)\n",
        "\n",
        "# 結果を確認する。\n",
        "summary(vaccinations)\n",
        "head(vaccinations)\n",
        "tail(vaccinations)"
      ],
      "execution_count": null,
      "outputs": [
        {
          "output_type": "display_data",
          "data": {
            "text/plain": [
              "  date       prefecture status1 status2 status_all\n",
              "1 2021-04-12 01         279     0       279       \n",
              "2 2021-04-12 02         203     0       203       \n",
              "3 2021-04-12 03          50     0        50       \n",
              "4 2021-04-12 04           1     0         1       \n",
              "5 2021-04-12 05          20     0        20       \n",
              "6 2021-04-12 06          54     0        54       "
            ],
            "text/latex": "A tibble: 6 × 5\n\\begin{tabular}{lllll}\n date & prefecture & status1 & status2 & status\\_all\\\\\n <date> & <chr> & <int> & <int> & <int>\\\\\n\\hline\n\t 2021-04-12 & 01 & 279 & 0 & 279\\\\\n\t 2021-04-12 & 02 & 203 & 0 & 203\\\\\n\t 2021-04-12 & 03 &  50 & 0 &  50\\\\\n\t 2021-04-12 & 04 &   1 & 0 &   1\\\\\n\t 2021-04-12 & 05 &  20 & 0 &  20\\\\\n\t 2021-04-12 & 06 &  54 & 0 &  54\\\\\n\\end{tabular}\n",
            "text/markdown": "\nA tibble: 6 × 5\n\n| date &lt;date&gt; | prefecture &lt;chr&gt; | status1 &lt;int&gt; | status2 &lt;int&gt; | status_all &lt;int&gt; |\n|---|---|---|---|---|\n| 2021-04-12 | 01 | 279 | 0 | 279 |\n| 2021-04-12 | 02 | 203 | 0 | 203 |\n| 2021-04-12 | 03 |  50 | 0 |  50 |\n| 2021-04-12 | 04 |   1 | 0 |   1 |\n| 2021-04-12 | 05 |  20 | 0 |  20 |\n| 2021-04-12 | 06 |  54 | 0 |  54 |\n\n",
            "text/html": [
              "<table class=\"dataframe\">\n",
              "<caption>A tibble: 6 × 5</caption>\n",
              "<thead>\n",
              "\t<tr><th scope=col>date</th><th scope=col>prefecture</th><th scope=col>status1</th><th scope=col>status2</th><th scope=col>status_all</th></tr>\n",
              "\t<tr><th scope=col>&lt;date&gt;</th><th scope=col>&lt;chr&gt;</th><th scope=col>&lt;int&gt;</th><th scope=col>&lt;int&gt;</th><th scope=col>&lt;int&gt;</th></tr>\n",
              "</thead>\n",
              "<tbody>\n",
              "\t<tr><td>2021-04-12</td><td>01</td><td>279</td><td>0</td><td>279</td></tr>\n",
              "\t<tr><td>2021-04-12</td><td>02</td><td>203</td><td>0</td><td>203</td></tr>\n",
              "\t<tr><td>2021-04-12</td><td>03</td><td> 50</td><td>0</td><td> 50</td></tr>\n",
              "\t<tr><td>2021-04-12</td><td>04</td><td>  1</td><td>0</td><td>  1</td></tr>\n",
              "\t<tr><td>2021-04-12</td><td>05</td><td> 20</td><td>0</td><td> 20</td></tr>\n",
              "\t<tr><td>2021-04-12</td><td>06</td><td> 54</td><td>0</td><td> 54</td></tr>\n",
              "</tbody>\n",
              "</table>\n"
            ]
          },
          "metadata": {
            "tags": []
          }
        },
        {
          "output_type": "display_data",
          "data": {
            "text/plain": [
              "      date             prefecture           status1          status2      \n",
              " Min.   :2021-04-12   Length:4718        Min.   :     0   Min.   :     0  \n",
              " 1st Qu.:2021-05-07   Class :character   1st Qu.:  1347   1st Qu.:    32  \n",
              " Median :2021-05-31   Mode  :character   Median :  4699   Median :  1588  \n",
              " Mean   :2021-05-31                      Mean   : 15732   Mean   :  9686  \n",
              " 3rd Qu.:2021-06-25                      3rd Qu.:  9948   3rd Qu.:  6276  \n",
              " Max.   :2021-07-19                      Max.   :739786   Max.   :670809  \n",
              "   status_all     \n",
              " Min.   :      1  \n",
              " 1st Qu.:   1611  \n",
              " Median :   7528  \n",
              " Mean   :  25418  \n",
              " 3rd Qu.:  16135  \n",
              " Max.   :1329598  "
            ]
          },
          "metadata": {
            "tags": []
          }
        },
        {
          "output_type": "display_data",
          "data": {
            "text/plain": [
              "  date       prefecture status1 status2 status_all\n",
              "1 2021-04-12 01         279     0       279       \n",
              "2 2021-04-12 02         203     0       203       \n",
              "3 2021-04-12 03          50     0        50       \n",
              "4 2021-04-12 04           1     0         1       \n",
              "5 2021-04-12 05          20     0        20       \n",
              "6 2021-04-12 06          54     0        54       "
            ],
            "text/latex": "A tibble: 6 × 5\n\\begin{tabular}{lllll}\n date & prefecture & status1 & status2 & status\\_all\\\\\n <date> & <chr> & <int> & <int> & <int>\\\\\n\\hline\n\t 2021-04-12 & 01 & 279 & 0 & 279\\\\\n\t 2021-04-12 & 02 & 203 & 0 & 203\\\\\n\t 2021-04-12 & 03 &  50 & 0 &  50\\\\\n\t 2021-04-12 & 04 &   1 & 0 &   1\\\\\n\t 2021-04-12 & 05 &  20 & 0 &  20\\\\\n\t 2021-04-12 & 06 &  54 & 0 &  54\\\\\n\\end{tabular}\n",
            "text/markdown": "\nA tibble: 6 × 5\n\n| date &lt;date&gt; | prefecture &lt;chr&gt; | status1 &lt;int&gt; | status2 &lt;int&gt; | status_all &lt;int&gt; |\n|---|---|---|---|---|\n| 2021-04-12 | 01 | 279 | 0 | 279 |\n| 2021-04-12 | 02 | 203 | 0 | 203 |\n| 2021-04-12 | 03 |  50 | 0 |  50 |\n| 2021-04-12 | 04 |   1 | 0 |   1 |\n| 2021-04-12 | 05 |  20 | 0 |  20 |\n| 2021-04-12 | 06 |  54 | 0 |  54 |\n\n",
            "text/html": [
              "<table class=\"dataframe\">\n",
              "<caption>A tibble: 6 × 5</caption>\n",
              "<thead>\n",
              "\t<tr><th scope=col>date</th><th scope=col>prefecture</th><th scope=col>status1</th><th scope=col>status2</th><th scope=col>status_all</th></tr>\n",
              "\t<tr><th scope=col>&lt;date&gt;</th><th scope=col>&lt;chr&gt;</th><th scope=col>&lt;int&gt;</th><th scope=col>&lt;int&gt;</th><th scope=col>&lt;int&gt;</th></tr>\n",
              "</thead>\n",
              "<tbody>\n",
              "\t<tr><td>2021-04-12</td><td>01</td><td>279</td><td>0</td><td>279</td></tr>\n",
              "\t<tr><td>2021-04-12</td><td>02</td><td>203</td><td>0</td><td>203</td></tr>\n",
              "\t<tr><td>2021-04-12</td><td>03</td><td> 50</td><td>0</td><td> 50</td></tr>\n",
              "\t<tr><td>2021-04-12</td><td>04</td><td>  1</td><td>0</td><td>  1</td></tr>\n",
              "\t<tr><td>2021-04-12</td><td>05</td><td> 20</td><td>0</td><td> 20</td></tr>\n",
              "\t<tr><td>2021-04-12</td><td>06</td><td> 54</td><td>0</td><td> 54</td></tr>\n",
              "</tbody>\n",
              "</table>\n"
            ]
          },
          "metadata": {
            "tags": []
          }
        },
        {
          "output_type": "display_data",
          "data": {
            "text/plain": [
              "  date       prefecture status1 status2 status_all\n",
              "1 2021-07-19 43           2133    5346    7479    \n",
              "2 2021-07-19 44            659    2500    3159    \n",
              "3 2021-07-19 45           1078    3195    4273    \n",
              "4 2021-07-19 46           1785    5230    7015    \n",
              "5 2021-07-19 47           2282    2754    5036    \n",
              "6 2021-07-19 TOTAL/AVE  171851  342364  514215    "
            ],
            "text/latex": "A tibble: 6 × 5\n\\begin{tabular}{lllll}\n date & prefecture & status1 & status2 & status\\_all\\\\\n <date> & <chr> & <int> & <int> & <int>\\\\\n\\hline\n\t 2021-07-19 & 43        &   2133 &   5346 &   7479\\\\\n\t 2021-07-19 & 44        &    659 &   2500 &   3159\\\\\n\t 2021-07-19 & 45        &   1078 &   3195 &   4273\\\\\n\t 2021-07-19 & 46        &   1785 &   5230 &   7015\\\\\n\t 2021-07-19 & 47        &   2282 &   2754 &   5036\\\\\n\t 2021-07-19 & TOTAL/AVE & 171851 & 342364 & 514215\\\\\n\\end{tabular}\n",
            "text/markdown": "\nA tibble: 6 × 5\n\n| date &lt;date&gt; | prefecture &lt;chr&gt; | status1 &lt;int&gt; | status2 &lt;int&gt; | status_all &lt;int&gt; |\n|---|---|---|---|---|\n| 2021-07-19 | 43        |   2133 |   5346 |   7479 |\n| 2021-07-19 | 44        |    659 |   2500 |   3159 |\n| 2021-07-19 | 45        |   1078 |   3195 |   4273 |\n| 2021-07-19 | 46        |   1785 |   5230 |   7015 |\n| 2021-07-19 | 47        |   2282 |   2754 |   5036 |\n| 2021-07-19 | TOTAL/AVE | 171851 | 342364 | 514215 |\n\n",
            "text/html": [
              "<table class=\"dataframe\">\n",
              "<caption>A tibble: 6 × 5</caption>\n",
              "<thead>\n",
              "\t<tr><th scope=col>date</th><th scope=col>prefecture</th><th scope=col>status1</th><th scope=col>status2</th><th scope=col>status_all</th></tr>\n",
              "\t<tr><th scope=col>&lt;date&gt;</th><th scope=col>&lt;chr&gt;</th><th scope=col>&lt;int&gt;</th><th scope=col>&lt;int&gt;</th><th scope=col>&lt;int&gt;</th></tr>\n",
              "</thead>\n",
              "<tbody>\n",
              "\t<tr><td>2021-07-19</td><td>43       </td><td>  2133</td><td>  5346</td><td>  7479</td></tr>\n",
              "\t<tr><td>2021-07-19</td><td>44       </td><td>   659</td><td>  2500</td><td>  3159</td></tr>\n",
              "\t<tr><td>2021-07-19</td><td>45       </td><td>  1078</td><td>  3195</td><td>  4273</td></tr>\n",
              "\t<tr><td>2021-07-19</td><td>46       </td><td>  1785</td><td>  5230</td><td>  7015</td></tr>\n",
              "\t<tr><td>2021-07-19</td><td>47       </td><td>  2282</td><td>  2754</td><td>  5036</td></tr>\n",
              "\t<tr><td>2021-07-19</td><td>TOTAL/AVE</td><td>171851</td><td>342364</td><td>514215</td></tr>\n",
              "</tbody>\n",
              "</table>\n"
            ]
          },
          "metadata": {
            "tags": []
          }
        }
      ]
    },
    {
      "cell_type": "markdown",
      "metadata": {
        "id": "qzUUBsPrv2tO"
      },
      "source": [
        "### 4.5. 累計を計算する\n",
        "\n",
        "ワクチンが行き渡ることの効果は、その日の接種分ではなく、それまでの積み重ねによるものでしょうから、累計の数字を計算しましょう。特定の都道府県に注目して、その県で接種が始まった日からの件数を足していく、ということになります。\n",
        "\n",
        "ある県だけに注目したら、こういう処理をしたらいいね、という部分を、即席のファンクションにしています。この部分は、informationチャンネルの[解説「Memo_for_R_beginners.Rmd」](https://jnpcitseminar.slack.com/files/UGX4CGHNZ/F026EJU680M/memo_for_r_beginners.rmd)を参考にして下さい。\n",
        "\n",
        "もともとは、当日分を含む累計しか計算していなかったのですが、積み上げ棒グラフにするなら、前日までの累計が必要だな、と考えて後からその部分を追加しました。ファンクションとして、切り出してまとめていたから、手直しが楽でした。\n",
        "\n",
        "本当は、所定回数を完了したのかまだ途中かを区別し、接種の効果に応じてカウントの重みを変えたいところです。しかし、１回完了型が接種可能になった際、いま入手できるデータでは対応しきれないため、重み付けは変えていません。「2回中の1回」（statusが1）は判別できるのですが、statusが2の場合、1だった人が2回目接種を終えたのか、1回だけでＯＫのワクチンの接種を受けたのかが、区別できないためです。\n",
        "\n",
        "製造元がどこか（Johnson & Johnson とか）の情報があれば、補えます。流通の目詰まりを追うためにも、データがほしいところです。"
      ]
    },
    {
      "cell_type": "code",
      "metadata": {
        "colab": {
          "base_uri": "https://localhost:8080/",
          "height": 735
        },
        "id": "cif-qWfpxBTM",
        "outputId": "28bf8df0-b8ed-448f-df94-66cdc1578dd7"
      },
      "source": [
        "# 都道府県ごとに小分けした想定で、累計を計算する即席のファンクションを作った。\n",
        "calc_sum = function(df){\n",
        "    return(\n",
        "        df %>% arrange(date) %>% \n",
        "        mutate(\n",
        "# status区分を追加した。\n",
        "            \"total_status1\" = cumsum(status1),\n",
        "            \"total_status2\" = cumsum(status2),\n",
        "# total_と頭につけたカラムは当日を含む。\n",
        "            \"total_status_all\" = cumsum(status_all),\n",
        "# 当日分と積み上げグラフにする場合も考えて、前日分まではcum_vaccinationsカラムに入れることにした。\n",
        "            \"cum_vaccinations\"   = total_status_all - status_all\n",
        "        ) %>% arrange(desc(date))\n",
        "    )\n",
        "}\n",
        "\n",
        "# 都道府県ごとにnest（下の階層に畳む）する。\n",
        "vaccinations <- vaccinations %>%\n",
        "# コード順にソートしておく。\n",
        "    arrange(prefecture) %>%\n",
        "# prefecture以外は畳む。\n",
        "    nest(data_by_pref = -prefecture) %>%\n",
        "# さっき作ったファンクションを、県単位で当てはめていく。\n",
        "    mutate(data_by_pref = map(data_by_pref, calc_sum)) %>% \n",
        "# 計算が終わったので、nestを解除する。\n",
        "    unnest(cols = data_by_pref)\n",
        "\n",
        "# 表示する。\n",
        "head(vaccinations)\n",
        "tail(vaccinations)\n",
        "str(vaccinations)"
      ],
      "execution_count": null,
      "outputs": [
        {
          "output_type": "display_data",
          "data": {
            "text/plain": [
              "  prefecture date       status1 status2 status_all total_status1 total_status2\n",
              "1 01         2021-07-19  4402   11844   16246      1522860       871660       \n",
              "2 01         2021-07-18 12415   15086   27501      1518458       859816       \n",
              "3 01         2021-07-17 14840   16671   31511      1506043       844730       \n",
              "4 01         2021-07-16 15581   16439   32020      1491203       828059       \n",
              "5 01         2021-07-15 17893   17980   35873      1475622       811620       \n",
              "6 01         2021-07-14 21424   20069   41493      1457729       793640       \n",
              "  total_status_all cum_vaccinations\n",
              "1 2394520          2378274         \n",
              "2 2378274          2350773         \n",
              "3 2350773          2319262         \n",
              "4 2319262          2287242         \n",
              "5 2287242          2251369         \n",
              "6 2251369          2209876         "
            ],
            "text/latex": "A tibble: 6 × 9\n\\begin{tabular}{lllllllll}\n prefecture & date & status1 & status2 & status\\_all & total\\_status1 & total\\_status2 & total\\_status\\_all & cum\\_vaccinations\\\\\n <chr> & <date> & <int> & <int> & <int> & <int> & <int> & <int> & <int>\\\\\n\\hline\n\t 01 & 2021-07-19 &  4402 & 11844 & 16246 & 1522860 & 871660 & 2394520 & 2378274\\\\\n\t 01 & 2021-07-18 & 12415 & 15086 & 27501 & 1518458 & 859816 & 2378274 & 2350773\\\\\n\t 01 & 2021-07-17 & 14840 & 16671 & 31511 & 1506043 & 844730 & 2350773 & 2319262\\\\\n\t 01 & 2021-07-16 & 15581 & 16439 & 32020 & 1491203 & 828059 & 2319262 & 2287242\\\\\n\t 01 & 2021-07-15 & 17893 & 17980 & 35873 & 1475622 & 811620 & 2287242 & 2251369\\\\\n\t 01 & 2021-07-14 & 21424 & 20069 & 41493 & 1457729 & 793640 & 2251369 & 2209876\\\\\n\\end{tabular}\n",
            "text/markdown": "\nA tibble: 6 × 9\n\n| prefecture &lt;chr&gt; | date &lt;date&gt; | status1 &lt;int&gt; | status2 &lt;int&gt; | status_all &lt;int&gt; | total_status1 &lt;int&gt; | total_status2 &lt;int&gt; | total_status_all &lt;int&gt; | cum_vaccinations &lt;int&gt; |\n|---|---|---|---|---|---|---|---|---|\n| 01 | 2021-07-19 |  4402 | 11844 | 16246 | 1522860 | 871660 | 2394520 | 2378274 |\n| 01 | 2021-07-18 | 12415 | 15086 | 27501 | 1518458 | 859816 | 2378274 | 2350773 |\n| 01 | 2021-07-17 | 14840 | 16671 | 31511 | 1506043 | 844730 | 2350773 | 2319262 |\n| 01 | 2021-07-16 | 15581 | 16439 | 32020 | 1491203 | 828059 | 2319262 | 2287242 |\n| 01 | 2021-07-15 | 17893 | 17980 | 35873 | 1475622 | 811620 | 2287242 | 2251369 |\n| 01 | 2021-07-14 | 21424 | 20069 | 41493 | 1457729 | 793640 | 2251369 | 2209876 |\n\n",
            "text/html": [
              "<table class=\"dataframe\">\n",
              "<caption>A tibble: 6 × 9</caption>\n",
              "<thead>\n",
              "\t<tr><th scope=col>prefecture</th><th scope=col>date</th><th scope=col>status1</th><th scope=col>status2</th><th scope=col>status_all</th><th scope=col>total_status1</th><th scope=col>total_status2</th><th scope=col>total_status_all</th><th scope=col>cum_vaccinations</th></tr>\n",
              "\t<tr><th scope=col>&lt;chr&gt;</th><th scope=col>&lt;date&gt;</th><th scope=col>&lt;int&gt;</th><th scope=col>&lt;int&gt;</th><th scope=col>&lt;int&gt;</th><th scope=col>&lt;int&gt;</th><th scope=col>&lt;int&gt;</th><th scope=col>&lt;int&gt;</th><th scope=col>&lt;int&gt;</th></tr>\n",
              "</thead>\n",
              "<tbody>\n",
              "\t<tr><td>01</td><td>2021-07-19</td><td> 4402</td><td>11844</td><td>16246</td><td>1522860</td><td>871660</td><td>2394520</td><td>2378274</td></tr>\n",
              "\t<tr><td>01</td><td>2021-07-18</td><td>12415</td><td>15086</td><td>27501</td><td>1518458</td><td>859816</td><td>2378274</td><td>2350773</td></tr>\n",
              "\t<tr><td>01</td><td>2021-07-17</td><td>14840</td><td>16671</td><td>31511</td><td>1506043</td><td>844730</td><td>2350773</td><td>2319262</td></tr>\n",
              "\t<tr><td>01</td><td>2021-07-16</td><td>15581</td><td>16439</td><td>32020</td><td>1491203</td><td>828059</td><td>2319262</td><td>2287242</td></tr>\n",
              "\t<tr><td>01</td><td>2021-07-15</td><td>17893</td><td>17980</td><td>35873</td><td>1475622</td><td>811620</td><td>2287242</td><td>2251369</td></tr>\n",
              "\t<tr><td>01</td><td>2021-07-14</td><td>21424</td><td>20069</td><td>41493</td><td>1457729</td><td>793640</td><td>2251369</td><td>2209876</td></tr>\n",
              "</tbody>\n",
              "</table>\n"
            ]
          },
          "metadata": {
            "tags": []
          }
        },
        {
          "output_type": "display_data",
          "data": {
            "text/plain": [
              "  prefecture date       status1 status2 status_all total_status1 total_status2\n",
              "1 TOTAL/AVE  2021-04-17  7957   0        7957      42370         0            \n",
              "2 TOTAL/AVE  2021-04-16 11144   0       11144      34413         0            \n",
              "3 TOTAL/AVE  2021-04-15  9177   0        9177      23269         0            \n",
              "4 TOTAL/AVE  2021-04-14  4944   0        4944      14092         0            \n",
              "5 TOTAL/AVE  2021-04-13  4293   0        4293       9148         0            \n",
              "6 TOTAL/AVE  2021-04-12  4855   0        4855       4855         0            \n",
              "  total_status_all cum_vaccinations\n",
              "1 42370            34413           \n",
              "2 34413            23269           \n",
              "3 23269            14092           \n",
              "4 14092             9148           \n",
              "5  9148             4855           \n",
              "6  4855                0           "
            ],
            "text/latex": "A tibble: 6 × 9\n\\begin{tabular}{lllllllll}\n prefecture & date & status1 & status2 & status\\_all & total\\_status1 & total\\_status2 & total\\_status\\_all & cum\\_vaccinations\\\\\n <chr> & <date> & <int> & <int> & <int> & <int> & <int> & <int> & <int>\\\\\n\\hline\n\t TOTAL/AVE & 2021-04-17 &  7957 & 0 &  7957 & 42370 & 0 & 42370 & 34413\\\\\n\t TOTAL/AVE & 2021-04-16 & 11144 & 0 & 11144 & 34413 & 0 & 34413 & 23269\\\\\n\t TOTAL/AVE & 2021-04-15 &  9177 & 0 &  9177 & 23269 & 0 & 23269 & 14092\\\\\n\t TOTAL/AVE & 2021-04-14 &  4944 & 0 &  4944 & 14092 & 0 & 14092 &  9148\\\\\n\t TOTAL/AVE & 2021-04-13 &  4293 & 0 &  4293 &  9148 & 0 &  9148 &  4855\\\\\n\t TOTAL/AVE & 2021-04-12 &  4855 & 0 &  4855 &  4855 & 0 &  4855 &     0\\\\\n\\end{tabular}\n",
            "text/markdown": "\nA tibble: 6 × 9\n\n| prefecture &lt;chr&gt; | date &lt;date&gt; | status1 &lt;int&gt; | status2 &lt;int&gt; | status_all &lt;int&gt; | total_status1 &lt;int&gt; | total_status2 &lt;int&gt; | total_status_all &lt;int&gt; | cum_vaccinations &lt;int&gt; |\n|---|---|---|---|---|---|---|---|---|\n| TOTAL/AVE | 2021-04-17 |  7957 | 0 |  7957 | 42370 | 0 | 42370 | 34413 |\n| TOTAL/AVE | 2021-04-16 | 11144 | 0 | 11144 | 34413 | 0 | 34413 | 23269 |\n| TOTAL/AVE | 2021-04-15 |  9177 | 0 |  9177 | 23269 | 0 | 23269 | 14092 |\n| TOTAL/AVE | 2021-04-14 |  4944 | 0 |  4944 | 14092 | 0 | 14092 |  9148 |\n| TOTAL/AVE | 2021-04-13 |  4293 | 0 |  4293 |  9148 | 0 |  9148 |  4855 |\n| TOTAL/AVE | 2021-04-12 |  4855 | 0 |  4855 |  4855 | 0 |  4855 |     0 |\n\n",
            "text/html": [
              "<table class=\"dataframe\">\n",
              "<caption>A tibble: 6 × 9</caption>\n",
              "<thead>\n",
              "\t<tr><th scope=col>prefecture</th><th scope=col>date</th><th scope=col>status1</th><th scope=col>status2</th><th scope=col>status_all</th><th scope=col>total_status1</th><th scope=col>total_status2</th><th scope=col>total_status_all</th><th scope=col>cum_vaccinations</th></tr>\n",
              "\t<tr><th scope=col>&lt;chr&gt;</th><th scope=col>&lt;date&gt;</th><th scope=col>&lt;int&gt;</th><th scope=col>&lt;int&gt;</th><th scope=col>&lt;int&gt;</th><th scope=col>&lt;int&gt;</th><th scope=col>&lt;int&gt;</th><th scope=col>&lt;int&gt;</th><th scope=col>&lt;int&gt;</th></tr>\n",
              "</thead>\n",
              "<tbody>\n",
              "\t<tr><td>TOTAL/AVE</td><td>2021-04-17</td><td> 7957</td><td>0</td><td> 7957</td><td>42370</td><td>0</td><td>42370</td><td>34413</td></tr>\n",
              "\t<tr><td>TOTAL/AVE</td><td>2021-04-16</td><td>11144</td><td>0</td><td>11144</td><td>34413</td><td>0</td><td>34413</td><td>23269</td></tr>\n",
              "\t<tr><td>TOTAL/AVE</td><td>2021-04-15</td><td> 9177</td><td>0</td><td> 9177</td><td>23269</td><td>0</td><td>23269</td><td>14092</td></tr>\n",
              "\t<tr><td>TOTAL/AVE</td><td>2021-04-14</td><td> 4944</td><td>0</td><td> 4944</td><td>14092</td><td>0</td><td>14092</td><td> 9148</td></tr>\n",
              "\t<tr><td>TOTAL/AVE</td><td>2021-04-13</td><td> 4293</td><td>0</td><td> 4293</td><td> 9148</td><td>0</td><td> 9148</td><td> 4855</td></tr>\n",
              "\t<tr><td>TOTAL/AVE</td><td>2021-04-12</td><td> 4855</td><td>0</td><td> 4855</td><td> 4855</td><td>0</td><td> 4855</td><td>    0</td></tr>\n",
              "</tbody>\n",
              "</table>\n"
            ]
          },
          "metadata": {
            "tags": []
          }
        },
        {
          "output_type": "stream",
          "text": [
            "tibble [4,718 × 9] (S3: tbl_df/tbl/data.frame)\n",
            " $ prefecture      : chr [1:4718] \"01\" \"01\" \"01\" \"01\" ...\n",
            " $ date            : Date[1:4718], format: \"2021-07-19\" \"2021-07-18\" ...\n",
            " $ status1         : int [1:4718] 4402 12415 14840 15581 17893 21424 21273 21418 18172 25728 ...\n",
            " $ status2         : int [1:4718] 11844 15086 16671 16439 17980 20069 21916 22393 19474 16211 ...\n",
            " $ status_all      : int [1:4718] 16246 27501 31511 32020 35873 41493 43189 43811 37646 41939 ...\n",
            " $ total_status1   : int [1:4718] 1522860 1518458 1506043 1491203 1475622 1457729 1436305 1415032 1393614 1375442 ...\n",
            " $ total_status2   : int [1:4718] 871660 859816 844730 828059 811620 793640 773571 751655 729262 709788 ...\n",
            " $ total_status_all: int [1:4718] 2394520 2378274 2350773 2319262 2287242 2251369 2209876 2166687 2122876 2085230 ...\n",
            " $ cum_vaccinations: int [1:4718] 2378274 2350773 2319262 2287242 2251369 2209876 2166687 2122876 2085230 2043291 ...\n"
          ],
          "name": "stdout"
        }
      ]
    },
    {
      "cell_type": "markdown",
      "metadata": {
        "id": "dQacc8Awy08f"
      },
      "source": [
        "## 5.データの橋渡し"
      ]
    },
    {
      "cell_type": "markdown",
      "metadata": {
        "id": "o6M6fyrGy2sD"
      },
      "source": [
        "### 5.1. 何が足りない\n",
        "\n",
        "冒頭1.2.の「気になる点」で触れた通り、\n",
        "ワクチン接種と感染状況のデータの作りは、似ているようで違っています。関係を見るためには、両方のデータを、同じ日付・同じ都道府県、でドッキングさせたい。となると、都道府県コードと都道府県名との対照表が必要になります。\n",
        "\n",
        "01と北海道は同じもの、02と青森または青森県も同じもの……と、重ならず抜け漏れもなく対応させるためです。"
      ]
    },
    {
      "cell_type": "markdown",
      "metadata": {
        "id": "28K0aXhWzDVN"
      },
      "source": [
        "### 5.2. ネ申（ねもうす）Excel問題\n",
        "\n",
        "仕様のところに、JIS規格へのリンクも張ってあるのですが、ご覧になった方はいるでしょうか？　印刷したときに紙1枚に納まるよう、人間にやさしく作ってありました。が、PCに処理させるには不向きです。\n",
        "参考になる、三重大・奥村先生の資料は[こちら](https://oku.edu.mie-u.ac.jp/~okumura/SSS2013slide.pdf)。山本さんの資料にも、参考になるリンクが紹介されていました。\n",
        "\n",
        "仕方がないので、Rで扱いやすいよう、都道府県コードだけで1カラム、県名だけで1カラム、になったデータを手元で作りました（表計算ソフトで作ったあと、読み込ませたもの）。\n",
        "\n",
        "あと、生数字ではなく、人口比で見るようにしたいので、2021年時点の推計人口（単位・千人）のデータも用意しました。出所は[こちら](https://www.stat.go.jp/data/nihon/zuhyou/n210200300.xlsx)。\n",
        "\n",
        "<font color = \"gray\">\n",
        "※山本さんがお使いのデータと違い、65歳で分けていません。悪しからず。\n",
        "</font>\n",
        "\n",
        "都道府県名から「都府県」を外して短くしたものと、複数の県を地方別にまとめたグループ（異論があるかもしれませんが、お許しを）も作っています。Flourishで可視化する際に見やすくしたかったからです。"
      ]
    },
    {
      "cell_type": "code",
      "metadata": {
        "colab": {
          "base_uri": "https://localhost:8080/",
          "height": 685
        },
        "id": "p_z5horczCbs",
        "outputId": "162d3fdd-8c1d-4a6e-b40c-3071b30a97c3"
      },
      "source": [
        "# 都道府県コードと人口データ、ネ申状態でない、よいものが見つからなかった。\n",
        "# JIS X 0401を整形したものと、\"https://www.soumu.go.jp/main_content/000701580.xls\"の人口データで作った。\n",
        "# コード順の都道府県名（末尾に都道府県をつけずに短くした形）＋全国。\n",
        "levels_prefecture_short <- c(\n",
        "  \"北海道\", \"青森\",   \"岩手\",   \"宮城\",   \"秋田\",   \"山形\",  \n",
        "  \"福島\",   \"茨城\",   \"栃木\",   \"群馬\",   \"埼玉\",   \"千葉\",  \n",
        "  \"東京\",   \"神奈川\", \"新潟\",   \"富山\",   \"石川\",   \"福井\",  \n",
        "  \"山梨\",   \"長野\",   \"岐阜\",   \"静岡\",   \"愛知\",   \"三重\",  \n",
        "  \"滋賀\",   \"京都\",   \"大阪\",   \"兵庫\",   \"奈良\",   \"和歌山\",\n",
        "  \"鳥取\",   \"島根\",   \"岡山\",   \"広島\",   \"山口\",   \"徳島\",  \n",
        "  \"香川\",   \"愛媛\",   \"高知\",   \"福岡\",   \"佐賀\",   \"長崎\",  \n",
        "  \"熊本\",   \"大分\",   \"宮崎\",   \"鹿児島\", \"沖縄\",   \"全国\" \n",
        ")\n",
        "\n",
        "# 2020年1月1日時点の都道府県別人口。出典は上記。\n",
        "population_2020 <- c(\n",
        "   5267762, 1275783, 1235517, 2292385,  985416, 1082296,\n",
        "   1881981, 2921436, 1965516, 1969439, 7390054, 6319772,\n",
        "  13834925, 9209442, 2236042, 1055999, 1139612,  780053,\n",
        "    826579, 2087307, 2032490, 3708556, 7575530, 1813859,\n",
        "   1420948, 2545899, 8849635, 5549568, 1353837,  954258,\n",
        "    561175,  679324, 1903627, 2826858, 1369882,  742505,\n",
        "    981280, 1369131,  709230, 5129841, 823810,  1350769,\n",
        "   1769880, 1151229, 1095903, 1630146, 1481547, 127138033\n",
        ")\n",
        "\n",
        "# 都道府県コードを作る。頭に0がつく文字列型。\n",
        "JISX0401 <- 1:47 %>%\n",
        "    str_pad(2, pad = 0)\n",
        "JISX0401[48] <- \"TOTAL/AVE\"\n",
        "\n",
        "# 都・府・県がついていないと、突合に困りそうなので、それも作る。\n",
        "levels_prefecture <- levels_prefecture_short[1:48] %>% \n",
        "    paste0(\"県\")\n",
        "levels_prefecture[ 1] <- \"北海道\"\n",
        "levels_prefecture[13] <- \"東京都\"\n",
        "levels_prefecture[26] <- \"京都府\"\n",
        "levels_prefecture[27] <- \"大阪府\"\n",
        "levels_prefecture[48] <- \"全国\"\n",
        "\n",
        "# この４つをまとめてtibbleにする。\n",
        "pref_pop <- tibble(\n",
        "    code                = JISX0401, \n",
        "    prefecture          = levels_prefecture,\n",
        "    prefecture_short    = levels_prefecture_short,\n",
        "    population          = population_2020\n",
        ")\n",
        "\n",
        "# 辞書順ではなく、出現順通りのfactor にしてみた。\n",
        "columns_to_integer <- 'population'\n",
        "columns_to_factor2 <- c('code', 'prefecture', 'prefecture_short')\n",
        "pref_pop <- pref_pop %>% \n",
        "    mutate(\n",
        "        across(all_of(columns_to_integer), as.integer),\n",
        "        across(all_of(columns_to_factor2), fct_inorder)\n",
        "    )\n",
        "\n",
        "# 地方別にくくれるようにする。中点があるものは、エラーしないようにバックティックで囲む。\n",
        "pref_pop <- pref_pop %>% \n",
        "    mutate(block = prefecture_short)\n",
        "pref_pop <- pref_pop %>% \n",
        "    mutate(block = fct_collapse(block,\n",
        "  `北海道・東北` = c(\"北海道\", \"青森\",   \"岩手\",   \"宮城\",   \"秋田\",   \"山形\",   \"福島\"),\n",
        "  関東           = c(\"茨城\",   \"栃木\",   \"群馬\",   \"埼玉\",   \"千葉\",   \"東京\",   \"神奈川\"),\n",
        "  `甲信越・北陸` = c(\"新潟\",   \"富山\",   \"石川\",   \"福井\",   \"山梨\",   \"長野\"),\n",
        "  東海           = c(\"岐阜\",   \"静岡\",   \"愛知\",   \"三重\"),  \n",
        "  近畿           = c(\"滋賀\",   \"京都\",   \"大阪\",   \"兵庫\",   \"奈良\",   \"和歌山\"),\n",
        "  中国           = c(\"鳥取\",   \"島根\",   \"岡山\",   \"広島\",   \"山口\"),\n",
        "  四国           = c(\"徳島\",   \"香川\",   \"愛媛\",   \"高知\"),\n",
        "  `九州・沖縄`   = c(\"福岡\",   \"佐賀\",   \"長崎\",   \"熊本\",   \"大分\",   \"宮崎\",   \"鹿児島\", \"沖縄\"),\n",
        "  全国           = \"全国\" \n",
        "    )\n",
        ")\n",
        "\n",
        "head(pref_pop)\n",
        "summary(pref_pop)\n",
        "str(pref_pop)"
      ],
      "execution_count": null,
      "outputs": [
        {
          "output_type": "display_data",
          "data": {
            "text/plain": [
              "  code prefecture prefecture_short population block       \n",
              "1 01   北海道     北海道           5267762    北海道・東北\n",
              "2 02   青森県     青森             1275783    北海道・東北\n",
              "3 03   岩手県     岩手             1235517    北海道・東北\n",
              "4 04   宮城県     宮城             2292385    北海道・東北\n",
              "5 05   秋田県     秋田              985416    北海道・東北\n",
              "6 06   山形県     山形             1082296    北海道・東北"
            ],
            "text/latex": "A tibble: 6 × 5\n\\begin{tabular}{lllll}\n code & prefecture & prefecture\\_short & population & block\\\\\n <fct> & <fct> & <fct> & <int> & <fct>\\\\\n\\hline\n\t 01 & 北海道 & 北海道 & 5267762 & 北海道・東北\\\\\n\t 02 & 青森県 & 青森   & 1275783 & 北海道・東北\\\\\n\t 03 & 岩手県 & 岩手   & 1235517 & 北海道・東北\\\\\n\t 04 & 宮城県 & 宮城   & 2292385 & 北海道・東北\\\\\n\t 05 & 秋田県 & 秋田   &  985416 & 北海道・東北\\\\\n\t 06 & 山形県 & 山形   & 1082296 & 北海道・東北\\\\\n\\end{tabular}\n",
            "text/markdown": "\nA tibble: 6 × 5\n\n| code &lt;fct&gt; | prefecture &lt;fct&gt; | prefecture_short &lt;fct&gt; | population &lt;int&gt; | block &lt;fct&gt; |\n|---|---|---|---|---|\n| 01 | 北海道 | 北海道 | 5267762 | 北海道・東北 |\n| 02 | 青森県 | 青森   | 1275783 | 北海道・東北 |\n| 03 | 岩手県 | 岩手   | 1235517 | 北海道・東北 |\n| 04 | 宮城県 | 宮城   | 2292385 | 北海道・東北 |\n| 05 | 秋田県 | 秋田   |  985416 | 北海道・東北 |\n| 06 | 山形県 | 山形   | 1082296 | 北海道・東北 |\n\n",
            "text/html": [
              "<table class=\"dataframe\">\n",
              "<caption>A tibble: 6 × 5</caption>\n",
              "<thead>\n",
              "\t<tr><th scope=col>code</th><th scope=col>prefecture</th><th scope=col>prefecture_short</th><th scope=col>population</th><th scope=col>block</th></tr>\n",
              "\t<tr><th scope=col>&lt;fct&gt;</th><th scope=col>&lt;fct&gt;</th><th scope=col>&lt;fct&gt;</th><th scope=col>&lt;int&gt;</th><th scope=col>&lt;fct&gt;</th></tr>\n",
              "</thead>\n",
              "<tbody>\n",
              "\t<tr><td>01</td><td>北海道</td><td>北海道</td><td>5267762</td><td>北海道・東北</td></tr>\n",
              "\t<tr><td>02</td><td>青森県</td><td>青森  </td><td>1275783</td><td>北海道・東北</td></tr>\n",
              "\t<tr><td>03</td><td>岩手県</td><td>岩手  </td><td>1235517</td><td>北海道・東北</td></tr>\n",
              "\t<tr><td>04</td><td>宮城県</td><td>宮城  </td><td>2292385</td><td>北海道・東北</td></tr>\n",
              "\t<tr><td>05</td><td>秋田県</td><td>秋田  </td><td> 985416</td><td>北海道・東北</td></tr>\n",
              "\t<tr><td>06</td><td>山形県</td><td>山形  </td><td>1082296</td><td>北海道・東北</td></tr>\n",
              "</tbody>\n",
              "</table>\n"
            ]
          },
          "metadata": {
            "tags": []
          }
        },
        {
          "output_type": "display_data",
          "data": {
            "text/plain": [
              "      code      prefecture prefecture_short   population       \n",
              " 01     : 1   北海道 : 1   北海道 : 1       Min.   :   561175  \n",
              " 02     : 1   青森県 : 1   青森   : 1       1st Qu.:  1092501  \n",
              " 03     : 1   岩手県 : 1   岩手   : 1       Median :  1700013  \n",
              " 04     : 1   宮城県 : 1   宮城   : 1       Mean   :  5297418  \n",
              " 05     : 1   秋田県 : 1   秋田   : 1       3rd Qu.:  2850502  \n",
              " 06     : 1   山形県 : 1   山形   : 1       Max.   :127138033  \n",
              " (Other):42   (Other):42   (Other):42                          \n",
              "          block  \n",
              " 九州・沖縄  :8  \n",
              " 北海道・東北:7  \n",
              " 関東        :7  \n",
              " 甲信越・北陸:6  \n",
              " 近畿        :6  \n",
              " 中国        :5  \n",
              " (Other)     :9  "
            ]
          },
          "metadata": {
            "tags": []
          }
        },
        {
          "output_type": "stream",
          "text": [
            "tibble [48 × 5] (S3: tbl_df/tbl/data.frame)\n",
            " $ code            : Factor w/ 48 levels \"01\",\"02\",\"03\",..: 1 2 3 4 5 6 7 8 9 10 ...\n",
            " $ prefecture      : Factor w/ 48 levels \"北海道\",\"青森県\",..: 1 2 3 4 5 6 7 8 9 10 ...\n",
            " $ prefecture_short: Factor w/ 48 levels \"北海道\",\"青森\",..: 1 2 3 4 5 6 7 8 9 10 ...\n",
            " $ population      : int [1:48] 5267762 1275783 1235517 2292385 985416 1082296 1881981 2921436 1965516 1969439 ...\n",
            " $ block           : Factor w/ 9 levels \"北海道・東北\",..: 1 1 1 1 1 1 1 2 2 2 ...\n"
          ],
          "name": "stdout"
        }
      ]
    },
    {
      "cell_type": "markdown",
      "metadata": {
        "id": "7HTcZJap0tKW"
      },
      "source": [
        "## 6.感染状況"
      ]
    },
    {
      "cell_type": "markdown",
      "metadata": {
        "id": "MB6ImCTC0vjD"
      },
      "source": [
        "### 6.1. データを読み込む\n",
        "\n",
        "感染状況のデータを読み込みます。都道府県ごとに取ってくることもできます。いまは、全国分をまとめて取ってきましょう。\n",
        "\n",
        "なお、JSON形式ではありますが、接種状況とは違い、改行区切りにはなっていないので、NDJSON形式ではありません。圧縮もかかっていません。\n",
        "\n",
        "なので、先ほどとは、読み込みの仕方がちょっと違います。"
      ]
    },
    {
      "cell_type": "code",
      "metadata": {
        "colab": {
          "base_uri": "https://localhost:8080/",
          "height": 485
        },
        "id": "PMYZxvY71BcK",
        "outputId": "49f860d1-c968-4335-961f-e588f3f573a2"
      },
      "source": [
        "# 内閣官房のページにある、都道府県別の感染者数データ。\n",
        "# ダウンロードの仕方はちょっと異なる。\n",
        "target_url_opendata <- \"https://opendata.corona.go.jp/api/Covid19JapanAll\"\n",
        "ndjson::validate(target_url_opendata, verbose = TRUE)\n",
        "opendata_json <- jsonlite::fromJSON(target_url_opendata)\n",
        "# エラーは出ていないようだ。必要な部分だけを取り出す。\n",
        "str(opendata_json)\n",
        "cum_patients <- opendata_json[[\"itemList\"]] %>%\n",
        "# data.frameなのでtibbleに変換する。\n",
        "    as_tibble()\n",
        "head(cum_patients)\n",
        "# 不要になった元データは消す。\n",
        "rm(opendata_json)"
      ],
      "execution_count": null,
      "outputs": [
        {
          "output_type": "stream",
          "text": [
            "File: https://opendata.corona.go.jp/api/Covid19JapanAll\n"
          ],
          "name": "stdout"
        },
        {
          "output_type": "display_data",
          "data": {
            "text/plain": [
              "[1] TRUE"
            ],
            "text/latex": "TRUE",
            "text/markdown": "TRUE",
            "text/html": [
              "TRUE"
            ]
          },
          "metadata": {
            "tags": []
          }
        },
        {
          "output_type": "stream",
          "text": [
            "List of 2\n",
            " $ errorInfo:List of 3\n",
            "  ..$ errorFlag   : chr \"0\"\n",
            "  ..$ errorCode   : NULL\n",
            "  ..$ errorMessage: NULL\n",
            " $ itemList :'data.frame':\t21291 obs. of  3 variables:\n",
            "  ..$ date     : chr [1:21291] \"2021-07-18\" \"2021-07-18\" \"2021-07-18\" \"2021-07-18\" ...\n",
            "  ..$ name_jp  : chr [1:21291] \"北海道\" \"青森県\" \"岩手県\" \"宮城県\" ...\n",
            "  ..$ npatients: chr [1:21291] \"42386\" \"2579\" \"1855\" \"9549\" ...\n"
          ],
          "name": "stdout"
        },
        {
          "output_type": "display_data",
          "data": {
            "text/plain": [
              "  date       name_jp npatients\n",
              "1 2021-07-18 北海道  42386    \n",
              "2 2021-07-18 青森県  2579     \n",
              "3 2021-07-18 岩手県  1855     \n",
              "4 2021-07-18 宮城県  9549     \n",
              "5 2021-07-18 秋田県  974      \n",
              "6 2021-07-18 山形県  2084     "
            ],
            "text/latex": "A tibble: 6 × 3\n\\begin{tabular}{lll}\n date & name\\_jp & npatients\\\\\n <chr> & <chr> & <chr>\\\\\n\\hline\n\t 2021-07-18 & 北海道 & 42386\\\\\n\t 2021-07-18 & 青森県 & 2579 \\\\\n\t 2021-07-18 & 岩手県 & 1855 \\\\\n\t 2021-07-18 & 宮城県 & 9549 \\\\\n\t 2021-07-18 & 秋田県 & 974  \\\\\n\t 2021-07-18 & 山形県 & 2084 \\\\\n\\end{tabular}\n",
            "text/markdown": "\nA tibble: 6 × 3\n\n| date &lt;chr&gt; | name_jp &lt;chr&gt; | npatients &lt;chr&gt; |\n|---|---|---|\n| 2021-07-18 | 北海道 | 42386 |\n| 2021-07-18 | 青森県 | 2579  |\n| 2021-07-18 | 岩手県 | 1855  |\n| 2021-07-18 | 宮城県 | 9549  |\n| 2021-07-18 | 秋田県 | 974   |\n| 2021-07-18 | 山形県 | 2084  |\n\n",
            "text/html": [
              "<table class=\"dataframe\">\n",
              "<caption>A tibble: 6 × 3</caption>\n",
              "<thead>\n",
              "\t<tr><th scope=col>date</th><th scope=col>name_jp</th><th scope=col>npatients</th></tr>\n",
              "\t<tr><th scope=col>&lt;chr&gt;</th><th scope=col>&lt;chr&gt;</th><th scope=col>&lt;chr&gt;</th></tr>\n",
              "</thead>\n",
              "<tbody>\n",
              "\t<tr><td>2021-07-18</td><td>北海道</td><td>42386</td></tr>\n",
              "\t<tr><td>2021-07-18</td><td>青森県</td><td>2579 </td></tr>\n",
              "\t<tr><td>2021-07-18</td><td>岩手県</td><td>1855 </td></tr>\n",
              "\t<tr><td>2021-07-18</td><td>宮城県</td><td>9549 </td></tr>\n",
              "\t<tr><td>2021-07-18</td><td>秋田県</td><td>974  </td></tr>\n",
              "\t<tr><td>2021-07-18</td><td>山形県</td><td>2084 </td></tr>\n",
              "</tbody>\n",
              "</table>\n"
            ]
          },
          "metadata": {
            "tags": []
          }
        }
      ]
    },
    {
      "cell_type": "markdown",
      "metadata": {
        "id": "cocqMQoA11LS"
      },
      "source": [
        "感染者数は接種件数とは違って、全国計のデータが別に用意されています。単純に各県の合算とはいかないからでしょう。\n"
      ]
    },
    {
      "cell_type": "code",
      "metadata": {
        "id": "HkVu11ng1e32",
        "colab": {
          "base_uri": "https://localhost:8080/",
          "height": 394
        },
        "outputId": "c4e70e92-afce-4c8f-d891-8fa7a96d4323"
      },
      "source": [
        "# 同じく内閣官房のページにある、全国計の感染者数データ。\n",
        "# 手元で計算してみると、上で読み込んだ各都道府県の合算より多い。\n",
        "target_url_opendata_jpn <-\n",
        "    \"https://data.corona.go.jp/converted-json/covid19japan-npatients.json\"\n",
        "ndjson::validate(target_url_opendata_jpn, verbose = TRUE)\n",
        "opendata_jpn <- jsonlite::fromJSON(target_url_opendata_jpn)\n",
        "# データの仕様がよく分からない。もったいない。\n",
        "# サイトのグラフと見比べると、新規感染者数はadpatientsカラムの数字のようだ。\n",
        "str(opendata_jpn)\n",
        "cum_patients_jpn <- opendata_jpn %>% \n",
        "    transmute(\n",
        "        date         = date %>% parse_date(),\n",
        "        prefecture   = levels_prefecture[48],\n",
        "        npatients    = npatients %>% as.integer(),\n",
        "        \"new_patients\" = adpatients %>% as.integer()\n",
        "# tibbleにする。\n",
        "    ) %>% as_tibble()\n",
        "head(cum_patients_jpn)\n",
        "\n",
        "# 不要になった元データは消す。\n",
        "rm(opendata_jpn)"
      ],
      "execution_count": null,
      "outputs": [
        {
          "output_type": "stream",
          "text": [
            "File: https://data.corona.go.jp/converted-json/covid19japan-npatients.json\n"
          ],
          "name": "stdout"
        },
        {
          "output_type": "display_data",
          "data": {
            "text/plain": [
              "[1] TRUE"
            ],
            "text/latex": "TRUE",
            "text/markdown": "TRUE",
            "text/html": [
              "TRUE"
            ]
          },
          "metadata": {
            "tags": []
          }
        },
        {
          "output_type": "stream",
          "text": [
            "'data.frame':\t455 obs. of  3 variables:\n",
            " $ date      : chr  \"2020-04-21\" \"2020-04-22\" \"2020-04-23\" \"2020-04-24\" ...\n",
            " $ npatients : int  11350 11772 12240 12681 13031 13232 13422 13695 13929 14120 ...\n",
            " $ adpatients: int  370 420 434 423 346 199 183 272 214 187 ...\n"
          ],
          "name": "stdout"
        },
        {
          "output_type": "display_data",
          "data": {
            "text/plain": [
              "  date       prefecture npatients new_patients\n",
              "1 2020-04-21 全国       11350     370         \n",
              "2 2020-04-22 全国       11772     420         \n",
              "3 2020-04-23 全国       12240     434         \n",
              "4 2020-04-24 全国       12681     423         \n",
              "5 2020-04-25 全国       13031     346         \n",
              "6 2020-04-26 全国       13232     199         "
            ],
            "text/latex": "A tibble: 6 × 4\n\\begin{tabular}{llll}\n date & prefecture & npatients & new\\_patients\\\\\n <date> & <chr> & <int> & <int>\\\\\n\\hline\n\t 2020-04-21 & 全国 & 11350 & 370\\\\\n\t 2020-04-22 & 全国 & 11772 & 420\\\\\n\t 2020-04-23 & 全国 & 12240 & 434\\\\\n\t 2020-04-24 & 全国 & 12681 & 423\\\\\n\t 2020-04-25 & 全国 & 13031 & 346\\\\\n\t 2020-04-26 & 全国 & 13232 & 199\\\\\n\\end{tabular}\n",
            "text/markdown": "\nA tibble: 6 × 4\n\n| date &lt;date&gt; | prefecture &lt;chr&gt; | npatients &lt;int&gt; | new_patients &lt;int&gt; |\n|---|---|---|---|\n| 2020-04-21 | 全国 | 11350 | 370 |\n| 2020-04-22 | 全国 | 11772 | 420 |\n| 2020-04-23 | 全国 | 12240 | 434 |\n| 2020-04-24 | 全国 | 12681 | 423 |\n| 2020-04-25 | 全国 | 13031 | 346 |\n| 2020-04-26 | 全国 | 13232 | 199 |\n\n",
            "text/html": [
              "<table class=\"dataframe\">\n",
              "<caption>A tibble: 6 × 4</caption>\n",
              "<thead>\n",
              "\t<tr><th scope=col>date</th><th scope=col>prefecture</th><th scope=col>npatients</th><th scope=col>new_patients</th></tr>\n",
              "\t<tr><th scope=col>&lt;date&gt;</th><th scope=col>&lt;chr&gt;</th><th scope=col>&lt;int&gt;</th><th scope=col>&lt;int&gt;</th></tr>\n",
              "</thead>\n",
              "<tbody>\n",
              "\t<tr><td>2020-04-21</td><td>全国</td><td>11350</td><td>370</td></tr>\n",
              "\t<tr><td>2020-04-22</td><td>全国</td><td>11772</td><td>420</td></tr>\n",
              "\t<tr><td>2020-04-23</td><td>全国</td><td>12240</td><td>434</td></tr>\n",
              "\t<tr><td>2020-04-24</td><td>全国</td><td>12681</td><td>423</td></tr>\n",
              "\t<tr><td>2020-04-25</td><td>全国</td><td>13031</td><td>346</td></tr>\n",
              "\t<tr><td>2020-04-26</td><td>全国</td><td>13232</td><td>199</td></tr>\n",
              "</tbody>\n",
              "</table>\n"
            ]
          },
          "metadata": {
            "tags": []
          }
        }
      ]
    },
    {
      "cell_type": "markdown",
      "metadata": {
        "id": "cLxmGcHE2YoE"
      },
      "source": [
        "### 6.2. 型を変換する\n",
        "\n",
        "3カラムとも文字列型なので、日付・カテゴリー・整数、にそれぞれ変換します。\n",
        "\n",
        "全国分のほうは、dateカラムは正しく日付型に、感染者数は両カラムとも整数型になっています。"
      ]
    },
    {
      "cell_type": "code",
      "metadata": {
        "id": "4aj-qZQO2w3a",
        "colab": {
          "base_uri": "https://localhost:8080/",
          "height": 485
        },
        "outputId": "a293e5df-4245-4960-ef2a-b183433483de"
      },
      "source": [
        "# 日付型と整数型に変換が必要なカラムを処理。さっきとは別の、シンプルな書き方にしてみた。\n",
        "cum_patients <- cum_patients %>% \n",
        "# transmuteはmutateの変種で、名挙げしないカラムは消してしまう。\n",
        "    transmute(\n",
        "        date        = date %>% ymd(),\n",
        "        \"prefecture\"  = name_jp,\n",
        "        npatients   = npatients %>% parse_integer()\n",
        "    )\n",
        "str(cum_patients)\n",
        "head(cum_patients)\n",
        "summary(cum_patients)"
      ],
      "execution_count": null,
      "outputs": [
        {
          "output_type": "stream",
          "text": [
            "tibble [21,291 × 3] (S3: tbl_df/tbl/data.frame)\n",
            " $ date      : Date[1:21291], format: \"2021-07-18\" \"2021-07-18\" ...\n",
            " $ prefecture: chr [1:21291] \"北海道\" \"青森県\" \"岩手県\" \"宮城県\" ...\n",
            " $ npatients : int [1:21291] 42386 2579 1855 9549 974 2084 5171 11117 7397 8143 ...\n"
          ],
          "name": "stdout"
        },
        {
          "output_type": "display_data",
          "data": {
            "text/plain": [
              "  date       prefecture npatients\n",
              "1 2021-07-18 北海道     42386    \n",
              "2 2021-07-18 青森県      2579    \n",
              "3 2021-07-18 岩手県      1855    \n",
              "4 2021-07-18 宮城県      9549    \n",
              "5 2021-07-18 秋田県       974    \n",
              "6 2021-07-18 山形県      2084    "
            ],
            "text/latex": "A tibble: 6 × 3\n\\begin{tabular}{lll}\n date & prefecture & npatients\\\\\n <date> & <chr> & <int>\\\\\n\\hline\n\t 2021-07-18 & 北海道 & 42386\\\\\n\t 2021-07-18 & 青森県 &  2579\\\\\n\t 2021-07-18 & 岩手県 &  1855\\\\\n\t 2021-07-18 & 宮城県 &  9549\\\\\n\t 2021-07-18 & 秋田県 &   974\\\\\n\t 2021-07-18 & 山形県 &  2084\\\\\n\\end{tabular}\n",
            "text/markdown": "\nA tibble: 6 × 3\n\n| date &lt;date&gt; | prefecture &lt;chr&gt; | npatients &lt;int&gt; |\n|---|---|---|\n| 2021-07-18 | 北海道 | 42386 |\n| 2021-07-18 | 青森県 |  2579 |\n| 2021-07-18 | 岩手県 |  1855 |\n| 2021-07-18 | 宮城県 |  9549 |\n| 2021-07-18 | 秋田県 |   974 |\n| 2021-07-18 | 山形県 |  2084 |\n\n",
            "text/html": [
              "<table class=\"dataframe\">\n",
              "<caption>A tibble: 6 × 3</caption>\n",
              "<thead>\n",
              "\t<tr><th scope=col>date</th><th scope=col>prefecture</th><th scope=col>npatients</th></tr>\n",
              "\t<tr><th scope=col>&lt;date&gt;</th><th scope=col>&lt;chr&gt;</th><th scope=col>&lt;int&gt;</th></tr>\n",
              "</thead>\n",
              "<tbody>\n",
              "\t<tr><td>2021-07-18</td><td>北海道</td><td>42386</td></tr>\n",
              "\t<tr><td>2021-07-18</td><td>青森県</td><td> 2579</td></tr>\n",
              "\t<tr><td>2021-07-18</td><td>岩手県</td><td> 1855</td></tr>\n",
              "\t<tr><td>2021-07-18</td><td>宮城県</td><td> 9549</td></tr>\n",
              "\t<tr><td>2021-07-18</td><td>秋田県</td><td>  974</td></tr>\n",
              "\t<tr><td>2021-07-18</td><td>山形県</td><td> 2084</td></tr>\n",
              "</tbody>\n",
              "</table>\n"
            ]
          },
          "metadata": {
            "tags": []
          }
        },
        {
          "output_type": "display_data",
          "data": {
            "text/plain": [
              "      date             prefecture          npatients     \n",
              " Min.   :2020-04-22   Length:21291       Min.   :     0  \n",
              " 1st Qu.:2020-08-13   Class :character   1st Qu.:   186  \n",
              " Median :2020-12-04   Mode  :character   Median :   897  \n",
              " Mean   :2020-12-04                      Mean   :  6005  \n",
              " 3rd Qu.:2021-03-27                      3rd Qu.:  3640  \n",
              " Max.   :2021-07-18                      Max.   :189116  "
            ]
          },
          "metadata": {
            "tags": []
          }
        }
      ]
    },
    {
      "cell_type": "markdown",
      "metadata": {
        "id": "_6nodqYM3F6E"
      },
      "source": [
        "### 6.3. 新規感染者数と移動平均を計算する\n",
        "\n",
        "感染者数は、その日までの累計です。これをもとに、その日に増えた分＝新規感染者数を計算したいのですが、どうすればよいでしょう？\n",
        "\n",
        "日付順になっているので、まず都道府県別、その中で日付順、というふうに直します。それから、npatientsのカラムの、当日の数字から、前日の数字を引き算したものを、新しいカラムを作って保存します。さらに、曜日要因を取り除くため、7日移動平均も計算します。\n",
        "\n",
        "いよいよ、松波さんの資料を参考にして下さい。\n",
        "\n",
        "7日移動平均は、前後でなく過去1週間分を計算しています。最新の日付が上に来るようにしているので、lagではなくleadを使いました。\n",
        "\n",
        "1列が1日分で、途中の抜けがないかどうか。新規感染者については、数字に変化がない場合はデータなし、という構造だったとしても動作しますが、移動平均のほうはNGです。仮に途中に抜けがある場合は、行ではなく日付（時系列データ）をちゃんと見て処理しないといけません。深入りしませんが、マイナーなパッケージを使うと解決できる場合もあります。[こちら](https://rstudio-pubs-static.s3.amazonaws.com/640203_28880d5e47b44029b9279d8e24385fba.html)を参考にして下さい。"
      ]
    },
    {
      "cell_type": "code",
      "metadata": {
        "id": "aLLSpRoP6xEN",
        "colab": {
          "base_uri": "https://localhost:8080/",
          "height": 685
        },
        "outputId": "8647a9ab-a208-418f-eaa7-d89818155616"
      },
      "source": [
        "# 都道府県別に小分けした表を対象に、新規感染者と移動平均を計算する準備。即席のファンクションを作った。\n",
        "calc_diff <- function(nested_df){\n",
        "    return(\n",
        "        nested_df %>%\n",
        "        arrange(desc(date)) %>% \n",
        "        mutate(\n",
        "            \"new_patients\" = npatients - dplyr::lead(npatients),\n",
        "            \"patients_ma7\" = roll_meanl(new_patients, 7, )\n",
        "        )\n",
        "    )\n",
        "}\n",
        "\n",
        "# 都道府県ごとにnest（下の階層に畳む）する。\n",
        "patients <- cum_patients %>%\n",
        "    nest(data_by_pref = c(date, npatients)) %>%\n",
        "# さっき作ったファンクションを、県単位で当てはめていく\n",
        "    mutate(data_by_pref = map(data_by_pref, calc_diff)) %>% \n",
        "# 計算が終わったので、nestを解除する。\n",
        "    unnest(cols = data_by_pref)\n",
        "# 不要なデータを消す。\n",
        "rm(cum_patients)\n",
        "\n",
        "# 結果を見てみる。\n",
        "head(patients)\n",
        "str(patients)\n",
        "summary(patients)"
      ],
      "execution_count": null,
      "outputs": [
        {
          "output_type": "display_data",
          "data": {
            "text/plain": [
              "  prefecture date       npatients new_patients patients_ma7\n",
              "1 北海道     2021-07-18 42386     107          79.71429    \n",
              "2 北海道     2021-07-17 42279     111          72.42857    \n",
              "3 北海道     2021-07-16 42168      73          65.71429    \n",
              "4 北海道     2021-07-15 42095      85          62.42857    \n",
              "5 北海道     2021-07-14 42010      75          59.14286    \n",
              "6 北海道     2021-07-13 41935      60          58.00000    "
            ],
            "text/latex": "A tibble: 6 × 5\n\\begin{tabular}{lllll}\n prefecture & date & npatients & new\\_patients & patients\\_ma7\\\\\n <chr> & <date> & <int> & <int> & <dbl>\\\\\n\\hline\n\t 北海道 & 2021-07-18 & 42386 & 107 & 79.71429\\\\\n\t 北海道 & 2021-07-17 & 42279 & 111 & 72.42857\\\\\n\t 北海道 & 2021-07-16 & 42168 &  73 & 65.71429\\\\\n\t 北海道 & 2021-07-15 & 42095 &  85 & 62.42857\\\\\n\t 北海道 & 2021-07-14 & 42010 &  75 & 59.14286\\\\\n\t 北海道 & 2021-07-13 & 41935 &  60 & 58.00000\\\\\n\\end{tabular}\n",
            "text/markdown": "\nA tibble: 6 × 5\n\n| prefecture &lt;chr&gt; | date &lt;date&gt; | npatients &lt;int&gt; | new_patients &lt;int&gt; | patients_ma7 &lt;dbl&gt; |\n|---|---|---|---|---|\n| 北海道 | 2021-07-18 | 42386 | 107 | 79.71429 |\n| 北海道 | 2021-07-17 | 42279 | 111 | 72.42857 |\n| 北海道 | 2021-07-16 | 42168 |  73 | 65.71429 |\n| 北海道 | 2021-07-15 | 42095 |  85 | 62.42857 |\n| 北海道 | 2021-07-14 | 42010 |  75 | 59.14286 |\n| 北海道 | 2021-07-13 | 41935 |  60 | 58.00000 |\n\n",
            "text/html": [
              "<table class=\"dataframe\">\n",
              "<caption>A tibble: 6 × 5</caption>\n",
              "<thead>\n",
              "\t<tr><th scope=col>prefecture</th><th scope=col>date</th><th scope=col>npatients</th><th scope=col>new_patients</th><th scope=col>patients_ma7</th></tr>\n",
              "\t<tr><th scope=col>&lt;chr&gt;</th><th scope=col>&lt;date&gt;</th><th scope=col>&lt;int&gt;</th><th scope=col>&lt;int&gt;</th><th scope=col>&lt;dbl&gt;</th></tr>\n",
              "</thead>\n",
              "<tbody>\n",
              "\t<tr><td>北海道</td><td>2021-07-18</td><td>42386</td><td>107</td><td>79.71429</td></tr>\n",
              "\t<tr><td>北海道</td><td>2021-07-17</td><td>42279</td><td>111</td><td>72.42857</td></tr>\n",
              "\t<tr><td>北海道</td><td>2021-07-16</td><td>42168</td><td> 73</td><td>65.71429</td></tr>\n",
              "\t<tr><td>北海道</td><td>2021-07-15</td><td>42095</td><td> 85</td><td>62.42857</td></tr>\n",
              "\t<tr><td>北海道</td><td>2021-07-14</td><td>42010</td><td> 75</td><td>59.14286</td></tr>\n",
              "\t<tr><td>北海道</td><td>2021-07-13</td><td>41935</td><td> 60</td><td>58.00000</td></tr>\n",
              "</tbody>\n",
              "</table>\n"
            ]
          },
          "metadata": {
            "tags": []
          }
        },
        {
          "output_type": "stream",
          "text": [
            "tibble [21,291 × 5] (S3: tbl_df/tbl/data.frame)\n",
            " $ prefecture  : chr [1:21291] \"北海道\" \"北海道\" \"北海道\" \"北海道\" ...\n",
            " $ date        : Date[1:21291], format: \"2021-07-18\" \"2021-07-17\" ...\n",
            " $ npatients   : int [1:21291] 42386 42279 42168 42095 42010 41935 41875 41828 41772 41708 ...\n",
            " $ new_patients: int [1:21291] 107 111 73 85 75 60 47 56 64 50 ...\n",
            " $ patients_ma7: num [1:21291] 79.7 72.4 65.7 62.4 59.1 ...\n"
          ],
          "name": "stdout"
        },
        {
          "output_type": "display_data",
          "data": {
            "text/plain": [
              "  prefecture             date              npatients       new_patients   \n",
              " Length:21291       Min.   :2020-04-22   Min.   :     0   Min.   :-989.0  \n",
              " Class :character   1st Qu.:2020-08-13   1st Qu.:   186   1st Qu.:   0.0  \n",
              " Mode  :character   Median :2020-12-04   Median :   897   Median :   5.0  \n",
              "                    Mean   :2020-12-04   Mean   :  6005   Mean   :  38.9  \n",
              "                    3rd Qu.:2021-03-27   3rd Qu.:  3640   3rd Qu.:  25.0  \n",
              "                    Max.   :2021-07-18   Max.   :189116   Max.   :2447.0  \n",
              "                                                          NA's   :47      \n",
              "  patients_ma7      \n",
              " Min.   : -94.2857  \n",
              " 1st Qu.:   0.7143  \n",
              " Median :   5.7143  \n",
              " Mean   :  38.8929  \n",
              " 3rd Qu.:  26.8571  \n",
              " Max.   :1812.7143  \n",
              " NA's   :329        "
            ]
          },
          "metadata": {
            "tags": []
          }
        }
      ]
    },
    {
      "cell_type": "markdown",
      "metadata": {
        "id": "A6ShEZEJ7Ddv"
      },
      "source": [
        "前日との差が「マイナス」になっている箇所もあります。抽出してみましょう。"
      ]
    },
    {
      "cell_type": "code",
      "metadata": {
        "id": "KFyTeTqs7OoM",
        "colab": {
          "base_uri": "https://localhost:8080/",
          "height": 1000
        },
        "outputId": "0c5dab59-c168-4525-e711-f9b2f6148d75"
      },
      "source": [
        "patients %>% filter(\n",
        "    new_patients < 0\n",
        ")"
      ],
      "execution_count": null,
      "outputs": [
        {
          "output_type": "display_data",
          "data": {
            "text/plain": [
              "   prefecture date       npatients new_patients patients_ma7\n",
              "1  福島県     2021-04-06 2654      -258          25.0000000 \n",
              "2  栃木県     2020-10-12  444        -1           0.8571429 \n",
              "3  栃木県     2020-04-25   52        -1                  NA \n",
              "4  埼玉県     2020-05-30 1003        -1           0.5714286 \n",
              "5  千葉県     2020-06-05  904        -3          -0.2857143 \n",
              "6  千葉県     2020-06-02  906        -3           0.2857143 \n",
              "7  神奈川県   2020-09-23 5452      -989         -94.2857143 \n",
              "8  神奈川県   2020-05-10 1150        -8           7.0000000 \n",
              "9  新潟県     2020-09-07  145        -1           0.2857143 \n",
              "10 富山県     2021-03-29  933        -1           1.7142857 \n",
              "11 富山県     2020-10-19  422        -1           0.0000000 \n",
              "12 富山県     2020-09-10  407        -2           1.0000000 \n",
              "13 富山県     2020-05-09  216        -6           1.0000000 \n",
              "14 富山県     2020-05-01  201        -1           5.4285714 \n",
              "15 長野県     2020-04-25   66        -1                  NA \n",
              "16 岐阜県     2020-07-08  160        -3           0.4285714 \n",
              "17 静岡県     2020-06-05   75        -1          -0.1428571 \n",
              "18 愛知県     2020-05-09  491        -7           0.0000000 \n",
              "19 三重県     2021-02-25 2501       -73           8.7142857 \n",
              "20 滋賀県     2020-05-09   97        -1           0.1428571 \n",
              "21 京都府     2020-05-09  347        -1           2.7142857 \n",
              "22 兵庫県     2020-05-19  699        -1           0.7142857 \n",
              "23 鳥取県     2020-10-21   35        -1          -0.1428571 \n",
              "24 島根県     2020-12-31  207        -1           2.5714286 \n",
              "25 広島県     2020-10-13  641        -1           5.1428571 \n",
              "26 広島県     2020-06-02  167        -1           0.0000000 \n",
              "27 山口県     2020-10-01  201        -1           0.8571429 \n",
              "28 佐賀県     2021-03-15 1142        -1           6.8571429 \n",
              "29 佐賀県     2020-09-20  244        -1           0.0000000 \n",
              "30 鹿児島県   2021-02-08 1665        -4           4.7142857 \n",
              "31 鹿児島県   2020-05-14   10        -1           0.0000000 "
            ],
            "text/latex": "A tibble: 31 × 5\n\\begin{tabular}{lllll}\n prefecture & date & npatients & new\\_patients & patients\\_ma7\\\\\n <chr> & <date> & <int> & <int> & <dbl>\\\\\n\\hline\n\t 福島県   & 2021-04-06 & 2654 & -258 &  25.0000000\\\\\n\t 栃木県   & 2020-10-12 &  444 &   -1 &   0.8571429\\\\\n\t 栃木県   & 2020-04-25 &   52 &   -1 &          NA\\\\\n\t 埼玉県   & 2020-05-30 & 1003 &   -1 &   0.5714286\\\\\n\t 千葉県   & 2020-06-05 &  904 &   -3 &  -0.2857143\\\\\n\t 千葉県   & 2020-06-02 &  906 &   -3 &   0.2857143\\\\\n\t 神奈川県 & 2020-09-23 & 5452 & -989 & -94.2857143\\\\\n\t 神奈川県 & 2020-05-10 & 1150 &   -8 &   7.0000000\\\\\n\t 新潟県   & 2020-09-07 &  145 &   -1 &   0.2857143\\\\\n\t 富山県   & 2021-03-29 &  933 &   -1 &   1.7142857\\\\\n\t 富山県   & 2020-10-19 &  422 &   -1 &   0.0000000\\\\\n\t 富山県   & 2020-09-10 &  407 &   -2 &   1.0000000\\\\\n\t 富山県   & 2020-05-09 &  216 &   -6 &   1.0000000\\\\\n\t 富山県   & 2020-05-01 &  201 &   -1 &   5.4285714\\\\\n\t 長野県   & 2020-04-25 &   66 &   -1 &          NA\\\\\n\t 岐阜県   & 2020-07-08 &  160 &   -3 &   0.4285714\\\\\n\t 静岡県   & 2020-06-05 &   75 &   -1 &  -0.1428571\\\\\n\t 愛知県   & 2020-05-09 &  491 &   -7 &   0.0000000\\\\\n\t 三重県   & 2021-02-25 & 2501 &  -73 &   8.7142857\\\\\n\t 滋賀県   & 2020-05-09 &   97 &   -1 &   0.1428571\\\\\n\t 京都府   & 2020-05-09 &  347 &   -1 &   2.7142857\\\\\n\t 兵庫県   & 2020-05-19 &  699 &   -1 &   0.7142857\\\\\n\t 鳥取県   & 2020-10-21 &   35 &   -1 &  -0.1428571\\\\\n\t 島根県   & 2020-12-31 &  207 &   -1 &   2.5714286\\\\\n\t 広島県   & 2020-10-13 &  641 &   -1 &   5.1428571\\\\\n\t 広島県   & 2020-06-02 &  167 &   -1 &   0.0000000\\\\\n\t 山口県   & 2020-10-01 &  201 &   -1 &   0.8571429\\\\\n\t 佐賀県   & 2021-03-15 & 1142 &   -1 &   6.8571429\\\\\n\t 佐賀県   & 2020-09-20 &  244 &   -1 &   0.0000000\\\\\n\t 鹿児島県 & 2021-02-08 & 1665 &   -4 &   4.7142857\\\\\n\t 鹿児島県 & 2020-05-14 &   10 &   -1 &   0.0000000\\\\\n\\end{tabular}\n",
            "text/markdown": "\nA tibble: 31 × 5\n\n| prefecture &lt;chr&gt; | date &lt;date&gt; | npatients &lt;int&gt; | new_patients &lt;int&gt; | patients_ma7 &lt;dbl&gt; |\n|---|---|---|---|---|\n| 福島県   | 2021-04-06 | 2654 | -258 |  25.0000000 |\n| 栃木県   | 2020-10-12 |  444 |   -1 |   0.8571429 |\n| 栃木県   | 2020-04-25 |   52 |   -1 |          NA |\n| 埼玉県   | 2020-05-30 | 1003 |   -1 |   0.5714286 |\n| 千葉県   | 2020-06-05 |  904 |   -3 |  -0.2857143 |\n| 千葉県   | 2020-06-02 |  906 |   -3 |   0.2857143 |\n| 神奈川県 | 2020-09-23 | 5452 | -989 | -94.2857143 |\n| 神奈川県 | 2020-05-10 | 1150 |   -8 |   7.0000000 |\n| 新潟県   | 2020-09-07 |  145 |   -1 |   0.2857143 |\n| 富山県   | 2021-03-29 |  933 |   -1 |   1.7142857 |\n| 富山県   | 2020-10-19 |  422 |   -1 |   0.0000000 |\n| 富山県   | 2020-09-10 |  407 |   -2 |   1.0000000 |\n| 富山県   | 2020-05-09 |  216 |   -6 |   1.0000000 |\n| 富山県   | 2020-05-01 |  201 |   -1 |   5.4285714 |\n| 長野県   | 2020-04-25 |   66 |   -1 |          NA |\n| 岐阜県   | 2020-07-08 |  160 |   -3 |   0.4285714 |\n| 静岡県   | 2020-06-05 |   75 |   -1 |  -0.1428571 |\n| 愛知県   | 2020-05-09 |  491 |   -7 |   0.0000000 |\n| 三重県   | 2021-02-25 | 2501 |  -73 |   8.7142857 |\n| 滋賀県   | 2020-05-09 |   97 |   -1 |   0.1428571 |\n| 京都府   | 2020-05-09 |  347 |   -1 |   2.7142857 |\n| 兵庫県   | 2020-05-19 |  699 |   -1 |   0.7142857 |\n| 鳥取県   | 2020-10-21 |   35 |   -1 |  -0.1428571 |\n| 島根県   | 2020-12-31 |  207 |   -1 |   2.5714286 |\n| 広島県   | 2020-10-13 |  641 |   -1 |   5.1428571 |\n| 広島県   | 2020-06-02 |  167 |   -1 |   0.0000000 |\n| 山口県   | 2020-10-01 |  201 |   -1 |   0.8571429 |\n| 佐賀県   | 2021-03-15 | 1142 |   -1 |   6.8571429 |\n| 佐賀県   | 2020-09-20 |  244 |   -1 |   0.0000000 |\n| 鹿児島県 | 2021-02-08 | 1665 |   -4 |   4.7142857 |\n| 鹿児島県 | 2020-05-14 |   10 |   -1 |   0.0000000 |\n\n",
            "text/html": [
              "<table class=\"dataframe\">\n",
              "<caption>A tibble: 31 × 5</caption>\n",
              "<thead>\n",
              "\t<tr><th scope=col>prefecture</th><th scope=col>date</th><th scope=col>npatients</th><th scope=col>new_patients</th><th scope=col>patients_ma7</th></tr>\n",
              "\t<tr><th scope=col>&lt;chr&gt;</th><th scope=col>&lt;date&gt;</th><th scope=col>&lt;int&gt;</th><th scope=col>&lt;int&gt;</th><th scope=col>&lt;dbl&gt;</th></tr>\n",
              "</thead>\n",
              "<tbody>\n",
              "\t<tr><td>福島県  </td><td>2021-04-06</td><td>2654</td><td>-258</td><td> 25.0000000</td></tr>\n",
              "\t<tr><td>栃木県  </td><td>2020-10-12</td><td> 444</td><td>  -1</td><td>  0.8571429</td></tr>\n",
              "\t<tr><td>栃木県  </td><td>2020-04-25</td><td>  52</td><td>  -1</td><td>         NA</td></tr>\n",
              "\t<tr><td>埼玉県  </td><td>2020-05-30</td><td>1003</td><td>  -1</td><td>  0.5714286</td></tr>\n",
              "\t<tr><td>千葉県  </td><td>2020-06-05</td><td> 904</td><td>  -3</td><td> -0.2857143</td></tr>\n",
              "\t<tr><td>千葉県  </td><td>2020-06-02</td><td> 906</td><td>  -3</td><td>  0.2857143</td></tr>\n",
              "\t<tr><td>神奈川県</td><td>2020-09-23</td><td>5452</td><td>-989</td><td>-94.2857143</td></tr>\n",
              "\t<tr><td>神奈川県</td><td>2020-05-10</td><td>1150</td><td>  -8</td><td>  7.0000000</td></tr>\n",
              "\t<tr><td>新潟県  </td><td>2020-09-07</td><td> 145</td><td>  -1</td><td>  0.2857143</td></tr>\n",
              "\t<tr><td>富山県  </td><td>2021-03-29</td><td> 933</td><td>  -1</td><td>  1.7142857</td></tr>\n",
              "\t<tr><td>富山県  </td><td>2020-10-19</td><td> 422</td><td>  -1</td><td>  0.0000000</td></tr>\n",
              "\t<tr><td>富山県  </td><td>2020-09-10</td><td> 407</td><td>  -2</td><td>  1.0000000</td></tr>\n",
              "\t<tr><td>富山県  </td><td>2020-05-09</td><td> 216</td><td>  -6</td><td>  1.0000000</td></tr>\n",
              "\t<tr><td>富山県  </td><td>2020-05-01</td><td> 201</td><td>  -1</td><td>  5.4285714</td></tr>\n",
              "\t<tr><td>長野県  </td><td>2020-04-25</td><td>  66</td><td>  -1</td><td>         NA</td></tr>\n",
              "\t<tr><td>岐阜県  </td><td>2020-07-08</td><td> 160</td><td>  -3</td><td>  0.4285714</td></tr>\n",
              "\t<tr><td>静岡県  </td><td>2020-06-05</td><td>  75</td><td>  -1</td><td> -0.1428571</td></tr>\n",
              "\t<tr><td>愛知県  </td><td>2020-05-09</td><td> 491</td><td>  -7</td><td>  0.0000000</td></tr>\n",
              "\t<tr><td>三重県  </td><td>2021-02-25</td><td>2501</td><td> -73</td><td>  8.7142857</td></tr>\n",
              "\t<tr><td>滋賀県  </td><td>2020-05-09</td><td>  97</td><td>  -1</td><td>  0.1428571</td></tr>\n",
              "\t<tr><td>京都府  </td><td>2020-05-09</td><td> 347</td><td>  -1</td><td>  2.7142857</td></tr>\n",
              "\t<tr><td>兵庫県  </td><td>2020-05-19</td><td> 699</td><td>  -1</td><td>  0.7142857</td></tr>\n",
              "\t<tr><td>鳥取県  </td><td>2020-10-21</td><td>  35</td><td>  -1</td><td> -0.1428571</td></tr>\n",
              "\t<tr><td>島根県  </td><td>2020-12-31</td><td> 207</td><td>  -1</td><td>  2.5714286</td></tr>\n",
              "\t<tr><td>広島県  </td><td>2020-10-13</td><td> 641</td><td>  -1</td><td>  5.1428571</td></tr>\n",
              "\t<tr><td>広島県  </td><td>2020-06-02</td><td> 167</td><td>  -1</td><td>  0.0000000</td></tr>\n",
              "\t<tr><td>山口県  </td><td>2020-10-01</td><td> 201</td><td>  -1</td><td>  0.8571429</td></tr>\n",
              "\t<tr><td>佐賀県  </td><td>2021-03-15</td><td>1142</td><td>  -1</td><td>  6.8571429</td></tr>\n",
              "\t<tr><td>佐賀県  </td><td>2020-09-20</td><td> 244</td><td>  -1</td><td>  0.0000000</td></tr>\n",
              "\t<tr><td>鹿児島県</td><td>2021-02-08</td><td>1665</td><td>  -4</td><td>  4.7142857</td></tr>\n",
              "\t<tr><td>鹿児島県</td><td>2020-05-14</td><td>  10</td><td>  -1</td><td>  0.0000000</td></tr>\n",
              "</tbody>\n",
              "</table>\n"
            ]
          },
          "metadata": {
            "tags": []
          }
        }
      ]
    },
    {
      "cell_type": "markdown",
      "metadata": {
        "id": "Vi6cYzDU8OnL"
      },
      "source": [
        "感染者数の全国分は、もともと新規のデータがあるので、差分の計算は不要（計算しても、合いません）。7日移動平均のみ計算します。\n",
        "\n",
        "その上で、各都道府県の感染者数のデータとまとめて、一つの表にします。"
      ]
    },
    {
      "cell_type": "code",
      "metadata": {
        "id": "D2fMN-yn8Wtl",
        "colab": {
          "base_uri": "https://localhost:8080/",
          "height": 663
        },
        "outputId": "965fe3d5-5998-4c47-b420-ad824a3fca8e"
      },
      "source": [
        "# 全国の感染者数については、新規は計算不要。移動平均のみ計算する。\n",
        "cum_patients_jpn <- cum_patients_jpn %>%\n",
        "    arrange(desc(date)) %>% \n",
        "    mutate(\n",
        "        \"patients_ma7\" = roll_meanl(new_patients, 7, )\n",
        "    )\n",
        "# 先ほどの各都道府県分の表と結合する。\n",
        "patients <- patients %>%\n",
        "    bind_rows(cum_patients_jpn)\n",
        "\n",
        "# 累計のカラムの名前をワクチン接種の表に合わせて直しておく。\n",
        "patients <- patients %>%\n",
        "    rename(\"sum_patients\" = npatients)\n",
        "# 辞書順ではなく、コード順に都道府県をソート可能にしたいので、カテゴリー型に。\n",
        "# parse_factorでなくfactorにしないとローカルでは（後の部分で）エラーした。\n",
        "patients$prefecture <- parse_factor(patients$prefecture, levels = levels_prefecture)\n",
        "\n",
        "# 結果を見る。\n",
        "head(patients)\n",
        "tail(patients)\n",
        "str(patients)\n",
        "\n",
        "# 不要になったデータは消す\n",
        "rm(cum_patients_jpn)"
      ],
      "execution_count": null,
      "outputs": [
        {
          "output_type": "display_data",
          "data": {
            "text/plain": [
              "  prefecture date       sum_patients new_patients patients_ma7\n",
              "1 北海道     2021-07-18 42386        107          79.71429    \n",
              "2 北海道     2021-07-17 42279        111          72.42857    \n",
              "3 北海道     2021-07-16 42168         73          65.71429    \n",
              "4 北海道     2021-07-15 42095         85          62.42857    \n",
              "5 北海道     2021-07-14 42010         75          59.14286    \n",
              "6 北海道     2021-07-13 41935         60          58.00000    "
            ],
            "text/latex": "A tibble: 6 × 5\n\\begin{tabular}{lllll}\n prefecture & date & sum\\_patients & new\\_patients & patients\\_ma7\\\\\n <fct> & <date> & <int> & <int> & <dbl>\\\\\n\\hline\n\t 北海道 & 2021-07-18 & 42386 & 107 & 79.71429\\\\\n\t 北海道 & 2021-07-17 & 42279 & 111 & 72.42857\\\\\n\t 北海道 & 2021-07-16 & 42168 &  73 & 65.71429\\\\\n\t 北海道 & 2021-07-15 & 42095 &  85 & 62.42857\\\\\n\t 北海道 & 2021-07-14 & 42010 &  75 & 59.14286\\\\\n\t 北海道 & 2021-07-13 & 41935 &  60 & 58.00000\\\\\n\\end{tabular}\n",
            "text/markdown": "\nA tibble: 6 × 5\n\n| prefecture &lt;fct&gt; | date &lt;date&gt; | sum_patients &lt;int&gt; | new_patients &lt;int&gt; | patients_ma7 &lt;dbl&gt; |\n|---|---|---|---|---|\n| 北海道 | 2021-07-18 | 42386 | 107 | 79.71429 |\n| 北海道 | 2021-07-17 | 42279 | 111 | 72.42857 |\n| 北海道 | 2021-07-16 | 42168 |  73 | 65.71429 |\n| 北海道 | 2021-07-15 | 42095 |  85 | 62.42857 |\n| 北海道 | 2021-07-14 | 42010 |  75 | 59.14286 |\n| 北海道 | 2021-07-13 | 41935 |  60 | 58.00000 |\n\n",
            "text/html": [
              "<table class=\"dataframe\">\n",
              "<caption>A tibble: 6 × 5</caption>\n",
              "<thead>\n",
              "\t<tr><th scope=col>prefecture</th><th scope=col>date</th><th scope=col>sum_patients</th><th scope=col>new_patients</th><th scope=col>patients_ma7</th></tr>\n",
              "\t<tr><th scope=col>&lt;fct&gt;</th><th scope=col>&lt;date&gt;</th><th scope=col>&lt;int&gt;</th><th scope=col>&lt;int&gt;</th><th scope=col>&lt;dbl&gt;</th></tr>\n",
              "</thead>\n",
              "<tbody>\n",
              "\t<tr><td>北海道</td><td>2021-07-18</td><td>42386</td><td>107</td><td>79.71429</td></tr>\n",
              "\t<tr><td>北海道</td><td>2021-07-17</td><td>42279</td><td>111</td><td>72.42857</td></tr>\n",
              "\t<tr><td>北海道</td><td>2021-07-16</td><td>42168</td><td> 73</td><td>65.71429</td></tr>\n",
              "\t<tr><td>北海道</td><td>2021-07-15</td><td>42095</td><td> 85</td><td>62.42857</td></tr>\n",
              "\t<tr><td>北海道</td><td>2021-07-14</td><td>42010</td><td> 75</td><td>59.14286</td></tr>\n",
              "\t<tr><td>北海道</td><td>2021-07-13</td><td>41935</td><td> 60</td><td>58.00000</td></tr>\n",
              "</tbody>\n",
              "</table>\n"
            ]
          },
          "metadata": {
            "tags": []
          }
        },
        {
          "output_type": "display_data",
          "data": {
            "text/plain": [
              "  prefecture date       sum_patients new_patients patients_ma7\n",
              "1 全国       2020-04-26 13232        199          NA          \n",
              "2 全国       2020-04-25 13031        346          NA          \n",
              "3 全国       2020-04-24 12681        423          NA          \n",
              "4 全国       2020-04-23 12240        434          NA          \n",
              "5 全国       2020-04-22 11772        420          NA          \n",
              "6 全国       2020-04-21 11350        370          NA          "
            ],
            "text/latex": "A tibble: 6 × 5\n\\begin{tabular}{lllll}\n prefecture & date & sum\\_patients & new\\_patients & patients\\_ma7\\\\\n <fct> & <date> & <int> & <int> & <dbl>\\\\\n\\hline\n\t 全国 & 2020-04-26 & 13232 & 199 & NA\\\\\n\t 全国 & 2020-04-25 & 13031 & 346 & NA\\\\\n\t 全国 & 2020-04-24 & 12681 & 423 & NA\\\\\n\t 全国 & 2020-04-23 & 12240 & 434 & NA\\\\\n\t 全国 & 2020-04-22 & 11772 & 420 & NA\\\\\n\t 全国 & 2020-04-21 & 11350 & 370 & NA\\\\\n\\end{tabular}\n",
            "text/markdown": "\nA tibble: 6 × 5\n\n| prefecture &lt;fct&gt; | date &lt;date&gt; | sum_patients &lt;int&gt; | new_patients &lt;int&gt; | patients_ma7 &lt;dbl&gt; |\n|---|---|---|---|---|\n| 全国 | 2020-04-26 | 13232 | 199 | NA |\n| 全国 | 2020-04-25 | 13031 | 346 | NA |\n| 全国 | 2020-04-24 | 12681 | 423 | NA |\n| 全国 | 2020-04-23 | 12240 | 434 | NA |\n| 全国 | 2020-04-22 | 11772 | 420 | NA |\n| 全国 | 2020-04-21 | 11350 | 370 | NA |\n\n",
            "text/html": [
              "<table class=\"dataframe\">\n",
              "<caption>A tibble: 6 × 5</caption>\n",
              "<thead>\n",
              "\t<tr><th scope=col>prefecture</th><th scope=col>date</th><th scope=col>sum_patients</th><th scope=col>new_patients</th><th scope=col>patients_ma7</th></tr>\n",
              "\t<tr><th scope=col>&lt;fct&gt;</th><th scope=col>&lt;date&gt;</th><th scope=col>&lt;int&gt;</th><th scope=col>&lt;int&gt;</th><th scope=col>&lt;dbl&gt;</th></tr>\n",
              "</thead>\n",
              "<tbody>\n",
              "\t<tr><td>全国</td><td>2020-04-26</td><td>13232</td><td>199</td><td>NA</td></tr>\n",
              "\t<tr><td>全国</td><td>2020-04-25</td><td>13031</td><td>346</td><td>NA</td></tr>\n",
              "\t<tr><td>全国</td><td>2020-04-24</td><td>12681</td><td>423</td><td>NA</td></tr>\n",
              "\t<tr><td>全国</td><td>2020-04-23</td><td>12240</td><td>434</td><td>NA</td></tr>\n",
              "\t<tr><td>全国</td><td>2020-04-22</td><td>11772</td><td>420</td><td>NA</td></tr>\n",
              "\t<tr><td>全国</td><td>2020-04-21</td><td>11350</td><td>370</td><td>NA</td></tr>\n",
              "</tbody>\n",
              "</table>\n"
            ]
          },
          "metadata": {
            "tags": []
          }
        },
        {
          "output_type": "stream",
          "text": [
            "tibble [21,746 × 5] (S3: tbl_df/tbl/data.frame)\n",
            " $ prefecture  : Factor w/ 48 levels \"北海道\",\"青森県\",..: 1 1 1 1 1 1 1 1 1 1 ...\n",
            " $ date        : Date[1:21746], format: \"2021-07-18\" \"2021-07-17\" ...\n",
            " $ sum_patients: int [1:21746] 42386 42279 42168 42095 42010 41935 41875 41828 41772 41708 ...\n",
            " $ new_patients: int [1:21746] 107 111 73 85 75 60 47 56 64 50 ...\n",
            " $ patients_ma7: num [1:21746] 79.7 72.4 65.7 62.4 59.1 ...\n"
          ],
          "name": "stdout"
        }
      ]
    },
    {
      "cell_type": "markdown",
      "metadata": {
        "id": "wMKiSLOWa7z0"
      },
      "source": [
        "## 7.接種状況と感染状況をドッキング"
      ]
    },
    {
      "cell_type": "markdown",
      "metadata": {
        "id": "trYjVLeYbOLU"
      },
      "source": [
        "### 7.1. 何をキーに使うか\n",
        "\n",
        "最初に処理したワクチン接種のデータと、後から処理した感染者数のデータを、ドッキングします。同じ都道府県どうし、同じ日付のものを間違いなく、対応させなくてはなりません。\n",
        "\n",
        "ポイントは、それぞれのデータで、一意のキーとなるものはどれか、です。それを使って、突き合わせしていきます。\n",
        "\n",
        "もう一回、vaccinationsとpatientsを見ておきましょう。"
      ]
    },
    {
      "cell_type": "code",
      "metadata": {
        "id": "bmC2ZNRWb56Z",
        "colab": {
          "base_uri": "https://localhost:8080/",
          "height": 554
        },
        "outputId": "eed102c3-baaa-4bc1-b118-4b862d6b4d02"
      },
      "source": [
        "head(vaccinations)\n",
        "tail(vaccinations)"
      ],
      "execution_count": null,
      "outputs": [
        {
          "output_type": "display_data",
          "data": {
            "text/plain": [
              "  prefecture date       status1 status2 status_all total_status1 total_status2\n",
              "1 01         2021-07-19  4402   11844   16246      1522860       871660       \n",
              "2 01         2021-07-18 12415   15086   27501      1518458       859816       \n",
              "3 01         2021-07-17 14840   16671   31511      1506043       844730       \n",
              "4 01         2021-07-16 15581   16439   32020      1491203       828059       \n",
              "5 01         2021-07-15 17893   17980   35873      1475622       811620       \n",
              "6 01         2021-07-14 21424   20069   41493      1457729       793640       \n",
              "  total_status_all cum_vaccinations\n",
              "1 2394520          2378274         \n",
              "2 2378274          2350773         \n",
              "3 2350773          2319262         \n",
              "4 2319262          2287242         \n",
              "5 2287242          2251369         \n",
              "6 2251369          2209876         "
            ],
            "text/latex": "A tibble: 6 × 9\n\\begin{tabular}{lllllllll}\n prefecture & date & status1 & status2 & status\\_all & total\\_status1 & total\\_status2 & total\\_status\\_all & cum\\_vaccinations\\\\\n <chr> & <date> & <int> & <int> & <int> & <int> & <int> & <int> & <int>\\\\\n\\hline\n\t 01 & 2021-07-19 &  4402 & 11844 & 16246 & 1522860 & 871660 & 2394520 & 2378274\\\\\n\t 01 & 2021-07-18 & 12415 & 15086 & 27501 & 1518458 & 859816 & 2378274 & 2350773\\\\\n\t 01 & 2021-07-17 & 14840 & 16671 & 31511 & 1506043 & 844730 & 2350773 & 2319262\\\\\n\t 01 & 2021-07-16 & 15581 & 16439 & 32020 & 1491203 & 828059 & 2319262 & 2287242\\\\\n\t 01 & 2021-07-15 & 17893 & 17980 & 35873 & 1475622 & 811620 & 2287242 & 2251369\\\\\n\t 01 & 2021-07-14 & 21424 & 20069 & 41493 & 1457729 & 793640 & 2251369 & 2209876\\\\\n\\end{tabular}\n",
            "text/markdown": "\nA tibble: 6 × 9\n\n| prefecture &lt;chr&gt; | date &lt;date&gt; | status1 &lt;int&gt; | status2 &lt;int&gt; | status_all &lt;int&gt; | total_status1 &lt;int&gt; | total_status2 &lt;int&gt; | total_status_all &lt;int&gt; | cum_vaccinations &lt;int&gt; |\n|---|---|---|---|---|---|---|---|---|\n| 01 | 2021-07-19 |  4402 | 11844 | 16246 | 1522860 | 871660 | 2394520 | 2378274 |\n| 01 | 2021-07-18 | 12415 | 15086 | 27501 | 1518458 | 859816 | 2378274 | 2350773 |\n| 01 | 2021-07-17 | 14840 | 16671 | 31511 | 1506043 | 844730 | 2350773 | 2319262 |\n| 01 | 2021-07-16 | 15581 | 16439 | 32020 | 1491203 | 828059 | 2319262 | 2287242 |\n| 01 | 2021-07-15 | 17893 | 17980 | 35873 | 1475622 | 811620 | 2287242 | 2251369 |\n| 01 | 2021-07-14 | 21424 | 20069 | 41493 | 1457729 | 793640 | 2251369 | 2209876 |\n\n",
            "text/html": [
              "<table class=\"dataframe\">\n",
              "<caption>A tibble: 6 × 9</caption>\n",
              "<thead>\n",
              "\t<tr><th scope=col>prefecture</th><th scope=col>date</th><th scope=col>status1</th><th scope=col>status2</th><th scope=col>status_all</th><th scope=col>total_status1</th><th scope=col>total_status2</th><th scope=col>total_status_all</th><th scope=col>cum_vaccinations</th></tr>\n",
              "\t<tr><th scope=col>&lt;chr&gt;</th><th scope=col>&lt;date&gt;</th><th scope=col>&lt;int&gt;</th><th scope=col>&lt;int&gt;</th><th scope=col>&lt;int&gt;</th><th scope=col>&lt;int&gt;</th><th scope=col>&lt;int&gt;</th><th scope=col>&lt;int&gt;</th><th scope=col>&lt;int&gt;</th></tr>\n",
              "</thead>\n",
              "<tbody>\n",
              "\t<tr><td>01</td><td>2021-07-19</td><td> 4402</td><td>11844</td><td>16246</td><td>1522860</td><td>871660</td><td>2394520</td><td>2378274</td></tr>\n",
              "\t<tr><td>01</td><td>2021-07-18</td><td>12415</td><td>15086</td><td>27501</td><td>1518458</td><td>859816</td><td>2378274</td><td>2350773</td></tr>\n",
              "\t<tr><td>01</td><td>2021-07-17</td><td>14840</td><td>16671</td><td>31511</td><td>1506043</td><td>844730</td><td>2350773</td><td>2319262</td></tr>\n",
              "\t<tr><td>01</td><td>2021-07-16</td><td>15581</td><td>16439</td><td>32020</td><td>1491203</td><td>828059</td><td>2319262</td><td>2287242</td></tr>\n",
              "\t<tr><td>01</td><td>2021-07-15</td><td>17893</td><td>17980</td><td>35873</td><td>1475622</td><td>811620</td><td>2287242</td><td>2251369</td></tr>\n",
              "\t<tr><td>01</td><td>2021-07-14</td><td>21424</td><td>20069</td><td>41493</td><td>1457729</td><td>793640</td><td>2251369</td><td>2209876</td></tr>\n",
              "</tbody>\n",
              "</table>\n"
            ]
          },
          "metadata": {
            "tags": []
          }
        },
        {
          "output_type": "display_data",
          "data": {
            "text/plain": [
              "  prefecture date       status1 status2 status_all total_status1 total_status2\n",
              "1 TOTAL/AVE  2021-04-17  7957   0        7957      42370         0            \n",
              "2 TOTAL/AVE  2021-04-16 11144   0       11144      34413         0            \n",
              "3 TOTAL/AVE  2021-04-15  9177   0        9177      23269         0            \n",
              "4 TOTAL/AVE  2021-04-14  4944   0        4944      14092         0            \n",
              "5 TOTAL/AVE  2021-04-13  4293   0        4293       9148         0            \n",
              "6 TOTAL/AVE  2021-04-12  4855   0        4855       4855         0            \n",
              "  total_status_all cum_vaccinations\n",
              "1 42370            34413           \n",
              "2 34413            23269           \n",
              "3 23269            14092           \n",
              "4 14092             9148           \n",
              "5  9148             4855           \n",
              "6  4855                0           "
            ],
            "text/latex": "A tibble: 6 × 9\n\\begin{tabular}{lllllllll}\n prefecture & date & status1 & status2 & status\\_all & total\\_status1 & total\\_status2 & total\\_status\\_all & cum\\_vaccinations\\\\\n <chr> & <date> & <int> & <int> & <int> & <int> & <int> & <int> & <int>\\\\\n\\hline\n\t TOTAL/AVE & 2021-04-17 &  7957 & 0 &  7957 & 42370 & 0 & 42370 & 34413\\\\\n\t TOTAL/AVE & 2021-04-16 & 11144 & 0 & 11144 & 34413 & 0 & 34413 & 23269\\\\\n\t TOTAL/AVE & 2021-04-15 &  9177 & 0 &  9177 & 23269 & 0 & 23269 & 14092\\\\\n\t TOTAL/AVE & 2021-04-14 &  4944 & 0 &  4944 & 14092 & 0 & 14092 &  9148\\\\\n\t TOTAL/AVE & 2021-04-13 &  4293 & 0 &  4293 &  9148 & 0 &  9148 &  4855\\\\\n\t TOTAL/AVE & 2021-04-12 &  4855 & 0 &  4855 &  4855 & 0 &  4855 &     0\\\\\n\\end{tabular}\n",
            "text/markdown": "\nA tibble: 6 × 9\n\n| prefecture &lt;chr&gt; | date &lt;date&gt; | status1 &lt;int&gt; | status2 &lt;int&gt; | status_all &lt;int&gt; | total_status1 &lt;int&gt; | total_status2 &lt;int&gt; | total_status_all &lt;int&gt; | cum_vaccinations &lt;int&gt; |\n|---|---|---|---|---|---|---|---|---|\n| TOTAL/AVE | 2021-04-17 |  7957 | 0 |  7957 | 42370 | 0 | 42370 | 34413 |\n| TOTAL/AVE | 2021-04-16 | 11144 | 0 | 11144 | 34413 | 0 | 34413 | 23269 |\n| TOTAL/AVE | 2021-04-15 |  9177 | 0 |  9177 | 23269 | 0 | 23269 | 14092 |\n| TOTAL/AVE | 2021-04-14 |  4944 | 0 |  4944 | 14092 | 0 | 14092 |  9148 |\n| TOTAL/AVE | 2021-04-13 |  4293 | 0 |  4293 |  9148 | 0 |  9148 |  4855 |\n| TOTAL/AVE | 2021-04-12 |  4855 | 0 |  4855 |  4855 | 0 |  4855 |     0 |\n\n",
            "text/html": [
              "<table class=\"dataframe\">\n",
              "<caption>A tibble: 6 × 9</caption>\n",
              "<thead>\n",
              "\t<tr><th scope=col>prefecture</th><th scope=col>date</th><th scope=col>status1</th><th scope=col>status2</th><th scope=col>status_all</th><th scope=col>total_status1</th><th scope=col>total_status2</th><th scope=col>total_status_all</th><th scope=col>cum_vaccinations</th></tr>\n",
              "\t<tr><th scope=col>&lt;chr&gt;</th><th scope=col>&lt;date&gt;</th><th scope=col>&lt;int&gt;</th><th scope=col>&lt;int&gt;</th><th scope=col>&lt;int&gt;</th><th scope=col>&lt;int&gt;</th><th scope=col>&lt;int&gt;</th><th scope=col>&lt;int&gt;</th><th scope=col>&lt;int&gt;</th></tr>\n",
              "</thead>\n",
              "<tbody>\n",
              "\t<tr><td>TOTAL/AVE</td><td>2021-04-17</td><td> 7957</td><td>0</td><td> 7957</td><td>42370</td><td>0</td><td>42370</td><td>34413</td></tr>\n",
              "\t<tr><td>TOTAL/AVE</td><td>2021-04-16</td><td>11144</td><td>0</td><td>11144</td><td>34413</td><td>0</td><td>34413</td><td>23269</td></tr>\n",
              "\t<tr><td>TOTAL/AVE</td><td>2021-04-15</td><td> 9177</td><td>0</td><td> 9177</td><td>23269</td><td>0</td><td>23269</td><td>14092</td></tr>\n",
              "\t<tr><td>TOTAL/AVE</td><td>2021-04-14</td><td> 4944</td><td>0</td><td> 4944</td><td>14092</td><td>0</td><td>14092</td><td> 9148</td></tr>\n",
              "\t<tr><td>TOTAL/AVE</td><td>2021-04-13</td><td> 4293</td><td>0</td><td> 4293</td><td> 9148</td><td>0</td><td> 9148</td><td> 4855</td></tr>\n",
              "\t<tr><td>TOTAL/AVE</td><td>2021-04-12</td><td> 4855</td><td>0</td><td> 4855</td><td> 4855</td><td>0</td><td> 4855</td><td>    0</td></tr>\n",
              "</tbody>\n",
              "</table>\n"
            ]
          },
          "metadata": {
            "tags": []
          }
        }
      ]
    },
    {
      "cell_type": "code",
      "metadata": {
        "id": "BNvOQ4SScCMx",
        "colab": {
          "base_uri": "https://localhost:8080/",
          "height": 554
        },
        "outputId": "4bbe60fa-45c9-4cf0-afb3-232b391ce16f"
      },
      "source": [
        "head(patients)\n",
        "tail(patients)"
      ],
      "execution_count": null,
      "outputs": [
        {
          "output_type": "display_data",
          "data": {
            "text/plain": [
              "  prefecture date       sum_patients new_patients patients_ma7\n",
              "1 北海道     2021-07-18 42386        107          79.71429    \n",
              "2 北海道     2021-07-17 42279        111          72.42857    \n",
              "3 北海道     2021-07-16 42168         73          65.71429    \n",
              "4 北海道     2021-07-15 42095         85          62.42857    \n",
              "5 北海道     2021-07-14 42010         75          59.14286    \n",
              "6 北海道     2021-07-13 41935         60          58.00000    "
            ],
            "text/latex": "A tibble: 6 × 5\n\\begin{tabular}{lllll}\n prefecture & date & sum\\_patients & new\\_patients & patients\\_ma7\\\\\n <fct> & <date> & <int> & <int> & <dbl>\\\\\n\\hline\n\t 北海道 & 2021-07-18 & 42386 & 107 & 79.71429\\\\\n\t 北海道 & 2021-07-17 & 42279 & 111 & 72.42857\\\\\n\t 北海道 & 2021-07-16 & 42168 &  73 & 65.71429\\\\\n\t 北海道 & 2021-07-15 & 42095 &  85 & 62.42857\\\\\n\t 北海道 & 2021-07-14 & 42010 &  75 & 59.14286\\\\\n\t 北海道 & 2021-07-13 & 41935 &  60 & 58.00000\\\\\n\\end{tabular}\n",
            "text/markdown": "\nA tibble: 6 × 5\n\n| prefecture &lt;fct&gt; | date &lt;date&gt; | sum_patients &lt;int&gt; | new_patients &lt;int&gt; | patients_ma7 &lt;dbl&gt; |\n|---|---|---|---|---|\n| 北海道 | 2021-07-18 | 42386 | 107 | 79.71429 |\n| 北海道 | 2021-07-17 | 42279 | 111 | 72.42857 |\n| 北海道 | 2021-07-16 | 42168 |  73 | 65.71429 |\n| 北海道 | 2021-07-15 | 42095 |  85 | 62.42857 |\n| 北海道 | 2021-07-14 | 42010 |  75 | 59.14286 |\n| 北海道 | 2021-07-13 | 41935 |  60 | 58.00000 |\n\n",
            "text/html": [
              "<table class=\"dataframe\">\n",
              "<caption>A tibble: 6 × 5</caption>\n",
              "<thead>\n",
              "\t<tr><th scope=col>prefecture</th><th scope=col>date</th><th scope=col>sum_patients</th><th scope=col>new_patients</th><th scope=col>patients_ma7</th></tr>\n",
              "\t<tr><th scope=col>&lt;fct&gt;</th><th scope=col>&lt;date&gt;</th><th scope=col>&lt;int&gt;</th><th scope=col>&lt;int&gt;</th><th scope=col>&lt;dbl&gt;</th></tr>\n",
              "</thead>\n",
              "<tbody>\n",
              "\t<tr><td>北海道</td><td>2021-07-18</td><td>42386</td><td>107</td><td>79.71429</td></tr>\n",
              "\t<tr><td>北海道</td><td>2021-07-17</td><td>42279</td><td>111</td><td>72.42857</td></tr>\n",
              "\t<tr><td>北海道</td><td>2021-07-16</td><td>42168</td><td> 73</td><td>65.71429</td></tr>\n",
              "\t<tr><td>北海道</td><td>2021-07-15</td><td>42095</td><td> 85</td><td>62.42857</td></tr>\n",
              "\t<tr><td>北海道</td><td>2021-07-14</td><td>42010</td><td> 75</td><td>59.14286</td></tr>\n",
              "\t<tr><td>北海道</td><td>2021-07-13</td><td>41935</td><td> 60</td><td>58.00000</td></tr>\n",
              "</tbody>\n",
              "</table>\n"
            ]
          },
          "metadata": {
            "tags": []
          }
        },
        {
          "output_type": "display_data",
          "data": {
            "text/plain": [
              "  prefecture date       sum_patients new_patients patients_ma7\n",
              "1 全国       2020-04-26 13232        199          NA          \n",
              "2 全国       2020-04-25 13031        346          NA          \n",
              "3 全国       2020-04-24 12681        423          NA          \n",
              "4 全国       2020-04-23 12240        434          NA          \n",
              "5 全国       2020-04-22 11772        420          NA          \n",
              "6 全国       2020-04-21 11350        370          NA          "
            ],
            "text/latex": "A tibble: 6 × 5\n\\begin{tabular}{lllll}\n prefecture & date & sum\\_patients & new\\_patients & patients\\_ma7\\\\\n <fct> & <date> & <int> & <int> & <dbl>\\\\\n\\hline\n\t 全国 & 2020-04-26 & 13232 & 199 & NA\\\\\n\t 全国 & 2020-04-25 & 13031 & 346 & NA\\\\\n\t 全国 & 2020-04-24 & 12681 & 423 & NA\\\\\n\t 全国 & 2020-04-23 & 12240 & 434 & NA\\\\\n\t 全国 & 2020-04-22 & 11772 & 420 & NA\\\\\n\t 全国 & 2020-04-21 & 11350 & 370 & NA\\\\\n\\end{tabular}\n",
            "text/markdown": "\nA tibble: 6 × 5\n\n| prefecture &lt;fct&gt; | date &lt;date&gt; | sum_patients &lt;int&gt; | new_patients &lt;int&gt; | patients_ma7 &lt;dbl&gt; |\n|---|---|---|---|---|\n| 全国 | 2020-04-26 | 13232 | 199 | NA |\n| 全国 | 2020-04-25 | 13031 | 346 | NA |\n| 全国 | 2020-04-24 | 12681 | 423 | NA |\n| 全国 | 2020-04-23 | 12240 | 434 | NA |\n| 全国 | 2020-04-22 | 11772 | 420 | NA |\n| 全国 | 2020-04-21 | 11350 | 370 | NA |\n\n",
            "text/html": [
              "<table class=\"dataframe\">\n",
              "<caption>A tibble: 6 × 5</caption>\n",
              "<thead>\n",
              "\t<tr><th scope=col>prefecture</th><th scope=col>date</th><th scope=col>sum_patients</th><th scope=col>new_patients</th><th scope=col>patients_ma7</th></tr>\n",
              "\t<tr><th scope=col>&lt;fct&gt;</th><th scope=col>&lt;date&gt;</th><th scope=col>&lt;int&gt;</th><th scope=col>&lt;int&gt;</th><th scope=col>&lt;dbl&gt;</th></tr>\n",
              "</thead>\n",
              "<tbody>\n",
              "\t<tr><td>全国</td><td>2020-04-26</td><td>13232</td><td>199</td><td>NA</td></tr>\n",
              "\t<tr><td>全国</td><td>2020-04-25</td><td>13031</td><td>346</td><td>NA</td></tr>\n",
              "\t<tr><td>全国</td><td>2020-04-24</td><td>12681</td><td>423</td><td>NA</td></tr>\n",
              "\t<tr><td>全国</td><td>2020-04-23</td><td>12240</td><td>434</td><td>NA</td></tr>\n",
              "\t<tr><td>全国</td><td>2020-04-22</td><td>11772</td><td>420</td><td>NA</td></tr>\n",
              "\t<tr><td>全国</td><td>2020-04-21</td><td>11350</td><td>370</td><td>NA</td></tr>\n",
              "</tbody>\n",
              "</table>\n"
            ]
          },
          "metadata": {
            "tags": []
          }
        }
      ]
    },
    {
      "cell_type": "markdown",
      "metadata": {
        "id": "k-eSwRecc86O"
      },
      "source": [
        "「prefectureカラムとdateカラムのペア」をひとまとめにしたものが、どちらの表でも、それぞれの行に固有なキーになっていますね。これを生かして、××県の△△日のデータ、と指定すれば、狙ったものが選び出せるわけです。\n",
        "\n",
        "でも、同じprefectureカラムでも、一方は都道府県コードで、もう一方は都道府県名です。それで、対照表を用意していたのでした。なので、まずは対照表とドッキングさせます。ほかの手順も考えられますが、ここでは、両方の表を対照表とドッキングさせます。\n"
      ]
    },
    {
      "cell_type": "markdown",
      "metadata": {
        "id": "_EMabB302tsV"
      },
      "source": [
        "### 7.2. 対照表とjoinする\n",
        "\n",
        "2つのtibbleを付き合わせて結合するには、joinを使います。\n",
        "\n",
        "いくつか種類があります。突合できないデータがあったときに、残すか、捨てるか、が違います。きょうは深入りしませんので、ご自身で使う際に調べて下さい。NA値を「どれも同じもの」と見なすか否か、伝統的なデータベースとRでは、デフォルトの挙動が違ったりします。\n",
        "\n",
        "patientsには、県名のカラムprefectureがあります。これをキーにして、5.2.で作った対照表pref_popとjoinします。対照表にもprefectureカラムがあり、やはり一意のキーになっています。\n"
      ]
    },
    {
      "cell_type": "code",
      "metadata": {
        "id": "VFBMcjJ8a8Qd",
        "colab": {
          "base_uri": "https://localhost:8080/",
          "height": 554
        },
        "outputId": "547b8025-7f88-439b-d9fe-8e8c37f7fcf3"
      },
      "source": [
        "# patientsとvaccinationsを結合する。\n",
        "# そのために、この２つの表の「都道府県」の対照表を使う。\n",
        "# patientsには都道府県名のカラムがあるので、それをキーに対照表と結合。\n",
        "patients <- patients %>%\n",
        "# prefecture以外は畳む。\n",
        "    nest(data = -prefecture) %>%\n",
        "# prefectureカラムをキーにして突合する。\n",
        "    left_join(pref_pop, by = \"prefecture\") %>% \n",
        "# ネストを戻す。\n",
        "unnest(cols = data)\n",
        "\n",
        "# こうなった\n",
        "head(patients)\n",
        "tail(patients)"
      ],
      "execution_count": null,
      "outputs": [
        {
          "output_type": "display_data",
          "data": {
            "text/plain": [
              "  prefecture date       sum_patients new_patients patients_ma7 code\n",
              "1 北海道     2021-07-18 42386        107          79.71429     01  \n",
              "2 北海道     2021-07-17 42279        111          72.42857     01  \n",
              "3 北海道     2021-07-16 42168         73          65.71429     01  \n",
              "4 北海道     2021-07-15 42095         85          62.42857     01  \n",
              "5 北海道     2021-07-14 42010         75          59.14286     01  \n",
              "6 北海道     2021-07-13 41935         60          58.00000     01  \n",
              "  prefecture_short population block       \n",
              "1 北海道           5267762    北海道・東北\n",
              "2 北海道           5267762    北海道・東北\n",
              "3 北海道           5267762    北海道・東北\n",
              "4 北海道           5267762    北海道・東北\n",
              "5 北海道           5267762    北海道・東北\n",
              "6 北海道           5267762    北海道・東北"
            ],
            "text/latex": "A tibble: 6 × 9\n\\begin{tabular}{lllllllll}\n prefecture & date & sum\\_patients & new\\_patients & patients\\_ma7 & code & prefecture\\_short & population & block\\\\\n <fct> & <date> & <int> & <int> & <dbl> & <fct> & <fct> & <int> & <fct>\\\\\n\\hline\n\t 北海道 & 2021-07-18 & 42386 & 107 & 79.71429 & 01 & 北海道 & 5267762 & 北海道・東北\\\\\n\t 北海道 & 2021-07-17 & 42279 & 111 & 72.42857 & 01 & 北海道 & 5267762 & 北海道・東北\\\\\n\t 北海道 & 2021-07-16 & 42168 &  73 & 65.71429 & 01 & 北海道 & 5267762 & 北海道・東北\\\\\n\t 北海道 & 2021-07-15 & 42095 &  85 & 62.42857 & 01 & 北海道 & 5267762 & 北海道・東北\\\\\n\t 北海道 & 2021-07-14 & 42010 &  75 & 59.14286 & 01 & 北海道 & 5267762 & 北海道・東北\\\\\n\t 北海道 & 2021-07-13 & 41935 &  60 & 58.00000 & 01 & 北海道 & 5267762 & 北海道・東北\\\\\n\\end{tabular}\n",
            "text/markdown": "\nA tibble: 6 × 9\n\n| prefecture &lt;fct&gt; | date &lt;date&gt; | sum_patients &lt;int&gt; | new_patients &lt;int&gt; | patients_ma7 &lt;dbl&gt; | code &lt;fct&gt; | prefecture_short &lt;fct&gt; | population &lt;int&gt; | block &lt;fct&gt; |\n|---|---|---|---|---|---|---|---|---|\n| 北海道 | 2021-07-18 | 42386 | 107 | 79.71429 | 01 | 北海道 | 5267762 | 北海道・東北 |\n| 北海道 | 2021-07-17 | 42279 | 111 | 72.42857 | 01 | 北海道 | 5267762 | 北海道・東北 |\n| 北海道 | 2021-07-16 | 42168 |  73 | 65.71429 | 01 | 北海道 | 5267762 | 北海道・東北 |\n| 北海道 | 2021-07-15 | 42095 |  85 | 62.42857 | 01 | 北海道 | 5267762 | 北海道・東北 |\n| 北海道 | 2021-07-14 | 42010 |  75 | 59.14286 | 01 | 北海道 | 5267762 | 北海道・東北 |\n| 北海道 | 2021-07-13 | 41935 |  60 | 58.00000 | 01 | 北海道 | 5267762 | 北海道・東北 |\n\n",
            "text/html": [
              "<table class=\"dataframe\">\n",
              "<caption>A tibble: 6 × 9</caption>\n",
              "<thead>\n",
              "\t<tr><th scope=col>prefecture</th><th scope=col>date</th><th scope=col>sum_patients</th><th scope=col>new_patients</th><th scope=col>patients_ma7</th><th scope=col>code</th><th scope=col>prefecture_short</th><th scope=col>population</th><th scope=col>block</th></tr>\n",
              "\t<tr><th scope=col>&lt;fct&gt;</th><th scope=col>&lt;date&gt;</th><th scope=col>&lt;int&gt;</th><th scope=col>&lt;int&gt;</th><th scope=col>&lt;dbl&gt;</th><th scope=col>&lt;fct&gt;</th><th scope=col>&lt;fct&gt;</th><th scope=col>&lt;int&gt;</th><th scope=col>&lt;fct&gt;</th></tr>\n",
              "</thead>\n",
              "<tbody>\n",
              "\t<tr><td>北海道</td><td>2021-07-18</td><td>42386</td><td>107</td><td>79.71429</td><td>01</td><td>北海道</td><td>5267762</td><td>北海道・東北</td></tr>\n",
              "\t<tr><td>北海道</td><td>2021-07-17</td><td>42279</td><td>111</td><td>72.42857</td><td>01</td><td>北海道</td><td>5267762</td><td>北海道・東北</td></tr>\n",
              "\t<tr><td>北海道</td><td>2021-07-16</td><td>42168</td><td> 73</td><td>65.71429</td><td>01</td><td>北海道</td><td>5267762</td><td>北海道・東北</td></tr>\n",
              "\t<tr><td>北海道</td><td>2021-07-15</td><td>42095</td><td> 85</td><td>62.42857</td><td>01</td><td>北海道</td><td>5267762</td><td>北海道・東北</td></tr>\n",
              "\t<tr><td>北海道</td><td>2021-07-14</td><td>42010</td><td> 75</td><td>59.14286</td><td>01</td><td>北海道</td><td>5267762</td><td>北海道・東北</td></tr>\n",
              "\t<tr><td>北海道</td><td>2021-07-13</td><td>41935</td><td> 60</td><td>58.00000</td><td>01</td><td>北海道</td><td>5267762</td><td>北海道・東北</td></tr>\n",
              "</tbody>\n",
              "</table>\n"
            ]
          },
          "metadata": {
            "tags": []
          }
        },
        {
          "output_type": "display_data",
          "data": {
            "text/plain": [
              "  prefecture date       sum_patients new_patients patients_ma7 code     \n",
              "1 全国       2020-04-26 13232        199          NA           TOTAL/AVE\n",
              "2 全国       2020-04-25 13031        346          NA           TOTAL/AVE\n",
              "3 全国       2020-04-24 12681        423          NA           TOTAL/AVE\n",
              "4 全国       2020-04-23 12240        434          NA           TOTAL/AVE\n",
              "5 全国       2020-04-22 11772        420          NA           TOTAL/AVE\n",
              "6 全国       2020-04-21 11350        370          NA           TOTAL/AVE\n",
              "  prefecture_short population block\n",
              "1 全国             127138033  全国 \n",
              "2 全国             127138033  全国 \n",
              "3 全国             127138033  全国 \n",
              "4 全国             127138033  全国 \n",
              "5 全国             127138033  全国 \n",
              "6 全国             127138033  全国 "
            ],
            "text/latex": "A tibble: 6 × 9\n\\begin{tabular}{lllllllll}\n prefecture & date & sum\\_patients & new\\_patients & patients\\_ma7 & code & prefecture\\_short & population & block\\\\\n <fct> & <date> & <int> & <int> & <dbl> & <fct> & <fct> & <int> & <fct>\\\\\n\\hline\n\t 全国 & 2020-04-26 & 13232 & 199 & NA & TOTAL/AVE & 全国 & 127138033 & 全国\\\\\n\t 全国 & 2020-04-25 & 13031 & 346 & NA & TOTAL/AVE & 全国 & 127138033 & 全国\\\\\n\t 全国 & 2020-04-24 & 12681 & 423 & NA & TOTAL/AVE & 全国 & 127138033 & 全国\\\\\n\t 全国 & 2020-04-23 & 12240 & 434 & NA & TOTAL/AVE & 全国 & 127138033 & 全国\\\\\n\t 全国 & 2020-04-22 & 11772 & 420 & NA & TOTAL/AVE & 全国 & 127138033 & 全国\\\\\n\t 全国 & 2020-04-21 & 11350 & 370 & NA & TOTAL/AVE & 全国 & 127138033 & 全国\\\\\n\\end{tabular}\n",
            "text/markdown": "\nA tibble: 6 × 9\n\n| prefecture &lt;fct&gt; | date &lt;date&gt; | sum_patients &lt;int&gt; | new_patients &lt;int&gt; | patients_ma7 &lt;dbl&gt; | code &lt;fct&gt; | prefecture_short &lt;fct&gt; | population &lt;int&gt; | block &lt;fct&gt; |\n|---|---|---|---|---|---|---|---|---|\n| 全国 | 2020-04-26 | 13232 | 199 | NA | TOTAL/AVE | 全国 | 127138033 | 全国 |\n| 全国 | 2020-04-25 | 13031 | 346 | NA | TOTAL/AVE | 全国 | 127138033 | 全国 |\n| 全国 | 2020-04-24 | 12681 | 423 | NA | TOTAL/AVE | 全国 | 127138033 | 全国 |\n| 全国 | 2020-04-23 | 12240 | 434 | NA | TOTAL/AVE | 全国 | 127138033 | 全国 |\n| 全国 | 2020-04-22 | 11772 | 420 | NA | TOTAL/AVE | 全国 | 127138033 | 全国 |\n| 全国 | 2020-04-21 | 11350 | 370 | NA | TOTAL/AVE | 全国 | 127138033 | 全国 |\n\n",
            "text/html": [
              "<table class=\"dataframe\">\n",
              "<caption>A tibble: 6 × 9</caption>\n",
              "<thead>\n",
              "\t<tr><th scope=col>prefecture</th><th scope=col>date</th><th scope=col>sum_patients</th><th scope=col>new_patients</th><th scope=col>patients_ma7</th><th scope=col>code</th><th scope=col>prefecture_short</th><th scope=col>population</th><th scope=col>block</th></tr>\n",
              "\t<tr><th scope=col>&lt;fct&gt;</th><th scope=col>&lt;date&gt;</th><th scope=col>&lt;int&gt;</th><th scope=col>&lt;int&gt;</th><th scope=col>&lt;dbl&gt;</th><th scope=col>&lt;fct&gt;</th><th scope=col>&lt;fct&gt;</th><th scope=col>&lt;int&gt;</th><th scope=col>&lt;fct&gt;</th></tr>\n",
              "</thead>\n",
              "<tbody>\n",
              "\t<tr><td>全国</td><td>2020-04-26</td><td>13232</td><td>199</td><td>NA</td><td>TOTAL/AVE</td><td>全国</td><td>127138033</td><td>全国</td></tr>\n",
              "\t<tr><td>全国</td><td>2020-04-25</td><td>13031</td><td>346</td><td>NA</td><td>TOTAL/AVE</td><td>全国</td><td>127138033</td><td>全国</td></tr>\n",
              "\t<tr><td>全国</td><td>2020-04-24</td><td>12681</td><td>423</td><td>NA</td><td>TOTAL/AVE</td><td>全国</td><td>127138033</td><td>全国</td></tr>\n",
              "\t<tr><td>全国</td><td>2020-04-23</td><td>12240</td><td>434</td><td>NA</td><td>TOTAL/AVE</td><td>全国</td><td>127138033</td><td>全国</td></tr>\n",
              "\t<tr><td>全国</td><td>2020-04-22</td><td>11772</td><td>420</td><td>NA</td><td>TOTAL/AVE</td><td>全国</td><td>127138033</td><td>全国</td></tr>\n",
              "\t<tr><td>全国</td><td>2020-04-21</td><td>11350</td><td>370</td><td>NA</td><td>TOTAL/AVE</td><td>全国</td><td>127138033</td><td>全国</td></tr>\n",
              "</tbody>\n",
              "</table>\n"
            ]
          },
          "metadata": {
            "tags": []
          }
        }
      ]
    },
    {
      "cell_type": "markdown",
      "metadata": {
        "id": "xb4tmFHy6t5X"
      },
      "source": [
        "vaccinationsにも、prefectureというカラムはあるのですが、中身は県名ではなく、都道府県コードです。これをキーにjoinします。相手のpref_popに合わせて、カラム名はあらかじめcodeに直しておきます。pref_popのcodeカラムも、一意のキーになっています。"
      ]
    },
    {
      "cell_type": "code",
      "metadata": {
        "id": "Z1umubs2ojwt",
        "colab": {
          "base_uri": "https://localhost:8080/",
          "height": 554
        },
        "outputId": "141fbd0a-35d7-4365-d909-5d0e20034ad1"
      },
      "source": [
        "# vaccinationsはコードをキーに対照表と結合する。\n",
        "vaccinations <- vaccinations %>% \n",
        "# カラム名を揃えてからjoin。ここでカテゴリー型に直しておく。\n",
        "    mutate(\n",
        "        \"code\" = parse_factor(prefecture, levels = JISX0401)\n",
        "    ) %>%\n",
        "    select(-prefecture) %>%\n",
        "# code以外は畳む\n",
        "    nest(data = -code) %>%\n",
        "# codeカラムをキーにして突合する。\n",
        "    left_join(pref_pop, by = \"code\") %>%\n",
        "# ネストを戻す。\n",
        "    unnest(cols = data)\n",
        "\n",
        "# こうなった\n",
        "head(vaccinations)\n",
        "tail(vaccinations)"
      ],
      "execution_count": null,
      "outputs": [
        {
          "output_type": "display_data",
          "data": {
            "text/plain": [
              "  code date       status1 status2 status_all total_status1 total_status2\n",
              "1 01   2021-07-19  4402   11844   16246      1522860       871660       \n",
              "2 01   2021-07-18 12415   15086   27501      1518458       859816       \n",
              "3 01   2021-07-17 14840   16671   31511      1506043       844730       \n",
              "4 01   2021-07-16 15581   16439   32020      1491203       828059       \n",
              "5 01   2021-07-15 17893   17980   35873      1475622       811620       \n",
              "6 01   2021-07-14 21424   20069   41493      1457729       793640       \n",
              "  total_status_all cum_vaccinations prefecture prefecture_short population\n",
              "1 2394520          2378274          北海道     北海道           5267762   \n",
              "2 2378274          2350773          北海道     北海道           5267762   \n",
              "3 2350773          2319262          北海道     北海道           5267762   \n",
              "4 2319262          2287242          北海道     北海道           5267762   \n",
              "5 2287242          2251369          北海道     北海道           5267762   \n",
              "6 2251369          2209876          北海道     北海道           5267762   \n",
              "  block       \n",
              "1 北海道・東北\n",
              "2 北海道・東北\n",
              "3 北海道・東北\n",
              "4 北海道・東北\n",
              "5 北海道・東北\n",
              "6 北海道・東北"
            ],
            "text/latex": "A tibble: 6 × 13\n\\begin{tabular}{lllllllllllll}\n code & date & status1 & status2 & status\\_all & total\\_status1 & total\\_status2 & total\\_status\\_all & cum\\_vaccinations & prefecture & prefecture\\_short & population & block\\\\\n <fct> & <date> & <int> & <int> & <int> & <int> & <int> & <int> & <int> & <fct> & <fct> & <int> & <fct>\\\\\n\\hline\n\t 01 & 2021-07-19 &  4402 & 11844 & 16246 & 1522860 & 871660 & 2394520 & 2378274 & 北海道 & 北海道 & 5267762 & 北海道・東北\\\\\n\t 01 & 2021-07-18 & 12415 & 15086 & 27501 & 1518458 & 859816 & 2378274 & 2350773 & 北海道 & 北海道 & 5267762 & 北海道・東北\\\\\n\t 01 & 2021-07-17 & 14840 & 16671 & 31511 & 1506043 & 844730 & 2350773 & 2319262 & 北海道 & 北海道 & 5267762 & 北海道・東北\\\\\n\t 01 & 2021-07-16 & 15581 & 16439 & 32020 & 1491203 & 828059 & 2319262 & 2287242 & 北海道 & 北海道 & 5267762 & 北海道・東北\\\\\n\t 01 & 2021-07-15 & 17893 & 17980 & 35873 & 1475622 & 811620 & 2287242 & 2251369 & 北海道 & 北海道 & 5267762 & 北海道・東北\\\\\n\t 01 & 2021-07-14 & 21424 & 20069 & 41493 & 1457729 & 793640 & 2251369 & 2209876 & 北海道 & 北海道 & 5267762 & 北海道・東北\\\\\n\\end{tabular}\n",
            "text/markdown": "\nA tibble: 6 × 13\n\n| code &lt;fct&gt; | date &lt;date&gt; | status1 &lt;int&gt; | status2 &lt;int&gt; | status_all &lt;int&gt; | total_status1 &lt;int&gt; | total_status2 &lt;int&gt; | total_status_all &lt;int&gt; | cum_vaccinations &lt;int&gt; | prefecture &lt;fct&gt; | prefecture_short &lt;fct&gt; | population &lt;int&gt; | block &lt;fct&gt; |\n|---|---|---|---|---|---|---|---|---|---|---|---|---|\n| 01 | 2021-07-19 |  4402 | 11844 | 16246 | 1522860 | 871660 | 2394520 | 2378274 | 北海道 | 北海道 | 5267762 | 北海道・東北 |\n| 01 | 2021-07-18 | 12415 | 15086 | 27501 | 1518458 | 859816 | 2378274 | 2350773 | 北海道 | 北海道 | 5267762 | 北海道・東北 |\n| 01 | 2021-07-17 | 14840 | 16671 | 31511 | 1506043 | 844730 | 2350773 | 2319262 | 北海道 | 北海道 | 5267762 | 北海道・東北 |\n| 01 | 2021-07-16 | 15581 | 16439 | 32020 | 1491203 | 828059 | 2319262 | 2287242 | 北海道 | 北海道 | 5267762 | 北海道・東北 |\n| 01 | 2021-07-15 | 17893 | 17980 | 35873 | 1475622 | 811620 | 2287242 | 2251369 | 北海道 | 北海道 | 5267762 | 北海道・東北 |\n| 01 | 2021-07-14 | 21424 | 20069 | 41493 | 1457729 | 793640 | 2251369 | 2209876 | 北海道 | 北海道 | 5267762 | 北海道・東北 |\n\n",
            "text/html": [
              "<table class=\"dataframe\">\n",
              "<caption>A tibble: 6 × 13</caption>\n",
              "<thead>\n",
              "\t<tr><th scope=col>code</th><th scope=col>date</th><th scope=col>status1</th><th scope=col>status2</th><th scope=col>status_all</th><th scope=col>total_status1</th><th scope=col>total_status2</th><th scope=col>total_status_all</th><th scope=col>cum_vaccinations</th><th scope=col>prefecture</th><th scope=col>prefecture_short</th><th scope=col>population</th><th scope=col>block</th></tr>\n",
              "\t<tr><th scope=col>&lt;fct&gt;</th><th scope=col>&lt;date&gt;</th><th scope=col>&lt;int&gt;</th><th scope=col>&lt;int&gt;</th><th scope=col>&lt;int&gt;</th><th scope=col>&lt;int&gt;</th><th scope=col>&lt;int&gt;</th><th scope=col>&lt;int&gt;</th><th scope=col>&lt;int&gt;</th><th scope=col>&lt;fct&gt;</th><th scope=col>&lt;fct&gt;</th><th scope=col>&lt;int&gt;</th><th scope=col>&lt;fct&gt;</th></tr>\n",
              "</thead>\n",
              "<tbody>\n",
              "\t<tr><td>01</td><td>2021-07-19</td><td> 4402</td><td>11844</td><td>16246</td><td>1522860</td><td>871660</td><td>2394520</td><td>2378274</td><td>北海道</td><td>北海道</td><td>5267762</td><td>北海道・東北</td></tr>\n",
              "\t<tr><td>01</td><td>2021-07-18</td><td>12415</td><td>15086</td><td>27501</td><td>1518458</td><td>859816</td><td>2378274</td><td>2350773</td><td>北海道</td><td>北海道</td><td>5267762</td><td>北海道・東北</td></tr>\n",
              "\t<tr><td>01</td><td>2021-07-17</td><td>14840</td><td>16671</td><td>31511</td><td>1506043</td><td>844730</td><td>2350773</td><td>2319262</td><td>北海道</td><td>北海道</td><td>5267762</td><td>北海道・東北</td></tr>\n",
              "\t<tr><td>01</td><td>2021-07-16</td><td>15581</td><td>16439</td><td>32020</td><td>1491203</td><td>828059</td><td>2319262</td><td>2287242</td><td>北海道</td><td>北海道</td><td>5267762</td><td>北海道・東北</td></tr>\n",
              "\t<tr><td>01</td><td>2021-07-15</td><td>17893</td><td>17980</td><td>35873</td><td>1475622</td><td>811620</td><td>2287242</td><td>2251369</td><td>北海道</td><td>北海道</td><td>5267762</td><td>北海道・東北</td></tr>\n",
              "\t<tr><td>01</td><td>2021-07-14</td><td>21424</td><td>20069</td><td>41493</td><td>1457729</td><td>793640</td><td>2251369</td><td>2209876</td><td>北海道</td><td>北海道</td><td>5267762</td><td>北海道・東北</td></tr>\n",
              "</tbody>\n",
              "</table>\n"
            ]
          },
          "metadata": {
            "tags": []
          }
        },
        {
          "output_type": "display_data",
          "data": {
            "text/plain": [
              "  code      date       status1 status2 status_all total_status1 total_status2\n",
              "1 TOTAL/AVE 2021-04-17  7957   0        7957      42370         0            \n",
              "2 TOTAL/AVE 2021-04-16 11144   0       11144      34413         0            \n",
              "3 TOTAL/AVE 2021-04-15  9177   0        9177      23269         0            \n",
              "4 TOTAL/AVE 2021-04-14  4944   0        4944      14092         0            \n",
              "5 TOTAL/AVE 2021-04-13  4293   0        4293       9148         0            \n",
              "6 TOTAL/AVE 2021-04-12  4855   0        4855       4855         0            \n",
              "  total_status_all cum_vaccinations prefecture prefecture_short population\n",
              "1 42370            34413            全国       全国             127138033 \n",
              "2 34413            23269            全国       全国             127138033 \n",
              "3 23269            14092            全国       全国             127138033 \n",
              "4 14092             9148            全国       全国             127138033 \n",
              "5  9148             4855            全国       全国             127138033 \n",
              "6  4855                0            全国       全国             127138033 \n",
              "  block\n",
              "1 全国 \n",
              "2 全国 \n",
              "3 全国 \n",
              "4 全国 \n",
              "5 全国 \n",
              "6 全国 "
            ],
            "text/latex": "A tibble: 6 × 13\n\\begin{tabular}{lllllllllllll}\n code & date & status1 & status2 & status\\_all & total\\_status1 & total\\_status2 & total\\_status\\_all & cum\\_vaccinations & prefecture & prefecture\\_short & population & block\\\\\n <fct> & <date> & <int> & <int> & <int> & <int> & <int> & <int> & <int> & <fct> & <fct> & <int> & <fct>\\\\\n\\hline\n\t TOTAL/AVE & 2021-04-17 &  7957 & 0 &  7957 & 42370 & 0 & 42370 & 34413 & 全国 & 全国 & 127138033 & 全国\\\\\n\t TOTAL/AVE & 2021-04-16 & 11144 & 0 & 11144 & 34413 & 0 & 34413 & 23269 & 全国 & 全国 & 127138033 & 全国\\\\\n\t TOTAL/AVE & 2021-04-15 &  9177 & 0 &  9177 & 23269 & 0 & 23269 & 14092 & 全国 & 全国 & 127138033 & 全国\\\\\n\t TOTAL/AVE & 2021-04-14 &  4944 & 0 &  4944 & 14092 & 0 & 14092 &  9148 & 全国 & 全国 & 127138033 & 全国\\\\\n\t TOTAL/AVE & 2021-04-13 &  4293 & 0 &  4293 &  9148 & 0 &  9148 &  4855 & 全国 & 全国 & 127138033 & 全国\\\\\n\t TOTAL/AVE & 2021-04-12 &  4855 & 0 &  4855 &  4855 & 0 &  4855 &     0 & 全国 & 全国 & 127138033 & 全国\\\\\n\\end{tabular}\n",
            "text/markdown": "\nA tibble: 6 × 13\n\n| code &lt;fct&gt; | date &lt;date&gt; | status1 &lt;int&gt; | status2 &lt;int&gt; | status_all &lt;int&gt; | total_status1 &lt;int&gt; | total_status2 &lt;int&gt; | total_status_all &lt;int&gt; | cum_vaccinations &lt;int&gt; | prefecture &lt;fct&gt; | prefecture_short &lt;fct&gt; | population &lt;int&gt; | block &lt;fct&gt; |\n|---|---|---|---|---|---|---|---|---|---|---|---|---|\n| TOTAL/AVE | 2021-04-17 |  7957 | 0 |  7957 | 42370 | 0 | 42370 | 34413 | 全国 | 全国 | 127138033 | 全国 |\n| TOTAL/AVE | 2021-04-16 | 11144 | 0 | 11144 | 34413 | 0 | 34413 | 23269 | 全国 | 全国 | 127138033 | 全国 |\n| TOTAL/AVE | 2021-04-15 |  9177 | 0 |  9177 | 23269 | 0 | 23269 | 14092 | 全国 | 全国 | 127138033 | 全国 |\n| TOTAL/AVE | 2021-04-14 |  4944 | 0 |  4944 | 14092 | 0 | 14092 |  9148 | 全国 | 全国 | 127138033 | 全国 |\n| TOTAL/AVE | 2021-04-13 |  4293 | 0 |  4293 |  9148 | 0 |  9148 |  4855 | 全国 | 全国 | 127138033 | 全国 |\n| TOTAL/AVE | 2021-04-12 |  4855 | 0 |  4855 |  4855 | 0 |  4855 |     0 | 全国 | 全国 | 127138033 | 全国 |\n\n",
            "text/html": [
              "<table class=\"dataframe\">\n",
              "<caption>A tibble: 6 × 13</caption>\n",
              "<thead>\n",
              "\t<tr><th scope=col>code</th><th scope=col>date</th><th scope=col>status1</th><th scope=col>status2</th><th scope=col>status_all</th><th scope=col>total_status1</th><th scope=col>total_status2</th><th scope=col>total_status_all</th><th scope=col>cum_vaccinations</th><th scope=col>prefecture</th><th scope=col>prefecture_short</th><th scope=col>population</th><th scope=col>block</th></tr>\n",
              "\t<tr><th scope=col>&lt;fct&gt;</th><th scope=col>&lt;date&gt;</th><th scope=col>&lt;int&gt;</th><th scope=col>&lt;int&gt;</th><th scope=col>&lt;int&gt;</th><th scope=col>&lt;int&gt;</th><th scope=col>&lt;int&gt;</th><th scope=col>&lt;int&gt;</th><th scope=col>&lt;int&gt;</th><th scope=col>&lt;fct&gt;</th><th scope=col>&lt;fct&gt;</th><th scope=col>&lt;int&gt;</th><th scope=col>&lt;fct&gt;</th></tr>\n",
              "</thead>\n",
              "<tbody>\n",
              "\t<tr><td>TOTAL/AVE</td><td>2021-04-17</td><td> 7957</td><td>0</td><td> 7957</td><td>42370</td><td>0</td><td>42370</td><td>34413</td><td>全国</td><td>全国</td><td>127138033</td><td>全国</td></tr>\n",
              "\t<tr><td>TOTAL/AVE</td><td>2021-04-16</td><td>11144</td><td>0</td><td>11144</td><td>34413</td><td>0</td><td>34413</td><td>23269</td><td>全国</td><td>全国</td><td>127138033</td><td>全国</td></tr>\n",
              "\t<tr><td>TOTAL/AVE</td><td>2021-04-15</td><td> 9177</td><td>0</td><td> 9177</td><td>23269</td><td>0</td><td>23269</td><td>14092</td><td>全国</td><td>全国</td><td>127138033</td><td>全国</td></tr>\n",
              "\t<tr><td>TOTAL/AVE</td><td>2021-04-14</td><td> 4944</td><td>0</td><td> 4944</td><td>14092</td><td>0</td><td>14092</td><td> 9148</td><td>全国</td><td>全国</td><td>127138033</td><td>全国</td></tr>\n",
              "\t<tr><td>TOTAL/AVE</td><td>2021-04-13</td><td> 4293</td><td>0</td><td> 4293</td><td> 9148</td><td>0</td><td> 9148</td><td> 4855</td><td>全国</td><td>全国</td><td>127138033</td><td>全国</td></tr>\n",
              "\t<tr><td>TOTAL/AVE</td><td>2021-04-12</td><td> 4855</td><td>0</td><td> 4855</td><td> 4855</td><td>0</td><td> 4855</td><td>    0</td><td>全国</td><td>全国</td><td>127138033</td><td>全国</td></tr>\n",
              "</tbody>\n",
              "</table>\n"
            ]
          },
          "metadata": {
            "tags": []
          }
        }
      ]
    },
    {
      "cell_type": "markdown",
      "metadata": {
        "id": "0xv-qXyp27i_"
      },
      "source": [
        "### 7.3. 接種状況と感染者数をJOINする"
      ]
    },
    {
      "cell_type": "markdown",
      "metadata": {
        "id": "tH1n3mUJAp4a"
      },
      "source": [
        "これで、接種状況と感染者数をドッキングさせる準備が整いました。都道府県だけ、日付だけ、では一意のキーになりませんが、都道府県と日付のペアで見れば、両方を結びつける際のキーになります。\n",
        "\n",
        "なお、ほかにも共通のカラムはありますが、これは、同じpref_popとそれぞれの表を先ほどjoinしたからです。長短の県名・県コード・日付のほかに地域もキーにして突合しています、とメッセージが出ていますが、差し支えありません。今回は、キーを指定しないでjoinを指示したので、両方に同じカラム名のデータがあれば、それをキーに使おうとしてくれているわけです。\n"
      ]
    },
    {
      "cell_type": "code",
      "metadata": {
        "id": "Er6WsVCSm3hF",
        "colab": {
          "base_uri": "https://localhost:8080/",
          "height": 1000
        },
        "outputId": "efe70aa1-020a-4dce-e7f8-a5ce5c391988"
      },
      "source": [
        "# vaccinationとpatientsを付き合わせる。\n",
        "# left_joinは、左のデータにあるものは、右に突合相手がいなくても残す。\n",
        "# なので、これはワクチン接種が始まる前の感染者データも保存する。\n",
        "joined_data <- left_join(patients, vaccinations) %>%\n",
        "# カラムを並べ替えて見やすくする\n",
        "    relocate(date, code, prefecture, prefecture_short, block, population)\n",
        "# こうなった。\n",
        "head(joined_data)\n",
        "tail(joined_data)\n",
        "summary(joined_data)\n",
        "str(joined_data)"
      ],
      "execution_count": null,
      "outputs": [
        {
          "output_type": "stream",
          "text": [
            "Joining, by = c(\"prefecture\", \"date\", \"code\", \"prefecture_short\", \"population\", \"block\")\n",
            "\n"
          ],
          "name": "stderr"
        },
        {
          "output_type": "display_data",
          "data": {
            "text/plain": [
              "  date       code prefecture prefecture_short block        population\n",
              "1 2021-07-18 01   北海道     北海道           北海道・東北 5267762   \n",
              "2 2021-07-17 01   北海道     北海道           北海道・東北 5267762   \n",
              "3 2021-07-16 01   北海道     北海道           北海道・東北 5267762   \n",
              "4 2021-07-15 01   北海道     北海道           北海道・東北 5267762   \n",
              "5 2021-07-14 01   北海道     北海道           北海道・東北 5267762   \n",
              "6 2021-07-13 01   北海道     北海道           北海道・東北 5267762   \n",
              "  sum_patients new_patients patients_ma7 status1 status2 status_all\n",
              "1 42386        107          79.71429     12415   15086   27501     \n",
              "2 42279        111          72.42857     14840   16671   31511     \n",
              "3 42168         73          65.71429     15581   16439   32020     \n",
              "4 42095         85          62.42857     17893   17980   35873     \n",
              "5 42010         75          59.14286     21424   20069   41493     \n",
              "6 41935         60          58.00000     21273   21916   43189     \n",
              "  total_status1 total_status2 total_status_all cum_vaccinations\n",
              "1 1518458       859816        2378274          2350773         \n",
              "2 1506043       844730        2350773          2319262         \n",
              "3 1491203       828059        2319262          2287242         \n",
              "4 1475622       811620        2287242          2251369         \n",
              "5 1457729       793640        2251369          2209876         \n",
              "6 1436305       773571        2209876          2166687         "
            ],
            "text/latex": "A tibble: 6 × 16\n\\begin{tabular}{llllllllllllllll}\n date & code & prefecture & prefecture\\_short & block & population & sum\\_patients & new\\_patients & patients\\_ma7 & status1 & status2 & status\\_all & total\\_status1 & total\\_status2 & total\\_status\\_all & cum\\_vaccinations\\\\\n <date> & <fct> & <fct> & <fct> & <fct> & <int> & <int> & <int> & <dbl> & <int> & <int> & <int> & <int> & <int> & <int> & <int>\\\\\n\\hline\n\t 2021-07-18 & 01 & 北海道 & 北海道 & 北海道・東北 & 5267762 & 42386 & 107 & 79.71429 & 12415 & 15086 & 27501 & 1518458 & 859816 & 2378274 & 2350773\\\\\n\t 2021-07-17 & 01 & 北海道 & 北海道 & 北海道・東北 & 5267762 & 42279 & 111 & 72.42857 & 14840 & 16671 & 31511 & 1506043 & 844730 & 2350773 & 2319262\\\\\n\t 2021-07-16 & 01 & 北海道 & 北海道 & 北海道・東北 & 5267762 & 42168 &  73 & 65.71429 & 15581 & 16439 & 32020 & 1491203 & 828059 & 2319262 & 2287242\\\\\n\t 2021-07-15 & 01 & 北海道 & 北海道 & 北海道・東北 & 5267762 & 42095 &  85 & 62.42857 & 17893 & 17980 & 35873 & 1475622 & 811620 & 2287242 & 2251369\\\\\n\t 2021-07-14 & 01 & 北海道 & 北海道 & 北海道・東北 & 5267762 & 42010 &  75 & 59.14286 & 21424 & 20069 & 41493 & 1457729 & 793640 & 2251369 & 2209876\\\\\n\t 2021-07-13 & 01 & 北海道 & 北海道 & 北海道・東北 & 5267762 & 41935 &  60 & 58.00000 & 21273 & 21916 & 43189 & 1436305 & 773571 & 2209876 & 2166687\\\\\n\\end{tabular}\n",
            "text/markdown": "\nA tibble: 6 × 16\n\n| date &lt;date&gt; | code &lt;fct&gt; | prefecture &lt;fct&gt; | prefecture_short &lt;fct&gt; | block &lt;fct&gt; | population &lt;int&gt; | sum_patients &lt;int&gt; | new_patients &lt;int&gt; | patients_ma7 &lt;dbl&gt; | status1 &lt;int&gt; | status2 &lt;int&gt; | status_all &lt;int&gt; | total_status1 &lt;int&gt; | total_status2 &lt;int&gt; | total_status_all &lt;int&gt; | cum_vaccinations &lt;int&gt; |\n|---|---|---|---|---|---|---|---|---|---|---|---|---|---|---|---|\n| 2021-07-18 | 01 | 北海道 | 北海道 | 北海道・東北 | 5267762 | 42386 | 107 | 79.71429 | 12415 | 15086 | 27501 | 1518458 | 859816 | 2378274 | 2350773 |\n| 2021-07-17 | 01 | 北海道 | 北海道 | 北海道・東北 | 5267762 | 42279 | 111 | 72.42857 | 14840 | 16671 | 31511 | 1506043 | 844730 | 2350773 | 2319262 |\n| 2021-07-16 | 01 | 北海道 | 北海道 | 北海道・東北 | 5267762 | 42168 |  73 | 65.71429 | 15581 | 16439 | 32020 | 1491203 | 828059 | 2319262 | 2287242 |\n| 2021-07-15 | 01 | 北海道 | 北海道 | 北海道・東北 | 5267762 | 42095 |  85 | 62.42857 | 17893 | 17980 | 35873 | 1475622 | 811620 | 2287242 | 2251369 |\n| 2021-07-14 | 01 | 北海道 | 北海道 | 北海道・東北 | 5267762 | 42010 |  75 | 59.14286 | 21424 | 20069 | 41493 | 1457729 | 793640 | 2251369 | 2209876 |\n| 2021-07-13 | 01 | 北海道 | 北海道 | 北海道・東北 | 5267762 | 41935 |  60 | 58.00000 | 21273 | 21916 | 43189 | 1436305 | 773571 | 2209876 | 2166687 |\n\n",
            "text/html": [
              "<table class=\"dataframe\">\n",
              "<caption>A tibble: 6 × 16</caption>\n",
              "<thead>\n",
              "\t<tr><th scope=col>date</th><th scope=col>code</th><th scope=col>prefecture</th><th scope=col>prefecture_short</th><th scope=col>block</th><th scope=col>population</th><th scope=col>sum_patients</th><th scope=col>new_patients</th><th scope=col>patients_ma7</th><th scope=col>status1</th><th scope=col>status2</th><th scope=col>status_all</th><th scope=col>total_status1</th><th scope=col>total_status2</th><th scope=col>total_status_all</th><th scope=col>cum_vaccinations</th></tr>\n",
              "\t<tr><th scope=col>&lt;date&gt;</th><th scope=col>&lt;fct&gt;</th><th scope=col>&lt;fct&gt;</th><th scope=col>&lt;fct&gt;</th><th scope=col>&lt;fct&gt;</th><th scope=col>&lt;int&gt;</th><th scope=col>&lt;int&gt;</th><th scope=col>&lt;int&gt;</th><th scope=col>&lt;dbl&gt;</th><th scope=col>&lt;int&gt;</th><th scope=col>&lt;int&gt;</th><th scope=col>&lt;int&gt;</th><th scope=col>&lt;int&gt;</th><th scope=col>&lt;int&gt;</th><th scope=col>&lt;int&gt;</th><th scope=col>&lt;int&gt;</th></tr>\n",
              "</thead>\n",
              "<tbody>\n",
              "\t<tr><td>2021-07-18</td><td>01</td><td>北海道</td><td>北海道</td><td>北海道・東北</td><td>5267762</td><td>42386</td><td>107</td><td>79.71429</td><td>12415</td><td>15086</td><td>27501</td><td>1518458</td><td>859816</td><td>2378274</td><td>2350773</td></tr>\n",
              "\t<tr><td>2021-07-17</td><td>01</td><td>北海道</td><td>北海道</td><td>北海道・東北</td><td>5267762</td><td>42279</td><td>111</td><td>72.42857</td><td>14840</td><td>16671</td><td>31511</td><td>1506043</td><td>844730</td><td>2350773</td><td>2319262</td></tr>\n",
              "\t<tr><td>2021-07-16</td><td>01</td><td>北海道</td><td>北海道</td><td>北海道・東北</td><td>5267762</td><td>42168</td><td> 73</td><td>65.71429</td><td>15581</td><td>16439</td><td>32020</td><td>1491203</td><td>828059</td><td>2319262</td><td>2287242</td></tr>\n",
              "\t<tr><td>2021-07-15</td><td>01</td><td>北海道</td><td>北海道</td><td>北海道・東北</td><td>5267762</td><td>42095</td><td> 85</td><td>62.42857</td><td>17893</td><td>17980</td><td>35873</td><td>1475622</td><td>811620</td><td>2287242</td><td>2251369</td></tr>\n",
              "\t<tr><td>2021-07-14</td><td>01</td><td>北海道</td><td>北海道</td><td>北海道・東北</td><td>5267762</td><td>42010</td><td> 75</td><td>59.14286</td><td>21424</td><td>20069</td><td>41493</td><td>1457729</td><td>793640</td><td>2251369</td><td>2209876</td></tr>\n",
              "\t<tr><td>2021-07-13</td><td>01</td><td>北海道</td><td>北海道</td><td>北海道・東北</td><td>5267762</td><td>41935</td><td> 60</td><td>58.00000</td><td>21273</td><td>21916</td><td>43189</td><td>1436305</td><td>773571</td><td>2209876</td><td>2166687</td></tr>\n",
              "</tbody>\n",
              "</table>\n"
            ]
          },
          "metadata": {
            "tags": []
          }
        },
        {
          "output_type": "display_data",
          "data": {
            "text/plain": [
              "  date       code      prefecture prefecture_short block population\n",
              "1 2020-04-26 TOTAL/AVE 全国       全国             全国  127138033 \n",
              "2 2020-04-25 TOTAL/AVE 全国       全国             全国  127138033 \n",
              "3 2020-04-24 TOTAL/AVE 全国       全国             全国  127138033 \n",
              "4 2020-04-23 TOTAL/AVE 全国       全国             全国  127138033 \n",
              "5 2020-04-22 TOTAL/AVE 全国       全国             全国  127138033 \n",
              "6 2020-04-21 TOTAL/AVE 全国       全国             全国  127138033 \n",
              "  sum_patients new_patients patients_ma7 status1 status2 status_all\n",
              "1 13232        199          NA           NA      NA      NA        \n",
              "2 13031        346          NA           NA      NA      NA        \n",
              "3 12681        423          NA           NA      NA      NA        \n",
              "4 12240        434          NA           NA      NA      NA        \n",
              "5 11772        420          NA           NA      NA      NA        \n",
              "6 11350        370          NA           NA      NA      NA        \n",
              "  total_status1 total_status2 total_status_all cum_vaccinations\n",
              "1 NA            NA            NA               NA              \n",
              "2 NA            NA            NA               NA              \n",
              "3 NA            NA            NA               NA              \n",
              "4 NA            NA            NA               NA              \n",
              "5 NA            NA            NA               NA              \n",
              "6 NA            NA            NA               NA              "
            ],
            "text/latex": "A tibble: 6 × 16\n\\begin{tabular}{llllllllllllllll}\n date & code & prefecture & prefecture\\_short & block & population & sum\\_patients & new\\_patients & patients\\_ma7 & status1 & status2 & status\\_all & total\\_status1 & total\\_status2 & total\\_status\\_all & cum\\_vaccinations\\\\\n <date> & <fct> & <fct> & <fct> & <fct> & <int> & <int> & <int> & <dbl> & <int> & <int> & <int> & <int> & <int> & <int> & <int>\\\\\n\\hline\n\t 2020-04-26 & TOTAL/AVE & 全国 & 全国 & 全国 & 127138033 & 13232 & 199 & NA & NA & NA & NA & NA & NA & NA & NA\\\\\n\t 2020-04-25 & TOTAL/AVE & 全国 & 全国 & 全国 & 127138033 & 13031 & 346 & NA & NA & NA & NA & NA & NA & NA & NA\\\\\n\t 2020-04-24 & TOTAL/AVE & 全国 & 全国 & 全国 & 127138033 & 12681 & 423 & NA & NA & NA & NA & NA & NA & NA & NA\\\\\n\t 2020-04-23 & TOTAL/AVE & 全国 & 全国 & 全国 & 127138033 & 12240 & 434 & NA & NA & NA & NA & NA & NA & NA & NA\\\\\n\t 2020-04-22 & TOTAL/AVE & 全国 & 全国 & 全国 & 127138033 & 11772 & 420 & NA & NA & NA & NA & NA & NA & NA & NA\\\\\n\t 2020-04-21 & TOTAL/AVE & 全国 & 全国 & 全国 & 127138033 & 11350 & 370 & NA & NA & NA & NA & NA & NA & NA & NA\\\\\n\\end{tabular}\n",
            "text/markdown": "\nA tibble: 6 × 16\n\n| date &lt;date&gt; | code &lt;fct&gt; | prefecture &lt;fct&gt; | prefecture_short &lt;fct&gt; | block &lt;fct&gt; | population &lt;int&gt; | sum_patients &lt;int&gt; | new_patients &lt;int&gt; | patients_ma7 &lt;dbl&gt; | status1 &lt;int&gt; | status2 &lt;int&gt; | status_all &lt;int&gt; | total_status1 &lt;int&gt; | total_status2 &lt;int&gt; | total_status_all &lt;int&gt; | cum_vaccinations &lt;int&gt; |\n|---|---|---|---|---|---|---|---|---|---|---|---|---|---|---|---|\n| 2020-04-26 | TOTAL/AVE | 全国 | 全国 | 全国 | 127138033 | 13232 | 199 | NA | NA | NA | NA | NA | NA | NA | NA |\n| 2020-04-25 | TOTAL/AVE | 全国 | 全国 | 全国 | 127138033 | 13031 | 346 | NA | NA | NA | NA | NA | NA | NA | NA |\n| 2020-04-24 | TOTAL/AVE | 全国 | 全国 | 全国 | 127138033 | 12681 | 423 | NA | NA | NA | NA | NA | NA | NA | NA |\n| 2020-04-23 | TOTAL/AVE | 全国 | 全国 | 全国 | 127138033 | 12240 | 434 | NA | NA | NA | NA | NA | NA | NA | NA |\n| 2020-04-22 | TOTAL/AVE | 全国 | 全国 | 全国 | 127138033 | 11772 | 420 | NA | NA | NA | NA | NA | NA | NA | NA |\n| 2020-04-21 | TOTAL/AVE | 全国 | 全国 | 全国 | 127138033 | 11350 | 370 | NA | NA | NA | NA | NA | NA | NA | NA |\n\n",
            "text/html": [
              "<table class=\"dataframe\">\n",
              "<caption>A tibble: 6 × 16</caption>\n",
              "<thead>\n",
              "\t<tr><th scope=col>date</th><th scope=col>code</th><th scope=col>prefecture</th><th scope=col>prefecture_short</th><th scope=col>block</th><th scope=col>population</th><th scope=col>sum_patients</th><th scope=col>new_patients</th><th scope=col>patients_ma7</th><th scope=col>status1</th><th scope=col>status2</th><th scope=col>status_all</th><th scope=col>total_status1</th><th scope=col>total_status2</th><th scope=col>total_status_all</th><th scope=col>cum_vaccinations</th></tr>\n",
              "\t<tr><th scope=col>&lt;date&gt;</th><th scope=col>&lt;fct&gt;</th><th scope=col>&lt;fct&gt;</th><th scope=col>&lt;fct&gt;</th><th scope=col>&lt;fct&gt;</th><th scope=col>&lt;int&gt;</th><th scope=col>&lt;int&gt;</th><th scope=col>&lt;int&gt;</th><th scope=col>&lt;dbl&gt;</th><th scope=col>&lt;int&gt;</th><th scope=col>&lt;int&gt;</th><th scope=col>&lt;int&gt;</th><th scope=col>&lt;int&gt;</th><th scope=col>&lt;int&gt;</th><th scope=col>&lt;int&gt;</th><th scope=col>&lt;int&gt;</th></tr>\n",
              "</thead>\n",
              "<tbody>\n",
              "\t<tr><td>2020-04-26</td><td>TOTAL/AVE</td><td>全国</td><td>全国</td><td>全国</td><td>127138033</td><td>13232</td><td>199</td><td>NA</td><td>NA</td><td>NA</td><td>NA</td><td>NA</td><td>NA</td><td>NA</td><td>NA</td></tr>\n",
              "\t<tr><td>2020-04-25</td><td>TOTAL/AVE</td><td>全国</td><td>全国</td><td>全国</td><td>127138033</td><td>13031</td><td>346</td><td>NA</td><td>NA</td><td>NA</td><td>NA</td><td>NA</td><td>NA</td><td>NA</td><td>NA</td></tr>\n",
              "\t<tr><td>2020-04-24</td><td>TOTAL/AVE</td><td>全国</td><td>全国</td><td>全国</td><td>127138033</td><td>12681</td><td>423</td><td>NA</td><td>NA</td><td>NA</td><td>NA</td><td>NA</td><td>NA</td><td>NA</td><td>NA</td></tr>\n",
              "\t<tr><td>2020-04-23</td><td>TOTAL/AVE</td><td>全国</td><td>全国</td><td>全国</td><td>127138033</td><td>12240</td><td>434</td><td>NA</td><td>NA</td><td>NA</td><td>NA</td><td>NA</td><td>NA</td><td>NA</td><td>NA</td></tr>\n",
              "\t<tr><td>2020-04-22</td><td>TOTAL/AVE</td><td>全国</td><td>全国</td><td>全国</td><td>127138033</td><td>11772</td><td>420</td><td>NA</td><td>NA</td><td>NA</td><td>NA</td><td>NA</td><td>NA</td><td>NA</td><td>NA</td></tr>\n",
              "\t<tr><td>2020-04-21</td><td>TOTAL/AVE</td><td>全国</td><td>全国</td><td>全国</td><td>127138033</td><td>11350</td><td>370</td><td>NA</td><td>NA</td><td>NA</td><td>NA</td><td>NA</td><td>NA</td><td>NA</td><td>NA</td></tr>\n",
              "</tbody>\n",
              "</table>\n"
            ]
          },
          "metadata": {
            "tags": []
          }
        },
        {
          "output_type": "display_data",
          "data": {
            "text/plain": [
              "      date                   code         prefecture    prefecture_short\n",
              " Min.   :2020-04-21   TOTAL/AVE:  455   全国   :  455   全国   :  455   \n",
              " 1st Qu.:2020-08-13   01       :  453   北海道 :  453   北海道 :  453   \n",
              " Median :2020-12-04   02       :  453   青森県 :  453   青森   :  453   \n",
              " Mean   :2020-12-04   03       :  453   岩手県 :  453   岩手   :  453   \n",
              " 3rd Qu.:2021-03-27   04       :  453   宮城県 :  453   宮城   :  453   \n",
              " Max.   :2021-07-19   05       :  453   秋田県 :  453   秋田   :  453   \n",
              "                      (Other)  :19026   (Other):19026   (Other):19026   \n",
              "          block        population         sum_patients       new_patients    \n",
              " 九州・沖縄  :3624   Min.   :   561175   Min.   :     0.0   Min.   :-989.00  \n",
              " 北海道・東北:3171   1st Qu.:  1095903   1st Qu.:   195.0   1st Qu.:   0.00  \n",
              " 関東        :3171   Median :  1769880   Median :   931.5   Median :   5.00  \n",
              " 甲信越・北陸:2718   Mean   :  5308624   Mean   : 11801.0   Mean   :  76.08  \n",
              " 近畿        :2718   3rd Qu.:  2921436   3rd Qu.:  4153.8   3rd Qu.:  28.00  \n",
              " 中国        :2265   Max.   :127138033   Max.   :840657.0   Max.   :7844.00  \n",
              " (Other)     :4079                                          NA's   :47       \n",
              "  patients_ma7         status1          status2           status_all     \n",
              " Min.   : -94.286   Min.   :     0   Min.   :     0.0   Min.   :      1  \n",
              " 1st Qu.:   0.714   1st Qu.:  1364   1st Qu.:    27.5   1st Qu.:   1567  \n",
              " Median :   6.143   Median :  4735   Median :  1537.0   Median :   7553  \n",
              " Mean   :  76.103   Mean   : 15853   Mean   :  9710.3   Mean   :  25564  \n",
              " 3rd Qu.:  29.429   3rd Qu.:  9994   3rd Qu.:  6237.0   3rd Qu.:  16148  \n",
              " Max.   :6369.143   Max.   :739786   Max.   :670809.0   Max.   :1329598  \n",
              " NA's   :335        NA's   :17075    NA's   :17075      NA's   :17075    \n",
              " total_status1      total_status2      total_status_all   cum_vaccinations  \n",
              " Min.   :       1   Min.   :       0   Min.   :       1   Min.   :       0  \n",
              " 1st Qu.:   17258   1st Qu.:     210   1st Qu.:   18119   1st Qu.:   16550  \n",
              " Median :  120621   Median :   18188   Median :  144188   Median :  134277  \n",
              " Mean   :  522521   Mean   :  216579   Mean   :  739100   Mean   :  713536  \n",
              " 3rd Qu.:  336400   3rd Qu.:  136475   3rd Qu.:  476432   3rd Qu.:  460122  \n",
              " Max.   :37111110   Max.   :22849539   Max.   :59960649   Max.   :59446434  \n",
              " NA's   :17075      NA's   :17075      NA's   :17075      NA's   :17075     "
            ]
          },
          "metadata": {
            "tags": []
          }
        },
        {
          "output_type": "stream",
          "text": [
            "tibble [21,746 × 16] (S3: tbl_df/tbl/data.frame)\n",
            " $ date            : Date[1:21746], format: \"2021-07-18\" \"2021-07-17\" ...\n",
            " $ code            : Factor w/ 48 levels \"01\",\"02\",\"03\",..: 1 1 1 1 1 1 1 1 1 1 ...\n",
            " $ prefecture      : Factor w/ 48 levels \"北海道\",\"青森県\",..: 1 1 1 1 1 1 1 1 1 1 ...\n",
            " $ prefecture_short: Factor w/ 48 levels \"北海道\",\"青森\",..: 1 1 1 1 1 1 1 1 1 1 ...\n",
            " $ block           : Factor w/ 9 levels \"北海道・東北\",..: 1 1 1 1 1 1 1 1 1 1 ...\n",
            " $ population      : int [1:21746] 5267762 5267762 5267762 5267762 5267762 5267762 5267762 5267762 5267762 5267762 ...\n",
            " $ sum_patients    : int [1:21746] 42386 42279 42168 42095 42010 41935 41875 41828 41772 41708 ...\n",
            " $ new_patients    : int [1:21746] 107 111 73 85 75 60 47 56 64 50 ...\n",
            " $ patients_ma7    : num [1:21746] 79.7 72.4 65.7 62.4 59.1 ...\n",
            " $ status1         : int [1:21746] 12415 14840 15581 17893 21424 21273 21418 18172 25728 26058 ...\n",
            " $ status2         : int [1:21746] 15086 16671 16439 17980 20069 21916 22393 19474 16211 16598 ...\n",
            " $ status_all      : int [1:21746] 27501 31511 32020 35873 41493 43189 43811 37646 41939 42656 ...\n",
            " $ total_status1   : int [1:21746] 1518458 1506043 1491203 1475622 1457729 1436305 1415032 1393614 1375442 1349714 ...\n",
            " $ total_status2   : int [1:21746] 859816 844730 828059 811620 793640 773571 751655 729262 709788 693577 ...\n",
            " $ total_status_all: int [1:21746] 2378274 2350773 2319262 2287242 2251369 2209876 2166687 2122876 2085230 2043291 ...\n",
            " $ cum_vaccinations: int [1:21746] 2350773 2319262 2287242 2251369 2209876 2166687 2122876 2085230 2043291 2000635 ...\n"
          ],
          "name": "stdout"
        }
      ]
    },
    {
      "cell_type": "markdown",
      "metadata": {
        "id": "VnJvCZ1LE0qw"
      },
      "source": [
        "\n",
        "感染者数のデータは2020年からありますが、ワクチン接種のほうは2021年4月12日以降の分しかありません（県によっては、さらに欠けています）。なので、両方が揃っている期間だけに絞りましょう。"
      ]
    },
    {
      "cell_type": "code",
      "metadata": {
        "id": "Y9UAB4_PE6_X",
        "colab": {
          "base_uri": "https://localhost:8080/",
          "height": 991
        },
        "outputId": "72c25e3f-c47f-40bc-911e-404ef4e029c7"
      },
      "source": [
        "# joined_data <- joined_data %>%\n",
        "#   filter(date >= ymd(\"2021-4-12\"))\n",
        "tail(joined_data)\n",
        "summary(joined_data)"
      ],
      "execution_count": null,
      "outputs": [
        {
          "output_type": "display_data",
          "data": {
            "text/plain": [
              "  date       code      prefecture prefecture_short block population\n",
              "1 2020-04-26 TOTAL/AVE 全国       全国             全国  127138033 \n",
              "2 2020-04-25 TOTAL/AVE 全国       全国             全国  127138033 \n",
              "3 2020-04-24 TOTAL/AVE 全国       全国             全国  127138033 \n",
              "4 2020-04-23 TOTAL/AVE 全国       全国             全国  127138033 \n",
              "5 2020-04-22 TOTAL/AVE 全国       全国             全国  127138033 \n",
              "6 2020-04-21 TOTAL/AVE 全国       全国             全国  127138033 \n",
              "  sum_patients new_patients patients_ma7 status1 status2 status_all\n",
              "1 13232        199          NA           NA      NA      NA        \n",
              "2 13031        346          NA           NA      NA      NA        \n",
              "3 12681        423          NA           NA      NA      NA        \n",
              "4 12240        434          NA           NA      NA      NA        \n",
              "5 11772        420          NA           NA      NA      NA        \n",
              "6 11350        370          NA           NA      NA      NA        \n",
              "  total_status1 total_status2 total_status_all cum_vaccinations\n",
              "1 NA            NA            NA               NA              \n",
              "2 NA            NA            NA               NA              \n",
              "3 NA            NA            NA               NA              \n",
              "4 NA            NA            NA               NA              \n",
              "5 NA            NA            NA               NA              \n",
              "6 NA            NA            NA               NA              "
            ],
            "text/latex": "A tibble: 6 × 16\n\\begin{tabular}{llllllllllllllll}\n date & code & prefecture & prefecture\\_short & block & population & sum\\_patients & new\\_patients & patients\\_ma7 & status1 & status2 & status\\_all & total\\_status1 & total\\_status2 & total\\_status\\_all & cum\\_vaccinations\\\\\n <date> & <fct> & <fct> & <fct> & <fct> & <int> & <int> & <int> & <dbl> & <int> & <int> & <int> & <int> & <int> & <int> & <int>\\\\\n\\hline\n\t 2020-04-26 & TOTAL/AVE & 全国 & 全国 & 全国 & 127138033 & 13232 & 199 & NA & NA & NA & NA & NA & NA & NA & NA\\\\\n\t 2020-04-25 & TOTAL/AVE & 全国 & 全国 & 全国 & 127138033 & 13031 & 346 & NA & NA & NA & NA & NA & NA & NA & NA\\\\\n\t 2020-04-24 & TOTAL/AVE & 全国 & 全国 & 全国 & 127138033 & 12681 & 423 & NA & NA & NA & NA & NA & NA & NA & NA\\\\\n\t 2020-04-23 & TOTAL/AVE & 全国 & 全国 & 全国 & 127138033 & 12240 & 434 & NA & NA & NA & NA & NA & NA & NA & NA\\\\\n\t 2020-04-22 & TOTAL/AVE & 全国 & 全国 & 全国 & 127138033 & 11772 & 420 & NA & NA & NA & NA & NA & NA & NA & NA\\\\\n\t 2020-04-21 & TOTAL/AVE & 全国 & 全国 & 全国 & 127138033 & 11350 & 370 & NA & NA & NA & NA & NA & NA & NA & NA\\\\\n\\end{tabular}\n",
            "text/markdown": "\nA tibble: 6 × 16\n\n| date &lt;date&gt; | code &lt;fct&gt; | prefecture &lt;fct&gt; | prefecture_short &lt;fct&gt; | block &lt;fct&gt; | population &lt;int&gt; | sum_patients &lt;int&gt; | new_patients &lt;int&gt; | patients_ma7 &lt;dbl&gt; | status1 &lt;int&gt; | status2 &lt;int&gt; | status_all &lt;int&gt; | total_status1 &lt;int&gt; | total_status2 &lt;int&gt; | total_status_all &lt;int&gt; | cum_vaccinations &lt;int&gt; |\n|---|---|---|---|---|---|---|---|---|---|---|---|---|---|---|---|\n| 2020-04-26 | TOTAL/AVE | 全国 | 全国 | 全国 | 127138033 | 13232 | 199 | NA | NA | NA | NA | NA | NA | NA | NA |\n| 2020-04-25 | TOTAL/AVE | 全国 | 全国 | 全国 | 127138033 | 13031 | 346 | NA | NA | NA | NA | NA | NA | NA | NA |\n| 2020-04-24 | TOTAL/AVE | 全国 | 全国 | 全国 | 127138033 | 12681 | 423 | NA | NA | NA | NA | NA | NA | NA | NA |\n| 2020-04-23 | TOTAL/AVE | 全国 | 全国 | 全国 | 127138033 | 12240 | 434 | NA | NA | NA | NA | NA | NA | NA | NA |\n| 2020-04-22 | TOTAL/AVE | 全国 | 全国 | 全国 | 127138033 | 11772 | 420 | NA | NA | NA | NA | NA | NA | NA | NA |\n| 2020-04-21 | TOTAL/AVE | 全国 | 全国 | 全国 | 127138033 | 11350 | 370 | NA | NA | NA | NA | NA | NA | NA | NA |\n\n",
            "text/html": [
              "<table class=\"dataframe\">\n",
              "<caption>A tibble: 6 × 16</caption>\n",
              "<thead>\n",
              "\t<tr><th scope=col>date</th><th scope=col>code</th><th scope=col>prefecture</th><th scope=col>prefecture_short</th><th scope=col>block</th><th scope=col>population</th><th scope=col>sum_patients</th><th scope=col>new_patients</th><th scope=col>patients_ma7</th><th scope=col>status1</th><th scope=col>status2</th><th scope=col>status_all</th><th scope=col>total_status1</th><th scope=col>total_status2</th><th scope=col>total_status_all</th><th scope=col>cum_vaccinations</th></tr>\n",
              "\t<tr><th scope=col>&lt;date&gt;</th><th scope=col>&lt;fct&gt;</th><th scope=col>&lt;fct&gt;</th><th scope=col>&lt;fct&gt;</th><th scope=col>&lt;fct&gt;</th><th scope=col>&lt;int&gt;</th><th scope=col>&lt;int&gt;</th><th scope=col>&lt;int&gt;</th><th scope=col>&lt;dbl&gt;</th><th scope=col>&lt;int&gt;</th><th scope=col>&lt;int&gt;</th><th scope=col>&lt;int&gt;</th><th scope=col>&lt;int&gt;</th><th scope=col>&lt;int&gt;</th><th scope=col>&lt;int&gt;</th><th scope=col>&lt;int&gt;</th></tr>\n",
              "</thead>\n",
              "<tbody>\n",
              "\t<tr><td>2020-04-26</td><td>TOTAL/AVE</td><td>全国</td><td>全国</td><td>全国</td><td>127138033</td><td>13232</td><td>199</td><td>NA</td><td>NA</td><td>NA</td><td>NA</td><td>NA</td><td>NA</td><td>NA</td><td>NA</td></tr>\n",
              "\t<tr><td>2020-04-25</td><td>TOTAL/AVE</td><td>全国</td><td>全国</td><td>全国</td><td>127138033</td><td>13031</td><td>346</td><td>NA</td><td>NA</td><td>NA</td><td>NA</td><td>NA</td><td>NA</td><td>NA</td><td>NA</td></tr>\n",
              "\t<tr><td>2020-04-24</td><td>TOTAL/AVE</td><td>全国</td><td>全国</td><td>全国</td><td>127138033</td><td>12681</td><td>423</td><td>NA</td><td>NA</td><td>NA</td><td>NA</td><td>NA</td><td>NA</td><td>NA</td><td>NA</td></tr>\n",
              "\t<tr><td>2020-04-23</td><td>TOTAL/AVE</td><td>全国</td><td>全国</td><td>全国</td><td>127138033</td><td>12240</td><td>434</td><td>NA</td><td>NA</td><td>NA</td><td>NA</td><td>NA</td><td>NA</td><td>NA</td><td>NA</td></tr>\n",
              "\t<tr><td>2020-04-22</td><td>TOTAL/AVE</td><td>全国</td><td>全国</td><td>全国</td><td>127138033</td><td>11772</td><td>420</td><td>NA</td><td>NA</td><td>NA</td><td>NA</td><td>NA</td><td>NA</td><td>NA</td><td>NA</td></tr>\n",
              "\t<tr><td>2020-04-21</td><td>TOTAL/AVE</td><td>全国</td><td>全国</td><td>全国</td><td>127138033</td><td>11350</td><td>370</td><td>NA</td><td>NA</td><td>NA</td><td>NA</td><td>NA</td><td>NA</td><td>NA</td><td>NA</td></tr>\n",
              "</tbody>\n",
              "</table>\n"
            ]
          },
          "metadata": {
            "tags": []
          }
        },
        {
          "output_type": "display_data",
          "data": {
            "text/plain": [
              "      date                   code         prefecture    prefecture_short\n",
              " Min.   :2020-04-21   TOTAL/AVE:  455   全国   :  455   全国   :  455   \n",
              " 1st Qu.:2020-08-13   01       :  453   北海道 :  453   北海道 :  453   \n",
              " Median :2020-12-04   02       :  453   青森県 :  453   青森   :  453   \n",
              " Mean   :2020-12-04   03       :  453   岩手県 :  453   岩手   :  453   \n",
              " 3rd Qu.:2021-03-27   04       :  453   宮城県 :  453   宮城   :  453   \n",
              " Max.   :2021-07-19   05       :  453   秋田県 :  453   秋田   :  453   \n",
              "                      (Other)  :19026   (Other):19026   (Other):19026   \n",
              "          block        population         sum_patients       new_patients    \n",
              " 九州・沖縄  :3624   Min.   :   561175   Min.   :     0.0   Min.   :-989.00  \n",
              " 北海道・東北:3171   1st Qu.:  1095903   1st Qu.:   195.0   1st Qu.:   0.00  \n",
              " 関東        :3171   Median :  1769880   Median :   931.5   Median :   5.00  \n",
              " 甲信越・北陸:2718   Mean   :  5308624   Mean   : 11801.0   Mean   :  76.08  \n",
              " 近畿        :2718   3rd Qu.:  2921436   3rd Qu.:  4153.8   3rd Qu.:  28.00  \n",
              " 中国        :2265   Max.   :127138033   Max.   :840657.0   Max.   :7844.00  \n",
              " (Other)     :4079                                          NA's   :47       \n",
              "  patients_ma7         status1          status2           status_all     \n",
              " Min.   : -94.286   Min.   :     0   Min.   :     0.0   Min.   :      1  \n",
              " 1st Qu.:   0.714   1st Qu.:  1364   1st Qu.:    27.5   1st Qu.:   1567  \n",
              " Median :   6.143   Median :  4735   Median :  1537.0   Median :   7553  \n",
              " Mean   :  76.103   Mean   : 15853   Mean   :  9710.3   Mean   :  25564  \n",
              " 3rd Qu.:  29.429   3rd Qu.:  9994   3rd Qu.:  6237.0   3rd Qu.:  16148  \n",
              " Max.   :6369.143   Max.   :739786   Max.   :670809.0   Max.   :1329598  \n",
              " NA's   :335        NA's   :17075    NA's   :17075      NA's   :17075    \n",
              " total_status1      total_status2      total_status_all   cum_vaccinations  \n",
              " Min.   :       1   Min.   :       0   Min.   :       1   Min.   :       0  \n",
              " 1st Qu.:   17258   1st Qu.:     210   1st Qu.:   18119   1st Qu.:   16550  \n",
              " Median :  120621   Median :   18188   Median :  144188   Median :  134277  \n",
              " Mean   :  522521   Mean   :  216579   Mean   :  739100   Mean   :  713536  \n",
              " 3rd Qu.:  336400   3rd Qu.:  136475   3rd Qu.:  476432   3rd Qu.:  460122  \n",
              " Max.   :37111110   Max.   :22849539   Max.   :59960649   Max.   :59446434  \n",
              " NA's   :17075      NA's   :17075      NA's   :17075      NA's   :17075     "
            ]
          },
          "metadata": {
            "tags": []
          }
        }
      ]
    },
    {
      "cell_type": "markdown",
      "metadata": {
        "id": "C_KKK5h0KLmk"
      },
      "source": [
        "### 7.4. このNA値は何か"
      ]
    },
    {
      "cell_type": "markdown",
      "metadata": {
        "id": "ijoxKW66F1sC"
      },
      "source": [
        "この期間に絞っても、NA（Not Available）値がまだ残っています。これは、データが欠けていた部分です。\n",
        "もともとがJSON、取り込んだ後も縦持ち形式だったので、気づきにくいですよね。でも、横持ちに変換したときに、気になった方もいたはずです。\n",
        "\n",
        "これが、当該の県ではその日に接種がなかった（ない場合はNDJSONのデータにない）、ということなら、status1、status2、status_allは0に置き換えてよいわけです。累計のカラムは、直前の値のある日を引き継ぐ、ということになります。\n"
      ]
    },
    {
      "cell_type": "code",
      "metadata": {
        "id": "8gS1NIcEFUbw",
        "colab": {
          "base_uri": "https://localhost:8080/",
          "height": 1000
        },
        "outputId": "bbde4a03-4d64-45c1-c2af-0c9e007b28d6"
      },
      "source": [
        "# 全カラムのデータが揃っていない行だけを抽出する。\n",
        "rows_w_na <- !complete.cases(joined_data)\n",
        "joined_data[rows_w_na, ]"
      ],
      "execution_count": null,
      "outputs": [
        {
          "output_type": "display_data",
          "data": {
            "text/plain": [
              "      date       code      prefecture prefecture_short block        population\n",
              "1     2021-04-11 01        北海道     北海道           北海道・東北 5267762   \n",
              "2     2021-04-10 01        北海道     北海道           北海道・東北 5267762   \n",
              "3     2021-04-09 01        北海道     北海道           北海道・東北 5267762   \n",
              "4     2021-04-08 01        北海道     北海道           北海道・東北 5267762   \n",
              "5     2021-04-07 01        北海道     北海道           北海道・東北 5267762   \n",
              "6     2021-04-06 01        北海道     北海道           北海道・東北 5267762   \n",
              "7     2021-04-05 01        北海道     北海道           北海道・東北 5267762   \n",
              "8     2021-04-04 01        北海道     北海道           北海道・東北 5267762   \n",
              "9     2021-04-03 01        北海道     北海道           北海道・東北 5267762   \n",
              "10    2021-04-02 01        北海道     北海道           北海道・東北 5267762   \n",
              "11    2021-04-01 01        北海道     北海道           北海道・東北 5267762   \n",
              "12    2021-03-31 01        北海道     北海道           北海道・東北 5267762   \n",
              "13    2021-03-30 01        北海道     北海道           北海道・東北 5267762   \n",
              "14    2021-03-29 01        北海道     北海道           北海道・東北 5267762   \n",
              "15    2021-03-28 01        北海道     北海道           北海道・東北 5267762   \n",
              "16    2021-03-27 01        北海道     北海道           北海道・東北 5267762   \n",
              "17    2021-03-26 01        北海道     北海道           北海道・東北 5267762   \n",
              "18    2021-03-25 01        北海道     北海道           北海道・東北 5267762   \n",
              "19    2021-03-24 01        北海道     北海道           北海道・東北 5267762   \n",
              "20    2021-03-23 01        北海道     北海道           北海道・東北 5267762   \n",
              "21    2021-03-22 01        北海道     北海道           北海道・東北 5267762   \n",
              "22    2021-03-21 01        北海道     北海道           北海道・東北 5267762   \n",
              "23    2021-03-20 01        北海道     北海道           北海道・東北 5267762   \n",
              "24    2021-03-19 01        北海道     北海道           北海道・東北 5267762   \n",
              "25    2021-03-18 01        北海道     北海道           北海道・東北 5267762   \n",
              "26    2021-03-17 01        北海道     北海道           北海道・東北 5267762   \n",
              "27    2021-03-16 01        北海道     北海道           北海道・東北 5267762   \n",
              "28    2021-03-15 01        北海道     北海道           北海道・東北 5267762   \n",
              "29    2021-03-14 01        北海道     北海道           北海道・東北 5267762   \n",
              "30    2021-03-13 01        北海道     北海道           北海道・東北 5267762   \n",
              "⋮     ⋮          ⋮         ⋮          ⋮                ⋮            ⋮         \n",
              "17046 2020-05-20 TOTAL/AVE 全国       全国             全国         127138033 \n",
              "17047 2020-05-19 TOTAL/AVE 全国       全国             全国         127138033 \n",
              "17048 2020-05-18 TOTAL/AVE 全国       全国             全国         127138033 \n",
              "17049 2020-05-17 TOTAL/AVE 全国       全国             全国         127138033 \n",
              "17050 2020-05-16 TOTAL/AVE 全国       全国             全国         127138033 \n",
              "17051 2020-05-15 TOTAL/AVE 全国       全国             全国         127138033 \n",
              "17052 2020-05-14 TOTAL/AVE 全国       全国             全国         127138033 \n",
              "17053 2020-05-13 TOTAL/AVE 全国       全国             全国         127138033 \n",
              "17054 2020-05-12 TOTAL/AVE 全国       全国             全国         127138033 \n",
              "17055 2020-05-11 TOTAL/AVE 全国       全国             全国         127138033 \n",
              "17056 2020-05-10 TOTAL/AVE 全国       全国             全国         127138033 \n",
              "17057 2020-05-09 TOTAL/AVE 全国       全国             全国         127138033 \n",
              "17058 2020-05-08 TOTAL/AVE 全国       全国             全国         127138033 \n",
              "17059 2020-05-07 TOTAL/AVE 全国       全国             全国         127138033 \n",
              "17060 2020-05-06 TOTAL/AVE 全国       全国             全国         127138033 \n",
              "17061 2020-05-05 TOTAL/AVE 全国       全国             全国         127138033 \n",
              "17062 2020-05-04 TOTAL/AVE 全国       全国             全国         127138033 \n",
              "17063 2020-05-03 TOTAL/AVE 全国       全国             全国         127138033 \n",
              "17064 2020-05-02 TOTAL/AVE 全国       全国             全国         127138033 \n",
              "17065 2020-05-01 TOTAL/AVE 全国       全国             全国         127138033 \n",
              "17066 2020-04-30 TOTAL/AVE 全国       全国             全国         127138033 \n",
              "17067 2020-04-29 TOTAL/AVE 全国       全国             全国         127138033 \n",
              "17068 2020-04-28 TOTAL/AVE 全国       全国             全国         127138033 \n",
              "17069 2020-04-27 TOTAL/AVE 全国       全国             全国         127138033 \n",
              "17070 2020-04-26 TOTAL/AVE 全国       全国             全国         127138033 \n",
              "17071 2020-04-25 TOTAL/AVE 全国       全国             全国         127138033 \n",
              "17072 2020-04-24 TOTAL/AVE 全国       全国             全国         127138033 \n",
              "17073 2020-04-23 TOTAL/AVE 全国       全国             全国         127138033 \n",
              "17074 2020-04-22 TOTAL/AVE 全国       全国             全国         127138033 \n",
              "17075 2020-04-21 TOTAL/AVE 全国       全国             全国         127138033 \n",
              "      sum_patients new_patients patients_ma7 status1 status2 status_all\n",
              "1     21780         69          79.00000     NA      NA      NA        \n",
              "2     21711        116          76.71429     NA      NA      NA        \n",
              "3     21595         83          69.57143     NA      NA      NA        \n",
              "4     21512         79          65.85714     NA      NA      NA        \n",
              "5     21433         72          62.71429     NA      NA      NA        \n",
              "6     21361         63          63.28571     NA      NA      NA        \n",
              "7     21298         71          62.28571     NA      NA      NA        \n",
              "8     21227         53          58.71429     NA      NA      NA        \n",
              "9     21174         66          61.71429     NA      NA      NA        \n",
              "10    21108         57          61.14286     NA      NA      NA        \n",
              "11    21051         57          62.85714     NA      NA      NA        \n",
              "12    20994         76          64.28571     NA      NA      NA        \n",
              "13    20918         56          65.00000     NA      NA      NA        \n",
              "14    20862         46          63.00000     NA      NA      NA        \n",
              "15    20816         74          63.57143     NA      NA      NA        \n",
              "16    20742         62          61.57143     NA      NA      NA        \n",
              "17    20680         69          60.00000     NA      NA      NA        \n",
              "18    20611         67          61.28571     NA      NA      NA        \n",
              "19    20544         81          65.42857     NA      NA      NA        \n",
              "20    20463         42          64.28571     NA      NA      NA        \n",
              "21    20421         50          68.14286     NA      NA      NA        \n",
              "22    20371         60          68.71429     NA      NA      NA        \n",
              "23    20311         51          66.57143     NA      NA      NA        \n",
              "24    20260         78          67.57143     NA      NA      NA        \n",
              "25    20182         96          64.00000     NA      NA      NA        \n",
              "26    20086         73          60.42857     NA      NA      NA        \n",
              "27    20013         69          59.28571     NA      NA      NA        \n",
              "28    19944         54          58.42857     NA      NA      NA        \n",
              "29    19890         45          59.71429     NA      NA      NA        \n",
              "30    19845         58          65.28571     NA      NA      NA        \n",
              "⋮     ⋮            ⋮            ⋮            ⋮       ⋮       ⋮         \n",
              "17046 16251         37           47.71429    NA      NA      NA        \n",
              "17047 16212         31           50.42857    NA      NA      NA        \n",
              "17048 16192         30           57.14286    NA      NA      NA        \n",
              "17049 16132         28           60.00000    NA      NA      NA        \n",
              "17050 16112         57           65.71429    NA      NA      NA        \n",
              "17051 16066         52           74.57143    NA      NA      NA        \n",
              "17052 16022         99           78.57143    NA      NA      NA        \n",
              "17053 15908         56           77.71429    NA      NA      NA        \n",
              "17054 15854         78           85.14286    NA      NA      NA        \n",
              "17055 15706         50           91.42857    NA      NA      NA        \n",
              "17056 15630         68          109.00000    NA      NA      NA        \n",
              "17057 15581        119          127.85714    NA      NA      NA        \n",
              "17058 15462         80          152.14286    NA      NA      NA        \n",
              "17059 15382         93          178.00000    NA      NA      NA        \n",
              "17060 15300        108          191.42857    NA      NA      NA        \n",
              "17061 15192        122          206.57143    NA      NA      NA        \n",
              "17062 15069        173          228.00000    NA      NA      NA        \n",
              "17063 14895        200          229.42857    NA      NA      NA        \n",
              "17064 14677        289          229.28571    NA      NA      NA        \n",
              "17065 14383        261          237.42857    NA      NA      NA        \n",
              "17066 14120        187          260.57143    NA      NA      NA        \n",
              "17067 13929        214          295.85714    NA      NA      NA        \n",
              "17068 13695        272          325.28571    NA      NA      NA        \n",
              "17069 13422        183          339.28571    NA      NA      NA        \n",
              "17070 13232        199                 NA    NA      NA      NA        \n",
              "17071 13031        346                 NA    NA      NA      NA        \n",
              "17072 12681        423                 NA    NA      NA      NA        \n",
              "17073 12240        434                 NA    NA      NA      NA        \n",
              "17074 11772        420                 NA    NA      NA      NA        \n",
              "17075 11350        370                 NA    NA      NA      NA        \n",
              "      total_status1 total_status2 total_status_all cum_vaccinations\n",
              "1     NA            NA            NA               NA              \n",
              "2     NA            NA            NA               NA              \n",
              "3     NA            NA            NA               NA              \n",
              "4     NA            NA            NA               NA              \n",
              "5     NA            NA            NA               NA              \n",
              "6     NA            NA            NA               NA              \n",
              "7     NA            NA            NA               NA              \n",
              "8     NA            NA            NA               NA              \n",
              "9     NA            NA            NA               NA              \n",
              "10    NA            NA            NA               NA              \n",
              "11    NA            NA            NA               NA              \n",
              "12    NA            NA            NA               NA              \n",
              "13    NA            NA            NA               NA              \n",
              "14    NA            NA            NA               NA              \n",
              "15    NA            NA            NA               NA              \n",
              "16    NA            NA            NA               NA              \n",
              "17    NA            NA            NA               NA              \n",
              "18    NA            NA            NA               NA              \n",
              "19    NA            NA            NA               NA              \n",
              "20    NA            NA            NA               NA              \n",
              "21    NA            NA            NA               NA              \n",
              "22    NA            NA            NA               NA              \n",
              "23    NA            NA            NA               NA              \n",
              "24    NA            NA            NA               NA              \n",
              "25    NA            NA            NA               NA              \n",
              "26    NA            NA            NA               NA              \n",
              "27    NA            NA            NA               NA              \n",
              "28    NA            NA            NA               NA              \n",
              "29    NA            NA            NA               NA              \n",
              "30    NA            NA            NA               NA              \n",
              "⋮     ⋮             ⋮             ⋮                ⋮               \n",
              "17046 NA            NA            NA               NA              \n",
              "17047 NA            NA            NA               NA              \n",
              "17048 NA            NA            NA               NA              \n",
              "17049 NA            NA            NA               NA              \n",
              "17050 NA            NA            NA               NA              \n",
              "17051 NA            NA            NA               NA              \n",
              "17052 NA            NA            NA               NA              \n",
              "17053 NA            NA            NA               NA              \n",
              "17054 NA            NA            NA               NA              \n",
              "17055 NA            NA            NA               NA              \n",
              "17056 NA            NA            NA               NA              \n",
              "17057 NA            NA            NA               NA              \n",
              "17058 NA            NA            NA               NA              \n",
              "17059 NA            NA            NA               NA              \n",
              "17060 NA            NA            NA               NA              \n",
              "17061 NA            NA            NA               NA              \n",
              "17062 NA            NA            NA               NA              \n",
              "17063 NA            NA            NA               NA              \n",
              "17064 NA            NA            NA               NA              \n",
              "17065 NA            NA            NA               NA              \n",
              "17066 NA            NA            NA               NA              \n",
              "17067 NA            NA            NA               NA              \n",
              "17068 NA            NA            NA               NA              \n",
              "17069 NA            NA            NA               NA              \n",
              "17070 NA            NA            NA               NA              \n",
              "17071 NA            NA            NA               NA              \n",
              "17072 NA            NA            NA               NA              \n",
              "17073 NA            NA            NA               NA              \n",
              "17074 NA            NA            NA               NA              \n",
              "17075 NA            NA            NA               NA              "
            ],
            "text/latex": "A tibble: 17075 × 16\n\\begin{tabular}{llllllllllllllll}\n date & code & prefecture & prefecture\\_short & block & population & sum\\_patients & new\\_patients & patients\\_ma7 & status1 & status2 & status\\_all & total\\_status1 & total\\_status2 & total\\_status\\_all & cum\\_vaccinations\\\\\n <date> & <fct> & <fct> & <fct> & <fct> & <int> & <int> & <int> & <dbl> & <int> & <int> & <int> & <int> & <int> & <int> & <int>\\\\\n\\hline\n\t 2021-04-11 & 01 & 北海道 & 北海道 & 北海道・東北 & 5267762 & 21780 &  69 & 79.00000 & NA & NA & NA & NA & NA & NA & NA\\\\\n\t 2021-04-10 & 01 & 北海道 & 北海道 & 北海道・東北 & 5267762 & 21711 & 116 & 76.71429 & NA & NA & NA & NA & NA & NA & NA\\\\\n\t 2021-04-09 & 01 & 北海道 & 北海道 & 北海道・東北 & 5267762 & 21595 &  83 & 69.57143 & NA & NA & NA & NA & NA & NA & NA\\\\\n\t 2021-04-08 & 01 & 北海道 & 北海道 & 北海道・東北 & 5267762 & 21512 &  79 & 65.85714 & NA & NA & NA & NA & NA & NA & NA\\\\\n\t 2021-04-07 & 01 & 北海道 & 北海道 & 北海道・東北 & 5267762 & 21433 &  72 & 62.71429 & NA & NA & NA & NA & NA & NA & NA\\\\\n\t 2021-04-06 & 01 & 北海道 & 北海道 & 北海道・東北 & 5267762 & 21361 &  63 & 63.28571 & NA & NA & NA & NA & NA & NA & NA\\\\\n\t 2021-04-05 & 01 & 北海道 & 北海道 & 北海道・東北 & 5267762 & 21298 &  71 & 62.28571 & NA & NA & NA & NA & NA & NA & NA\\\\\n\t 2021-04-04 & 01 & 北海道 & 北海道 & 北海道・東北 & 5267762 & 21227 &  53 & 58.71429 & NA & NA & NA & NA & NA & NA & NA\\\\\n\t 2021-04-03 & 01 & 北海道 & 北海道 & 北海道・東北 & 5267762 & 21174 &  66 & 61.71429 & NA & NA & NA & NA & NA & NA & NA\\\\\n\t 2021-04-02 & 01 & 北海道 & 北海道 & 北海道・東北 & 5267762 & 21108 &  57 & 61.14286 & NA & NA & NA & NA & NA & NA & NA\\\\\n\t 2021-04-01 & 01 & 北海道 & 北海道 & 北海道・東北 & 5267762 & 21051 &  57 & 62.85714 & NA & NA & NA & NA & NA & NA & NA\\\\\n\t 2021-03-31 & 01 & 北海道 & 北海道 & 北海道・東北 & 5267762 & 20994 &  76 & 64.28571 & NA & NA & NA & NA & NA & NA & NA\\\\\n\t 2021-03-30 & 01 & 北海道 & 北海道 & 北海道・東北 & 5267762 & 20918 &  56 & 65.00000 & NA & NA & NA & NA & NA & NA & NA\\\\\n\t 2021-03-29 & 01 & 北海道 & 北海道 & 北海道・東北 & 5267762 & 20862 &  46 & 63.00000 & NA & NA & NA & NA & NA & NA & NA\\\\\n\t 2021-03-28 & 01 & 北海道 & 北海道 & 北海道・東北 & 5267762 & 20816 &  74 & 63.57143 & NA & NA & NA & NA & NA & NA & NA\\\\\n\t 2021-03-27 & 01 & 北海道 & 北海道 & 北海道・東北 & 5267762 & 20742 &  62 & 61.57143 & NA & NA & NA & NA & NA & NA & NA\\\\\n\t 2021-03-26 & 01 & 北海道 & 北海道 & 北海道・東北 & 5267762 & 20680 &  69 & 60.00000 & NA & NA & NA & NA & NA & NA & NA\\\\\n\t 2021-03-25 & 01 & 北海道 & 北海道 & 北海道・東北 & 5267762 & 20611 &  67 & 61.28571 & NA & NA & NA & NA & NA & NA & NA\\\\\n\t 2021-03-24 & 01 & 北海道 & 北海道 & 北海道・東北 & 5267762 & 20544 &  81 & 65.42857 & NA & NA & NA & NA & NA & NA & NA\\\\\n\t 2021-03-23 & 01 & 北海道 & 北海道 & 北海道・東北 & 5267762 & 20463 &  42 & 64.28571 & NA & NA & NA & NA & NA & NA & NA\\\\\n\t 2021-03-22 & 01 & 北海道 & 北海道 & 北海道・東北 & 5267762 & 20421 &  50 & 68.14286 & NA & NA & NA & NA & NA & NA & NA\\\\\n\t 2021-03-21 & 01 & 北海道 & 北海道 & 北海道・東北 & 5267762 & 20371 &  60 & 68.71429 & NA & NA & NA & NA & NA & NA & NA\\\\\n\t 2021-03-20 & 01 & 北海道 & 北海道 & 北海道・東北 & 5267762 & 20311 &  51 & 66.57143 & NA & NA & NA & NA & NA & NA & NA\\\\\n\t 2021-03-19 & 01 & 北海道 & 北海道 & 北海道・東北 & 5267762 & 20260 &  78 & 67.57143 & NA & NA & NA & NA & NA & NA & NA\\\\\n\t 2021-03-18 & 01 & 北海道 & 北海道 & 北海道・東北 & 5267762 & 20182 &  96 & 64.00000 & NA & NA & NA & NA & NA & NA & NA\\\\\n\t 2021-03-17 & 01 & 北海道 & 北海道 & 北海道・東北 & 5267762 & 20086 &  73 & 60.42857 & NA & NA & NA & NA & NA & NA & NA\\\\\n\t 2021-03-16 & 01 & 北海道 & 北海道 & 北海道・東北 & 5267762 & 20013 &  69 & 59.28571 & NA & NA & NA & NA & NA & NA & NA\\\\\n\t 2021-03-15 & 01 & 北海道 & 北海道 & 北海道・東北 & 5267762 & 19944 &  54 & 58.42857 & NA & NA & NA & NA & NA & NA & NA\\\\\n\t 2021-03-14 & 01 & 北海道 & 北海道 & 北海道・東北 & 5267762 & 19890 &  45 & 59.71429 & NA & NA & NA & NA & NA & NA & NA\\\\\n\t 2021-03-13 & 01 & 北海道 & 北海道 & 北海道・東北 & 5267762 & 19845 &  58 & 65.28571 & NA & NA & NA & NA & NA & NA & NA\\\\\n\t ⋮ & ⋮ & ⋮ & ⋮ & ⋮ & ⋮ & ⋮ & ⋮ & ⋮ & ⋮ & ⋮ & ⋮ & ⋮ & ⋮ & ⋮ & ⋮\\\\\n\t 2020-05-20 & TOTAL/AVE & 全国 & 全国 & 全国 & 127138033 & 16251 &  37 &  47.71429 & NA & NA & NA & NA & NA & NA & NA\\\\\n\t 2020-05-19 & TOTAL/AVE & 全国 & 全国 & 全国 & 127138033 & 16212 &  31 &  50.42857 & NA & NA & NA & NA & NA & NA & NA\\\\\n\t 2020-05-18 & TOTAL/AVE & 全国 & 全国 & 全国 & 127138033 & 16192 &  30 &  57.14286 & NA & NA & NA & NA & NA & NA & NA\\\\\n\t 2020-05-17 & TOTAL/AVE & 全国 & 全国 & 全国 & 127138033 & 16132 &  28 &  60.00000 & NA & NA & NA & NA & NA & NA & NA\\\\\n\t 2020-05-16 & TOTAL/AVE & 全国 & 全国 & 全国 & 127138033 & 16112 &  57 &  65.71429 & NA & NA & NA & NA & NA & NA & NA\\\\\n\t 2020-05-15 & TOTAL/AVE & 全国 & 全国 & 全国 & 127138033 & 16066 &  52 &  74.57143 & NA & NA & NA & NA & NA & NA & NA\\\\\n\t 2020-05-14 & TOTAL/AVE & 全国 & 全国 & 全国 & 127138033 & 16022 &  99 &  78.57143 & NA & NA & NA & NA & NA & NA & NA\\\\\n\t 2020-05-13 & TOTAL/AVE & 全国 & 全国 & 全国 & 127138033 & 15908 &  56 &  77.71429 & NA & NA & NA & NA & NA & NA & NA\\\\\n\t 2020-05-12 & TOTAL/AVE & 全国 & 全国 & 全国 & 127138033 & 15854 &  78 &  85.14286 & NA & NA & NA & NA & NA & NA & NA\\\\\n\t 2020-05-11 & TOTAL/AVE & 全国 & 全国 & 全国 & 127138033 & 15706 &  50 &  91.42857 & NA & NA & NA & NA & NA & NA & NA\\\\\n\t 2020-05-10 & TOTAL/AVE & 全国 & 全国 & 全国 & 127138033 & 15630 &  68 & 109.00000 & NA & NA & NA & NA & NA & NA & NA\\\\\n\t 2020-05-09 & TOTAL/AVE & 全国 & 全国 & 全国 & 127138033 & 15581 & 119 & 127.85714 & NA & NA & NA & NA & NA & NA & NA\\\\\n\t 2020-05-08 & TOTAL/AVE & 全国 & 全国 & 全国 & 127138033 & 15462 &  80 & 152.14286 & NA & NA & NA & NA & NA & NA & NA\\\\\n\t 2020-05-07 & TOTAL/AVE & 全国 & 全国 & 全国 & 127138033 & 15382 &  93 & 178.00000 & NA & NA & NA & NA & NA & NA & NA\\\\\n\t 2020-05-06 & TOTAL/AVE & 全国 & 全国 & 全国 & 127138033 & 15300 & 108 & 191.42857 & NA & NA & NA & NA & NA & NA & NA\\\\\n\t 2020-05-05 & TOTAL/AVE & 全国 & 全国 & 全国 & 127138033 & 15192 & 122 & 206.57143 & NA & NA & NA & NA & NA & NA & NA\\\\\n\t 2020-05-04 & TOTAL/AVE & 全国 & 全国 & 全国 & 127138033 & 15069 & 173 & 228.00000 & NA & NA & NA & NA & NA & NA & NA\\\\\n\t 2020-05-03 & TOTAL/AVE & 全国 & 全国 & 全国 & 127138033 & 14895 & 200 & 229.42857 & NA & NA & NA & NA & NA & NA & NA\\\\\n\t 2020-05-02 & TOTAL/AVE & 全国 & 全国 & 全国 & 127138033 & 14677 & 289 & 229.28571 & NA & NA & NA & NA & NA & NA & NA\\\\\n\t 2020-05-01 & TOTAL/AVE & 全国 & 全国 & 全国 & 127138033 & 14383 & 261 & 237.42857 & NA & NA & NA & NA & NA & NA & NA\\\\\n\t 2020-04-30 & TOTAL/AVE & 全国 & 全国 & 全国 & 127138033 & 14120 & 187 & 260.57143 & NA & NA & NA & NA & NA & NA & NA\\\\\n\t 2020-04-29 & TOTAL/AVE & 全国 & 全国 & 全国 & 127138033 & 13929 & 214 & 295.85714 & NA & NA & NA & NA & NA & NA & NA\\\\\n\t 2020-04-28 & TOTAL/AVE & 全国 & 全国 & 全国 & 127138033 & 13695 & 272 & 325.28571 & NA & NA & NA & NA & NA & NA & NA\\\\\n\t 2020-04-27 & TOTAL/AVE & 全国 & 全国 & 全国 & 127138033 & 13422 & 183 & 339.28571 & NA & NA & NA & NA & NA & NA & NA\\\\\n\t 2020-04-26 & TOTAL/AVE & 全国 & 全国 & 全国 & 127138033 & 13232 & 199 &        NA & NA & NA & NA & NA & NA & NA & NA\\\\\n\t 2020-04-25 & TOTAL/AVE & 全国 & 全国 & 全国 & 127138033 & 13031 & 346 &        NA & NA & NA & NA & NA & NA & NA & NA\\\\\n\t 2020-04-24 & TOTAL/AVE & 全国 & 全国 & 全国 & 127138033 & 12681 & 423 &        NA & NA & NA & NA & NA & NA & NA & NA\\\\\n\t 2020-04-23 & TOTAL/AVE & 全国 & 全国 & 全国 & 127138033 & 12240 & 434 &        NA & NA & NA & NA & NA & NA & NA & NA\\\\\n\t 2020-04-22 & TOTAL/AVE & 全国 & 全国 & 全国 & 127138033 & 11772 & 420 &        NA & NA & NA & NA & NA & NA & NA & NA\\\\\n\t 2020-04-21 & TOTAL/AVE & 全国 & 全国 & 全国 & 127138033 & 11350 & 370 &        NA & NA & NA & NA & NA & NA & NA & NA\\\\\n\\end{tabular}\n",
            "text/markdown": "\nA tibble: 17075 × 16\n\n| date &lt;date&gt; | code &lt;fct&gt; | prefecture &lt;fct&gt; | prefecture_short &lt;fct&gt; | block &lt;fct&gt; | population &lt;int&gt; | sum_patients &lt;int&gt; | new_patients &lt;int&gt; | patients_ma7 &lt;dbl&gt; | status1 &lt;int&gt; | status2 &lt;int&gt; | status_all &lt;int&gt; | total_status1 &lt;int&gt; | total_status2 &lt;int&gt; | total_status_all &lt;int&gt; | cum_vaccinations &lt;int&gt; |\n|---|---|---|---|---|---|---|---|---|---|---|---|---|---|---|---|\n| 2021-04-11 | 01 | 北海道 | 北海道 | 北海道・東北 | 5267762 | 21780 |  69 | 79.00000 | NA | NA | NA | NA | NA | NA | NA |\n| 2021-04-10 | 01 | 北海道 | 北海道 | 北海道・東北 | 5267762 | 21711 | 116 | 76.71429 | NA | NA | NA | NA | NA | NA | NA |\n| 2021-04-09 | 01 | 北海道 | 北海道 | 北海道・東北 | 5267762 | 21595 |  83 | 69.57143 | NA | NA | NA | NA | NA | NA | NA |\n| 2021-04-08 | 01 | 北海道 | 北海道 | 北海道・東北 | 5267762 | 21512 |  79 | 65.85714 | NA | NA | NA | NA | NA | NA | NA |\n| 2021-04-07 | 01 | 北海道 | 北海道 | 北海道・東北 | 5267762 | 21433 |  72 | 62.71429 | NA | NA | NA | NA | NA | NA | NA |\n| 2021-04-06 | 01 | 北海道 | 北海道 | 北海道・東北 | 5267762 | 21361 |  63 | 63.28571 | NA | NA | NA | NA | NA | NA | NA |\n| 2021-04-05 | 01 | 北海道 | 北海道 | 北海道・東北 | 5267762 | 21298 |  71 | 62.28571 | NA | NA | NA | NA | NA | NA | NA |\n| 2021-04-04 | 01 | 北海道 | 北海道 | 北海道・東北 | 5267762 | 21227 |  53 | 58.71429 | NA | NA | NA | NA | NA | NA | NA |\n| 2021-04-03 | 01 | 北海道 | 北海道 | 北海道・東北 | 5267762 | 21174 |  66 | 61.71429 | NA | NA | NA | NA | NA | NA | NA |\n| 2021-04-02 | 01 | 北海道 | 北海道 | 北海道・東北 | 5267762 | 21108 |  57 | 61.14286 | NA | NA | NA | NA | NA | NA | NA |\n| 2021-04-01 | 01 | 北海道 | 北海道 | 北海道・東北 | 5267762 | 21051 |  57 | 62.85714 | NA | NA | NA | NA | NA | NA | NA |\n| 2021-03-31 | 01 | 北海道 | 北海道 | 北海道・東北 | 5267762 | 20994 |  76 | 64.28571 | NA | NA | NA | NA | NA | NA | NA |\n| 2021-03-30 | 01 | 北海道 | 北海道 | 北海道・東北 | 5267762 | 20918 |  56 | 65.00000 | NA | NA | NA | NA | NA | NA | NA |\n| 2021-03-29 | 01 | 北海道 | 北海道 | 北海道・東北 | 5267762 | 20862 |  46 | 63.00000 | NA | NA | NA | NA | NA | NA | NA |\n| 2021-03-28 | 01 | 北海道 | 北海道 | 北海道・東北 | 5267762 | 20816 |  74 | 63.57143 | NA | NA | NA | NA | NA | NA | NA |\n| 2021-03-27 | 01 | 北海道 | 北海道 | 北海道・東北 | 5267762 | 20742 |  62 | 61.57143 | NA | NA | NA | NA | NA | NA | NA |\n| 2021-03-26 | 01 | 北海道 | 北海道 | 北海道・東北 | 5267762 | 20680 |  69 | 60.00000 | NA | NA | NA | NA | NA | NA | NA |\n| 2021-03-25 | 01 | 北海道 | 北海道 | 北海道・東北 | 5267762 | 20611 |  67 | 61.28571 | NA | NA | NA | NA | NA | NA | NA |\n| 2021-03-24 | 01 | 北海道 | 北海道 | 北海道・東北 | 5267762 | 20544 |  81 | 65.42857 | NA | NA | NA | NA | NA | NA | NA |\n| 2021-03-23 | 01 | 北海道 | 北海道 | 北海道・東北 | 5267762 | 20463 |  42 | 64.28571 | NA | NA | NA | NA | NA | NA | NA |\n| 2021-03-22 | 01 | 北海道 | 北海道 | 北海道・東北 | 5267762 | 20421 |  50 | 68.14286 | NA | NA | NA | NA | NA | NA | NA |\n| 2021-03-21 | 01 | 北海道 | 北海道 | 北海道・東北 | 5267762 | 20371 |  60 | 68.71429 | NA | NA | NA | NA | NA | NA | NA |\n| 2021-03-20 | 01 | 北海道 | 北海道 | 北海道・東北 | 5267762 | 20311 |  51 | 66.57143 | NA | NA | NA | NA | NA | NA | NA |\n| 2021-03-19 | 01 | 北海道 | 北海道 | 北海道・東北 | 5267762 | 20260 |  78 | 67.57143 | NA | NA | NA | NA | NA | NA | NA |\n| 2021-03-18 | 01 | 北海道 | 北海道 | 北海道・東北 | 5267762 | 20182 |  96 | 64.00000 | NA | NA | NA | NA | NA | NA | NA |\n| 2021-03-17 | 01 | 北海道 | 北海道 | 北海道・東北 | 5267762 | 20086 |  73 | 60.42857 | NA | NA | NA | NA | NA | NA | NA |\n| 2021-03-16 | 01 | 北海道 | 北海道 | 北海道・東北 | 5267762 | 20013 |  69 | 59.28571 | NA | NA | NA | NA | NA | NA | NA |\n| 2021-03-15 | 01 | 北海道 | 北海道 | 北海道・東北 | 5267762 | 19944 |  54 | 58.42857 | NA | NA | NA | NA | NA | NA | NA |\n| 2021-03-14 | 01 | 北海道 | 北海道 | 北海道・東北 | 5267762 | 19890 |  45 | 59.71429 | NA | NA | NA | NA | NA | NA | NA |\n| 2021-03-13 | 01 | 北海道 | 北海道 | 北海道・東北 | 5267762 | 19845 |  58 | 65.28571 | NA | NA | NA | NA | NA | NA | NA |\n| ⋮ | ⋮ | ⋮ | ⋮ | ⋮ | ⋮ | ⋮ | ⋮ | ⋮ | ⋮ | ⋮ | ⋮ | ⋮ | ⋮ | ⋮ | ⋮ |\n| 2020-05-20 | TOTAL/AVE | 全国 | 全国 | 全国 | 127138033 | 16251 |  37 |  47.71429 | NA | NA | NA | NA | NA | NA | NA |\n| 2020-05-19 | TOTAL/AVE | 全国 | 全国 | 全国 | 127138033 | 16212 |  31 |  50.42857 | NA | NA | NA | NA | NA | NA | NA |\n| 2020-05-18 | TOTAL/AVE | 全国 | 全国 | 全国 | 127138033 | 16192 |  30 |  57.14286 | NA | NA | NA | NA | NA | NA | NA |\n| 2020-05-17 | TOTAL/AVE | 全国 | 全国 | 全国 | 127138033 | 16132 |  28 |  60.00000 | NA | NA | NA | NA | NA | NA | NA |\n| 2020-05-16 | TOTAL/AVE | 全国 | 全国 | 全国 | 127138033 | 16112 |  57 |  65.71429 | NA | NA | NA | NA | NA | NA | NA |\n| 2020-05-15 | TOTAL/AVE | 全国 | 全国 | 全国 | 127138033 | 16066 |  52 |  74.57143 | NA | NA | NA | NA | NA | NA | NA |\n| 2020-05-14 | TOTAL/AVE | 全国 | 全国 | 全国 | 127138033 | 16022 |  99 |  78.57143 | NA | NA | NA | NA | NA | NA | NA |\n| 2020-05-13 | TOTAL/AVE | 全国 | 全国 | 全国 | 127138033 | 15908 |  56 |  77.71429 | NA | NA | NA | NA | NA | NA | NA |\n| 2020-05-12 | TOTAL/AVE | 全国 | 全国 | 全国 | 127138033 | 15854 |  78 |  85.14286 | NA | NA | NA | NA | NA | NA | NA |\n| 2020-05-11 | TOTAL/AVE | 全国 | 全国 | 全国 | 127138033 | 15706 |  50 |  91.42857 | NA | NA | NA | NA | NA | NA | NA |\n| 2020-05-10 | TOTAL/AVE | 全国 | 全国 | 全国 | 127138033 | 15630 |  68 | 109.00000 | NA | NA | NA | NA | NA | NA | NA |\n| 2020-05-09 | TOTAL/AVE | 全国 | 全国 | 全国 | 127138033 | 15581 | 119 | 127.85714 | NA | NA | NA | NA | NA | NA | NA |\n| 2020-05-08 | TOTAL/AVE | 全国 | 全国 | 全国 | 127138033 | 15462 |  80 | 152.14286 | NA | NA | NA | NA | NA | NA | NA |\n| 2020-05-07 | TOTAL/AVE | 全国 | 全国 | 全国 | 127138033 | 15382 |  93 | 178.00000 | NA | NA | NA | NA | NA | NA | NA |\n| 2020-05-06 | TOTAL/AVE | 全国 | 全国 | 全国 | 127138033 | 15300 | 108 | 191.42857 | NA | NA | NA | NA | NA | NA | NA |\n| 2020-05-05 | TOTAL/AVE | 全国 | 全国 | 全国 | 127138033 | 15192 | 122 | 206.57143 | NA | NA | NA | NA | NA | NA | NA |\n| 2020-05-04 | TOTAL/AVE | 全国 | 全国 | 全国 | 127138033 | 15069 | 173 | 228.00000 | NA | NA | NA | NA | NA | NA | NA |\n| 2020-05-03 | TOTAL/AVE | 全国 | 全国 | 全国 | 127138033 | 14895 | 200 | 229.42857 | NA | NA | NA | NA | NA | NA | NA |\n| 2020-05-02 | TOTAL/AVE | 全国 | 全国 | 全国 | 127138033 | 14677 | 289 | 229.28571 | NA | NA | NA | NA | NA | NA | NA |\n| 2020-05-01 | TOTAL/AVE | 全国 | 全国 | 全国 | 127138033 | 14383 | 261 | 237.42857 | NA | NA | NA | NA | NA | NA | NA |\n| 2020-04-30 | TOTAL/AVE | 全国 | 全国 | 全国 | 127138033 | 14120 | 187 | 260.57143 | NA | NA | NA | NA | NA | NA | NA |\n| 2020-04-29 | TOTAL/AVE | 全国 | 全国 | 全国 | 127138033 | 13929 | 214 | 295.85714 | NA | NA | NA | NA | NA | NA | NA |\n| 2020-04-28 | TOTAL/AVE | 全国 | 全国 | 全国 | 127138033 | 13695 | 272 | 325.28571 | NA | NA | NA | NA | NA | NA | NA |\n| 2020-04-27 | TOTAL/AVE | 全国 | 全国 | 全国 | 127138033 | 13422 | 183 | 339.28571 | NA | NA | NA | NA | NA | NA | NA |\n| 2020-04-26 | TOTAL/AVE | 全国 | 全国 | 全国 | 127138033 | 13232 | 199 |        NA | NA | NA | NA | NA | NA | NA | NA |\n| 2020-04-25 | TOTAL/AVE | 全国 | 全国 | 全国 | 127138033 | 13031 | 346 |        NA | NA | NA | NA | NA | NA | NA | NA |\n| 2020-04-24 | TOTAL/AVE | 全国 | 全国 | 全国 | 127138033 | 12681 | 423 |        NA | NA | NA | NA | NA | NA | NA | NA |\n| 2020-04-23 | TOTAL/AVE | 全国 | 全国 | 全国 | 127138033 | 12240 | 434 |        NA | NA | NA | NA | NA | NA | NA | NA |\n| 2020-04-22 | TOTAL/AVE | 全国 | 全国 | 全国 | 127138033 | 11772 | 420 |        NA | NA | NA | NA | NA | NA | NA | NA |\n| 2020-04-21 | TOTAL/AVE | 全国 | 全国 | 全国 | 127138033 | 11350 | 370 |        NA | NA | NA | NA | NA | NA | NA | NA |\n\n",
            "text/html": [
              "<table class=\"dataframe\">\n",
              "<caption>A tibble: 17075 × 16</caption>\n",
              "<thead>\n",
              "\t<tr><th scope=col>date</th><th scope=col>code</th><th scope=col>prefecture</th><th scope=col>prefecture_short</th><th scope=col>block</th><th scope=col>population</th><th scope=col>sum_patients</th><th scope=col>new_patients</th><th scope=col>patients_ma7</th><th scope=col>status1</th><th scope=col>status2</th><th scope=col>status_all</th><th scope=col>total_status1</th><th scope=col>total_status2</th><th scope=col>total_status_all</th><th scope=col>cum_vaccinations</th></tr>\n",
              "\t<tr><th scope=col>&lt;date&gt;</th><th scope=col>&lt;fct&gt;</th><th scope=col>&lt;fct&gt;</th><th scope=col>&lt;fct&gt;</th><th scope=col>&lt;fct&gt;</th><th scope=col>&lt;int&gt;</th><th scope=col>&lt;int&gt;</th><th scope=col>&lt;int&gt;</th><th scope=col>&lt;dbl&gt;</th><th scope=col>&lt;int&gt;</th><th scope=col>&lt;int&gt;</th><th scope=col>&lt;int&gt;</th><th scope=col>&lt;int&gt;</th><th scope=col>&lt;int&gt;</th><th scope=col>&lt;int&gt;</th><th scope=col>&lt;int&gt;</th></tr>\n",
              "</thead>\n",
              "<tbody>\n",
              "\t<tr><td>2021-04-11</td><td>01</td><td>北海道</td><td>北海道</td><td>北海道・東北</td><td>5267762</td><td>21780</td><td> 69</td><td>79.00000</td><td>NA</td><td>NA</td><td>NA</td><td>NA</td><td>NA</td><td>NA</td><td>NA</td></tr>\n",
              "\t<tr><td>2021-04-10</td><td>01</td><td>北海道</td><td>北海道</td><td>北海道・東北</td><td>5267762</td><td>21711</td><td>116</td><td>76.71429</td><td>NA</td><td>NA</td><td>NA</td><td>NA</td><td>NA</td><td>NA</td><td>NA</td></tr>\n",
              "\t<tr><td>2021-04-09</td><td>01</td><td>北海道</td><td>北海道</td><td>北海道・東北</td><td>5267762</td><td>21595</td><td> 83</td><td>69.57143</td><td>NA</td><td>NA</td><td>NA</td><td>NA</td><td>NA</td><td>NA</td><td>NA</td></tr>\n",
              "\t<tr><td>2021-04-08</td><td>01</td><td>北海道</td><td>北海道</td><td>北海道・東北</td><td>5267762</td><td>21512</td><td> 79</td><td>65.85714</td><td>NA</td><td>NA</td><td>NA</td><td>NA</td><td>NA</td><td>NA</td><td>NA</td></tr>\n",
              "\t<tr><td>2021-04-07</td><td>01</td><td>北海道</td><td>北海道</td><td>北海道・東北</td><td>5267762</td><td>21433</td><td> 72</td><td>62.71429</td><td>NA</td><td>NA</td><td>NA</td><td>NA</td><td>NA</td><td>NA</td><td>NA</td></tr>\n",
              "\t<tr><td>2021-04-06</td><td>01</td><td>北海道</td><td>北海道</td><td>北海道・東北</td><td>5267762</td><td>21361</td><td> 63</td><td>63.28571</td><td>NA</td><td>NA</td><td>NA</td><td>NA</td><td>NA</td><td>NA</td><td>NA</td></tr>\n",
              "\t<tr><td>2021-04-05</td><td>01</td><td>北海道</td><td>北海道</td><td>北海道・東北</td><td>5267762</td><td>21298</td><td> 71</td><td>62.28571</td><td>NA</td><td>NA</td><td>NA</td><td>NA</td><td>NA</td><td>NA</td><td>NA</td></tr>\n",
              "\t<tr><td>2021-04-04</td><td>01</td><td>北海道</td><td>北海道</td><td>北海道・東北</td><td>5267762</td><td>21227</td><td> 53</td><td>58.71429</td><td>NA</td><td>NA</td><td>NA</td><td>NA</td><td>NA</td><td>NA</td><td>NA</td></tr>\n",
              "\t<tr><td>2021-04-03</td><td>01</td><td>北海道</td><td>北海道</td><td>北海道・東北</td><td>5267762</td><td>21174</td><td> 66</td><td>61.71429</td><td>NA</td><td>NA</td><td>NA</td><td>NA</td><td>NA</td><td>NA</td><td>NA</td></tr>\n",
              "\t<tr><td>2021-04-02</td><td>01</td><td>北海道</td><td>北海道</td><td>北海道・東北</td><td>5267762</td><td>21108</td><td> 57</td><td>61.14286</td><td>NA</td><td>NA</td><td>NA</td><td>NA</td><td>NA</td><td>NA</td><td>NA</td></tr>\n",
              "\t<tr><td>2021-04-01</td><td>01</td><td>北海道</td><td>北海道</td><td>北海道・東北</td><td>5267762</td><td>21051</td><td> 57</td><td>62.85714</td><td>NA</td><td>NA</td><td>NA</td><td>NA</td><td>NA</td><td>NA</td><td>NA</td></tr>\n",
              "\t<tr><td>2021-03-31</td><td>01</td><td>北海道</td><td>北海道</td><td>北海道・東北</td><td>5267762</td><td>20994</td><td> 76</td><td>64.28571</td><td>NA</td><td>NA</td><td>NA</td><td>NA</td><td>NA</td><td>NA</td><td>NA</td></tr>\n",
              "\t<tr><td>2021-03-30</td><td>01</td><td>北海道</td><td>北海道</td><td>北海道・東北</td><td>5267762</td><td>20918</td><td> 56</td><td>65.00000</td><td>NA</td><td>NA</td><td>NA</td><td>NA</td><td>NA</td><td>NA</td><td>NA</td></tr>\n",
              "\t<tr><td>2021-03-29</td><td>01</td><td>北海道</td><td>北海道</td><td>北海道・東北</td><td>5267762</td><td>20862</td><td> 46</td><td>63.00000</td><td>NA</td><td>NA</td><td>NA</td><td>NA</td><td>NA</td><td>NA</td><td>NA</td></tr>\n",
              "\t<tr><td>2021-03-28</td><td>01</td><td>北海道</td><td>北海道</td><td>北海道・東北</td><td>5267762</td><td>20816</td><td> 74</td><td>63.57143</td><td>NA</td><td>NA</td><td>NA</td><td>NA</td><td>NA</td><td>NA</td><td>NA</td></tr>\n",
              "\t<tr><td>2021-03-27</td><td>01</td><td>北海道</td><td>北海道</td><td>北海道・東北</td><td>5267762</td><td>20742</td><td> 62</td><td>61.57143</td><td>NA</td><td>NA</td><td>NA</td><td>NA</td><td>NA</td><td>NA</td><td>NA</td></tr>\n",
              "\t<tr><td>2021-03-26</td><td>01</td><td>北海道</td><td>北海道</td><td>北海道・東北</td><td>5267762</td><td>20680</td><td> 69</td><td>60.00000</td><td>NA</td><td>NA</td><td>NA</td><td>NA</td><td>NA</td><td>NA</td><td>NA</td></tr>\n",
              "\t<tr><td>2021-03-25</td><td>01</td><td>北海道</td><td>北海道</td><td>北海道・東北</td><td>5267762</td><td>20611</td><td> 67</td><td>61.28571</td><td>NA</td><td>NA</td><td>NA</td><td>NA</td><td>NA</td><td>NA</td><td>NA</td></tr>\n",
              "\t<tr><td>2021-03-24</td><td>01</td><td>北海道</td><td>北海道</td><td>北海道・東北</td><td>5267762</td><td>20544</td><td> 81</td><td>65.42857</td><td>NA</td><td>NA</td><td>NA</td><td>NA</td><td>NA</td><td>NA</td><td>NA</td></tr>\n",
              "\t<tr><td>2021-03-23</td><td>01</td><td>北海道</td><td>北海道</td><td>北海道・東北</td><td>5267762</td><td>20463</td><td> 42</td><td>64.28571</td><td>NA</td><td>NA</td><td>NA</td><td>NA</td><td>NA</td><td>NA</td><td>NA</td></tr>\n",
              "\t<tr><td>2021-03-22</td><td>01</td><td>北海道</td><td>北海道</td><td>北海道・東北</td><td>5267762</td><td>20421</td><td> 50</td><td>68.14286</td><td>NA</td><td>NA</td><td>NA</td><td>NA</td><td>NA</td><td>NA</td><td>NA</td></tr>\n",
              "\t<tr><td>2021-03-21</td><td>01</td><td>北海道</td><td>北海道</td><td>北海道・東北</td><td>5267762</td><td>20371</td><td> 60</td><td>68.71429</td><td>NA</td><td>NA</td><td>NA</td><td>NA</td><td>NA</td><td>NA</td><td>NA</td></tr>\n",
              "\t<tr><td>2021-03-20</td><td>01</td><td>北海道</td><td>北海道</td><td>北海道・東北</td><td>5267762</td><td>20311</td><td> 51</td><td>66.57143</td><td>NA</td><td>NA</td><td>NA</td><td>NA</td><td>NA</td><td>NA</td><td>NA</td></tr>\n",
              "\t<tr><td>2021-03-19</td><td>01</td><td>北海道</td><td>北海道</td><td>北海道・東北</td><td>5267762</td><td>20260</td><td> 78</td><td>67.57143</td><td>NA</td><td>NA</td><td>NA</td><td>NA</td><td>NA</td><td>NA</td><td>NA</td></tr>\n",
              "\t<tr><td>2021-03-18</td><td>01</td><td>北海道</td><td>北海道</td><td>北海道・東北</td><td>5267762</td><td>20182</td><td> 96</td><td>64.00000</td><td>NA</td><td>NA</td><td>NA</td><td>NA</td><td>NA</td><td>NA</td><td>NA</td></tr>\n",
              "\t<tr><td>2021-03-17</td><td>01</td><td>北海道</td><td>北海道</td><td>北海道・東北</td><td>5267762</td><td>20086</td><td> 73</td><td>60.42857</td><td>NA</td><td>NA</td><td>NA</td><td>NA</td><td>NA</td><td>NA</td><td>NA</td></tr>\n",
              "\t<tr><td>2021-03-16</td><td>01</td><td>北海道</td><td>北海道</td><td>北海道・東北</td><td>5267762</td><td>20013</td><td> 69</td><td>59.28571</td><td>NA</td><td>NA</td><td>NA</td><td>NA</td><td>NA</td><td>NA</td><td>NA</td></tr>\n",
              "\t<tr><td>2021-03-15</td><td>01</td><td>北海道</td><td>北海道</td><td>北海道・東北</td><td>5267762</td><td>19944</td><td> 54</td><td>58.42857</td><td>NA</td><td>NA</td><td>NA</td><td>NA</td><td>NA</td><td>NA</td><td>NA</td></tr>\n",
              "\t<tr><td>2021-03-14</td><td>01</td><td>北海道</td><td>北海道</td><td>北海道・東北</td><td>5267762</td><td>19890</td><td> 45</td><td>59.71429</td><td>NA</td><td>NA</td><td>NA</td><td>NA</td><td>NA</td><td>NA</td><td>NA</td></tr>\n",
              "\t<tr><td>2021-03-13</td><td>01</td><td>北海道</td><td>北海道</td><td>北海道・東北</td><td>5267762</td><td>19845</td><td> 58</td><td>65.28571</td><td>NA</td><td>NA</td><td>NA</td><td>NA</td><td>NA</td><td>NA</td><td>NA</td></tr>\n",
              "\t<tr><td>⋮</td><td>⋮</td><td>⋮</td><td>⋮</td><td>⋮</td><td>⋮</td><td>⋮</td><td>⋮</td><td>⋮</td><td>⋮</td><td>⋮</td><td>⋮</td><td>⋮</td><td>⋮</td><td>⋮</td><td>⋮</td></tr>\n",
              "\t<tr><td>2020-05-20</td><td>TOTAL/AVE</td><td>全国</td><td>全国</td><td>全国</td><td>127138033</td><td>16251</td><td> 37</td><td> 47.71429</td><td>NA</td><td>NA</td><td>NA</td><td>NA</td><td>NA</td><td>NA</td><td>NA</td></tr>\n",
              "\t<tr><td>2020-05-19</td><td>TOTAL/AVE</td><td>全国</td><td>全国</td><td>全国</td><td>127138033</td><td>16212</td><td> 31</td><td> 50.42857</td><td>NA</td><td>NA</td><td>NA</td><td>NA</td><td>NA</td><td>NA</td><td>NA</td></tr>\n",
              "\t<tr><td>2020-05-18</td><td>TOTAL/AVE</td><td>全国</td><td>全国</td><td>全国</td><td>127138033</td><td>16192</td><td> 30</td><td> 57.14286</td><td>NA</td><td>NA</td><td>NA</td><td>NA</td><td>NA</td><td>NA</td><td>NA</td></tr>\n",
              "\t<tr><td>2020-05-17</td><td>TOTAL/AVE</td><td>全国</td><td>全国</td><td>全国</td><td>127138033</td><td>16132</td><td> 28</td><td> 60.00000</td><td>NA</td><td>NA</td><td>NA</td><td>NA</td><td>NA</td><td>NA</td><td>NA</td></tr>\n",
              "\t<tr><td>2020-05-16</td><td>TOTAL/AVE</td><td>全国</td><td>全国</td><td>全国</td><td>127138033</td><td>16112</td><td> 57</td><td> 65.71429</td><td>NA</td><td>NA</td><td>NA</td><td>NA</td><td>NA</td><td>NA</td><td>NA</td></tr>\n",
              "\t<tr><td>2020-05-15</td><td>TOTAL/AVE</td><td>全国</td><td>全国</td><td>全国</td><td>127138033</td><td>16066</td><td> 52</td><td> 74.57143</td><td>NA</td><td>NA</td><td>NA</td><td>NA</td><td>NA</td><td>NA</td><td>NA</td></tr>\n",
              "\t<tr><td>2020-05-14</td><td>TOTAL/AVE</td><td>全国</td><td>全国</td><td>全国</td><td>127138033</td><td>16022</td><td> 99</td><td> 78.57143</td><td>NA</td><td>NA</td><td>NA</td><td>NA</td><td>NA</td><td>NA</td><td>NA</td></tr>\n",
              "\t<tr><td>2020-05-13</td><td>TOTAL/AVE</td><td>全国</td><td>全国</td><td>全国</td><td>127138033</td><td>15908</td><td> 56</td><td> 77.71429</td><td>NA</td><td>NA</td><td>NA</td><td>NA</td><td>NA</td><td>NA</td><td>NA</td></tr>\n",
              "\t<tr><td>2020-05-12</td><td>TOTAL/AVE</td><td>全国</td><td>全国</td><td>全国</td><td>127138033</td><td>15854</td><td> 78</td><td> 85.14286</td><td>NA</td><td>NA</td><td>NA</td><td>NA</td><td>NA</td><td>NA</td><td>NA</td></tr>\n",
              "\t<tr><td>2020-05-11</td><td>TOTAL/AVE</td><td>全国</td><td>全国</td><td>全国</td><td>127138033</td><td>15706</td><td> 50</td><td> 91.42857</td><td>NA</td><td>NA</td><td>NA</td><td>NA</td><td>NA</td><td>NA</td><td>NA</td></tr>\n",
              "\t<tr><td>2020-05-10</td><td>TOTAL/AVE</td><td>全国</td><td>全国</td><td>全国</td><td>127138033</td><td>15630</td><td> 68</td><td>109.00000</td><td>NA</td><td>NA</td><td>NA</td><td>NA</td><td>NA</td><td>NA</td><td>NA</td></tr>\n",
              "\t<tr><td>2020-05-09</td><td>TOTAL/AVE</td><td>全国</td><td>全国</td><td>全国</td><td>127138033</td><td>15581</td><td>119</td><td>127.85714</td><td>NA</td><td>NA</td><td>NA</td><td>NA</td><td>NA</td><td>NA</td><td>NA</td></tr>\n",
              "\t<tr><td>2020-05-08</td><td>TOTAL/AVE</td><td>全国</td><td>全国</td><td>全国</td><td>127138033</td><td>15462</td><td> 80</td><td>152.14286</td><td>NA</td><td>NA</td><td>NA</td><td>NA</td><td>NA</td><td>NA</td><td>NA</td></tr>\n",
              "\t<tr><td>2020-05-07</td><td>TOTAL/AVE</td><td>全国</td><td>全国</td><td>全国</td><td>127138033</td><td>15382</td><td> 93</td><td>178.00000</td><td>NA</td><td>NA</td><td>NA</td><td>NA</td><td>NA</td><td>NA</td><td>NA</td></tr>\n",
              "\t<tr><td>2020-05-06</td><td>TOTAL/AVE</td><td>全国</td><td>全国</td><td>全国</td><td>127138033</td><td>15300</td><td>108</td><td>191.42857</td><td>NA</td><td>NA</td><td>NA</td><td>NA</td><td>NA</td><td>NA</td><td>NA</td></tr>\n",
              "\t<tr><td>2020-05-05</td><td>TOTAL/AVE</td><td>全国</td><td>全国</td><td>全国</td><td>127138033</td><td>15192</td><td>122</td><td>206.57143</td><td>NA</td><td>NA</td><td>NA</td><td>NA</td><td>NA</td><td>NA</td><td>NA</td></tr>\n",
              "\t<tr><td>2020-05-04</td><td>TOTAL/AVE</td><td>全国</td><td>全国</td><td>全国</td><td>127138033</td><td>15069</td><td>173</td><td>228.00000</td><td>NA</td><td>NA</td><td>NA</td><td>NA</td><td>NA</td><td>NA</td><td>NA</td></tr>\n",
              "\t<tr><td>2020-05-03</td><td>TOTAL/AVE</td><td>全国</td><td>全国</td><td>全国</td><td>127138033</td><td>14895</td><td>200</td><td>229.42857</td><td>NA</td><td>NA</td><td>NA</td><td>NA</td><td>NA</td><td>NA</td><td>NA</td></tr>\n",
              "\t<tr><td>2020-05-02</td><td>TOTAL/AVE</td><td>全国</td><td>全国</td><td>全国</td><td>127138033</td><td>14677</td><td>289</td><td>229.28571</td><td>NA</td><td>NA</td><td>NA</td><td>NA</td><td>NA</td><td>NA</td><td>NA</td></tr>\n",
              "\t<tr><td>2020-05-01</td><td>TOTAL/AVE</td><td>全国</td><td>全国</td><td>全国</td><td>127138033</td><td>14383</td><td>261</td><td>237.42857</td><td>NA</td><td>NA</td><td>NA</td><td>NA</td><td>NA</td><td>NA</td><td>NA</td></tr>\n",
              "\t<tr><td>2020-04-30</td><td>TOTAL/AVE</td><td>全国</td><td>全国</td><td>全国</td><td>127138033</td><td>14120</td><td>187</td><td>260.57143</td><td>NA</td><td>NA</td><td>NA</td><td>NA</td><td>NA</td><td>NA</td><td>NA</td></tr>\n",
              "\t<tr><td>2020-04-29</td><td>TOTAL/AVE</td><td>全国</td><td>全国</td><td>全国</td><td>127138033</td><td>13929</td><td>214</td><td>295.85714</td><td>NA</td><td>NA</td><td>NA</td><td>NA</td><td>NA</td><td>NA</td><td>NA</td></tr>\n",
              "\t<tr><td>2020-04-28</td><td>TOTAL/AVE</td><td>全国</td><td>全国</td><td>全国</td><td>127138033</td><td>13695</td><td>272</td><td>325.28571</td><td>NA</td><td>NA</td><td>NA</td><td>NA</td><td>NA</td><td>NA</td><td>NA</td></tr>\n",
              "\t<tr><td>2020-04-27</td><td>TOTAL/AVE</td><td>全国</td><td>全国</td><td>全国</td><td>127138033</td><td>13422</td><td>183</td><td>339.28571</td><td>NA</td><td>NA</td><td>NA</td><td>NA</td><td>NA</td><td>NA</td><td>NA</td></tr>\n",
              "\t<tr><td>2020-04-26</td><td>TOTAL/AVE</td><td>全国</td><td>全国</td><td>全国</td><td>127138033</td><td>13232</td><td>199</td><td>       NA</td><td>NA</td><td>NA</td><td>NA</td><td>NA</td><td>NA</td><td>NA</td><td>NA</td></tr>\n",
              "\t<tr><td>2020-04-25</td><td>TOTAL/AVE</td><td>全国</td><td>全国</td><td>全国</td><td>127138033</td><td>13031</td><td>346</td><td>       NA</td><td>NA</td><td>NA</td><td>NA</td><td>NA</td><td>NA</td><td>NA</td><td>NA</td></tr>\n",
              "\t<tr><td>2020-04-24</td><td>TOTAL/AVE</td><td>全国</td><td>全国</td><td>全国</td><td>127138033</td><td>12681</td><td>423</td><td>       NA</td><td>NA</td><td>NA</td><td>NA</td><td>NA</td><td>NA</td><td>NA</td><td>NA</td></tr>\n",
              "\t<tr><td>2020-04-23</td><td>TOTAL/AVE</td><td>全国</td><td>全国</td><td>全国</td><td>127138033</td><td>12240</td><td>434</td><td>       NA</td><td>NA</td><td>NA</td><td>NA</td><td>NA</td><td>NA</td><td>NA</td><td>NA</td></tr>\n",
              "\t<tr><td>2020-04-22</td><td>TOTAL/AVE</td><td>全国</td><td>全国</td><td>全国</td><td>127138033</td><td>11772</td><td>420</td><td>       NA</td><td>NA</td><td>NA</td><td>NA</td><td>NA</td><td>NA</td><td>NA</td><td>NA</td></tr>\n",
              "\t<tr><td>2020-04-21</td><td>TOTAL/AVE</td><td>全国</td><td>全国</td><td>全国</td><td>127138033</td><td>11350</td><td>370</td><td>       NA</td><td>NA</td><td>NA</td><td>NA</td><td>NA</td><td>NA</td><td>NA</td><td>NA</td></tr>\n",
              "</tbody>\n",
              "</table>\n"
            ]
          },
          "metadata": {
            "tags": []
          }
        }
      ]
    },
    {
      "cell_type": "code",
      "metadata": {
        "id": "NpTEZjn1HxUc",
        "colab": {
          "base_uri": "https://localhost:8080/",
          "height": 1000
        },
        "outputId": "23402081-9c2f-43f8-ae16-18cdc8cafed7"
      },
      "source": [
        "# NAは貴重な情報なので、インプレイスで置換せずに、残しておく。\n",
        "joined_data_w0 <- joined_data\n",
        "before <-  lead(rows_w_na)\n",
        "after  <-  lag(rows_w_na)\n",
        "flag   <-  ((rows_w_na | before | after) > 0)\n",
        "# NAの前後１行ずつを表示\n",
        "joined_data_w0[flag, ]\n",
        "\n",
        "# 累積接種の2カラムについては、NAがあったら、直前の有効な値で埋めるファンクション。\n",
        "# ただし期間中の一番古い日がNAの場合は、その前日がないから、持ってくるデータがない。この分と……\n",
        "# 新規接種のNAは、まとめて0に置き換える。\n",
        "func_fillNA <- function(df){\n",
        "    return(\n",
        "        df %>% arrange(desc(date)) %>% \n",
        "        fill(\n",
        "# status区分を追加。\n",
        "            total_status1,\n",
        "            total_status2,\n",
        "            total_status_all,\n",
        "            cum_vaccinations, .direction = \"down\"\n",
        "        ) %>% \n",
        "        replace_na(list(\n",
        "# status区分を追加。\n",
        "            status1            = 0,\n",
        "            status2            = 0,\n",
        "            status_all         = 0,\n",
        "            total_status1      = 0,\n",
        "            total_status2      = 0,\n",
        "            total_status_all   = 0,\n",
        "            cum_vaccinations   = 0\n",
        "        )) \n",
        "    )\n",
        "}\n",
        "\n",
        "# NAを直前の有効な値または0に置換\n",
        "joined_data_w0 <- joined_data_w0 %>% \n",
        "    nest(nested_df = -prefecture) %>%\n",
        "    mutate(nested_df = map(nested_df, func_fillNA)) %>% \n",
        "    unnest(cols = nested_df)\n",
        "\n",
        "# 結果を見る\n",
        "joined_data_w0[flag,]"
      ],
      "execution_count": null,
      "outputs": [
        {
          "output_type": "display_data",
          "data": {
            "text/plain": [
              "      date       code      prefecture prefecture_short block        population\n",
              "1     <NA>       NA        NA         NA               NA                NA   \n",
              "2     2021-04-12 01        北海道     北海道           北海道・東北 5267762   \n",
              "3     2021-04-11 01        北海道     北海道           北海道・東北 5267762   \n",
              "4     2021-04-10 01        北海道     北海道           北海道・東北 5267762   \n",
              "5     2021-04-09 01        北海道     北海道           北海道・東北 5267762   \n",
              "6     2021-04-08 01        北海道     北海道           北海道・東北 5267762   \n",
              "7     2021-04-07 01        北海道     北海道           北海道・東北 5267762   \n",
              "8     2021-04-06 01        北海道     北海道           北海道・東北 5267762   \n",
              "9     2021-04-05 01        北海道     北海道           北海道・東北 5267762   \n",
              "10    2021-04-04 01        北海道     北海道           北海道・東北 5267762   \n",
              "11    2021-04-03 01        北海道     北海道           北海道・東北 5267762   \n",
              "12    2021-04-02 01        北海道     北海道           北海道・東北 5267762   \n",
              "13    2021-04-01 01        北海道     北海道           北海道・東北 5267762   \n",
              "14    2021-03-31 01        北海道     北海道           北海道・東北 5267762   \n",
              "15    2021-03-30 01        北海道     北海道           北海道・東北 5267762   \n",
              "16    2021-03-29 01        北海道     北海道           北海道・東北 5267762   \n",
              "17    2021-03-28 01        北海道     北海道           北海道・東北 5267762   \n",
              "18    2021-03-27 01        北海道     北海道           北海道・東北 5267762   \n",
              "19    2021-03-26 01        北海道     北海道           北海道・東北 5267762   \n",
              "20    2021-03-25 01        北海道     北海道           北海道・東北 5267762   \n",
              "21    2021-03-24 01        北海道     北海道           北海道・東北 5267762   \n",
              "22    2021-03-23 01        北海道     北海道           北海道・東北 5267762   \n",
              "23    2021-03-22 01        北海道     北海道           北海道・東北 5267762   \n",
              "24    2021-03-21 01        北海道     北海道           北海道・東北 5267762   \n",
              "25    2021-03-20 01        北海道     北海道           北海道・東北 5267762   \n",
              "26    2021-03-19 01        北海道     北海道           北海道・東北 5267762   \n",
              "27    2021-03-18 01        北海道     北海道           北海道・東北 5267762   \n",
              "28    2021-03-17 01        北海道     北海道           北海道・東北 5267762   \n",
              "29    2021-03-16 01        北海道     北海道           北海道・東北 5267762   \n",
              "30    2021-03-15 01        北海道     北海道           北海道・東北 5267762   \n",
              "⋮     ⋮          ⋮         ⋮          ⋮                ⋮            ⋮         \n",
              "17187 2020-05-20 TOTAL/AVE 全国       全国             全国         127138033 \n",
              "17188 2020-05-19 TOTAL/AVE 全国       全国             全国         127138033 \n",
              "17189 2020-05-18 TOTAL/AVE 全国       全国             全国         127138033 \n",
              "17190 2020-05-17 TOTAL/AVE 全国       全国             全国         127138033 \n",
              "17191 2020-05-16 TOTAL/AVE 全国       全国             全国         127138033 \n",
              "17192 2020-05-15 TOTAL/AVE 全国       全国             全国         127138033 \n",
              "17193 2020-05-14 TOTAL/AVE 全国       全国             全国         127138033 \n",
              "17194 2020-05-13 TOTAL/AVE 全国       全国             全国         127138033 \n",
              "17195 2020-05-12 TOTAL/AVE 全国       全国             全国         127138033 \n",
              "17196 2020-05-11 TOTAL/AVE 全国       全国             全国         127138033 \n",
              "17197 2020-05-10 TOTAL/AVE 全国       全国             全国         127138033 \n",
              "17198 2020-05-09 TOTAL/AVE 全国       全国             全国         127138033 \n",
              "17199 2020-05-08 TOTAL/AVE 全国       全国             全国         127138033 \n",
              "17200 2020-05-07 TOTAL/AVE 全国       全国             全国         127138033 \n",
              "17201 2020-05-06 TOTAL/AVE 全国       全国             全国         127138033 \n",
              "17202 2020-05-05 TOTAL/AVE 全国       全国             全国         127138033 \n",
              "17203 2020-05-04 TOTAL/AVE 全国       全国             全国         127138033 \n",
              "17204 2020-05-03 TOTAL/AVE 全国       全国             全国         127138033 \n",
              "17205 2020-05-02 TOTAL/AVE 全国       全国             全国         127138033 \n",
              "17206 2020-05-01 TOTAL/AVE 全国       全国             全国         127138033 \n",
              "17207 2020-04-30 TOTAL/AVE 全国       全国             全国         127138033 \n",
              "17208 2020-04-29 TOTAL/AVE 全国       全国             全国         127138033 \n",
              "17209 2020-04-28 TOTAL/AVE 全国       全国             全国         127138033 \n",
              "17210 2020-04-27 TOTAL/AVE 全国       全国             全国         127138033 \n",
              "17211 2020-04-26 TOTAL/AVE 全国       全国             全国         127138033 \n",
              "17212 2020-04-25 TOTAL/AVE 全国       全国             全国         127138033 \n",
              "17213 2020-04-24 TOTAL/AVE 全国       全国             全国         127138033 \n",
              "17214 2020-04-23 TOTAL/AVE 全国       全国             全国         127138033 \n",
              "17215 2020-04-22 TOTAL/AVE 全国       全国             全国         127138033 \n",
              "17216 2020-04-21 TOTAL/AVE 全国       全国             全国         127138033 \n",
              "      sum_patients new_patients patients_ma7 status1 status2 status_all\n",
              "1        NA         NA                NA      NA     NA       NA       \n",
              "2     21838         58          77.14286     279      0      279       \n",
              "3     21780         69          79.00000      NA     NA       NA       \n",
              "4     21711        116          76.71429      NA     NA       NA       \n",
              "5     21595         83          69.57143      NA     NA       NA       \n",
              "6     21512         79          65.85714      NA     NA       NA       \n",
              "7     21433         72          62.71429      NA     NA       NA       \n",
              "8     21361         63          63.28571      NA     NA       NA       \n",
              "9     21298         71          62.28571      NA     NA       NA       \n",
              "10    21227         53          58.71429      NA     NA       NA       \n",
              "11    21174         66          61.71429      NA     NA       NA       \n",
              "12    21108         57          61.14286      NA     NA       NA       \n",
              "13    21051         57          62.85714      NA     NA       NA       \n",
              "14    20994         76          64.28571      NA     NA       NA       \n",
              "15    20918         56          65.00000      NA     NA       NA       \n",
              "16    20862         46          63.00000      NA     NA       NA       \n",
              "17    20816         74          63.57143      NA     NA       NA       \n",
              "18    20742         62          61.57143      NA     NA       NA       \n",
              "19    20680         69          60.00000      NA     NA       NA       \n",
              "20    20611         67          61.28571      NA     NA       NA       \n",
              "21    20544         81          65.42857      NA     NA       NA       \n",
              "22    20463         42          64.28571      NA     NA       NA       \n",
              "23    20421         50          68.14286      NA     NA       NA       \n",
              "24    20371         60          68.71429      NA     NA       NA       \n",
              "25    20311         51          66.57143      NA     NA       NA       \n",
              "26    20260         78          67.57143      NA     NA       NA       \n",
              "27    20182         96          64.00000      NA     NA       NA       \n",
              "28    20086         73          60.42857      NA     NA       NA       \n",
              "29    20013         69          59.28571      NA     NA       NA       \n",
              "30    19944         54          58.42857      NA     NA       NA       \n",
              "⋮     ⋮            ⋮            ⋮            ⋮       ⋮       ⋮         \n",
              "17187 16251         37           47.71429    NA      NA      NA        \n",
              "17188 16212         31           50.42857    NA      NA      NA        \n",
              "17189 16192         30           57.14286    NA      NA      NA        \n",
              "17190 16132         28           60.00000    NA      NA      NA        \n",
              "17191 16112         57           65.71429    NA      NA      NA        \n",
              "17192 16066         52           74.57143    NA      NA      NA        \n",
              "17193 16022         99           78.57143    NA      NA      NA        \n",
              "17194 15908         56           77.71429    NA      NA      NA        \n",
              "17195 15854         78           85.14286    NA      NA      NA        \n",
              "17196 15706         50           91.42857    NA      NA      NA        \n",
              "17197 15630         68          109.00000    NA      NA      NA        \n",
              "17198 15581        119          127.85714    NA      NA      NA        \n",
              "17199 15462         80          152.14286    NA      NA      NA        \n",
              "17200 15382         93          178.00000    NA      NA      NA        \n",
              "17201 15300        108          191.42857    NA      NA      NA        \n",
              "17202 15192        122          206.57143    NA      NA      NA        \n",
              "17203 15069        173          228.00000    NA      NA      NA        \n",
              "17204 14895        200          229.42857    NA      NA      NA        \n",
              "17205 14677        289          229.28571    NA      NA      NA        \n",
              "17206 14383        261          237.42857    NA      NA      NA        \n",
              "17207 14120        187          260.57143    NA      NA      NA        \n",
              "17208 13929        214          295.85714    NA      NA      NA        \n",
              "17209 13695        272          325.28571    NA      NA      NA        \n",
              "17210 13422        183          339.28571    NA      NA      NA        \n",
              "17211 13232        199                 NA    NA      NA      NA        \n",
              "17212 13031        346                 NA    NA      NA      NA        \n",
              "17213 12681        423                 NA    NA      NA      NA        \n",
              "17214 12240        434                 NA    NA      NA      NA        \n",
              "17215 11772        420                 NA    NA      NA      NA        \n",
              "17216 11350        370                 NA    NA      NA      NA        \n",
              "      total_status1 total_status2 total_status_all cum_vaccinations\n",
              "1      NA           NA             NA              NA              \n",
              "2     279            0            279               0              \n",
              "3      NA           NA             NA              NA              \n",
              "4      NA           NA             NA              NA              \n",
              "5      NA           NA             NA              NA              \n",
              "6      NA           NA             NA              NA              \n",
              "7      NA           NA             NA              NA              \n",
              "8      NA           NA             NA              NA              \n",
              "9      NA           NA             NA              NA              \n",
              "10     NA           NA             NA              NA              \n",
              "11     NA           NA             NA              NA              \n",
              "12     NA           NA             NA              NA              \n",
              "13     NA           NA             NA              NA              \n",
              "14     NA           NA             NA              NA              \n",
              "15     NA           NA             NA              NA              \n",
              "16     NA           NA             NA              NA              \n",
              "17     NA           NA             NA              NA              \n",
              "18     NA           NA             NA              NA              \n",
              "19     NA           NA             NA              NA              \n",
              "20     NA           NA             NA              NA              \n",
              "21     NA           NA             NA              NA              \n",
              "22     NA           NA             NA              NA              \n",
              "23     NA           NA             NA              NA              \n",
              "24     NA           NA             NA              NA              \n",
              "25     NA           NA             NA              NA              \n",
              "26     NA           NA             NA              NA              \n",
              "27     NA           NA             NA              NA              \n",
              "28     NA           NA             NA              NA              \n",
              "29     NA           NA             NA              NA              \n",
              "30     NA           NA             NA              NA              \n",
              "⋮     ⋮             ⋮             ⋮                ⋮               \n",
              "17187 NA            NA            NA               NA              \n",
              "17188 NA            NA            NA               NA              \n",
              "17189 NA            NA            NA               NA              \n",
              "17190 NA            NA            NA               NA              \n",
              "17191 NA            NA            NA               NA              \n",
              "17192 NA            NA            NA               NA              \n",
              "17193 NA            NA            NA               NA              \n",
              "17194 NA            NA            NA               NA              \n",
              "17195 NA            NA            NA               NA              \n",
              "17196 NA            NA            NA               NA              \n",
              "17197 NA            NA            NA               NA              \n",
              "17198 NA            NA            NA               NA              \n",
              "17199 NA            NA            NA               NA              \n",
              "17200 NA            NA            NA               NA              \n",
              "17201 NA            NA            NA               NA              \n",
              "17202 NA            NA            NA               NA              \n",
              "17203 NA            NA            NA               NA              \n",
              "17204 NA            NA            NA               NA              \n",
              "17205 NA            NA            NA               NA              \n",
              "17206 NA            NA            NA               NA              \n",
              "17207 NA            NA            NA               NA              \n",
              "17208 NA            NA            NA               NA              \n",
              "17209 NA            NA            NA               NA              \n",
              "17210 NA            NA            NA               NA              \n",
              "17211 NA            NA            NA               NA              \n",
              "17212 NA            NA            NA               NA              \n",
              "17213 NA            NA            NA               NA              \n",
              "17214 NA            NA            NA               NA              \n",
              "17215 NA            NA            NA               NA              \n",
              "17216 NA            NA            NA               NA              "
            ],
            "text/latex": "A tibble: 17216 × 16\n\\begin{tabular}{llllllllllllllll}\n date & code & prefecture & prefecture\\_short & block & population & sum\\_patients & new\\_patients & patients\\_ma7 & status1 & status2 & status\\_all & total\\_status1 & total\\_status2 & total\\_status\\_all & cum\\_vaccinations\\\\\n <date> & <fct> & <fct> & <fct> & <fct> & <int> & <int> & <int> & <dbl> & <int> & <int> & <int> & <int> & <int> & <int> & <int>\\\\\n\\hline\n\t NA & NA & NA     & NA     & NA           &      NA &    NA &  NA &       NA &  NA & NA &  NA &  NA & NA &  NA & NA\\\\\n\t 2021-04-12 & 01 & 北海道 & 北海道 & 北海道・東北 & 5267762 & 21838 &  58 & 77.14286 & 279 &  0 & 279 & 279 &  0 & 279 &  0\\\\\n\t 2021-04-11 & 01 & 北海道 & 北海道 & 北海道・東北 & 5267762 & 21780 &  69 & 79.00000 &  NA & NA &  NA &  NA & NA &  NA & NA\\\\\n\t 2021-04-10 & 01 & 北海道 & 北海道 & 北海道・東北 & 5267762 & 21711 & 116 & 76.71429 &  NA & NA &  NA &  NA & NA &  NA & NA\\\\\n\t 2021-04-09 & 01 & 北海道 & 北海道 & 北海道・東北 & 5267762 & 21595 &  83 & 69.57143 &  NA & NA &  NA &  NA & NA &  NA & NA\\\\\n\t 2021-04-08 & 01 & 北海道 & 北海道 & 北海道・東北 & 5267762 & 21512 &  79 & 65.85714 &  NA & NA &  NA &  NA & NA &  NA & NA\\\\\n\t 2021-04-07 & 01 & 北海道 & 北海道 & 北海道・東北 & 5267762 & 21433 &  72 & 62.71429 &  NA & NA &  NA &  NA & NA &  NA & NA\\\\\n\t 2021-04-06 & 01 & 北海道 & 北海道 & 北海道・東北 & 5267762 & 21361 &  63 & 63.28571 &  NA & NA &  NA &  NA & NA &  NA & NA\\\\\n\t 2021-04-05 & 01 & 北海道 & 北海道 & 北海道・東北 & 5267762 & 21298 &  71 & 62.28571 &  NA & NA &  NA &  NA & NA &  NA & NA\\\\\n\t 2021-04-04 & 01 & 北海道 & 北海道 & 北海道・東北 & 5267762 & 21227 &  53 & 58.71429 &  NA & NA &  NA &  NA & NA &  NA & NA\\\\\n\t 2021-04-03 & 01 & 北海道 & 北海道 & 北海道・東北 & 5267762 & 21174 &  66 & 61.71429 &  NA & NA &  NA &  NA & NA &  NA & NA\\\\\n\t 2021-04-02 & 01 & 北海道 & 北海道 & 北海道・東北 & 5267762 & 21108 &  57 & 61.14286 &  NA & NA &  NA &  NA & NA &  NA & NA\\\\\n\t 2021-04-01 & 01 & 北海道 & 北海道 & 北海道・東北 & 5267762 & 21051 &  57 & 62.85714 &  NA & NA &  NA &  NA & NA &  NA & NA\\\\\n\t 2021-03-31 & 01 & 北海道 & 北海道 & 北海道・東北 & 5267762 & 20994 &  76 & 64.28571 &  NA & NA &  NA &  NA & NA &  NA & NA\\\\\n\t 2021-03-30 & 01 & 北海道 & 北海道 & 北海道・東北 & 5267762 & 20918 &  56 & 65.00000 &  NA & NA &  NA &  NA & NA &  NA & NA\\\\\n\t 2021-03-29 & 01 & 北海道 & 北海道 & 北海道・東北 & 5267762 & 20862 &  46 & 63.00000 &  NA & NA &  NA &  NA & NA &  NA & NA\\\\\n\t 2021-03-28 & 01 & 北海道 & 北海道 & 北海道・東北 & 5267762 & 20816 &  74 & 63.57143 &  NA & NA &  NA &  NA & NA &  NA & NA\\\\\n\t 2021-03-27 & 01 & 北海道 & 北海道 & 北海道・東北 & 5267762 & 20742 &  62 & 61.57143 &  NA & NA &  NA &  NA & NA &  NA & NA\\\\\n\t 2021-03-26 & 01 & 北海道 & 北海道 & 北海道・東北 & 5267762 & 20680 &  69 & 60.00000 &  NA & NA &  NA &  NA & NA &  NA & NA\\\\\n\t 2021-03-25 & 01 & 北海道 & 北海道 & 北海道・東北 & 5267762 & 20611 &  67 & 61.28571 &  NA & NA &  NA &  NA & NA &  NA & NA\\\\\n\t 2021-03-24 & 01 & 北海道 & 北海道 & 北海道・東北 & 5267762 & 20544 &  81 & 65.42857 &  NA & NA &  NA &  NA & NA &  NA & NA\\\\\n\t 2021-03-23 & 01 & 北海道 & 北海道 & 北海道・東北 & 5267762 & 20463 &  42 & 64.28571 &  NA & NA &  NA &  NA & NA &  NA & NA\\\\\n\t 2021-03-22 & 01 & 北海道 & 北海道 & 北海道・東北 & 5267762 & 20421 &  50 & 68.14286 &  NA & NA &  NA &  NA & NA &  NA & NA\\\\\n\t 2021-03-21 & 01 & 北海道 & 北海道 & 北海道・東北 & 5267762 & 20371 &  60 & 68.71429 &  NA & NA &  NA &  NA & NA &  NA & NA\\\\\n\t 2021-03-20 & 01 & 北海道 & 北海道 & 北海道・東北 & 5267762 & 20311 &  51 & 66.57143 &  NA & NA &  NA &  NA & NA &  NA & NA\\\\\n\t 2021-03-19 & 01 & 北海道 & 北海道 & 北海道・東北 & 5267762 & 20260 &  78 & 67.57143 &  NA & NA &  NA &  NA & NA &  NA & NA\\\\\n\t 2021-03-18 & 01 & 北海道 & 北海道 & 北海道・東北 & 5267762 & 20182 &  96 & 64.00000 &  NA & NA &  NA &  NA & NA &  NA & NA\\\\\n\t 2021-03-17 & 01 & 北海道 & 北海道 & 北海道・東北 & 5267762 & 20086 &  73 & 60.42857 &  NA & NA &  NA &  NA & NA &  NA & NA\\\\\n\t 2021-03-16 & 01 & 北海道 & 北海道 & 北海道・東北 & 5267762 & 20013 &  69 & 59.28571 &  NA & NA &  NA &  NA & NA &  NA & NA\\\\\n\t 2021-03-15 & 01 & 北海道 & 北海道 & 北海道・東北 & 5267762 & 19944 &  54 & 58.42857 &  NA & NA &  NA &  NA & NA &  NA & NA\\\\\n\t ⋮ & ⋮ & ⋮ & ⋮ & ⋮ & ⋮ & ⋮ & ⋮ & ⋮ & ⋮ & ⋮ & ⋮ & ⋮ & ⋮ & ⋮ & ⋮\\\\\n\t 2020-05-20 & TOTAL/AVE & 全国 & 全国 & 全国 & 127138033 & 16251 &  37 &  47.71429 & NA & NA & NA & NA & NA & NA & NA\\\\\n\t 2020-05-19 & TOTAL/AVE & 全国 & 全国 & 全国 & 127138033 & 16212 &  31 &  50.42857 & NA & NA & NA & NA & NA & NA & NA\\\\\n\t 2020-05-18 & TOTAL/AVE & 全国 & 全国 & 全国 & 127138033 & 16192 &  30 &  57.14286 & NA & NA & NA & NA & NA & NA & NA\\\\\n\t 2020-05-17 & TOTAL/AVE & 全国 & 全国 & 全国 & 127138033 & 16132 &  28 &  60.00000 & NA & NA & NA & NA & NA & NA & NA\\\\\n\t 2020-05-16 & TOTAL/AVE & 全国 & 全国 & 全国 & 127138033 & 16112 &  57 &  65.71429 & NA & NA & NA & NA & NA & NA & NA\\\\\n\t 2020-05-15 & TOTAL/AVE & 全国 & 全国 & 全国 & 127138033 & 16066 &  52 &  74.57143 & NA & NA & NA & NA & NA & NA & NA\\\\\n\t 2020-05-14 & TOTAL/AVE & 全国 & 全国 & 全国 & 127138033 & 16022 &  99 &  78.57143 & NA & NA & NA & NA & NA & NA & NA\\\\\n\t 2020-05-13 & TOTAL/AVE & 全国 & 全国 & 全国 & 127138033 & 15908 &  56 &  77.71429 & NA & NA & NA & NA & NA & NA & NA\\\\\n\t 2020-05-12 & TOTAL/AVE & 全国 & 全国 & 全国 & 127138033 & 15854 &  78 &  85.14286 & NA & NA & NA & NA & NA & NA & NA\\\\\n\t 2020-05-11 & TOTAL/AVE & 全国 & 全国 & 全国 & 127138033 & 15706 &  50 &  91.42857 & NA & NA & NA & NA & NA & NA & NA\\\\\n\t 2020-05-10 & TOTAL/AVE & 全国 & 全国 & 全国 & 127138033 & 15630 &  68 & 109.00000 & NA & NA & NA & NA & NA & NA & NA\\\\\n\t 2020-05-09 & TOTAL/AVE & 全国 & 全国 & 全国 & 127138033 & 15581 & 119 & 127.85714 & NA & NA & NA & NA & NA & NA & NA\\\\\n\t 2020-05-08 & TOTAL/AVE & 全国 & 全国 & 全国 & 127138033 & 15462 &  80 & 152.14286 & NA & NA & NA & NA & NA & NA & NA\\\\\n\t 2020-05-07 & TOTAL/AVE & 全国 & 全国 & 全国 & 127138033 & 15382 &  93 & 178.00000 & NA & NA & NA & NA & NA & NA & NA\\\\\n\t 2020-05-06 & TOTAL/AVE & 全国 & 全国 & 全国 & 127138033 & 15300 & 108 & 191.42857 & NA & NA & NA & NA & NA & NA & NA\\\\\n\t 2020-05-05 & TOTAL/AVE & 全国 & 全国 & 全国 & 127138033 & 15192 & 122 & 206.57143 & NA & NA & NA & NA & NA & NA & NA\\\\\n\t 2020-05-04 & TOTAL/AVE & 全国 & 全国 & 全国 & 127138033 & 15069 & 173 & 228.00000 & NA & NA & NA & NA & NA & NA & NA\\\\\n\t 2020-05-03 & TOTAL/AVE & 全国 & 全国 & 全国 & 127138033 & 14895 & 200 & 229.42857 & NA & NA & NA & NA & NA & NA & NA\\\\\n\t 2020-05-02 & TOTAL/AVE & 全国 & 全国 & 全国 & 127138033 & 14677 & 289 & 229.28571 & NA & NA & NA & NA & NA & NA & NA\\\\\n\t 2020-05-01 & TOTAL/AVE & 全国 & 全国 & 全国 & 127138033 & 14383 & 261 & 237.42857 & NA & NA & NA & NA & NA & NA & NA\\\\\n\t 2020-04-30 & TOTAL/AVE & 全国 & 全国 & 全国 & 127138033 & 14120 & 187 & 260.57143 & NA & NA & NA & NA & NA & NA & NA\\\\\n\t 2020-04-29 & TOTAL/AVE & 全国 & 全国 & 全国 & 127138033 & 13929 & 214 & 295.85714 & NA & NA & NA & NA & NA & NA & NA\\\\\n\t 2020-04-28 & TOTAL/AVE & 全国 & 全国 & 全国 & 127138033 & 13695 & 272 & 325.28571 & NA & NA & NA & NA & NA & NA & NA\\\\\n\t 2020-04-27 & TOTAL/AVE & 全国 & 全国 & 全国 & 127138033 & 13422 & 183 & 339.28571 & NA & NA & NA & NA & NA & NA & NA\\\\\n\t 2020-04-26 & TOTAL/AVE & 全国 & 全国 & 全国 & 127138033 & 13232 & 199 &        NA & NA & NA & NA & NA & NA & NA & NA\\\\\n\t 2020-04-25 & TOTAL/AVE & 全国 & 全国 & 全国 & 127138033 & 13031 & 346 &        NA & NA & NA & NA & NA & NA & NA & NA\\\\\n\t 2020-04-24 & TOTAL/AVE & 全国 & 全国 & 全国 & 127138033 & 12681 & 423 &        NA & NA & NA & NA & NA & NA & NA & NA\\\\\n\t 2020-04-23 & TOTAL/AVE & 全国 & 全国 & 全国 & 127138033 & 12240 & 434 &        NA & NA & NA & NA & NA & NA & NA & NA\\\\\n\t 2020-04-22 & TOTAL/AVE & 全国 & 全国 & 全国 & 127138033 & 11772 & 420 &        NA & NA & NA & NA & NA & NA & NA & NA\\\\\n\t 2020-04-21 & TOTAL/AVE & 全国 & 全国 & 全国 & 127138033 & 11350 & 370 &        NA & NA & NA & NA & NA & NA & NA & NA\\\\\n\\end{tabular}\n",
            "text/markdown": "\nA tibble: 17216 × 16\n\n| date &lt;date&gt; | code &lt;fct&gt; | prefecture &lt;fct&gt; | prefecture_short &lt;fct&gt; | block &lt;fct&gt; | population &lt;int&gt; | sum_patients &lt;int&gt; | new_patients &lt;int&gt; | patients_ma7 &lt;dbl&gt; | status1 &lt;int&gt; | status2 &lt;int&gt; | status_all &lt;int&gt; | total_status1 &lt;int&gt; | total_status2 &lt;int&gt; | total_status_all &lt;int&gt; | cum_vaccinations &lt;int&gt; |\n|---|---|---|---|---|---|---|---|---|---|---|---|---|---|---|---|\n| NA | NA | NA     | NA     | NA           |      NA |    NA |  NA |       NA |  NA | NA |  NA |  NA | NA |  NA | NA |\n| 2021-04-12 | 01 | 北海道 | 北海道 | 北海道・東北 | 5267762 | 21838 |  58 | 77.14286 | 279 |  0 | 279 | 279 |  0 | 279 |  0 |\n| 2021-04-11 | 01 | 北海道 | 北海道 | 北海道・東北 | 5267762 | 21780 |  69 | 79.00000 |  NA | NA |  NA |  NA | NA |  NA | NA |\n| 2021-04-10 | 01 | 北海道 | 北海道 | 北海道・東北 | 5267762 | 21711 | 116 | 76.71429 |  NA | NA |  NA |  NA | NA |  NA | NA |\n| 2021-04-09 | 01 | 北海道 | 北海道 | 北海道・東北 | 5267762 | 21595 |  83 | 69.57143 |  NA | NA |  NA |  NA | NA |  NA | NA |\n| 2021-04-08 | 01 | 北海道 | 北海道 | 北海道・東北 | 5267762 | 21512 |  79 | 65.85714 |  NA | NA |  NA |  NA | NA |  NA | NA |\n| 2021-04-07 | 01 | 北海道 | 北海道 | 北海道・東北 | 5267762 | 21433 |  72 | 62.71429 |  NA | NA |  NA |  NA | NA |  NA | NA |\n| 2021-04-06 | 01 | 北海道 | 北海道 | 北海道・東北 | 5267762 | 21361 |  63 | 63.28571 |  NA | NA |  NA |  NA | NA |  NA | NA |\n| 2021-04-05 | 01 | 北海道 | 北海道 | 北海道・東北 | 5267762 | 21298 |  71 | 62.28571 |  NA | NA |  NA |  NA | NA |  NA | NA |\n| 2021-04-04 | 01 | 北海道 | 北海道 | 北海道・東北 | 5267762 | 21227 |  53 | 58.71429 |  NA | NA |  NA |  NA | NA |  NA | NA |\n| 2021-04-03 | 01 | 北海道 | 北海道 | 北海道・東北 | 5267762 | 21174 |  66 | 61.71429 |  NA | NA |  NA |  NA | NA |  NA | NA |\n| 2021-04-02 | 01 | 北海道 | 北海道 | 北海道・東北 | 5267762 | 21108 |  57 | 61.14286 |  NA | NA |  NA |  NA | NA |  NA | NA |\n| 2021-04-01 | 01 | 北海道 | 北海道 | 北海道・東北 | 5267762 | 21051 |  57 | 62.85714 |  NA | NA |  NA |  NA | NA |  NA | NA |\n| 2021-03-31 | 01 | 北海道 | 北海道 | 北海道・東北 | 5267762 | 20994 |  76 | 64.28571 |  NA | NA |  NA |  NA | NA |  NA | NA |\n| 2021-03-30 | 01 | 北海道 | 北海道 | 北海道・東北 | 5267762 | 20918 |  56 | 65.00000 |  NA | NA |  NA |  NA | NA |  NA | NA |\n| 2021-03-29 | 01 | 北海道 | 北海道 | 北海道・東北 | 5267762 | 20862 |  46 | 63.00000 |  NA | NA |  NA |  NA | NA |  NA | NA |\n| 2021-03-28 | 01 | 北海道 | 北海道 | 北海道・東北 | 5267762 | 20816 |  74 | 63.57143 |  NA | NA |  NA |  NA | NA |  NA | NA |\n| 2021-03-27 | 01 | 北海道 | 北海道 | 北海道・東北 | 5267762 | 20742 |  62 | 61.57143 |  NA | NA |  NA |  NA | NA |  NA | NA |\n| 2021-03-26 | 01 | 北海道 | 北海道 | 北海道・東北 | 5267762 | 20680 |  69 | 60.00000 |  NA | NA |  NA |  NA | NA |  NA | NA |\n| 2021-03-25 | 01 | 北海道 | 北海道 | 北海道・東北 | 5267762 | 20611 |  67 | 61.28571 |  NA | NA |  NA |  NA | NA |  NA | NA |\n| 2021-03-24 | 01 | 北海道 | 北海道 | 北海道・東北 | 5267762 | 20544 |  81 | 65.42857 |  NA | NA |  NA |  NA | NA |  NA | NA |\n| 2021-03-23 | 01 | 北海道 | 北海道 | 北海道・東北 | 5267762 | 20463 |  42 | 64.28571 |  NA | NA |  NA |  NA | NA |  NA | NA |\n| 2021-03-22 | 01 | 北海道 | 北海道 | 北海道・東北 | 5267762 | 20421 |  50 | 68.14286 |  NA | NA |  NA |  NA | NA |  NA | NA |\n| 2021-03-21 | 01 | 北海道 | 北海道 | 北海道・東北 | 5267762 | 20371 |  60 | 68.71429 |  NA | NA |  NA |  NA | NA |  NA | NA |\n| 2021-03-20 | 01 | 北海道 | 北海道 | 北海道・東北 | 5267762 | 20311 |  51 | 66.57143 |  NA | NA |  NA |  NA | NA |  NA | NA |\n| 2021-03-19 | 01 | 北海道 | 北海道 | 北海道・東北 | 5267762 | 20260 |  78 | 67.57143 |  NA | NA |  NA |  NA | NA |  NA | NA |\n| 2021-03-18 | 01 | 北海道 | 北海道 | 北海道・東北 | 5267762 | 20182 |  96 | 64.00000 |  NA | NA |  NA |  NA | NA |  NA | NA |\n| 2021-03-17 | 01 | 北海道 | 北海道 | 北海道・東北 | 5267762 | 20086 |  73 | 60.42857 |  NA | NA |  NA |  NA | NA |  NA | NA |\n| 2021-03-16 | 01 | 北海道 | 北海道 | 北海道・東北 | 5267762 | 20013 |  69 | 59.28571 |  NA | NA |  NA |  NA | NA |  NA | NA |\n| 2021-03-15 | 01 | 北海道 | 北海道 | 北海道・東北 | 5267762 | 19944 |  54 | 58.42857 |  NA | NA |  NA |  NA | NA |  NA | NA |\n| ⋮ | ⋮ | ⋮ | ⋮ | ⋮ | ⋮ | ⋮ | ⋮ | ⋮ | ⋮ | ⋮ | ⋮ | ⋮ | ⋮ | ⋮ | ⋮ |\n| 2020-05-20 | TOTAL/AVE | 全国 | 全国 | 全国 | 127138033 | 16251 |  37 |  47.71429 | NA | NA | NA | NA | NA | NA | NA |\n| 2020-05-19 | TOTAL/AVE | 全国 | 全国 | 全国 | 127138033 | 16212 |  31 |  50.42857 | NA | NA | NA | NA | NA | NA | NA |\n| 2020-05-18 | TOTAL/AVE | 全国 | 全国 | 全国 | 127138033 | 16192 |  30 |  57.14286 | NA | NA | NA | NA | NA | NA | NA |\n| 2020-05-17 | TOTAL/AVE | 全国 | 全国 | 全国 | 127138033 | 16132 |  28 |  60.00000 | NA | NA | NA | NA | NA | NA | NA |\n| 2020-05-16 | TOTAL/AVE | 全国 | 全国 | 全国 | 127138033 | 16112 |  57 |  65.71429 | NA | NA | NA | NA | NA | NA | NA |\n| 2020-05-15 | TOTAL/AVE | 全国 | 全国 | 全国 | 127138033 | 16066 |  52 |  74.57143 | NA | NA | NA | NA | NA | NA | NA |\n| 2020-05-14 | TOTAL/AVE | 全国 | 全国 | 全国 | 127138033 | 16022 |  99 |  78.57143 | NA | NA | NA | NA | NA | NA | NA |\n| 2020-05-13 | TOTAL/AVE | 全国 | 全国 | 全国 | 127138033 | 15908 |  56 |  77.71429 | NA | NA | NA | NA | NA | NA | NA |\n| 2020-05-12 | TOTAL/AVE | 全国 | 全国 | 全国 | 127138033 | 15854 |  78 |  85.14286 | NA | NA | NA | NA | NA | NA | NA |\n| 2020-05-11 | TOTAL/AVE | 全国 | 全国 | 全国 | 127138033 | 15706 |  50 |  91.42857 | NA | NA | NA | NA | NA | NA | NA |\n| 2020-05-10 | TOTAL/AVE | 全国 | 全国 | 全国 | 127138033 | 15630 |  68 | 109.00000 | NA | NA | NA | NA | NA | NA | NA |\n| 2020-05-09 | TOTAL/AVE | 全国 | 全国 | 全国 | 127138033 | 15581 | 119 | 127.85714 | NA | NA | NA | NA | NA | NA | NA |\n| 2020-05-08 | TOTAL/AVE | 全国 | 全国 | 全国 | 127138033 | 15462 |  80 | 152.14286 | NA | NA | NA | NA | NA | NA | NA |\n| 2020-05-07 | TOTAL/AVE | 全国 | 全国 | 全国 | 127138033 | 15382 |  93 | 178.00000 | NA | NA | NA | NA | NA | NA | NA |\n| 2020-05-06 | TOTAL/AVE | 全国 | 全国 | 全国 | 127138033 | 15300 | 108 | 191.42857 | NA | NA | NA | NA | NA | NA | NA |\n| 2020-05-05 | TOTAL/AVE | 全国 | 全国 | 全国 | 127138033 | 15192 | 122 | 206.57143 | NA | NA | NA | NA | NA | NA | NA |\n| 2020-05-04 | TOTAL/AVE | 全国 | 全国 | 全国 | 127138033 | 15069 | 173 | 228.00000 | NA | NA | NA | NA | NA | NA | NA |\n| 2020-05-03 | TOTAL/AVE | 全国 | 全国 | 全国 | 127138033 | 14895 | 200 | 229.42857 | NA | NA | NA | NA | NA | NA | NA |\n| 2020-05-02 | TOTAL/AVE | 全国 | 全国 | 全国 | 127138033 | 14677 | 289 | 229.28571 | NA | NA | NA | NA | NA | NA | NA |\n| 2020-05-01 | TOTAL/AVE | 全国 | 全国 | 全国 | 127138033 | 14383 | 261 | 237.42857 | NA | NA | NA | NA | NA | NA | NA |\n| 2020-04-30 | TOTAL/AVE | 全国 | 全国 | 全国 | 127138033 | 14120 | 187 | 260.57143 | NA | NA | NA | NA | NA | NA | NA |\n| 2020-04-29 | TOTAL/AVE | 全国 | 全国 | 全国 | 127138033 | 13929 | 214 | 295.85714 | NA | NA | NA | NA | NA | NA | NA |\n| 2020-04-28 | TOTAL/AVE | 全国 | 全国 | 全国 | 127138033 | 13695 | 272 | 325.28571 | NA | NA | NA | NA | NA | NA | NA |\n| 2020-04-27 | TOTAL/AVE | 全国 | 全国 | 全国 | 127138033 | 13422 | 183 | 339.28571 | NA | NA | NA | NA | NA | NA | NA |\n| 2020-04-26 | TOTAL/AVE | 全国 | 全国 | 全国 | 127138033 | 13232 | 199 |        NA | NA | NA | NA | NA | NA | NA | NA |\n| 2020-04-25 | TOTAL/AVE | 全国 | 全国 | 全国 | 127138033 | 13031 | 346 |        NA | NA | NA | NA | NA | NA | NA | NA |\n| 2020-04-24 | TOTAL/AVE | 全国 | 全国 | 全国 | 127138033 | 12681 | 423 |        NA | NA | NA | NA | NA | NA | NA | NA |\n| 2020-04-23 | TOTAL/AVE | 全国 | 全国 | 全国 | 127138033 | 12240 | 434 |        NA | NA | NA | NA | NA | NA | NA | NA |\n| 2020-04-22 | TOTAL/AVE | 全国 | 全国 | 全国 | 127138033 | 11772 | 420 |        NA | NA | NA | NA | NA | NA | NA | NA |\n| 2020-04-21 | TOTAL/AVE | 全国 | 全国 | 全国 | 127138033 | 11350 | 370 |        NA | NA | NA | NA | NA | NA | NA | NA |\n\n",
            "text/html": [
              "<table class=\"dataframe\">\n",
              "<caption>A tibble: 17216 × 16</caption>\n",
              "<thead>\n",
              "\t<tr><th scope=col>date</th><th scope=col>code</th><th scope=col>prefecture</th><th scope=col>prefecture_short</th><th scope=col>block</th><th scope=col>population</th><th scope=col>sum_patients</th><th scope=col>new_patients</th><th scope=col>patients_ma7</th><th scope=col>status1</th><th scope=col>status2</th><th scope=col>status_all</th><th scope=col>total_status1</th><th scope=col>total_status2</th><th scope=col>total_status_all</th><th scope=col>cum_vaccinations</th></tr>\n",
              "\t<tr><th scope=col>&lt;date&gt;</th><th scope=col>&lt;fct&gt;</th><th scope=col>&lt;fct&gt;</th><th scope=col>&lt;fct&gt;</th><th scope=col>&lt;fct&gt;</th><th scope=col>&lt;int&gt;</th><th scope=col>&lt;int&gt;</th><th scope=col>&lt;int&gt;</th><th scope=col>&lt;dbl&gt;</th><th scope=col>&lt;int&gt;</th><th scope=col>&lt;int&gt;</th><th scope=col>&lt;int&gt;</th><th scope=col>&lt;int&gt;</th><th scope=col>&lt;int&gt;</th><th scope=col>&lt;int&gt;</th><th scope=col>&lt;int&gt;</th></tr>\n",
              "</thead>\n",
              "<tbody>\n",
              "\t<tr><td>NA</td><td>NA</td><td>NA    </td><td>NA    </td><td>NA          </td><td>     NA</td><td>   NA</td><td> NA</td><td>      NA</td><td> NA</td><td>NA</td><td> NA</td><td> NA</td><td>NA</td><td> NA</td><td>NA</td></tr>\n",
              "\t<tr><td>2021-04-12</td><td>01</td><td>北海道</td><td>北海道</td><td>北海道・東北</td><td>5267762</td><td>21838</td><td> 58</td><td>77.14286</td><td>279</td><td> 0</td><td>279</td><td>279</td><td> 0</td><td>279</td><td> 0</td></tr>\n",
              "\t<tr><td>2021-04-11</td><td>01</td><td>北海道</td><td>北海道</td><td>北海道・東北</td><td>5267762</td><td>21780</td><td> 69</td><td>79.00000</td><td> NA</td><td>NA</td><td> NA</td><td> NA</td><td>NA</td><td> NA</td><td>NA</td></tr>\n",
              "\t<tr><td>2021-04-10</td><td>01</td><td>北海道</td><td>北海道</td><td>北海道・東北</td><td>5267762</td><td>21711</td><td>116</td><td>76.71429</td><td> NA</td><td>NA</td><td> NA</td><td> NA</td><td>NA</td><td> NA</td><td>NA</td></tr>\n",
              "\t<tr><td>2021-04-09</td><td>01</td><td>北海道</td><td>北海道</td><td>北海道・東北</td><td>5267762</td><td>21595</td><td> 83</td><td>69.57143</td><td> NA</td><td>NA</td><td> NA</td><td> NA</td><td>NA</td><td> NA</td><td>NA</td></tr>\n",
              "\t<tr><td>2021-04-08</td><td>01</td><td>北海道</td><td>北海道</td><td>北海道・東北</td><td>5267762</td><td>21512</td><td> 79</td><td>65.85714</td><td> NA</td><td>NA</td><td> NA</td><td> NA</td><td>NA</td><td> NA</td><td>NA</td></tr>\n",
              "\t<tr><td>2021-04-07</td><td>01</td><td>北海道</td><td>北海道</td><td>北海道・東北</td><td>5267762</td><td>21433</td><td> 72</td><td>62.71429</td><td> NA</td><td>NA</td><td> NA</td><td> NA</td><td>NA</td><td> NA</td><td>NA</td></tr>\n",
              "\t<tr><td>2021-04-06</td><td>01</td><td>北海道</td><td>北海道</td><td>北海道・東北</td><td>5267762</td><td>21361</td><td> 63</td><td>63.28571</td><td> NA</td><td>NA</td><td> NA</td><td> NA</td><td>NA</td><td> NA</td><td>NA</td></tr>\n",
              "\t<tr><td>2021-04-05</td><td>01</td><td>北海道</td><td>北海道</td><td>北海道・東北</td><td>5267762</td><td>21298</td><td> 71</td><td>62.28571</td><td> NA</td><td>NA</td><td> NA</td><td> NA</td><td>NA</td><td> NA</td><td>NA</td></tr>\n",
              "\t<tr><td>2021-04-04</td><td>01</td><td>北海道</td><td>北海道</td><td>北海道・東北</td><td>5267762</td><td>21227</td><td> 53</td><td>58.71429</td><td> NA</td><td>NA</td><td> NA</td><td> NA</td><td>NA</td><td> NA</td><td>NA</td></tr>\n",
              "\t<tr><td>2021-04-03</td><td>01</td><td>北海道</td><td>北海道</td><td>北海道・東北</td><td>5267762</td><td>21174</td><td> 66</td><td>61.71429</td><td> NA</td><td>NA</td><td> NA</td><td> NA</td><td>NA</td><td> NA</td><td>NA</td></tr>\n",
              "\t<tr><td>2021-04-02</td><td>01</td><td>北海道</td><td>北海道</td><td>北海道・東北</td><td>5267762</td><td>21108</td><td> 57</td><td>61.14286</td><td> NA</td><td>NA</td><td> NA</td><td> NA</td><td>NA</td><td> NA</td><td>NA</td></tr>\n",
              "\t<tr><td>2021-04-01</td><td>01</td><td>北海道</td><td>北海道</td><td>北海道・東北</td><td>5267762</td><td>21051</td><td> 57</td><td>62.85714</td><td> NA</td><td>NA</td><td> NA</td><td> NA</td><td>NA</td><td> NA</td><td>NA</td></tr>\n",
              "\t<tr><td>2021-03-31</td><td>01</td><td>北海道</td><td>北海道</td><td>北海道・東北</td><td>5267762</td><td>20994</td><td> 76</td><td>64.28571</td><td> NA</td><td>NA</td><td> NA</td><td> NA</td><td>NA</td><td> NA</td><td>NA</td></tr>\n",
              "\t<tr><td>2021-03-30</td><td>01</td><td>北海道</td><td>北海道</td><td>北海道・東北</td><td>5267762</td><td>20918</td><td> 56</td><td>65.00000</td><td> NA</td><td>NA</td><td> NA</td><td> NA</td><td>NA</td><td> NA</td><td>NA</td></tr>\n",
              "\t<tr><td>2021-03-29</td><td>01</td><td>北海道</td><td>北海道</td><td>北海道・東北</td><td>5267762</td><td>20862</td><td> 46</td><td>63.00000</td><td> NA</td><td>NA</td><td> NA</td><td> NA</td><td>NA</td><td> NA</td><td>NA</td></tr>\n",
              "\t<tr><td>2021-03-28</td><td>01</td><td>北海道</td><td>北海道</td><td>北海道・東北</td><td>5267762</td><td>20816</td><td> 74</td><td>63.57143</td><td> NA</td><td>NA</td><td> NA</td><td> NA</td><td>NA</td><td> NA</td><td>NA</td></tr>\n",
              "\t<tr><td>2021-03-27</td><td>01</td><td>北海道</td><td>北海道</td><td>北海道・東北</td><td>5267762</td><td>20742</td><td> 62</td><td>61.57143</td><td> NA</td><td>NA</td><td> NA</td><td> NA</td><td>NA</td><td> NA</td><td>NA</td></tr>\n",
              "\t<tr><td>2021-03-26</td><td>01</td><td>北海道</td><td>北海道</td><td>北海道・東北</td><td>5267762</td><td>20680</td><td> 69</td><td>60.00000</td><td> NA</td><td>NA</td><td> NA</td><td> NA</td><td>NA</td><td> NA</td><td>NA</td></tr>\n",
              "\t<tr><td>2021-03-25</td><td>01</td><td>北海道</td><td>北海道</td><td>北海道・東北</td><td>5267762</td><td>20611</td><td> 67</td><td>61.28571</td><td> NA</td><td>NA</td><td> NA</td><td> NA</td><td>NA</td><td> NA</td><td>NA</td></tr>\n",
              "\t<tr><td>2021-03-24</td><td>01</td><td>北海道</td><td>北海道</td><td>北海道・東北</td><td>5267762</td><td>20544</td><td> 81</td><td>65.42857</td><td> NA</td><td>NA</td><td> NA</td><td> NA</td><td>NA</td><td> NA</td><td>NA</td></tr>\n",
              "\t<tr><td>2021-03-23</td><td>01</td><td>北海道</td><td>北海道</td><td>北海道・東北</td><td>5267762</td><td>20463</td><td> 42</td><td>64.28571</td><td> NA</td><td>NA</td><td> NA</td><td> NA</td><td>NA</td><td> NA</td><td>NA</td></tr>\n",
              "\t<tr><td>2021-03-22</td><td>01</td><td>北海道</td><td>北海道</td><td>北海道・東北</td><td>5267762</td><td>20421</td><td> 50</td><td>68.14286</td><td> NA</td><td>NA</td><td> NA</td><td> NA</td><td>NA</td><td> NA</td><td>NA</td></tr>\n",
              "\t<tr><td>2021-03-21</td><td>01</td><td>北海道</td><td>北海道</td><td>北海道・東北</td><td>5267762</td><td>20371</td><td> 60</td><td>68.71429</td><td> NA</td><td>NA</td><td> NA</td><td> NA</td><td>NA</td><td> NA</td><td>NA</td></tr>\n",
              "\t<tr><td>2021-03-20</td><td>01</td><td>北海道</td><td>北海道</td><td>北海道・東北</td><td>5267762</td><td>20311</td><td> 51</td><td>66.57143</td><td> NA</td><td>NA</td><td> NA</td><td> NA</td><td>NA</td><td> NA</td><td>NA</td></tr>\n",
              "\t<tr><td>2021-03-19</td><td>01</td><td>北海道</td><td>北海道</td><td>北海道・東北</td><td>5267762</td><td>20260</td><td> 78</td><td>67.57143</td><td> NA</td><td>NA</td><td> NA</td><td> NA</td><td>NA</td><td> NA</td><td>NA</td></tr>\n",
              "\t<tr><td>2021-03-18</td><td>01</td><td>北海道</td><td>北海道</td><td>北海道・東北</td><td>5267762</td><td>20182</td><td> 96</td><td>64.00000</td><td> NA</td><td>NA</td><td> NA</td><td> NA</td><td>NA</td><td> NA</td><td>NA</td></tr>\n",
              "\t<tr><td>2021-03-17</td><td>01</td><td>北海道</td><td>北海道</td><td>北海道・東北</td><td>5267762</td><td>20086</td><td> 73</td><td>60.42857</td><td> NA</td><td>NA</td><td> NA</td><td> NA</td><td>NA</td><td> NA</td><td>NA</td></tr>\n",
              "\t<tr><td>2021-03-16</td><td>01</td><td>北海道</td><td>北海道</td><td>北海道・東北</td><td>5267762</td><td>20013</td><td> 69</td><td>59.28571</td><td> NA</td><td>NA</td><td> NA</td><td> NA</td><td>NA</td><td> NA</td><td>NA</td></tr>\n",
              "\t<tr><td>2021-03-15</td><td>01</td><td>北海道</td><td>北海道</td><td>北海道・東北</td><td>5267762</td><td>19944</td><td> 54</td><td>58.42857</td><td> NA</td><td>NA</td><td> NA</td><td> NA</td><td>NA</td><td> NA</td><td>NA</td></tr>\n",
              "\t<tr><td>⋮</td><td>⋮</td><td>⋮</td><td>⋮</td><td>⋮</td><td>⋮</td><td>⋮</td><td>⋮</td><td>⋮</td><td>⋮</td><td>⋮</td><td>⋮</td><td>⋮</td><td>⋮</td><td>⋮</td><td>⋮</td></tr>\n",
              "\t<tr><td>2020-05-20</td><td>TOTAL/AVE</td><td>全国</td><td>全国</td><td>全国</td><td>127138033</td><td>16251</td><td> 37</td><td> 47.71429</td><td>NA</td><td>NA</td><td>NA</td><td>NA</td><td>NA</td><td>NA</td><td>NA</td></tr>\n",
              "\t<tr><td>2020-05-19</td><td>TOTAL/AVE</td><td>全国</td><td>全国</td><td>全国</td><td>127138033</td><td>16212</td><td> 31</td><td> 50.42857</td><td>NA</td><td>NA</td><td>NA</td><td>NA</td><td>NA</td><td>NA</td><td>NA</td></tr>\n",
              "\t<tr><td>2020-05-18</td><td>TOTAL/AVE</td><td>全国</td><td>全国</td><td>全国</td><td>127138033</td><td>16192</td><td> 30</td><td> 57.14286</td><td>NA</td><td>NA</td><td>NA</td><td>NA</td><td>NA</td><td>NA</td><td>NA</td></tr>\n",
              "\t<tr><td>2020-05-17</td><td>TOTAL/AVE</td><td>全国</td><td>全国</td><td>全国</td><td>127138033</td><td>16132</td><td> 28</td><td> 60.00000</td><td>NA</td><td>NA</td><td>NA</td><td>NA</td><td>NA</td><td>NA</td><td>NA</td></tr>\n",
              "\t<tr><td>2020-05-16</td><td>TOTAL/AVE</td><td>全国</td><td>全国</td><td>全国</td><td>127138033</td><td>16112</td><td> 57</td><td> 65.71429</td><td>NA</td><td>NA</td><td>NA</td><td>NA</td><td>NA</td><td>NA</td><td>NA</td></tr>\n",
              "\t<tr><td>2020-05-15</td><td>TOTAL/AVE</td><td>全国</td><td>全国</td><td>全国</td><td>127138033</td><td>16066</td><td> 52</td><td> 74.57143</td><td>NA</td><td>NA</td><td>NA</td><td>NA</td><td>NA</td><td>NA</td><td>NA</td></tr>\n",
              "\t<tr><td>2020-05-14</td><td>TOTAL/AVE</td><td>全国</td><td>全国</td><td>全国</td><td>127138033</td><td>16022</td><td> 99</td><td> 78.57143</td><td>NA</td><td>NA</td><td>NA</td><td>NA</td><td>NA</td><td>NA</td><td>NA</td></tr>\n",
              "\t<tr><td>2020-05-13</td><td>TOTAL/AVE</td><td>全国</td><td>全国</td><td>全国</td><td>127138033</td><td>15908</td><td> 56</td><td> 77.71429</td><td>NA</td><td>NA</td><td>NA</td><td>NA</td><td>NA</td><td>NA</td><td>NA</td></tr>\n",
              "\t<tr><td>2020-05-12</td><td>TOTAL/AVE</td><td>全国</td><td>全国</td><td>全国</td><td>127138033</td><td>15854</td><td> 78</td><td> 85.14286</td><td>NA</td><td>NA</td><td>NA</td><td>NA</td><td>NA</td><td>NA</td><td>NA</td></tr>\n",
              "\t<tr><td>2020-05-11</td><td>TOTAL/AVE</td><td>全国</td><td>全国</td><td>全国</td><td>127138033</td><td>15706</td><td> 50</td><td> 91.42857</td><td>NA</td><td>NA</td><td>NA</td><td>NA</td><td>NA</td><td>NA</td><td>NA</td></tr>\n",
              "\t<tr><td>2020-05-10</td><td>TOTAL/AVE</td><td>全国</td><td>全国</td><td>全国</td><td>127138033</td><td>15630</td><td> 68</td><td>109.00000</td><td>NA</td><td>NA</td><td>NA</td><td>NA</td><td>NA</td><td>NA</td><td>NA</td></tr>\n",
              "\t<tr><td>2020-05-09</td><td>TOTAL/AVE</td><td>全国</td><td>全国</td><td>全国</td><td>127138033</td><td>15581</td><td>119</td><td>127.85714</td><td>NA</td><td>NA</td><td>NA</td><td>NA</td><td>NA</td><td>NA</td><td>NA</td></tr>\n",
              "\t<tr><td>2020-05-08</td><td>TOTAL/AVE</td><td>全国</td><td>全国</td><td>全国</td><td>127138033</td><td>15462</td><td> 80</td><td>152.14286</td><td>NA</td><td>NA</td><td>NA</td><td>NA</td><td>NA</td><td>NA</td><td>NA</td></tr>\n",
              "\t<tr><td>2020-05-07</td><td>TOTAL/AVE</td><td>全国</td><td>全国</td><td>全国</td><td>127138033</td><td>15382</td><td> 93</td><td>178.00000</td><td>NA</td><td>NA</td><td>NA</td><td>NA</td><td>NA</td><td>NA</td><td>NA</td></tr>\n",
              "\t<tr><td>2020-05-06</td><td>TOTAL/AVE</td><td>全国</td><td>全国</td><td>全国</td><td>127138033</td><td>15300</td><td>108</td><td>191.42857</td><td>NA</td><td>NA</td><td>NA</td><td>NA</td><td>NA</td><td>NA</td><td>NA</td></tr>\n",
              "\t<tr><td>2020-05-05</td><td>TOTAL/AVE</td><td>全国</td><td>全国</td><td>全国</td><td>127138033</td><td>15192</td><td>122</td><td>206.57143</td><td>NA</td><td>NA</td><td>NA</td><td>NA</td><td>NA</td><td>NA</td><td>NA</td></tr>\n",
              "\t<tr><td>2020-05-04</td><td>TOTAL/AVE</td><td>全国</td><td>全国</td><td>全国</td><td>127138033</td><td>15069</td><td>173</td><td>228.00000</td><td>NA</td><td>NA</td><td>NA</td><td>NA</td><td>NA</td><td>NA</td><td>NA</td></tr>\n",
              "\t<tr><td>2020-05-03</td><td>TOTAL/AVE</td><td>全国</td><td>全国</td><td>全国</td><td>127138033</td><td>14895</td><td>200</td><td>229.42857</td><td>NA</td><td>NA</td><td>NA</td><td>NA</td><td>NA</td><td>NA</td><td>NA</td></tr>\n",
              "\t<tr><td>2020-05-02</td><td>TOTAL/AVE</td><td>全国</td><td>全国</td><td>全国</td><td>127138033</td><td>14677</td><td>289</td><td>229.28571</td><td>NA</td><td>NA</td><td>NA</td><td>NA</td><td>NA</td><td>NA</td><td>NA</td></tr>\n",
              "\t<tr><td>2020-05-01</td><td>TOTAL/AVE</td><td>全国</td><td>全国</td><td>全国</td><td>127138033</td><td>14383</td><td>261</td><td>237.42857</td><td>NA</td><td>NA</td><td>NA</td><td>NA</td><td>NA</td><td>NA</td><td>NA</td></tr>\n",
              "\t<tr><td>2020-04-30</td><td>TOTAL/AVE</td><td>全国</td><td>全国</td><td>全国</td><td>127138033</td><td>14120</td><td>187</td><td>260.57143</td><td>NA</td><td>NA</td><td>NA</td><td>NA</td><td>NA</td><td>NA</td><td>NA</td></tr>\n",
              "\t<tr><td>2020-04-29</td><td>TOTAL/AVE</td><td>全国</td><td>全国</td><td>全国</td><td>127138033</td><td>13929</td><td>214</td><td>295.85714</td><td>NA</td><td>NA</td><td>NA</td><td>NA</td><td>NA</td><td>NA</td><td>NA</td></tr>\n",
              "\t<tr><td>2020-04-28</td><td>TOTAL/AVE</td><td>全国</td><td>全国</td><td>全国</td><td>127138033</td><td>13695</td><td>272</td><td>325.28571</td><td>NA</td><td>NA</td><td>NA</td><td>NA</td><td>NA</td><td>NA</td><td>NA</td></tr>\n",
              "\t<tr><td>2020-04-27</td><td>TOTAL/AVE</td><td>全国</td><td>全国</td><td>全国</td><td>127138033</td><td>13422</td><td>183</td><td>339.28571</td><td>NA</td><td>NA</td><td>NA</td><td>NA</td><td>NA</td><td>NA</td><td>NA</td></tr>\n",
              "\t<tr><td>2020-04-26</td><td>TOTAL/AVE</td><td>全国</td><td>全国</td><td>全国</td><td>127138033</td><td>13232</td><td>199</td><td>       NA</td><td>NA</td><td>NA</td><td>NA</td><td>NA</td><td>NA</td><td>NA</td><td>NA</td></tr>\n",
              "\t<tr><td>2020-04-25</td><td>TOTAL/AVE</td><td>全国</td><td>全国</td><td>全国</td><td>127138033</td><td>13031</td><td>346</td><td>       NA</td><td>NA</td><td>NA</td><td>NA</td><td>NA</td><td>NA</td><td>NA</td><td>NA</td></tr>\n",
              "\t<tr><td>2020-04-24</td><td>TOTAL/AVE</td><td>全国</td><td>全国</td><td>全国</td><td>127138033</td><td>12681</td><td>423</td><td>       NA</td><td>NA</td><td>NA</td><td>NA</td><td>NA</td><td>NA</td><td>NA</td><td>NA</td></tr>\n",
              "\t<tr><td>2020-04-23</td><td>TOTAL/AVE</td><td>全国</td><td>全国</td><td>全国</td><td>127138033</td><td>12240</td><td>434</td><td>       NA</td><td>NA</td><td>NA</td><td>NA</td><td>NA</td><td>NA</td><td>NA</td><td>NA</td></tr>\n",
              "\t<tr><td>2020-04-22</td><td>TOTAL/AVE</td><td>全国</td><td>全国</td><td>全国</td><td>127138033</td><td>11772</td><td>420</td><td>       NA</td><td>NA</td><td>NA</td><td>NA</td><td>NA</td><td>NA</td><td>NA</td><td>NA</td></tr>\n",
              "\t<tr><td>2020-04-21</td><td>TOTAL/AVE</td><td>全国</td><td>全国</td><td>全国</td><td>127138033</td><td>11350</td><td>370</td><td>       NA</td><td>NA</td><td>NA</td><td>NA</td><td>NA</td><td>NA</td><td>NA</td><td>NA</td></tr>\n",
              "</tbody>\n",
              "</table>\n"
            ]
          },
          "metadata": {
            "tags": []
          }
        },
        {
          "output_type": "display_data",
          "data": {
            "text/plain": [
              "      prefecture date       code      prefecture_short block        population\n",
              "1     NA         <NA>       NA        NA               NA                NA   \n",
              "2     北海道     2021-04-12 01        北海道           北海道・東北 5267762   \n",
              "3     北海道     2021-04-11 01        北海道           北海道・東北 5267762   \n",
              "4     北海道     2021-04-10 01        北海道           北海道・東北 5267762   \n",
              "5     北海道     2021-04-09 01        北海道           北海道・東北 5267762   \n",
              "6     北海道     2021-04-08 01        北海道           北海道・東北 5267762   \n",
              "7     北海道     2021-04-07 01        北海道           北海道・東北 5267762   \n",
              "8     北海道     2021-04-06 01        北海道           北海道・東北 5267762   \n",
              "9     北海道     2021-04-05 01        北海道           北海道・東北 5267762   \n",
              "10    北海道     2021-04-04 01        北海道           北海道・東北 5267762   \n",
              "11    北海道     2021-04-03 01        北海道           北海道・東北 5267762   \n",
              "12    北海道     2021-04-02 01        北海道           北海道・東北 5267762   \n",
              "13    北海道     2021-04-01 01        北海道           北海道・東北 5267762   \n",
              "14    北海道     2021-03-31 01        北海道           北海道・東北 5267762   \n",
              "15    北海道     2021-03-30 01        北海道           北海道・東北 5267762   \n",
              "16    北海道     2021-03-29 01        北海道           北海道・東北 5267762   \n",
              "17    北海道     2021-03-28 01        北海道           北海道・東北 5267762   \n",
              "18    北海道     2021-03-27 01        北海道           北海道・東北 5267762   \n",
              "19    北海道     2021-03-26 01        北海道           北海道・東北 5267762   \n",
              "20    北海道     2021-03-25 01        北海道           北海道・東北 5267762   \n",
              "21    北海道     2021-03-24 01        北海道           北海道・東北 5267762   \n",
              "22    北海道     2021-03-23 01        北海道           北海道・東北 5267762   \n",
              "23    北海道     2021-03-22 01        北海道           北海道・東北 5267762   \n",
              "24    北海道     2021-03-21 01        北海道           北海道・東北 5267762   \n",
              "25    北海道     2021-03-20 01        北海道           北海道・東北 5267762   \n",
              "26    北海道     2021-03-19 01        北海道           北海道・東北 5267762   \n",
              "27    北海道     2021-03-18 01        北海道           北海道・東北 5267762   \n",
              "28    北海道     2021-03-17 01        北海道           北海道・東北 5267762   \n",
              "29    北海道     2021-03-16 01        北海道           北海道・東北 5267762   \n",
              "30    北海道     2021-03-15 01        北海道           北海道・東北 5267762   \n",
              "⋮     ⋮          ⋮          ⋮         ⋮                ⋮            ⋮         \n",
              "17187 全国       2020-05-20 TOTAL/AVE 全国             全国         127138033 \n",
              "17188 全国       2020-05-19 TOTAL/AVE 全国             全国         127138033 \n",
              "17189 全国       2020-05-18 TOTAL/AVE 全国             全国         127138033 \n",
              "17190 全国       2020-05-17 TOTAL/AVE 全国             全国         127138033 \n",
              "17191 全国       2020-05-16 TOTAL/AVE 全国             全国         127138033 \n",
              "17192 全国       2020-05-15 TOTAL/AVE 全国             全国         127138033 \n",
              "17193 全国       2020-05-14 TOTAL/AVE 全国             全国         127138033 \n",
              "17194 全国       2020-05-13 TOTAL/AVE 全国             全国         127138033 \n",
              "17195 全国       2020-05-12 TOTAL/AVE 全国             全国         127138033 \n",
              "17196 全国       2020-05-11 TOTAL/AVE 全国             全国         127138033 \n",
              "17197 全国       2020-05-10 TOTAL/AVE 全国             全国         127138033 \n",
              "17198 全国       2020-05-09 TOTAL/AVE 全国             全国         127138033 \n",
              "17199 全国       2020-05-08 TOTAL/AVE 全国             全国         127138033 \n",
              "17200 全国       2020-05-07 TOTAL/AVE 全国             全国         127138033 \n",
              "17201 全国       2020-05-06 TOTAL/AVE 全国             全国         127138033 \n",
              "17202 全国       2020-05-05 TOTAL/AVE 全国             全国         127138033 \n",
              "17203 全国       2020-05-04 TOTAL/AVE 全国             全国         127138033 \n",
              "17204 全国       2020-05-03 TOTAL/AVE 全国             全国         127138033 \n",
              "17205 全国       2020-05-02 TOTAL/AVE 全国             全国         127138033 \n",
              "17206 全国       2020-05-01 TOTAL/AVE 全国             全国         127138033 \n",
              "17207 全国       2020-04-30 TOTAL/AVE 全国             全国         127138033 \n",
              "17208 全国       2020-04-29 TOTAL/AVE 全国             全国         127138033 \n",
              "17209 全国       2020-04-28 TOTAL/AVE 全国             全国         127138033 \n",
              "17210 全国       2020-04-27 TOTAL/AVE 全国             全国         127138033 \n",
              "17211 全国       2020-04-26 TOTAL/AVE 全国             全国         127138033 \n",
              "17212 全国       2020-04-25 TOTAL/AVE 全国             全国         127138033 \n",
              "17213 全国       2020-04-24 TOTAL/AVE 全国             全国         127138033 \n",
              "17214 全国       2020-04-23 TOTAL/AVE 全国             全国         127138033 \n",
              "17215 全国       2020-04-22 TOTAL/AVE 全国             全国         127138033 \n",
              "17216 全国       2020-04-21 TOTAL/AVE 全国             全国         127138033 \n",
              "      sum_patients new_patients patients_ma7 status1 status2 status_all\n",
              "1        NA         NA                NA      NA     NA       NA       \n",
              "2     21838         58          77.14286     279      0      279       \n",
              "3     21780         69          79.00000       0      0        0       \n",
              "4     21711        116          76.71429       0      0        0       \n",
              "5     21595         83          69.57143       0      0        0       \n",
              "6     21512         79          65.85714       0      0        0       \n",
              "7     21433         72          62.71429       0      0        0       \n",
              "8     21361         63          63.28571       0      0        0       \n",
              "9     21298         71          62.28571       0      0        0       \n",
              "10    21227         53          58.71429       0      0        0       \n",
              "11    21174         66          61.71429       0      0        0       \n",
              "12    21108         57          61.14286       0      0        0       \n",
              "13    21051         57          62.85714       0      0        0       \n",
              "14    20994         76          64.28571       0      0        0       \n",
              "15    20918         56          65.00000       0      0        0       \n",
              "16    20862         46          63.00000       0      0        0       \n",
              "17    20816         74          63.57143       0      0        0       \n",
              "18    20742         62          61.57143       0      0        0       \n",
              "19    20680         69          60.00000       0      0        0       \n",
              "20    20611         67          61.28571       0      0        0       \n",
              "21    20544         81          65.42857       0      0        0       \n",
              "22    20463         42          64.28571       0      0        0       \n",
              "23    20421         50          68.14286       0      0        0       \n",
              "24    20371         60          68.71429       0      0        0       \n",
              "25    20311         51          66.57143       0      0        0       \n",
              "26    20260         78          67.57143       0      0        0       \n",
              "27    20182         96          64.00000       0      0        0       \n",
              "28    20086         73          60.42857       0      0        0       \n",
              "29    20013         69          59.28571       0      0        0       \n",
              "30    19944         54          58.42857       0      0        0       \n",
              "⋮     ⋮            ⋮            ⋮            ⋮       ⋮       ⋮         \n",
              "17187 16251         37           47.71429    0       0       0         \n",
              "17188 16212         31           50.42857    0       0       0         \n",
              "17189 16192         30           57.14286    0       0       0         \n",
              "17190 16132         28           60.00000    0       0       0         \n",
              "17191 16112         57           65.71429    0       0       0         \n",
              "17192 16066         52           74.57143    0       0       0         \n",
              "17193 16022         99           78.57143    0       0       0         \n",
              "17194 15908         56           77.71429    0       0       0         \n",
              "17195 15854         78           85.14286    0       0       0         \n",
              "17196 15706         50           91.42857    0       0       0         \n",
              "17197 15630         68          109.00000    0       0       0         \n",
              "17198 15581        119          127.85714    0       0       0         \n",
              "17199 15462         80          152.14286    0       0       0         \n",
              "17200 15382         93          178.00000    0       0       0         \n",
              "17201 15300        108          191.42857    0       0       0         \n",
              "17202 15192        122          206.57143    0       0       0         \n",
              "17203 15069        173          228.00000    0       0       0         \n",
              "17204 14895        200          229.42857    0       0       0         \n",
              "17205 14677        289          229.28571    0       0       0         \n",
              "17206 14383        261          237.42857    0       0       0         \n",
              "17207 14120        187          260.57143    0       0       0         \n",
              "17208 13929        214          295.85714    0       0       0         \n",
              "17209 13695        272          325.28571    0       0       0         \n",
              "17210 13422        183          339.28571    0       0       0         \n",
              "17211 13232        199                 NA    0       0       0         \n",
              "17212 13031        346                 NA    0       0       0         \n",
              "17213 12681        423                 NA    0       0       0         \n",
              "17214 12240        434                 NA    0       0       0         \n",
              "17215 11772        420                 NA    0       0       0         \n",
              "17216 11350        370                 NA    0       0       0         \n",
              "      total_status1 total_status2 total_status_all cum_vaccinations\n",
              "1      NA           NA             NA              NA              \n",
              "2     279            0            279               0              \n",
              "3     279            0            279               0              \n",
              "4     279            0            279               0              \n",
              "5     279            0            279               0              \n",
              "6     279            0            279               0              \n",
              "7     279            0            279               0              \n",
              "8     279            0            279               0              \n",
              "9     279            0            279               0              \n",
              "10    279            0            279               0              \n",
              "11    279            0            279               0              \n",
              "12    279            0            279               0              \n",
              "13    279            0            279               0              \n",
              "14    279            0            279               0              \n",
              "15    279            0            279               0              \n",
              "16    279            0            279               0              \n",
              "17    279            0            279               0              \n",
              "18    279            0            279               0              \n",
              "19    279            0            279               0              \n",
              "20    279            0            279               0              \n",
              "21    279            0            279               0              \n",
              "22    279            0            279               0              \n",
              "23    279            0            279               0              \n",
              "24    279            0            279               0              \n",
              "25    279            0            279               0              \n",
              "26    279            0            279               0              \n",
              "27    279            0            279               0              \n",
              "28    279            0            279               0              \n",
              "29    279            0            279               0              \n",
              "30    279            0            279               0              \n",
              "⋮     ⋮             ⋮             ⋮                ⋮               \n",
              "17187 4855          0             4855             0               \n",
              "17188 4855          0             4855             0               \n",
              "17189 4855          0             4855             0               \n",
              "17190 4855          0             4855             0               \n",
              "17191 4855          0             4855             0               \n",
              "17192 4855          0             4855             0               \n",
              "17193 4855          0             4855             0               \n",
              "17194 4855          0             4855             0               \n",
              "17195 4855          0             4855             0               \n",
              "17196 4855          0             4855             0               \n",
              "17197 4855          0             4855             0               \n",
              "17198 4855          0             4855             0               \n",
              "17199 4855          0             4855             0               \n",
              "17200 4855          0             4855             0               \n",
              "17201 4855          0             4855             0               \n",
              "17202 4855          0             4855             0               \n",
              "17203 4855          0             4855             0               \n",
              "17204 4855          0             4855             0               \n",
              "17205 4855          0             4855             0               \n",
              "17206 4855          0             4855             0               \n",
              "17207 4855          0             4855             0               \n",
              "17208 4855          0             4855             0               \n",
              "17209 4855          0             4855             0               \n",
              "17210 4855          0             4855             0               \n",
              "17211 4855          0             4855             0               \n",
              "17212 4855          0             4855             0               \n",
              "17213 4855          0             4855             0               \n",
              "17214 4855          0             4855             0               \n",
              "17215 4855          0             4855             0               \n",
              "17216 4855          0             4855             0               "
            ],
            "text/latex": "A tibble: 17216 × 16\n\\begin{tabular}{llllllllllllllll}\n prefecture & date & code & prefecture\\_short & block & population & sum\\_patients & new\\_patients & patients\\_ma7 & status1 & status2 & status\\_all & total\\_status1 & total\\_status2 & total\\_status\\_all & cum\\_vaccinations\\\\\n <fct> & <date> & <fct> & <fct> & <fct> & <int> & <int> & <int> & <dbl> & <dbl> & <dbl> & <dbl> & <dbl> & <dbl> & <dbl> & <dbl>\\\\\n\\hline\n\t NA     & NA & NA & NA     & NA           &      NA &    NA &  NA &       NA &  NA & NA &  NA &  NA & NA &  NA & NA\\\\\n\t 北海道 & 2021-04-12 & 01 & 北海道 & 北海道・東北 & 5267762 & 21838 &  58 & 77.14286 & 279 &  0 & 279 & 279 &  0 & 279 &  0\\\\\n\t 北海道 & 2021-04-11 & 01 & 北海道 & 北海道・東北 & 5267762 & 21780 &  69 & 79.00000 &   0 &  0 &   0 & 279 &  0 & 279 &  0\\\\\n\t 北海道 & 2021-04-10 & 01 & 北海道 & 北海道・東北 & 5267762 & 21711 & 116 & 76.71429 &   0 &  0 &   0 & 279 &  0 & 279 &  0\\\\\n\t 北海道 & 2021-04-09 & 01 & 北海道 & 北海道・東北 & 5267762 & 21595 &  83 & 69.57143 &   0 &  0 &   0 & 279 &  0 & 279 &  0\\\\\n\t 北海道 & 2021-04-08 & 01 & 北海道 & 北海道・東北 & 5267762 & 21512 &  79 & 65.85714 &   0 &  0 &   0 & 279 &  0 & 279 &  0\\\\\n\t 北海道 & 2021-04-07 & 01 & 北海道 & 北海道・東北 & 5267762 & 21433 &  72 & 62.71429 &   0 &  0 &   0 & 279 &  0 & 279 &  0\\\\\n\t 北海道 & 2021-04-06 & 01 & 北海道 & 北海道・東北 & 5267762 & 21361 &  63 & 63.28571 &   0 &  0 &   0 & 279 &  0 & 279 &  0\\\\\n\t 北海道 & 2021-04-05 & 01 & 北海道 & 北海道・東北 & 5267762 & 21298 &  71 & 62.28571 &   0 &  0 &   0 & 279 &  0 & 279 &  0\\\\\n\t 北海道 & 2021-04-04 & 01 & 北海道 & 北海道・東北 & 5267762 & 21227 &  53 & 58.71429 &   0 &  0 &   0 & 279 &  0 & 279 &  0\\\\\n\t 北海道 & 2021-04-03 & 01 & 北海道 & 北海道・東北 & 5267762 & 21174 &  66 & 61.71429 &   0 &  0 &   0 & 279 &  0 & 279 &  0\\\\\n\t 北海道 & 2021-04-02 & 01 & 北海道 & 北海道・東北 & 5267762 & 21108 &  57 & 61.14286 &   0 &  0 &   0 & 279 &  0 & 279 &  0\\\\\n\t 北海道 & 2021-04-01 & 01 & 北海道 & 北海道・東北 & 5267762 & 21051 &  57 & 62.85714 &   0 &  0 &   0 & 279 &  0 & 279 &  0\\\\\n\t 北海道 & 2021-03-31 & 01 & 北海道 & 北海道・東北 & 5267762 & 20994 &  76 & 64.28571 &   0 &  0 &   0 & 279 &  0 & 279 &  0\\\\\n\t 北海道 & 2021-03-30 & 01 & 北海道 & 北海道・東北 & 5267762 & 20918 &  56 & 65.00000 &   0 &  0 &   0 & 279 &  0 & 279 &  0\\\\\n\t 北海道 & 2021-03-29 & 01 & 北海道 & 北海道・東北 & 5267762 & 20862 &  46 & 63.00000 &   0 &  0 &   0 & 279 &  0 & 279 &  0\\\\\n\t 北海道 & 2021-03-28 & 01 & 北海道 & 北海道・東北 & 5267762 & 20816 &  74 & 63.57143 &   0 &  0 &   0 & 279 &  0 & 279 &  0\\\\\n\t 北海道 & 2021-03-27 & 01 & 北海道 & 北海道・東北 & 5267762 & 20742 &  62 & 61.57143 &   0 &  0 &   0 & 279 &  0 & 279 &  0\\\\\n\t 北海道 & 2021-03-26 & 01 & 北海道 & 北海道・東北 & 5267762 & 20680 &  69 & 60.00000 &   0 &  0 &   0 & 279 &  0 & 279 &  0\\\\\n\t 北海道 & 2021-03-25 & 01 & 北海道 & 北海道・東北 & 5267762 & 20611 &  67 & 61.28571 &   0 &  0 &   0 & 279 &  0 & 279 &  0\\\\\n\t 北海道 & 2021-03-24 & 01 & 北海道 & 北海道・東北 & 5267762 & 20544 &  81 & 65.42857 &   0 &  0 &   0 & 279 &  0 & 279 &  0\\\\\n\t 北海道 & 2021-03-23 & 01 & 北海道 & 北海道・東北 & 5267762 & 20463 &  42 & 64.28571 &   0 &  0 &   0 & 279 &  0 & 279 &  0\\\\\n\t 北海道 & 2021-03-22 & 01 & 北海道 & 北海道・東北 & 5267762 & 20421 &  50 & 68.14286 &   0 &  0 &   0 & 279 &  0 & 279 &  0\\\\\n\t 北海道 & 2021-03-21 & 01 & 北海道 & 北海道・東北 & 5267762 & 20371 &  60 & 68.71429 &   0 &  0 &   0 & 279 &  0 & 279 &  0\\\\\n\t 北海道 & 2021-03-20 & 01 & 北海道 & 北海道・東北 & 5267762 & 20311 &  51 & 66.57143 &   0 &  0 &   0 & 279 &  0 & 279 &  0\\\\\n\t 北海道 & 2021-03-19 & 01 & 北海道 & 北海道・東北 & 5267762 & 20260 &  78 & 67.57143 &   0 &  0 &   0 & 279 &  0 & 279 &  0\\\\\n\t 北海道 & 2021-03-18 & 01 & 北海道 & 北海道・東北 & 5267762 & 20182 &  96 & 64.00000 &   0 &  0 &   0 & 279 &  0 & 279 &  0\\\\\n\t 北海道 & 2021-03-17 & 01 & 北海道 & 北海道・東北 & 5267762 & 20086 &  73 & 60.42857 &   0 &  0 &   0 & 279 &  0 & 279 &  0\\\\\n\t 北海道 & 2021-03-16 & 01 & 北海道 & 北海道・東北 & 5267762 & 20013 &  69 & 59.28571 &   0 &  0 &   0 & 279 &  0 & 279 &  0\\\\\n\t 北海道 & 2021-03-15 & 01 & 北海道 & 北海道・東北 & 5267762 & 19944 &  54 & 58.42857 &   0 &  0 &   0 & 279 &  0 & 279 &  0\\\\\n\t ⋮ & ⋮ & ⋮ & ⋮ & ⋮ & ⋮ & ⋮ & ⋮ & ⋮ & ⋮ & ⋮ & ⋮ & ⋮ & ⋮ & ⋮ & ⋮\\\\\n\t 全国 & 2020-05-20 & TOTAL/AVE & 全国 & 全国 & 127138033 & 16251 &  37 &  47.71429 & 0 & 0 & 0 & 4855 & 0 & 4855 & 0\\\\\n\t 全国 & 2020-05-19 & TOTAL/AVE & 全国 & 全国 & 127138033 & 16212 &  31 &  50.42857 & 0 & 0 & 0 & 4855 & 0 & 4855 & 0\\\\\n\t 全国 & 2020-05-18 & TOTAL/AVE & 全国 & 全国 & 127138033 & 16192 &  30 &  57.14286 & 0 & 0 & 0 & 4855 & 0 & 4855 & 0\\\\\n\t 全国 & 2020-05-17 & TOTAL/AVE & 全国 & 全国 & 127138033 & 16132 &  28 &  60.00000 & 0 & 0 & 0 & 4855 & 0 & 4855 & 0\\\\\n\t 全国 & 2020-05-16 & TOTAL/AVE & 全国 & 全国 & 127138033 & 16112 &  57 &  65.71429 & 0 & 0 & 0 & 4855 & 0 & 4855 & 0\\\\\n\t 全国 & 2020-05-15 & TOTAL/AVE & 全国 & 全国 & 127138033 & 16066 &  52 &  74.57143 & 0 & 0 & 0 & 4855 & 0 & 4855 & 0\\\\\n\t 全国 & 2020-05-14 & TOTAL/AVE & 全国 & 全国 & 127138033 & 16022 &  99 &  78.57143 & 0 & 0 & 0 & 4855 & 0 & 4855 & 0\\\\\n\t 全国 & 2020-05-13 & TOTAL/AVE & 全国 & 全国 & 127138033 & 15908 &  56 &  77.71429 & 0 & 0 & 0 & 4855 & 0 & 4855 & 0\\\\\n\t 全国 & 2020-05-12 & TOTAL/AVE & 全国 & 全国 & 127138033 & 15854 &  78 &  85.14286 & 0 & 0 & 0 & 4855 & 0 & 4855 & 0\\\\\n\t 全国 & 2020-05-11 & TOTAL/AVE & 全国 & 全国 & 127138033 & 15706 &  50 &  91.42857 & 0 & 0 & 0 & 4855 & 0 & 4855 & 0\\\\\n\t 全国 & 2020-05-10 & TOTAL/AVE & 全国 & 全国 & 127138033 & 15630 &  68 & 109.00000 & 0 & 0 & 0 & 4855 & 0 & 4855 & 0\\\\\n\t 全国 & 2020-05-09 & TOTAL/AVE & 全国 & 全国 & 127138033 & 15581 & 119 & 127.85714 & 0 & 0 & 0 & 4855 & 0 & 4855 & 0\\\\\n\t 全国 & 2020-05-08 & TOTAL/AVE & 全国 & 全国 & 127138033 & 15462 &  80 & 152.14286 & 0 & 0 & 0 & 4855 & 0 & 4855 & 0\\\\\n\t 全国 & 2020-05-07 & TOTAL/AVE & 全国 & 全国 & 127138033 & 15382 &  93 & 178.00000 & 0 & 0 & 0 & 4855 & 0 & 4855 & 0\\\\\n\t 全国 & 2020-05-06 & TOTAL/AVE & 全国 & 全国 & 127138033 & 15300 & 108 & 191.42857 & 0 & 0 & 0 & 4855 & 0 & 4855 & 0\\\\\n\t 全国 & 2020-05-05 & TOTAL/AVE & 全国 & 全国 & 127138033 & 15192 & 122 & 206.57143 & 0 & 0 & 0 & 4855 & 0 & 4855 & 0\\\\\n\t 全国 & 2020-05-04 & TOTAL/AVE & 全国 & 全国 & 127138033 & 15069 & 173 & 228.00000 & 0 & 0 & 0 & 4855 & 0 & 4855 & 0\\\\\n\t 全国 & 2020-05-03 & TOTAL/AVE & 全国 & 全国 & 127138033 & 14895 & 200 & 229.42857 & 0 & 0 & 0 & 4855 & 0 & 4855 & 0\\\\\n\t 全国 & 2020-05-02 & TOTAL/AVE & 全国 & 全国 & 127138033 & 14677 & 289 & 229.28571 & 0 & 0 & 0 & 4855 & 0 & 4855 & 0\\\\\n\t 全国 & 2020-05-01 & TOTAL/AVE & 全国 & 全国 & 127138033 & 14383 & 261 & 237.42857 & 0 & 0 & 0 & 4855 & 0 & 4855 & 0\\\\\n\t 全国 & 2020-04-30 & TOTAL/AVE & 全国 & 全国 & 127138033 & 14120 & 187 & 260.57143 & 0 & 0 & 0 & 4855 & 0 & 4855 & 0\\\\\n\t 全国 & 2020-04-29 & TOTAL/AVE & 全国 & 全国 & 127138033 & 13929 & 214 & 295.85714 & 0 & 0 & 0 & 4855 & 0 & 4855 & 0\\\\\n\t 全国 & 2020-04-28 & TOTAL/AVE & 全国 & 全国 & 127138033 & 13695 & 272 & 325.28571 & 0 & 0 & 0 & 4855 & 0 & 4855 & 0\\\\\n\t 全国 & 2020-04-27 & TOTAL/AVE & 全国 & 全国 & 127138033 & 13422 & 183 & 339.28571 & 0 & 0 & 0 & 4855 & 0 & 4855 & 0\\\\\n\t 全国 & 2020-04-26 & TOTAL/AVE & 全国 & 全国 & 127138033 & 13232 & 199 &        NA & 0 & 0 & 0 & 4855 & 0 & 4855 & 0\\\\\n\t 全国 & 2020-04-25 & TOTAL/AVE & 全国 & 全国 & 127138033 & 13031 & 346 &        NA & 0 & 0 & 0 & 4855 & 0 & 4855 & 0\\\\\n\t 全国 & 2020-04-24 & TOTAL/AVE & 全国 & 全国 & 127138033 & 12681 & 423 &        NA & 0 & 0 & 0 & 4855 & 0 & 4855 & 0\\\\\n\t 全国 & 2020-04-23 & TOTAL/AVE & 全国 & 全国 & 127138033 & 12240 & 434 &        NA & 0 & 0 & 0 & 4855 & 0 & 4855 & 0\\\\\n\t 全国 & 2020-04-22 & TOTAL/AVE & 全国 & 全国 & 127138033 & 11772 & 420 &        NA & 0 & 0 & 0 & 4855 & 0 & 4855 & 0\\\\\n\t 全国 & 2020-04-21 & TOTAL/AVE & 全国 & 全国 & 127138033 & 11350 & 370 &        NA & 0 & 0 & 0 & 4855 & 0 & 4855 & 0\\\\\n\\end{tabular}\n",
            "text/markdown": "\nA tibble: 17216 × 16\n\n| prefecture &lt;fct&gt; | date &lt;date&gt; | code &lt;fct&gt; | prefecture_short &lt;fct&gt; | block &lt;fct&gt; | population &lt;int&gt; | sum_patients &lt;int&gt; | new_patients &lt;int&gt; | patients_ma7 &lt;dbl&gt; | status1 &lt;dbl&gt; | status2 &lt;dbl&gt; | status_all &lt;dbl&gt; | total_status1 &lt;dbl&gt; | total_status2 &lt;dbl&gt; | total_status_all &lt;dbl&gt; | cum_vaccinations &lt;dbl&gt; |\n|---|---|---|---|---|---|---|---|---|---|---|---|---|---|---|---|\n| NA     | NA | NA | NA     | NA           |      NA |    NA |  NA |       NA |  NA | NA |  NA |  NA | NA |  NA | NA |\n| 北海道 | 2021-04-12 | 01 | 北海道 | 北海道・東北 | 5267762 | 21838 |  58 | 77.14286 | 279 |  0 | 279 | 279 |  0 | 279 |  0 |\n| 北海道 | 2021-04-11 | 01 | 北海道 | 北海道・東北 | 5267762 | 21780 |  69 | 79.00000 |   0 |  0 |   0 | 279 |  0 | 279 |  0 |\n| 北海道 | 2021-04-10 | 01 | 北海道 | 北海道・東北 | 5267762 | 21711 | 116 | 76.71429 |   0 |  0 |   0 | 279 |  0 | 279 |  0 |\n| 北海道 | 2021-04-09 | 01 | 北海道 | 北海道・東北 | 5267762 | 21595 |  83 | 69.57143 |   0 |  0 |   0 | 279 |  0 | 279 |  0 |\n| 北海道 | 2021-04-08 | 01 | 北海道 | 北海道・東北 | 5267762 | 21512 |  79 | 65.85714 |   0 |  0 |   0 | 279 |  0 | 279 |  0 |\n| 北海道 | 2021-04-07 | 01 | 北海道 | 北海道・東北 | 5267762 | 21433 |  72 | 62.71429 |   0 |  0 |   0 | 279 |  0 | 279 |  0 |\n| 北海道 | 2021-04-06 | 01 | 北海道 | 北海道・東北 | 5267762 | 21361 |  63 | 63.28571 |   0 |  0 |   0 | 279 |  0 | 279 |  0 |\n| 北海道 | 2021-04-05 | 01 | 北海道 | 北海道・東北 | 5267762 | 21298 |  71 | 62.28571 |   0 |  0 |   0 | 279 |  0 | 279 |  0 |\n| 北海道 | 2021-04-04 | 01 | 北海道 | 北海道・東北 | 5267762 | 21227 |  53 | 58.71429 |   0 |  0 |   0 | 279 |  0 | 279 |  0 |\n| 北海道 | 2021-04-03 | 01 | 北海道 | 北海道・東北 | 5267762 | 21174 |  66 | 61.71429 |   0 |  0 |   0 | 279 |  0 | 279 |  0 |\n| 北海道 | 2021-04-02 | 01 | 北海道 | 北海道・東北 | 5267762 | 21108 |  57 | 61.14286 |   0 |  0 |   0 | 279 |  0 | 279 |  0 |\n| 北海道 | 2021-04-01 | 01 | 北海道 | 北海道・東北 | 5267762 | 21051 |  57 | 62.85714 |   0 |  0 |   0 | 279 |  0 | 279 |  0 |\n| 北海道 | 2021-03-31 | 01 | 北海道 | 北海道・東北 | 5267762 | 20994 |  76 | 64.28571 |   0 |  0 |   0 | 279 |  0 | 279 |  0 |\n| 北海道 | 2021-03-30 | 01 | 北海道 | 北海道・東北 | 5267762 | 20918 |  56 | 65.00000 |   0 |  0 |   0 | 279 |  0 | 279 |  0 |\n| 北海道 | 2021-03-29 | 01 | 北海道 | 北海道・東北 | 5267762 | 20862 |  46 | 63.00000 |   0 |  0 |   0 | 279 |  0 | 279 |  0 |\n| 北海道 | 2021-03-28 | 01 | 北海道 | 北海道・東北 | 5267762 | 20816 |  74 | 63.57143 |   0 |  0 |   0 | 279 |  0 | 279 |  0 |\n| 北海道 | 2021-03-27 | 01 | 北海道 | 北海道・東北 | 5267762 | 20742 |  62 | 61.57143 |   0 |  0 |   0 | 279 |  0 | 279 |  0 |\n| 北海道 | 2021-03-26 | 01 | 北海道 | 北海道・東北 | 5267762 | 20680 |  69 | 60.00000 |   0 |  0 |   0 | 279 |  0 | 279 |  0 |\n| 北海道 | 2021-03-25 | 01 | 北海道 | 北海道・東北 | 5267762 | 20611 |  67 | 61.28571 |   0 |  0 |   0 | 279 |  0 | 279 |  0 |\n| 北海道 | 2021-03-24 | 01 | 北海道 | 北海道・東北 | 5267762 | 20544 |  81 | 65.42857 |   0 |  0 |   0 | 279 |  0 | 279 |  0 |\n| 北海道 | 2021-03-23 | 01 | 北海道 | 北海道・東北 | 5267762 | 20463 |  42 | 64.28571 |   0 |  0 |   0 | 279 |  0 | 279 |  0 |\n| 北海道 | 2021-03-22 | 01 | 北海道 | 北海道・東北 | 5267762 | 20421 |  50 | 68.14286 |   0 |  0 |   0 | 279 |  0 | 279 |  0 |\n| 北海道 | 2021-03-21 | 01 | 北海道 | 北海道・東北 | 5267762 | 20371 |  60 | 68.71429 |   0 |  0 |   0 | 279 |  0 | 279 |  0 |\n| 北海道 | 2021-03-20 | 01 | 北海道 | 北海道・東北 | 5267762 | 20311 |  51 | 66.57143 |   0 |  0 |   0 | 279 |  0 | 279 |  0 |\n| 北海道 | 2021-03-19 | 01 | 北海道 | 北海道・東北 | 5267762 | 20260 |  78 | 67.57143 |   0 |  0 |   0 | 279 |  0 | 279 |  0 |\n| 北海道 | 2021-03-18 | 01 | 北海道 | 北海道・東北 | 5267762 | 20182 |  96 | 64.00000 |   0 |  0 |   0 | 279 |  0 | 279 |  0 |\n| 北海道 | 2021-03-17 | 01 | 北海道 | 北海道・東北 | 5267762 | 20086 |  73 | 60.42857 |   0 |  0 |   0 | 279 |  0 | 279 |  0 |\n| 北海道 | 2021-03-16 | 01 | 北海道 | 北海道・東北 | 5267762 | 20013 |  69 | 59.28571 |   0 |  0 |   0 | 279 |  0 | 279 |  0 |\n| 北海道 | 2021-03-15 | 01 | 北海道 | 北海道・東北 | 5267762 | 19944 |  54 | 58.42857 |   0 |  0 |   0 | 279 |  0 | 279 |  0 |\n| ⋮ | ⋮ | ⋮ | ⋮ | ⋮ | ⋮ | ⋮ | ⋮ | ⋮ | ⋮ | ⋮ | ⋮ | ⋮ | ⋮ | ⋮ | ⋮ |\n| 全国 | 2020-05-20 | TOTAL/AVE | 全国 | 全国 | 127138033 | 16251 |  37 |  47.71429 | 0 | 0 | 0 | 4855 | 0 | 4855 | 0 |\n| 全国 | 2020-05-19 | TOTAL/AVE | 全国 | 全国 | 127138033 | 16212 |  31 |  50.42857 | 0 | 0 | 0 | 4855 | 0 | 4855 | 0 |\n| 全国 | 2020-05-18 | TOTAL/AVE | 全国 | 全国 | 127138033 | 16192 |  30 |  57.14286 | 0 | 0 | 0 | 4855 | 0 | 4855 | 0 |\n| 全国 | 2020-05-17 | TOTAL/AVE | 全国 | 全国 | 127138033 | 16132 |  28 |  60.00000 | 0 | 0 | 0 | 4855 | 0 | 4855 | 0 |\n| 全国 | 2020-05-16 | TOTAL/AVE | 全国 | 全国 | 127138033 | 16112 |  57 |  65.71429 | 0 | 0 | 0 | 4855 | 0 | 4855 | 0 |\n| 全国 | 2020-05-15 | TOTAL/AVE | 全国 | 全国 | 127138033 | 16066 |  52 |  74.57143 | 0 | 0 | 0 | 4855 | 0 | 4855 | 0 |\n| 全国 | 2020-05-14 | TOTAL/AVE | 全国 | 全国 | 127138033 | 16022 |  99 |  78.57143 | 0 | 0 | 0 | 4855 | 0 | 4855 | 0 |\n| 全国 | 2020-05-13 | TOTAL/AVE | 全国 | 全国 | 127138033 | 15908 |  56 |  77.71429 | 0 | 0 | 0 | 4855 | 0 | 4855 | 0 |\n| 全国 | 2020-05-12 | TOTAL/AVE | 全国 | 全国 | 127138033 | 15854 |  78 |  85.14286 | 0 | 0 | 0 | 4855 | 0 | 4855 | 0 |\n| 全国 | 2020-05-11 | TOTAL/AVE | 全国 | 全国 | 127138033 | 15706 |  50 |  91.42857 | 0 | 0 | 0 | 4855 | 0 | 4855 | 0 |\n| 全国 | 2020-05-10 | TOTAL/AVE | 全国 | 全国 | 127138033 | 15630 |  68 | 109.00000 | 0 | 0 | 0 | 4855 | 0 | 4855 | 0 |\n| 全国 | 2020-05-09 | TOTAL/AVE | 全国 | 全国 | 127138033 | 15581 | 119 | 127.85714 | 0 | 0 | 0 | 4855 | 0 | 4855 | 0 |\n| 全国 | 2020-05-08 | TOTAL/AVE | 全国 | 全国 | 127138033 | 15462 |  80 | 152.14286 | 0 | 0 | 0 | 4855 | 0 | 4855 | 0 |\n| 全国 | 2020-05-07 | TOTAL/AVE | 全国 | 全国 | 127138033 | 15382 |  93 | 178.00000 | 0 | 0 | 0 | 4855 | 0 | 4855 | 0 |\n| 全国 | 2020-05-06 | TOTAL/AVE | 全国 | 全国 | 127138033 | 15300 | 108 | 191.42857 | 0 | 0 | 0 | 4855 | 0 | 4855 | 0 |\n| 全国 | 2020-05-05 | TOTAL/AVE | 全国 | 全国 | 127138033 | 15192 | 122 | 206.57143 | 0 | 0 | 0 | 4855 | 0 | 4855 | 0 |\n| 全国 | 2020-05-04 | TOTAL/AVE | 全国 | 全国 | 127138033 | 15069 | 173 | 228.00000 | 0 | 0 | 0 | 4855 | 0 | 4855 | 0 |\n| 全国 | 2020-05-03 | TOTAL/AVE | 全国 | 全国 | 127138033 | 14895 | 200 | 229.42857 | 0 | 0 | 0 | 4855 | 0 | 4855 | 0 |\n| 全国 | 2020-05-02 | TOTAL/AVE | 全国 | 全国 | 127138033 | 14677 | 289 | 229.28571 | 0 | 0 | 0 | 4855 | 0 | 4855 | 0 |\n| 全国 | 2020-05-01 | TOTAL/AVE | 全国 | 全国 | 127138033 | 14383 | 261 | 237.42857 | 0 | 0 | 0 | 4855 | 0 | 4855 | 0 |\n| 全国 | 2020-04-30 | TOTAL/AVE | 全国 | 全国 | 127138033 | 14120 | 187 | 260.57143 | 0 | 0 | 0 | 4855 | 0 | 4855 | 0 |\n| 全国 | 2020-04-29 | TOTAL/AVE | 全国 | 全国 | 127138033 | 13929 | 214 | 295.85714 | 0 | 0 | 0 | 4855 | 0 | 4855 | 0 |\n| 全国 | 2020-04-28 | TOTAL/AVE | 全国 | 全国 | 127138033 | 13695 | 272 | 325.28571 | 0 | 0 | 0 | 4855 | 0 | 4855 | 0 |\n| 全国 | 2020-04-27 | TOTAL/AVE | 全国 | 全国 | 127138033 | 13422 | 183 | 339.28571 | 0 | 0 | 0 | 4855 | 0 | 4855 | 0 |\n| 全国 | 2020-04-26 | TOTAL/AVE | 全国 | 全国 | 127138033 | 13232 | 199 |        NA | 0 | 0 | 0 | 4855 | 0 | 4855 | 0 |\n| 全国 | 2020-04-25 | TOTAL/AVE | 全国 | 全国 | 127138033 | 13031 | 346 |        NA | 0 | 0 | 0 | 4855 | 0 | 4855 | 0 |\n| 全国 | 2020-04-24 | TOTAL/AVE | 全国 | 全国 | 127138033 | 12681 | 423 |        NA | 0 | 0 | 0 | 4855 | 0 | 4855 | 0 |\n| 全国 | 2020-04-23 | TOTAL/AVE | 全国 | 全国 | 127138033 | 12240 | 434 |        NA | 0 | 0 | 0 | 4855 | 0 | 4855 | 0 |\n| 全国 | 2020-04-22 | TOTAL/AVE | 全国 | 全国 | 127138033 | 11772 | 420 |        NA | 0 | 0 | 0 | 4855 | 0 | 4855 | 0 |\n| 全国 | 2020-04-21 | TOTAL/AVE | 全国 | 全国 | 127138033 | 11350 | 370 |        NA | 0 | 0 | 0 | 4855 | 0 | 4855 | 0 |\n\n",
            "text/html": [
              "<table class=\"dataframe\">\n",
              "<caption>A tibble: 17216 × 16</caption>\n",
              "<thead>\n",
              "\t<tr><th scope=col>prefecture</th><th scope=col>date</th><th scope=col>code</th><th scope=col>prefecture_short</th><th scope=col>block</th><th scope=col>population</th><th scope=col>sum_patients</th><th scope=col>new_patients</th><th scope=col>patients_ma7</th><th scope=col>status1</th><th scope=col>status2</th><th scope=col>status_all</th><th scope=col>total_status1</th><th scope=col>total_status2</th><th scope=col>total_status_all</th><th scope=col>cum_vaccinations</th></tr>\n",
              "\t<tr><th scope=col>&lt;fct&gt;</th><th scope=col>&lt;date&gt;</th><th scope=col>&lt;fct&gt;</th><th scope=col>&lt;fct&gt;</th><th scope=col>&lt;fct&gt;</th><th scope=col>&lt;int&gt;</th><th scope=col>&lt;int&gt;</th><th scope=col>&lt;int&gt;</th><th scope=col>&lt;dbl&gt;</th><th scope=col>&lt;dbl&gt;</th><th scope=col>&lt;dbl&gt;</th><th scope=col>&lt;dbl&gt;</th><th scope=col>&lt;dbl&gt;</th><th scope=col>&lt;dbl&gt;</th><th scope=col>&lt;dbl&gt;</th><th scope=col>&lt;dbl&gt;</th></tr>\n",
              "</thead>\n",
              "<tbody>\n",
              "\t<tr><td>NA    </td><td>NA</td><td>NA</td><td>NA    </td><td>NA          </td><td>     NA</td><td>   NA</td><td> NA</td><td>      NA</td><td> NA</td><td>NA</td><td> NA</td><td> NA</td><td>NA</td><td> NA</td><td>NA</td></tr>\n",
              "\t<tr><td>北海道</td><td>2021-04-12</td><td>01</td><td>北海道</td><td>北海道・東北</td><td>5267762</td><td>21838</td><td> 58</td><td>77.14286</td><td>279</td><td> 0</td><td>279</td><td>279</td><td> 0</td><td>279</td><td> 0</td></tr>\n",
              "\t<tr><td>北海道</td><td>2021-04-11</td><td>01</td><td>北海道</td><td>北海道・東北</td><td>5267762</td><td>21780</td><td> 69</td><td>79.00000</td><td>  0</td><td> 0</td><td>  0</td><td>279</td><td> 0</td><td>279</td><td> 0</td></tr>\n",
              "\t<tr><td>北海道</td><td>2021-04-10</td><td>01</td><td>北海道</td><td>北海道・東北</td><td>5267762</td><td>21711</td><td>116</td><td>76.71429</td><td>  0</td><td> 0</td><td>  0</td><td>279</td><td> 0</td><td>279</td><td> 0</td></tr>\n",
              "\t<tr><td>北海道</td><td>2021-04-09</td><td>01</td><td>北海道</td><td>北海道・東北</td><td>5267762</td><td>21595</td><td> 83</td><td>69.57143</td><td>  0</td><td> 0</td><td>  0</td><td>279</td><td> 0</td><td>279</td><td> 0</td></tr>\n",
              "\t<tr><td>北海道</td><td>2021-04-08</td><td>01</td><td>北海道</td><td>北海道・東北</td><td>5267762</td><td>21512</td><td> 79</td><td>65.85714</td><td>  0</td><td> 0</td><td>  0</td><td>279</td><td> 0</td><td>279</td><td> 0</td></tr>\n",
              "\t<tr><td>北海道</td><td>2021-04-07</td><td>01</td><td>北海道</td><td>北海道・東北</td><td>5267762</td><td>21433</td><td> 72</td><td>62.71429</td><td>  0</td><td> 0</td><td>  0</td><td>279</td><td> 0</td><td>279</td><td> 0</td></tr>\n",
              "\t<tr><td>北海道</td><td>2021-04-06</td><td>01</td><td>北海道</td><td>北海道・東北</td><td>5267762</td><td>21361</td><td> 63</td><td>63.28571</td><td>  0</td><td> 0</td><td>  0</td><td>279</td><td> 0</td><td>279</td><td> 0</td></tr>\n",
              "\t<tr><td>北海道</td><td>2021-04-05</td><td>01</td><td>北海道</td><td>北海道・東北</td><td>5267762</td><td>21298</td><td> 71</td><td>62.28571</td><td>  0</td><td> 0</td><td>  0</td><td>279</td><td> 0</td><td>279</td><td> 0</td></tr>\n",
              "\t<tr><td>北海道</td><td>2021-04-04</td><td>01</td><td>北海道</td><td>北海道・東北</td><td>5267762</td><td>21227</td><td> 53</td><td>58.71429</td><td>  0</td><td> 0</td><td>  0</td><td>279</td><td> 0</td><td>279</td><td> 0</td></tr>\n",
              "\t<tr><td>北海道</td><td>2021-04-03</td><td>01</td><td>北海道</td><td>北海道・東北</td><td>5267762</td><td>21174</td><td> 66</td><td>61.71429</td><td>  0</td><td> 0</td><td>  0</td><td>279</td><td> 0</td><td>279</td><td> 0</td></tr>\n",
              "\t<tr><td>北海道</td><td>2021-04-02</td><td>01</td><td>北海道</td><td>北海道・東北</td><td>5267762</td><td>21108</td><td> 57</td><td>61.14286</td><td>  0</td><td> 0</td><td>  0</td><td>279</td><td> 0</td><td>279</td><td> 0</td></tr>\n",
              "\t<tr><td>北海道</td><td>2021-04-01</td><td>01</td><td>北海道</td><td>北海道・東北</td><td>5267762</td><td>21051</td><td> 57</td><td>62.85714</td><td>  0</td><td> 0</td><td>  0</td><td>279</td><td> 0</td><td>279</td><td> 0</td></tr>\n",
              "\t<tr><td>北海道</td><td>2021-03-31</td><td>01</td><td>北海道</td><td>北海道・東北</td><td>5267762</td><td>20994</td><td> 76</td><td>64.28571</td><td>  0</td><td> 0</td><td>  0</td><td>279</td><td> 0</td><td>279</td><td> 0</td></tr>\n",
              "\t<tr><td>北海道</td><td>2021-03-30</td><td>01</td><td>北海道</td><td>北海道・東北</td><td>5267762</td><td>20918</td><td> 56</td><td>65.00000</td><td>  0</td><td> 0</td><td>  0</td><td>279</td><td> 0</td><td>279</td><td> 0</td></tr>\n",
              "\t<tr><td>北海道</td><td>2021-03-29</td><td>01</td><td>北海道</td><td>北海道・東北</td><td>5267762</td><td>20862</td><td> 46</td><td>63.00000</td><td>  0</td><td> 0</td><td>  0</td><td>279</td><td> 0</td><td>279</td><td> 0</td></tr>\n",
              "\t<tr><td>北海道</td><td>2021-03-28</td><td>01</td><td>北海道</td><td>北海道・東北</td><td>5267762</td><td>20816</td><td> 74</td><td>63.57143</td><td>  0</td><td> 0</td><td>  0</td><td>279</td><td> 0</td><td>279</td><td> 0</td></tr>\n",
              "\t<tr><td>北海道</td><td>2021-03-27</td><td>01</td><td>北海道</td><td>北海道・東北</td><td>5267762</td><td>20742</td><td> 62</td><td>61.57143</td><td>  0</td><td> 0</td><td>  0</td><td>279</td><td> 0</td><td>279</td><td> 0</td></tr>\n",
              "\t<tr><td>北海道</td><td>2021-03-26</td><td>01</td><td>北海道</td><td>北海道・東北</td><td>5267762</td><td>20680</td><td> 69</td><td>60.00000</td><td>  0</td><td> 0</td><td>  0</td><td>279</td><td> 0</td><td>279</td><td> 0</td></tr>\n",
              "\t<tr><td>北海道</td><td>2021-03-25</td><td>01</td><td>北海道</td><td>北海道・東北</td><td>5267762</td><td>20611</td><td> 67</td><td>61.28571</td><td>  0</td><td> 0</td><td>  0</td><td>279</td><td> 0</td><td>279</td><td> 0</td></tr>\n",
              "\t<tr><td>北海道</td><td>2021-03-24</td><td>01</td><td>北海道</td><td>北海道・東北</td><td>5267762</td><td>20544</td><td> 81</td><td>65.42857</td><td>  0</td><td> 0</td><td>  0</td><td>279</td><td> 0</td><td>279</td><td> 0</td></tr>\n",
              "\t<tr><td>北海道</td><td>2021-03-23</td><td>01</td><td>北海道</td><td>北海道・東北</td><td>5267762</td><td>20463</td><td> 42</td><td>64.28571</td><td>  0</td><td> 0</td><td>  0</td><td>279</td><td> 0</td><td>279</td><td> 0</td></tr>\n",
              "\t<tr><td>北海道</td><td>2021-03-22</td><td>01</td><td>北海道</td><td>北海道・東北</td><td>5267762</td><td>20421</td><td> 50</td><td>68.14286</td><td>  0</td><td> 0</td><td>  0</td><td>279</td><td> 0</td><td>279</td><td> 0</td></tr>\n",
              "\t<tr><td>北海道</td><td>2021-03-21</td><td>01</td><td>北海道</td><td>北海道・東北</td><td>5267762</td><td>20371</td><td> 60</td><td>68.71429</td><td>  0</td><td> 0</td><td>  0</td><td>279</td><td> 0</td><td>279</td><td> 0</td></tr>\n",
              "\t<tr><td>北海道</td><td>2021-03-20</td><td>01</td><td>北海道</td><td>北海道・東北</td><td>5267762</td><td>20311</td><td> 51</td><td>66.57143</td><td>  0</td><td> 0</td><td>  0</td><td>279</td><td> 0</td><td>279</td><td> 0</td></tr>\n",
              "\t<tr><td>北海道</td><td>2021-03-19</td><td>01</td><td>北海道</td><td>北海道・東北</td><td>5267762</td><td>20260</td><td> 78</td><td>67.57143</td><td>  0</td><td> 0</td><td>  0</td><td>279</td><td> 0</td><td>279</td><td> 0</td></tr>\n",
              "\t<tr><td>北海道</td><td>2021-03-18</td><td>01</td><td>北海道</td><td>北海道・東北</td><td>5267762</td><td>20182</td><td> 96</td><td>64.00000</td><td>  0</td><td> 0</td><td>  0</td><td>279</td><td> 0</td><td>279</td><td> 0</td></tr>\n",
              "\t<tr><td>北海道</td><td>2021-03-17</td><td>01</td><td>北海道</td><td>北海道・東北</td><td>5267762</td><td>20086</td><td> 73</td><td>60.42857</td><td>  0</td><td> 0</td><td>  0</td><td>279</td><td> 0</td><td>279</td><td> 0</td></tr>\n",
              "\t<tr><td>北海道</td><td>2021-03-16</td><td>01</td><td>北海道</td><td>北海道・東北</td><td>5267762</td><td>20013</td><td> 69</td><td>59.28571</td><td>  0</td><td> 0</td><td>  0</td><td>279</td><td> 0</td><td>279</td><td> 0</td></tr>\n",
              "\t<tr><td>北海道</td><td>2021-03-15</td><td>01</td><td>北海道</td><td>北海道・東北</td><td>5267762</td><td>19944</td><td> 54</td><td>58.42857</td><td>  0</td><td> 0</td><td>  0</td><td>279</td><td> 0</td><td>279</td><td> 0</td></tr>\n",
              "\t<tr><td>⋮</td><td>⋮</td><td>⋮</td><td>⋮</td><td>⋮</td><td>⋮</td><td>⋮</td><td>⋮</td><td>⋮</td><td>⋮</td><td>⋮</td><td>⋮</td><td>⋮</td><td>⋮</td><td>⋮</td><td>⋮</td></tr>\n",
              "\t<tr><td>全国</td><td>2020-05-20</td><td>TOTAL/AVE</td><td>全国</td><td>全国</td><td>127138033</td><td>16251</td><td> 37</td><td> 47.71429</td><td>0</td><td>0</td><td>0</td><td>4855</td><td>0</td><td>4855</td><td>0</td></tr>\n",
              "\t<tr><td>全国</td><td>2020-05-19</td><td>TOTAL/AVE</td><td>全国</td><td>全国</td><td>127138033</td><td>16212</td><td> 31</td><td> 50.42857</td><td>0</td><td>0</td><td>0</td><td>4855</td><td>0</td><td>4855</td><td>0</td></tr>\n",
              "\t<tr><td>全国</td><td>2020-05-18</td><td>TOTAL/AVE</td><td>全国</td><td>全国</td><td>127138033</td><td>16192</td><td> 30</td><td> 57.14286</td><td>0</td><td>0</td><td>0</td><td>4855</td><td>0</td><td>4855</td><td>0</td></tr>\n",
              "\t<tr><td>全国</td><td>2020-05-17</td><td>TOTAL/AVE</td><td>全国</td><td>全国</td><td>127138033</td><td>16132</td><td> 28</td><td> 60.00000</td><td>0</td><td>0</td><td>0</td><td>4855</td><td>0</td><td>4855</td><td>0</td></tr>\n",
              "\t<tr><td>全国</td><td>2020-05-16</td><td>TOTAL/AVE</td><td>全国</td><td>全国</td><td>127138033</td><td>16112</td><td> 57</td><td> 65.71429</td><td>0</td><td>0</td><td>0</td><td>4855</td><td>0</td><td>4855</td><td>0</td></tr>\n",
              "\t<tr><td>全国</td><td>2020-05-15</td><td>TOTAL/AVE</td><td>全国</td><td>全国</td><td>127138033</td><td>16066</td><td> 52</td><td> 74.57143</td><td>0</td><td>0</td><td>0</td><td>4855</td><td>0</td><td>4855</td><td>0</td></tr>\n",
              "\t<tr><td>全国</td><td>2020-05-14</td><td>TOTAL/AVE</td><td>全国</td><td>全国</td><td>127138033</td><td>16022</td><td> 99</td><td> 78.57143</td><td>0</td><td>0</td><td>0</td><td>4855</td><td>0</td><td>4855</td><td>0</td></tr>\n",
              "\t<tr><td>全国</td><td>2020-05-13</td><td>TOTAL/AVE</td><td>全国</td><td>全国</td><td>127138033</td><td>15908</td><td> 56</td><td> 77.71429</td><td>0</td><td>0</td><td>0</td><td>4855</td><td>0</td><td>4855</td><td>0</td></tr>\n",
              "\t<tr><td>全国</td><td>2020-05-12</td><td>TOTAL/AVE</td><td>全国</td><td>全国</td><td>127138033</td><td>15854</td><td> 78</td><td> 85.14286</td><td>0</td><td>0</td><td>0</td><td>4855</td><td>0</td><td>4855</td><td>0</td></tr>\n",
              "\t<tr><td>全国</td><td>2020-05-11</td><td>TOTAL/AVE</td><td>全国</td><td>全国</td><td>127138033</td><td>15706</td><td> 50</td><td> 91.42857</td><td>0</td><td>0</td><td>0</td><td>4855</td><td>0</td><td>4855</td><td>0</td></tr>\n",
              "\t<tr><td>全国</td><td>2020-05-10</td><td>TOTAL/AVE</td><td>全国</td><td>全国</td><td>127138033</td><td>15630</td><td> 68</td><td>109.00000</td><td>0</td><td>0</td><td>0</td><td>4855</td><td>0</td><td>4855</td><td>0</td></tr>\n",
              "\t<tr><td>全国</td><td>2020-05-09</td><td>TOTAL/AVE</td><td>全国</td><td>全国</td><td>127138033</td><td>15581</td><td>119</td><td>127.85714</td><td>0</td><td>0</td><td>0</td><td>4855</td><td>0</td><td>4855</td><td>0</td></tr>\n",
              "\t<tr><td>全国</td><td>2020-05-08</td><td>TOTAL/AVE</td><td>全国</td><td>全国</td><td>127138033</td><td>15462</td><td> 80</td><td>152.14286</td><td>0</td><td>0</td><td>0</td><td>4855</td><td>0</td><td>4855</td><td>0</td></tr>\n",
              "\t<tr><td>全国</td><td>2020-05-07</td><td>TOTAL/AVE</td><td>全国</td><td>全国</td><td>127138033</td><td>15382</td><td> 93</td><td>178.00000</td><td>0</td><td>0</td><td>0</td><td>4855</td><td>0</td><td>4855</td><td>0</td></tr>\n",
              "\t<tr><td>全国</td><td>2020-05-06</td><td>TOTAL/AVE</td><td>全国</td><td>全国</td><td>127138033</td><td>15300</td><td>108</td><td>191.42857</td><td>0</td><td>0</td><td>0</td><td>4855</td><td>0</td><td>4855</td><td>0</td></tr>\n",
              "\t<tr><td>全国</td><td>2020-05-05</td><td>TOTAL/AVE</td><td>全国</td><td>全国</td><td>127138033</td><td>15192</td><td>122</td><td>206.57143</td><td>0</td><td>0</td><td>0</td><td>4855</td><td>0</td><td>4855</td><td>0</td></tr>\n",
              "\t<tr><td>全国</td><td>2020-05-04</td><td>TOTAL/AVE</td><td>全国</td><td>全国</td><td>127138033</td><td>15069</td><td>173</td><td>228.00000</td><td>0</td><td>0</td><td>0</td><td>4855</td><td>0</td><td>4855</td><td>0</td></tr>\n",
              "\t<tr><td>全国</td><td>2020-05-03</td><td>TOTAL/AVE</td><td>全国</td><td>全国</td><td>127138033</td><td>14895</td><td>200</td><td>229.42857</td><td>0</td><td>0</td><td>0</td><td>4855</td><td>0</td><td>4855</td><td>0</td></tr>\n",
              "\t<tr><td>全国</td><td>2020-05-02</td><td>TOTAL/AVE</td><td>全国</td><td>全国</td><td>127138033</td><td>14677</td><td>289</td><td>229.28571</td><td>0</td><td>0</td><td>0</td><td>4855</td><td>0</td><td>4855</td><td>0</td></tr>\n",
              "\t<tr><td>全国</td><td>2020-05-01</td><td>TOTAL/AVE</td><td>全国</td><td>全国</td><td>127138033</td><td>14383</td><td>261</td><td>237.42857</td><td>0</td><td>0</td><td>0</td><td>4855</td><td>0</td><td>4855</td><td>0</td></tr>\n",
              "\t<tr><td>全国</td><td>2020-04-30</td><td>TOTAL/AVE</td><td>全国</td><td>全国</td><td>127138033</td><td>14120</td><td>187</td><td>260.57143</td><td>0</td><td>0</td><td>0</td><td>4855</td><td>0</td><td>4855</td><td>0</td></tr>\n",
              "\t<tr><td>全国</td><td>2020-04-29</td><td>TOTAL/AVE</td><td>全国</td><td>全国</td><td>127138033</td><td>13929</td><td>214</td><td>295.85714</td><td>0</td><td>0</td><td>0</td><td>4855</td><td>0</td><td>4855</td><td>0</td></tr>\n",
              "\t<tr><td>全国</td><td>2020-04-28</td><td>TOTAL/AVE</td><td>全国</td><td>全国</td><td>127138033</td><td>13695</td><td>272</td><td>325.28571</td><td>0</td><td>0</td><td>0</td><td>4855</td><td>0</td><td>4855</td><td>0</td></tr>\n",
              "\t<tr><td>全国</td><td>2020-04-27</td><td>TOTAL/AVE</td><td>全国</td><td>全国</td><td>127138033</td><td>13422</td><td>183</td><td>339.28571</td><td>0</td><td>0</td><td>0</td><td>4855</td><td>0</td><td>4855</td><td>0</td></tr>\n",
              "\t<tr><td>全国</td><td>2020-04-26</td><td>TOTAL/AVE</td><td>全国</td><td>全国</td><td>127138033</td><td>13232</td><td>199</td><td>       NA</td><td>0</td><td>0</td><td>0</td><td>4855</td><td>0</td><td>4855</td><td>0</td></tr>\n",
              "\t<tr><td>全国</td><td>2020-04-25</td><td>TOTAL/AVE</td><td>全国</td><td>全国</td><td>127138033</td><td>13031</td><td>346</td><td>       NA</td><td>0</td><td>0</td><td>0</td><td>4855</td><td>0</td><td>4855</td><td>0</td></tr>\n",
              "\t<tr><td>全国</td><td>2020-04-24</td><td>TOTAL/AVE</td><td>全国</td><td>全国</td><td>127138033</td><td>12681</td><td>423</td><td>       NA</td><td>0</td><td>0</td><td>0</td><td>4855</td><td>0</td><td>4855</td><td>0</td></tr>\n",
              "\t<tr><td>全国</td><td>2020-04-23</td><td>TOTAL/AVE</td><td>全国</td><td>全国</td><td>127138033</td><td>12240</td><td>434</td><td>       NA</td><td>0</td><td>0</td><td>0</td><td>4855</td><td>0</td><td>4855</td><td>0</td></tr>\n",
              "\t<tr><td>全国</td><td>2020-04-22</td><td>TOTAL/AVE</td><td>全国</td><td>全国</td><td>127138033</td><td>11772</td><td>420</td><td>       NA</td><td>0</td><td>0</td><td>0</td><td>4855</td><td>0</td><td>4855</td><td>0</td></tr>\n",
              "\t<tr><td>全国</td><td>2020-04-21</td><td>TOTAL/AVE</td><td>全国</td><td>全国</td><td>127138033</td><td>11350</td><td>370</td><td>       NA</td><td>0</td><td>0</td><td>0</td><td>4855</td><td>0</td><td>4855</td><td>0</td></tr>\n",
              "</tbody>\n",
              "</table>\n"
            ]
          },
          "metadata": {
            "tags": []
          }
        }
      ]
    },
    {
      "cell_type": "markdown",
      "metadata": {
        "id": "Jnnzgc9c3SsS"
      },
      "source": [
        "### 7.5. 人口比にする\n",
        "\n",
        "都道府県どうしの比較をするために、実数だけでなく、人口比も知りたくなります。\n",
        "各県の接種と感染の数値データを、その県の人口で割って比率を出します。ここでは、定数を掛けて、人口10万人あたりの数にしています。"
      ]
    },
    {
      "cell_type": "code",
      "metadata": {
        "id": "-oumEUNWP_lM",
        "colab": {
          "base_uri": "https://localhost:8080/",
          "height": 1000
        },
        "outputId": "65664acc-a7ff-48ab-da05-bf3b31eb353d"
      },
      "source": [
        "# 日付と数値データを県ごとに畳む。\n",
        "joined_data_w0 <-\n",
        "    joined_data_w0 %>%\n",
        "# 県ごとの小分けtibbleになる部分。\n",
        "    nest(data_by_pref = c(\n",
        "        date,\n",
        "        new_patients,\n",
        "        patients_ma7,\n",
        "        sum_patients,\n",
        "# status区分を追加した。\n",
        "        status1,\n",
        "        status2,\n",
        "        status_all,\n",
        "        total_status1,\n",
        "        total_status2,\n",
        "        total_status_all,\n",
        "        cum_vaccinations\n",
        "        )\n",
        "    ) \n",
        "\n",
        "# 県ごとのデータを、その県の人口で割って比率を計算するファンクション。\n",
        "# 人口10万人あたり、にしている。rをつけたカラムが人口比。\n",
        "calc_ratio <- function(nested_df, divisor){\n",
        "    const = 100000\n",
        "    return(\n",
        "        nested_df %>% mutate(\n",
        "            \"r_new_patients\"        = new_patients          / divisor * const,\n",
        "            \"r_patients_ma7\"        = patients_ma7          / divisor * const,\n",
        "            \"r_sum_patients\"        = sum_patients          / divisor * const,\n",
        "            \"r_status1\"             = status1               / divisor * const,\n",
        "            \"r_status2\"             = status2               / divisor * const, \n",
        "            \"r_status_all\"          = status_all            / divisor * const,\n",
        "            \"r_total_status1\"      = total_status1          / divisor * const,\n",
        "            \"r_total_status2\"      = total_status2          / divisor * const,\n",
        "            \"r_total_status_all\"      = total_status_all    / divisor * const,\n",
        "            \"r_cum_vaccinations\"    = cum_vaccinations      / divisor * const\n",
        "        ) %>%\n",
        "# 念のため、日付降順（最新日付が上）に来るようにソートしておく。\n",
        "    arrange(desc(date))\n",
        "    )\n",
        "}\n",
        "# これに限らずだが、とくにこのファンクション、松波さんのアドバイスに深謝！\n",
        "\n",
        "joined_data_ratio <- joined_data_w0 %>% \n",
        "    mutate(\n",
        "# さっきのファンクションに働いてもらう。\n",
        "        data_by_pref = map2(data_by_pref, population, calc_ratio)\n",
        "    ) %>%\n",
        "# 念のため、県コードの順にソートしておく。\n",
        "    arrange(prefecture)\n",
        "\n",
        "# ネストを解除する。\n",
        "joined_data_ratio <- joined_data_ratio %>% \n",
        "    unnest(cols = data_by_pref)\n",
        "\n",
        "# こうなった。\n",
        "str(joined_data_ratio)\n",
        "head(joined_data_ratio)\n",
        "tail(joined_data_ratio)\n",
        "summary(joined_data_ratio)"
      ],
      "execution_count": null,
      "outputs": [
        {
          "output_type": "stream",
          "text": [
            "tibble [21,746 × 26] (S3: tbl_df/tbl/data.frame)\n",
            " $ prefecture        : Factor w/ 48 levels \"北海道\",\"青森県\",..: 1 1 1 1 1 1 1 1 1 1 ...\n",
            " $ code              : Factor w/ 48 levels \"01\",\"02\",\"03\",..: 1 1 1 1 1 1 1 1 1 1 ...\n",
            " $ prefecture_short  : Factor w/ 48 levels \"北海道\",\"青森\",..: 1 1 1 1 1 1 1 1 1 1 ...\n",
            " $ block             : Factor w/ 9 levels \"北海道・東北\",..: 1 1 1 1 1 1 1 1 1 1 ...\n",
            " $ population        : int [1:21746] 5267762 5267762 5267762 5267762 5267762 5267762 5267762 5267762 5267762 5267762 ...\n",
            " $ date              : Date[1:21746], format: \"2021-07-18\" \"2021-07-17\" ...\n",
            " $ new_patients      : int [1:21746] 107 111 73 85 75 60 47 56 64 50 ...\n",
            " $ patients_ma7      : num [1:21746] 79.7 72.4 65.7 62.4 59.1 ...\n",
            " $ sum_patients      : int [1:21746] 42386 42279 42168 42095 42010 41935 41875 41828 41772 41708 ...\n",
            " $ status1           : num [1:21746] 12415 14840 15581 17893 21424 ...\n",
            " $ status2           : num [1:21746] 15086 16671 16439 17980 20069 ...\n",
            " $ status_all        : num [1:21746] 27501 31511 32020 35873 41493 ...\n",
            " $ total_status1     : num [1:21746] 1518458 1506043 1491203 1475622 1457729 ...\n",
            " $ total_status2     : num [1:21746] 859816 844730 828059 811620 793640 ...\n",
            " $ total_status_all  : num [1:21746] 2378274 2350773 2319262 2287242 2251369 ...\n",
            " $ cum_vaccinations  : num [1:21746] 2350773 2319262 2287242 2251369 2209876 ...\n",
            " $ r_new_patients    : num [1:21746] 2.03 2.11 1.39 1.61 1.42 ...\n",
            " $ r_patients_ma7    : num [1:21746] 1.51 1.37 1.25 1.19 1.12 ...\n",
            " $ r_sum_patients    : num [1:21746] 805 803 800 799 797 ...\n",
            " $ r_status1         : num [1:21746] 236 282 296 340 407 ...\n",
            " $ r_status2         : num [1:21746] 286 316 312 341 381 ...\n",
            " $ r_status_all      : num [1:21746] 522 598 608 681 788 ...\n",
            " $ r_total_status1   : num [1:21746] 28825 28590 28308 28012 27673 ...\n",
            " $ r_total_status2   : num [1:21746] 16322 16036 15719 15407 15066 ...\n",
            " $ r_total_status_all: num [1:21746] 45148 44626 44027 43420 42739 ...\n",
            " $ r_cum_vaccinations: num [1:21746] 44626 44027 43420 42739 41951 ...\n"
          ],
          "name": "stdout"
        },
        {
          "output_type": "display_data",
          "data": {
            "text/plain": [
              "  prefecture code prefecture_short block        population date      \n",
              "1 北海道     01   北海道           北海道・東北 5267762    2021-07-18\n",
              "2 北海道     01   北海道           北海道・東北 5267762    2021-07-17\n",
              "3 北海道     01   北海道           北海道・東北 5267762    2021-07-16\n",
              "4 北海道     01   北海道           北海道・東北 5267762    2021-07-15\n",
              "5 北海道     01   北海道           北海道・東北 5267762    2021-07-14\n",
              "6 北海道     01   北海道           北海道・東北 5267762    2021-07-13\n",
              "  new_patients patients_ma7 sum_patients status1 ⋯ r_new_patients\n",
              "1 107          79.71429     42386        12415   ⋯ 2.031223      \n",
              "2 111          72.42857     42279        14840   ⋯ 2.107157      \n",
              "3  73          65.71429     42168        15581   ⋯ 1.385788      \n",
              "4  85          62.42857     42095        17893   ⋯ 1.613588      \n",
              "5  75          59.14286     42010        21424   ⋯ 1.423755      \n",
              "6  60          58.00000     41935        21273   ⋯ 1.139004      \n",
              "  r_patients_ma7 r_sum_patients r_status1 r_status2 r_status_all\n",
              "1 1.513248       804.6301       235.6788  286.3835  522.0623    \n",
              "2 1.374940       802.5989       281.7136  316.4722  598.1857    \n",
              "3 1.247480       800.4917       295.7803  312.0680  607.8483    \n",
              "4 1.185106       799.1060       339.6699  341.3214  680.9913    \n",
              "5 1.122732       797.4924       406.7002  380.9777  787.6780    \n",
              "6 1.101037       796.0686       403.8337  416.0401  819.8738    \n",
              "  r_total_status1 r_total_status2 r_total_status_all r_cum_vaccinations\n",
              "1 28825.49        16322.23        45147.71           44625.65          \n",
              "2 28589.81        16035.84        44625.65           44027.46          \n",
              "3 28308.09        15719.37        44027.46           43419.62          \n",
              "4 28012.31        15407.30        43419.62           42738.62          \n",
              "5 27672.64        15065.98        42738.62           41950.95          \n",
              "6 27265.94        14685.00        41950.95           41131.07          "
            ],
            "text/latex": "A tibble: 6 × 26\n\\begin{tabular}{lllllllllllllllllllll}\n prefecture & code & prefecture\\_short & block & population & date & new\\_patients & patients\\_ma7 & sum\\_patients & status1 & ⋯ & r\\_new\\_patients & r\\_patients\\_ma7 & r\\_sum\\_patients & r\\_status1 & r\\_status2 & r\\_status\\_all & r\\_total\\_status1 & r\\_total\\_status2 & r\\_total\\_status\\_all & r\\_cum\\_vaccinations\\\\\n <fct> & <fct> & <fct> & <fct> & <int> & <date> & <int> & <dbl> & <int> & <dbl> & ⋯ & <dbl> & <dbl> & <dbl> & <dbl> & <dbl> & <dbl> & <dbl> & <dbl> & <dbl> & <dbl>\\\\\n\\hline\n\t 北海道 & 01 & 北海道 & 北海道・東北 & 5267762 & 2021-07-18 & 107 & 79.71429 & 42386 & 12415 & ⋯ & 2.031223 & 1.513248 & 804.6301 & 235.6788 & 286.3835 & 522.0623 & 28825.49 & 16322.23 & 45147.71 & 44625.65\\\\\n\t 北海道 & 01 & 北海道 & 北海道・東北 & 5267762 & 2021-07-17 & 111 & 72.42857 & 42279 & 14840 & ⋯ & 2.107157 & 1.374940 & 802.5989 & 281.7136 & 316.4722 & 598.1857 & 28589.81 & 16035.84 & 44625.65 & 44027.46\\\\\n\t 北海道 & 01 & 北海道 & 北海道・東北 & 5267762 & 2021-07-16 &  73 & 65.71429 & 42168 & 15581 & ⋯ & 1.385788 & 1.247480 & 800.4917 & 295.7803 & 312.0680 & 607.8483 & 28308.09 & 15719.37 & 44027.46 & 43419.62\\\\\n\t 北海道 & 01 & 北海道 & 北海道・東北 & 5267762 & 2021-07-15 &  85 & 62.42857 & 42095 & 17893 & ⋯ & 1.613588 & 1.185106 & 799.1060 & 339.6699 & 341.3214 & 680.9913 & 28012.31 & 15407.30 & 43419.62 & 42738.62\\\\\n\t 北海道 & 01 & 北海道 & 北海道・東北 & 5267762 & 2021-07-14 &  75 & 59.14286 & 42010 & 21424 & ⋯ & 1.423755 & 1.122732 & 797.4924 & 406.7002 & 380.9777 & 787.6780 & 27672.64 & 15065.98 & 42738.62 & 41950.95\\\\\n\t 北海道 & 01 & 北海道 & 北海道・東北 & 5267762 & 2021-07-13 &  60 & 58.00000 & 41935 & 21273 & ⋯ & 1.139004 & 1.101037 & 796.0686 & 403.8337 & 416.0401 & 819.8738 & 27265.94 & 14685.00 & 41950.95 & 41131.07\\\\\n\\end{tabular}\n",
            "text/markdown": "\nA tibble: 6 × 26\n\n| prefecture &lt;fct&gt; | code &lt;fct&gt; | prefecture_short &lt;fct&gt; | block &lt;fct&gt; | population &lt;int&gt; | date &lt;date&gt; | new_patients &lt;int&gt; | patients_ma7 &lt;dbl&gt; | sum_patients &lt;int&gt; | status1 &lt;dbl&gt; | ⋯ ⋯ | r_new_patients &lt;dbl&gt; | r_patients_ma7 &lt;dbl&gt; | r_sum_patients &lt;dbl&gt; | r_status1 &lt;dbl&gt; | r_status2 &lt;dbl&gt; | r_status_all &lt;dbl&gt; | r_total_status1 &lt;dbl&gt; | r_total_status2 &lt;dbl&gt; | r_total_status_all &lt;dbl&gt; | r_cum_vaccinations &lt;dbl&gt; |\n|---|---|---|---|---|---|---|---|---|---|---|---|---|---|---|---|---|---|---|---|---|\n| 北海道 | 01 | 北海道 | 北海道・東北 | 5267762 | 2021-07-18 | 107 | 79.71429 | 42386 | 12415 | ⋯ | 2.031223 | 1.513248 | 804.6301 | 235.6788 | 286.3835 | 522.0623 | 28825.49 | 16322.23 | 45147.71 | 44625.65 |\n| 北海道 | 01 | 北海道 | 北海道・東北 | 5267762 | 2021-07-17 | 111 | 72.42857 | 42279 | 14840 | ⋯ | 2.107157 | 1.374940 | 802.5989 | 281.7136 | 316.4722 | 598.1857 | 28589.81 | 16035.84 | 44625.65 | 44027.46 |\n| 北海道 | 01 | 北海道 | 北海道・東北 | 5267762 | 2021-07-16 |  73 | 65.71429 | 42168 | 15581 | ⋯ | 1.385788 | 1.247480 | 800.4917 | 295.7803 | 312.0680 | 607.8483 | 28308.09 | 15719.37 | 44027.46 | 43419.62 |\n| 北海道 | 01 | 北海道 | 北海道・東北 | 5267762 | 2021-07-15 |  85 | 62.42857 | 42095 | 17893 | ⋯ | 1.613588 | 1.185106 | 799.1060 | 339.6699 | 341.3214 | 680.9913 | 28012.31 | 15407.30 | 43419.62 | 42738.62 |\n| 北海道 | 01 | 北海道 | 北海道・東北 | 5267762 | 2021-07-14 |  75 | 59.14286 | 42010 | 21424 | ⋯ | 1.423755 | 1.122732 | 797.4924 | 406.7002 | 380.9777 | 787.6780 | 27672.64 | 15065.98 | 42738.62 | 41950.95 |\n| 北海道 | 01 | 北海道 | 北海道・東北 | 5267762 | 2021-07-13 |  60 | 58.00000 | 41935 | 21273 | ⋯ | 1.139004 | 1.101037 | 796.0686 | 403.8337 | 416.0401 | 819.8738 | 27265.94 | 14685.00 | 41950.95 | 41131.07 |\n\n",
            "text/html": [
              "<table class=\"dataframe\">\n",
              "<caption>A tibble: 6 × 26</caption>\n",
              "<thead>\n",
              "\t<tr><th scope=col>prefecture</th><th scope=col>code</th><th scope=col>prefecture_short</th><th scope=col>block</th><th scope=col>population</th><th scope=col>date</th><th scope=col>new_patients</th><th scope=col>patients_ma7</th><th scope=col>sum_patients</th><th scope=col>status1</th><th scope=col>⋯</th><th scope=col>r_new_patients</th><th scope=col>r_patients_ma7</th><th scope=col>r_sum_patients</th><th scope=col>r_status1</th><th scope=col>r_status2</th><th scope=col>r_status_all</th><th scope=col>r_total_status1</th><th scope=col>r_total_status2</th><th scope=col>r_total_status_all</th><th scope=col>r_cum_vaccinations</th></tr>\n",
              "\t<tr><th scope=col>&lt;fct&gt;</th><th scope=col>&lt;fct&gt;</th><th scope=col>&lt;fct&gt;</th><th scope=col>&lt;fct&gt;</th><th scope=col>&lt;int&gt;</th><th scope=col>&lt;date&gt;</th><th scope=col>&lt;int&gt;</th><th scope=col>&lt;dbl&gt;</th><th scope=col>&lt;int&gt;</th><th scope=col>&lt;dbl&gt;</th><th scope=col>⋯</th><th scope=col>&lt;dbl&gt;</th><th scope=col>&lt;dbl&gt;</th><th scope=col>&lt;dbl&gt;</th><th scope=col>&lt;dbl&gt;</th><th scope=col>&lt;dbl&gt;</th><th scope=col>&lt;dbl&gt;</th><th scope=col>&lt;dbl&gt;</th><th scope=col>&lt;dbl&gt;</th><th scope=col>&lt;dbl&gt;</th><th scope=col>&lt;dbl&gt;</th></tr>\n",
              "</thead>\n",
              "<tbody>\n",
              "\t<tr><td>北海道</td><td>01</td><td>北海道</td><td>北海道・東北</td><td>5267762</td><td>2021-07-18</td><td>107</td><td>79.71429</td><td>42386</td><td>12415</td><td>⋯</td><td>2.031223</td><td>1.513248</td><td>804.6301</td><td>235.6788</td><td>286.3835</td><td>522.0623</td><td>28825.49</td><td>16322.23</td><td>45147.71</td><td>44625.65</td></tr>\n",
              "\t<tr><td>北海道</td><td>01</td><td>北海道</td><td>北海道・東北</td><td>5267762</td><td>2021-07-17</td><td>111</td><td>72.42857</td><td>42279</td><td>14840</td><td>⋯</td><td>2.107157</td><td>1.374940</td><td>802.5989</td><td>281.7136</td><td>316.4722</td><td>598.1857</td><td>28589.81</td><td>16035.84</td><td>44625.65</td><td>44027.46</td></tr>\n",
              "\t<tr><td>北海道</td><td>01</td><td>北海道</td><td>北海道・東北</td><td>5267762</td><td>2021-07-16</td><td> 73</td><td>65.71429</td><td>42168</td><td>15581</td><td>⋯</td><td>1.385788</td><td>1.247480</td><td>800.4917</td><td>295.7803</td><td>312.0680</td><td>607.8483</td><td>28308.09</td><td>15719.37</td><td>44027.46</td><td>43419.62</td></tr>\n",
              "\t<tr><td>北海道</td><td>01</td><td>北海道</td><td>北海道・東北</td><td>5267762</td><td>2021-07-15</td><td> 85</td><td>62.42857</td><td>42095</td><td>17893</td><td>⋯</td><td>1.613588</td><td>1.185106</td><td>799.1060</td><td>339.6699</td><td>341.3214</td><td>680.9913</td><td>28012.31</td><td>15407.30</td><td>43419.62</td><td>42738.62</td></tr>\n",
              "\t<tr><td>北海道</td><td>01</td><td>北海道</td><td>北海道・東北</td><td>5267762</td><td>2021-07-14</td><td> 75</td><td>59.14286</td><td>42010</td><td>21424</td><td>⋯</td><td>1.423755</td><td>1.122732</td><td>797.4924</td><td>406.7002</td><td>380.9777</td><td>787.6780</td><td>27672.64</td><td>15065.98</td><td>42738.62</td><td>41950.95</td></tr>\n",
              "\t<tr><td>北海道</td><td>01</td><td>北海道</td><td>北海道・東北</td><td>5267762</td><td>2021-07-13</td><td> 60</td><td>58.00000</td><td>41935</td><td>21273</td><td>⋯</td><td>1.139004</td><td>1.101037</td><td>796.0686</td><td>403.8337</td><td>416.0401</td><td>819.8738</td><td>27265.94</td><td>14685.00</td><td>41950.95</td><td>41131.07</td></tr>\n",
              "</tbody>\n",
              "</table>\n"
            ]
          },
          "metadata": {
            "tags": []
          }
        },
        {
          "output_type": "display_data",
          "data": {
            "text/plain": [
              "  prefecture code      prefecture_short block population date      \n",
              "1 全国       TOTAL/AVE 全国             全国  127138033  2020-04-26\n",
              "2 全国       TOTAL/AVE 全国             全国  127138033  2020-04-25\n",
              "3 全国       TOTAL/AVE 全国             全国  127138033  2020-04-24\n",
              "4 全国       TOTAL/AVE 全国             全国  127138033  2020-04-23\n",
              "5 全国       TOTAL/AVE 全国             全国  127138033  2020-04-22\n",
              "6 全国       TOTAL/AVE 全国             全国  127138033  2020-04-21\n",
              "  new_patients patients_ma7 sum_patients status1 ⋯ r_new_patients\n",
              "1 199          NA           13232        0       ⋯ 0.1565228     \n",
              "2 346          NA           13031        0       ⋯ 0.2721452     \n",
              "3 423          NA           12681        0       ⋯ 0.3327093     \n",
              "4 434          NA           12240        0       ⋯ 0.3413613     \n",
              "5 420          NA           11772        0       ⋯ 0.3303496     \n",
              "6 370          NA           11350        0       ⋯ 0.2910223     \n",
              "  r_patients_ma7 r_sum_patients r_status1 r_status2 r_status_all\n",
              "1 NA             10.407586      0         0         0           \n",
              "2 NA             10.249490      0         0         0           \n",
              "3 NA              9.974199      0         0         0           \n",
              "4 NA              9.627332      0         0         0           \n",
              "5 NA              9.259228      0         0         0           \n",
              "6 NA              8.927305      0         0         0           \n",
              "  r_total_status1 r_total_status2 r_total_status_all r_cum_vaccinations\n",
              "1 3.818684        0               3.818684           0                 \n",
              "2 3.818684        0               3.818684           0                 \n",
              "3 3.818684        0               3.818684           0                 \n",
              "4 3.818684        0               3.818684           0                 \n",
              "5 3.818684        0               3.818684           0                 \n",
              "6 3.818684        0               3.818684           0                 "
            ],
            "text/latex": "A tibble: 6 × 26\n\\begin{tabular}{lllllllllllllllllllll}\n prefecture & code & prefecture\\_short & block & population & date & new\\_patients & patients\\_ma7 & sum\\_patients & status1 & ⋯ & r\\_new\\_patients & r\\_patients\\_ma7 & r\\_sum\\_patients & r\\_status1 & r\\_status2 & r\\_status\\_all & r\\_total\\_status1 & r\\_total\\_status2 & r\\_total\\_status\\_all & r\\_cum\\_vaccinations\\\\\n <fct> & <fct> & <fct> & <fct> & <int> & <date> & <int> & <dbl> & <int> & <dbl> & ⋯ & <dbl> & <dbl> & <dbl> & <dbl> & <dbl> & <dbl> & <dbl> & <dbl> & <dbl> & <dbl>\\\\\n\\hline\n\t 全国 & TOTAL/AVE & 全国 & 全国 & 127138033 & 2020-04-26 & 199 & NA & 13232 & 0 & ⋯ & 0.1565228 & NA & 10.407586 & 0 & 0 & 0 & 3.818684 & 0 & 3.818684 & 0\\\\\n\t 全国 & TOTAL/AVE & 全国 & 全国 & 127138033 & 2020-04-25 & 346 & NA & 13031 & 0 & ⋯ & 0.2721452 & NA & 10.249490 & 0 & 0 & 0 & 3.818684 & 0 & 3.818684 & 0\\\\\n\t 全国 & TOTAL/AVE & 全国 & 全国 & 127138033 & 2020-04-24 & 423 & NA & 12681 & 0 & ⋯ & 0.3327093 & NA &  9.974199 & 0 & 0 & 0 & 3.818684 & 0 & 3.818684 & 0\\\\\n\t 全国 & TOTAL/AVE & 全国 & 全国 & 127138033 & 2020-04-23 & 434 & NA & 12240 & 0 & ⋯ & 0.3413613 & NA &  9.627332 & 0 & 0 & 0 & 3.818684 & 0 & 3.818684 & 0\\\\\n\t 全国 & TOTAL/AVE & 全国 & 全国 & 127138033 & 2020-04-22 & 420 & NA & 11772 & 0 & ⋯ & 0.3303496 & NA &  9.259228 & 0 & 0 & 0 & 3.818684 & 0 & 3.818684 & 0\\\\\n\t 全国 & TOTAL/AVE & 全国 & 全国 & 127138033 & 2020-04-21 & 370 & NA & 11350 & 0 & ⋯ & 0.2910223 & NA &  8.927305 & 0 & 0 & 0 & 3.818684 & 0 & 3.818684 & 0\\\\\n\\end{tabular}\n",
            "text/markdown": "\nA tibble: 6 × 26\n\n| prefecture &lt;fct&gt; | code &lt;fct&gt; | prefecture_short &lt;fct&gt; | block &lt;fct&gt; | population &lt;int&gt; | date &lt;date&gt; | new_patients &lt;int&gt; | patients_ma7 &lt;dbl&gt; | sum_patients &lt;int&gt; | status1 &lt;dbl&gt; | ⋯ ⋯ | r_new_patients &lt;dbl&gt; | r_patients_ma7 &lt;dbl&gt; | r_sum_patients &lt;dbl&gt; | r_status1 &lt;dbl&gt; | r_status2 &lt;dbl&gt; | r_status_all &lt;dbl&gt; | r_total_status1 &lt;dbl&gt; | r_total_status2 &lt;dbl&gt; | r_total_status_all &lt;dbl&gt; | r_cum_vaccinations &lt;dbl&gt; |\n|---|---|---|---|---|---|---|---|---|---|---|---|---|---|---|---|---|---|---|---|---|\n| 全国 | TOTAL/AVE | 全国 | 全国 | 127138033 | 2020-04-26 | 199 | NA | 13232 | 0 | ⋯ | 0.1565228 | NA | 10.407586 | 0 | 0 | 0 | 3.818684 | 0 | 3.818684 | 0 |\n| 全国 | TOTAL/AVE | 全国 | 全国 | 127138033 | 2020-04-25 | 346 | NA | 13031 | 0 | ⋯ | 0.2721452 | NA | 10.249490 | 0 | 0 | 0 | 3.818684 | 0 | 3.818684 | 0 |\n| 全国 | TOTAL/AVE | 全国 | 全国 | 127138033 | 2020-04-24 | 423 | NA | 12681 | 0 | ⋯ | 0.3327093 | NA |  9.974199 | 0 | 0 | 0 | 3.818684 | 0 | 3.818684 | 0 |\n| 全国 | TOTAL/AVE | 全国 | 全国 | 127138033 | 2020-04-23 | 434 | NA | 12240 | 0 | ⋯ | 0.3413613 | NA |  9.627332 | 0 | 0 | 0 | 3.818684 | 0 | 3.818684 | 0 |\n| 全国 | TOTAL/AVE | 全国 | 全国 | 127138033 | 2020-04-22 | 420 | NA | 11772 | 0 | ⋯ | 0.3303496 | NA |  9.259228 | 0 | 0 | 0 | 3.818684 | 0 | 3.818684 | 0 |\n| 全国 | TOTAL/AVE | 全国 | 全国 | 127138033 | 2020-04-21 | 370 | NA | 11350 | 0 | ⋯ | 0.2910223 | NA |  8.927305 | 0 | 0 | 0 | 3.818684 | 0 | 3.818684 | 0 |\n\n",
            "text/html": [
              "<table class=\"dataframe\">\n",
              "<caption>A tibble: 6 × 26</caption>\n",
              "<thead>\n",
              "\t<tr><th scope=col>prefecture</th><th scope=col>code</th><th scope=col>prefecture_short</th><th scope=col>block</th><th scope=col>population</th><th scope=col>date</th><th scope=col>new_patients</th><th scope=col>patients_ma7</th><th scope=col>sum_patients</th><th scope=col>status1</th><th scope=col>⋯</th><th scope=col>r_new_patients</th><th scope=col>r_patients_ma7</th><th scope=col>r_sum_patients</th><th scope=col>r_status1</th><th scope=col>r_status2</th><th scope=col>r_status_all</th><th scope=col>r_total_status1</th><th scope=col>r_total_status2</th><th scope=col>r_total_status_all</th><th scope=col>r_cum_vaccinations</th></tr>\n",
              "\t<tr><th scope=col>&lt;fct&gt;</th><th scope=col>&lt;fct&gt;</th><th scope=col>&lt;fct&gt;</th><th scope=col>&lt;fct&gt;</th><th scope=col>&lt;int&gt;</th><th scope=col>&lt;date&gt;</th><th scope=col>&lt;int&gt;</th><th scope=col>&lt;dbl&gt;</th><th scope=col>&lt;int&gt;</th><th scope=col>&lt;dbl&gt;</th><th scope=col>⋯</th><th scope=col>&lt;dbl&gt;</th><th scope=col>&lt;dbl&gt;</th><th scope=col>&lt;dbl&gt;</th><th scope=col>&lt;dbl&gt;</th><th scope=col>&lt;dbl&gt;</th><th scope=col>&lt;dbl&gt;</th><th scope=col>&lt;dbl&gt;</th><th scope=col>&lt;dbl&gt;</th><th scope=col>&lt;dbl&gt;</th><th scope=col>&lt;dbl&gt;</th></tr>\n",
              "</thead>\n",
              "<tbody>\n",
              "\t<tr><td>全国</td><td>TOTAL/AVE</td><td>全国</td><td>全国</td><td>127138033</td><td>2020-04-26</td><td>199</td><td>NA</td><td>13232</td><td>0</td><td>⋯</td><td>0.1565228</td><td>NA</td><td>10.407586</td><td>0</td><td>0</td><td>0</td><td>3.818684</td><td>0</td><td>3.818684</td><td>0</td></tr>\n",
              "\t<tr><td>全国</td><td>TOTAL/AVE</td><td>全国</td><td>全国</td><td>127138033</td><td>2020-04-25</td><td>346</td><td>NA</td><td>13031</td><td>0</td><td>⋯</td><td>0.2721452</td><td>NA</td><td>10.249490</td><td>0</td><td>0</td><td>0</td><td>3.818684</td><td>0</td><td>3.818684</td><td>0</td></tr>\n",
              "\t<tr><td>全国</td><td>TOTAL/AVE</td><td>全国</td><td>全国</td><td>127138033</td><td>2020-04-24</td><td>423</td><td>NA</td><td>12681</td><td>0</td><td>⋯</td><td>0.3327093</td><td>NA</td><td> 9.974199</td><td>0</td><td>0</td><td>0</td><td>3.818684</td><td>0</td><td>3.818684</td><td>0</td></tr>\n",
              "\t<tr><td>全国</td><td>TOTAL/AVE</td><td>全国</td><td>全国</td><td>127138033</td><td>2020-04-23</td><td>434</td><td>NA</td><td>12240</td><td>0</td><td>⋯</td><td>0.3413613</td><td>NA</td><td> 9.627332</td><td>0</td><td>0</td><td>0</td><td>3.818684</td><td>0</td><td>3.818684</td><td>0</td></tr>\n",
              "\t<tr><td>全国</td><td>TOTAL/AVE</td><td>全国</td><td>全国</td><td>127138033</td><td>2020-04-22</td><td>420</td><td>NA</td><td>11772</td><td>0</td><td>⋯</td><td>0.3303496</td><td>NA</td><td> 9.259228</td><td>0</td><td>0</td><td>0</td><td>3.818684</td><td>0</td><td>3.818684</td><td>0</td></tr>\n",
              "\t<tr><td>全国</td><td>TOTAL/AVE</td><td>全国</td><td>全国</td><td>127138033</td><td>2020-04-21</td><td>370</td><td>NA</td><td>11350</td><td>0</td><td>⋯</td><td>0.2910223</td><td>NA</td><td> 8.927305</td><td>0</td><td>0</td><td>0</td><td>3.818684</td><td>0</td><td>3.818684</td><td>0</td></tr>\n",
              "</tbody>\n",
              "</table>\n"
            ]
          },
          "metadata": {
            "tags": []
          }
        },
        {
          "output_type": "display_data",
          "data": {
            "text/plain": [
              "   prefecture           code       prefecture_short          block     \n",
              " 全国   :  455   TOTAL/AVE:  455   全国   :  455    九州・沖縄  :3624  \n",
              " 北海道 :  453   01       :  453   北海道 :  453    北海道・東北:3171  \n",
              " 青森県 :  453   02       :  453   青森   :  453    関東        :3171  \n",
              " 岩手県 :  453   03       :  453   岩手   :  453    甲信越・北陸:2718  \n",
              " 宮城県 :  453   04       :  453   宮城   :  453    近畿        :2718  \n",
              " 秋田県 :  453   05       :  453   秋田   :  453    中国        :2265  \n",
              " (Other):19026   (Other)  :19026   (Other):19026    (Other)     :4079  \n",
              "   population             date             new_patients      patients_ma7     \n",
              " Min.   :   561175   Min.   :2020-04-21   Min.   :-989.00   Min.   : -94.286  \n",
              " 1st Qu.:  1095903   1st Qu.:2020-08-13   1st Qu.:   0.00   1st Qu.:   0.714  \n",
              " Median :  1769880   Median :2020-12-04   Median :   5.00   Median :   6.143  \n",
              " Mean   :  5308624   Mean   :2020-12-04   Mean   :  76.08   Mean   :  76.103  \n",
              " 3rd Qu.:  2921436   3rd Qu.:2021-03-27   3rd Qu.:  28.00   3rd Qu.:  29.429  \n",
              " Max.   :127138033   Max.   :2021-07-19   Max.   :7844.00   Max.   :6369.143  \n",
              "                                          NA's   :47        NA's   :335       \n",
              "  sum_patients         status1          status2         status_all     \n",
              " Min.   :     0.0   Min.   :     0   Min.   :     0   Min.   :      0  \n",
              " 1st Qu.:   195.0   1st Qu.:     0   1st Qu.:     0   1st Qu.:      0  \n",
              " Median :   931.5   Median :     0   Median :     0   Median :      0  \n",
              " Mean   : 11801.0   Mean   :  3405   Mean   :  2086   Mean   :   5491  \n",
              " 3rd Qu.:  4153.8   3rd Qu.:     0   3rd Qu.:     0   3rd Qu.:      0  \n",
              " Max.   :840657.0   Max.   :739786   Max.   :670809   Max.   :1329598  \n",
              "                                                                       \n",
              " total_status1      total_status2      total_status_all   cum_vaccinations  \n",
              " Min.   :       1   Min.   :       0   Min.   :       1   Min.   :       0  \n",
              " 1st Qu.:      33   1st Qu.:       0   1st Qu.:      33   1st Qu.:       0  \n",
              " Median :      95   Median :       0   Median :      95   Median :       0  \n",
              " Mean   :  112403   Mean   :   46521   Mean   :  158924   Mean   :  153273  \n",
              " 3rd Qu.:     385   3rd Qu.:       0   3rd Qu.:     385   3rd Qu.:       0  \n",
              " Max.   :37111110   Max.   :22849539   Max.   :59960649   Max.   :59446434  \n",
              "                                                                            \n",
              " r_new_patients     r_patients_ma7    r_sum_patients      r_status1     \n",
              " Min.   :-13.7090   Min.   :-1.0238   Min.   :   0.00   Min.   :   0.0  \n",
              " 1st Qu.:  0.0000   1st Qu.: 0.0518   1st Qu.:  14.14   1st Qu.:   0.0  \n",
              " Median :  0.2920   Median : 0.3689   Median :  54.16   Median :   0.0  \n",
              " Mean   :  0.9394   Mean   : 0.9415   Mean   : 138.30   Mean   :  68.5  \n",
              " 3rd Qu.:  1.1538   3rd Qu.: 1.1925   3rd Qu.: 186.79   3rd Qu.:   0.0  \n",
              " Max.   : 22.6115   Max.   :17.9253   Max.   :1472.24   Max.   :1973.2  \n",
              " NA's   :47         NA's   :335                                         \n",
              "   r_status2       r_status_all    r_total_status1    r_total_status2  \n",
              " Min.   :   0.0   Min.   :   0.0   Min.   :    0.04   Min.   :    0.0  \n",
              " 1st Qu.:   0.0   1st Qu.:   0.0   1st Qu.:    2.11   1st Qu.:    0.0  \n",
              " Median :   0.0   Median :   0.0   Median :    4.37   Median :    0.0  \n",
              " Mean   :  42.9   Mean   : 111.4   Mean   : 2298.18   Mean   :  987.3  \n",
              " 3rd Qu.:   0.0   3rd Qu.:   0.0   3rd Qu.:   15.91   3rd Qu.:    0.0  \n",
              " Max.   :1143.2   Max.   :2296.5   Max.   :38180.50   Max.   :25931.9  \n",
              "                                                                       \n",
              " r_total_status_all r_cum_vaccinations\n",
              " Min.   :    0.04   Min.   :    0     \n",
              " 1st Qu.:    2.11   1st Qu.:    0     \n",
              " Median :    4.37   Median :    0     \n",
              " Mean   : 3285.45   Mean   : 3170     \n",
              " 3rd Qu.:   15.91   3rd Qu.:    0     \n",
              " Max.   :64112.41   Max.   :63234     \n",
              "                                      "
            ]
          },
          "metadata": {
            "tags": []
          }
        }
      ]
    },
    {
      "cell_type": "code",
      "metadata": {
        "id": "HqqcNRIyOSPd"
      },
      "source": [
        "# 不要になったデータは消す。\n",
        "rm(vaccinations, patients, rows_w_na, pref_pop, joined_data)\n",
        "\n",
        "# 日付によるフィルターをここに引っ越した\n",
        "# Longは2020年からの感染者数グラフ用\n",
        "joined_data_ratio_Long <- joined_data_ratio\n",
        "joined_data_ratio <- joined_data_ratio %>%\n",
        "    filter(date >= ymd(\"2021-4-12\"))"
      ],
      "execution_count": null,
      "outputs": []
    },
    {
      "cell_type": "markdown",
      "metadata": {
        "id": "OeEL7cy83yBz"
      },
      "source": [
        "## 8.CSVを書き出す\n"
      ]
    },
    {
      "cell_type": "markdown",
      "metadata": {
        "id": "y-utzG4d37s-"
      },
      "source": [
        "最後に、処理したデータをcsv（コンマ区切り形式）のファイルに書き出して、終了です。書き出す前に、あらかじめrenameでカラム名を日本語に直してもよいでしょう。\n",
        "\n",
        "Colabの場合は、画面左端の上から４番目あたりにある、ファイルのアイコンを押すと、「processed_data.csv」というファイルができあがっているのが見えるはずです。右クリック、または縦に３つ並んだ点のマークを押すと、ダウンロードが選べます。ローカルなら、お使いのPCに直接セーブされます。\n",
        "\n",
        "csvは、開き方によっては、文字化けすることがあります。エンコードを調べてみて下さい。S-JISで開こうとして化けていたら、UTF-8を指定して下さい。\n"
      ]
    },
    {
      "cell_type": "markdown",
      "metadata": {
        "id": "fd-xJwRU-GjQ"
      },
      "source": [
        ""
      ]
    },
    {
      "cell_type": "code",
      "metadata": {
        "id": "n_ZvGnxK3xnV"
      },
      "source": [
        "joined_data_ratio %>% write_csv(\"processed_data.csv\")"
      ],
      "execution_count": null,
      "outputs": []
    },
    {
      "cell_type": "markdown",
      "metadata": {
        "id": "t4b3Rkzt5Brt"
      },
      "source": [
        "あとは、このデータをFlourishに渡してやるだけです。\n",
        "\n",
        "同じデータの見せ方を変えているだけなのですが、ラベルなどの手直しを不要にしたいので、動くチャートと、折れ線・積み上げ棒グラフ用に、別々に書き出しておきましょう。\n"
      ]
    },
    {
      "cell_type": "code",
      "metadata": {
        "id": "2dyy5jwh1-oT"
      },
      "source": [
        "xy_chart <- joined_data_ratio %>% \n",
        "    select(\n",
        "        \"都道府県名\"        = prefecture_short,\n",
        "        \"都道府県コード\"    = code,\n",
        "        \"地方\"              = block,\n",
        "        \"日付\"              = date,\n",
        "        \"新規感染者の７日移動平均\"\n",
        "                            = r_patients_ma7,\n",
        "        \"接種累計（いずれも人口10万人あたり）\"\n",
        "                            = r_total_status_all\n",
        "    )\n",
        "xy_chart <- xy_chart %>%\n",
        "    group_by(日付) %>%\n",
        "    filter(n() > 1) %>%\n",
        "    ungroup() %>%\n",
        "    arrange(日付)\n",
        "\n",
        "xy_chart %>% write_csv(\"data_for_xy_chart.csv\")\n",
        "\n",
        "bar_and_line_Long <- joined_data_ratio_Long %>%\n",
        "    mutate(\n",
        "        r_cum_status1 = r_total_status1 - r_status1,\n",
        "        r_cum_status2 = r_total_status2 - r_status2\n",
        "    ) %>% \n",
        "    select(\n",
        "        \"都道府県名\"        = prefecture_short,\n",
        "        \"都道府県コード\"    = code,\n",
        "        \"地方\"              = block,\n",
        "        \"日付\"              = date,\n",
        "        \"新規感染者\"        = r_new_patients,\n",
        "        \"７日移動平均\"\n",
        "                            = r_patients_ma7,\n",
        "        \"接種途中（前日までの累計）\" \n",
        "                            = r_cum_status1,\n",
        "        \"接種途中（当日）\"  = r_status1, \n",
        "    \"接種完了（前日までの累計）\" \n",
        "                            = r_cum_status2,\n",
        "    \"接種完了（当日）\"      = r_status2\n",
        "    )\n",
        "bar_and_line_Long %>% write_csv(\"Long_data_for_bar_line_chart.csv\")\n",
        "\n",
        "bar_and_line <- bar_and_line_Long %>%\n",
        "    filter(日付 >= ymd(\"2021-4-12\"))\n",
        "bar_and_line %>% write_csv(\"data_for_bar_line_chart.csv\")\n",
        "\n",
        "violin <- joined_data_ratio %>%\n",
        "    select(\n",
        "        \"都道府県名\"        = prefecture_short,\n",
        "        \"都道府県コード\"    = code,\n",
        "        \"地方\"              = block,\n",
        "        \"日付\"              = date,\n",
        "        \"接種件数の分布（途中・完了の計、人口10万人あたり）\"\n",
        "                            = r_status_all\n",
        "    )\n",
        "violin %>% write_csv(\"data_for_violin_plot.csv\")\n"
      ],
      "execution_count": null,
      "outputs": []
    },
    {
      "cell_type": "markdown",
      "metadata": {
        "id": "aZVPlzlg182h"
      },
      "source": [
        "\n",
        "お疲れさまでした。"
      ]
    }
  ]
}